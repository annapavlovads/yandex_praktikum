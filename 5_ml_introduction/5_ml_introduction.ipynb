{
 "cells": [
  {
   "cell_type": "markdown",
   "metadata": {},
   "source": [
    "# Рекомендация тарифов"
   ]
  },
  {
   "cell_type": "markdown",
   "metadata": {},
   "source": [
    "- В распоряжении есть данные о поведении клиентов, которые уже перешли на эти тарифы (из проекта курса «Статистический анализ данных»). Нужно построить модель для задачи классификации, которая выберет подходящий тариф. Предобработка данных не понадобится — вы её уже сделали.\n",
    "\n",
    "- Необходимо построить модель с максимально большим значением *accuracy*, не менее 0.75. "
   ]
  },
  {
   "cell_type": "code",
   "execution_count": 1,
   "metadata": {},
   "outputs": [],
   "source": [
    "import pandas as pd\n",
    "\n",
    "from sklearn.tree import DecisionTreeClassifier\n",
    "from sklearn.ensemble import RandomForestClassifier\n",
    "from sklearn.linear_model import LogisticRegression  \n",
    "\n",
    "from sklearn.model_selection import train_test_split\n",
    "\n",
    "from sklearn.metrics import accuracy_score\n",
    "from sklearn.metrics import precision_score\n",
    "\n",
    "import seaborn as sns\n",
    "\n",
    "from sklearn.dummy import DummyClassifier\n",
    "\n",
    "pd.set_option('display.max_columns', 40) #макс кол-во колонок в выводимых данных \n",
    "pd.set_option('display.max_rows', 20) #макс кол-во строк в выводимых данных\n",
    "pd.set_option('display.width', 80) #макс кол-во символов в строке\n",
    "\n",
    "%matplotlib inline\n",
    "sns.set(style=\"darkgrid\")\n",
    "\n",
    "import warnings\n",
    "warnings.filterwarnings('ignore')"
   ]
  },
  {
   "cell_type": "markdown",
   "metadata": {},
   "source": [
    "## Изучение данных"
   ]
  },
  {
   "cell_type": "code",
   "execution_count": 2,
   "metadata": {},
   "outputs": [
    {
     "data": {
      "text/html": [
       "<div>\n",
       "<style scoped>\n",
       "    .dataframe tbody tr th:only-of-type {\n",
       "        vertical-align: middle;\n",
       "    }\n",
       "\n",
       "    .dataframe tbody tr th {\n",
       "        vertical-align: top;\n",
       "    }\n",
       "\n",
       "    .dataframe thead th {\n",
       "        text-align: right;\n",
       "    }\n",
       "</style>\n",
       "<table border=\"1\" class=\"dataframe\">\n",
       "  <thead>\n",
       "    <tr style=\"text-align: right;\">\n",
       "      <th></th>\n",
       "      <th>calls</th>\n",
       "      <th>minutes</th>\n",
       "      <th>messages</th>\n",
       "      <th>mb_used</th>\n",
       "      <th>is_ultra</th>\n",
       "    </tr>\n",
       "  </thead>\n",
       "  <tbody>\n",
       "    <tr>\n",
       "      <th>0</th>\n",
       "      <td>40.0</td>\n",
       "      <td>311.90</td>\n",
       "      <td>83.0</td>\n",
       "      <td>19915.42</td>\n",
       "      <td>0</td>\n",
       "    </tr>\n",
       "    <tr>\n",
       "      <th>1</th>\n",
       "      <td>85.0</td>\n",
       "      <td>516.75</td>\n",
       "      <td>56.0</td>\n",
       "      <td>22696.96</td>\n",
       "      <td>0</td>\n",
       "    </tr>\n",
       "    <tr>\n",
       "      <th>2</th>\n",
       "      <td>77.0</td>\n",
       "      <td>467.66</td>\n",
       "      <td>86.0</td>\n",
       "      <td>21060.45</td>\n",
       "      <td>0</td>\n",
       "    </tr>\n",
       "    <tr>\n",
       "      <th>3</th>\n",
       "      <td>106.0</td>\n",
       "      <td>745.53</td>\n",
       "      <td>81.0</td>\n",
       "      <td>8437.39</td>\n",
       "      <td>1</td>\n",
       "    </tr>\n",
       "    <tr>\n",
       "      <th>4</th>\n",
       "      <td>66.0</td>\n",
       "      <td>418.74</td>\n",
       "      <td>1.0</td>\n",
       "      <td>14502.75</td>\n",
       "      <td>0</td>\n",
       "    </tr>\n",
       "    <tr>\n",
       "      <th>5</th>\n",
       "      <td>58.0</td>\n",
       "      <td>344.56</td>\n",
       "      <td>21.0</td>\n",
       "      <td>15823.37</td>\n",
       "      <td>0</td>\n",
       "    </tr>\n",
       "    <tr>\n",
       "      <th>6</th>\n",
       "      <td>57.0</td>\n",
       "      <td>431.64</td>\n",
       "      <td>20.0</td>\n",
       "      <td>3738.90</td>\n",
       "      <td>1</td>\n",
       "    </tr>\n",
       "    <tr>\n",
       "      <th>7</th>\n",
       "      <td>15.0</td>\n",
       "      <td>132.40</td>\n",
       "      <td>6.0</td>\n",
       "      <td>21911.60</td>\n",
       "      <td>0</td>\n",
       "    </tr>\n",
       "    <tr>\n",
       "      <th>8</th>\n",
       "      <td>7.0</td>\n",
       "      <td>43.39</td>\n",
       "      <td>3.0</td>\n",
       "      <td>2538.67</td>\n",
       "      <td>1</td>\n",
       "    </tr>\n",
       "    <tr>\n",
       "      <th>9</th>\n",
       "      <td>90.0</td>\n",
       "      <td>665.41</td>\n",
       "      <td>38.0</td>\n",
       "      <td>17358.61</td>\n",
       "      <td>0</td>\n",
       "    </tr>\n",
       "  </tbody>\n",
       "</table>\n",
       "</div>"
      ],
      "text/plain": [
       "   calls  minutes  messages   mb_used  is_ultra\n",
       "0   40.0   311.90      83.0  19915.42         0\n",
       "1   85.0   516.75      56.0  22696.96         0\n",
       "2   77.0   467.66      86.0  21060.45         0\n",
       "3  106.0   745.53      81.0   8437.39         1\n",
       "4   66.0   418.74       1.0  14502.75         0\n",
       "5   58.0   344.56      21.0  15823.37         0\n",
       "6   57.0   431.64      20.0   3738.90         1\n",
       "7   15.0   132.40       6.0  21911.60         0\n",
       "8    7.0    43.39       3.0   2538.67         1\n",
       "9   90.0   665.41      38.0  17358.61         0"
      ]
     },
     "execution_count": 2,
     "metadata": {},
     "output_type": "execute_result"
    }
   ],
   "source": [
    "try: \n",
    "    df=pd.read_csv('/datasets/users_behavior.csv')\n",
    "except: \n",
    "    df=pd.read_csv('datasets/users_behavior.csv')\n",
    "df.head(10)"
   ]
  },
  {
   "cell_type": "code",
   "execution_count": 3,
   "metadata": {},
   "outputs": [
    {
     "name": "stdout",
     "output_type": "stream",
     "text": [
      "<class 'pandas.core.frame.DataFrame'>\n",
      "RangeIndex: 3214 entries, 0 to 3213\n",
      "Data columns (total 5 columns):\n",
      " #   Column    Non-Null Count  Dtype  \n",
      "---  ------    --------------  -----  \n",
      " 0   calls     3214 non-null   float64\n",
      " 1   minutes   3214 non-null   float64\n",
      " 2   messages  3214 non-null   float64\n",
      " 3   mb_used   3214 non-null   float64\n",
      " 4   is_ultra  3214 non-null   int64  \n",
      "dtypes: float64(4), int64(1)\n",
      "memory usage: 125.7 KB\n"
     ]
    }
   ],
   "source": [
    "df.info()"
   ]
  },
  {
   "cell_type": "code",
   "execution_count": 4,
   "metadata": {},
   "outputs": [
    {
     "data": {
      "text/plain": [
       "0    2229\n",
       "1     985\n",
       "Name: is_ultra, dtype: int64"
      ]
     },
     "execution_count": 4,
     "metadata": {},
     "output_type": "execute_result"
    }
   ],
   "source": [
    "df['is_ultra'].value_counts()"
   ]
  },
  {
   "cell_type": "markdown",
   "metadata": {},
   "source": [
    "is_ultra в данных более, чем в два раза меньше, чем \"не-ультра\", и это повлияет на модели, но несбалансированные данные мы будем рассматривать далее. "
   ]
  },
  {
   "cell_type": "markdown",
   "metadata": {},
   "source": [
    "Исследуем мультиколлинеарность факторов."
   ]
  },
  {
   "cell_type": "code",
   "execution_count": 5,
   "metadata": {},
   "outputs": [
    {
     "data": {
      "text/html": [
       "<div>\n",
       "<style scoped>\n",
       "    .dataframe tbody tr th:only-of-type {\n",
       "        vertical-align: middle;\n",
       "    }\n",
       "\n",
       "    .dataframe tbody tr th {\n",
       "        vertical-align: top;\n",
       "    }\n",
       "\n",
       "    .dataframe thead th {\n",
       "        text-align: right;\n",
       "    }\n",
       "</style>\n",
       "<table border=\"1\" class=\"dataframe\">\n",
       "  <thead>\n",
       "    <tr style=\"text-align: right;\">\n",
       "      <th></th>\n",
       "      <th>calls</th>\n",
       "      <th>minutes</th>\n",
       "      <th>messages</th>\n",
       "      <th>mb_used</th>\n",
       "      <th>is_ultra</th>\n",
       "    </tr>\n",
       "  </thead>\n",
       "  <tbody>\n",
       "    <tr>\n",
       "      <th>calls</th>\n",
       "      <td>1.000000</td>\n",
       "      <td>0.982083</td>\n",
       "      <td>0.177385</td>\n",
       "      <td>0.286442</td>\n",
       "      <td>0.207122</td>\n",
       "    </tr>\n",
       "    <tr>\n",
       "      <th>minutes</th>\n",
       "      <td>0.982083</td>\n",
       "      <td>1.000000</td>\n",
       "      <td>0.173110</td>\n",
       "      <td>0.280967</td>\n",
       "      <td>0.206955</td>\n",
       "    </tr>\n",
       "    <tr>\n",
       "      <th>messages</th>\n",
       "      <td>0.177385</td>\n",
       "      <td>0.173110</td>\n",
       "      <td>1.000000</td>\n",
       "      <td>0.195721</td>\n",
       "      <td>0.203830</td>\n",
       "    </tr>\n",
       "    <tr>\n",
       "      <th>mb_used</th>\n",
       "      <td>0.286442</td>\n",
       "      <td>0.280967</td>\n",
       "      <td>0.195721</td>\n",
       "      <td>1.000000</td>\n",
       "      <td>0.198568</td>\n",
       "    </tr>\n",
       "    <tr>\n",
       "      <th>is_ultra</th>\n",
       "      <td>0.207122</td>\n",
       "      <td>0.206955</td>\n",
       "      <td>0.203830</td>\n",
       "      <td>0.198568</td>\n",
       "      <td>1.000000</td>\n",
       "    </tr>\n",
       "  </tbody>\n",
       "</table>\n",
       "</div>"
      ],
      "text/plain": [
       "             calls   minutes  messages   mb_used  is_ultra\n",
       "calls     1.000000  0.982083  0.177385  0.286442  0.207122\n",
       "minutes   0.982083  1.000000  0.173110  0.280967  0.206955\n",
       "messages  0.177385  0.173110  1.000000  0.195721  0.203830\n",
       "mb_used   0.286442  0.280967  0.195721  1.000000  0.198568\n",
       "is_ultra  0.207122  0.206955  0.203830  0.198568  1.000000"
      ]
     },
     "execution_count": 5,
     "metadata": {},
     "output_type": "execute_result"
    }
   ],
   "source": [
    "df.corr()"
   ]
  },
  {
   "cell_type": "markdown",
   "metadata": {},
   "source": [
    "Мы видим, что взаимосвязть между calls и minutes. Поскольку само по себе количество совершенных звонков не учитывается в тарифе, то не станем рассматривать этот параметр, оставим только количество минут, именно оно влияет на расходы и, соответственно, тариф. "
   ]
  },
  {
   "cell_type": "code",
   "execution_count": 6,
   "metadata": {},
   "outputs": [
    {
     "name": "stderr",
     "output_type": "stream",
     "text": [
      "*c* argument looks like a single numeric RGB or RGBA sequence, which should be avoided as value-mapping will have precedence in case its length matches with *x* & *y*.  Please use the *color* keyword-argument or provide a 2D array with a single row if you intend to specify the same RGB or RGBA value for all points.\n"
     ]
    },
    {
     "data": {
      "text/plain": [
       "<AxesSubplot:xlabel='calls', ylabel='minutes'>"
      ]
     },
     "execution_count": 6,
     "metadata": {},
     "output_type": "execute_result"
    },
    {
     "data": {
      "image/png": "[encoded data removed]",
      "text/plain": [
       "<Figure size 720x432 with 1 Axes>"
      ]
     },
     "metadata": {},
     "output_type": "display_data"
    }
   ],
   "source": [
    "df.plot(x='calls', y='minutes', kind='scatter', figsize=(10, 6))"
   ]
  },
  {
   "cell_type": "code",
   "execution_count": 7,
   "metadata": {},
   "outputs": [],
   "source": [
    "df=df.drop(['calls'], axis=1)"
   ]
  },
  {
   "cell_type": "code",
   "execution_count": 8,
   "metadata": {},
   "outputs": [
    {
     "name": "stdout",
     "output_type": "stream",
     "text": [
      "<class 'pandas.core.frame.DataFrame'>\n",
      "RangeIndex: 3214 entries, 0 to 3213\n",
      "Data columns (total 4 columns):\n",
      " #   Column    Non-Null Count  Dtype  \n",
      "---  ------    --------------  -----  \n",
      " 0   minutes   3214 non-null   float64\n",
      " 1   messages  3214 non-null   float64\n",
      " 2   mb_used   3214 non-null   float64\n",
      " 3   is_ultra  3214 non-null   int64  \n",
      "dtypes: float64(3), int64(1)\n",
      "memory usage: 100.6 KB\n"
     ]
    }
   ],
   "source": [
    "df.info()"
   ]
  },
  {
   "cell_type": "markdown",
   "metadata": {},
   "source": [
    "## Разделение данных на выборки"
   ]
  },
  {
   "cell_type": "markdown",
   "metadata": {},
   "source": [
    "Разделим исходные данные на обучающую, валидационную и тестовую выборки."
   ]
  },
  {
   "cell_type": "code",
   "execution_count": 9,
   "metadata": {},
   "outputs": [],
   "source": [
    "df_other, df_test = train_test_split(df, test_size=0.2, random_state=123456)"
   ]
  },
  {
   "cell_type": "code",
   "execution_count": 10,
   "metadata": {},
   "outputs": [],
   "source": [
    "df_train, df_valid=train_test_split(df_other, test_size=0.25, random_state=123456)"
   ]
  },
  {
   "cell_type": "code",
   "execution_count": 11,
   "metadata": {},
   "outputs": [
    {
     "data": {
      "text/plain": [
       "(1928, 4)"
      ]
     },
     "execution_count": 11,
     "metadata": {},
     "output_type": "execute_result"
    }
   ],
   "source": [
    "df_train.shape"
   ]
  },
  {
   "cell_type": "code",
   "execution_count": 12,
   "metadata": {},
   "outputs": [
    {
     "data": {
      "text/plain": [
       "(643, 4)"
      ]
     },
     "execution_count": 12,
     "metadata": {},
     "output_type": "execute_result"
    }
   ],
   "source": [
    "df_valid.shape"
   ]
  },
  {
   "cell_type": "code",
   "execution_count": 13,
   "metadata": {},
   "outputs": [
    {
     "data": {
      "text/plain": [
       "(643, 4)"
      ]
     },
     "execution_count": 13,
     "metadata": {},
     "output_type": "execute_result"
    }
   ],
   "source": [
    "df_test.shape"
   ]
  },
  {
   "cell_type": "code",
   "execution_count": 14,
   "metadata": {},
   "outputs": [],
   "source": [
    "features_train = df_train.drop(['is_ultra'], axis=1)\n",
    "target_train = df_train['is_ultra']"
   ]
  },
  {
   "cell_type": "code",
   "execution_count": 15,
   "metadata": {},
   "outputs": [],
   "source": [
    "features_valid = df_valid.drop(['is_ultra'], axis=1)\n",
    "target_valid = df_valid['is_ultra']"
   ]
  },
  {
   "cell_type": "code",
   "execution_count": 16,
   "metadata": {},
   "outputs": [],
   "source": [
    "features_test = df_test.drop(['is_ultra'], axis=1)\n",
    "target_test = df_test['is_ultra']"
   ]
  },
  {
   "cell_type": "markdown",
   "metadata": {},
   "source": [
    "## Исследование модели"
   ]
  },
  {
   "cell_type": "markdown",
   "metadata": {},
   "source": [
    "Исследуем качество разных моделей, меняя гиперпараметры."
   ]
  },
  {
   "cell_type": "markdown",
   "metadata": {},
   "source": [
    "### Decision Tree"
   ]
  },
  {
   "cell_type": "markdown",
   "metadata": {},
   "source": [
    "Обучим модель с помощью Decision Tree и посмотрим, как изменится accuracy с изменением max_depth в цикле. "
   ]
  },
  {
   "cell_type": "code",
   "execution_count": 17,
   "metadata": {},
   "outputs": [
    {
     "name": "stdout",
     "output_type": "stream",
     "text": [
      "\n",
      "Accuracy наилучшей модели Decision Tree на валидационной выборке: 0.8040435458786936\n",
      "max_depth лучшей модели Decision Tree на валидационной выборке: 8\n"
     ]
    }
   ],
   "source": [
    "best_decision_tree_model = None\n",
    "best_decision_tree_accuracy = 0\n",
    "best_max_depth = 0\n",
    "for tree_depth in range (1, 11): \n",
    "    decision_tree_model = DecisionTreeClassifier(random_state=123456, max_depth=tree_depth)\n",
    "    decision_tree_model.fit(features_train, target_train)\n",
    "    #decision_tree_model_predictions = decision_tree_model.predict(features_valid)\n",
    "    #decision_tree_model_accuracy = accuracy_score(target_valid, decision_tree_model_predictions)\n",
    "    dicision_tree_model_score=decision_tree_model.score(features_valid, target_valid)\n",
    "    #print('max_depth:', tree_depth, ', accuracy: ', dicision_tree_model_score)\n",
    "    if dicision_tree_model_score > best_decision_tree_accuracy:\n",
    "        best_decision_tree_model = decision_tree_model\n",
    "        best_decision_tree_accuracy = dicision_tree_model_score\n",
    "        best_max_depth=tree_depth\n",
    "print()\n",
    "print(\"Accuracy наилучшей модели Decision Tree на валидационной выборке:\", best_decision_tree_accuracy)\n",
    "print(\"max_depth лучшей модели Decision Tree на валидационной выборке:\", best_max_depth)"
   ]
  },
  {
   "cell_type": "markdown",
   "metadata": {},
   "source": [
    "Лучшая по показателям модель Decision Tree сохранена в __best_decision_tree_model__."
   ]
  },
  {
   "cell_type": "markdown",
   "metadata": {},
   "source": [
    "### Random Forest"
   ]
  },
  {
   "cell_type": "code",
   "execution_count": 18,
   "metadata": {},
   "outputs": [
    {
     "name": "stdout",
     "output_type": "stream",
     "text": [
      "\n",
      "accuracy наилучшей модели на валидационной выборке: 0.8289269051321928\n",
      "n_estimators наилучшей модели на валидационной выборке: 20\n",
      "max_depth наилучшей модели на валидационной выборке: 10\n",
      "max_features наилучшей модели на валидационной выборке: 1\n"
     ]
    }
   ],
   "source": [
    "best_random_forest_model = None\n",
    "best_random_forest_result = 0\n",
    "best_n_estimators = 0\n",
    "best_rf_max_depth = 0\n",
    "best_max_features = 0\n",
    "\n",
    "for est in range(1, 21):\n",
    "    for depth in range (1,21): \n",
    "        for features in range (1,4):\n",
    "            random_forest_model = RandomForestClassifier(random_state=123456, n_estimators=est, max_depth=depth, bootstrap=True, \n",
    "                                                    max_features=features) \n",
    "            random_forest_model.fit(features_train, target_train) \n",
    "            rfm_score=random_forest_model.score(features_valid, target_valid)\n",
    "            if rfm_score > best_random_forest_result:\n",
    "                best_random_forest_model = random_forest_model\n",
    "                best_random_forest_result = rfm_score\n",
    "                best_n_estimators = est\n",
    "                best_rf_max_depth=depth\n",
    "                best_max_features=features\n",
    "\n",
    "print()\n",
    "print(\"accuracy наилучшей модели на валидационной выборке:\", best_random_forest_result)\n",
    "print(\"n_estimators наилучшей модели на валидационной выборке:\", best_n_estimators)\n",
    "print(\"max_depth наилучшей модели на валидационной выборке:\", best_rf_max_depth)\n",
    "print(\"max_features наилучшей модели на валидационной выборке:\", best_max_features)"
   ]
  },
  {
   "cell_type": "markdown",
   "metadata": {},
   "source": [
    "Лучшая по показателям модель Random Forest сохранена в __best_random_forest_model__."
   ]
  },
  {
   "cell_type": "markdown",
   "metadata": {},
   "source": [
    "### Logistic Regression"
   ]
  },
  {
   "cell_type": "code",
   "execution_count": 19,
   "metadata": {},
   "outputs": [
    {
     "name": "stdout",
     "output_type": "stream",
     "text": [
      "Accuracy модели логистической регрессии на валидационной выборке: 0.7278382581648523\n"
     ]
    }
   ],
   "source": [
    "logistic_regression_model = LogisticRegression(random_state=123456)\n",
    "logistic_regression_model.fit(features_train, target_train) \n",
    "logistic_regression_model_score = logistic_regression_model.score(features_valid, target_valid) \n",
    "\n",
    "print(\"Accuracy модели логистической регрессии на валидационной выборке:\", logistic_regression_model_score)"
   ]
  },
  {
   "cell_type": "markdown",
   "metadata": {},
   "source": [
    "Модель логистической регрессии не дает нам требуемой точности (0.75), поэтому мы не станем ее сохранять. "
   ]
  },
  {
   "cell_type": "markdown",
   "metadata": {},
   "source": [
    "Вывод: \n",
    "- сравнили разные модели: Logistic Regression, Random Forest, Decision Tree для целей классификации - отнесения к тарифу ultra. \n",
    "- установили, что accuracy Logistic Regression самая низкая, а accuracy Random Forest превышает accuracy Decision Tree, поэтому далее выберем Random Forest."
   ]
  },
  {
   "cell_type": "markdown",
   "metadata": {},
   "source": [
    "## Проверка модели на тестовой выборке"
   ]
  },
  {
   "cell_type": "markdown",
   "metadata": {},
   "source": [
    "При проверке модели на тестовой выборке объединим валидационную и обучающую выборки, обучим выбранную модель с наилучшими параметрами на этой объединенной выборке, т.к. чем больше данных для обучения, тем лучше должна быть accuracy, а затем проверим на тестовой выборке. "
   ]
  },
  {
   "cell_type": "markdown",
   "metadata": {},
   "source": [
    "Объединенная выборка train + valid хранится в датафрейм df_other. "
   ]
  },
  {
   "cell_type": "code",
   "execution_count": 20,
   "metadata": {},
   "outputs": [
    {
     "data": {
      "text/plain": [
       "(2571, 4)"
      ]
     },
     "execution_count": 20,
     "metadata": {},
     "output_type": "execute_result"
    }
   ],
   "source": [
    "df_other.shape"
   ]
  },
  {
   "cell_type": "code",
   "execution_count": 21,
   "metadata": {},
   "outputs": [],
   "source": [
    "features_other = df_other.drop(['is_ultra'], axis=1)\n",
    "target_other = df_other['is_ultra']"
   ]
  },
  {
   "cell_type": "code",
   "execution_count": 22,
   "metadata": {},
   "outputs": [
    {
     "name": "stdout",
     "output_type": "stream",
     "text": [
      "accuracy 0.8102643856920684\n",
      "precision 0.7459016393442623\n"
     ]
    }
   ],
   "source": [
    "our_random_forest_model = RandomForestClassifier(random_state=123456, \n",
    "                                                 n_estimators=best_n_estimators, \n",
    "                                                 max_depth=best_rf_max_depth, \n",
    "                                                 bootstrap=True, \n",
    "                                                 max_features=best_max_features) \n",
    "our_random_forest_model.fit(features_other, target_other) \n",
    "our_rfm_score=our_random_forest_model.score(features_test, target_test)\n",
    "our_rfm_predictions=our_random_forest_model.predict(features_test)\n",
    "prec_score=precision = precision_score(target_test, our_rfm_predictions, pos_label=1)\n",
    "print('accuracy', our_rfm_score)\n",
    "print('precision', prec_score)"
   ]
  },
  {
   "cell_type": "markdown",
   "metadata": {},
   "source": [
    "Проверка вновь обученной модели на тестовой выборке дает accuracy больше, чем установленное нам пороговое значение 0.75"
   ]
  },
  {
   "cell_type": "markdown",
   "metadata": {},
   "source": [
    "## Проверка модели на адекватность"
   ]
  },
  {
   "cell_type": "markdown",
   "metadata": {},
   "source": [
    "##### Посмотрим, какие данные вообще предсказывает наша модель"
   ]
  },
  {
   "cell_type": "code",
   "execution_count": 23,
   "metadata": {},
   "outputs": [
    {
     "data": {
      "text/plain": [
       "array([1, 0], dtype=int64)"
      ]
     },
     "execution_count": 23,
     "metadata": {},
     "output_type": "execute_result"
    }
   ],
   "source": [
    "pd.Series(our_random_forest_model.predict(features_test).tolist()).unique()"
   ]
  },
  {
   "cell_type": "markdown",
   "metadata": {},
   "source": [
    "Других результатов, кроме 0 и 1 нет. "
   ]
  },
  {
   "cell_type": "markdown",
   "metadata": {},
   "source": [
    "##### Используем DummyClassifier"
   ]
  },
  {
   "cell_type": "markdown",
   "metadata": {},
   "source": [
    "Для \"случайного\" предсказания"
   ]
  },
  {
   "cell_type": "code",
   "execution_count": 24,
   "metadata": {},
   "outputs": [
    {
     "name": "stdout",
     "output_type": "stream",
     "text": [
      "0.4976671850699845\n",
      "Разница в пользу обученной нами модели по сравнению со случайным \"предсказателем\" составляет, %: 31.25972006220839\n"
     ]
    }
   ],
   "source": [
    "dummy_classifier_model = DummyClassifier(strategy='uniform')\n",
    "dummy_classifier_model.fit(features_other, target_other)\n",
    "d_c_score=dummy_classifier_model.score(features_test, target_test)\n",
    "print(d_c_score)\n",
    "print(\n",
    "    'Разница в пользу обученной нами модели по сравнению со случайным \"предсказателем\" составляет, %:', \n",
    "    (our_rfm_score - d_c_score)*100)"
   ]
  },
  {
   "cell_type": "markdown",
   "metadata": {},
   "source": [
    "Для предсказания по \"наиболее частому\" признаку: "
   ]
  },
  {
   "cell_type": "code",
   "execution_count": 25,
   "metadata": {},
   "outputs": [
    {
     "name": "stdout",
     "output_type": "stream",
     "text": [
      "0.7169517884914464\n",
      "Разница в пользу обученной нами модели составляет, %: 9.331259720062201\n"
     ]
    }
   ],
   "source": [
    "dummy_classifier_model = DummyClassifier(strategy='most_frequent')\n",
    "dummy_classifier_model.fit(features_other, target_other)\n",
    "d_c_score=dummy_classifier_model.score(features_test, target_test)\n",
    "print(d_c_score)\n",
    "print('Разница в пользу обученной нами модели составляет, %:', (our_rfm_score - d_c_score)*100)"
   ]
  },
  {
   "cell_type": "markdown",
   "metadata": {},
   "source": [
    "## Чек-лист готовности проекта"
   ]
  },
  {
   "cell_type": "markdown",
   "metadata": {},
   "source": [
    "- [x] Jupyter Notebook открыт\n",
    "- [x] Весь код исполняется без ошибок\n",
    "- [x] Ячейки с кодом расположены в порядке исполнения\n",
    "- [x] Выполнено задание 1: данные загружены и изучены\n",
    "- [x] Выполнено задание 2: данные разбиты на три выборки\n",
    "- [x] Выполнено задание 3: проведено исследование моделей\n",
    "    - [x] Рассмотрено больше одной модели\n",
    "    - [x] Рассмотрено хотя бы 3 значения гипепараметров для какой-нибудь модели\n",
    "    - [x] Написаны выводы по результатам исследования\n",
    "- [x] Выполнено задание 3: Проведено тестирование\n",
    "- [x] Удалось достичь accuracy не меньше 0.75"
   ]
  },
  {
   "cell_type": "code",
   "execution_count": null,
   "metadata": {},
   "outputs": [],
   "source": []
  }
 ],
 "metadata": {
  "ExecuteTimeLog": [
   {
    "duration": 1066,
    "start_time": "2021-09-22T10:35:05.023Z"
   },
   {
    "duration": 31,
    "start_time": "2021-09-22T10:35:06.091Z"
   },
   {
    "duration": 6,
    "start_time": "2021-09-22T10:35:06.124Z"
   },
   {
    "duration": 7,
    "start_time": "2021-09-22T10:35:06.385Z"
   },
   {
    "duration": 5,
    "start_time": "2021-09-22T10:35:50.482Z"
   },
   {
    "duration": 7,
    "start_time": "2021-09-22T10:35:50.616Z"
   },
   {
    "duration": 4,
    "start_time": "2021-09-22T10:35:50.780Z"
   },
   {
    "duration": 5,
    "start_time": "2021-09-22T10:35:50.948Z"
   },
   {
    "duration": 4,
    "start_time": "2021-09-22T10:35:51.097Z"
   },
   {
    "duration": 4,
    "start_time": "2021-09-22T10:35:51.530Z"
   },
   {
    "duration": 4,
    "start_time": "2021-09-22T10:35:51.730Z"
   },
   {
    "duration": 5,
    "start_time": "2021-09-22T10:35:52.056Z"
   },
   {
    "duration": 50,
    "start_time": "2021-09-22T10:36:36.602Z"
   },
   {
    "duration": 37106,
    "start_time": "2021-09-22T10:36:37.089Z"
   },
   {
    "duration": 11,
    "start_time": "2021-09-22T10:37:14.196Z"
   },
   {
    "duration": 3,
    "start_time": "2021-09-22T10:37:14.209Z"
   },
   {
    "duration": 5,
    "start_time": "2021-09-22T10:37:14.214Z"
   },
   {
    "duration": 88,
    "start_time": "2021-09-22T10:37:14.220Z"
   },
   {
    "duration": 7,
    "start_time": "2021-09-22T10:37:14.309Z"
   },
   {
    "duration": 6,
    "start_time": "2021-09-22T10:37:14.318Z"
   },
   {
    "duration": 23,
    "start_time": "2021-09-22T10:37:14.326Z"
   }
  ],
  "kernelspec": {
   "display_name": "Python 3 (ipykernel)",
   "language": "python",
   "name": "python3"
  },
  "language_info": {
   "codemirror_mode": {
    "name": "ipython",
    "version": 3
   },
   "file_extension": ".py",
   "mimetype": "text/x-python",
   "name": "python",
   "nbconvert_exporter": "python",
   "pygments_lexer": "ipython3",
   "version": "3.9.7"
  },
  "toc": {
   "base_numbering": 1,
   "nav_menu": {},
   "number_sections": true,
   "sideBar": true,
   "skip_h1_title": true,
   "title_cell": "Table of Contents",
   "title_sidebar": "Contents",
   "toc_cell": false,
   "toc_position": {},
   "toc_section_display": true,
   "toc_window_display": false
  }
 },
 "nbformat": 4,
 "nbformat_minor": 2
}
