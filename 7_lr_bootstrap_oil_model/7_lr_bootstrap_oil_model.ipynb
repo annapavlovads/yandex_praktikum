{
 "cells": [
  {
   "cell_type": "markdown",
   "metadata": {},
   "source": [
    "# Выбор локации для скважины"
   ]
  },
  {
   "cell_type": "markdown",
   "metadata": {},
   "source": [
    "Предоставлены пробы нефти в трёх регионах: в каждом 100000 месторождений, где измерили качество нефти и объём её запасов. Постройте модель машинного обучения, которая поможет определить регион, где добыча принесёт наибольшую прибыль. Проанализируйте возможную прибыль и риски техникой *Bootstrap.*\n",
    "\n",
    "Шаги для выбора локации:\n",
    "- В избранном регионе ищут месторождения, для каждого определяют значения признаков;\n",
    "- Строят модель и оценивают объём запасов;\n",
    "- Выбирают месторождения с самым высокими оценками значений. Количество месторождений зависит от бюджета компании и стоимости разработки одной скважины;\n",
    "- Прибыль равна суммарной прибыли отобранных месторождений."
   ]
  },
  {
   "cell_type": "markdown",
   "metadata": {},
   "source": [
    "_Условия задачи:\n",
    "Для обучения модели подходит только линейная регрессия (остальные — недостаточно предсказуемые).\n",
    "При разведке региона исследуют 500 точек, из которых с помощью машинного обучения выбирают 200 лучших для разработки.\n",
    "Бюджет на разработку скважин в регионе — 10 млрд рублей.\n",
    "При нынешних ценах один баррель сырья приносит 450 рублей дохода. Доход с каждой единицы продукта составляет 450 тыс. рублей, поскольку объём указан в тысячах баррелей.\n",
    "После оценки рисков нужно оставить лишь те регионы, в которых вероятность убытков меньше 2.5%. Среди них выбирают регион с наибольшей средней прибылью._"
   ]
  },
  {
   "cell_type": "markdown",
   "metadata": {},
   "source": [
    "__План реализации проекта:__"
   ]
  },
  {
   "cell_type": "markdown",
   "metadata": {},
   "source": [
    "- Цель - выбрать регион, в котором мы будем разрабатывать 200 новых скважин, т.к. выделенного бюджета хватает, чтобы получить признаки 500 месторождений, отобрать из них лучшие 200 и разработать их. \n",
    "- Чтобы понять, в каком регионе это лучше делать, мы моделируем в каждом регионе эту ситуацию, а именно: в каждом регионе у нас есть информация о 100 тыс. скважин, мы делим их на 75/25, на 75 строим модель; на оставшихся 25 тысячах пытаемся понять сколько мы заработаем. <div> \n",
    "- Для этого отбираем из этих 25 тысяч случайным образом 500, предсказываем количество нефти в этих скважинах, берем 200 лучших по предсказаниям и считаем сколько на самом деле мы добудем нефти.<div> \n",
    "- Это все мы делаем исходя из предположения, что распределение нефти в новых скважинах региона такое же, что и в тех информация о которых нам уже известна."
   ]
  },
  {
   "cell_type": "code",
   "execution_count": 1,
   "metadata": {},
   "outputs": [],
   "source": [
    "import pandas as pd\n",
    "import numpy as np\n",
    "from scipy import stats as st\n",
    "\n",
    "from pandas.plotting import scatter_matrix\n",
    "\n",
    "import matplotlib.pyplot as plt\n",
    "\n",
    "import random\n",
    "\n",
    "#from sklearn.tree import DecisionTreeClassifier\n",
    "#from sklearn.ensemble import RandomForestClassifier\n",
    "from sklearn.linear_model import LinearRegression  \n",
    "\n",
    "from sklearn.metrics import mean_squared_error\n",
    "\n",
    "from sklearn.model_selection import train_test_split\n",
    "\n",
    "from sklearn.metrics import accuracy_score, roc_auc_score, precision_score, recall_score, f1_score, confusion_matrix\n",
    "\n",
    "from sklearn.preprocessing import StandardScaler\n",
    "\n",
    "from sklearn.dummy import DummyClassifier\n",
    "\n",
    "from sklearn.utils import shuffle\n",
    "\n",
    "from sklearn.metrics import precision_recall_curve, roc_curve\n",
    "\n",
    "pd.set_option('display.max_columns', 40) #макс кол-во колонок в выводимых данных \n",
    "pd.set_option('display.max_rows', 20) #макс кол-во строк в выводимых данных\n",
    "pd.set_option('display.width', 80) #макс кол-во символов в строке\n",
    "\n",
    "%matplotlib inline\n",
    "\n",
    "import warnings\n",
    "warnings.simplefilter('ignore')\n",
    "\n",
    "pd.options.mode.chained_assignment = None"
   ]
  },
  {
   "cell_type": "markdown",
   "metadata": {},
   "source": [
    "## Загрузка и подготовка данных"
   ]
  },
  {
   "cell_type": "code",
   "execution_count": 2,
   "metadata": {},
   "outputs": [],
   "source": [
    "try: \n",
    "    df0=pd.read_csv('/datasets/geo_data_0.csv')\n",
    "    df1=pd.read_csv('/datasets/geo_data_1.csv')\n",
    "    df2=pd.read_csv('/datasets/geo_data_2.csv')\n",
    "    \n",
    "except: \n",
    "    df0=pd.read_csv('datasets/geo_data_0.csv')\n",
    "    df1=pd.read_csv('datasets/geo_data_1.csv')\n",
    "    df2=pd.read_csv('datasets/geo_data_2.csv')"
   ]
  },
  {
   "cell_type": "code",
   "execution_count": 3,
   "metadata": {},
   "outputs": [
    {
     "data": {
      "text/html": [
       "<div>\n",
       "<style scoped>\n",
       "    .dataframe tbody tr th:only-of-type {\n",
       "        vertical-align: middle;\n",
       "    }\n",
       "\n",
       "    .dataframe tbody tr th {\n",
       "        vertical-align: top;\n",
       "    }\n",
       "\n",
       "    .dataframe thead th {\n",
       "        text-align: right;\n",
       "    }\n",
       "</style>\n",
       "<table border=\"1\" class=\"dataframe\">\n",
       "  <thead>\n",
       "    <tr style=\"text-align: right;\">\n",
       "      <th></th>\n",
       "      <th>id</th>\n",
       "      <th>f0</th>\n",
       "      <th>f1</th>\n",
       "      <th>f2</th>\n",
       "      <th>product</th>\n",
       "    </tr>\n",
       "  </thead>\n",
       "  <tbody>\n",
       "    <tr>\n",
       "      <th>0</th>\n",
       "      <td>txEyH</td>\n",
       "      <td>0.705745</td>\n",
       "      <td>-0.497823</td>\n",
       "      <td>1.221170</td>\n",
       "      <td>105.280062</td>\n",
       "    </tr>\n",
       "    <tr>\n",
       "      <th>1</th>\n",
       "      <td>2acmU</td>\n",
       "      <td>1.334711</td>\n",
       "      <td>-0.340164</td>\n",
       "      <td>4.365080</td>\n",
       "      <td>73.037750</td>\n",
       "    </tr>\n",
       "    <tr>\n",
       "      <th>2</th>\n",
       "      <td>409Wp</td>\n",
       "      <td>1.022732</td>\n",
       "      <td>0.151990</td>\n",
       "      <td>1.419926</td>\n",
       "      <td>85.265647</td>\n",
       "    </tr>\n",
       "    <tr>\n",
       "      <th>3</th>\n",
       "      <td>iJLyR</td>\n",
       "      <td>-0.032172</td>\n",
       "      <td>0.139033</td>\n",
       "      <td>2.978566</td>\n",
       "      <td>168.620776</td>\n",
       "    </tr>\n",
       "    <tr>\n",
       "      <th>4</th>\n",
       "      <td>Xdl7t</td>\n",
       "      <td>1.988431</td>\n",
       "      <td>0.155413</td>\n",
       "      <td>4.751769</td>\n",
       "      <td>154.036647</td>\n",
       "    </tr>\n",
       "  </tbody>\n",
       "</table>\n",
       "</div>"
      ],
      "text/plain": [
       "      id        f0        f1        f2     product\n",
       "0  txEyH  0.705745 -0.497823  1.221170  105.280062\n",
       "1  2acmU  1.334711 -0.340164  4.365080   73.037750\n",
       "2  409Wp  1.022732  0.151990  1.419926   85.265647\n",
       "3  iJLyR -0.032172  0.139033  2.978566  168.620776\n",
       "4  Xdl7t  1.988431  0.155413  4.751769  154.036647"
      ]
     },
     "execution_count": 3,
     "metadata": {},
     "output_type": "execute_result"
    }
   ],
   "source": [
    "df0.head()"
   ]
  },
  {
   "cell_type": "code",
   "execution_count": 4,
   "metadata": {},
   "outputs": [
    {
     "data": {
      "text/html": [
       "<div>\n",
       "<style scoped>\n",
       "    .dataframe tbody tr th:only-of-type {\n",
       "        vertical-align: middle;\n",
       "    }\n",
       "\n",
       "    .dataframe tbody tr th {\n",
       "        vertical-align: top;\n",
       "    }\n",
       "\n",
       "    .dataframe thead th {\n",
       "        text-align: right;\n",
       "    }\n",
       "</style>\n",
       "<table border=\"1\" class=\"dataframe\">\n",
       "  <thead>\n",
       "    <tr style=\"text-align: right;\">\n",
       "      <th></th>\n",
       "      <th>id</th>\n",
       "      <th>f0</th>\n",
       "      <th>f1</th>\n",
       "      <th>f2</th>\n",
       "      <th>product</th>\n",
       "    </tr>\n",
       "  </thead>\n",
       "  <tbody>\n",
       "    <tr>\n",
       "      <th>0</th>\n",
       "      <td>kBEdx</td>\n",
       "      <td>-15.001348</td>\n",
       "      <td>-8.276000</td>\n",
       "      <td>-0.005876</td>\n",
       "      <td>3.179103</td>\n",
       "    </tr>\n",
       "    <tr>\n",
       "      <th>1</th>\n",
       "      <td>62mP7</td>\n",
       "      <td>14.272088</td>\n",
       "      <td>-3.475083</td>\n",
       "      <td>0.999183</td>\n",
       "      <td>26.953261</td>\n",
       "    </tr>\n",
       "    <tr>\n",
       "      <th>2</th>\n",
       "      <td>vyE1P</td>\n",
       "      <td>6.263187</td>\n",
       "      <td>-5.948386</td>\n",
       "      <td>5.001160</td>\n",
       "      <td>134.766305</td>\n",
       "    </tr>\n",
       "    <tr>\n",
       "      <th>3</th>\n",
       "      <td>KcrkZ</td>\n",
       "      <td>-13.081196</td>\n",
       "      <td>-11.506057</td>\n",
       "      <td>4.999415</td>\n",
       "      <td>137.945408</td>\n",
       "    </tr>\n",
       "    <tr>\n",
       "      <th>4</th>\n",
       "      <td>AHL4O</td>\n",
       "      <td>12.702195</td>\n",
       "      <td>-8.147433</td>\n",
       "      <td>5.004363</td>\n",
       "      <td>134.766305</td>\n",
       "    </tr>\n",
       "  </tbody>\n",
       "</table>\n",
       "</div>"
      ],
      "text/plain": [
       "      id         f0         f1        f2     product\n",
       "0  kBEdx -15.001348  -8.276000 -0.005876    3.179103\n",
       "1  62mP7  14.272088  -3.475083  0.999183   26.953261\n",
       "2  vyE1P   6.263187  -5.948386  5.001160  134.766305\n",
       "3  KcrkZ -13.081196 -11.506057  4.999415  137.945408\n",
       "4  AHL4O  12.702195  -8.147433  5.004363  134.766305"
      ]
     },
     "execution_count": 4,
     "metadata": {},
     "output_type": "execute_result"
    }
   ],
   "source": [
    "df1.head()"
   ]
  },
  {
   "cell_type": "code",
   "execution_count": 5,
   "metadata": {},
   "outputs": [
    {
     "data": {
      "text/html": [
       "<div>\n",
       "<style scoped>\n",
       "    .dataframe tbody tr th:only-of-type {\n",
       "        vertical-align: middle;\n",
       "    }\n",
       "\n",
       "    .dataframe tbody tr th {\n",
       "        vertical-align: top;\n",
       "    }\n",
       "\n",
       "    .dataframe thead th {\n",
       "        text-align: right;\n",
       "    }\n",
       "</style>\n",
       "<table border=\"1\" class=\"dataframe\">\n",
       "  <thead>\n",
       "    <tr style=\"text-align: right;\">\n",
       "      <th></th>\n",
       "      <th>id</th>\n",
       "      <th>f0</th>\n",
       "      <th>f1</th>\n",
       "      <th>f2</th>\n",
       "      <th>product</th>\n",
       "    </tr>\n",
       "  </thead>\n",
       "  <tbody>\n",
       "    <tr>\n",
       "      <th>0</th>\n",
       "      <td>fwXo0</td>\n",
       "      <td>-1.146987</td>\n",
       "      <td>0.963328</td>\n",
       "      <td>-0.828965</td>\n",
       "      <td>27.758673</td>\n",
       "    </tr>\n",
       "    <tr>\n",
       "      <th>1</th>\n",
       "      <td>WJtFt</td>\n",
       "      <td>0.262778</td>\n",
       "      <td>0.269839</td>\n",
       "      <td>-2.530187</td>\n",
       "      <td>56.069697</td>\n",
       "    </tr>\n",
       "    <tr>\n",
       "      <th>2</th>\n",
       "      <td>ovLUW</td>\n",
       "      <td>0.194587</td>\n",
       "      <td>0.289035</td>\n",
       "      <td>-5.586433</td>\n",
       "      <td>62.871910</td>\n",
       "    </tr>\n",
       "    <tr>\n",
       "      <th>3</th>\n",
       "      <td>q6cA6</td>\n",
       "      <td>2.236060</td>\n",
       "      <td>-0.553760</td>\n",
       "      <td>0.930038</td>\n",
       "      <td>114.572842</td>\n",
       "    </tr>\n",
       "    <tr>\n",
       "      <th>4</th>\n",
       "      <td>WPMUX</td>\n",
       "      <td>-0.515993</td>\n",
       "      <td>1.716266</td>\n",
       "      <td>5.899011</td>\n",
       "      <td>149.600746</td>\n",
       "    </tr>\n",
       "  </tbody>\n",
       "</table>\n",
       "</div>"
      ],
      "text/plain": [
       "      id        f0        f1        f2     product\n",
       "0  fwXo0 -1.146987  0.963328 -0.828965   27.758673\n",
       "1  WJtFt  0.262778  0.269839 -2.530187   56.069697\n",
       "2  ovLUW  0.194587  0.289035 -5.586433   62.871910\n",
       "3  q6cA6  2.236060 -0.553760  0.930038  114.572842\n",
       "4  WPMUX -0.515993  1.716266  5.899011  149.600746"
      ]
     },
     "execution_count": 5,
     "metadata": {},
     "output_type": "execute_result"
    }
   ],
   "source": [
    "df2.head()"
   ]
  },
  {
   "cell_type": "code",
   "execution_count": 6,
   "metadata": {},
   "outputs": [
    {
     "name": "stdout",
     "output_type": "stream",
     "text": [
      "<class 'pandas.core.frame.DataFrame'>\n",
      "RangeIndex: 100000 entries, 0 to 99999\n",
      "Data columns (total 5 columns):\n",
      " #   Column   Non-Null Count   Dtype  \n",
      "---  ------   --------------   -----  \n",
      " 0   id       100000 non-null  object \n",
      " 1   f0       100000 non-null  float64\n",
      " 2   f1       100000 non-null  float64\n",
      " 3   f2       100000 non-null  float64\n",
      " 4   product  100000 non-null  float64\n",
      "dtypes: float64(4), object(1)\n",
      "memory usage: 3.8+ MB\n"
     ]
    }
   ],
   "source": [
    "df0.info()"
   ]
  },
  {
   "cell_type": "code",
   "execution_count": 7,
   "metadata": {},
   "outputs": [
    {
     "name": "stdout",
     "output_type": "stream",
     "text": [
      "<class 'pandas.core.frame.DataFrame'>\n",
      "RangeIndex: 100000 entries, 0 to 99999\n",
      "Data columns (total 5 columns):\n",
      " #   Column   Non-Null Count   Dtype  \n",
      "---  ------   --------------   -----  \n",
      " 0   id       100000 non-null  object \n",
      " 1   f0       100000 non-null  float64\n",
      " 2   f1       100000 non-null  float64\n",
      " 3   f2       100000 non-null  float64\n",
      " 4   product  100000 non-null  float64\n",
      "dtypes: float64(4), object(1)\n",
      "memory usage: 3.8+ MB\n"
     ]
    }
   ],
   "source": [
    "df1.info()"
   ]
  },
  {
   "cell_type": "code",
   "execution_count": 8,
   "metadata": {},
   "outputs": [
    {
     "name": "stdout",
     "output_type": "stream",
     "text": [
      "<class 'pandas.core.frame.DataFrame'>\n",
      "RangeIndex: 100000 entries, 0 to 99999\n",
      "Data columns (total 5 columns):\n",
      " #   Column   Non-Null Count   Dtype  \n",
      "---  ------   --------------   -----  \n",
      " 0   id       100000 non-null  object \n",
      " 1   f0       100000 non-null  float64\n",
      " 2   f1       100000 non-null  float64\n",
      " 3   f2       100000 non-null  float64\n",
      " 4   product  100000 non-null  float64\n",
      "dtypes: float64(4), object(1)\n",
      "memory usage: 3.8+ MB\n"
     ]
    }
   ],
   "source": [
    "df2.info()"
   ]
  },
  {
   "cell_type": "code",
   "execution_count": 9,
   "metadata": {},
   "outputs": [
    {
     "data": {
      "text/html": [
       "<div>\n",
       "<style scoped>\n",
       "    .dataframe tbody tr th:only-of-type {\n",
       "        vertical-align: middle;\n",
       "    }\n",
       "\n",
       "    .dataframe tbody tr th {\n",
       "        vertical-align: top;\n",
       "    }\n",
       "\n",
       "    .dataframe thead th {\n",
       "        text-align: right;\n",
       "    }\n",
       "</style>\n",
       "<table border=\"1\" class=\"dataframe\">\n",
       "  <thead>\n",
       "    <tr style=\"text-align: right;\">\n",
       "      <th></th>\n",
       "      <th>f0</th>\n",
       "      <th>f1</th>\n",
       "      <th>f2</th>\n",
       "      <th>product</th>\n",
       "    </tr>\n",
       "  </thead>\n",
       "  <tbody>\n",
       "    <tr>\n",
       "      <th>f0</th>\n",
       "      <td>1.000000</td>\n",
       "      <td>-0.440723</td>\n",
       "      <td>-0.003153</td>\n",
       "      <td>0.143536</td>\n",
       "    </tr>\n",
       "    <tr>\n",
       "      <th>f1</th>\n",
       "      <td>-0.440723</td>\n",
       "      <td>1.000000</td>\n",
       "      <td>0.001724</td>\n",
       "      <td>-0.192356</td>\n",
       "    </tr>\n",
       "    <tr>\n",
       "      <th>f2</th>\n",
       "      <td>-0.003153</td>\n",
       "      <td>0.001724</td>\n",
       "      <td>1.000000</td>\n",
       "      <td>0.483663</td>\n",
       "    </tr>\n",
       "    <tr>\n",
       "      <th>product</th>\n",
       "      <td>0.143536</td>\n",
       "      <td>-0.192356</td>\n",
       "      <td>0.483663</td>\n",
       "      <td>1.000000</td>\n",
       "    </tr>\n",
       "  </tbody>\n",
       "</table>\n",
       "</div>"
      ],
      "text/plain": [
       "               f0        f1        f2   product\n",
       "f0       1.000000 -0.440723 -0.003153  0.143536\n",
       "f1      -0.440723  1.000000  0.001724 -0.192356\n",
       "f2      -0.003153  0.001724  1.000000  0.483663\n",
       "product  0.143536 -0.192356  0.483663  1.000000"
      ]
     },
     "execution_count": 9,
     "metadata": {},
     "output_type": "execute_result"
    }
   ],
   "source": [
    "df0.corr()"
   ]
  },
  {
   "cell_type": "code",
   "execution_count": 10,
   "metadata": {},
   "outputs": [
    {
     "data": {
      "text/html": [
       "<div>\n",
       "<style scoped>\n",
       "    .dataframe tbody tr th:only-of-type {\n",
       "        vertical-align: middle;\n",
       "    }\n",
       "\n",
       "    .dataframe tbody tr th {\n",
       "        vertical-align: top;\n",
       "    }\n",
       "\n",
       "    .dataframe thead th {\n",
       "        text-align: right;\n",
       "    }\n",
       "</style>\n",
       "<table border=\"1\" class=\"dataframe\">\n",
       "  <thead>\n",
       "    <tr style=\"text-align: right;\">\n",
       "      <th></th>\n",
       "      <th>f0</th>\n",
       "      <th>f1</th>\n",
       "      <th>f2</th>\n",
       "      <th>product</th>\n",
       "    </tr>\n",
       "  </thead>\n",
       "  <tbody>\n",
       "    <tr>\n",
       "      <th>f0</th>\n",
       "      <td>1.000000</td>\n",
       "      <td>0.182287</td>\n",
       "      <td>-0.001777</td>\n",
       "      <td>-0.030491</td>\n",
       "    </tr>\n",
       "    <tr>\n",
       "      <th>f1</th>\n",
       "      <td>0.182287</td>\n",
       "      <td>1.000000</td>\n",
       "      <td>-0.002595</td>\n",
       "      <td>-0.010155</td>\n",
       "    </tr>\n",
       "    <tr>\n",
       "      <th>f2</th>\n",
       "      <td>-0.001777</td>\n",
       "      <td>-0.002595</td>\n",
       "      <td>1.000000</td>\n",
       "      <td>0.999397</td>\n",
       "    </tr>\n",
       "    <tr>\n",
       "      <th>product</th>\n",
       "      <td>-0.030491</td>\n",
       "      <td>-0.010155</td>\n",
       "      <td>0.999397</td>\n",
       "      <td>1.000000</td>\n",
       "    </tr>\n",
       "  </tbody>\n",
       "</table>\n",
       "</div>"
      ],
      "text/plain": [
       "               f0        f1        f2   product\n",
       "f0       1.000000  0.182287 -0.001777 -0.030491\n",
       "f1       0.182287  1.000000 -0.002595 -0.010155\n",
       "f2      -0.001777 -0.002595  1.000000  0.999397\n",
       "product -0.030491 -0.010155  0.999397  1.000000"
      ]
     },
     "execution_count": 10,
     "metadata": {},
     "output_type": "execute_result"
    }
   ],
   "source": [
    "df1.corr()"
   ]
  },
  {
   "cell_type": "markdown",
   "metadata": {},
   "source": [
    "Видим сильную взаимосвязь между целевым признаком (product) и параметром f2."
   ]
  },
  {
   "cell_type": "code",
   "execution_count": 11,
   "metadata": {},
   "outputs": [
    {
     "data": {
      "text/html": [
       "<div>\n",
       "<style scoped>\n",
       "    .dataframe tbody tr th:only-of-type {\n",
       "        vertical-align: middle;\n",
       "    }\n",
       "\n",
       "    .dataframe tbody tr th {\n",
       "        vertical-align: top;\n",
       "    }\n",
       "\n",
       "    .dataframe thead th {\n",
       "        text-align: right;\n",
       "    }\n",
       "</style>\n",
       "<table border=\"1\" class=\"dataframe\">\n",
       "  <thead>\n",
       "    <tr style=\"text-align: right;\">\n",
       "      <th></th>\n",
       "      <th>f0</th>\n",
       "      <th>f1</th>\n",
       "      <th>f2</th>\n",
       "      <th>product</th>\n",
       "    </tr>\n",
       "  </thead>\n",
       "  <tbody>\n",
       "    <tr>\n",
       "      <th>f0</th>\n",
       "      <td>1.000000</td>\n",
       "      <td>0.000528</td>\n",
       "      <td>-0.000448</td>\n",
       "      <td>-0.001987</td>\n",
       "    </tr>\n",
       "    <tr>\n",
       "      <th>f1</th>\n",
       "      <td>0.000528</td>\n",
       "      <td>1.000000</td>\n",
       "      <td>0.000779</td>\n",
       "      <td>-0.001012</td>\n",
       "    </tr>\n",
       "    <tr>\n",
       "      <th>f2</th>\n",
       "      <td>-0.000448</td>\n",
       "      <td>0.000779</td>\n",
       "      <td>1.000000</td>\n",
       "      <td>0.445871</td>\n",
       "    </tr>\n",
       "    <tr>\n",
       "      <th>product</th>\n",
       "      <td>-0.001987</td>\n",
       "      <td>-0.001012</td>\n",
       "      <td>0.445871</td>\n",
       "      <td>1.000000</td>\n",
       "    </tr>\n",
       "  </tbody>\n",
       "</table>\n",
       "</div>"
      ],
      "text/plain": [
       "               f0        f1        f2   product\n",
       "f0       1.000000  0.000528 -0.000448 -0.001987\n",
       "f1       0.000528  1.000000  0.000779 -0.001012\n",
       "f2      -0.000448  0.000779  1.000000  0.445871\n",
       "product -0.001987 -0.001012  0.445871  1.000000"
      ]
     },
     "execution_count": 11,
     "metadata": {},
     "output_type": "execute_result"
    }
   ],
   "source": [
    "df2.corr()"
   ]
  },
  {
   "cell_type": "markdown",
   "metadata": {},
   "source": [
    "Посмотрев на датасеты, видим, что данные обработаны, пропусков нет, признаки, судя по их виду, также уже обработаны и масштабированы, мультиколлинеарности между принзнаками нет, и можно создавать и обучать модель без дальнейшей работы по подготовке данных.  "
   ]
  },
  {
   "cell_type": "markdown",
   "metadata": {},
   "source": [
    "## Обучение и проверка модели"
   ]
  },
  {
   "cell_type": "markdown",
   "metadata": {},
   "source": [
    "Напишем функцию, которая разделит данные на обучающую и валидационную выборки, создаст и обучит модель, а также выведет среднее предсказанной значение, R2, RMSE и сформирует новый датасет, присоединив к нему данные прогноза. "
   ]
  },
  {
   "cell_type": "code",
   "execution_count": 12,
   "metadata": {},
   "outputs": [],
   "source": [
    "def lr_model_function (df): \n",
    "    features = df.drop(['product', 'id'], axis=1)\n",
    "    target = df['product']\n",
    "\n",
    "    features_train, features_valid, target_train, target_valid = train_test_split(\n",
    "        features, target, test_size=0.25, random_state=12345) \n",
    "\n",
    "    model = LinearRegression()\n",
    "    model.fit(features_train, target_train)\n",
    "\n",
    "    predictions_valid = model.predict(features_valid)\n",
    "\n",
    "    rmse_result=mean_squared_error(target_valid, predictions_valid)**0.5\n",
    "    \n",
    "    r2_result=model.score(features_valid, target_valid)\n",
    "\n",
    "    df_mean_predicted_product=predictions_valid.mean()\n",
    "    df_true_predicted_product=target_valid.mean()\n",
    "    \n",
    "    features_valid['predictions']=predictions_valid\n",
    "    features_valid['true']=target_valid\n",
    "    df_new=features_valid\n",
    "    \n",
    "    return (r2_result, rmse_result, df_mean_predicted_product, df_true_predicted_product, df_new, model)"
   ]
  },
  {
   "cell_type": "markdown",
   "metadata": {},
   "source": [
    "Результатом функции станет кортеж из шести значений: <div>\n",
    "- R2 модели линейной регрессии на валидационной выборке, <div>\n",
    "- RMSE модели линейной регрессии на валидационной выборке, <div>\n",
    "- Средний предсказанный запас сырья по региону, <div>\n",
    "- Средний исследованный запас сырья по региону, <div>\n",
    "- Датафрейм с предсказаниями, <div>\n",
    "- Обученная нами модель. "
   ]
  },
  {
   "cell_type": "markdown",
   "metadata": {},
   "source": [
    "### Регион 1 - df0"
   ]
  },
  {
   "cell_type": "code",
   "execution_count": 13,
   "metadata": {},
   "outputs": [
    {
     "name": "stdout",
     "output_type": "stream",
     "text": [
      "0.27994321524487786\n",
      "37.5794217150813\n",
      "92.59256778438035\n",
      "92.07859674082941\n",
      "             f0        f1        f2  predictions        true\n",
      "71751  0.948970 -0.057547  2.095727    95.894952   10.038645\n",
      "80493  0.992974  0.206671 -0.142278    77.572583  114.551489\n",
      "2655   1.199854 -0.563356 -1.852991    77.892640  132.603635\n",
      "53233  0.691422 -0.433347  0.564974    90.175134  169.072125\n",
      "91141  0.420772  0.972638  0.736190    70.510088  122.325180\n",
      "...         ...       ...       ...          ...         ...\n",
      "12581  1.841106 -0.107678  2.585648   103.037104  170.116726\n",
      "18456  0.041859  0.489280  2.168001    85.403255   93.632175\n",
      "73035  0.376389  1.054298 -0.430104    61.509833  127.352259\n",
      "63834  1.071330 -0.470046  4.527099   118.180397   99.782700\n",
      "43558  1.726318 -0.077871  5.007083   118.169392  177.821022\n",
      "\n",
      "[25000 rows x 5 columns]\n",
      "LinearRegression()\n"
     ]
    }
   ],
   "source": [
    "print(*lr_model_function(df0), sep='\\n')"
   ]
  },
  {
   "cell_type": "markdown",
   "metadata": {},
   "source": [
    "RMSE составляет более трети от среднего значения, и R2 метрика также говорит о незначительной точности нашей модели. "
   ]
  },
  {
   "cell_type": "markdown",
   "metadata": {},
   "source": [
    "Сохраним модель для региона в соответствующей переменной и сохраним датасет с предсказаниями по всей валидационной выборке. Также поступим в двуми другими регионами. "
   ]
  },
  {
   "cell_type": "code",
   "execution_count": 14,
   "metadata": {},
   "outputs": [
    {
     "data": {
      "text/html": [
       "<div>\n",
       "<style scoped>\n",
       "    .dataframe tbody tr th:only-of-type {\n",
       "        vertical-align: middle;\n",
       "    }\n",
       "\n",
       "    .dataframe tbody tr th {\n",
       "        vertical-align: top;\n",
       "    }\n",
       "\n",
       "    .dataframe thead th {\n",
       "        text-align: right;\n",
       "    }\n",
       "</style>\n",
       "<table border=\"1\" class=\"dataframe\">\n",
       "  <thead>\n",
       "    <tr style=\"text-align: right;\">\n",
       "      <th></th>\n",
       "      <th>f0</th>\n",
       "      <th>f1</th>\n",
       "      <th>f2</th>\n",
       "      <th>predictions</th>\n",
       "      <th>true</th>\n",
       "    </tr>\n",
       "  </thead>\n",
       "  <tbody>\n",
       "    <tr>\n",
       "      <th>71751</th>\n",
       "      <td>0.948970</td>\n",
       "      <td>-0.057547</td>\n",
       "      <td>2.095727</td>\n",
       "      <td>95.894952</td>\n",
       "      <td>10.038645</td>\n",
       "    </tr>\n",
       "    <tr>\n",
       "      <th>80493</th>\n",
       "      <td>0.992974</td>\n",
       "      <td>0.206671</td>\n",
       "      <td>-0.142278</td>\n",
       "      <td>77.572583</td>\n",
       "      <td>114.551489</td>\n",
       "    </tr>\n",
       "    <tr>\n",
       "      <th>2655</th>\n",
       "      <td>1.199854</td>\n",
       "      <td>-0.563356</td>\n",
       "      <td>-1.852991</td>\n",
       "      <td>77.892640</td>\n",
       "      <td>132.603635</td>\n",
       "    </tr>\n",
       "    <tr>\n",
       "      <th>53233</th>\n",
       "      <td>0.691422</td>\n",
       "      <td>-0.433347</td>\n",
       "      <td>0.564974</td>\n",
       "      <td>90.175134</td>\n",
       "      <td>169.072125</td>\n",
       "    </tr>\n",
       "    <tr>\n",
       "      <th>91141</th>\n",
       "      <td>0.420772</td>\n",
       "      <td>0.972638</td>\n",
       "      <td>0.736190</td>\n",
       "      <td>70.510088</td>\n",
       "      <td>122.325180</td>\n",
       "    </tr>\n",
       "    <tr>\n",
       "      <th>...</th>\n",
       "      <td>...</td>\n",
       "      <td>...</td>\n",
       "      <td>...</td>\n",
       "      <td>...</td>\n",
       "      <td>...</td>\n",
       "    </tr>\n",
       "    <tr>\n",
       "      <th>12581</th>\n",
       "      <td>1.841106</td>\n",
       "      <td>-0.107678</td>\n",
       "      <td>2.585648</td>\n",
       "      <td>103.037104</td>\n",
       "      <td>170.116726</td>\n",
       "    </tr>\n",
       "    <tr>\n",
       "      <th>18456</th>\n",
       "      <td>0.041859</td>\n",
       "      <td>0.489280</td>\n",
       "      <td>2.168001</td>\n",
       "      <td>85.403255</td>\n",
       "      <td>93.632175</td>\n",
       "    </tr>\n",
       "    <tr>\n",
       "      <th>73035</th>\n",
       "      <td>0.376389</td>\n",
       "      <td>1.054298</td>\n",
       "      <td>-0.430104</td>\n",
       "      <td>61.509833</td>\n",
       "      <td>127.352259</td>\n",
       "    </tr>\n",
       "    <tr>\n",
       "      <th>63834</th>\n",
       "      <td>1.071330</td>\n",
       "      <td>-0.470046</td>\n",
       "      <td>4.527099</td>\n",
       "      <td>118.180397</td>\n",
       "      <td>99.782700</td>\n",
       "    </tr>\n",
       "    <tr>\n",
       "      <th>43558</th>\n",
       "      <td>1.726318</td>\n",
       "      <td>-0.077871</td>\n",
       "      <td>5.007083</td>\n",
       "      <td>118.169392</td>\n",
       "      <td>177.821022</td>\n",
       "    </tr>\n",
       "  </tbody>\n",
       "</table>\n",
       "<p>25000 rows × 5 columns</p>\n",
       "</div>"
      ],
      "text/plain": [
       "             f0        f1        f2  predictions        true\n",
       "71751  0.948970 -0.057547  2.095727    95.894952   10.038645\n",
       "80493  0.992974  0.206671 -0.142278    77.572583  114.551489\n",
       "2655   1.199854 -0.563356 -1.852991    77.892640  132.603635\n",
       "53233  0.691422 -0.433347  0.564974    90.175134  169.072125\n",
       "91141  0.420772  0.972638  0.736190    70.510088  122.325180\n",
       "...         ...       ...       ...          ...         ...\n",
       "12581  1.841106 -0.107678  2.585648   103.037104  170.116726\n",
       "18456  0.041859  0.489280  2.168001    85.403255   93.632175\n",
       "73035  0.376389  1.054298 -0.430104    61.509833  127.352259\n",
       "63834  1.071330 -0.470046  4.527099   118.180397   99.782700\n",
       "43558  1.726318 -0.077871  5.007083   118.169392  177.821022\n",
       "\n",
       "[25000 rows x 5 columns]"
      ]
     },
     "execution_count": 14,
     "metadata": {},
     "output_type": "execute_result"
    }
   ],
   "source": [
    "model0=lr_model_function(df0)[-1]\n",
    "df0_result=lr_model_function(df0)[-2]\n",
    "df0_result"
   ]
  },
  {
   "cell_type": "markdown",
   "metadata": {},
   "source": [
    "Также посмотрим на графики плотностей распределения целевого признака и результатов предсказаний. "
   ]
  },
  {
   "cell_type": "code",
   "execution_count": 15,
   "metadata": {},
   "outputs": [
    {
     "data": {
      "text/plain": [
       "<AxesSubplot:>"
      ]
     },
     "execution_count": 15,
     "metadata": {},
     "output_type": "execute_result"
    },
    {
     "data": {
      "image/png": "[encoded data removed]",
      "text/plain": [
       "<Figure size 432x288 with 1 Axes>"
      ]
     },
     "metadata": {
      "needs_background": "light"
     },
     "output_type": "display_data"
    }
   ],
   "source": [
    "df0_result['true'].hist(bins=10)"
   ]
  },
  {
   "cell_type": "code",
   "execution_count": 16,
   "metadata": {},
   "outputs": [
    {
     "data": {
      "text/plain": [
       "<AxesSubplot:>"
      ]
     },
     "execution_count": 16,
     "metadata": {},
     "output_type": "execute_result"
    },
    {
     "data": {
      "image/png": "[encoded data removed]",
      "text/plain": [
       "<Figure size 432x288 with 1 Axes>"
      ]
     },
     "metadata": {
      "needs_background": "light"
     },
     "output_type": "display_data"
    }
   ],
   "source": [
    "df0_result['predictions'].hist(bins=10)"
   ]
  },
  {
   "cell_type": "markdown",
   "metadata": {},
   "source": [
    "Несмотря на невысокую разницу в найденных средних, видим, что фактические распределения различаются, и метрики модели невысоки. "
   ]
  },
  {
   "cell_type": "markdown",
   "metadata": {},
   "source": [
    "### Регион 2 - df1"
   ]
  },
  {
   "cell_type": "code",
   "execution_count": 17,
   "metadata": {},
   "outputs": [
    {
     "name": "stdout",
     "output_type": "stream",
     "text": [
      "0.9996233978805127\n",
      "0.8930992867756166\n",
      "68.728546895446\n",
      "68.72313602437494\n",
      "              f0         f1        f2  predictions        true\n",
      "71751  -0.371866  -1.862494  3.002210    82.663314   80.859783\n",
      "80493   9.015122 -13.881455  1.995363    54.431786   53.906522\n",
      "2655   -6.507568  -4.817448  1.003449    29.748760   30.132364\n",
      "53233  14.560845 -10.667755  1.995175    53.552133   53.906522\n",
      "91141   6.090476  -4.494723  0.013815     1.243856    0.000000\n",
      "...          ...        ...       ...          ...         ...\n",
      "12581  -4.107455  -4.607004  4.991140   136.869211  137.945408\n",
      "18456  -8.363585  -6.357527  3.995592   110.693465  110.992147\n",
      "73035  -9.136241  -5.403258  5.000925   137.879341  137.945408\n",
      "63834  -6.386442  -0.764568  3.011526    83.761966   84.038886\n",
      "43558  10.542817  -6.206446  1.992290    53.958466   53.906522\n",
      "\n",
      "[25000 rows x 5 columns]\n",
      "LinearRegression()\n"
     ]
    }
   ],
   "source": [
    "print(*lr_model_function(df1), sep='\\n')"
   ]
  },
  {
   "cell_type": "markdown",
   "metadata": {},
   "source": [
    "Видим, что показатели метрик RMSE и R2 очень хороши. Это, очевидно, из-за найденной нами сильной корреляции между result и параметром f2 в этом датасете, который мы увидели ранее. "
   ]
  },
  {
   "cell_type": "code",
   "execution_count": 18,
   "metadata": {},
   "outputs": [
    {
     "data": {
      "text/html": [
       "<div>\n",
       "<style scoped>\n",
       "    .dataframe tbody tr th:only-of-type {\n",
       "        vertical-align: middle;\n",
       "    }\n",
       "\n",
       "    .dataframe tbody tr th {\n",
       "        vertical-align: top;\n",
       "    }\n",
       "\n",
       "    .dataframe thead th {\n",
       "        text-align: right;\n",
       "    }\n",
       "</style>\n",
       "<table border=\"1\" class=\"dataframe\">\n",
       "  <thead>\n",
       "    <tr style=\"text-align: right;\">\n",
       "      <th></th>\n",
       "      <th>f0</th>\n",
       "      <th>f1</th>\n",
       "      <th>f2</th>\n",
       "      <th>predictions</th>\n",
       "      <th>true</th>\n",
       "    </tr>\n",
       "  </thead>\n",
       "  <tbody>\n",
       "    <tr>\n",
       "      <th>71751</th>\n",
       "      <td>-0.371866</td>\n",
       "      <td>-1.862494</td>\n",
       "      <td>3.002210</td>\n",
       "      <td>82.663314</td>\n",
       "      <td>80.859783</td>\n",
       "    </tr>\n",
       "    <tr>\n",
       "      <th>80493</th>\n",
       "      <td>9.015122</td>\n",
       "      <td>-13.881455</td>\n",
       "      <td>1.995363</td>\n",
       "      <td>54.431786</td>\n",
       "      <td>53.906522</td>\n",
       "    </tr>\n",
       "    <tr>\n",
       "      <th>2655</th>\n",
       "      <td>-6.507568</td>\n",
       "      <td>-4.817448</td>\n",
       "      <td>1.003449</td>\n",
       "      <td>29.748760</td>\n",
       "      <td>30.132364</td>\n",
       "    </tr>\n",
       "    <tr>\n",
       "      <th>53233</th>\n",
       "      <td>14.560845</td>\n",
       "      <td>-10.667755</td>\n",
       "      <td>1.995175</td>\n",
       "      <td>53.552133</td>\n",
       "      <td>53.906522</td>\n",
       "    </tr>\n",
       "    <tr>\n",
       "      <th>91141</th>\n",
       "      <td>6.090476</td>\n",
       "      <td>-4.494723</td>\n",
       "      <td>0.013815</td>\n",
       "      <td>1.243856</td>\n",
       "      <td>0.000000</td>\n",
       "    </tr>\n",
       "    <tr>\n",
       "      <th>...</th>\n",
       "      <td>...</td>\n",
       "      <td>...</td>\n",
       "      <td>...</td>\n",
       "      <td>...</td>\n",
       "      <td>...</td>\n",
       "    </tr>\n",
       "    <tr>\n",
       "      <th>12581</th>\n",
       "      <td>-4.107455</td>\n",
       "      <td>-4.607004</td>\n",
       "      <td>4.991140</td>\n",
       "      <td>136.869211</td>\n",
       "      <td>137.945408</td>\n",
       "    </tr>\n",
       "    <tr>\n",
       "      <th>18456</th>\n",
       "      <td>-8.363585</td>\n",
       "      <td>-6.357527</td>\n",
       "      <td>3.995592</td>\n",
       "      <td>110.693465</td>\n",
       "      <td>110.992147</td>\n",
       "    </tr>\n",
       "    <tr>\n",
       "      <th>73035</th>\n",
       "      <td>-9.136241</td>\n",
       "      <td>-5.403258</td>\n",
       "      <td>5.000925</td>\n",
       "      <td>137.879341</td>\n",
       "      <td>137.945408</td>\n",
       "    </tr>\n",
       "    <tr>\n",
       "      <th>63834</th>\n",
       "      <td>-6.386442</td>\n",
       "      <td>-0.764568</td>\n",
       "      <td>3.011526</td>\n",
       "      <td>83.761966</td>\n",
       "      <td>84.038886</td>\n",
       "    </tr>\n",
       "    <tr>\n",
       "      <th>43558</th>\n",
       "      <td>10.542817</td>\n",
       "      <td>-6.206446</td>\n",
       "      <td>1.992290</td>\n",
       "      <td>53.958466</td>\n",
       "      <td>53.906522</td>\n",
       "    </tr>\n",
       "  </tbody>\n",
       "</table>\n",
       "<p>25000 rows × 5 columns</p>\n",
       "</div>"
      ],
      "text/plain": [
       "              f0         f1        f2  predictions        true\n",
       "71751  -0.371866  -1.862494  3.002210    82.663314   80.859783\n",
       "80493   9.015122 -13.881455  1.995363    54.431786   53.906522\n",
       "2655   -6.507568  -4.817448  1.003449    29.748760   30.132364\n",
       "53233  14.560845 -10.667755  1.995175    53.552133   53.906522\n",
       "91141   6.090476  -4.494723  0.013815     1.243856    0.000000\n",
       "...          ...        ...       ...          ...         ...\n",
       "12581  -4.107455  -4.607004  4.991140   136.869211  137.945408\n",
       "18456  -8.363585  -6.357527  3.995592   110.693465  110.992147\n",
       "73035  -9.136241  -5.403258  5.000925   137.879341  137.945408\n",
       "63834  -6.386442  -0.764568  3.011526    83.761966   84.038886\n",
       "43558  10.542817  -6.206446  1.992290    53.958466   53.906522\n",
       "\n",
       "[25000 rows x 5 columns]"
      ]
     },
     "execution_count": 18,
     "metadata": {},
     "output_type": "execute_result"
    }
   ],
   "source": [
    "model1=lr_model_function(df1)[-1]\n",
    "df1_result=lr_model_function(df1)[-2]\n",
    "df1_result"
   ]
  },
  {
   "cell_type": "code",
   "execution_count": 19,
   "metadata": {},
   "outputs": [
    {
     "data": {
      "text/plain": [
       "<AxesSubplot:>"
      ]
     },
     "execution_count": 19,
     "metadata": {},
     "output_type": "execute_result"
    },
    {
     "data": {
      "image/png": "[encoded data removed]",
      "text/plain": [
       "<Figure size 432x288 with 1 Axes>"
      ]
     },
     "metadata": {
      "needs_background": "light"
     },
     "output_type": "display_data"
    }
   ],
   "source": [
    "df1_result['true'].hist(bins=10)"
   ]
  },
  {
   "cell_type": "code",
   "execution_count": 20,
   "metadata": {},
   "outputs": [
    {
     "data": {
      "text/plain": [
       "<AxesSubplot:>"
      ]
     },
     "execution_count": 20,
     "metadata": {},
     "output_type": "execute_result"
    },
    {
     "data": {
      "image/png": "[encoded data removed]",
      "text/plain": [
       "<Figure size 432x288 with 1 Axes>"
      ]
     },
     "metadata": {
      "needs_background": "light"
     },
     "output_type": "display_data"
    }
   ],
   "source": [
    "df1_result['predictions'].hist(bins=10)"
   ]
  },
  {
   "cell_type": "markdown",
   "metadata": {},
   "source": [
    "Несмотря на хорошие метрики модели, видим, что фактические распределения значений по группам различаются."
   ]
  },
  {
   "cell_type": "markdown",
   "metadata": {},
   "source": [
    "### Регион 3 - df2"
   ]
  },
  {
   "cell_type": "code",
   "execution_count": 21,
   "metadata": {},
   "outputs": [
    {
     "name": "stdout",
     "output_type": "stream",
     "text": [
      "0.20524758386040443\n",
      "40.02970873393434\n",
      "94.96504596800489\n",
      "94.88423280885489\n",
      "             f0        f1        f2  predictions        true\n",
      "71751 -1.444717 -3.861599  2.225805    93.599633   61.212375\n",
      "80493 -1.418617  1.276544 -0.976433    75.105159   41.850118\n",
      "2655  -4.587649 -0.413199  1.649268    90.066809   57.776581\n",
      "53233  1.871584  1.619101  4.273555   105.162375  100.053761\n",
      "91141 -2.028785  4.128167  6.089547   115.303310  109.897122\n",
      "...         ...       ...       ...          ...         ...\n",
      "12581 -1.315037 -0.122572 -0.345986    78.765887   28.492402\n",
      "18456  0.015144  0.876998  2.603666    95.603394   21.431303\n",
      "73035  0.725767 -0.151545  3.258620    99.407281  125.487229\n",
      "63834 -0.232209 -0.180354 -0.524997    77.779912   99.422903\n",
      "43558 -2.350293 -1.041230  8.458378   129.032417  127.445075\n",
      "\n",
      "[25000 rows x 5 columns]\n",
      "LinearRegression()\n"
     ]
    }
   ],
   "source": [
    "print(*lr_model_function(df2), sep='\\n')"
   ]
  },
  {
   "cell_type": "code",
   "execution_count": 22,
   "metadata": {},
   "outputs": [
    {
     "data": {
      "text/html": [
       "<div>\n",
       "<style scoped>\n",
       "    .dataframe tbody tr th:only-of-type {\n",
       "        vertical-align: middle;\n",
       "    }\n",
       "\n",
       "    .dataframe tbody tr th {\n",
       "        vertical-align: top;\n",
       "    }\n",
       "\n",
       "    .dataframe thead th {\n",
       "        text-align: right;\n",
       "    }\n",
       "</style>\n",
       "<table border=\"1\" class=\"dataframe\">\n",
       "  <thead>\n",
       "    <tr style=\"text-align: right;\">\n",
       "      <th></th>\n",
       "      <th>f0</th>\n",
       "      <th>f1</th>\n",
       "      <th>f2</th>\n",
       "      <th>predictions</th>\n",
       "      <th>true</th>\n",
       "    </tr>\n",
       "  </thead>\n",
       "  <tbody>\n",
       "    <tr>\n",
       "      <th>71751</th>\n",
       "      <td>-1.444717</td>\n",
       "      <td>-3.861599</td>\n",
       "      <td>2.225805</td>\n",
       "      <td>93.599633</td>\n",
       "      <td>61.212375</td>\n",
       "    </tr>\n",
       "    <tr>\n",
       "      <th>80493</th>\n",
       "      <td>-1.418617</td>\n",
       "      <td>1.276544</td>\n",
       "      <td>-0.976433</td>\n",
       "      <td>75.105159</td>\n",
       "      <td>41.850118</td>\n",
       "    </tr>\n",
       "    <tr>\n",
       "      <th>2655</th>\n",
       "      <td>-4.587649</td>\n",
       "      <td>-0.413199</td>\n",
       "      <td>1.649268</td>\n",
       "      <td>90.066809</td>\n",
       "      <td>57.776581</td>\n",
       "    </tr>\n",
       "    <tr>\n",
       "      <th>53233</th>\n",
       "      <td>1.871584</td>\n",
       "      <td>1.619101</td>\n",
       "      <td>4.273555</td>\n",
       "      <td>105.162375</td>\n",
       "      <td>100.053761</td>\n",
       "    </tr>\n",
       "    <tr>\n",
       "      <th>91141</th>\n",
       "      <td>-2.028785</td>\n",
       "      <td>4.128167</td>\n",
       "      <td>6.089547</td>\n",
       "      <td>115.303310</td>\n",
       "      <td>109.897122</td>\n",
       "    </tr>\n",
       "    <tr>\n",
       "      <th>...</th>\n",
       "      <td>...</td>\n",
       "      <td>...</td>\n",
       "      <td>...</td>\n",
       "      <td>...</td>\n",
       "      <td>...</td>\n",
       "    </tr>\n",
       "    <tr>\n",
       "      <th>12581</th>\n",
       "      <td>-1.315037</td>\n",
       "      <td>-0.122572</td>\n",
       "      <td>-0.345986</td>\n",
       "      <td>78.765887</td>\n",
       "      <td>28.492402</td>\n",
       "    </tr>\n",
       "    <tr>\n",
       "      <th>18456</th>\n",
       "      <td>0.015144</td>\n",
       "      <td>0.876998</td>\n",
       "      <td>2.603666</td>\n",
       "      <td>95.603394</td>\n",
       "      <td>21.431303</td>\n",
       "    </tr>\n",
       "    <tr>\n",
       "      <th>73035</th>\n",
       "      <td>0.725767</td>\n",
       "      <td>-0.151545</td>\n",
       "      <td>3.258620</td>\n",
       "      <td>99.407281</td>\n",
       "      <td>125.487229</td>\n",
       "    </tr>\n",
       "    <tr>\n",
       "      <th>63834</th>\n",
       "      <td>-0.232209</td>\n",
       "      <td>-0.180354</td>\n",
       "      <td>-0.524997</td>\n",
       "      <td>77.779912</td>\n",
       "      <td>99.422903</td>\n",
       "    </tr>\n",
       "    <tr>\n",
       "      <th>43558</th>\n",
       "      <td>-2.350293</td>\n",
       "      <td>-1.041230</td>\n",
       "      <td>8.458378</td>\n",
       "      <td>129.032417</td>\n",
       "      <td>127.445075</td>\n",
       "    </tr>\n",
       "  </tbody>\n",
       "</table>\n",
       "<p>25000 rows × 5 columns</p>\n",
       "</div>"
      ],
      "text/plain": [
       "             f0        f1        f2  predictions        true\n",
       "71751 -1.444717 -3.861599  2.225805    93.599633   61.212375\n",
       "80493 -1.418617  1.276544 -0.976433    75.105159   41.850118\n",
       "2655  -4.587649 -0.413199  1.649268    90.066809   57.776581\n",
       "53233  1.871584  1.619101  4.273555   105.162375  100.053761\n",
       "91141 -2.028785  4.128167  6.089547   115.303310  109.897122\n",
       "...         ...       ...       ...          ...         ...\n",
       "12581 -1.315037 -0.122572 -0.345986    78.765887   28.492402\n",
       "18456  0.015144  0.876998  2.603666    95.603394   21.431303\n",
       "73035  0.725767 -0.151545  3.258620    99.407281  125.487229\n",
       "63834 -0.232209 -0.180354 -0.524997    77.779912   99.422903\n",
       "43558 -2.350293 -1.041230  8.458378   129.032417  127.445075\n",
       "\n",
       "[25000 rows x 5 columns]"
      ]
     },
     "execution_count": 22,
     "metadata": {},
     "output_type": "execute_result"
    }
   ],
   "source": [
    "model2=lr_model_function(df2)[-1]\n",
    "df2_result=lr_model_function(df2)[-2]\n",
    "df2_result"
   ]
  },
  {
   "cell_type": "code",
   "execution_count": 23,
   "metadata": {},
   "outputs": [
    {
     "data": {
      "text/plain": [
       "<AxesSubplot:>"
      ]
     },
     "execution_count": 23,
     "metadata": {},
     "output_type": "execute_result"
    },
    {
     "data": {
      "image/png": "[encoded data removed]",
      "text/plain": [
       "<Figure size 432x288 with 1 Axes>"
      ]
     },
     "metadata": {
      "needs_background": "light"
     },
     "output_type": "display_data"
    }
   ],
   "source": [
    "df2_result['true'].hist(bins=10)"
   ]
  },
  {
   "cell_type": "code",
   "execution_count": 24,
   "metadata": {},
   "outputs": [
    {
     "data": {
      "text/plain": [
       "<AxesSubplot:>"
      ]
     },
     "execution_count": 24,
     "metadata": {},
     "output_type": "execute_result"
    },
    {
     "data": {
      "image/png": "[encoded data removed]",
      "text/plain": [
       "<Figure size 432x288 with 1 Axes>"
      ]
     },
     "metadata": {
      "needs_background": "light"
     },
     "output_type": "display_data"
    }
   ],
   "source": [
    "df2_result['predictions'].hist(bins=10)"
   ]
  },
  {
   "cell_type": "markdown",
   "metadata": {},
   "source": [
    "Несмотря на невысокую разницу в найденных средних, видим, что и фактические распределения различаются, и метрики модели невысоки."
   ]
  },
  {
   "cell_type": "markdown",
   "metadata": {},
   "source": [
    "__Вывод:__"
   ]
  },
  {
   "cell_type": "markdown",
   "metadata": {},
   "source": [
    "Мы видим, что в 1-м и в 3-м регионах R2, RMSE не так хороши, как во 2-м регионе. В то же время средние предсказанные запасы сырья и фактические средние запасы сырья почти совпадают. "
   ]
  },
  {
   "cell_type": "markdown",
   "metadata": {},
   "source": [
    "Есть много факторов, которые могли повлиять на R2, RMSE: возможно, это наше ошибочное предположение: согласно данному нам условию задачи мы предположили, что данные имеют линейную зависимость, но это может быть не так."
   ]
  },
  {
   "cell_type": "markdown",
   "metadata": {},
   "source": [
    "Также видим, что фактические распределения целевого признака и его предсказаний различаются, что в будущем может означать большую разницу в фактах и предсказаниях на выборке в размере 500 строк, которые мы будем исследовать. "
   ]
  },
  {
   "cell_type": "markdown",
   "metadata": {},
   "source": [
    "## Подготовка к расчёту прибыли"
   ]
  },
  {
   "cell_type": "markdown",
   "metadata": {},
   "source": [
    "По условиям задачи при разведке региона исследуют 500 точек, из которых с помощью машинного обучения выбирают 200 лучших для разработки. Бюджет на разработку скважин в регионе — 10 млрд рублей. При нынешних ценах один баррель сырья приносит 450 рублей дохода. Доход с каждой единицы продукта составляет 450 тыс. рублей, поскольку объём указан в тысячах баррелей. После оценки рисков нужно оставить лишь те регионы, в которых вероятность убытков меньше 2.5%. Среди них выбрать регион с наибольшей средней прибылью."
   ]
  },
  {
   "cell_type": "markdown",
   "metadata": {},
   "source": [
    "Введем переменные для облегчения изменения расчетов в будущем, если потребуется, сохраним в этих переменных вводные нашей задачи."
   ]
  },
  {
   "cell_type": "code",
   "execution_count": 25,
   "metadata": {},
   "outputs": [],
   "source": [
    "total_budget = 10_000_000_000\n",
    "our_item_qty = 200\n",
    "item_qty_to_check=500\n",
    "profit_per_unit = 450_000"
   ]
  },
  {
   "cell_type": "markdown",
   "metadata": {},
   "source": [
    "total_budget - это наша точка безубыточности. Считаем, что в ней заложены все расходы, требующиеся для разработки скважины, и если мы заработаем с находящегося там сырья такую сумму, мы выйдем в ноль. Считаем, что эта сумма для упрощения расчетов не содержит в себе переменной части (которая на самом деле тем больше, чем больше баррелей добыто из скважины). "
   ]
  },
  {
   "cell_type": "markdown",
   "metadata": {},
   "source": [
    "Сколько тысяч баррелей всего мы должны добыть из выбранных 200 скважин, чтобы заработать такую сумму, если считать, что тысяча баррелей приносит нам 450 тысяч рублей? "
   ]
  },
  {
   "cell_type": "code",
   "execution_count": 26,
   "metadata": {},
   "outputs": [
    {
     "data": {
      "text/plain": [
       "22222.222222222223"
      ]
     },
     "execution_count": 26,
     "metadata": {},
     "output_type": "execute_result"
    }
   ],
   "source": [
    "units_of_zero_point=(total_budget/profit_per_unit)\n",
    "units_of_zero_point"
   ]
  },
  {
   "cell_type": "code",
   "execution_count": 27,
   "metadata": {},
   "outputs": [
    {
     "data": {
      "text/plain": [
       "111.11111111111111"
      ]
     },
     "execution_count": 27,
     "metadata": {},
     "output_type": "execute_result"
    }
   ],
   "source": [
    "zero_point_mean_qty=units_of_zero_point/our_item_qty\n",
    "zero_point_mean_qty"
   ]
  },
  {
   "cell_type": "code",
   "execution_count": 28,
   "metadata": {},
   "outputs": [
    {
     "name": "stdout",
     "output_type": "stream",
     "text": [
      "92.59256778438008 68.72854689544577 94.96504596800504\n"
     ]
    }
   ],
   "source": [
    "list_of_predicted_means=[df0_result.predictions.mean(), df1_result.predictions.mean(), df2_result.predictions.mean()]\n",
    "print(*list_of_predicted_means)"
   ]
  },
  {
   "cell_type": "markdown",
   "metadata": {},
   "source": [
    "Если рассчитывать достаточный объём сырья для безубыточной разработки новой скважины и сравнивать полученный объём сырья со средним запасом в каждом регионе, то видим, что ни в одном регионе среднее по скважине не достигает такого значения, однако, это не означает, что в этом регионе нет скважин, у которых фактическое значение больше (конечно же есть) и не означает, что мы не найдем там 200 скважин, которые совместно дадут нам значение прибыли бОльшее, чем наша точка безубыточности. "
   ]
  },
  {
   "cell_type": "markdown",
   "metadata": {},
   "source": [
    "## Расчёт прибыли "
   ]
  },
  {
   "cell_type": "markdown",
   "metadata": {},
   "source": [
    "Напишем функцию для расчёта прибыли в млн.руб."
   ]
  },
  {
   "cell_type": "code",
   "execution_count": 29,
   "metadata": {},
   "outputs": [],
   "source": [
    "def profit_function(df): \n",
    "    return (df['predictions'].sum()*profit_per_unit - total_budget)/1_000_000"
   ]
  },
  {
   "cell_type": "markdown",
   "metadata": {},
   "source": [
    "Выберем в каждом регионе из предсказаний по валидационной выборке случайным образом по 500 значений и выберем 200 с максимальными значениями.  "
   ]
  },
  {
   "cell_type": "markdown",
   "metadata": {},
   "source": [
    "Зададим параметр случайности выборки 500 скважин из 25 000. "
   ]
  },
  {
   "cell_type": "code",
   "execution_count": 30,
   "metadata": {},
   "outputs": [],
   "source": [
    "rndmst=123456789"
   ]
  },
  {
   "cell_type": "markdown",
   "metadata": {},
   "source": [
    "__Регион №1__"
   ]
  },
  {
   "cell_type": "code",
   "execution_count": 31,
   "metadata": {},
   "outputs": [
    {
     "data": {
      "text/html": [
       "<div>\n",
       "<style scoped>\n",
       "    .dataframe tbody tr th:only-of-type {\n",
       "        vertical-align: middle;\n",
       "    }\n",
       "\n",
       "    .dataframe tbody tr th {\n",
       "        vertical-align: top;\n",
       "    }\n",
       "\n",
       "    .dataframe thead th {\n",
       "        text-align: right;\n",
       "    }\n",
       "</style>\n",
       "<table border=\"1\" class=\"dataframe\">\n",
       "  <thead>\n",
       "    <tr style=\"text-align: right;\">\n",
       "      <th></th>\n",
       "      <th>f0</th>\n",
       "      <th>f1</th>\n",
       "      <th>f2</th>\n",
       "      <th>predictions</th>\n",
       "      <th>true</th>\n",
       "    </tr>\n",
       "  </thead>\n",
       "  <tbody>\n",
       "    <tr>\n",
       "      <th>50367</th>\n",
       "      <td>1.581559</td>\n",
       "      <td>-0.264143</td>\n",
       "      <td>11.717469</td>\n",
       "      <td>164.518054</td>\n",
       "      <td>139.523593</td>\n",
       "    </tr>\n",
       "    <tr>\n",
       "      <th>36874</th>\n",
       "      <td>0.447998</td>\n",
       "      <td>-0.339553</td>\n",
       "      <td>10.635888</td>\n",
       "      <td>154.377462</td>\n",
       "      <td>126.516648</td>\n",
       "    </tr>\n",
       "    <tr>\n",
       "      <th>50461</th>\n",
       "      <td>1.296214</td>\n",
       "      <td>-0.440472</td>\n",
       "      <td>9.021662</td>\n",
       "      <td>148.204832</td>\n",
       "      <td>127.079241</td>\n",
       "    </tr>\n",
       "    <tr>\n",
       "      <th>52326</th>\n",
       "      <td>0.040041</td>\n",
       "      <td>0.249530</td>\n",
       "      <td>10.943360</td>\n",
       "      <td>146.634102</td>\n",
       "      <td>184.646014</td>\n",
       "    </tr>\n",
       "    <tr>\n",
       "      <th>17265</th>\n",
       "      <td>1.902856</td>\n",
       "      <td>0.133431</td>\n",
       "      <td>9.357853</td>\n",
       "      <td>144.510085</td>\n",
       "      <td>40.363713</td>\n",
       "    </tr>\n",
       "    <tr>\n",
       "      <th>...</th>\n",
       "      <td>...</td>\n",
       "      <td>...</td>\n",
       "      <td>...</td>\n",
       "      <td>...</td>\n",
       "      <td>...</td>\n",
       "    </tr>\n",
       "    <tr>\n",
       "      <th>57866</th>\n",
       "      <td>0.509806</td>\n",
       "      <td>-0.438573</td>\n",
       "      <td>2.103071</td>\n",
       "      <td>99.737230</td>\n",
       "      <td>70.804159</td>\n",
       "    </tr>\n",
       "    <tr>\n",
       "      <th>14591</th>\n",
       "      <td>0.163142</td>\n",
       "      <td>1.149015</td>\n",
       "      <td>5.656408</td>\n",
       "      <td>99.537748</td>\n",
       "      <td>89.936340</td>\n",
       "    </tr>\n",
       "    <tr>\n",
       "      <th>20165</th>\n",
       "      <td>0.862292</td>\n",
       "      <td>0.228152</td>\n",
       "      <td>3.301657</td>\n",
       "      <td>99.506673</td>\n",
       "      <td>71.265231</td>\n",
       "    </tr>\n",
       "    <tr>\n",
       "      <th>68694</th>\n",
       "      <td>1.108527</td>\n",
       "      <td>-0.683091</td>\n",
       "      <td>1.197731</td>\n",
       "      <td>99.366458</td>\n",
       "      <td>123.028638</td>\n",
       "    </tr>\n",
       "    <tr>\n",
       "      <th>37788</th>\n",
       "      <td>0.809889</td>\n",
       "      <td>0.324829</td>\n",
       "      <td>3.497066</td>\n",
       "      <td>99.243806</td>\n",
       "      <td>68.886254</td>\n",
       "    </tr>\n",
       "  </tbody>\n",
       "</table>\n",
       "<p>200 rows × 5 columns</p>\n",
       "</div>"
      ],
      "text/plain": [
       "             f0        f1         f2  predictions        true\n",
       "50367  1.581559 -0.264143  11.717469   164.518054  139.523593\n",
       "36874  0.447998 -0.339553  10.635888   154.377462  126.516648\n",
       "50461  1.296214 -0.440472   9.021662   148.204832  127.079241\n",
       "52326  0.040041  0.249530  10.943360   146.634102  184.646014\n",
       "17265  1.902856  0.133431   9.357853   144.510085   40.363713\n",
       "...         ...       ...        ...          ...         ...\n",
       "57866  0.509806 -0.438573   2.103071    99.737230   70.804159\n",
       "14591  0.163142  1.149015   5.656408    99.537748   89.936340\n",
       "20165  0.862292  0.228152   3.301657    99.506673   71.265231\n",
       "68694  1.108527 -0.683091   1.197731    99.366458  123.028638\n",
       "37788  0.809889  0.324829   3.497066    99.243806   68.886254\n",
       "\n",
       "[200 rows x 5 columns]"
      ]
     },
     "execution_count": 31,
     "metadata": {},
     "output_type": "execute_result"
    }
   ],
   "source": [
    "sample0=df0_result.sample(item_qty_to_check, random_state=rndmst).sort_values(by='predictions', ascending=False)[:our_item_qty]\n",
    "sample0"
   ]
  },
  {
   "cell_type": "markdown",
   "metadata": {},
   "source": [
    "__Регион №2__"
   ]
  },
  {
   "cell_type": "code",
   "execution_count": 32,
   "metadata": {},
   "outputs": [
    {
     "data": {
      "text/html": [
       "<div>\n",
       "<style scoped>\n",
       "    .dataframe tbody tr th:only-of-type {\n",
       "        vertical-align: middle;\n",
       "    }\n",
       "\n",
       "    .dataframe tbody tr th {\n",
       "        vertical-align: top;\n",
       "    }\n",
       "\n",
       "    .dataframe thead th {\n",
       "        text-align: right;\n",
       "    }\n",
       "</style>\n",
       "<table border=\"1\" class=\"dataframe\">\n",
       "  <thead>\n",
       "    <tr style=\"text-align: right;\">\n",
       "      <th></th>\n",
       "      <th>f0</th>\n",
       "      <th>f1</th>\n",
       "      <th>f2</th>\n",
       "      <th>predictions</th>\n",
       "      <th>true</th>\n",
       "    </tr>\n",
       "  </thead>\n",
       "  <tbody>\n",
       "    <tr>\n",
       "      <th>20439</th>\n",
       "      <td>-18.822660</td>\n",
       "      <td>-8.256804</td>\n",
       "      <td>4.997382</td>\n",
       "      <td>139.250680</td>\n",
       "      <td>137.945408</td>\n",
       "    </tr>\n",
       "    <tr>\n",
       "      <th>60823</th>\n",
       "      <td>-12.060451</td>\n",
       "      <td>-11.454091</td>\n",
       "      <td>5.009029</td>\n",
       "      <td>138.654896</td>\n",
       "      <td>137.945408</td>\n",
       "    </tr>\n",
       "    <tr>\n",
       "      <th>80836</th>\n",
       "      <td>-10.788478</td>\n",
       "      <td>-11.757641</td>\n",
       "      <td>5.007238</td>\n",
       "      <td>138.428935</td>\n",
       "      <td>137.945408</td>\n",
       "    </tr>\n",
       "    <tr>\n",
       "      <th>34871</th>\n",
       "      <td>-11.649646</td>\n",
       "      <td>-15.907144</td>\n",
       "      <td>4.997861</td>\n",
       "      <td>138.392459</td>\n",
       "      <td>137.945408</td>\n",
       "    </tr>\n",
       "    <tr>\n",
       "      <th>11607</th>\n",
       "      <td>-12.260774</td>\n",
       "      <td>-5.873965</td>\n",
       "      <td>5.000257</td>\n",
       "      <td>138.324601</td>\n",
       "      <td>137.945408</td>\n",
       "    </tr>\n",
       "    <tr>\n",
       "      <th>...</th>\n",
       "      <td>...</td>\n",
       "      <td>...</td>\n",
       "      <td>...</td>\n",
       "      <td>...</td>\n",
       "      <td>...</td>\n",
       "    </tr>\n",
       "    <tr>\n",
       "      <th>91945</th>\n",
       "      <td>-3.740867</td>\n",
       "      <td>-5.867900</td>\n",
       "      <td>2.999385</td>\n",
       "      <td>83.163699</td>\n",
       "      <td>84.038886</td>\n",
       "    </tr>\n",
       "    <tr>\n",
       "      <th>26123</th>\n",
       "      <td>-2.134073</td>\n",
       "      <td>-9.281419</td>\n",
       "      <td>3.004093</td>\n",
       "      <td>83.132908</td>\n",
       "      <td>84.038886</td>\n",
       "    </tr>\n",
       "    <tr>\n",
       "      <th>4383</th>\n",
       "      <td>-2.670666</td>\n",
       "      <td>-15.181471</td>\n",
       "      <td>2.996181</td>\n",
       "      <td>83.127415</td>\n",
       "      <td>84.038886</td>\n",
       "    </tr>\n",
       "    <tr>\n",
       "      <th>78179</th>\n",
       "      <td>-2.478332</td>\n",
       "      <td>-6.532430</td>\n",
       "      <td>3.004102</td>\n",
       "      <td>83.122490</td>\n",
       "      <td>84.038886</td>\n",
       "    </tr>\n",
       "    <tr>\n",
       "      <th>606</th>\n",
       "      <td>-2.545355</td>\n",
       "      <td>1.545723</td>\n",
       "      <td>3.001225</td>\n",
       "      <td>82.876704</td>\n",
       "      <td>84.038886</td>\n",
       "    </tr>\n",
       "  </tbody>\n",
       "</table>\n",
       "<p>200 rows × 5 columns</p>\n",
       "</div>"
      ],
      "text/plain": [
       "              f0         f1        f2  predictions        true\n",
       "20439 -18.822660  -8.256804  4.997382   139.250680  137.945408\n",
       "60823 -12.060451 -11.454091  5.009029   138.654896  137.945408\n",
       "80836 -10.788478 -11.757641  5.007238   138.428935  137.945408\n",
       "34871 -11.649646 -15.907144  4.997861   138.392459  137.945408\n",
       "11607 -12.260774  -5.873965  5.000257   138.324601  137.945408\n",
       "...          ...        ...       ...          ...         ...\n",
       "91945  -3.740867  -5.867900  2.999385    83.163699   84.038886\n",
       "26123  -2.134073  -9.281419  3.004093    83.132908   84.038886\n",
       "4383   -2.670666 -15.181471  2.996181    83.127415   84.038886\n",
       "78179  -2.478332  -6.532430  3.004102    83.122490   84.038886\n",
       "606    -2.545355   1.545723  3.001225    82.876704   84.038886\n",
       "\n",
       "[200 rows x 5 columns]"
      ]
     },
     "execution_count": 32,
     "metadata": {},
     "output_type": "execute_result"
    }
   ],
   "source": [
    "sample1=df1_result.sample(item_qty_to_check, random_state=rndmst).sort_values(by='predictions', ascending=False)[:our_item_qty]\n",
    "sample1"
   ]
  },
  {
   "cell_type": "markdown",
   "metadata": {},
   "source": [
    "__Регион №3__"
   ]
  },
  {
   "cell_type": "code",
   "execution_count": 33,
   "metadata": {},
   "outputs": [
    {
     "data": {
      "text/html": [
       "<div>\n",
       "<style scoped>\n",
       "    .dataframe tbody tr th:only-of-type {\n",
       "        vertical-align: middle;\n",
       "    }\n",
       "\n",
       "    .dataframe tbody tr th {\n",
       "        vertical-align: top;\n",
       "    }\n",
       "\n",
       "    .dataframe thead th {\n",
       "        text-align: right;\n",
       "    }\n",
       "</style>\n",
       "<table border=\"1\" class=\"dataframe\">\n",
       "  <thead>\n",
       "    <tr style=\"text-align: right;\">\n",
       "      <th></th>\n",
       "      <th>f0</th>\n",
       "      <th>f1</th>\n",
       "      <th>f2</th>\n",
       "      <th>predictions</th>\n",
       "      <th>true</th>\n",
       "    </tr>\n",
       "  </thead>\n",
       "  <tbody>\n",
       "    <tr>\n",
       "      <th>1904</th>\n",
       "      <td>-1.741729</td>\n",
       "      <td>0.575029</td>\n",
       "      <td>13.688761</td>\n",
       "      <td>158.841421</td>\n",
       "      <td>118.772686</td>\n",
       "    </tr>\n",
       "    <tr>\n",
       "      <th>30308</th>\n",
       "      <td>-0.094269</td>\n",
       "      <td>-0.759789</td>\n",
       "      <td>12.566898</td>\n",
       "      <td>152.544084</td>\n",
       "      <td>157.465282</td>\n",
       "    </tr>\n",
       "    <tr>\n",
       "      <th>1339</th>\n",
       "      <td>-0.631192</td>\n",
       "      <td>-0.217844</td>\n",
       "      <td>10.392351</td>\n",
       "      <td>140.091286</td>\n",
       "      <td>133.443987</td>\n",
       "    </tr>\n",
       "    <tr>\n",
       "      <th>85930</th>\n",
       "      <td>-1.191575</td>\n",
       "      <td>-1.241880</td>\n",
       "      <td>10.173281</td>\n",
       "      <td>138.866262</td>\n",
       "      <td>106.531301</td>\n",
       "    </tr>\n",
       "    <tr>\n",
       "      <th>7989</th>\n",
       "      <td>0.345417</td>\n",
       "      <td>-0.359158</td>\n",
       "      <td>10.133673</td>\n",
       "      <td>138.650742</td>\n",
       "      <td>107.647665</td>\n",
       "    </tr>\n",
       "    <tr>\n",
       "      <th>...</th>\n",
       "      <td>...</td>\n",
       "      <td>...</td>\n",
       "      <td>...</td>\n",
       "      <td>...</td>\n",
       "      <td>...</td>\n",
       "    </tr>\n",
       "    <tr>\n",
       "      <th>45022</th>\n",
       "      <td>-4.721336</td>\n",
       "      <td>0.824397</td>\n",
       "      <td>3.477883</td>\n",
       "      <td>100.449571</td>\n",
       "      <td>150.807880</td>\n",
       "    </tr>\n",
       "    <tr>\n",
       "      <th>3562</th>\n",
       "      <td>-2.541363</td>\n",
       "      <td>0.998622</td>\n",
       "      <td>3.462415</td>\n",
       "      <td>100.421417</td>\n",
       "      <td>110.942739</td>\n",
       "    </tr>\n",
       "    <tr>\n",
       "      <th>23301</th>\n",
       "      <td>1.562955</td>\n",
       "      <td>-1.246168</td>\n",
       "      <td>3.356207</td>\n",
       "      <td>100.036099</td>\n",
       "      <td>35.421518</td>\n",
       "    </tr>\n",
       "    <tr>\n",
       "      <th>78104</th>\n",
       "      <td>-0.717426</td>\n",
       "      <td>-0.964634</td>\n",
       "      <td>3.365185</td>\n",
       "      <td>100.005014</td>\n",
       "      <td>97.783916</td>\n",
       "    </tr>\n",
       "    <tr>\n",
       "      <th>3853</th>\n",
       "      <td>-1.330892</td>\n",
       "      <td>1.334805</td>\n",
       "      <td>3.362124</td>\n",
       "      <td>99.872269</td>\n",
       "      <td>26.151787</td>\n",
       "    </tr>\n",
       "  </tbody>\n",
       "</table>\n",
       "<p>200 rows × 5 columns</p>\n",
       "</div>"
      ],
      "text/plain": [
       "             f0        f1         f2  predictions        true\n",
       "1904  -1.741729  0.575029  13.688761   158.841421  118.772686\n",
       "30308 -0.094269 -0.759789  12.566898   152.544084  157.465282\n",
       "1339  -0.631192 -0.217844  10.392351   140.091286  133.443987\n",
       "85930 -1.191575 -1.241880  10.173281   138.866262  106.531301\n",
       "7989   0.345417 -0.359158  10.133673   138.650742  107.647665\n",
       "...         ...       ...        ...          ...         ...\n",
       "45022 -4.721336  0.824397   3.477883   100.449571  150.807880\n",
       "3562  -2.541363  0.998622   3.462415   100.421417  110.942739\n",
       "23301  1.562955 -1.246168   3.356207   100.036099   35.421518\n",
       "78104 -0.717426 -0.964634   3.365185   100.005014   97.783916\n",
       "3853  -1.330892  1.334805   3.362124    99.872269   26.151787\n",
       "\n",
       "[200 rows x 5 columns]"
      ]
     },
     "execution_count": 33,
     "metadata": {},
     "output_type": "execute_result"
    }
   ],
   "source": [
    "sample2=df2_result.sample(item_qty_to_check, random_state=rndmst).sort_values(by='predictions', ascending=False)[:our_item_qty]\n",
    "sample2"
   ]
  },
  {
   "cell_type": "code",
   "execution_count": 34,
   "metadata": {},
   "outputs": [
    {
     "data": {
      "text/plain": [
       "[414.79082787751963, 350.9045007552109, 185.37263153611755]"
      ]
     },
     "execution_count": 34,
     "metadata": {},
     "output_type": "execute_result"
    }
   ],
   "source": [
    "list_of_loss_profits=[profit_function(sample0), profit_function(sample1), profit_function(sample2)]\n",
    "list_of_loss_profits"
   ]
  },
  {
   "cell_type": "markdown",
   "metadata": {},
   "source": [
    "Покажем предсказанные суммы запасов в выбранных 200 скважинах в регионе, и средние предсказанные запасы в одной скважине)"
   ]
  },
  {
   "cell_type": "code",
   "execution_count": 35,
   "metadata": {},
   "outputs": [
    {
     "data": {
      "text/plain": [
       "[115.71989808752792, 115.01005000839125, 113.17080701706796]"
      ]
     },
     "execution_count": 35,
     "metadata": {},
     "output_type": "execute_result"
    }
   ],
   "source": [
    "list_of_predicted_mean=[sample0.predictions.mean(),sample1.predictions.mean(),sample2.predictions.mean()]\n",
    "list_of_predicted_mean"
   ]
  },
  {
   "cell_type": "code",
   "execution_count": 36,
   "metadata": {},
   "outputs": [
    {
     "data": {
      "text/plain": [
       "[23143.9796175056, 23002.010001678245, 22634.161403413593]"
      ]
     },
     "execution_count": 36,
     "metadata": {},
     "output_type": "execute_result"
    }
   ],
   "source": [
    "list_of_predicted_totals=[sample0.predictions.sum(),sample1.predictions.sum(),sample2.predictions.sum()]\n",
    "list_of_predicted_totals"
   ]
  },
  {
   "cell_type": "code",
   "execution_count": 37,
   "metadata": {},
   "outputs": [
    {
     "name": "stdout",
     "output_type": "stream",
     "text": [
      "Регион с максимальной прибылью от выбранных 200 точек: 1\n"
     ]
    }
   ],
   "source": [
    "best_region_index=list_of_predicted_mean.index(max(list_of_predicted_mean))\n",
    "print('Регион с максимальной прибылью от выбранных 200 точек:', list_of_loss_profits.index(max(list_of_loss_profits))+1)"
   ]
  },
  {
   "cell_type": "markdown",
   "metadata": {},
   "source": [
    "Мы определили регион с наилучшей прибылью согласно предсказаниям созданной нами модели."
   ]
  },
  {
   "cell_type": "markdown",
   "metadata": {},
   "source": [
    "Для проверки посмотрим, какую прибыль мы бы на самом деле получили, если бы выбрали для разработки эти 200 точек, и получили ли бы ее вообще (в млн.руб). "
   ]
  },
  {
   "cell_type": "code",
   "execution_count": 38,
   "metadata": {},
   "outputs": [
    {
     "data": {
      "text/plain": [
       "694.9685714743271"
      ]
     },
     "execution_count": 38,
     "metadata": {},
     "output_type": "execute_result"
    }
   ],
   "source": [
    "true_profit_of_200=(sample0.true.sum()*profit_per_unit - total_budget)/1_000_000\n",
    "true_profit_of_200"
   ]
  },
  {
   "cell_type": "markdown",
   "metadata": {},
   "source": [
    "Фактическое отличие прибыли от предсказанной было бы в этом случае больше предсказанного на (млн.руб.): "
   ]
  },
  {
   "cell_type": "code",
   "execution_count": 39,
   "metadata": {},
   "outputs": [
    {
     "data": {
      "text/plain": [
       "280.17774359680743"
      ]
     },
     "execution_count": 39,
     "metadata": {},
     "output_type": "execute_result"
    }
   ],
   "source": [
    "true_profit_of_200-list_of_loss_profits[0]"
   ]
  },
  {
   "cell_type": "markdown",
   "metadata": {},
   "source": [
    "Это существенная разница. В этом случае, возможно, при другом случайном выборе 500 скважин из 25 000 точек мы бы оказались в такой ситуации, когда получили бы убытки, поэтому перейдем к расчету доверительного интервала и риска убытков, используя Bootstrap на валидационной выборке. "
   ]
  },
  {
   "cell_type": "markdown",
   "metadata": {},
   "source": [
    "## Расчёт прибыли и рисков с помощью Bootstrap"
   ]
  },
  {
   "cell_type": "markdown",
   "metadata": {},
   "source": [
    "Посчитаем риски и прибыль для каждого региона. Для этого: <div>\n",
    "- применим технику Bootstrap с 1000 выборок, чтобы найти распределение прибыли, <div>\n",
    "- найдём среднюю прибыль, 95%-й доверительный интервал и риск убытков, <div>\n",
    "- выберем регион для разработки скважин после оценки рисков получения убытков после Bootstrap. "
   ]
  },
  {
   "cell_type": "markdown",
   "metadata": {},
   "source": [
    "__Регион 1__"
   ]
  },
  {
   "cell_type": "markdown",
   "metadata": {},
   "source": [
    "Ранее мы обозначили следующие переменные: <div>\n",
    "- total_budget = 10_000_000_000<div>\n",
    "- our_item_qty = 200<div>\n",
    "- item_qty_to_check=500<div>\n",
    "- profit_per_unit = 450_000"
   ]
  },
  {
   "cell_type": "markdown",
   "metadata": {},
   "source": [
    "Также нашли zero_point_mean_qty."
   ]
  },
  {
   "cell_type": "markdown",
   "metadata": {},
   "source": [
    "Для анализа у нас есть датафреймы с предсказаниями на валидационных выборках: <div>\n",
    "- df0_result<div>\n",
    "- df1_result<div>\n",
    "- df2_result"
   ]
  },
  {
   "cell_type": "markdown",
   "metadata": {},
   "source": [
    "Также проверим гипотезу о том, что средняя прибыль, полученная нами по результатам Bootstrap больше нуля. \n",
    "Сформулируем нулевую гипотезу как \"средняя прибыль равняется нулю\". \n",
    "Альтернативная гипотеза: \"средняя прибыль превышает нулевое значение\". "
   ]
  },
  {
   "cell_type": "markdown",
   "metadata": {},
   "source": [
    "_После оценки рисков нужно оставить лишь те регионы, в которых вероятность убытков меньше 2.5%, и среди них выбрать регион с наибольшей средней прибылью._"
   ]
  },
  {
   "cell_type": "code",
   "execution_count": 40,
   "metadata": {},
   "outputs": [],
   "source": [
    "def bootstrap_function (df): \n",
    "\n",
    "    true = df['true']\n",
    "    predictions = df['predictions']\n",
    "\n",
    "    def revenue(true, predictions):\n",
    "        predictions_sorted = predictions.sort_values(ascending=False)\n",
    "        selected=true[predictions_sorted.index][:our_item_qty]        \n",
    "        return (profit_per_unit * selected.sum() - total_budget)\n",
    "\n",
    "    state = np.random.RandomState(12345)\n",
    "    \n",
    "    values = []\n",
    "\n",
    "    for i in range(1000):\n",
    "        true_subsample=true.sample(item_qty_to_check, replace=True, random_state=state)\n",
    "        predictions_subsample=predictions[true_subsample.index]\n",
    "        values.append(revenue(true_subsample, predictions_subsample))\n",
    "\n",
    "    values = pd.Series(values)\n",
    "    bootstaped_mean = values.mean()\n",
    "    \n",
    "    interval_95 = (values.quantile(0.025)/1_000_000, values.quantile(0.975)/1_000_000)\n",
    "    risk_of_loss = (len(values[values<0])/len(values))*100\n",
    "    \n",
    "    return (bootstaped_mean, interval_95, risk_of_loss)"
   ]
  },
  {
   "cell_type": "code",
   "execution_count": 41,
   "metadata": {},
   "outputs": [
    {
     "name": "stdout",
     "output_type": "stream",
     "text": [
      "Регион 1: средняя выручка, млн.руб. 425.93852691059203\n",
      "С 95%-й вероятностью средняя выручка находится в интервале, млн.руб.: (-102.09009483793653, 947.9763533583689)\n",
      "Убытков среди средних значений прибылей, %: 6.0\n",
      "Регион 2: средняя выручка, млн.руб. 515.2227734432901\n",
      "С 95%-й вероятностью средняя выручка находится в интервале, млн.руб.: (68.87322537050176, 931.5475912570495)\n",
      "Убытков среди средних значений прибылей, %: 1.0\n",
      "Регион 3: средняя выручка, млн.руб. 435.00836278275597\n",
      "С 95%-й вероятностью средняя выручка находится в интервале, млн.руб.: (-128.880547329789, 969.7069541802662)\n",
      "Убытков среди средних значений прибылей, %: 6.4\n"
     ]
    }
   ],
   "source": [
    "print('Регион 1: средняя выручка, млн.руб.', (bootstrap_function(df0_result)[0]/1_000_000))\n",
    "print('С 95%-й вероятностью средняя выручка находится в интервале, млн.руб.:', bootstrap_function(df0_result)[1])\n",
    "print('Убытков среди средних значений прибылей, %:', bootstrap_function(df0_result)[-1])\n",
    "\n",
    "print('Регион 2: средняя выручка, млн.руб.', (bootstrap_function(df1_result)[0]/1_000_000))\n",
    "print('С 95%-й вероятностью средняя выручка находится в интервале, млн.руб.:', bootstrap_function(df1_result)[1])\n",
    "print('Убытков среди средних значений прибылей, %:',bootstrap_function(df1_result)[-1])\n",
    "\n",
    "print('Регион 3: средняя выручка, млн.руб.', (bootstrap_function(df2_result)[0]/1_000_000))\n",
    "print('С 95%-й вероятностью средняя выручка находится в интервале, млн.руб.:', bootstrap_function(df2_result)[1])\n",
    "print('Убытков среди средних значений прибылей, %:',bootstrap_function(df2_result)[-1])"
   ]
  },
  {
   "cell_type": "markdown",
   "metadata": {},
   "source": [
    "__Вывод:__"
   ]
  },
  {
   "cell_type": "markdown",
   "metadata": {},
   "source": [
    "Регион 2 с точки зрения оценок, полученных методом Bootstrap, более предпочтителен, т.к. в значениях 95%-й вероятности нет не только отрицательных, но и нулевых, средняя выручка максимальна из трех, и риск убытков менее заданного значения."
   ]
  }
 ],
 "metadata": {
  "ExecuteTimeLog": [
   {
    "duration": 1460,
    "start_time": "2021-10-22T07:34:36.570Z"
   },
   {
    "duration": 439,
    "start_time": "2021-10-22T07:34:38.033Z"
   },
   {
    "duration": 118,
    "start_time": "2021-10-22T07:34:38.474Z"
   },
   {
    "duration": 13,
    "start_time": "2021-10-22T07:34:38.594Z"
   },
   {
    "duration": 14,
    "start_time": "2021-10-22T07:34:38.610Z"
   },
   {
    "duration": 57,
    "start_time": "2021-10-22T07:34:38.627Z"
   },
   {
    "duration": 14,
    "start_time": "2021-10-22T07:34:38.688Z"
   },
   {
    "duration": 15,
    "start_time": "2021-10-22T07:34:38.844Z"
   },
   {
    "duration": 17,
    "start_time": "2021-10-22T07:34:39.070Z"
   },
   {
    "duration": 17,
    "start_time": "2021-10-22T07:34:39.345Z"
   },
   {
    "duration": 16,
    "start_time": "2021-10-22T07:34:39.732Z"
   },
   {
    "duration": 7,
    "start_time": "2021-10-22T07:36:40.798Z"
   },
   {
    "duration": 229,
    "start_time": "2021-10-22T07:37:30.857Z"
   },
   {
    "duration": 375,
    "start_time": "2021-10-22T07:37:32.014Z"
   },
   {
    "duration": 326,
    "start_time": "2021-10-22T07:37:33.708Z"
   },
   {
    "duration": 345,
    "start_time": "2021-10-22T07:37:34.037Z"
   },
   {
    "duration": 146,
    "start_time": "2021-10-22T07:37:35.237Z"
   },
   {
    "duration": 384,
    "start_time": "2021-10-22T07:37:35.705Z"
   },
   {
    "duration": 355,
    "start_time": "2021-10-22T07:37:36.091Z"
   },
   {
    "duration": 344,
    "start_time": "2021-10-22T07:37:36.448Z"
   },
   {
    "duration": 215,
    "start_time": "2021-10-22T07:37:37.466Z"
   },
   {
    "duration": 412,
    "start_time": "2021-10-22T07:37:37.775Z"
   },
   {
    "duration": 349,
    "start_time": "2021-10-22T07:37:38.190Z"
   },
   {
    "duration": 403,
    "start_time": "2021-10-22T07:37:38.542Z"
   },
   {
    "duration": 4,
    "start_time": "2021-10-22T07:44:45.538Z"
   },
   {
    "duration": 5,
    "start_time": "2021-10-22T07:44:46.770Z"
   },
   {
    "duration": 5,
    "start_time": "2021-10-22T07:44:46.961Z"
   },
   {
    "duration": 6,
    "start_time": "2021-10-22T07:44:47.191Z"
   },
   {
    "duration": 3,
    "start_time": "2021-10-22T07:46:18.992Z"
   },
   {
    "duration": 4,
    "start_time": "2021-10-22T07:46:20.047Z"
   },
   {
    "duration": 20,
    "start_time": "2021-10-22T07:46:20.381Z"
   },
   {
    "duration": 20,
    "start_time": "2021-10-22T07:46:21.514Z"
   },
   {
    "duration": 20,
    "start_time": "2021-10-22T07:46:22.038Z"
   },
   {
    "duration": 7,
    "start_time": "2021-10-22T07:46:22.210Z"
   },
   {
    "duration": 6,
    "start_time": "2021-10-22T07:46:22.551Z"
   },
   {
    "duration": 6,
    "start_time": "2021-10-22T07:46:22.727Z"
   },
   {
    "duration": 5,
    "start_time": "2021-10-22T07:46:22.919Z"
   },
   {
    "duration": 6,
    "start_time": "2021-10-22T07:46:23.456Z"
   },
   {
    "duration": 5,
    "start_time": "2021-10-22T07:46:23.851Z"
   }
  ],
  "kernelspec": {
   "display_name": "Python 3 (ipykernel)",
   "language": "python",
   "name": "python3"
  },
  "language_info": {
   "codemirror_mode": {
    "name": "ipython",
    "version": 3
   },
   "file_extension": ".py",
   "mimetype": "text/x-python",
   "name": "python",
   "nbconvert_exporter": "python",
   "pygments_lexer": "ipython3",
   "version": "3.9.7"
  },
  "toc": {
   "base_numbering": 1,
   "nav_menu": {},
   "number_sections": true,
   "sideBar": true,
   "skip_h1_title": true,
   "title_cell": "Table of Contents",
   "title_sidebar": "Contents",
   "toc_cell": false,
   "toc_position": {},
   "toc_section_display": true,
   "toc_window_display": false
  }
 },
 "nbformat": 4,
 "nbformat_minor": 2
}
