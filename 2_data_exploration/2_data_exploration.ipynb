{
 "cells": [
  {
   "cell_type": "markdown",
   "metadata": {},
   "source": [
    "Нужно научиться определять рыночную стоимость объектов недвижимости, задача — установить параметры. Это позволит построить автоматизированную систему: она отследит аномалии и мошенническую деятельность."
   ]
  },
  {
   "cell_type": "markdown",
   "metadata": {},
   "source": [
    "## Изучение данных "
   ]
  },
  {
   "cell_type": "code",
   "execution_count": 1,
   "metadata": {},
   "outputs": [],
   "source": [
    "import pandas as pd \n",
    "import matplotlib.pyplot as plt\n",
    "import seaborn as sns"
   ]
  },
  {
   "cell_type": "code",
   "execution_count": 2,
   "metadata": {},
   "outputs": [],
   "source": [
    "pd.options.display.max_columns=40\n",
    "pd.set_option('display.float_format', '{:.2f}'.format)"
   ]
  },
  {
   "cell_type": "code",
   "execution_count": 3,
   "metadata": {},
   "outputs": [],
   "source": [
    "try: \n",
    "    data = pd.read_csv('datasets/real_estate_data.csv', sep='\\t', decimal=',')\n",
    "except: \n",
    "    data = pd.read_csv('/datasets/real_estate_data.csv', sep='\\t', decimal=',')"
   ]
  },
  {
   "cell_type": "code",
   "execution_count": 4,
   "metadata": {},
   "outputs": [
    {
     "name": "stdout",
     "output_type": "stream",
     "text": [
      "<class 'pandas.core.frame.DataFrame'>\n",
      "RangeIndex: 23699 entries, 0 to 23698\n",
      "Data columns (total 22 columns):\n",
      " #   Column                Non-Null Count  Dtype \n",
      "---  ------                --------------  ----- \n",
      " 0   total_images          23699 non-null  int64 \n",
      " 1   last_price            23699 non-null  object\n",
      " 2   total_area            23699 non-null  object\n",
      " 3   first_day_exposition  23699 non-null  object\n",
      " 4   rooms                 23699 non-null  int64 \n",
      " 5   ceiling_height        14504 non-null  object\n",
      " 6   floors_total          23613 non-null  object\n",
      " 7   living_area           21796 non-null  object\n",
      " 8   floor                 23699 non-null  int64 \n",
      " 9   is_apartment          2775 non-null   object\n",
      " 10  studio                23699 non-null  bool  \n",
      " 11  open_plan             23699 non-null  bool  \n",
      " 12  kitchen_area          21421 non-null  object\n",
      " 13  balcony               12180 non-null  object\n",
      " 14  locality_name         23650 non-null  object\n",
      " 15  airports_nearest      18157 non-null  object\n",
      " 16  cityCenters_nearest   18180 non-null  object\n",
      " 17  parks_around3000      18181 non-null  object\n",
      " 18  parks_nearest         8079 non-null   object\n",
      " 19  ponds_around3000      18181 non-null  object\n",
      " 20  ponds_nearest         9110 non-null   object\n",
      " 21  days_exposition       20518 non-null  object\n",
      "dtypes: bool(2), int64(3), object(17)\n",
      "memory usage: 3.7+ MB\n"
     ]
    }
   ],
   "source": [
    "data.info()"
   ]
  },
  {
   "cell_type": "code",
   "execution_count": 5,
   "metadata": {},
   "outputs": [
    {
     "data": {
      "text/html": [
       "<div>\n",
       "<style scoped>\n",
       "    .dataframe tbody tr th:only-of-type {\n",
       "        vertical-align: middle;\n",
       "    }\n",
       "\n",
       "    .dataframe tbody tr th {\n",
       "        vertical-align: top;\n",
       "    }\n",
       "\n",
       "    .dataframe thead th {\n",
       "        text-align: right;\n",
       "    }\n",
       "</style>\n",
       "<table border=\"1\" class=\"dataframe\">\n",
       "  <thead>\n",
       "    <tr style=\"text-align: right;\">\n",
       "      <th></th>\n",
       "      <th>total_images</th>\n",
       "      <th>last_price</th>\n",
       "      <th>total_area</th>\n",
       "      <th>first_day_exposition</th>\n",
       "      <th>rooms</th>\n",
       "      <th>ceiling_height</th>\n",
       "      <th>floors_total</th>\n",
       "      <th>living_area</th>\n",
       "      <th>floor</th>\n",
       "      <th>is_apartment</th>\n",
       "      <th>studio</th>\n",
       "      <th>open_plan</th>\n",
       "      <th>kitchen_area</th>\n",
       "      <th>balcony</th>\n",
       "      <th>locality_name</th>\n",
       "      <th>airports_nearest</th>\n",
       "      <th>cityCenters_nearest</th>\n",
       "      <th>parks_around3000</th>\n",
       "      <th>parks_nearest</th>\n",
       "      <th>ponds_around3000</th>\n",
       "      <th>ponds_nearest</th>\n",
       "      <th>days_exposition</th>\n",
       "    </tr>\n",
       "  </thead>\n",
       "  <tbody>\n",
       "    <tr>\n",
       "      <th>0</th>\n",
       "      <td>20</td>\n",
       "      <td>13000000.0</td>\n",
       "      <td>108.0</td>\n",
       "      <td>2019-03-07T00:00:00</td>\n",
       "      <td>3</td>\n",
       "      <td>2.7</td>\n",
       "      <td>16.0</td>\n",
       "      <td>51.0</td>\n",
       "      <td>8</td>\n",
       "      <td>NaN</td>\n",
       "      <td>False</td>\n",
       "      <td>False</td>\n",
       "      <td>25.0</td>\n",
       "      <td>NaN</td>\n",
       "      <td>Санкт-Петербург</td>\n",
       "      <td>18863.0</td>\n",
       "      <td>16028.0</td>\n",
       "      <td>1.0</td>\n",
       "      <td>482.0</td>\n",
       "      <td>2.0</td>\n",
       "      <td>755.0</td>\n",
       "      <td>NaN</td>\n",
       "    </tr>\n",
       "    <tr>\n",
       "      <th>1</th>\n",
       "      <td>7</td>\n",
       "      <td>3350000.0</td>\n",
       "      <td>40.4</td>\n",
       "      <td>2018-12-04T00:00:00</td>\n",
       "      <td>1</td>\n",
       "      <td>NaN</td>\n",
       "      <td>11.0</td>\n",
       "      <td>18.6</td>\n",
       "      <td>1</td>\n",
       "      <td>NaN</td>\n",
       "      <td>False</td>\n",
       "      <td>False</td>\n",
       "      <td>11.0</td>\n",
       "      <td>2.0</td>\n",
       "      <td>посёлок Шушары</td>\n",
       "      <td>12817.0</td>\n",
       "      <td>18603.0</td>\n",
       "      <td>0.0</td>\n",
       "      <td>NaN</td>\n",
       "      <td>0.0</td>\n",
       "      <td>NaN</td>\n",
       "      <td>81.0</td>\n",
       "    </tr>\n",
       "    <tr>\n",
       "      <th>2</th>\n",
       "      <td>10</td>\n",
       "      <td>5196000.0</td>\n",
       "      <td>56.0</td>\n",
       "      <td>2015-08-20T00:00:00</td>\n",
       "      <td>2</td>\n",
       "      <td>NaN</td>\n",
       "      <td>5.0</td>\n",
       "      <td>34.3</td>\n",
       "      <td>4</td>\n",
       "      <td>NaN</td>\n",
       "      <td>False</td>\n",
       "      <td>False</td>\n",
       "      <td>8.3</td>\n",
       "      <td>0.0</td>\n",
       "      <td>Санкт-Петербург</td>\n",
       "      <td>21741.0</td>\n",
       "      <td>13933.0</td>\n",
       "      <td>1.0</td>\n",
       "      <td>90.0</td>\n",
       "      <td>2.0</td>\n",
       "      <td>574.0</td>\n",
       "      <td>558.0</td>\n",
       "    </tr>\n",
       "  </tbody>\n",
       "</table>\n",
       "</div>"
      ],
      "text/plain": [
       "   total_images  last_price total_area first_day_exposition  rooms  \\\n",
       "0            20  13000000.0      108.0  2019-03-07T00:00:00      3   \n",
       "1             7   3350000.0       40.4  2018-12-04T00:00:00      1   \n",
       "2            10   5196000.0       56.0  2015-08-20T00:00:00      2   \n",
       "\n",
       "  ceiling_height floors_total living_area  floor is_apartment  studio  \\\n",
       "0            2.7         16.0        51.0      8          NaN   False   \n",
       "1            NaN         11.0        18.6      1          NaN   False   \n",
       "2            NaN          5.0        34.3      4          NaN   False   \n",
       "\n",
       "   open_plan kitchen_area balcony    locality_name airports_nearest  \\\n",
       "0      False         25.0     NaN  Санкт-Петербург          18863.0   \n",
       "1      False         11.0     2.0   посёлок Шушары          12817.0   \n",
       "2      False          8.3     0.0  Санкт-Петербург          21741.0   \n",
       "\n",
       "  cityCenters_nearest parks_around3000 parks_nearest ponds_around3000  \\\n",
       "0             16028.0              1.0         482.0              2.0   \n",
       "1             18603.0              0.0           NaN              0.0   \n",
       "2             13933.0              1.0          90.0              2.0   \n",
       "\n",
       "  ponds_nearest days_exposition  \n",
       "0         755.0             NaN  \n",
       "1           NaN            81.0  \n",
       "2         574.0           558.0  "
      ]
     },
     "execution_count": 5,
     "metadata": {},
     "output_type": "execute_result"
    }
   ],
   "source": [
    "data.head(3)"
   ]
  },
  {
   "cell_type": "markdown",
   "metadata": {},
   "source": [
    "- Видим общее число записей: 23699, все столбцы названы корректно, переименование не требуется. \n",
    "- В некоторых столбцах существуют пропуски данных (высота потолков, жилая площадь, всего этажей в доме, апартаменты ли, площадь кухни, наличие балкона, расстояние до центра, расстояние до ближайшего парка, водоема, количество дней, пока публиковалось объявление и т.д.), требуется работа с пропусками. \n",
    "- Некоторые столбцы имеют некорректный формат данных (цена продажи, общая площадь, дата опубликования, высота потолков, всего этажей, общая площаь, апартаменты ли, площадь кухни, кол-во балконов, расстояние до аэропорта, парка, водоема и т.д. - все это строки вместо чисел), требуется работа с форматами данных. "
   ]
  },
  {
   "cell_type": "markdown",
   "metadata": {},
   "source": [
    "## Предобработка данных"
   ]
  },
  {
   "cell_type": "markdown",
   "metadata": {},
   "source": [
    "### Пропуски "
   ]
  },
  {
   "cell_type": "markdown",
   "metadata": {},
   "source": [
    "В столбцах total_images, last_price, total_area, first_day_exposition и rooms пропусков нет. Посмотрим в первом приближении на данные о цене, площади и дате размещения объявления."
   ]
  },
  {
   "cell_type": "code",
   "execution_count": 6,
   "metadata": {},
   "outputs": [],
   "source": [
    "data['last_price']=pd.to_numeric(data['last_price'])\n",
    "data['total_area']=pd.to_numeric(data['total_area'])"
   ]
  },
  {
   "cell_type": "markdown",
   "metadata": {},
   "source": [
    "Посмотрим на меры разброса и центральной тенденции по числовым столбцам"
   ]
  },
  {
   "cell_type": "code",
   "execution_count": 7,
   "metadata": {},
   "outputs": [
    {
     "data": {
      "text/html": [
       "<div>\n",
       "<style scoped>\n",
       "    .dataframe tbody tr th:only-of-type {\n",
       "        vertical-align: middle;\n",
       "    }\n",
       "\n",
       "    .dataframe tbody tr th {\n",
       "        vertical-align: top;\n",
       "    }\n",
       "\n",
       "    .dataframe thead th {\n",
       "        text-align: right;\n",
       "    }\n",
       "</style>\n",
       "<table border=\"1\" class=\"dataframe\">\n",
       "  <thead>\n",
       "    <tr style=\"text-align: right;\">\n",
       "      <th></th>\n",
       "      <th>total_images</th>\n",
       "      <th>last_price</th>\n",
       "      <th>total_area</th>\n",
       "      <th>rooms</th>\n",
       "      <th>floor</th>\n",
       "    </tr>\n",
       "  </thead>\n",
       "  <tbody>\n",
       "    <tr>\n",
       "      <th>count</th>\n",
       "      <td>23699.00</td>\n",
       "      <td>23699.00</td>\n",
       "      <td>23699.00</td>\n",
       "      <td>23699.00</td>\n",
       "      <td>23699.00</td>\n",
       "    </tr>\n",
       "    <tr>\n",
       "      <th>mean</th>\n",
       "      <td>9.86</td>\n",
       "      <td>6541548.77</td>\n",
       "      <td>60.35</td>\n",
       "      <td>2.07</td>\n",
       "      <td>5.89</td>\n",
       "    </tr>\n",
       "    <tr>\n",
       "      <th>std</th>\n",
       "      <td>5.68</td>\n",
       "      <td>10887013.27</td>\n",
       "      <td>35.65</td>\n",
       "      <td>1.08</td>\n",
       "      <td>4.89</td>\n",
       "    </tr>\n",
       "    <tr>\n",
       "      <th>min</th>\n",
       "      <td>0.00</td>\n",
       "      <td>12190.00</td>\n",
       "      <td>12.00</td>\n",
       "      <td>0.00</td>\n",
       "      <td>1.00</td>\n",
       "    </tr>\n",
       "    <tr>\n",
       "      <th>25%</th>\n",
       "      <td>6.00</td>\n",
       "      <td>3400000.00</td>\n",
       "      <td>40.00</td>\n",
       "      <td>1.00</td>\n",
       "      <td>2.00</td>\n",
       "    </tr>\n",
       "    <tr>\n",
       "      <th>50%</th>\n",
       "      <td>9.00</td>\n",
       "      <td>4650000.00</td>\n",
       "      <td>52.00</td>\n",
       "      <td>2.00</td>\n",
       "      <td>4.00</td>\n",
       "    </tr>\n",
       "    <tr>\n",
       "      <th>75%</th>\n",
       "      <td>14.00</td>\n",
       "      <td>6800000.00</td>\n",
       "      <td>69.90</td>\n",
       "      <td>3.00</td>\n",
       "      <td>8.00</td>\n",
       "    </tr>\n",
       "    <tr>\n",
       "      <th>max</th>\n",
       "      <td>50.00</td>\n",
       "      <td>763000000.00</td>\n",
       "      <td>900.00</td>\n",
       "      <td>19.00</td>\n",
       "      <td>33.00</td>\n",
       "    </tr>\n",
       "  </tbody>\n",
       "</table>\n",
       "</div>"
      ],
      "text/plain": [
       "       total_images   last_price  total_area    rooms    floor\n",
       "count      23699.00     23699.00    23699.00 23699.00 23699.00\n",
       "mean           9.86   6541548.77       60.35     2.07     5.89\n",
       "std            5.68  10887013.27       35.65     1.08     4.89\n",
       "min            0.00     12190.00       12.00     0.00     1.00\n",
       "25%            6.00   3400000.00       40.00     1.00     2.00\n",
       "50%            9.00   4650000.00       52.00     2.00     4.00\n",
       "75%           14.00   6800000.00       69.90     3.00     8.00\n",
       "max           50.00 763000000.00      900.00    19.00    33.00"
      ]
     },
     "execution_count": 7,
     "metadata": {},
     "output_type": "execute_result"
    }
   ],
   "source": [
    "data.describe()"
   ]
  },
  {
   "cell_type": "markdown",
   "metadata": {},
   "source": [
    "Видим, что в данных о цене есть необычайно низкие и необычайно высокие значения. Изучим их подробнее на шаге построения диаграмм. Цена - это один из ключевых столбцов, и необходимо его подробно исследовать. То же касается и площади (общей, а также квадратного метра): "
   ]
  },
  {
   "cell_type": "markdown",
   "metadata": {},
   "source": [
    "#### ceiling_height"
   ]
  },
  {
   "cell_type": "markdown",
   "metadata": {},
   "source": [
    "В столбце ceiling_height есть большое количество пропущенных данных, также формат данных в этом столбце - object."
   ]
  },
  {
   "cell_type": "code",
   "execution_count": 8,
   "metadata": {},
   "outputs": [
    {
     "data": {
      "text/plain": [
       "9195"
      ]
     },
     "execution_count": 8,
     "metadata": {},
     "output_type": "execute_result"
    }
   ],
   "source": [
    "data['ceiling_height'].isnull().sum()"
   ]
  },
  {
   "cell_type": "code",
   "execution_count": 9,
   "metadata": {},
   "outputs": [],
   "source": [
    "data['ceiling_height']=pd.to_numeric(data['ceiling_height'])"
   ]
  },
  {
   "cell_type": "code",
   "execution_count": 10,
   "metadata": {},
   "outputs": [
    {
     "data": {
      "text/plain": [
       "count   14504.00\n",
       "mean        2.77\n",
       "std         1.26\n",
       "min         1.00\n",
       "25%         2.52\n",
       "50%         2.65\n",
       "75%         2.80\n",
       "max       100.00\n",
       "Name: ceiling_height, dtype: float64"
      ]
     },
     "execution_count": 10,
     "metadata": {},
     "output_type": "execute_result"
    }
   ],
   "source": [
    "data['ceiling_height'].describe()"
   ]
  },
  {
   "cell_type": "markdown",
   "metadata": {},
   "source": [
    "Максимальное значение выглядит странно (вряд ли высота потолка в каком-либо жилом помещении будет 100 метров), а медиана в размере 2.65 - стандартная. Заменим пропущенные значения медианными. "
   ]
  },
  {
   "cell_type": "code",
   "execution_count": 11,
   "metadata": {},
   "outputs": [],
   "source": [
    "data['ceiling_height']=data['ceiling_height'].fillna(data['ceiling_height'].median())"
   ]
  },
  {
   "cell_type": "code",
   "execution_count": 12,
   "metadata": {},
   "outputs": [
    {
     "data": {
      "text/plain": [
       "0"
      ]
     },
     "execution_count": 12,
     "metadata": {},
     "output_type": "execute_result"
    }
   ],
   "source": [
    "data['ceiling_height'].isnull().sum()"
   ]
  },
  {
   "cell_type": "markdown",
   "metadata": {},
   "source": [
    "#### floors_total"
   ]
  },
  {
   "cell_type": "markdown",
   "metadata": {},
   "source": [
    "В столбце floors_total также есть пропуски. Их незначительное количество. Поступим аналогично. "
   ]
  },
  {
   "cell_type": "code",
   "execution_count": 13,
   "metadata": {},
   "outputs": [
    {
     "data": {
      "text/plain": [
       "86"
      ]
     },
     "execution_count": 13,
     "metadata": {},
     "output_type": "execute_result"
    }
   ],
   "source": [
    "data['floors_total'].isnull().sum()"
   ]
  },
  {
   "cell_type": "code",
   "execution_count": 14,
   "metadata": {},
   "outputs": [
    {
     "data": {
      "text/plain": [
       "count   23613.00\n",
       "mean       10.67\n",
       "std         6.60\n",
       "min         1.00\n",
       "25%         5.00\n",
       "50%         9.00\n",
       "75%        16.00\n",
       "max        60.00\n",
       "Name: floors_total, dtype: float64"
      ]
     },
     "execution_count": 14,
     "metadata": {},
     "output_type": "execute_result"
    }
   ],
   "source": [
    "data['floors_total']=pd.to_numeric(data['floors_total'])\n",
    "data['floors_total'].describe()"
   ]
  },
  {
   "cell_type": "code",
   "execution_count": 15,
   "metadata": {},
   "outputs": [],
   "source": [
    "data['floors_total']=data['floors_total'].fillna(data['floors_total'].median())"
   ]
  },
  {
   "cell_type": "code",
   "execution_count": 16,
   "metadata": {},
   "outputs": [
    {
     "data": {
      "text/plain": [
       "0"
      ]
     },
     "execution_count": 16,
     "metadata": {},
     "output_type": "execute_result"
    }
   ],
   "source": [
    "data['floors_total'].isnull().sum()"
   ]
  },
  {
   "cell_type": "markdown",
   "metadata": {},
   "source": [
    "####  living_area"
   ]
  },
  {
   "cell_type": "markdown",
   "metadata": {},
   "source": [
    "В столбце living_area также есть пропуски. Их нельзя заменить на среднее, т.к. для жилой площади есть ограничение - общая площадь. Найдем отношение жилой площади к общей площади для тех строк, где нет пропусков, затем внесем это значение в новый столбец, найдем медианный показатель и используем его - в обратном порядке, умножая на него общую площадь - для заполнения пропусков в данных жилой площади, ведь данные об общей площади заполнены все. "
   ]
  },
  {
   "cell_type": "code",
   "execution_count": 17,
   "metadata": {},
   "outputs": [
    {
     "data": {
      "text/plain": [
       "1903"
      ]
     },
     "execution_count": 17,
     "metadata": {},
     "output_type": "execute_result"
    }
   ],
   "source": [
    "data['living_area'].isna().sum()"
   ]
  },
  {
   "cell_type": "code",
   "execution_count": 18,
   "metadata": {},
   "outputs": [],
   "source": [
    "data['living_area']=pd.to_numeric(data['living_area'])"
   ]
  },
  {
   "cell_type": "code",
   "execution_count": 19,
   "metadata": {},
   "outputs": [
    {
     "data": {
      "text/plain": [
       "0.5678598992678503"
      ]
     },
     "execution_count": 19,
     "metadata": {},
     "output_type": "execute_result"
    }
   ],
   "source": [
    "data['living_area_ratio']=data['living_area'] / data['total_area']\n",
    "median_living_area_ratio=data['living_area_ratio'].median()\n",
    "median_living_area_ratio"
   ]
  },
  {
   "cell_type": "code",
   "execution_count": 20,
   "metadata": {},
   "outputs": [
    {
     "data": {
      "text/plain": [
       "0"
      ]
     },
     "execution_count": 20,
     "metadata": {},
     "output_type": "execute_result"
    }
   ],
   "source": [
    "data['living_area']=data['living_area'].fillna(data['total_area']*median_living_area_ratio)\n",
    "data['living_area'].isna().sum()"
   ]
  },
  {
   "cell_type": "code",
   "execution_count": 21,
   "metadata": {},
   "outputs": [
    {
     "data": {
      "text/plain": [
       "count   23699.00\n",
       "mean       34.58\n",
       "std        22.34\n",
       "min         2.00\n",
       "25%        19.00\n",
       "50%        30.00\n",
       "75%        42.10\n",
       "max       409.70\n",
       "Name: living_area, dtype: float64"
      ]
     },
     "execution_count": 21,
     "metadata": {},
     "output_type": "execute_result"
    }
   ],
   "source": [
    "data['living_area'].describe()"
   ]
  },
  {
   "cell_type": "markdown",
   "metadata": {},
   "source": [
    "#### is_apartment"
   ]
  },
  {
   "cell_type": "markdown",
   "metadata": {},
   "source": [
    "Столбец is_apartment должен иметь булев тип, то есть True/False. Посмотрим, какие данные указаны и почему тип данных object. "
   ]
  },
  {
   "cell_type": "code",
   "execution_count": 22,
   "metadata": {},
   "outputs": [
    {
     "data": {
      "text/plain": [
       "20924"
      ]
     },
     "execution_count": 22,
     "metadata": {},
     "output_type": "execute_result"
    }
   ],
   "source": [
    "data['is_apartment'].isna().sum()"
   ]
  },
  {
   "cell_type": "code",
   "execution_count": 23,
   "metadata": {},
   "outputs": [
    {
     "data": {
      "text/plain": [
       "False    2725\n",
       "True       50\n",
       "Name: is_apartment, dtype: int64"
      ]
     },
     "execution_count": 23,
     "metadata": {},
     "output_type": "execute_result"
    }
   ],
   "source": [
    "data['is_apartment'].value_counts()"
   ]
  },
  {
   "cell_type": "markdown",
   "metadata": {},
   "source": [
    "На самом деле апартаментов вообще немного, поэтому сочтем, что там, где этот столбец не заполнен, это означает \"не апартаменты\" и заменим пропущенные значения на False. "
   ]
  },
  {
   "cell_type": "code",
   "execution_count": 24,
   "metadata": {},
   "outputs": [
    {
     "data": {
      "text/plain": [
       "0"
      ]
     },
     "execution_count": 24,
     "metadata": {},
     "output_type": "execute_result"
    }
   ],
   "source": [
    "data['is_apartment']=data['is_apartment'].fillna(False)\n",
    "data['is_apartment'].isna().sum()"
   ]
  },
  {
   "cell_type": "code",
   "execution_count": 25,
   "metadata": {},
   "outputs": [
    {
     "data": {
      "text/plain": [
       "False    23649\n",
       "True        50\n",
       "Name: is_apartment, dtype: int64"
      ]
     },
     "execution_count": 25,
     "metadata": {},
     "output_type": "execute_result"
    }
   ],
   "source": [
    "data['is_apartment'].value_counts()"
   ]
  },
  {
   "cell_type": "markdown",
   "metadata": {},
   "source": [
    "####  kitchen_area"
   ]
  },
  {
   "cell_type": "markdown",
   "metadata": {},
   "source": [
    "С пропущенными данными в kitchen_area поступим аналогично living_area"
   ]
  },
  {
   "cell_type": "code",
   "execution_count": 26,
   "metadata": {},
   "outputs": [
    {
     "data": {
      "text/plain": [
       "2278"
      ]
     },
     "execution_count": 26,
     "metadata": {},
     "output_type": "execute_result"
    }
   ],
   "source": [
    "data['kitchen_area'].isna().sum()"
   ]
  },
  {
   "cell_type": "code",
   "execution_count": 27,
   "metadata": {},
   "outputs": [],
   "source": [
    "data['kitchen_area']=pd.to_numeric(data['kitchen_area'])"
   ]
  },
  {
   "cell_type": "code",
   "execution_count": 28,
   "metadata": {},
   "outputs": [
    {
     "data": {
      "text/plain": [
       "0.1724137931034483"
      ]
     },
     "execution_count": 28,
     "metadata": {},
     "output_type": "execute_result"
    }
   ],
   "source": [
    "data['kitchen_area_ratio']=data['kitchen_area'] / data['total_area']\n",
    "median_kitchen_area_ratio=data['kitchen_area_ratio'].median()\n",
    "median_kitchen_area_ratio"
   ]
  },
  {
   "cell_type": "code",
   "execution_count": 29,
   "metadata": {},
   "outputs": [
    {
     "data": {
      "text/plain": [
       "0"
      ]
     },
     "execution_count": 29,
     "metadata": {},
     "output_type": "execute_result"
    }
   ],
   "source": [
    "data['kitchen_area']=data['kitchen_area'].fillna(data['total_area']*median_kitchen_area_ratio)\n",
    "data['kitchen_area'].isna().sum()"
   ]
  },
  {
   "cell_type": "code",
   "execution_count": 30,
   "metadata": {},
   "outputs": [
    {
     "data": {
      "text/plain": [
       "count   23699.00\n",
       "mean       10.49\n",
       "std         6.03\n",
       "min         1.30\n",
       "25%         7.00\n",
       "50%         9.00\n",
       "75%        12.00\n",
       "max       112.00\n",
       "Name: kitchen_area, dtype: float64"
      ]
     },
     "execution_count": 30,
     "metadata": {},
     "output_type": "execute_result"
    }
   ],
   "source": [
    "data['kitchen_area'].describe()"
   ]
  },
  {
   "cell_type": "markdown",
   "metadata": {},
   "source": [
    "С данными в balcony поступим аналогично с данными в apartment. Вероятнее всего, данные о балконе не заполнены потому, что балкона нет. "
   ]
  },
  {
   "cell_type": "code",
   "execution_count": 31,
   "metadata": {},
   "outputs": [
    {
     "data": {
      "text/plain": [
       "11519"
      ]
     },
     "execution_count": 31,
     "metadata": {},
     "output_type": "execute_result"
    }
   ],
   "source": [
    "data['balcony'].isna().sum()"
   ]
  },
  {
   "cell_type": "code",
   "execution_count": 32,
   "metadata": {},
   "outputs": [
    {
     "data": {
      "text/plain": [
       "1.0    4195\n",
       "0.0    3758\n",
       "2.0    3659\n",
       "5.0     304\n",
       "4.0     183\n",
       "3.0      81\n",
       "Name: balcony, dtype: int64"
      ]
     },
     "execution_count": 32,
     "metadata": {},
     "output_type": "execute_result"
    }
   ],
   "source": [
    "data['balcony'].value_counts()"
   ]
  },
  {
   "cell_type": "code",
   "execution_count": 33,
   "metadata": {},
   "outputs": [
    {
     "data": {
      "text/plain": [
       "0"
      ]
     },
     "execution_count": 33,
     "metadata": {},
     "output_type": "execute_result"
    }
   ],
   "source": [
    "data['balcony']=data['balcony'].fillna(0)\n",
    "data['balcony'].isna().sum()"
   ]
  },
  {
   "cell_type": "code",
   "execution_count": 34,
   "metadata": {
    "scrolled": true
   },
   "outputs": [
    {
     "data": {
      "text/plain": [
       "0.00    15277\n",
       "1.00     4195\n",
       "2.00     3659\n",
       "5.00      304\n",
       "4.00      183\n",
       "3.00       81\n",
       "Name: balcony, dtype: int64"
      ]
     },
     "execution_count": 34,
     "metadata": {},
     "output_type": "execute_result"
    }
   ],
   "source": [
    "data['balcony']=pd.to_numeric(data['balcony'])\n",
    "data['balcony'].value_counts()"
   ]
  },
  {
   "cell_type": "markdown",
   "metadata": {},
   "source": [
    "####  locality_name"
   ]
  },
  {
   "cell_type": "markdown",
   "metadata": {},
   "source": [
    "Незаполненные данные в столбце locality_name"
   ]
  },
  {
   "cell_type": "code",
   "execution_count": 35,
   "metadata": {},
   "outputs": [
    {
     "data": {
      "text/plain": [
       "49"
      ]
     },
     "execution_count": 35,
     "metadata": {},
     "output_type": "execute_result"
    }
   ],
   "source": [
    "data['locality_name'].isna().sum()"
   ]
  },
  {
   "cell_type": "markdown",
   "metadata": {},
   "source": [
    "Ради 49 записей можно было и не создавать такой алгоритм, и просто указать \"Санкт-Петербург\", но посмотрим, какие значения принимает для них расстояние до центра. "
   ]
  },
  {
   "cell_type": "code",
   "execution_count": 36,
   "metadata": {},
   "outputs": [],
   "source": [
    "data['locality_name']=data['locality_name'].fillna('Неизвестно')"
   ]
  },
  {
   "cell_type": "code",
   "execution_count": 37,
   "metadata": {},
   "outputs": [
    {
     "name": "stdout",
     "output_type": "stream",
     "text": [
      "От nan , до nan\n"
     ]
    }
   ],
   "source": [
    "data['cityCenters_nearest']=pd.to_numeric(data['cityCenters_nearest'])\n",
    "data_unknown_locality = data[data['locality_name'].isna()]\n",
    "print('От', data_unknown_locality['cityCenters_nearest'].min(), ', до', data_unknown_locality['cityCenters_nearest'].max())"
   ]
  },
  {
   "cell_type": "markdown",
   "metadata": {},
   "source": [
    "Поймем, какое расстояние до центра у тех записей, центром которых указан Санкт-Петербург. "
   ]
  },
  {
   "cell_type": "code",
   "execution_count": 38,
   "metadata": {},
   "outputs": [
    {
     "name": "stdout",
     "output_type": "stream",
     "text": [
      "От 181.0 до 29493.0\n"
     ]
    }
   ],
   "source": [
    "data_spb_locality=data.loc[data['locality_name']==\"Санкт-Петербург\"]\n",
    "print('От', data_spb_locality['cityCenters_nearest'].min(), 'до', data_spb_locality['cityCenters_nearest'].max())"
   ]
  },
  {
   "cell_type": "code",
   "execution_count": 39,
   "metadata": {},
   "outputs": [
    {
     "data": {
      "text/plain": [
       "(15721, 24)"
      ]
     },
     "execution_count": 39,
     "metadata": {},
     "output_type": "execute_result"
    }
   ],
   "source": [
    "data_spb_locality.shape"
   ]
  },
  {
   "cell_type": "markdown",
   "metadata": {},
   "source": [
    "Узнаем, сколько записей с неизвестным центром дальше, чем самая дальняя от центра города квартира. "
   ]
  },
  {
   "cell_type": "code",
   "execution_count": 40,
   "metadata": {},
   "outputs": [
    {
     "data": {
      "text/plain": [
       "29493.0"
      ]
     },
     "metadata": {},
     "output_type": "display_data"
    },
    {
     "data": {
      "text/html": [
       "<div>\n",
       "<style scoped>\n",
       "    .dataframe tbody tr th:only-of-type {\n",
       "        vertical-align: middle;\n",
       "    }\n",
       "\n",
       "    .dataframe tbody tr th {\n",
       "        vertical-align: top;\n",
       "    }\n",
       "\n",
       "    .dataframe thead th {\n",
       "        text-align: right;\n",
       "    }\n",
       "</style>\n",
       "<table border=\"1\" class=\"dataframe\">\n",
       "  <thead>\n",
       "    <tr style=\"text-align: right;\">\n",
       "      <th></th>\n",
       "      <th>total_images</th>\n",
       "      <th>last_price</th>\n",
       "      <th>total_area</th>\n",
       "      <th>first_day_exposition</th>\n",
       "      <th>rooms</th>\n",
       "      <th>ceiling_height</th>\n",
       "      <th>floors_total</th>\n",
       "      <th>living_area</th>\n",
       "      <th>floor</th>\n",
       "      <th>is_apartment</th>\n",
       "      <th>studio</th>\n",
       "      <th>open_plan</th>\n",
       "      <th>kitchen_area</th>\n",
       "      <th>balcony</th>\n",
       "      <th>locality_name</th>\n",
       "      <th>airports_nearest</th>\n",
       "      <th>cityCenters_nearest</th>\n",
       "      <th>parks_around3000</th>\n",
       "      <th>parks_nearest</th>\n",
       "      <th>ponds_around3000</th>\n",
       "      <th>ponds_nearest</th>\n",
       "      <th>days_exposition</th>\n",
       "      <th>living_area_ratio</th>\n",
       "      <th>kitchen_area_ratio</th>\n",
       "    </tr>\n",
       "  </thead>\n",
       "  <tbody>\n",
       "  </tbody>\n",
       "</table>\n",
       "</div>"
      ],
      "text/plain": [
       "Empty DataFrame\n",
       "Columns: [total_images, last_price, total_area, first_day_exposition, rooms, ceiling_height, floors_total, living_area, floor, is_apartment, studio, open_plan, kitchen_area, balcony, locality_name, airports_nearest, cityCenters_nearest, parks_around3000, parks_nearest, ponds_around3000, ponds_nearest, days_exposition, living_area_ratio, kitchen_area_ratio]\n",
       "Index: []"
      ]
     },
     "execution_count": 40,
     "metadata": {},
     "output_type": "execute_result"
    }
   ],
   "source": [
    "display(data_spb_locality['cityCenters_nearest'].max())\n",
    "data.loc[\n",
    "    (data['locality_name'].isna()) & (data['cityCenters_nearest']\n",
    "                                       > data_spb_locality['cityCenters_nearest'].max())\n",
    "]"
   ]
  },
  {
   "cell_type": "markdown",
   "metadata": {},
   "source": [
    "Их всего три, поэтому для всех данных, где населенный пункт не указан, укажем \"Санкт-Петербург\". "
   ]
  },
  {
   "cell_type": "code",
   "execution_count": 41,
   "metadata": {},
   "outputs": [],
   "source": [
    "data.loc[data['locality_name']=='Неизвестно', 'locality_name']='Санкт-Петербург'"
   ]
  },
  {
   "cell_type": "code",
   "execution_count": 42,
   "metadata": {},
   "outputs": [
    {
     "data": {
      "text/plain": [
       "Санкт-Петербург                    15770\n",
       "посёлок Мурино                       522\n",
       "посёлок Шушары                       440\n",
       "Всеволожск                           398\n",
       "Пушкин                               369\n",
       "                                   ...  \n",
       "поселок Каложицы                       1\n",
       "посёлок Платформа 69-й километр        1\n",
       "поселок Почап                          1\n",
       "поселок Гончарово                      1\n",
       "посёлок Дзержинского                   1\n",
       "Name: locality_name, Length: 364, dtype: int64"
      ]
     },
     "execution_count": 42,
     "metadata": {},
     "output_type": "execute_result"
    }
   ],
   "source": [
    "data['locality_name'].value_counts()"
   ]
  },
  {
   "cell_type": "code",
   "execution_count": 43,
   "metadata": {},
   "outputs": [
    {
     "data": {
      "text/plain": [
       "0"
      ]
     },
     "execution_count": 43,
     "metadata": {},
     "output_type": "execute_result"
    }
   ],
   "source": [
    "data['locality_name'].isna().sum()"
   ]
  },
  {
   "cell_type": "markdown",
   "metadata": {},
   "source": [
    "Теперь проверим дубликаты в названиях населенных пунктов. Они возможны там из-за разницы написания названий."
   ]
  },
  {
   "cell_type": "code",
   "execution_count": 44,
   "metadata": {},
   "outputs": [
    {
     "name": "stdout",
     "output_type": "stream",
     "text": [
      "Санкт-Петербург, посёлок Шушары, городской посёлок Янино-1, посёлок Парголово, посёлок Мурино, Ломоносов, Сертолово, Петергоф, Пушкин, деревня Кудрово, Коммунар, Колпино, поселок городского типа Красный Бор, Гатчина, поселок Мурино, деревня Фёдоровское, Выборг, Кронштадт, Кировск, деревня Новое Девяткино, посёлок Металлострой, посёлок городского типа Лебяжье, посёлок городского типа Сиверский, поселок Молодцово, поселок городского типа Кузьмоловский, садовое товарищество Новая Ропша, Павловск, деревня Пикколово, Всеволожск, Волхов, Кингисепп, Приозерск, Сестрорецк, деревня Куттузи, посёлок Аннино, поселок городского типа Ефимовский, посёлок Плодовое, деревня Заклинье, поселок Торковичи, поселок Первомайское, Красное Село, посёлок Понтонный, Сясьстрой, деревня Старая, деревня Лесколово, посёлок Новый Свет, Сланцы, село Путилово, Ивангород, Мурино, Шлиссельбург, Никольское, Зеленогорск, Сосновый Бор, поселок Новый Свет, деревня Оржицы, деревня Кальтино, Кудрово, поселок Романовка, посёлок Бугры, поселок Бугры, поселок городского типа Рощино, Кириши, Луга, Волосово, Отрадное, село Павлово, поселок Оредеж, село Копорье, посёлок городского типа Красный Бор, посёлок Молодёжное, Тихвин, посёлок Победа, деревня Нурма, поселок городского типа Синявино, Тосно, посёлок городского типа Кузьмоловский, посёлок Стрельна, Бокситогорск, посёлок Александровская, деревня Лопухинка, Пикалёво, поселок Терволово, поселок городского типа Советский, Подпорожье, посёлок Петровское, посёлок городского типа Токсово, поселок Сельцо, посёлок городского типа Вырица, деревня Кипень, деревня Келози, деревня Вартемяги, посёлок Тельмана, поселок Севастьяново, городской поселок Большая Ижора, городской посёлок Павлово, деревня Агалатово, посёлок Новогорелово, городской посёлок Лесогорский, деревня Лаголово, поселок Цвелодубово, поселок городского типа Рахья, поселок городского типа Вырица, деревня Белогорка, поселок Заводской, городской посёлок Новоселье, деревня Большие Колпаны, деревня Горбунки, деревня Батово, деревня Заневка, деревня Иссад, Приморск, городской посёлок Фёдоровское, деревня Мистолово, Новая Ладога, поселок Зимитицы, поселок Барышево, деревня Разметелево, поселок городского типа имени Свердлова, деревня Пеники, поселок Рябово, деревня Пудомяги, поселок станции Корнево, деревня Низино, деревня Бегуницы, посёлок Поляны, городской посёлок Мга, поселок Елизаветино, посёлок городского типа Кузнечное, деревня Колтуши, поселок Запорожское, посёлок городского типа Рощино, деревня Гостилицы, деревня Малое Карлино, посёлок Мичуринское, посёлок городского типа имени Морозова, посёлок Песочный, посёлок Сосново, деревня Аро, поселок Ильичёво, посёлок городского типа Тайцы, деревня Малое Верево, деревня Извара, поселок станции Вещево, село Паша, деревня Калитино, посёлок городского типа Ульяновка, деревня Чудской Бор, поселок городского типа Дубровка, деревня Мины, поселок Войсковицы, посёлок городского типа имени Свердлова, деревня Коркино, посёлок Ропша, поселок городского типа Приладожский, посёлок Щеглово, посёлок Гаврилово, Лодейное Поле, деревня Рабитицы, поселок городского типа Никольский, деревня Кузьмолово, деревня Малые Колпаны, поселок Тельмана, посёлок Петро-Славянка, городской посёлок Назия, посёлок Репино, посёлок Ильичёво, поселок Углово, поселок Старая Малукса, садовое товарищество Рахья, поселок Аннино, поселок Победа, деревня Меньково, деревня Старые Бегуницы, посёлок Сапёрный, поселок Семрино, поселок Гаврилово, поселок Глажево, поселок Кобринское, деревня Гарболово, деревня Юкки, поселок станции Приветнинское, деревня Мануйлово, деревня Пчева, поселок Поляны, поселок Цвылёво, поселок Мельниково, посёлок Пудость, посёлок Усть-Луга, Светогорск, Любань, поселок Селезнёво, поселок городского типа Рябово, Каменногорск, деревня Кривко, поселок Глебычево, деревня Парицы, поселок Жилпосёлок, посёлок городского типа Мга, городской поселок Янино-1, посёлок Войскорово, село Никольское, посёлок Терволово, поселок Стеклянный, посёлок городского типа Важины, посёлок Мыза-Ивановка, село Русско-Высоцкое, поселок городского типа Лебяжье, поселок городского типа Форносово, село Старая Ладога, поселок Житково, городской посёлок Виллози, деревня Лампово, деревня Шпаньково, деревня Лаврики, посёлок Сумино, посёлок Возрождение, деревня Старосиверская, посёлок Кикерино, поселок Возрождение, деревня Старое Хинколово, посёлок Пригородный, посёлок Торфяное, городской посёлок Будогощь, поселок Суходолье, поселок Красная Долина, деревня Хапо-Ое, поселок городского типа Дружная Горка, поселок Лисий Нос, деревня Яльгелево, посёлок Стеклянный, село Рождествено, деревня Старополье, посёлок Левашово, деревня Сяськелево, деревня Камышовка, садоводческое некоммерческое товарищество Лесная Поляна, деревня Хязельки, поселок Жилгородок, посёлок городского типа Павлово, деревня Ялгино, поселок Новый Учхоз, городской посёлок Рощино, поселок Гончарово, поселок Почап, посёлок Сапёрное, посёлок Платформа 69-й километр, поселок Каложицы, деревня Фалилеево, деревня Пельгора, поселок городского типа Лесогорский, деревня Торошковичи, посёлок Белоостров, посёлок Алексеевка, поселок Серебрянский, поселок Лукаши, поселок Петровское, деревня Щеглово, поселок Мичуринское, деревня Тарасово, поселок Кингисеппский, посёлок при железнодорожной станции Вещево, поселок Ушаки, деревня Котлы, деревня Сижно, деревня Торосово, посёлок Форт Красная Горка, поселок городского типа Токсово, деревня Новолисино, посёлок станции Громово, деревня Глинка, посёлок Мельниково, поселок городского типа Назия, деревня Старая Пустошь, поселок Коммунары, поселок Починок, посёлок городского типа Вознесенье, деревня Разбегаево, посёлок городского типа Рябово, поселок Гладкое, посёлок при железнодорожной станции Приветнинское, поселок Тёсово-4, посёлок Жилгородок, деревня Бор, посёлок Коробицыно, деревня Большая Вруда, деревня Курковицы, посёлок Лисий Нос, городской посёлок Советский, посёлок Кобралово, деревня Суоранда, поселок Кобралово, поселок городского типа Кондратьево, коттеджный поселок Счастье, поселок Любань, деревня Реброво, деревня Зимитицы, деревня Тойворово, поселок Семиозерье, поселок Лесное, поселок Совхозный, поселок Усть-Луга, посёлок Ленинское, посёлок Суйда, посёлок городского типа Форносово, деревня Нижние Осельки, посёлок станции Свирь, поселок Перово, Высоцк, поселок Гарболово, село Шум, поселок Котельский, поселок станции Лужайка, деревня Большая Пустомержа, поселок Красносельское, деревня Вахнова Кара, деревня Пижма, коттеджный поселок Кивеннапа Север, поселок Коробицыно, поселок Ромашки, посёлок Перово, деревня Каськово, деревня Куровицы, посёлок Плоское, поселок Сумино, поселок городского типа Большая Ижора, поселок Кирпичное, деревня Ям-Тесово, деревня Раздолье, деревня Терпилицы, посёлок Шугозеро, деревня Ваганово, поселок Пушное, садовое товарищество Садко, посёлок Усть-Ижора, деревня Выскатка, городской посёлок Свирьстрой, поселок Громово, деревня Кисельня, посёлок Старая Малукса, деревня Трубников Бор, поселок Калитино, посёлок Высокоключевой, садовое товарищество Приладожский, посёлок Пансионат Зелёный Бор, деревня Ненимяки, поселок Пансионат Зелёный Бор, деревня Снегирёвка, деревня Рапполово, деревня Пустынка, поселок Рабитицы, деревня Большой Сабск, деревня Русско, деревня Лупполово, деревня Большое Рейзино, деревня Малая Романовка, поселок Дружноселье, поселок Пчевжа, поселок Володарское, деревня Нижняя, коттеджный посёлок Лесное, деревня Тихковицы, деревня Борисова Грива, посёлок Дзержинского\n"
     ]
    }
   ],
   "source": [
    "locality_name_list=data['locality_name'].unique().tolist()\n",
    "print(*locality_name_list, sep=', ')"
   ]
  },
  {
   "cell_type": "code",
   "execution_count": 45,
   "metadata": {},
   "outputs": [
    {
     "data": {
      "text/plain": [
       "364"
      ]
     },
     "execution_count": 45,
     "metadata": {},
     "output_type": "execute_result"
    }
   ],
   "source": [
    "len(data['locality_name'].unique().tolist())"
   ]
  },
  {
   "cell_type": "markdown",
   "metadata": {},
   "source": [
    "Очевидно, что дубликаты есть из-за букв \"е\" и \"ё\". Например, \"посёлок Пансионат Зелёный Бор\" и др."
   ]
  },
  {
   "cell_type": "code",
   "execution_count": 46,
   "metadata": {},
   "outputs": [],
   "source": [
    "data['locality_name']=data['locality_name'].str.replace('ё', 'е', regex=True)"
   ]
  },
  {
   "cell_type": "code",
   "execution_count": 47,
   "metadata": {},
   "outputs": [
    {
     "name": "stdout",
     "output_type": "stream",
     "text": [
      "['Санкт-Петербург', 'поселок Шушары', 'городской поселок Янино-1', 'поселок Парголово', 'поселок Мурино', 'Ломоносов', 'Сертолово', 'Петергоф', 'Пушкин', 'деревня Кудрово', 'Коммунар', 'Колпино', 'поселок городского типа Красный Бор', 'Гатчина', 'деревня Федоровское', 'Выборг', 'Кронштадт', 'Кировск', 'деревня Новое Девяткино', 'поселок Металлострой', 'поселок городского типа Лебяжье', 'поселок городского типа Сиверский', 'поселок Молодцово', 'поселок городского типа Кузьмоловский', 'садовое товарищество Новая Ропша', 'Павловск', 'деревня Пикколово', 'Всеволожск', 'Волхов', 'Кингисепп', 'Приозерск', 'Сестрорецк', 'деревня Куттузи', 'поселок Аннино', 'поселок городского типа Ефимовский', 'поселок Плодовое', 'деревня Заклинье', 'поселок Торковичи', 'поселок Первомайское', 'Красное Село', 'поселок Понтонный', 'Сясьстрой', 'деревня Старая', 'деревня Лесколово', 'поселок Новый Свет', 'Сланцы', 'село Путилово', 'Ивангород', 'Мурино', 'Шлиссельбург', 'Никольское', 'Зеленогорск', 'Сосновый Бор', 'деревня Оржицы', 'деревня Кальтино', 'Кудрово', 'поселок Романовка', 'поселок Бугры', 'поселок городского типа Рощино', 'Кириши', 'Луга', 'Волосово', 'Отрадное', 'село Павлово', 'поселок Оредеж', 'село Копорье', 'поселок Молодежное', 'Тихвин', 'поселок Победа', 'деревня Нурма', 'поселок городского типа Синявино', 'Тосно', 'поселок Стрельна', 'Бокситогорск', 'поселок Александровская', 'деревня Лопухинка', 'Пикалево', 'поселок Терволово', 'поселок городского типа Советский', 'Подпорожье', 'поселок Петровское', 'поселок городского типа Токсово', 'поселок Сельцо', 'поселок городского типа Вырица', 'деревня Кипень', 'деревня Келози', 'деревня Вартемяги', 'поселок Тельмана', 'поселок Севастьяново', 'городской поселок Большая Ижора', 'городской поселок Павлово', 'деревня Агалатово', 'поселок Новогорелово', 'городской поселок Лесогорский', 'деревня Лаголово', 'поселок Цвелодубово', 'поселок городского типа Рахья', 'деревня Белогорка', 'поселок Заводской', 'городской поселок Новоселье', 'деревня Большие Колпаны', 'деревня Горбунки', 'деревня Батово', 'деревня Заневка', 'деревня Иссад', 'Приморск', 'городской поселок Федоровское', 'деревня Мистолово', 'Новая Ладога', 'поселок Зимитицы', 'поселок Барышево', 'деревня Разметелево', 'поселок городского типа имени Свердлова', 'деревня Пеники', 'поселок Рябово', 'деревня Пудомяги', 'поселок станции Корнево', 'деревня Низино', 'деревня Бегуницы', 'поселок Поляны', 'городской поселок Мга', 'поселок Елизаветино', 'поселок городского типа Кузнечное', 'деревня Колтуши', 'поселок Запорожское', 'деревня Гостилицы', 'деревня Малое Карлино', 'поселок Мичуринское', 'поселок городского типа имени Морозова', 'поселок Песочный', 'поселок Сосново', 'деревня Аро', 'поселок Ильичево', 'поселок городского типа Тайцы', 'деревня Малое Верево', 'деревня Извара', 'поселок станции Вещево', 'село Паша', 'деревня Калитино', 'поселок городского типа Ульяновка', 'деревня Чудской Бор', 'поселок городского типа Дубровка', 'деревня Мины', 'поселок Войсковицы', 'деревня Коркино', 'поселок Ропша', 'поселок городского типа Приладожский', 'поселок Щеглово', 'поселок Гаврилово', 'Лодейное Поле', 'деревня Рабитицы', 'поселок городского типа Никольский', 'деревня Кузьмолово', 'деревня Малые Колпаны', 'поселок Петро-Славянка', 'городской поселок Назия', 'поселок Репино', 'поселок Углово', 'поселок Старая Малукса', 'садовое товарищество Рахья', 'деревня Меньково', 'деревня Старые Бегуницы', 'поселок Саперный', 'поселок Семрино', 'поселок Глажево', 'поселок Кобринское', 'деревня Гарболово', 'деревня Юкки', 'поселок станции Приветнинское', 'деревня Мануйлово', 'деревня Пчева', 'поселок Цвылево', 'поселок Мельниково', 'поселок Пудость', 'поселок Усть-Луга', 'Светогорск', 'Любань', 'поселок Селезнево', 'поселок городского типа Рябово', 'Каменногорск', 'деревня Кривко', 'поселок Глебычево', 'деревня Парицы', 'поселок Жилпоселок', 'поселок городского типа Мга', 'поселок Войскорово', 'село Никольское', 'поселок Стеклянный', 'поселок городского типа Важины', 'поселок Мыза-Ивановка', 'село Русско-Высоцкое', 'поселок городского типа Форносово', 'село Старая Ладога', 'поселок Житково', 'городской поселок Виллози', 'деревня Лампово', 'деревня Шпаньково', 'деревня Лаврики', 'поселок Сумино', 'поселок Возрождение', 'деревня Старосиверская', 'поселок Кикерино', 'деревня Старое Хинколово', 'поселок Пригородный', 'поселок Торфяное', 'городской поселок Будогощь', 'поселок Суходолье', 'поселок Красная Долина', 'деревня Хапо-Ое', 'поселок городского типа Дружная Горка', 'поселок Лисий Нос', 'деревня Яльгелево', 'село Рождествено', 'деревня Старополье', 'поселок Левашово', 'деревня Сяськелево', 'деревня Камышовка', 'садоводческое некоммерческое товарищество Лесная Поляна', 'деревня Хязельки', 'поселок Жилгородок', 'поселок городского типа Павлово', 'деревня Ялгино', 'поселок Новый Учхоз', 'городской поселок Рощино', 'поселок Гончарово', 'поселок Почап', 'поселок Саперное', 'поселок Платформа 69-й километр', 'поселок Каложицы', 'деревня Фалилеево', 'деревня Пельгора', 'поселок городского типа Лесогорский', 'деревня Торошковичи', 'поселок Белоостров', 'поселок Алексеевка', 'поселок Серебрянский', 'поселок Лукаши', 'деревня Щеглово', 'деревня Тарасово', 'поселок Кингисеппский', 'поселок при железнодорожной станции Вещево', 'поселок Ушаки', 'деревня Котлы', 'деревня Сижно', 'деревня Торосово', 'поселок Форт Красная Горка', 'деревня Новолисино', 'поселок станции Громово', 'деревня Глинка', 'поселок городского типа Назия', 'деревня Старая Пустошь', 'поселок Коммунары', 'поселок Починок', 'поселок городского типа Вознесенье', 'деревня Разбегаево', 'поселок Гладкое', 'поселок при железнодорожной станции Приветнинское', 'поселок Тесово-4', 'деревня Бор', 'поселок Коробицыно', 'деревня Большая Вруда', 'деревня Курковицы', 'городской поселок Советский', 'поселок Кобралово', 'деревня Суоранда', 'поселок городского типа Кондратьево', 'коттеджный поселок Счастье', 'поселок Любань', 'деревня Реброво', 'деревня Зимитицы', 'деревня Тойворово', 'поселок Семиозерье', 'поселок Лесное', 'поселок Совхозный', 'поселок Ленинское', 'поселок Суйда', 'деревня Нижние Осельки', 'поселок станции Свирь', 'поселок Перово', 'Высоцк', 'поселок Гарболово', 'село Шум', 'поселок Котельский', 'поселок станции Лужайка', 'деревня Большая Пустомержа', 'поселок Красносельское', 'деревня Вахнова Кара', 'деревня Пижма', 'коттеджный поселок Кивеннапа Север', 'поселок Ромашки', 'деревня Каськово', 'деревня Куровицы', 'поселок Плоское', 'поселок городского типа Большая Ижора', 'поселок Кирпичное', 'деревня Ям-Тесово', 'деревня Раздолье', 'деревня Терпилицы', 'поселок Шугозеро', 'деревня Ваганово', 'поселок Пушное', 'садовое товарищество Садко', 'поселок Усть-Ижора', 'деревня Выскатка', 'городской поселок Свирьстрой', 'поселок Громово', 'деревня Кисельня', 'деревня Трубников Бор', 'поселок Калитино', 'поселок Высокоключевой', 'садовое товарищество Приладожский', 'поселок Пансионат Зеленый Бор', 'деревня Ненимяки', 'деревня Снегиревка', 'деревня Рапполово', 'деревня Пустынка', 'поселок Рабитицы', 'деревня Большой Сабск', 'деревня Русско', 'деревня Лупполово', 'деревня Большое Рейзино', 'деревня Малая Романовка', 'поселок Дружноселье', 'поселок Пчевжа', 'поселок Володарское', 'деревня Нижняя', 'коттеджный поселок Лесное', 'деревня Тихковицы', 'деревня Борисова Грива', 'поселок Дзержинского']\n"
     ]
    }
   ],
   "source": [
    "print(data['locality_name'].unique().tolist())"
   ]
  },
  {
   "cell_type": "code",
   "execution_count": 48,
   "metadata": {},
   "outputs": [
    {
     "data": {
      "text/plain": [
       "330"
      ]
     },
     "execution_count": 48,
     "metadata": {},
     "output_type": "execute_result"
    }
   ],
   "source": [
    "len(data['locality_name'].unique().tolist())"
   ]
  },
  {
   "cell_type": "markdown",
   "metadata": {},
   "source": [
    "#### airports_nearest"
   ]
  },
  {
   "cell_type": "markdown",
   "metadata": {},
   "source": [
    "Незаполненные данные в столбце airports_nearest"
   ]
  },
  {
   "cell_type": "markdown",
   "metadata": {},
   "source": [
    "Оставим эти данные незаполненными, т.к. у нас нет технической возможности определить это расстояние (например, с помощью сервиса карт, у нас нет адреса продаваемой недвижимости в Санкт-Петербурге), а по отдалению квартиры от центра это определить невозможно, т.к. аэропорт находится на южном краю города на расстоянии около 18 км от центра. "
   ]
  },
  {
   "cell_type": "markdown",
   "metadata": {},
   "source": [
    "#### cityCenters_nearest"
   ]
  },
  {
   "cell_type": "markdown",
   "metadata": {},
   "source": [
    "Незаполненные данные в столбце cityCenters_nearest (расстояние до центра города)."
   ]
  },
  {
   "cell_type": "code",
   "execution_count": 49,
   "metadata": {},
   "outputs": [
    {
     "data": {
      "text/plain": [
       "5519"
      ]
     },
     "execution_count": 49,
     "metadata": {},
     "output_type": "execute_result"
    }
   ],
   "source": [
    "data['cityCenters_nearest'].isna().sum()"
   ]
  },
  {
   "cell_type": "code",
   "execution_count": 50,
   "metadata": {},
   "outputs": [
    {
     "data": {
      "text/plain": [
       "count   18180.00\n",
       "mean    14191.28\n",
       "std      8608.39\n",
       "min       181.00\n",
       "25%      9238.00\n",
       "50%     13098.50\n",
       "75%     16293.00\n",
       "max     65968.00\n",
       "Name: cityCenters_nearest, dtype: float64"
      ]
     },
     "execution_count": 50,
     "metadata": {},
     "output_type": "execute_result"
    }
   ],
   "source": [
    "data['cityCenters_nearest'].describe()"
   ]
  },
  {
   "cell_type": "markdown",
   "metadata": {},
   "source": [
    "Посмотрим, какое среднее расстояние до центра С-Петербурга указано для этих населенных пунктов в таблице."
   ]
  },
  {
   "cell_type": "code",
   "execution_count": 51,
   "metadata": {},
   "outputs": [
    {
     "data": {
      "text/html": [
       "<div>\n",
       "<style scoped>\n",
       "    .dataframe tbody tr th:only-of-type {\n",
       "        vertical-align: middle;\n",
       "    }\n",
       "\n",
       "    .dataframe tbody tr th {\n",
       "        vertical-align: top;\n",
       "    }\n",
       "\n",
       "    .dataframe thead th {\n",
       "        text-align: right;\n",
       "    }\n",
       "</style>\n",
       "<table border=\"1\" class=\"dataframe\">\n",
       "  <thead>\n",
       "    <tr style=\"text-align: right;\">\n",
       "      <th></th>\n",
       "      <th>cityCenters_nearest</th>\n",
       "    </tr>\n",
       "    <tr>\n",
       "      <th>locality_name</th>\n",
       "      <th></th>\n",
       "    </tr>\n",
       "  </thead>\n",
       "  <tbody>\n",
       "    <tr>\n",
       "      <th>поселок Молодежное</th>\n",
       "      <td>65764.00</td>\n",
       "    </tr>\n",
       "    <tr>\n",
       "      <th>Зеленогорск</th>\n",
       "      <td>53381.00</td>\n",
       "    </tr>\n",
       "    <tr>\n",
       "      <th>Ломоносов</th>\n",
       "      <td>51677.00</td>\n",
       "    </tr>\n",
       "    <tr>\n",
       "      <th>Кронштадт</th>\n",
       "      <td>49575.00</td>\n",
       "    </tr>\n",
       "    <tr>\n",
       "      <th>поселок Репино</th>\n",
       "      <td>42896.50</td>\n",
       "    </tr>\n",
       "    <tr>\n",
       "      <th>поселок Белоостров</th>\n",
       "      <td>38868.00</td>\n",
       "    </tr>\n",
       "    <tr>\n",
       "      <th>поселок Саперный</th>\n",
       "      <td>35859.50</td>\n",
       "    </tr>\n",
       "    <tr>\n",
       "      <th>Сестрорецк</th>\n",
       "      <td>34821.00</td>\n",
       "    </tr>\n",
       "    <tr>\n",
       "      <th>поселок Щеглово</th>\n",
       "      <td>34085.00</td>\n",
       "    </tr>\n",
       "    <tr>\n",
       "      <th>Петергоф</th>\n",
       "      <td>33771.00</td>\n",
       "    </tr>\n",
       "    <tr>\n",
       "      <th>Павловск</th>\n",
       "      <td>32683.00</td>\n",
       "    </tr>\n",
       "    <tr>\n",
       "      <th>поселок Понтонный</th>\n",
       "      <td>32354.00</td>\n",
       "    </tr>\n",
       "    <tr>\n",
       "      <th>Колпино</th>\n",
       "      <td>32018.00</td>\n",
       "    </tr>\n",
       "    <tr>\n",
       "      <th>Красное Село</th>\n",
       "      <td>29140.50</td>\n",
       "    </tr>\n",
       "    <tr>\n",
       "      <th>поселок Лисий Нос</th>\n",
       "      <td>28226.00</td>\n",
       "    </tr>\n",
       "    <tr>\n",
       "      <th>поселок Усть-Ижора</th>\n",
       "      <td>28222.50</td>\n",
       "    </tr>\n",
       "    <tr>\n",
       "      <th>Пушкин</th>\n",
       "      <td>27930.50</td>\n",
       "    </tr>\n",
       "    <tr>\n",
       "      <th>поселок Металлострой</th>\n",
       "      <td>27602.00</td>\n",
       "    </tr>\n",
       "    <tr>\n",
       "      <th>поселок Александровская</th>\n",
       "      <td>27468.00</td>\n",
       "    </tr>\n",
       "    <tr>\n",
       "      <th>поселок Петро-Славянка</th>\n",
       "      <td>27165.00</td>\n",
       "    </tr>\n",
       "    <tr>\n",
       "      <th>поселок Песочный</th>\n",
       "      <td>26099.50</td>\n",
       "    </tr>\n",
       "    <tr>\n",
       "      <th>поселок Левашово</th>\n",
       "      <td>25727.00</td>\n",
       "    </tr>\n",
       "    <tr>\n",
       "      <th>поселок Шушары</th>\n",
       "      <td>24212.00</td>\n",
       "    </tr>\n",
       "    <tr>\n",
       "      <th>поселок Стрельна</th>\n",
       "      <td>23506.00</td>\n",
       "    </tr>\n",
       "    <tr>\n",
       "      <th>поселок Мурино</th>\n",
       "      <td>21888.00</td>\n",
       "    </tr>\n",
       "    <tr>\n",
       "      <th>поселок Парголово</th>\n",
       "      <td>19311.00</td>\n",
       "    </tr>\n",
       "    <tr>\n",
       "      <th>Санкт-Петербург</th>\n",
       "      <td>12243.00</td>\n",
       "    </tr>\n",
       "  </tbody>\n",
       "</table>\n",
       "</div>"
      ],
      "text/plain": [
       "                         cityCenters_nearest\n",
       "locality_name                               \n",
       "поселок Молодежное                  65764.00\n",
       "Зеленогорск                         53381.00\n",
       "Ломоносов                           51677.00\n",
       "Кронштадт                           49575.00\n",
       "поселок Репино                      42896.50\n",
       "поселок Белоостров                  38868.00\n",
       "поселок Саперный                    35859.50\n",
       "Сестрорецк                          34821.00\n",
       "поселок Щеглово                     34085.00\n",
       "Петергоф                            33771.00\n",
       "Павловск                            32683.00\n",
       "поселок Понтонный                   32354.00\n",
       "Колпино                             32018.00\n",
       "Красное Село                        29140.50\n",
       "поселок Лисий Нос                   28226.00\n",
       "поселок Усть-Ижора                  28222.50\n",
       "Пушкин                              27930.50\n",
       "поселок Металлострой                27602.00\n",
       "поселок Александровская             27468.00\n",
       "поселок Петро-Славянка              27165.00\n",
       "поселок Песочный                    26099.50\n",
       "поселок Левашово                    25727.00\n",
       "поселок Шушары                      24212.00\n",
       "поселок Стрельна                    23506.00\n",
       "поселок Мурино                      21888.00\n",
       "поселок Парголово                   19311.00\n",
       "Санкт-Петербург                     12243.00"
      ]
     },
     "execution_count": 51,
     "metadata": {},
     "output_type": "execute_result"
    }
   ],
   "source": [
    "data_cityCenters_nearest_pivot=data.pivot_table(index='locality_name', values='cityCenters_nearest', aggfunc='median')\n",
    "data_cityCenters_nearest_pivot.sort_values(by='cityCenters_nearest', ascending=False)"
   ]
  },
  {
   "cell_type": "markdown",
   "metadata": {},
   "source": [
    "Это соответствует действительности. А для других населенных пунктов, очевидно, это значение не заполнено. Если бы мы изучали влияние на цену квадратного метра расстояния до центра Санкт-Петербурга от населенных пунктов Ленинградской области, то мы бы попросили выгрузить эти данные из Яндекс-Карт :) или создали такую таблицу вручную, с точностью до нескольких километров, используя карты и линейку. В данном случае это трудоемко, и во второй части исследования мы рассматриваем только влияние этого расстояния на цену недвижимости, расположенную в Санкт-Петербурге, поэтому оставим эти значения пустыми и проверим только Санкт-Петербург. "
   ]
  },
  {
   "cell_type": "code",
   "execution_count": 52,
   "metadata": {},
   "outputs": [
    {
     "data": {
      "text/plain": [
       "69"
      ]
     },
     "execution_count": 52,
     "metadata": {},
     "output_type": "execute_result"
    }
   ],
   "source": [
    "spb_locality_data=data.loc[data['locality_name']==\"Санкт-Петербург\"]\n",
    "spb_locality_data['cityCenters_nearest'].isna().sum()"
   ]
  },
  {
   "cell_type": "markdown",
   "metadata": {},
   "source": [
    "Итак, среди 15770 объявлений для Санкт-Петербурга расстояние не заполнено менее, чем для 0.4% объявлений. <br>\n",
    "Заполним вручную эти пропуски медианным значением. "
   ]
  },
  {
   "cell_type": "code",
   "execution_count": 53,
   "metadata": {},
   "outputs": [],
   "source": [
    "data.loc[\n",
    "    data['locality_name']=='Санкт-Петербург', 'cityCenters_nearest'] = data.loc[\n",
    "    data['locality_name']=='Санкт-Петербург','cityCenters_nearest'].fillna(\n",
    "    data.loc[data['locality_name']=='Санкт-Петербург', 'cityCenters_nearest'].median()\n",
    ")"
   ]
  },
  {
   "cell_type": "code",
   "execution_count": 54,
   "metadata": {},
   "outputs": [
    {
     "data": {
      "text/plain": [
       "0"
      ]
     },
     "execution_count": 54,
     "metadata": {},
     "output_type": "execute_result"
    }
   ],
   "source": [
    "spb_locality_data=data.query('locality_name==\"Санкт-Петербург\"')\n",
    "spb_locality_data['cityCenters_nearest'].isna().sum()"
   ]
  },
  {
   "cell_type": "markdown",
   "metadata": {},
   "source": [
    "#### parks_around3000"
   ]
  },
  {
   "cell_type": "markdown",
   "metadata": {},
   "source": [
    "Незаполненные данные в столбце parks_around3000"
   ]
  },
  {
   "cell_type": "code",
   "execution_count": 55,
   "metadata": {},
   "outputs": [
    {
     "data": {
      "text/plain": [
       "5518"
      ]
     },
     "execution_count": 55,
     "metadata": {},
     "output_type": "execute_result"
    }
   ],
   "source": [
    "data['parks_around3000'].isna().sum()"
   ]
  },
  {
   "cell_type": "code",
   "execution_count": 56,
   "metadata": {},
   "outputs": [
    {
     "data": {
      "text/plain": [
       "0.0    10106\n",
       "1.0     5681\n",
       "2.0     1747\n",
       "3.0      647\n",
       "Name: parks_around3000, dtype: int64"
      ]
     },
     "execution_count": 56,
     "metadata": {},
     "output_type": "execute_result"
    }
   ],
   "source": [
    "data['parks_around3000'].value_counts()"
   ]
  },
  {
   "cell_type": "markdown",
   "metadata": {},
   "source": [
    "Вероятно, что если данные в этом столбце не заполнены, парков на расстояниее 3 км нет. Поэтому заменим пропуски на 0. "
   ]
  },
  {
   "cell_type": "code",
   "execution_count": 57,
   "metadata": {},
   "outputs": [
    {
     "data": {
      "text/plain": [
       "0"
      ]
     },
     "execution_count": 57,
     "metadata": {},
     "output_type": "execute_result"
    }
   ],
   "source": [
    "data['parks_around3000']=data['parks_around3000'].fillna(0)\n",
    "data['parks_around3000'].isna().sum()"
   ]
  },
  {
   "cell_type": "code",
   "execution_count": 58,
   "metadata": {},
   "outputs": [
    {
     "data": {
      "text/plain": [
       "0.00    15624\n",
       "1.00     5681\n",
       "2.00     1747\n",
       "3.00      647\n",
       "Name: parks_around3000, dtype: int64"
      ]
     },
     "execution_count": 58,
     "metadata": {},
     "output_type": "execute_result"
    }
   ],
   "source": [
    "data['parks_around3000']=pd.to_numeric(data['parks_around3000'])\n",
    "data['parks_around3000'].value_counts()"
   ]
  },
  {
   "cell_type": "markdown",
   "metadata": {},
   "source": [
    "#### parks_nearest"
   ]
  },
  {
   "cell_type": "markdown",
   "metadata": {},
   "source": [
    "Незаполненные данные в столбце parks_nearest"
   ]
  },
  {
   "cell_type": "markdown",
   "metadata": {},
   "source": [
    "Оставим эти данные незаполненными, т.к. у нас нет технической возможности определить это расстояние (например, с помощью сервиса карт, у нас нет адреса продаваемой недвижимости)."
   ]
  },
  {
   "cell_type": "markdown",
   "metadata": {},
   "source": [
    "#### ponds_around3000"
   ]
  },
  {
   "cell_type": "markdown",
   "metadata": {},
   "source": [
    "Незаполненные данные в столбце ponds_around3000. Поступим в точности как со столбцом parks_around3000. "
   ]
  },
  {
   "cell_type": "code",
   "execution_count": 59,
   "metadata": {},
   "outputs": [
    {
     "data": {
      "text/plain": [
       "5518"
      ]
     },
     "execution_count": 59,
     "metadata": {},
     "output_type": "execute_result"
    }
   ],
   "source": [
    "data['ponds_around3000'].isna().sum()"
   ]
  },
  {
   "cell_type": "code",
   "execution_count": 60,
   "metadata": {},
   "outputs": [
    {
     "data": {
      "text/plain": [
       "0"
      ]
     },
     "execution_count": 60,
     "metadata": {},
     "output_type": "execute_result"
    }
   ],
   "source": [
    "data['ponds_around3000']=data['ponds_around3000'].fillna(0)\n",
    "data['ponds_around3000'].isna().sum()"
   ]
  },
  {
   "cell_type": "code",
   "execution_count": 61,
   "metadata": {},
   "outputs": [
    {
     "data": {
      "text/plain": [
       "0.00    14589\n",
       "1.00     5717\n",
       "2.00     1892\n",
       "3.00     1501\n",
       "Name: ponds_around3000, dtype: int64"
      ]
     },
     "execution_count": 61,
     "metadata": {},
     "output_type": "execute_result"
    }
   ],
   "source": [
    "data['ponds_around3000']=pd.to_numeric(data['ponds_around3000'])\n",
    "data['ponds_around3000'].value_counts()"
   ]
  },
  {
   "cell_type": "markdown",
   "metadata": {},
   "source": [
    "#### ponds_nearest"
   ]
  },
  {
   "cell_type": "markdown",
   "metadata": {},
   "source": [
    "Незаполненные данные в столбце ponds_nearest "
   ]
  },
  {
   "cell_type": "markdown",
   "metadata": {},
   "source": [
    "Оставим эти данные незаполненными, т.к. у нас нет технической возможности определить это расстояние (например, с помощью сервиса карт, у нас нет адреса продаваемой недвижимости)."
   ]
  },
  {
   "cell_type": "markdown",
   "metadata": {},
   "source": [
    "#### days_exposition"
   ]
  },
  {
   "cell_type": "markdown",
   "metadata": {},
   "source": [
    "Незаполненные данные в столбце days_exposition "
   ]
  },
  {
   "cell_type": "code",
   "execution_count": 62,
   "metadata": {},
   "outputs": [
    {
     "data": {
      "text/plain": [
       "3181"
      ]
     },
     "execution_count": 62,
     "metadata": {},
     "output_type": "execute_result"
    }
   ],
   "source": [
    "data['days_exposition'].isna().sum()"
   ]
  },
  {
   "cell_type": "code",
   "execution_count": 63,
   "metadata": {},
   "outputs": [
    {
     "data": {
      "text/plain": [
       "count   20518.00\n",
       "mean      180.89\n",
       "std       219.73\n",
       "min         1.00\n",
       "25%        45.00\n",
       "50%        95.00\n",
       "75%       232.00\n",
       "max      1580.00\n",
       "Name: days_exposition, dtype: float64"
      ]
     },
     "execution_count": 63,
     "metadata": {},
     "output_type": "execute_result"
    }
   ],
   "source": [
    "data['days_exposition']=pd.to_numeric(data['days_exposition'])\n",
    "data['days_exposition'].describe()"
   ]
  },
  {
   "cell_type": "markdown",
   "metadata": {},
   "source": [
    "Поскольку в дальнейшем мы будем изучать длительность продажи отдельно, оставим эти данные незаполненными. "
   ]
  },
  {
   "cell_type": "markdown",
   "metadata": {},
   "source": [
    "#### rooms"
   ]
  },
  {
   "cell_type": "markdown",
   "metadata": {},
   "source": [
    "Посмотрим на данные о числе комнат:"
   ]
  },
  {
   "cell_type": "code",
   "execution_count": 64,
   "metadata": {},
   "outputs": [
    {
     "data": {
      "text/plain": [
       "count   23699.00\n",
       "mean        2.07\n",
       "std         1.08\n",
       "min         0.00\n",
       "25%         1.00\n",
       "50%         2.00\n",
       "75%         3.00\n",
       "max        19.00\n",
       "Name: rooms, dtype: float64"
      ]
     },
     "execution_count": 64,
     "metadata": {},
     "output_type": "execute_result"
    }
   ],
   "source": [
    "data['rooms'].describe()"
   ]
  },
  {
   "cell_type": "markdown",
   "metadata": {},
   "source": [
    "#### studio, open_plan"
   ]
  },
  {
   "cell_type": "markdown",
   "metadata": {},
   "source": [
    "Данные о студии и открытой планировке:"
   ]
  },
  {
   "cell_type": "code",
   "execution_count": 65,
   "metadata": {},
   "outputs": [
    {
     "data": {
      "text/plain": [
       "False    23550\n",
       "True       149\n",
       "Name: studio, dtype: int64"
      ]
     },
     "execution_count": 65,
     "metadata": {},
     "output_type": "execute_result"
    }
   ],
   "source": [
    "data['studio'].value_counts()"
   ]
  },
  {
   "cell_type": "code",
   "execution_count": 66,
   "metadata": {},
   "outputs": [
    {
     "data": {
      "text/plain": [
       "False    23632\n",
       "True        67\n",
       "Name: open_plan, dtype: int64"
      ]
     },
     "execution_count": 66,
     "metadata": {},
     "output_type": "execute_result"
    }
   ],
   "source": [
    "data['open_plan'].value_counts()"
   ]
  },
  {
   "cell_type": "markdown",
   "metadata": {},
   "source": [
    "### Типы данных"
   ]
  },
  {
   "cell_type": "markdown",
   "metadata": {},
   "source": [
    "Кое-где мы уже изменили типы данных, пока заполняли пропущенные ячейки. Посмотрим, что осталось. "
   ]
  },
  {
   "cell_type": "code",
   "execution_count": 67,
   "metadata": {
    "scrolled": true
   },
   "outputs": [
    {
     "name": "stdout",
     "output_type": "stream",
     "text": [
      "<class 'pandas.core.frame.DataFrame'>\n",
      "RangeIndex: 23699 entries, 0 to 23698\n",
      "Data columns (total 24 columns):\n",
      " #   Column                Non-Null Count  Dtype  \n",
      "---  ------                --------------  -----  \n",
      " 0   total_images          23699 non-null  int64  \n",
      " 1   last_price            23699 non-null  float64\n",
      " 2   total_area            23699 non-null  float64\n",
      " 3   first_day_exposition  23699 non-null  object \n",
      " 4   rooms                 23699 non-null  int64  \n",
      " 5   ceiling_height        23699 non-null  float64\n",
      " 6   floors_total          23699 non-null  float64\n",
      " 7   living_area           23699 non-null  float64\n",
      " 8   floor                 23699 non-null  int64  \n",
      " 9   is_apartment          23699 non-null  bool   \n",
      " 10  studio                23699 non-null  bool   \n",
      " 11  open_plan             23699 non-null  bool   \n",
      " 12  kitchen_area          23699 non-null  float64\n",
      " 13  balcony               23699 non-null  float64\n",
      " 14  locality_name         23699 non-null  object \n",
      " 15  airports_nearest      18157 non-null  object \n",
      " 16  cityCenters_nearest   18249 non-null  float64\n",
      " 17  parks_around3000      23699 non-null  float64\n",
      " 18  parks_nearest         8079 non-null   object \n",
      " 19  ponds_around3000      23699 non-null  float64\n",
      " 20  ponds_nearest         9110 non-null   object \n",
      " 21  days_exposition       20518 non-null  float64\n",
      " 22  living_area_ratio     21796 non-null  float64\n",
      " 23  kitchen_area_ratio    21421 non-null  float64\n",
      "dtypes: bool(3), float64(13), int64(3), object(5)\n",
      "memory usage: 3.9+ MB\n"
     ]
    }
   ],
   "source": [
    "data.info()"
   ]
  },
  {
   "cell_type": "markdown",
   "metadata": {},
   "source": [
    "Для first_day_exposition формат данных строка. Превратим его в дату и посмотрим диапазон дат.  "
   ]
  },
  {
   "cell_type": "code",
   "execution_count": 68,
   "metadata": {},
   "outputs": [],
   "source": [
    "data['first_day_exposition']=pd.to_datetime(data['first_day_exposition'], format='%Y-%m-%d')"
   ]
  },
  {
   "cell_type": "code",
   "execution_count": 69,
   "metadata": {},
   "outputs": [
    {
     "name": "stdout",
     "output_type": "stream",
     "text": [
      "Самая ранняя дата публикации 2014-11-27 00:00:00\n"
     ]
    }
   ],
   "source": [
    "print('Самая ранняя дата публикации', data['first_day_exposition'].min())"
   ]
  },
  {
   "cell_type": "code",
   "execution_count": 70,
   "metadata": {},
   "outputs": [
    {
     "name": "stdout",
     "output_type": "stream",
     "text": [
      "Самая поздняя дата публикации 2019-05-03 00:00:00\n"
     ]
    }
   ],
   "source": [
    "print('Самая поздняя дата публикации', data['first_day_exposition'].max())"
   ]
  },
  {
   "cell_type": "markdown",
   "metadata": {},
   "source": [
    "Исправим формат данных для airports_nearest, cityCenters_nearest, parks_nearest, ponds_nearest со строки на число, т.к. это расстояние в метрах. Оставим float, т.к. там есть пропуски в данных (NaN). "
   ]
  },
  {
   "cell_type": "code",
   "execution_count": 71,
   "metadata": {},
   "outputs": [],
   "source": [
    "data['airports_nearest']=pd.to_numeric(data['airports_nearest'])\n",
    "data['cityCenters_nearest']=pd.to_numeric(data['cityCenters_nearest'])\n",
    "data['parks_nearest']=pd.to_numeric(data['parks_nearest'])\n",
    "data['ponds_nearest']=pd.to_numeric(data['ponds_nearest'])"
   ]
  },
  {
   "cell_type": "markdown",
   "metadata": {},
   "source": [
    "Исправим формат данных для balcony, floors_total, parks_around3000, ponds_around3000 на int, т.к. все это целые числа."
   ]
  },
  {
   "cell_type": "code",
   "execution_count": 72,
   "metadata": {},
   "outputs": [],
   "source": [
    "data['balcony']=data['balcony'].astype('int')\n",
    "data['floors_total']=data['floors_total'].astype('int')\n",
    "data['parks_around3000']=data['parks_around3000'].astype('int')\n",
    "data['ponds_around3000']=data['ponds_around3000'].astype('int')"
   ]
  },
  {
   "cell_type": "markdown",
   "metadata": {},
   "source": [
    "Формат данных days_exposition - строка. Превратим в numeric (float), ведь есть пропущенные данные (NaN). "
   ]
  },
  {
   "cell_type": "code",
   "execution_count": 73,
   "metadata": {},
   "outputs": [],
   "source": [
    "data['days_exposition']=pd.to_numeric(data['days_exposition'])"
   ]
  },
  {
   "cell_type": "code",
   "execution_count": 74,
   "metadata": {},
   "outputs": [
    {
     "data": {
      "text/plain": [
       "count   20518.00\n",
       "mean      180.89\n",
       "std       219.73\n",
       "min         1.00\n",
       "25%        45.00\n",
       "50%        95.00\n",
       "75%       232.00\n",
       "max      1580.00\n",
       "Name: days_exposition, dtype: float64"
      ]
     },
     "execution_count": 74,
     "metadata": {},
     "output_type": "execute_result"
    }
   ],
   "source": [
    "data['days_exposition'].describe()"
   ]
  },
  {
   "cell_type": "markdown",
   "metadata": {},
   "source": [
    "Проверим результат. "
   ]
  },
  {
   "cell_type": "code",
   "execution_count": 75,
   "metadata": {},
   "outputs": [
    {
     "name": "stdout",
     "output_type": "stream",
     "text": [
      "<class 'pandas.core.frame.DataFrame'>\n",
      "RangeIndex: 23699 entries, 0 to 23698\n",
      "Data columns (total 24 columns):\n",
      " #   Column                Non-Null Count  Dtype         \n",
      "---  ------                --------------  -----         \n",
      " 0   total_images          23699 non-null  int64         \n",
      " 1   last_price            23699 non-null  float64       \n",
      " 2   total_area            23699 non-null  float64       \n",
      " 3   first_day_exposition  23699 non-null  datetime64[ns]\n",
      " 4   rooms                 23699 non-null  int64         \n",
      " 5   ceiling_height        23699 non-null  float64       \n",
      " 6   floors_total          23699 non-null  int32         \n",
      " 7   living_area           23699 non-null  float64       \n",
      " 8   floor                 23699 non-null  int64         \n",
      " 9   is_apartment          23699 non-null  bool          \n",
      " 10  studio                23699 non-null  bool          \n",
      " 11  open_plan             23699 non-null  bool          \n",
      " 12  kitchen_area          23699 non-null  float64       \n",
      " 13  balcony               23699 non-null  int32         \n",
      " 14  locality_name         23699 non-null  object        \n",
      " 15  airports_nearest      18157 non-null  float64       \n",
      " 16  cityCenters_nearest   18249 non-null  float64       \n",
      " 17  parks_around3000      23699 non-null  int32         \n",
      " 18  parks_nearest         8079 non-null   float64       \n",
      " 19  ponds_around3000      23699 non-null  int32         \n",
      " 20  ponds_nearest         9110 non-null   float64       \n",
      " 21  days_exposition       20518 non-null  float64       \n",
      " 22  living_area_ratio     21796 non-null  float64       \n",
      " 23  kitchen_area_ratio    21421 non-null  float64       \n",
      "dtypes: bool(3), datetime64[ns](1), float64(12), int32(4), int64(3), object(1)\n",
      "memory usage: 3.5+ MB\n"
     ]
    }
   ],
   "source": [
    "data.info()"
   ]
  },
  {
   "cell_type": "markdown",
   "metadata": {},
   "source": [
    "Данные приведены к желаемому формату, пропуски в данных оставлены только там, где правильнее оставить пустые значения как они есть. "
   ]
  },
  {
   "cell_type": "markdown",
   "metadata": {},
   "source": [
    "### Дубликаты"
   ]
  },
  {
   "cell_type": "markdown",
   "metadata": {},
   "source": [
    "Проверим дубликаты строк в data."
   ]
  },
  {
   "cell_type": "code",
   "execution_count": 76,
   "metadata": {},
   "outputs": [
    {
     "data": {
      "text/plain": [
       "0"
      ]
     },
     "execution_count": 76,
     "metadata": {},
     "output_type": "execute_result"
    }
   ],
   "source": [
    "data.duplicated().sum()"
   ]
  },
  {
   "cell_type": "markdown",
   "metadata": {},
   "source": [
    "Дубликаты в датафрейме data отсутствуют."
   ]
  },
  {
   "cell_type": "markdown",
   "metadata": {},
   "source": [
    "### Вывод"
   ]
  },
  {
   "cell_type": "markdown",
   "metadata": {},
   "source": [
    "Мы заполнили пропуски или оставили пропущенные данные без изменения - там, где это уместно, изменили тип данных и проверили отсутствие дубликатов строк. "
   ]
  },
  {
   "cell_type": "markdown",
   "metadata": {},
   "source": [
    "## Расчёты и добавление результатов в таблицу"
   ]
  },
  {
   "cell_type": "markdown",
   "metadata": {},
   "source": [
    "### Цена квадратного метра"
   ]
  },
  {
   "cell_type": "markdown",
   "metadata": {},
   "source": [
    "Добавим в таблицу цену квадратного метра и посмотрим общую информацию об этом столбце."
   ]
  },
  {
   "cell_type": "code",
   "execution_count": 77,
   "metadata": {},
   "outputs": [],
   "source": [
    "data['square_meter_price']=(data['last_price']) / (data['total_area'])"
   ]
  },
  {
   "cell_type": "code",
   "execution_count": 78,
   "metadata": {},
   "outputs": [
    {
     "data": {
      "text/plain": [
       "count     23699.00\n",
       "mean      99421.66\n",
       "std       50306.80\n",
       "min         111.83\n",
       "25%       76585.47\n",
       "50%       95000.00\n",
       "75%      114256.33\n",
       "max     1907500.00\n",
       "Name: square_meter_price, dtype: float64"
      ]
     },
     "execution_count": 78,
     "metadata": {},
     "output_type": "execute_result"
    }
   ],
   "source": [
    "data['square_meter_price'].describe()"
   ]
  },
  {
   "cell_type": "markdown",
   "metadata": {},
   "source": [
    "Общая информация здесь малоинформативна, т.к. средняя цена квадратного метра явно зависит от множества факторов, и соответственно, при группировке данных по разным признакам будет различной. Это мы изучим далее. "
   ]
  },
  {
   "cell_type": "markdown",
   "metadata": {},
   "source": [
    "### День недели, месяц, год публикации объявления"
   ]
  },
  {
   "cell_type": "markdown",
   "metadata": {},
   "source": [
    "Добавим в таблицу день недели, месяц и год публикации объявления"
   ]
  },
  {
   "cell_type": "code",
   "execution_count": 79,
   "metadata": {},
   "outputs": [],
   "source": [
    "data['weekday_exposition'] = data['first_day_exposition'].dt.weekday\n",
    "data['month_exposition'] = pd.DatetimeIndex(data['first_day_exposition']).month\n",
    "data['year_exposition'] = pd.DatetimeIndex(data ['first_day_exposition']).year"
   ]
  },
  {
   "cell_type": "code",
   "execution_count": 80,
   "metadata": {},
   "outputs": [
    {
     "data": {
      "text/plain": [
       "3    4295\n",
       "1    4183\n",
       "4    4000\n",
       "2    3974\n",
       "0    3612\n",
       "5    1936\n",
       "6    1699\n",
       "Name: weekday_exposition, dtype: int64"
      ]
     },
     "execution_count": 80,
     "metadata": {},
     "output_type": "execute_result"
    }
   ],
   "source": [
    "data['weekday_exposition'].value_counts()"
   ]
  },
  {
   "cell_type": "code",
   "execution_count": 81,
   "metadata": {},
   "outputs": [
    {
     "data": {
      "text/plain": [
       "2     2640\n",
       "3     2587\n",
       "4     2379\n",
       "11    2371\n",
       "10    2127\n",
       "9     1981\n",
       "6     1760\n",
       "8     1744\n",
       "7     1695\n",
       "12    1641\n",
       "1     1500\n",
       "5     1274\n",
       "Name: month_exposition, dtype: int64"
      ]
     },
     "execution_count": 81,
     "metadata": {},
     "output_type": "execute_result"
    }
   ],
   "source": [
    "data['month_exposition'].value_counts()"
   ]
  },
  {
   "cell_type": "markdown",
   "metadata": {},
   "source": [
    "Весной и осенью размещается больше объявлений, летом, перед и после нового года - меньше. "
   ]
  },
  {
   "cell_type": "code",
   "execution_count": 82,
   "metadata": {},
   "outputs": [
    {
     "data": {
      "text/plain": [
       "2018    8519\n",
       "2017    8190\n",
       "2019    2879\n",
       "2016    2783\n",
       "2015    1191\n",
       "2014     137\n",
       "Name: year_exposition, dtype: int64"
      ]
     },
     "execution_count": 82,
     "metadata": {},
     "output_type": "execute_result"
    }
   ],
   "source": [
    "data['year_exposition'].value_counts()"
   ]
  },
  {
   "cell_type": "markdown",
   "metadata": {},
   "source": [
    "Данные представлены с 2014 по 2019 г., ранее мы узнали, что с ноября 2014 по май 2019 г., в рамках полных лет: с 2015 по 2018 количество поданных объявлений в год постоянно растет. "
   ]
  },
  {
   "cell_type": "markdown",
   "metadata": {},
   "source": [
    "### Этаж: категория"
   ]
  },
  {
   "cell_type": "markdown",
   "metadata": {},
   "source": [
    "Добавим в таблицу категорию этажа квартиры (варианты — первый, последний, другой)"
   ]
  },
  {
   "cell_type": "code",
   "execution_count": 83,
   "metadata": {},
   "outputs": [
    {
     "data": {
      "text/plain": [
       "count   23699.00\n",
       "mean        5.89\n",
       "std         4.89\n",
       "min         1.00\n",
       "25%         2.00\n",
       "50%         4.00\n",
       "75%         8.00\n",
       "max        33.00\n",
       "Name: floor, dtype: float64"
      ]
     },
     "execution_count": 83,
     "metadata": {},
     "output_type": "execute_result"
    }
   ],
   "source": [
    "data['floor'].describe()"
   ]
  },
  {
   "cell_type": "markdown",
   "metadata": {},
   "source": [
    "Распределение по этажам (с номерами этажей):"
   ]
  },
  {
   "cell_type": "code",
   "execution_count": 84,
   "metadata": {},
   "outputs": [
    {
     "data": {
      "text/plain": [
       "2     3368\n",
       "3     3073\n",
       "1     2917\n",
       "4     2804\n",
       "5     2621\n",
       "6     1305\n",
       "7     1218\n",
       "8     1083\n",
       "9     1051\n",
       "10     687\n",
       "12     526\n",
       "11     523\n",
       "13     379\n",
       "15     343\n",
       "14     337\n",
       "16     315\n",
       "17     227\n",
       "18     178\n",
       "19     147\n",
       "21     125\n",
       "22     113\n",
       "20     110\n",
       "23     100\n",
       "24      63\n",
       "25      46\n",
       "26      24\n",
       "27      10\n",
       "28       1\n",
       "30       1\n",
       "29       1\n",
       "32       1\n",
       "33       1\n",
       "31       1\n",
       "Name: floor, dtype: int64"
      ]
     },
     "execution_count": 84,
     "metadata": {},
     "output_type": "execute_result"
    }
   ],
   "source": [
    "data['floor'].value_counts()"
   ]
  },
  {
   "cell_type": "markdown",
   "metadata": {},
   "source": [
    "Большинство квартир не выше 9-го этажа, квартир выше 26-го этажа - единицы. "
   ]
  },
  {
   "cell_type": "code",
   "execution_count": 85,
   "metadata": {},
   "outputs": [],
   "source": [
    "def floor_description(row): \n",
    "    if row['floors_total']==row['floor']: \n",
    "        return 'последний этаж'\n",
    "    if row['floor']==1: \n",
    "        return 'первый этаж'\n",
    "    return 'другой этаж'\n",
    "\n",
    "data['floor_category']=data.apply(floor_description, axis=1)"
   ]
  },
  {
   "cell_type": "code",
   "execution_count": 86,
   "metadata": {},
   "outputs": [
    {
     "data": {
      "text/plain": [
       "другой этаж       17441\n",
       "последний этаж     3366\n",
       "первый этаж        2892\n",
       "Name: floor_category, dtype: int64"
      ]
     },
     "execution_count": 86,
     "metadata": {},
     "output_type": "execute_result"
    }
   ],
   "source": [
    "data['floor_category'].value_counts()"
   ]
  },
  {
   "cell_type": "markdown",
   "metadata": {},
   "source": [
    "Для того, чтобы в дальнейшем обрабатывать это разделение на категории этажей, добавим идентификатор категории (числовой): 1 - для первого этажа, 2 - для \"другого\" этажа и 3 - для последнего. "
   ]
  },
  {
   "cell_type": "code",
   "execution_count": 87,
   "metadata": {},
   "outputs": [],
   "source": [
    "def floor_category_identify(row): \n",
    "    if row['floor_category']=='последний этаж': \n",
    "        return 3\n",
    "    if row['floor_category']=='первый этаж': \n",
    "        return 1\n",
    "    return 2\n",
    "\n",
    "data['floor_category_id']=data.apply(floor_category_identify, axis=1)"
   ]
  },
  {
   "cell_type": "markdown",
   "metadata": {},
   "source": [
    "### Соотношение площадей"
   ]
  },
  {
   "cell_type": "markdown",
   "metadata": {},
   "source": [
    "Соотношение жилой и общей площади рассчитывалось нами ранее и содержалось в столбце living_area_ratio. Там были пропуски из-за пропусков данных. Теперь эти пропуски заменены, и мы заменим данные в столбце новыми. "
   ]
  },
  {
   "cell_type": "code",
   "execution_count": 88,
   "metadata": {},
   "outputs": [],
   "source": [
    "data['living_area_ratio']=(data['living_area'])/(data['total_area'])"
   ]
  },
  {
   "cell_type": "code",
   "execution_count": 89,
   "metadata": {},
   "outputs": [
    {
     "data": {
      "text/plain": [
       "count   23699.00\n",
       "mean        0.57\n",
       "std         0.10\n",
       "min         0.02\n",
       "25%         0.50\n",
       "50%         0.57\n",
       "75%         0.63\n",
       "max         1.00\n",
       "Name: living_area_ratio, dtype: float64"
      ]
     },
     "execution_count": 89,
     "metadata": {},
     "output_type": "execute_result"
    }
   ],
   "source": [
    "data['living_area_ratio'].describe()"
   ]
  },
  {
   "cell_type": "markdown",
   "metadata": {},
   "source": [
    "Аналогично столбец kitchen_area_ratio. "
   ]
  },
  {
   "cell_type": "code",
   "execution_count": 90,
   "metadata": {},
   "outputs": [],
   "source": [
    "data['kitchen_area_ratio']=(data['kitchen_area'])/(data['total_area'])"
   ]
  },
  {
   "cell_type": "code",
   "execution_count": 91,
   "metadata": {},
   "outputs": [
    {
     "data": {
      "text/plain": [
       "count   23699.00\n",
       "mean        0.19\n",
       "std         0.07\n",
       "min         0.03\n",
       "25%         0.14\n",
       "50%         0.17\n",
       "75%         0.22\n",
       "max         0.79\n",
       "Name: kitchen_area_ratio, dtype: float64"
      ]
     },
     "execution_count": 91,
     "metadata": {},
     "output_type": "execute_result"
    }
   ],
   "source": [
    "data['kitchen_area_ratio'].describe()"
   ]
  },
  {
   "cell_type": "markdown",
   "metadata": {},
   "source": [
    "Посмотрим результат:"
   ]
  },
  {
   "cell_type": "code",
   "execution_count": 92,
   "metadata": {},
   "outputs": [
    {
     "data": {
      "text/html": [
       "<div>\n",
       "<style scoped>\n",
       "    .dataframe tbody tr th:only-of-type {\n",
       "        vertical-align: middle;\n",
       "    }\n",
       "\n",
       "    .dataframe tbody tr th {\n",
       "        vertical-align: top;\n",
       "    }\n",
       "\n",
       "    .dataframe thead th {\n",
       "        text-align: right;\n",
       "    }\n",
       "</style>\n",
       "<table border=\"1\" class=\"dataframe\">\n",
       "  <thead>\n",
       "    <tr style=\"text-align: right;\">\n",
       "      <th></th>\n",
       "      <th>total_images</th>\n",
       "      <th>last_price</th>\n",
       "      <th>total_area</th>\n",
       "      <th>first_day_exposition</th>\n",
       "      <th>rooms</th>\n",
       "      <th>ceiling_height</th>\n",
       "      <th>floors_total</th>\n",
       "      <th>living_area</th>\n",
       "      <th>floor</th>\n",
       "      <th>is_apartment</th>\n",
       "      <th>studio</th>\n",
       "      <th>open_plan</th>\n",
       "      <th>kitchen_area</th>\n",
       "      <th>balcony</th>\n",
       "      <th>locality_name</th>\n",
       "      <th>airports_nearest</th>\n",
       "      <th>cityCenters_nearest</th>\n",
       "      <th>parks_around3000</th>\n",
       "      <th>parks_nearest</th>\n",
       "      <th>ponds_around3000</th>\n",
       "      <th>ponds_nearest</th>\n",
       "      <th>days_exposition</th>\n",
       "      <th>living_area_ratio</th>\n",
       "      <th>kitchen_area_ratio</th>\n",
       "      <th>square_meter_price</th>\n",
       "      <th>weekday_exposition</th>\n",
       "      <th>month_exposition</th>\n",
       "      <th>year_exposition</th>\n",
       "      <th>floor_category</th>\n",
       "      <th>floor_category_id</th>\n",
       "    </tr>\n",
       "  </thead>\n",
       "  <tbody>\n",
       "    <tr>\n",
       "      <th>0</th>\n",
       "      <td>20</td>\n",
       "      <td>13000000.00</td>\n",
       "      <td>108.00</td>\n",
       "      <td>2019-03-07</td>\n",
       "      <td>3</td>\n",
       "      <td>2.70</td>\n",
       "      <td>16</td>\n",
       "      <td>51.00</td>\n",
       "      <td>8</td>\n",
       "      <td>False</td>\n",
       "      <td>False</td>\n",
       "      <td>False</td>\n",
       "      <td>25.00</td>\n",
       "      <td>0</td>\n",
       "      <td>Санкт-Петербург</td>\n",
       "      <td>18863.00</td>\n",
       "      <td>16028.00</td>\n",
       "      <td>1</td>\n",
       "      <td>482.00</td>\n",
       "      <td>2</td>\n",
       "      <td>755.00</td>\n",
       "      <td>NaN</td>\n",
       "      <td>0.47</td>\n",
       "      <td>0.23</td>\n",
       "      <td>120370.37</td>\n",
       "      <td>3</td>\n",
       "      <td>3</td>\n",
       "      <td>2019</td>\n",
       "      <td>другой этаж</td>\n",
       "      <td>2</td>\n",
       "    </tr>\n",
       "    <tr>\n",
       "      <th>1</th>\n",
       "      <td>7</td>\n",
       "      <td>3350000.00</td>\n",
       "      <td>40.40</td>\n",
       "      <td>2018-12-04</td>\n",
       "      <td>1</td>\n",
       "      <td>2.65</td>\n",
       "      <td>11</td>\n",
       "      <td>18.60</td>\n",
       "      <td>1</td>\n",
       "      <td>False</td>\n",
       "      <td>False</td>\n",
       "      <td>False</td>\n",
       "      <td>11.00</td>\n",
       "      <td>2</td>\n",
       "      <td>поселок Шушары</td>\n",
       "      <td>12817.00</td>\n",
       "      <td>18603.00</td>\n",
       "      <td>0</td>\n",
       "      <td>NaN</td>\n",
       "      <td>0</td>\n",
       "      <td>NaN</td>\n",
       "      <td>81.00</td>\n",
       "      <td>0.46</td>\n",
       "      <td>0.27</td>\n",
       "      <td>82920.79</td>\n",
       "      <td>1</td>\n",
       "      <td>12</td>\n",
       "      <td>2018</td>\n",
       "      <td>первый этаж</td>\n",
       "      <td>1</td>\n",
       "    </tr>\n",
       "    <tr>\n",
       "      <th>2</th>\n",
       "      <td>10</td>\n",
       "      <td>5196000.00</td>\n",
       "      <td>56.00</td>\n",
       "      <td>2015-08-20</td>\n",
       "      <td>2</td>\n",
       "      <td>2.65</td>\n",
       "      <td>5</td>\n",
       "      <td>34.30</td>\n",
       "      <td>4</td>\n",
       "      <td>False</td>\n",
       "      <td>False</td>\n",
       "      <td>False</td>\n",
       "      <td>8.30</td>\n",
       "      <td>0</td>\n",
       "      <td>Санкт-Петербург</td>\n",
       "      <td>21741.00</td>\n",
       "      <td>13933.00</td>\n",
       "      <td>1</td>\n",
       "      <td>90.00</td>\n",
       "      <td>2</td>\n",
       "      <td>574.00</td>\n",
       "      <td>558.00</td>\n",
       "      <td>0.61</td>\n",
       "      <td>0.15</td>\n",
       "      <td>92785.71</td>\n",
       "      <td>3</td>\n",
       "      <td>8</td>\n",
       "      <td>2015</td>\n",
       "      <td>другой этаж</td>\n",
       "      <td>2</td>\n",
       "    </tr>\n",
       "  </tbody>\n",
       "</table>\n",
       "</div>"
      ],
      "text/plain": [
       "   total_images  last_price  total_area first_day_exposition  rooms  \\\n",
       "0            20 13000000.00      108.00           2019-03-07      3   \n",
       "1             7  3350000.00       40.40           2018-12-04      1   \n",
       "2            10  5196000.00       56.00           2015-08-20      2   \n",
       "\n",
       "   ceiling_height  floors_total  living_area  floor  is_apartment  studio  \\\n",
       "0            2.70            16        51.00      8         False   False   \n",
       "1            2.65            11        18.60      1         False   False   \n",
       "2            2.65             5        34.30      4         False   False   \n",
       "\n",
       "   open_plan  kitchen_area  balcony    locality_name  airports_nearest  \\\n",
       "0      False         25.00        0  Санкт-Петербург          18863.00   \n",
       "1      False         11.00        2   поселок Шушары          12817.00   \n",
       "2      False          8.30        0  Санкт-Петербург          21741.00   \n",
       "\n",
       "   cityCenters_nearest  parks_around3000  parks_nearest  ponds_around3000  \\\n",
       "0             16028.00                 1         482.00                 2   \n",
       "1             18603.00                 0            NaN                 0   \n",
       "2             13933.00                 1          90.00                 2   \n",
       "\n",
       "   ponds_nearest  days_exposition  living_area_ratio  kitchen_area_ratio  \\\n",
       "0         755.00              NaN               0.47                0.23   \n",
       "1            NaN            81.00               0.46                0.27   \n",
       "2         574.00           558.00               0.61                0.15   \n",
       "\n",
       "   square_meter_price  weekday_exposition  month_exposition  year_exposition  \\\n",
       "0           120370.37                   3                 3             2019   \n",
       "1            82920.79                   1                12             2018   \n",
       "2            92785.71                   3                 8             2015   \n",
       "\n",
       "  floor_category  floor_category_id  \n",
       "0    другой этаж                  2  \n",
       "1    первый этаж                  1  \n",
       "2    другой этаж                  2  "
      ]
     },
     "execution_count": 92,
     "metadata": {},
     "output_type": "execute_result"
    }
   ],
   "source": [
    "data.head(3)"
   ]
  },
  {
   "cell_type": "code",
   "execution_count": 93,
   "metadata": {},
   "outputs": [
    {
     "name": "stdout",
     "output_type": "stream",
     "text": [
      "<class 'pandas.core.frame.DataFrame'>\n",
      "RangeIndex: 23699 entries, 0 to 23698\n",
      "Data columns (total 30 columns):\n",
      " #   Column                Non-Null Count  Dtype         \n",
      "---  ------                --------------  -----         \n",
      " 0   total_images          23699 non-null  int64         \n",
      " 1   last_price            23699 non-null  float64       \n",
      " 2   total_area            23699 non-null  float64       \n",
      " 3   first_day_exposition  23699 non-null  datetime64[ns]\n",
      " 4   rooms                 23699 non-null  int64         \n",
      " 5   ceiling_height        23699 non-null  float64       \n",
      " 6   floors_total          23699 non-null  int32         \n",
      " 7   living_area           23699 non-null  float64       \n",
      " 8   floor                 23699 non-null  int64         \n",
      " 9   is_apartment          23699 non-null  bool          \n",
      " 10  studio                23699 non-null  bool          \n",
      " 11  open_plan             23699 non-null  bool          \n",
      " 12  kitchen_area          23699 non-null  float64       \n",
      " 13  balcony               23699 non-null  int32         \n",
      " 14  locality_name         23699 non-null  object        \n",
      " 15  airports_nearest      18157 non-null  float64       \n",
      " 16  cityCenters_nearest   18249 non-null  float64       \n",
      " 17  parks_around3000      23699 non-null  int32         \n",
      " 18  parks_nearest         8079 non-null   float64       \n",
      " 19  ponds_around3000      23699 non-null  int32         \n",
      " 20  ponds_nearest         9110 non-null   float64       \n",
      " 21  days_exposition       20518 non-null  float64       \n",
      " 22  living_area_ratio     23699 non-null  float64       \n",
      " 23  kitchen_area_ratio    23699 non-null  float64       \n",
      " 24  square_meter_price    23699 non-null  float64       \n",
      " 25  weekday_exposition    23699 non-null  int64         \n",
      " 26  month_exposition      23699 non-null  int64         \n",
      " 27  year_exposition       23699 non-null  int64         \n",
      " 28  floor_category        23699 non-null  object        \n",
      " 29  floor_category_id     23699 non-null  int64         \n",
      "dtypes: bool(3), datetime64[ns](1), float64(13), int32(4), int64(7), object(2)\n",
      "memory usage: 4.6+ MB\n"
     ]
    }
   ],
   "source": [
    "data.info()"
   ]
  },
  {
   "cell_type": "markdown",
   "metadata": {},
   "source": [
    "## Исследовательский анализ данных"
   ]
  },
  {
   "cell_type": "markdown",
   "metadata": {},
   "source": [
    "### Площадь, цена, число комнат, высота потолков."
   ]
  },
  {
   "cell_type": "markdown",
   "metadata": {},
   "source": [
    "#### Площадь общая"
   ]
  },
  {
   "cell_type": "code",
   "execution_count": 94,
   "metadata": {},
   "outputs": [
    {
     "data": {
      "text/plain": [
       "count   23699.00\n",
       "mean       60.35\n",
       "std        35.65\n",
       "min        12.00\n",
       "25%        40.00\n",
       "50%        52.00\n",
       "75%        69.90\n",
       "max       900.00\n",
       "Name: total_area, dtype: float64"
      ]
     },
     "execution_count": 94,
     "metadata": {},
     "output_type": "execute_result"
    }
   ],
   "source": [
    "data['total_area'].describe()"
   ]
  },
  {
   "cell_type": "markdown",
   "metadata": {},
   "source": [
    "- Средняя площадь квартир 52 кв м (медиана) / 60 кв м (среднее). \n",
    "- Разброс данных велик: 35 кв м. \n",
    "- Есть небольшие квартиры: 12 м. и очень большие - 900 кв. м. "
   ]
  },
  {
   "cell_type": "code",
   "execution_count": 95,
   "metadata": {
    "scrolled": false
   },
   "outputs": [
    {
     "data": {
      "text/plain": [
       "<AxesSubplot:>"
      ]
     },
     "execution_count": 95,
     "metadata": {},
     "output_type": "execute_result"
    },
    {
     "data": {
      "image/png": "[encoded data removed]",
      "text/plain": [
       "<Figure size 1080x576 with 1 Axes>"
      ]
     },
     "metadata": {
      "needs_background": "light"
     },
     "output_type": "display_data"
    }
   ],
   "source": [
    "data['total_area'].hist(bins=100, figsize=(15,8), grid=True)"
   ]
  },
  {
   "cell_type": "markdown",
   "metadata": {},
   "source": [
    "Посмотрим распределение площади в пределах от 12 до 200 метров. "
   ]
  },
  {
   "cell_type": "code",
   "execution_count": 96,
   "metadata": {
    "scrolled": false
   },
   "outputs": [
    {
     "data": {
      "text/plain": [
       "<AxesSubplot:>"
      ]
     },
     "execution_count": 96,
     "metadata": {},
     "output_type": "execute_result"
    },
    {
     "data": {
      "image/png": "[encoded data removed]",
      "text/plain": [
       "<Figure size 864x576 with 1 Axes>"
      ]
     },
     "metadata": {
      "needs_background": "light"
     },
     "output_type": "display_data"
    }
   ],
   "source": [
    "data['total_area'].hist(bins=100, figsize=(12,8), grid=True, range=(12,200))"
   ]
  },
  {
   "cell_type": "markdown",
   "metadata": {},
   "source": [
    "На определенных значениях есть пики и падения гистограммы, что связано, очевидно, с тем, что большинство квартир имеют стандартные планировки, поэтому квартир с площадью, например, 46 кв.м. может быть много, а 49 кв. м. - намного меньше, хотя площадь отличается ненамного. "
   ]
  },
  {
   "cell_type": "markdown",
   "metadata": {},
   "source": [
    "Квартир какой площади больше всего?"
   ]
  },
  {
   "cell_type": "code",
   "execution_count": 97,
   "metadata": {},
   "outputs": [
    {
     "data": {
      "text/html": [
       "<div>\n",
       "<style scoped>\n",
       "    .dataframe tbody tr th:only-of-type {\n",
       "        vertical-align: middle;\n",
       "    }\n",
       "\n",
       "    .dataframe tbody tr th {\n",
       "        vertical-align: top;\n",
       "    }\n",
       "\n",
       "    .dataframe thead th {\n",
       "        text-align: right;\n",
       "    }\n",
       "</style>\n",
       "<table border=\"1\" class=\"dataframe\">\n",
       "  <thead>\n",
       "    <tr style=\"text-align: right;\">\n",
       "      <th></th>\n",
       "      <th>living_area</th>\n",
       "    </tr>\n",
       "    <tr>\n",
       "      <th>total_area</th>\n",
       "      <th></th>\n",
       "    </tr>\n",
       "  </thead>\n",
       "  <tbody>\n",
       "    <tr>\n",
       "      <th>45.00</th>\n",
       "      <td>419</td>\n",
       "    </tr>\n",
       "    <tr>\n",
       "      <th>42.00</th>\n",
       "      <td>383</td>\n",
       "    </tr>\n",
       "    <tr>\n",
       "      <th>60.00</th>\n",
       "      <td>347</td>\n",
       "    </tr>\n",
       "    <tr>\n",
       "      <th>31.00</th>\n",
       "      <td>346</td>\n",
       "    </tr>\n",
       "    <tr>\n",
       "      <th>44.00</th>\n",
       "      <td>345</td>\n",
       "    </tr>\n",
       "    <tr>\n",
       "      <th>40.00</th>\n",
       "      <td>315</td>\n",
       "    </tr>\n",
       "    <tr>\n",
       "      <th>43.00</th>\n",
       "      <td>301</td>\n",
       "    </tr>\n",
       "    <tr>\n",
       "      <th>32.00</th>\n",
       "      <td>289</td>\n",
       "    </tr>\n",
       "    <tr>\n",
       "      <th>46.00</th>\n",
       "      <td>282</td>\n",
       "    </tr>\n",
       "    <tr>\n",
       "      <th>36.00</th>\n",
       "      <td>280</td>\n",
       "    </tr>\n",
       "  </tbody>\n",
       "</table>\n",
       "</div>"
      ],
      "text/plain": [
       "            living_area\n",
       "total_area             \n",
       "45.00               419\n",
       "42.00               383\n",
       "60.00               347\n",
       "31.00               346\n",
       "44.00               345\n",
       "40.00               315\n",
       "43.00               301\n",
       "32.00               289\n",
       "46.00               282\n",
       "36.00               280"
      ]
     },
     "execution_count": 97,
     "metadata": {},
     "output_type": "execute_result"
    }
   ],
   "source": [
    "data_pivot_total_area=data.pivot_table(index='total_area', values='living_area', aggfunc='count')\n",
    "data_pivot_total_area.sort_values(by='living_area', ascending=False).head(10)"
   ]
  },
  {
   "cell_type": "markdown",
   "metadata": {},
   "source": [
    "45, 42 и 60 квадратных метров общей площади"
   ]
  },
  {
   "cell_type": "markdown",
   "metadata": {},
   "source": [
    "#### Жилая площадь"
   ]
  },
  {
   "cell_type": "code",
   "execution_count": 98,
   "metadata": {},
   "outputs": [
    {
     "data": {
      "text/plain": [
       "count   23699.00\n",
       "mean       34.58\n",
       "std        22.34\n",
       "min         2.00\n",
       "25%        19.00\n",
       "50%        30.00\n",
       "75%        42.10\n",
       "max       409.70\n",
       "Name: living_area, dtype: float64"
      ]
     },
     "execution_count": 98,
     "metadata": {},
     "output_type": "execute_result"
    }
   ],
   "source": [
    "data['living_area'].describe()"
   ]
  },
  {
   "cell_type": "markdown",
   "metadata": {},
   "source": [
    "Средняя жилая площадь 30-34 кв м., от 2 до 410 кв м. Показатель жилой площади, порой, является техническим показателем (в документах) и не отражать фактическую полезную площадь квартиры (например, той, где есть большой коридор или кухня, используемая как гостиная или осуществлена перепланировка). "
   ]
  },
  {
   "cell_type": "code",
   "execution_count": 99,
   "metadata": {},
   "outputs": [
    {
     "data": {
      "text/plain": [
       "<AxesSubplot:>"
      ]
     },
     "execution_count": 99,
     "metadata": {},
     "output_type": "execute_result"
    },
    {
     "data": {
      "image/png": "[encoded data removed]",
      "text/plain": [
       "<Figure size 1080x576 with 1 Axes>"
      ]
     },
     "metadata": {
      "needs_background": "light"
     },
     "output_type": "display_data"
    }
   ],
   "source": [
    "data['living_area'].hist(bins=100, figsize=(15,8))"
   ]
  },
  {
   "cell_type": "markdown",
   "metadata": {},
   "source": [
    "Посмотрим, как распределяется жилая площадь в диапазоне от 2 до 100 м. "
   ]
  },
  {
   "cell_type": "code",
   "execution_count": 100,
   "metadata": {},
   "outputs": [
    {
     "data": {
      "text/plain": [
       "<AxesSubplot:>"
      ]
     },
     "execution_count": 100,
     "metadata": {},
     "output_type": "execute_result"
    },
    {
     "data": {
      "image/png": "[encoded data removed]",
      "text/plain": [
       "<Figure size 1080x576 with 1 Axes>"
      ]
     },
     "metadata": {
      "needs_background": "light"
     },
     "output_type": "display_data"
    }
   ],
   "source": [
    "data['living_area'].hist(bins=100, figsize=(15,8), grid=True, range=(2,100))"
   ]
  },
  {
   "cell_type": "code",
   "execution_count": 101,
   "metadata": {},
   "outputs": [
    {
     "data": {
      "text/html": [
       "<div>\n",
       "<style scoped>\n",
       "    .dataframe tbody tr th:only-of-type {\n",
       "        vertical-align: middle;\n",
       "    }\n",
       "\n",
       "    .dataframe tbody tr th {\n",
       "        vertical-align: top;\n",
       "    }\n",
       "\n",
       "    .dataframe thead th {\n",
       "        text-align: right;\n",
       "    }\n",
       "</style>\n",
       "<table border=\"1\" class=\"dataframe\">\n",
       "  <thead>\n",
       "    <tr style=\"text-align: right;\">\n",
       "      <th></th>\n",
       "      <th>total_area</th>\n",
       "    </tr>\n",
       "    <tr>\n",
       "      <th>living_area</th>\n",
       "      <th></th>\n",
       "    </tr>\n",
       "  </thead>\n",
       "  <tbody>\n",
       "    <tr>\n",
       "      <th>18.00</th>\n",
       "      <td>882</td>\n",
       "    </tr>\n",
       "    <tr>\n",
       "      <th>17.00</th>\n",
       "      <td>675</td>\n",
       "    </tr>\n",
       "    <tr>\n",
       "      <th>30.00</th>\n",
       "      <td>598</td>\n",
       "    </tr>\n",
       "    <tr>\n",
       "      <th>16.00</th>\n",
       "      <td>486</td>\n",
       "    </tr>\n",
       "    <tr>\n",
       "      <th>20.00</th>\n",
       "      <td>481</td>\n",
       "    </tr>\n",
       "    <tr>\n",
       "      <th>28.00</th>\n",
       "      <td>423</td>\n",
       "    </tr>\n",
       "    <tr>\n",
       "      <th>31.00</th>\n",
       "      <td>381</td>\n",
       "    </tr>\n",
       "    <tr>\n",
       "      <th>19.00</th>\n",
       "      <td>329</td>\n",
       "    </tr>\n",
       "    <tr>\n",
       "      <th>32.00</th>\n",
       "      <td>320</td>\n",
       "    </tr>\n",
       "    <tr>\n",
       "      <th>29.00</th>\n",
       "      <td>319</td>\n",
       "    </tr>\n",
       "  </tbody>\n",
       "</table>\n",
       "</div>"
      ],
      "text/plain": [
       "             total_area\n",
       "living_area            \n",
       "18.00               882\n",
       "17.00               675\n",
       "30.00               598\n",
       "16.00               486\n",
       "20.00               481\n",
       "28.00               423\n",
       "31.00               381\n",
       "19.00               329\n",
       "32.00               320\n",
       "29.00               319"
      ]
     },
     "execution_count": 101,
     "metadata": {},
     "output_type": "execute_result"
    }
   ],
   "source": [
    "data_pivot_living_area=data.pivot_table(index='living_area', values='total_area', aggfunc='count')\n",
    "data_pivot_living_area.sort_values(by='total_area', ascending=False).head(10)"
   ]
  },
  {
   "cell_type": "markdown",
   "metadata": {},
   "source": [
    "Очевидно, что разница в количества близлежащих квадратных метров связана также со стандартными планировками. "
   ]
  },
  {
   "cell_type": "markdown",
   "metadata": {},
   "source": [
    "#### Площадь кухни"
   ]
  },
  {
   "cell_type": "code",
   "execution_count": 102,
   "metadata": {},
   "outputs": [
    {
     "data": {
      "text/plain": [
       "count   23699.00\n",
       "mean       10.49\n",
       "std         6.03\n",
       "min         1.30\n",
       "25%         7.00\n",
       "50%         9.00\n",
       "75%        12.00\n",
       "max       112.00\n",
       "Name: kitchen_area, dtype: float64"
      ]
     },
     "execution_count": 102,
     "metadata": {},
     "output_type": "execute_result"
    }
   ],
   "source": [
    "data['kitchen_area'].describe()"
   ]
  },
  {
   "cell_type": "code",
   "execution_count": 103,
   "metadata": {
    "scrolled": false
   },
   "outputs": [
    {
     "data": {
      "text/plain": [
       "<AxesSubplot:>"
      ]
     },
     "execution_count": 103,
     "metadata": {},
     "output_type": "execute_result"
    },
    {
     "data": {
      "image/png": "[encoded data removed]",
      "text/plain": [
       "<Figure size 720x432 with 1 Axes>"
      ]
     },
     "metadata": {
      "needs_background": "light"
     },
     "output_type": "display_data"
    }
   ],
   "source": [
    "data['kitchen_area'].hist(bins=100, figsize=(10,6))"
   ]
  },
  {
   "cell_type": "code",
   "execution_count": 104,
   "metadata": {},
   "outputs": [
    {
     "data": {
      "text/html": [
       "<div>\n",
       "<style scoped>\n",
       "    .dataframe tbody tr th:only-of-type {\n",
       "        vertical-align: middle;\n",
       "    }\n",
       "\n",
       "    .dataframe tbody tr th {\n",
       "        vertical-align: top;\n",
       "    }\n",
       "\n",
       "    .dataframe thead th {\n",
       "        text-align: right;\n",
       "    }\n",
       "</style>\n",
       "<table border=\"1\" class=\"dataframe\">\n",
       "  <thead>\n",
       "    <tr style=\"text-align: right;\">\n",
       "      <th></th>\n",
       "      <th>total_area</th>\n",
       "    </tr>\n",
       "    <tr>\n",
       "      <th>kitchen_area</th>\n",
       "      <th></th>\n",
       "    </tr>\n",
       "  </thead>\n",
       "  <tbody>\n",
       "    <tr>\n",
       "      <th>6.00</th>\n",
       "      <td>1300</td>\n",
       "    </tr>\n",
       "    <tr>\n",
       "      <th>10.00</th>\n",
       "      <td>1283</td>\n",
       "    </tr>\n",
       "    <tr>\n",
       "      <th>8.00</th>\n",
       "      <td>1113</td>\n",
       "    </tr>\n",
       "    <tr>\n",
       "      <th>9.00</th>\n",
       "      <td>1101</td>\n",
       "    </tr>\n",
       "    <tr>\n",
       "      <th>7.00</th>\n",
       "      <td>1062</td>\n",
       "    </tr>\n",
       "    <tr>\n",
       "      <th>11.00</th>\n",
       "      <td>798</td>\n",
       "    </tr>\n",
       "    <tr>\n",
       "      <th>12.00</th>\n",
       "      <td>662</td>\n",
       "    </tr>\n",
       "    <tr>\n",
       "      <th>8.50</th>\n",
       "      <td>415</td>\n",
       "    </tr>\n",
       "    <tr>\n",
       "      <th>5.50</th>\n",
       "      <td>403</td>\n",
       "    </tr>\n",
       "    <tr>\n",
       "      <th>14.00</th>\n",
       "      <td>381</td>\n",
       "    </tr>\n",
       "  </tbody>\n",
       "</table>\n",
       "</div>"
      ],
      "text/plain": [
       "              total_area\n",
       "kitchen_area            \n",
       "6.00                1300\n",
       "10.00               1283\n",
       "8.00                1113\n",
       "9.00                1101\n",
       "7.00                1062\n",
       "11.00                798\n",
       "12.00                662\n",
       "8.50                 415\n",
       "5.50                 403\n",
       "14.00                381"
      ]
     },
     "execution_count": 104,
     "metadata": {},
     "output_type": "execute_result"
    }
   ],
   "source": [
    "data_pivot_kitchen_area=data.pivot_table(index='kitchen_area', values='total_area', aggfunc='count')\n",
    "data_pivot_kitchen_area.sort_values(by='total_area', ascending=False).head(10)"
   ]
  },
  {
   "cell_type": "markdown",
   "metadata": {},
   "source": [
    "Самое большое количество кухонь - 6-,8- и 10-метровые - стандарт застроек спальных райнов СПб."
   ]
  },
  {
   "cell_type": "code",
   "execution_count": 105,
   "metadata": {},
   "outputs": [
    {
     "data": {
      "text/plain": [
       "<AxesSubplot:>"
      ]
     },
     "execution_count": 105,
     "metadata": {},
     "output_type": "execute_result"
    },
    {
     "data": {
      "image/png": "[encoded data removed]",
      "text/plain": [
       "<Figure size 1080x576 with 1 Axes>"
      ]
     },
     "metadata": {
      "needs_background": "light"
     },
     "output_type": "display_data"
    }
   ],
   "source": [
    "data['kitchen_area'].hist(bins=100, figsize=(15,8), grid=True, range=(0,20))"
   ]
  },
  {
   "cell_type": "markdown",
   "metadata": {},
   "source": [
    "#### Цена (общая)"
   ]
  },
  {
   "cell_type": "code",
   "execution_count": 106,
   "metadata": {},
   "outputs": [
    {
     "data": {
      "text/plain": [
       "count       23699.00\n",
       "mean      6541548.77\n",
       "std      10887013.27\n",
       "min         12190.00\n",
       "25%       3400000.00\n",
       "50%       4650000.00\n",
       "75%       6800000.00\n",
       "max     763000000.00\n",
       "Name: last_price, dtype: float64"
      ]
     },
     "execution_count": 106,
     "metadata": {},
     "output_type": "execute_result"
    }
   ],
   "source": [
    "data['last_price'].describe()"
   ]
  },
  {
   "cell_type": "markdown",
   "metadata": {},
   "source": [
    "Посмотрим на цену в тысячах рублей."
   ]
  },
  {
   "cell_type": "code",
   "execution_count": 107,
   "metadata": {},
   "outputs": [],
   "source": [
    "data['last_price_thousand']=(data['last_price']) / (1000)"
   ]
  },
  {
   "cell_type": "code",
   "execution_count": 108,
   "metadata": {},
   "outputs": [
    {
     "data": {
      "text/plain": [
       "count    23699.00\n",
       "mean      6541.55\n",
       "std      10887.01\n",
       "min         12.19\n",
       "25%       3400.00\n",
       "50%       4650.00\n",
       "75%       6800.00\n",
       "max     763000.00\n",
       "Name: last_price_thousand, dtype: float64"
      ]
     },
     "execution_count": 108,
     "metadata": {},
     "output_type": "execute_result"
    }
   ],
   "source": [
    "data['last_price_thousand'].describe()"
   ]
  },
  {
   "cell_type": "markdown",
   "metadata": {},
   "source": [
    "Квартиры от 12 тыс.рублей до 763 миллиона рублей. Посмотрим на минимальное и максимальное значение. "
   ]
  },
  {
   "cell_type": "code",
   "execution_count": 109,
   "metadata": {},
   "outputs": [
    {
     "data": {
      "text/html": [
       "<div>\n",
       "<style scoped>\n",
       "    .dataframe tbody tr th:only-of-type {\n",
       "        vertical-align: middle;\n",
       "    }\n",
       "\n",
       "    .dataframe tbody tr th {\n",
       "        vertical-align: top;\n",
       "    }\n",
       "\n",
       "    .dataframe thead th {\n",
       "        text-align: right;\n",
       "    }\n",
       "</style>\n",
       "<table border=\"1\" class=\"dataframe\">\n",
       "  <thead>\n",
       "    <tr style=\"text-align: right;\">\n",
       "      <th></th>\n",
       "      <th>total_images</th>\n",
       "      <th>last_price</th>\n",
       "      <th>total_area</th>\n",
       "      <th>first_day_exposition</th>\n",
       "      <th>rooms</th>\n",
       "      <th>ceiling_height</th>\n",
       "      <th>floors_total</th>\n",
       "      <th>living_area</th>\n",
       "      <th>floor</th>\n",
       "      <th>is_apartment</th>\n",
       "      <th>studio</th>\n",
       "      <th>open_plan</th>\n",
       "      <th>kitchen_area</th>\n",
       "      <th>balcony</th>\n",
       "      <th>locality_name</th>\n",
       "      <th>airports_nearest</th>\n",
       "      <th>cityCenters_nearest</th>\n",
       "      <th>parks_around3000</th>\n",
       "      <th>parks_nearest</th>\n",
       "      <th>ponds_around3000</th>\n",
       "      <th>ponds_nearest</th>\n",
       "      <th>days_exposition</th>\n",
       "      <th>living_area_ratio</th>\n",
       "      <th>kitchen_area_ratio</th>\n",
       "      <th>square_meter_price</th>\n",
       "      <th>weekday_exposition</th>\n",
       "      <th>month_exposition</th>\n",
       "      <th>year_exposition</th>\n",
       "      <th>floor_category</th>\n",
       "      <th>floor_category_id</th>\n",
       "      <th>last_price_thousand</th>\n",
       "    </tr>\n",
       "  </thead>\n",
       "  <tbody>\n",
       "    <tr>\n",
       "      <th>8793</th>\n",
       "      <td>7</td>\n",
       "      <td>12190.00</td>\n",
       "      <td>109.00</td>\n",
       "      <td>2019-03-20</td>\n",
       "      <td>2</td>\n",
       "      <td>2.75</td>\n",
       "      <td>25</td>\n",
       "      <td>32.00</td>\n",
       "      <td>25</td>\n",
       "      <td>False</td>\n",
       "      <td>False</td>\n",
       "      <td>False</td>\n",
       "      <td>40.50</td>\n",
       "      <td>0</td>\n",
       "      <td>Санкт-Петербург</td>\n",
       "      <td>36421.00</td>\n",
       "      <td>9176.00</td>\n",
       "      <td>1</td>\n",
       "      <td>805.00</td>\n",
       "      <td>0</td>\n",
       "      <td>NaN</td>\n",
       "      <td>8.00</td>\n",
       "      <td>0.29</td>\n",
       "      <td>0.37</td>\n",
       "      <td>111.83</td>\n",
       "      <td>2</td>\n",
       "      <td>3</td>\n",
       "      <td>2019</td>\n",
       "      <td>последний этаж</td>\n",
       "      <td>3</td>\n",
       "      <td>12.19</td>\n",
       "    </tr>\n",
       "  </tbody>\n",
       "</table>\n",
       "</div>"
      ],
      "text/plain": [
       "      total_images  last_price  total_area first_day_exposition  rooms  \\\n",
       "8793             7    12190.00      109.00           2019-03-20      2   \n",
       "\n",
       "      ceiling_height  floors_total  living_area  floor  is_apartment  studio  \\\n",
       "8793            2.75            25        32.00     25         False   False   \n",
       "\n",
       "      open_plan  kitchen_area  balcony    locality_name  airports_nearest  \\\n",
       "8793      False         40.50        0  Санкт-Петербург          36421.00   \n",
       "\n",
       "      cityCenters_nearest  parks_around3000  parks_nearest  ponds_around3000  \\\n",
       "8793              9176.00                 1         805.00                 0   \n",
       "\n",
       "      ponds_nearest  days_exposition  living_area_ratio  kitchen_area_ratio  \\\n",
       "8793            NaN             8.00               0.29                0.37   \n",
       "\n",
       "      square_meter_price  weekday_exposition  month_exposition  \\\n",
       "8793              111.83                   2                 3   \n",
       "\n",
       "      year_exposition  floor_category  floor_category_id  last_price_thousand  \n",
       "8793             2019  последний этаж                  3                12.19  "
      ]
     },
     "execution_count": 109,
     "metadata": {},
     "output_type": "execute_result"
    }
   ],
   "source": [
    "data.query('last_price_thousand==12.190000')"
   ]
  },
  {
   "cell_type": "code",
   "execution_count": 110,
   "metadata": {},
   "outputs": [
    {
     "data": {
      "text/html": [
       "<div>\n",
       "<style scoped>\n",
       "    .dataframe tbody tr th:only-of-type {\n",
       "        vertical-align: middle;\n",
       "    }\n",
       "\n",
       "    .dataframe tbody tr th {\n",
       "        vertical-align: top;\n",
       "    }\n",
       "\n",
       "    .dataframe thead th {\n",
       "        text-align: right;\n",
       "    }\n",
       "</style>\n",
       "<table border=\"1\" class=\"dataframe\">\n",
       "  <thead>\n",
       "    <tr style=\"text-align: right;\">\n",
       "      <th></th>\n",
       "      <th>total_images</th>\n",
       "      <th>last_price</th>\n",
       "      <th>total_area</th>\n",
       "      <th>first_day_exposition</th>\n",
       "      <th>rooms</th>\n",
       "      <th>ceiling_height</th>\n",
       "      <th>floors_total</th>\n",
       "      <th>living_area</th>\n",
       "      <th>floor</th>\n",
       "      <th>is_apartment</th>\n",
       "      <th>studio</th>\n",
       "      <th>open_plan</th>\n",
       "      <th>kitchen_area</th>\n",
       "      <th>balcony</th>\n",
       "      <th>locality_name</th>\n",
       "      <th>airports_nearest</th>\n",
       "      <th>cityCenters_nearest</th>\n",
       "      <th>parks_around3000</th>\n",
       "      <th>parks_nearest</th>\n",
       "      <th>ponds_around3000</th>\n",
       "      <th>ponds_nearest</th>\n",
       "      <th>days_exposition</th>\n",
       "      <th>living_area_ratio</th>\n",
       "      <th>kitchen_area_ratio</th>\n",
       "      <th>square_meter_price</th>\n",
       "      <th>weekday_exposition</th>\n",
       "      <th>month_exposition</th>\n",
       "      <th>year_exposition</th>\n",
       "      <th>floor_category</th>\n",
       "      <th>floor_category_id</th>\n",
       "      <th>last_price_thousand</th>\n",
       "    </tr>\n",
       "  </thead>\n",
       "  <tbody>\n",
       "    <tr>\n",
       "      <th>12971</th>\n",
       "      <td>19</td>\n",
       "      <td>763000000.00</td>\n",
       "      <td>400.00</td>\n",
       "      <td>2017-09-30</td>\n",
       "      <td>7</td>\n",
       "      <td>2.65</td>\n",
       "      <td>10</td>\n",
       "      <td>250.00</td>\n",
       "      <td>10</td>\n",
       "      <td>False</td>\n",
       "      <td>False</td>\n",
       "      <td>False</td>\n",
       "      <td>68.97</td>\n",
       "      <td>2</td>\n",
       "      <td>Санкт-Петербург</td>\n",
       "      <td>25108.00</td>\n",
       "      <td>3956.00</td>\n",
       "      <td>1</td>\n",
       "      <td>530.00</td>\n",
       "      <td>3</td>\n",
       "      <td>756.00</td>\n",
       "      <td>33.00</td>\n",
       "      <td>0.62</td>\n",
       "      <td>0.17</td>\n",
       "      <td>1907500.00</td>\n",
       "      <td>5</td>\n",
       "      <td>9</td>\n",
       "      <td>2017</td>\n",
       "      <td>последний этаж</td>\n",
       "      <td>3</td>\n",
       "      <td>763000.00</td>\n",
       "    </tr>\n",
       "  </tbody>\n",
       "</table>\n",
       "</div>"
      ],
      "text/plain": [
       "       total_images   last_price  total_area first_day_exposition  rooms  \\\n",
       "12971            19 763000000.00      400.00           2017-09-30      7   \n",
       "\n",
       "       ceiling_height  floors_total  living_area  floor  is_apartment  studio  \\\n",
       "12971            2.65            10       250.00     10         False   False   \n",
       "\n",
       "       open_plan  kitchen_area  balcony    locality_name  airports_nearest  \\\n",
       "12971      False         68.97        2  Санкт-Петербург          25108.00   \n",
       "\n",
       "       cityCenters_nearest  parks_around3000  parks_nearest  ponds_around3000  \\\n",
       "12971              3956.00                 1         530.00                 3   \n",
       "\n",
       "       ponds_nearest  days_exposition  living_area_ratio  kitchen_area_ratio  \\\n",
       "12971         756.00            33.00               0.62                0.17   \n",
       "\n",
       "       square_meter_price  weekday_exposition  month_exposition  \\\n",
       "12971          1907500.00                   5                 9   \n",
       "\n",
       "       year_exposition  floor_category  floor_category_id  last_price_thousand  \n",
       "12971             2017  последний этаж                  3            763000.00  "
      ]
     },
     "execution_count": 110,
     "metadata": {},
     "output_type": "execute_result"
    }
   ],
   "source": [
    "data.query('last_price_thousand==763000.000000')"
   ]
  },
  {
   "cell_type": "markdown",
   "metadata": {},
   "source": [
    "Если квартира стоимостью 763 млн. рублей площадью 400 кв.метров в 4 км. еще очень похожа на правдивые данные, то квартира ценой 12 тыс. рублей имеет 109 квадратных метров и расположена в 25-этажном доме на последнем этаже в Санкт-Петербурге в 9 км.от центра и в 800 м. от парка, при этом ее жилая площадь всего 32 квадратных метра и продана она была в 2019 году. Если застройка с высотой 25 этажей на расстоянии 9 км от центра еще может быть разрешена (центр СПб застраивать высотными зданиями нельзя), то цена в 12 тыс.рублей явно некорректная, скорее это 12 миллионов рублей (из-за небольшой жилой площади?). Эта запись очень похожа на ошибочную. Поэтому потребуется исследовать квартиры с наименьшей и наибольшей ценой, сделав сводную таблицу. "
   ]
  },
  {
   "cell_type": "code",
   "execution_count": 111,
   "metadata": {},
   "outputs": [
    {
     "data": {
      "text/html": [
       "<div>\n",
       "<style scoped>\n",
       "    .dataframe tbody tr th:only-of-type {\n",
       "        vertical-align: middle;\n",
       "    }\n",
       "\n",
       "    .dataframe tbody tr th {\n",
       "        vertical-align: top;\n",
       "    }\n",
       "\n",
       "    .dataframe thead th {\n",
       "        text-align: right;\n",
       "    }\n",
       "</style>\n",
       "<table border=\"1\" class=\"dataframe\">\n",
       "  <thead>\n",
       "    <tr style=\"text-align: right;\">\n",
       "      <th></th>\n",
       "      <th>total_area</th>\n",
       "    </tr>\n",
       "    <tr>\n",
       "      <th>last_price_thousand</th>\n",
       "      <th></th>\n",
       "    </tr>\n",
       "  </thead>\n",
       "  <tbody>\n",
       "    <tr>\n",
       "      <th>4500.00</th>\n",
       "      <td>342</td>\n",
       "    </tr>\n",
       "    <tr>\n",
       "      <th>3500.00</th>\n",
       "      <td>291</td>\n",
       "    </tr>\n",
       "    <tr>\n",
       "      <th>4300.00</th>\n",
       "      <td>260</td>\n",
       "    </tr>\n",
       "    <tr>\n",
       "      <th>4000.00</th>\n",
       "      <td>260</td>\n",
       "    </tr>\n",
       "    <tr>\n",
       "      <th>4200.00</th>\n",
       "      <td>259</td>\n",
       "    </tr>\n",
       "    <tr>\n",
       "      <th>3600.00</th>\n",
       "      <td>257</td>\n",
       "    </tr>\n",
       "    <tr>\n",
       "      <th>3300.00</th>\n",
       "      <td>244</td>\n",
       "    </tr>\n",
       "    <tr>\n",
       "      <th>3800.00</th>\n",
       "      <td>240</td>\n",
       "    </tr>\n",
       "    <tr>\n",
       "      <th>3200.00</th>\n",
       "      <td>238</td>\n",
       "    </tr>\n",
       "    <tr>\n",
       "      <th>3700.00</th>\n",
       "      <td>234</td>\n",
       "    </tr>\n",
       "  </tbody>\n",
       "</table>\n",
       "</div>"
      ],
      "text/plain": [
       "                     total_area\n",
       "last_price_thousand            \n",
       "4500.00                     342\n",
       "3500.00                     291\n",
       "4300.00                     260\n",
       "4000.00                     260\n",
       "4200.00                     259\n",
       "3600.00                     257\n",
       "3300.00                     244\n",
       "3800.00                     240\n",
       "3200.00                     238\n",
       "3700.00                     234"
      ]
     },
     "execution_count": 111,
     "metadata": {},
     "output_type": "execute_result"
    }
   ],
   "source": [
    "data_pivot_last_price_thousand=data.pivot_table(index='last_price_thousand', values='total_area', aggfunc='count')\n",
    "data_pivot_last_price_thousand.sort_values(by='total_area', ascending=False).head(10)"
   ]
  },
  {
   "cell_type": "markdown",
   "metadata": {},
   "source": [
    "Больше всего квартир по цене 4.5-3.2 млн.рублей"
   ]
  },
  {
   "cell_type": "markdown",
   "metadata": {},
   "source": [
    "Отсортируем по цене, чтобы посмотреть максимальные и минимальные цены. "
   ]
  },
  {
   "cell_type": "code",
   "execution_count": 112,
   "metadata": {},
   "outputs": [
    {
     "data": {
      "text/html": [
       "<div>\n",
       "<style scoped>\n",
       "    .dataframe tbody tr th:only-of-type {\n",
       "        vertical-align: middle;\n",
       "    }\n",
       "\n",
       "    .dataframe tbody tr th {\n",
       "        vertical-align: top;\n",
       "    }\n",
       "\n",
       "    .dataframe thead th {\n",
       "        text-align: right;\n",
       "    }\n",
       "</style>\n",
       "<table border=\"1\" class=\"dataframe\">\n",
       "  <thead>\n",
       "    <tr style=\"text-align: right;\">\n",
       "      <th></th>\n",
       "      <th>total_area</th>\n",
       "    </tr>\n",
       "    <tr>\n",
       "      <th>last_price_thousand</th>\n",
       "      <th></th>\n",
       "    </tr>\n",
       "  </thead>\n",
       "  <tbody>\n",
       "    <tr>\n",
       "      <th>763000.00</th>\n",
       "      <td>1</td>\n",
       "    </tr>\n",
       "    <tr>\n",
       "      <th>420000.00</th>\n",
       "      <td>1</td>\n",
       "    </tr>\n",
       "    <tr>\n",
       "      <th>401300.00</th>\n",
       "      <td>1</td>\n",
       "    </tr>\n",
       "    <tr>\n",
       "      <th>330000.00</th>\n",
       "      <td>1</td>\n",
       "    </tr>\n",
       "    <tr>\n",
       "      <th>300000.00</th>\n",
       "      <td>1</td>\n",
       "    </tr>\n",
       "    <tr>\n",
       "      <th>289238.40</th>\n",
       "      <td>1</td>\n",
       "    </tr>\n",
       "    <tr>\n",
       "      <th>245000.00</th>\n",
       "      <td>1</td>\n",
       "    </tr>\n",
       "    <tr>\n",
       "      <th>240000.00</th>\n",
       "      <td>1</td>\n",
       "    </tr>\n",
       "    <tr>\n",
       "      <th>230000.00</th>\n",
       "      <td>1</td>\n",
       "    </tr>\n",
       "    <tr>\n",
       "      <th>190870.00</th>\n",
       "      <td>1</td>\n",
       "    </tr>\n",
       "  </tbody>\n",
       "</table>\n",
       "</div>"
      ],
      "text/plain": [
       "                     total_area\n",
       "last_price_thousand            \n",
       "763000.00                     1\n",
       "420000.00                     1\n",
       "401300.00                     1\n",
       "330000.00                     1\n",
       "300000.00                     1\n",
       "289238.40                     1\n",
       "245000.00                     1\n",
       "240000.00                     1\n",
       "230000.00                     1\n",
       "190870.00                     1"
      ]
     },
     "execution_count": 112,
     "metadata": {},
     "output_type": "execute_result"
    }
   ],
   "source": [
    "data_pivot_last_price_thousand=data.pivot_table(index='last_price_thousand', values='total_area', aggfunc='count')\n",
    "data_pivot_last_price_thousand.sort_values(by='last_price_thousand', ascending=False).head(10)"
   ]
  },
  {
   "cell_type": "code",
   "execution_count": 113,
   "metadata": {},
   "outputs": [
    {
     "data": {
      "text/html": [
       "<div>\n",
       "<style scoped>\n",
       "    .dataframe tbody tr th:only-of-type {\n",
       "        vertical-align: middle;\n",
       "    }\n",
       "\n",
       "    .dataframe tbody tr th {\n",
       "        vertical-align: top;\n",
       "    }\n",
       "\n",
       "    .dataframe thead th {\n",
       "        text-align: right;\n",
       "    }\n",
       "</style>\n",
       "<table border=\"1\" class=\"dataframe\">\n",
       "  <thead>\n",
       "    <tr style=\"text-align: right;\">\n",
       "      <th></th>\n",
       "      <th>total_area</th>\n",
       "    </tr>\n",
       "    <tr>\n",
       "      <th>last_price_thousand</th>\n",
       "      <th></th>\n",
       "    </tr>\n",
       "  </thead>\n",
       "  <tbody>\n",
       "    <tr>\n",
       "      <th>530.00</th>\n",
       "      <td>1</td>\n",
       "    </tr>\n",
       "    <tr>\n",
       "      <th>520.00</th>\n",
       "      <td>1</td>\n",
       "    </tr>\n",
       "    <tr>\n",
       "      <th>500.00</th>\n",
       "      <td>4</td>\n",
       "    </tr>\n",
       "    <tr>\n",
       "      <th>490.00</th>\n",
       "      <td>2</td>\n",
       "    </tr>\n",
       "    <tr>\n",
       "      <th>480.00</th>\n",
       "      <td>1</td>\n",
       "    </tr>\n",
       "    <tr>\n",
       "      <th>470.00</th>\n",
       "      <td>3</td>\n",
       "    </tr>\n",
       "    <tr>\n",
       "      <th>450.00</th>\n",
       "      <td>4</td>\n",
       "    </tr>\n",
       "    <tr>\n",
       "      <th>440.00</th>\n",
       "      <td>1</td>\n",
       "    </tr>\n",
       "    <tr>\n",
       "      <th>430.00</th>\n",
       "      <td>2</td>\n",
       "    </tr>\n",
       "    <tr>\n",
       "      <th>12.19</th>\n",
       "      <td>1</td>\n",
       "    </tr>\n",
       "  </tbody>\n",
       "</table>\n",
       "</div>"
      ],
      "text/plain": [
       "                     total_area\n",
       "last_price_thousand            \n",
       "530.00                        1\n",
       "520.00                        1\n",
       "500.00                        4\n",
       "490.00                        2\n",
       "480.00                        1\n",
       "470.00                        3\n",
       "450.00                        4\n",
       "440.00                        1\n",
       "430.00                        2\n",
       "12.19                         1"
      ]
     },
     "execution_count": 113,
     "metadata": {},
     "output_type": "execute_result"
    }
   ],
   "source": [
    "data_pivot_last_price_thousand.sort_values(by='last_price_thousand', ascending=False).tail(10)"
   ]
  },
  {
   "cell_type": "markdown",
   "metadata": {},
   "source": [
    "Видно, что цена в размере 12 тыс.рублей за квартиру - одно такое значение. Далее - от 430 тыс.рублей, что уже больше похоже на правдивые данные. "
   ]
  },
  {
   "cell_type": "markdown",
   "metadata": {},
   "source": [
    "В дальнейшем мы более подробно рассмотрим редкие и выбивающиеся значения, в том числе для цены. "
   ]
  },
  {
   "cell_type": "markdown",
   "metadata": {},
   "source": [
    "Посмотрим на гистограмму"
   ]
  },
  {
   "cell_type": "code",
   "execution_count": 114,
   "metadata": {
    "scrolled": false
   },
   "outputs": [
    {
     "data": {
      "text/plain": [
       "<AxesSubplot:>"
      ]
     },
     "execution_count": 114,
     "metadata": {},
     "output_type": "execute_result"
    },
    {
     "data": {
      "image/png": "[encoded data removed]",
      "text/plain": [
       "<Figure size 720x576 with 1 Axes>"
      ]
     },
     "metadata": {
      "needs_background": "light"
     },
     "output_type": "display_data"
    }
   ],
   "source": [
    "data['last_price_thousand'].hist(bins=100, figsize=(10,8))"
   ]
  },
  {
   "cell_type": "markdown",
   "metadata": {},
   "source": [
    "В диапазоне от 0 до 40 млн рублей:"
   ]
  },
  {
   "cell_type": "code",
   "execution_count": 115,
   "metadata": {
    "scrolled": false
   },
   "outputs": [
    {
     "data": {
      "text/plain": [
       "<AxesSubplot:>"
      ]
     },
     "execution_count": 115,
     "metadata": {},
     "output_type": "execute_result"
    },
    {
     "data": {
      "image/png": "[encoded data removed]",
      "text/plain": [
       "<Figure size 576x432 with 1 Axes>"
      ]
     },
     "metadata": {
      "needs_background": "light"
     },
     "output_type": "display_data"
    }
   ],
   "source": [
    "data['last_price_thousand'].hist(bins=100, figsize=(8,6), range=(0,40000))"
   ]
  },
  {
   "cell_type": "markdown",
   "metadata": {},
   "source": [
    "Диапазон от 0 до 20 млн"
   ]
  },
  {
   "cell_type": "code",
   "execution_count": 116,
   "metadata": {},
   "outputs": [
    {
     "data": {
      "text/plain": [
       "<AxesSubplot:>"
      ]
     },
     "execution_count": 116,
     "metadata": {},
     "output_type": "execute_result"
    },
    {
     "data": {
      "image/png": "[encoded data removed]",
      "text/plain": [
       "<Figure size 720x576 with 1 Axes>"
      ]
     },
     "metadata": {
      "needs_background": "light"
     },
     "output_type": "display_data"
    }
   ],
   "source": [
    "data['last_price_thousand'].hist(bins=100, figsize=(10,8), range=(0,20000))"
   ]
  },
  {
   "cell_type": "markdown",
   "metadata": {},
   "source": [
    "Распределение без явных пиков и падений, как в случае с площадью квартиры, т.к. цена зависит от множества факторов и не подвержена ограничениям типовых планировок, как площадь. "
   ]
  },
  {
   "cell_type": "markdown",
   "metadata": {},
   "source": [
    "#### Цена за квадратный метр"
   ]
  },
  {
   "cell_type": "code",
   "execution_count": 117,
   "metadata": {},
   "outputs": [
    {
     "data": {
      "text/plain": [
       "count      23699\n",
       "mean       99421\n",
       "std        50306\n",
       "min          111\n",
       "25%        76585\n",
       "50%        95000\n",
       "75%       114256\n",
       "max      1907500\n",
       "Name: square_meter_price, dtype: int32"
      ]
     },
     "execution_count": 117,
     "metadata": {},
     "output_type": "execute_result"
    }
   ],
   "source": [
    "data['square_meter_price'].describe().astype('int')"
   ]
  },
  {
   "cell_type": "code",
   "execution_count": 118,
   "metadata": {},
   "outputs": [
    {
     "data": {
      "text/plain": [
       "<AxesSubplot:>"
      ]
     },
     "execution_count": 118,
     "metadata": {},
     "output_type": "execute_result"
    },
    {
     "data": {
      "image/png": "[encoded data removed]",
      "text/plain": [
       "<Figure size 1080x576 with 1 Axes>"
      ]
     },
     "metadata": {
      "needs_background": "light"
     },
     "output_type": "display_data"
    }
   ],
   "source": [
    "data['square_meter_price'].hist(bins=100, figsize=(15,8))"
   ]
  },
  {
   "cell_type": "markdown",
   "metadata": {},
   "source": [
    "Посмотрим диапазон от 0 до 250 тысяч. "
   ]
  },
  {
   "cell_type": "code",
   "execution_count": 119,
   "metadata": {},
   "outputs": [
    {
     "data": {
      "text/plain": [
       "<AxesSubplot:>"
      ]
     },
     "execution_count": 119,
     "metadata": {},
     "output_type": "execute_result"
    },
    {
     "data": {
      "image/png": "[encoded data removed]",
      "text/plain": [
       "<Figure size 1080x576 with 1 Axes>"
      ]
     },
     "metadata": {
      "needs_background": "light"
     },
     "output_type": "display_data"
    }
   ],
   "source": [
    "data['square_meter_price'].hist(bins=100, figsize=(15,8), range=(0, 250_000))"
   ]
  },
  {
   "cell_type": "markdown",
   "metadata": {},
   "source": [
    "По виду распределение ожидаемо похоже на нормальное."
   ]
  },
  {
   "cell_type": "markdown",
   "metadata": {},
   "source": [
    "#### Число комнат"
   ]
  },
  {
   "cell_type": "code",
   "execution_count": 120,
   "metadata": {},
   "outputs": [
    {
     "data": {
      "text/plain": [
       "count   23699.00\n",
       "mean        2.07\n",
       "std         1.08\n",
       "min         0.00\n",
       "25%         1.00\n",
       "50%         2.00\n",
       "75%         3.00\n",
       "max        19.00\n",
       "Name: rooms, dtype: float64"
      ]
     },
     "execution_count": 120,
     "metadata": {},
     "output_type": "execute_result"
    }
   ],
   "source": [
    "data['rooms'].describe()"
   ]
  },
  {
   "cell_type": "markdown",
   "metadata": {},
   "source": [
    "От 0 до 19 комнат, среднее количество комнат: 2"
   ]
  },
  {
   "cell_type": "code",
   "execution_count": 121,
   "metadata": {},
   "outputs": [
    {
     "data": {
      "text/plain": [
       "<AxesSubplot:>"
      ]
     },
     "execution_count": 121,
     "metadata": {},
     "output_type": "execute_result"
    },
    {
     "data": {
      "image/png": "[encoded data removed]",
      "text/plain": [
       "<Figure size 1080x576 with 1 Axes>"
      ]
     },
     "metadata": {
      "needs_background": "light"
     },
     "output_type": "display_data"
    }
   ],
   "source": [
    "data['rooms'].hist(bins=100, figsize=(15,8))"
   ]
  },
  {
   "cell_type": "markdown",
   "metadata": {},
   "source": [
    "#### Высота потолков"
   ]
  },
  {
   "cell_type": "code",
   "execution_count": 122,
   "metadata": {},
   "outputs": [
    {
     "data": {
      "text/plain": [
       "count   23699.00\n",
       "mean        2.72\n",
       "std         0.99\n",
       "min         1.00\n",
       "25%         2.60\n",
       "50%         2.65\n",
       "75%         2.70\n",
       "max       100.00\n",
       "Name: ceiling_height, dtype: float64"
      ]
     },
     "execution_count": 122,
     "metadata": {},
     "output_type": "execute_result"
    }
   ],
   "source": [
    "data['ceiling_height'].describe()"
   ]
  },
  {
   "cell_type": "code",
   "execution_count": 123,
   "metadata": {},
   "outputs": [
    {
     "data": {
      "text/plain": [
       "<AxesSubplot:>"
      ]
     },
     "execution_count": 123,
     "metadata": {},
     "output_type": "execute_result"
    },
    {
     "data": {
      "image/png": "[encoded data removed]",
      "text/plain": [
       "<Figure size 1080x576 with 1 Axes>"
      ]
     },
     "metadata": {
      "needs_background": "light"
     },
     "output_type": "display_data"
    }
   ],
   "source": [
    "data['ceiling_height'].hist(bins=100, figsize=(15,8))"
   ]
  },
  {
   "cell_type": "markdown",
   "metadata": {},
   "source": [
    "2.65 - стандарт высоты потолков. "
   ]
  },
  {
   "cell_type": "markdown",
   "metadata": {},
   "source": [
    "Высоту потолка в 100 метров рассмотрим, рассматривая редкие и выбивающиеся значения. "
   ]
  },
  {
   "cell_type": "markdown",
   "metadata": {},
   "source": [
    "### Время продажи квартиры"
   ]
  },
  {
   "cell_type": "markdown",
   "metadata": {},
   "source": [
    "- Изучим время продажи квартиры. \n",
    "- Построим гистограмму. \n",
    "- Посчитаем среднее и медиану. \n",
    "- Опишем, сколько обычно занимает продажа. \n",
    "- Когда можно считать, что продажи прошли очень быстро, а когда необычно долго?"
   ]
  },
  {
   "cell_type": "code",
   "execution_count": 124,
   "metadata": {},
   "outputs": [
    {
     "data": {
      "text/plain": [
       "count   20518.00\n",
       "mean      180.89\n",
       "std       219.73\n",
       "min         1.00\n",
       "25%        45.00\n",
       "50%        95.00\n",
       "75%       232.00\n",
       "max      1580.00\n",
       "Name: days_exposition, dtype: float64"
      ]
     },
     "execution_count": 124,
     "metadata": {},
     "output_type": "execute_result"
    }
   ],
   "source": [
    "data['days_exposition'].describe()"
   ]
  },
  {
   "cell_type": "code",
   "execution_count": 125,
   "metadata": {
    "scrolled": true
   },
   "outputs": [
    {
     "data": {
      "text/plain": [
       "<AxesSubplot:>"
      ]
     },
     "execution_count": 125,
     "metadata": {},
     "output_type": "execute_result"
    },
    {
     "data": {
      "image/png": "[encoded data removed]",
      "text/plain": [
       "<Figure size 720x360 with 1 Axes>"
      ]
     },
     "metadata": {
      "needs_background": "light"
     },
     "output_type": "display_data"
    }
   ],
   "source": [
    "data['days_exposition'].hist(bins=100, figsize=(10,5))"
   ]
  },
  {
   "cell_type": "markdown",
   "metadata": {},
   "source": [
    "Посмотрим диапазон от 0 до 365 дней."
   ]
  },
  {
   "cell_type": "code",
   "execution_count": 126,
   "metadata": {},
   "outputs": [
    {
     "data": {
      "text/plain": [
       "<AxesSubplot:>"
      ]
     },
     "execution_count": 126,
     "metadata": {},
     "output_type": "execute_result"
    },
    {
     "data": {
      "image/png": "[encoded data removed]",
      "text/plain": [
       "<Figure size 720x360 with 1 Axes>"
      ]
     },
     "metadata": {
      "needs_background": "light"
     },
     "output_type": "display_data"
    }
   ],
   "source": [
    "data['days_exposition'].hist(bins=100, figsize=(10,5), range=(0,365))"
   ]
  },
  {
   "cell_type": "markdown",
   "metadata": {},
   "source": [
    "Есть некоторое количество выдающихся значений около 50 дней, 60 дней и т.д. Посмотрим распределение по сводной таблице."
   ]
  },
  {
   "cell_type": "code",
   "execution_count": 127,
   "metadata": {},
   "outputs": [
    {
     "data": {
      "text/html": [
       "<div>\n",
       "<style scoped>\n",
       "    .dataframe tbody tr th:only-of-type {\n",
       "        vertical-align: middle;\n",
       "    }\n",
       "\n",
       "    .dataframe tbody tr th {\n",
       "        vertical-align: top;\n",
       "    }\n",
       "\n",
       "    .dataframe thead th {\n",
       "        text-align: right;\n",
       "    }\n",
       "</style>\n",
       "<table border=\"1\" class=\"dataframe\">\n",
       "  <thead>\n",
       "    <tr style=\"text-align: right;\">\n",
       "      <th></th>\n",
       "      <th>total_area</th>\n",
       "    </tr>\n",
       "    <tr>\n",
       "      <th>days_exposition</th>\n",
       "      <th></th>\n",
       "    </tr>\n",
       "  </thead>\n",
       "  <tbody>\n",
       "    <tr>\n",
       "      <th>45.00</th>\n",
       "      <td>880</td>\n",
       "    </tr>\n",
       "    <tr>\n",
       "      <th>60.00</th>\n",
       "      <td>538</td>\n",
       "    </tr>\n",
       "    <tr>\n",
       "      <th>7.00</th>\n",
       "      <td>234</td>\n",
       "    </tr>\n",
       "    <tr>\n",
       "      <th>30.00</th>\n",
       "      <td>208</td>\n",
       "    </tr>\n",
       "    <tr>\n",
       "      <th>90.00</th>\n",
       "      <td>204</td>\n",
       "    </tr>\n",
       "    <tr>\n",
       "      <th>4.00</th>\n",
       "      <td>176</td>\n",
       "    </tr>\n",
       "    <tr>\n",
       "      <th>3.00</th>\n",
       "      <td>158</td>\n",
       "    </tr>\n",
       "    <tr>\n",
       "      <th>5.00</th>\n",
       "      <td>152</td>\n",
       "    </tr>\n",
       "    <tr>\n",
       "      <th>14.00</th>\n",
       "      <td>148</td>\n",
       "    </tr>\n",
       "    <tr>\n",
       "      <th>9.00</th>\n",
       "      <td>143</td>\n",
       "    </tr>\n",
       "  </tbody>\n",
       "</table>\n",
       "</div>"
      ],
      "text/plain": [
       "                 total_area\n",
       "days_exposition            \n",
       "45.00                   880\n",
       "60.00                   538\n",
       "7.00                    234\n",
       "30.00                   208\n",
       "90.00                   204\n",
       "4.00                    176\n",
       "3.00                    158\n",
       "5.00                    152\n",
       "14.00                   148\n",
       "9.00                    143"
      ]
     },
     "execution_count": 127,
     "metadata": {},
     "output_type": "execute_result"
    }
   ],
   "source": [
    "data_pivot_days_exposition=data.pivot_table(index='days_exposition', values='total_area', aggfunc='count')\n",
    "data_pivot_days_exposition.sort_values(by='total_area', ascending=False).head(10)"
   ]
  },
  {
   "cell_type": "markdown",
   "metadata": {},
   "source": [
    "Наибольшее количество квартир продалось за 45 дней, 60 дней, 7, 30 и 90. Возможно, это периоды, на которые можно оплатить размещение объявления на сервисе, или время, по истечении которого объявление снимается автоматически?"
   ]
  },
  {
   "cell_type": "code",
   "execution_count": 128,
   "metadata": {},
   "outputs": [
    {
     "data": {
      "text/html": [
       "<div>\n",
       "<style scoped>\n",
       "    .dataframe tbody tr th:only-of-type {\n",
       "        vertical-align: middle;\n",
       "    }\n",
       "\n",
       "    .dataframe tbody tr th {\n",
       "        vertical-align: top;\n",
       "    }\n",
       "\n",
       "    .dataframe thead th {\n",
       "        text-align: right;\n",
       "    }\n",
       "</style>\n",
       "<table border=\"1\" class=\"dataframe\">\n",
       "  <thead>\n",
       "    <tr style=\"text-align: right;\">\n",
       "      <th></th>\n",
       "      <th>total_area</th>\n",
       "    </tr>\n",
       "    <tr>\n",
       "      <th>days_exposition</th>\n",
       "      <th></th>\n",
       "    </tr>\n",
       "  </thead>\n",
       "  <tbody>\n",
       "    <tr>\n",
       "      <th>1.00</th>\n",
       "      <td>1</td>\n",
       "    </tr>\n",
       "    <tr>\n",
       "      <th>2.00</th>\n",
       "      <td>3</td>\n",
       "    </tr>\n",
       "    <tr>\n",
       "      <th>3.00</th>\n",
       "      <td>158</td>\n",
       "    </tr>\n",
       "    <tr>\n",
       "      <th>4.00</th>\n",
       "      <td>176</td>\n",
       "    </tr>\n",
       "    <tr>\n",
       "      <th>5.00</th>\n",
       "      <td>152</td>\n",
       "    </tr>\n",
       "    <tr>\n",
       "      <th>6.00</th>\n",
       "      <td>124</td>\n",
       "    </tr>\n",
       "    <tr>\n",
       "      <th>7.00</th>\n",
       "      <td>234</td>\n",
       "    </tr>\n",
       "    <tr>\n",
       "      <th>8.00</th>\n",
       "      <td>139</td>\n",
       "    </tr>\n",
       "    <tr>\n",
       "      <th>9.00</th>\n",
       "      <td>143</td>\n",
       "    </tr>\n",
       "    <tr>\n",
       "      <th>10.00</th>\n",
       "      <td>127</td>\n",
       "    </tr>\n",
       "  </tbody>\n",
       "</table>\n",
       "</div>"
      ],
      "text/plain": [
       "                 total_area\n",
       "days_exposition            \n",
       "1.00                      1\n",
       "2.00                      3\n",
       "3.00                    158\n",
       "4.00                    176\n",
       "5.00                    152\n",
       "6.00                    124\n",
       "7.00                    234\n",
       "8.00                    139\n",
       "9.00                    143\n",
       "10.00                   127"
      ]
     },
     "execution_count": 128,
     "metadata": {},
     "output_type": "execute_result"
    }
   ],
   "source": [
    "data_pivot_days_exposition=data.pivot_table(index='days_exposition', values='total_area', aggfunc='count')\n",
    "data_pivot_days_exposition.sort_values(by='days_exposition', ascending=True).head(10)"
   ]
  },
  {
   "cell_type": "markdown",
   "metadata": {},
   "source": [
    "Что касается скорости продажи 1-2 дня, то за этот период продаются единицы квартир. Остальные - за срок хотя бы от 3 дней. "
   ]
  },
  {
   "cell_type": "markdown",
   "metadata": {},
   "source": [
    "Итак, посмотрим объявления со временем продажи более 3 лет. "
   ]
  },
  {
   "cell_type": "code",
   "execution_count": 129,
   "metadata": {
    "scrolled": true
   },
   "outputs": [
    {
     "data": {
      "text/html": [
       "<div>\n",
       "<style scoped>\n",
       "    .dataframe tbody tr th:only-of-type {\n",
       "        vertical-align: middle;\n",
       "    }\n",
       "\n",
       "    .dataframe tbody tr th {\n",
       "        vertical-align: top;\n",
       "    }\n",
       "\n",
       "    .dataframe thead th {\n",
       "        text-align: right;\n",
       "    }\n",
       "</style>\n",
       "<table border=\"1\" class=\"dataframe\">\n",
       "  <thead>\n",
       "    <tr style=\"text-align: right;\">\n",
       "      <th></th>\n",
       "      <th>total_images</th>\n",
       "      <th>last_price</th>\n",
       "      <th>total_area</th>\n",
       "      <th>first_day_exposition</th>\n",
       "      <th>rooms</th>\n",
       "      <th>ceiling_height</th>\n",
       "      <th>floors_total</th>\n",
       "      <th>living_area</th>\n",
       "      <th>floor</th>\n",
       "      <th>is_apartment</th>\n",
       "      <th>studio</th>\n",
       "      <th>open_plan</th>\n",
       "      <th>kitchen_area</th>\n",
       "      <th>balcony</th>\n",
       "      <th>locality_name</th>\n",
       "      <th>airports_nearest</th>\n",
       "      <th>cityCenters_nearest</th>\n",
       "      <th>parks_around3000</th>\n",
       "      <th>parks_nearest</th>\n",
       "      <th>ponds_around3000</th>\n",
       "      <th>ponds_nearest</th>\n",
       "      <th>days_exposition</th>\n",
       "      <th>living_area_ratio</th>\n",
       "      <th>kitchen_area_ratio</th>\n",
       "      <th>square_meter_price</th>\n",
       "      <th>weekday_exposition</th>\n",
       "      <th>month_exposition</th>\n",
       "      <th>year_exposition</th>\n",
       "      <th>floor_category</th>\n",
       "      <th>floor_category_id</th>\n",
       "      <th>last_price_thousand</th>\n",
       "    </tr>\n",
       "  </thead>\n",
       "  <tbody>\n",
       "    <tr>\n",
       "      <th>353</th>\n",
       "      <td>4</td>\n",
       "      <td>5990000.00</td>\n",
       "      <td>43.50</td>\n",
       "      <td>2015-05-08</td>\n",
       "      <td>1</td>\n",
       "      <td>3.00</td>\n",
       "      <td>5</td>\n",
       "      <td>25.00</td>\n",
       "      <td>4</td>\n",
       "      <td>False</td>\n",
       "      <td>False</td>\n",
       "      <td>False</td>\n",
       "      <td>9.40</td>\n",
       "      <td>0</td>\n",
       "      <td>Санкт-Петербург</td>\n",
       "      <td>10527.00</td>\n",
       "      <td>10278.00</td>\n",
       "      <td>1</td>\n",
       "      <td>93.00</td>\n",
       "      <td>0</td>\n",
       "      <td>NaN</td>\n",
       "      <td>1292.00</td>\n",
       "      <td>0.57</td>\n",
       "      <td>0.22</td>\n",
       "      <td>137701.15</td>\n",
       "      <td>4</td>\n",
       "      <td>5</td>\n",
       "      <td>2015</td>\n",
       "      <td>другой этаж</td>\n",
       "      <td>2</td>\n",
       "      <td>5990.00</td>\n",
       "    </tr>\n",
       "    <tr>\n",
       "      <th>398</th>\n",
       "      <td>7</td>\n",
       "      <td>12789000.00</td>\n",
       "      <td>79.30</td>\n",
       "      <td>2014-12-09</td>\n",
       "      <td>2</td>\n",
       "      <td>3.00</td>\n",
       "      <td>8</td>\n",
       "      <td>43.10</td>\n",
       "      <td>5</td>\n",
       "      <td>False</td>\n",
       "      <td>False</td>\n",
       "      <td>False</td>\n",
       "      <td>17.60</td>\n",
       "      <td>0</td>\n",
       "      <td>Санкт-Петербург</td>\n",
       "      <td>39393.00</td>\n",
       "      <td>11096.00</td>\n",
       "      <td>1</td>\n",
       "      <td>537.00</td>\n",
       "      <td>0</td>\n",
       "      <td>NaN</td>\n",
       "      <td>1345.00</td>\n",
       "      <td>0.54</td>\n",
       "      <td>0.22</td>\n",
       "      <td>161273.64</td>\n",
       "      <td>1</td>\n",
       "      <td>12</td>\n",
       "      <td>2014</td>\n",
       "      <td>другой этаж</td>\n",
       "      <td>2</td>\n",
       "      <td>12789.00</td>\n",
       "    </tr>\n",
       "    <tr>\n",
       "      <th>437</th>\n",
       "      <td>12</td>\n",
       "      <td>3350000.00</td>\n",
       "      <td>37.00</td>\n",
       "      <td>2015-02-24</td>\n",
       "      <td>1</td>\n",
       "      <td>2.55</td>\n",
       "      <td>6</td>\n",
       "      <td>17.80</td>\n",
       "      <td>6</td>\n",
       "      <td>False</td>\n",
       "      <td>False</td>\n",
       "      <td>False</td>\n",
       "      <td>8.40</td>\n",
       "      <td>0</td>\n",
       "      <td>Петергоф</td>\n",
       "      <td>46151.00</td>\n",
       "      <td>34044.00</td>\n",
       "      <td>1</td>\n",
       "      <td>185.00</td>\n",
       "      <td>1</td>\n",
       "      <td>755.00</td>\n",
       "      <td>1273.00</td>\n",
       "      <td>0.48</td>\n",
       "      <td>0.23</td>\n",
       "      <td>90540.54</td>\n",
       "      <td>1</td>\n",
       "      <td>2</td>\n",
       "      <td>2015</td>\n",
       "      <td>последний этаж</td>\n",
       "      <td>3</td>\n",
       "      <td>3350.00</td>\n",
       "    </tr>\n",
       "    <tr>\n",
       "      <th>459</th>\n",
       "      <td>13</td>\n",
       "      <td>5200000.00</td>\n",
       "      <td>51.00</td>\n",
       "      <td>2016-03-02</td>\n",
       "      <td>2</td>\n",
       "      <td>2.55</td>\n",
       "      <td>9</td>\n",
       "      <td>32.00</td>\n",
       "      <td>5</td>\n",
       "      <td>False</td>\n",
       "      <td>False</td>\n",
       "      <td>False</td>\n",
       "      <td>6.00</td>\n",
       "      <td>0</td>\n",
       "      <td>Санкт-Петербург</td>\n",
       "      <td>48522.00</td>\n",
       "      <td>16360.00</td>\n",
       "      <td>0</td>\n",
       "      <td>NaN</td>\n",
       "      <td>0</td>\n",
       "      <td>NaN</td>\n",
       "      <td>1153.00</td>\n",
       "      <td>0.63</td>\n",
       "      <td>0.12</td>\n",
       "      <td>101960.78</td>\n",
       "      <td>2</td>\n",
       "      <td>3</td>\n",
       "      <td>2016</td>\n",
       "      <td>другой этаж</td>\n",
       "      <td>2</td>\n",
       "      <td>5200.00</td>\n",
       "    </tr>\n",
       "    <tr>\n",
       "      <th>512</th>\n",
       "      <td>8</td>\n",
       "      <td>6260000.00</td>\n",
       "      <td>43.30</td>\n",
       "      <td>2014-12-09</td>\n",
       "      <td>1</td>\n",
       "      <td>2.65</td>\n",
       "      <td>8</td>\n",
       "      <td>24.59</td>\n",
       "      <td>5</td>\n",
       "      <td>False</td>\n",
       "      <td>False</td>\n",
       "      <td>False</td>\n",
       "      <td>7.47</td>\n",
       "      <td>0</td>\n",
       "      <td>Санкт-Петербург</td>\n",
       "      <td>39946.00</td>\n",
       "      <td>10720.00</td>\n",
       "      <td>1</td>\n",
       "      <td>2102.00</td>\n",
       "      <td>3</td>\n",
       "      <td>303.00</td>\n",
       "      <td>1155.00</td>\n",
       "      <td>0.57</td>\n",
       "      <td>0.17</td>\n",
       "      <td>144572.75</td>\n",
       "      <td>1</td>\n",
       "      <td>12</td>\n",
       "      <td>2014</td>\n",
       "      <td>другой этаж</td>\n",
       "      <td>2</td>\n",
       "      <td>6260.00</td>\n",
       "    </tr>\n",
       "    <tr>\n",
       "      <th>...</th>\n",
       "      <td>...</td>\n",
       "      <td>...</td>\n",
       "      <td>...</td>\n",
       "      <td>...</td>\n",
       "      <td>...</td>\n",
       "      <td>...</td>\n",
       "      <td>...</td>\n",
       "      <td>...</td>\n",
       "      <td>...</td>\n",
       "      <td>...</td>\n",
       "      <td>...</td>\n",
       "      <td>...</td>\n",
       "      <td>...</td>\n",
       "      <td>...</td>\n",
       "      <td>...</td>\n",
       "      <td>...</td>\n",
       "      <td>...</td>\n",
       "      <td>...</td>\n",
       "      <td>...</td>\n",
       "      <td>...</td>\n",
       "      <td>...</td>\n",
       "      <td>...</td>\n",
       "      <td>...</td>\n",
       "      <td>...</td>\n",
       "      <td>...</td>\n",
       "      <td>...</td>\n",
       "      <td>...</td>\n",
       "      <td>...</td>\n",
       "      <td>...</td>\n",
       "      <td>...</td>\n",
       "      <td>...</td>\n",
       "    </tr>\n",
       "    <tr>\n",
       "      <th>23055</th>\n",
       "      <td>8</td>\n",
       "      <td>3200000.00</td>\n",
       "      <td>33.00</td>\n",
       "      <td>2016-03-18</td>\n",
       "      <td>1</td>\n",
       "      <td>2.65</td>\n",
       "      <td>24</td>\n",
       "      <td>13.05</td>\n",
       "      <td>3</td>\n",
       "      <td>False</td>\n",
       "      <td>False</td>\n",
       "      <td>False</td>\n",
       "      <td>9.75</td>\n",
       "      <td>0</td>\n",
       "      <td>поселок Шушары</td>\n",
       "      <td>13461.00</td>\n",
       "      <td>19247.00</td>\n",
       "      <td>0</td>\n",
       "      <td>NaN</td>\n",
       "      <td>1</td>\n",
       "      <td>351.00</td>\n",
       "      <td>1130.00</td>\n",
       "      <td>0.40</td>\n",
       "      <td>0.30</td>\n",
       "      <td>96969.70</td>\n",
       "      <td>4</td>\n",
       "      <td>3</td>\n",
       "      <td>2016</td>\n",
       "      <td>другой этаж</td>\n",
       "      <td>2</td>\n",
       "      <td>3200.00</td>\n",
       "    </tr>\n",
       "    <tr>\n",
       "      <th>23212</th>\n",
       "      <td>9</td>\n",
       "      <td>7515162.00</td>\n",
       "      <td>58.80</td>\n",
       "      <td>2015-03-10</td>\n",
       "      <td>2</td>\n",
       "      <td>2.65</td>\n",
       "      <td>10</td>\n",
       "      <td>30.40</td>\n",
       "      <td>3</td>\n",
       "      <td>False</td>\n",
       "      <td>False</td>\n",
       "      <td>False</td>\n",
       "      <td>11.10</td>\n",
       "      <td>0</td>\n",
       "      <td>Санкт-Петербург</td>\n",
       "      <td>23604.00</td>\n",
       "      <td>5294.00</td>\n",
       "      <td>0</td>\n",
       "      <td>NaN</td>\n",
       "      <td>1</td>\n",
       "      <td>434.00</td>\n",
       "      <td>1239.00</td>\n",
       "      <td>0.52</td>\n",
       "      <td>0.19</td>\n",
       "      <td>127808.88</td>\n",
       "      <td>1</td>\n",
       "      <td>3</td>\n",
       "      <td>2015</td>\n",
       "      <td>другой этаж</td>\n",
       "      <td>2</td>\n",
       "      <td>7515.16</td>\n",
       "    </tr>\n",
       "    <tr>\n",
       "      <th>23248</th>\n",
       "      <td>5</td>\n",
       "      <td>4900000.00</td>\n",
       "      <td>80.00</td>\n",
       "      <td>2014-12-25</td>\n",
       "      <td>3</td>\n",
       "      <td>2.65</td>\n",
       "      <td>15</td>\n",
       "      <td>47.00</td>\n",
       "      <td>14</td>\n",
       "      <td>False</td>\n",
       "      <td>False</td>\n",
       "      <td>False</td>\n",
       "      <td>9.00</td>\n",
       "      <td>2</td>\n",
       "      <td>поселок Мурино</td>\n",
       "      <td>NaN</td>\n",
       "      <td>NaN</td>\n",
       "      <td>0</td>\n",
       "      <td>NaN</td>\n",
       "      <td>0</td>\n",
       "      <td>NaN</td>\n",
       "      <td>1187.00</td>\n",
       "      <td>0.59</td>\n",
       "      <td>0.11</td>\n",
       "      <td>61250.00</td>\n",
       "      <td>3</td>\n",
       "      <td>12</td>\n",
       "      <td>2014</td>\n",
       "      <td>другой этаж</td>\n",
       "      <td>2</td>\n",
       "      <td>4900.00</td>\n",
       "    </tr>\n",
       "    <tr>\n",
       "      <th>23318</th>\n",
       "      <td>6</td>\n",
       "      <td>5620020.00</td>\n",
       "      <td>82.30</td>\n",
       "      <td>2015-03-10</td>\n",
       "      <td>3</td>\n",
       "      <td>2.70</td>\n",
       "      <td>21</td>\n",
       "      <td>45.60</td>\n",
       "      <td>12</td>\n",
       "      <td>False</td>\n",
       "      <td>False</td>\n",
       "      <td>False</td>\n",
       "      <td>15.70</td>\n",
       "      <td>0</td>\n",
       "      <td>Санкт-Петербург</td>\n",
       "      <td>21793.00</td>\n",
       "      <td>17121.00</td>\n",
       "      <td>0</td>\n",
       "      <td>NaN</td>\n",
       "      <td>1</td>\n",
       "      <td>31.00</td>\n",
       "      <td>1200.00</td>\n",
       "      <td>0.55</td>\n",
       "      <td>0.19</td>\n",
       "      <td>68287.00</td>\n",
       "      <td>1</td>\n",
       "      <td>3</td>\n",
       "      <td>2015</td>\n",
       "      <td>другой этаж</td>\n",
       "      <td>2</td>\n",
       "      <td>5620.02</td>\n",
       "    </tr>\n",
       "    <tr>\n",
       "      <th>23426</th>\n",
       "      <td>17</td>\n",
       "      <td>8778000.00</td>\n",
       "      <td>47.50</td>\n",
       "      <td>2014-12-29</td>\n",
       "      <td>1</td>\n",
       "      <td>3.00</td>\n",
       "      <td>7</td>\n",
       "      <td>26.97</td>\n",
       "      <td>4</td>\n",
       "      <td>False</td>\n",
       "      <td>False</td>\n",
       "      <td>False</td>\n",
       "      <td>11.70</td>\n",
       "      <td>2</td>\n",
       "      <td>Санкт-Петербург</td>\n",
       "      <td>39412.00</td>\n",
       "      <td>10186.00</td>\n",
       "      <td>1</td>\n",
       "      <td>1424.00</td>\n",
       "      <td>3</td>\n",
       "      <td>204.00</td>\n",
       "      <td>1360.00</td>\n",
       "      <td>0.57</td>\n",
       "      <td>0.25</td>\n",
       "      <td>184800.00</td>\n",
       "      <td>0</td>\n",
       "      <td>12</td>\n",
       "      <td>2014</td>\n",
       "      <td>другой этаж</td>\n",
       "      <td>2</td>\n",
       "      <td>8778.00</td>\n",
       "    </tr>\n",
       "  </tbody>\n",
       "</table>\n",
       "<p>166 rows × 31 columns</p>\n",
       "</div>"
      ],
      "text/plain": [
       "       total_images  last_price  total_area first_day_exposition  rooms  \\\n",
       "353               4  5990000.00       43.50           2015-05-08      1   \n",
       "398               7 12789000.00       79.30           2014-12-09      2   \n",
       "437              12  3350000.00       37.00           2015-02-24      1   \n",
       "459              13  5200000.00       51.00           2016-03-02      2   \n",
       "512               8  6260000.00       43.30           2014-12-09      1   \n",
       "...             ...         ...         ...                  ...    ...   \n",
       "23055             8  3200000.00       33.00           2016-03-18      1   \n",
       "23212             9  7515162.00       58.80           2015-03-10      2   \n",
       "23248             5  4900000.00       80.00           2014-12-25      3   \n",
       "23318             6  5620020.00       82.30           2015-03-10      3   \n",
       "23426            17  8778000.00       47.50           2014-12-29      1   \n",
       "\n",
       "       ceiling_height  floors_total  living_area  floor  is_apartment  studio  \\\n",
       "353              3.00             5        25.00      4         False   False   \n",
       "398              3.00             8        43.10      5         False   False   \n",
       "437              2.55             6        17.80      6         False   False   \n",
       "459              2.55             9        32.00      5         False   False   \n",
       "512              2.65             8        24.59      5         False   False   \n",
       "...               ...           ...          ...    ...           ...     ...   \n",
       "23055            2.65            24        13.05      3         False   False   \n",
       "23212            2.65            10        30.40      3         False   False   \n",
       "23248            2.65            15        47.00     14         False   False   \n",
       "23318            2.70            21        45.60     12         False   False   \n",
       "23426            3.00             7        26.97      4         False   False   \n",
       "\n",
       "       open_plan  kitchen_area  balcony    locality_name  airports_nearest  \\\n",
       "353        False          9.40        0  Санкт-Петербург          10527.00   \n",
       "398        False         17.60        0  Санкт-Петербург          39393.00   \n",
       "437        False          8.40        0         Петергоф          46151.00   \n",
       "459        False          6.00        0  Санкт-Петербург          48522.00   \n",
       "512        False          7.47        0  Санкт-Петербург          39946.00   \n",
       "...          ...           ...      ...              ...               ...   \n",
       "23055      False          9.75        0   поселок Шушары          13461.00   \n",
       "23212      False         11.10        0  Санкт-Петербург          23604.00   \n",
       "23248      False          9.00        2   поселок Мурино               NaN   \n",
       "23318      False         15.70        0  Санкт-Петербург          21793.00   \n",
       "23426      False         11.70        2  Санкт-Петербург          39412.00   \n",
       "\n",
       "       cityCenters_nearest  parks_around3000  parks_nearest  ponds_around3000  \\\n",
       "353               10278.00                 1          93.00                 0   \n",
       "398               11096.00                 1         537.00                 0   \n",
       "437               34044.00                 1         185.00                 1   \n",
       "459               16360.00                 0            NaN                 0   \n",
       "512               10720.00                 1        2102.00                 3   \n",
       "...                    ...               ...            ...               ...   \n",
       "23055             19247.00                 0            NaN                 1   \n",
       "23212              5294.00                 0            NaN                 1   \n",
       "23248                  NaN                 0            NaN                 0   \n",
       "23318             17121.00                 0            NaN                 1   \n",
       "23426             10186.00                 1        1424.00                 3   \n",
       "\n",
       "       ponds_nearest  days_exposition  living_area_ratio  kitchen_area_ratio  \\\n",
       "353              NaN          1292.00               0.57                0.22   \n",
       "398              NaN          1345.00               0.54                0.22   \n",
       "437           755.00          1273.00               0.48                0.23   \n",
       "459              NaN          1153.00               0.63                0.12   \n",
       "512           303.00          1155.00               0.57                0.17   \n",
       "...              ...              ...                ...                 ...   \n",
       "23055         351.00          1130.00               0.40                0.30   \n",
       "23212         434.00          1239.00               0.52                0.19   \n",
       "23248            NaN          1187.00               0.59                0.11   \n",
       "23318          31.00          1200.00               0.55                0.19   \n",
       "23426         204.00          1360.00               0.57                0.25   \n",
       "\n",
       "       square_meter_price  weekday_exposition  month_exposition  \\\n",
       "353             137701.15                   4                 5   \n",
       "398             161273.64                   1                12   \n",
       "437              90540.54                   1                 2   \n",
       "459             101960.78                   2                 3   \n",
       "512             144572.75                   1                12   \n",
       "...                   ...                 ...               ...   \n",
       "23055            96969.70                   4                 3   \n",
       "23212           127808.88                   1                 3   \n",
       "23248            61250.00                   3                12   \n",
       "23318            68287.00                   1                 3   \n",
       "23426           184800.00                   0                12   \n",
       "\n",
       "       year_exposition  floor_category  floor_category_id  last_price_thousand  \n",
       "353               2015     другой этаж                  2              5990.00  \n",
       "398               2014     другой этаж                  2             12789.00  \n",
       "437               2015  последний этаж                  3              3350.00  \n",
       "459               2016     другой этаж                  2              5200.00  \n",
       "512               2014     другой этаж                  2              6260.00  \n",
       "...                ...             ...                ...                  ...  \n",
       "23055             2016     другой этаж                  2              3200.00  \n",
       "23212             2015     другой этаж                  2              7515.16  \n",
       "23248             2014     другой этаж                  2              4900.00  \n",
       "23318             2015     другой этаж                  2              5620.02  \n",
       "23426             2014     другой этаж                  2              8778.00  \n",
       "\n",
       "[166 rows x 31 columns]"
      ]
     },
     "execution_count": 129,
     "metadata": {},
     "output_type": "execute_result"
    }
   ],
   "source": [
    "data_long_sales=data.query('days_exposition>1095').copy()\n",
    "data_long_sales"
   ]
  },
  {
   "cell_type": "code",
   "execution_count": 130,
   "metadata": {},
   "outputs": [
    {
     "data": {
      "text/plain": [
       "count    166.00\n",
       "mean    1247.43\n",
       "std      117.16\n",
       "min     1099.00\n",
       "25%     1154.25\n",
       "50%     1213.50\n",
       "75%     1330.25\n",
       "max     1580.00\n",
       "Name: days_exposition, dtype: float64"
      ]
     },
     "execution_count": 130,
     "metadata": {},
     "output_type": "execute_result"
    }
   ],
   "source": [
    "data_long_sales['days_exposition'].describe()"
   ]
  },
  {
   "cell_type": "markdown",
   "metadata": {},
   "source": [
    "166 квартир продавались очень долго. "
   ]
  },
  {
   "cell_type": "markdown",
   "metadata": {},
   "source": [
    "Посмотрим на общую цену квартиры. "
   ]
  },
  {
   "cell_type": "code",
   "execution_count": 131,
   "metadata": {},
   "outputs": [
    {
     "data": {
      "text/plain": [
       "9223560.61445783"
      ]
     },
     "execution_count": 131,
     "metadata": {},
     "output_type": "execute_result"
    }
   ],
   "source": [
    "data_long_sales['last_price'].mean()"
   ]
  },
  {
   "cell_type": "markdown",
   "metadata": {},
   "source": [
    "Посмотрим на среднюю цену квадратного метра для этих долго продающихся квартир. "
   ]
  },
  {
   "cell_type": "code",
   "execution_count": 132,
   "metadata": {},
   "outputs": [
    {
     "data": {
      "text/plain": [
       "110058.24702032938"
      ]
     },
     "execution_count": 132,
     "metadata": {},
     "output_type": "execute_result"
    }
   ],
   "source": [
    "data_long_sales['square_meter_price'].mean()"
   ]
  },
  {
   "cell_type": "code",
   "execution_count": 133,
   "metadata": {},
   "outputs": [
    {
     "data": {
      "text/plain": [
       "Санкт-Петербург                   126\n",
       "Пушкин                              4\n",
       "Петергоф                            3\n",
       "Коммунар                            3\n",
       "Павловск                            2\n",
       "Всеволожск                          2\n",
       "Сертолово                           2\n",
       "поселок Мурино                      2\n",
       "Кронштадт                           2\n",
       "Отрадное                            1\n",
       "Колпино                             1\n",
       "Сестрорецк                          1\n",
       "Лодейное Поле                       1\n",
       "деревня Новое Девяткино             1\n",
       "Ломоносов                           1\n",
       "поселок городского типа Вырица      1\n",
       "Кудрово                             1\n",
       "деревня Калитино                    1\n",
       "Красное Село                        1\n",
       "поселок Лисий Нос                   1\n",
       "деревня Кудрово                     1\n",
       "поселок Молодежное                  1\n",
       "поселок Рябово                      1\n",
       "поселок Парголово                   1\n",
       "Шлиссельбург                        1\n",
       "поселок Тельмана                    1\n",
       "Кириши                              1\n",
       "деревня Нурма                       1\n",
       "поселок Шушары                      1\n",
       "Name: locality_name, dtype: int64"
      ]
     },
     "execution_count": 133,
     "metadata": {},
     "output_type": "execute_result"
    }
   ],
   "source": [
    "data_long_sales['locality_name'].value_counts()"
   ]
  },
  {
   "cell_type": "markdown",
   "metadata": {},
   "source": [
    "Посмотрим на общую площадь. "
   ]
  },
  {
   "cell_type": "code",
   "execution_count": 134,
   "metadata": {},
   "outputs": [
    {
     "data": {
      "text/plain": [
       "81.38060240963856"
      ]
     },
     "execution_count": 134,
     "metadata": {},
     "output_type": "execute_result"
    }
   ],
   "source": [
    "data_long_sales['total_area'].mean()"
   ]
  },
  {
   "cell_type": "markdown",
   "metadata": {},
   "source": [
    "Вывод: \n",
    "- Более долго продаются квартиры бОльшей площади с чуть больше среднего ценой квадратного метра, с общей ценой квартиры выше среднего. "
   ]
  },
  {
   "cell_type": "markdown",
   "metadata": {},
   "source": [
    "Посмотрим на квартиры, продававшиеся быстро. "
   ]
  },
  {
   "cell_type": "code",
   "execution_count": 135,
   "metadata": {},
   "outputs": [
    {
     "data": {
      "text/plain": [
       "<AxesSubplot:>"
      ]
     },
     "execution_count": 135,
     "metadata": {},
     "output_type": "execute_result"
    },
    {
     "data": {
      "image/png": "[encoded data removed]",
      "text/plain": [
       "<Figure size 720x360 with 1 Axes>"
      ]
     },
     "metadata": {
      "needs_background": "light"
     },
     "output_type": "display_data"
    }
   ],
   "source": [
    "data['days_exposition'].hist(bins=20, figsize=(10,5), range=(0,10))"
   ]
  },
  {
   "cell_type": "code",
   "execution_count": 136,
   "metadata": {
    "scrolled": true
   },
   "outputs": [
    {
     "data": {
      "text/html": [
       "<div>\n",
       "<style scoped>\n",
       "    .dataframe tbody tr th:only-of-type {\n",
       "        vertical-align: middle;\n",
       "    }\n",
       "\n",
       "    .dataframe tbody tr th {\n",
       "        vertical-align: top;\n",
       "    }\n",
       "\n",
       "    .dataframe thead th {\n",
       "        text-align: right;\n",
       "    }\n",
       "</style>\n",
       "<table border=\"1\" class=\"dataframe\">\n",
       "  <thead>\n",
       "    <tr style=\"text-align: right;\">\n",
       "      <th></th>\n",
       "      <th>total_images</th>\n",
       "      <th>last_price</th>\n",
       "      <th>total_area</th>\n",
       "      <th>first_day_exposition</th>\n",
       "      <th>rooms</th>\n",
       "      <th>ceiling_height</th>\n",
       "      <th>floors_total</th>\n",
       "      <th>living_area</th>\n",
       "      <th>floor</th>\n",
       "      <th>is_apartment</th>\n",
       "      <th>studio</th>\n",
       "      <th>open_plan</th>\n",
       "      <th>kitchen_area</th>\n",
       "      <th>balcony</th>\n",
       "      <th>locality_name</th>\n",
       "      <th>airports_nearest</th>\n",
       "      <th>cityCenters_nearest</th>\n",
       "      <th>parks_around3000</th>\n",
       "      <th>parks_nearest</th>\n",
       "      <th>ponds_around3000</th>\n",
       "      <th>ponds_nearest</th>\n",
       "      <th>days_exposition</th>\n",
       "      <th>living_area_ratio</th>\n",
       "      <th>kitchen_area_ratio</th>\n",
       "      <th>square_meter_price</th>\n",
       "      <th>weekday_exposition</th>\n",
       "      <th>month_exposition</th>\n",
       "      <th>year_exposition</th>\n",
       "      <th>floor_category</th>\n",
       "      <th>floor_category_id</th>\n",
       "      <th>last_price_thousand</th>\n",
       "    </tr>\n",
       "  </thead>\n",
       "  <tbody>\n",
       "    <tr>\n",
       "      <th>11</th>\n",
       "      <td>9</td>\n",
       "      <td>3300000.00</td>\n",
       "      <td>44.00</td>\n",
       "      <td>2018-08-27</td>\n",
       "      <td>2</td>\n",
       "      <td>2.65</td>\n",
       "      <td>5</td>\n",
       "      <td>31.00</td>\n",
       "      <td>4</td>\n",
       "      <td>False</td>\n",
       "      <td>False</td>\n",
       "      <td>False</td>\n",
       "      <td>6.00</td>\n",
       "      <td>1</td>\n",
       "      <td>Ломоносов</td>\n",
       "      <td>48252.00</td>\n",
       "      <td>51677.00</td>\n",
       "      <td>0</td>\n",
       "      <td>NaN</td>\n",
       "      <td>0</td>\n",
       "      <td>NaN</td>\n",
       "      <td>7.00</td>\n",
       "      <td>0.70</td>\n",
       "      <td>0.14</td>\n",
       "      <td>75000.00</td>\n",
       "      <td>0</td>\n",
       "      <td>8</td>\n",
       "      <td>2018</td>\n",
       "      <td>другой этаж</td>\n",
       "      <td>2</td>\n",
       "      <td>3300.00</td>\n",
       "    </tr>\n",
       "    <tr>\n",
       "      <th>53</th>\n",
       "      <td>7</td>\n",
       "      <td>4300000.00</td>\n",
       "      <td>39.10</td>\n",
       "      <td>2017-11-10</td>\n",
       "      <td>1</td>\n",
       "      <td>2.65</td>\n",
       "      <td>25</td>\n",
       "      <td>15.40</td>\n",
       "      <td>13</td>\n",
       "      <td>False</td>\n",
       "      <td>False</td>\n",
       "      <td>False</td>\n",
       "      <td>15.50</td>\n",
       "      <td>2</td>\n",
       "      <td>поселок Парголово</td>\n",
       "      <td>52611.00</td>\n",
       "      <td>18783.00</td>\n",
       "      <td>0</td>\n",
       "      <td>NaN</td>\n",
       "      <td>0</td>\n",
       "      <td>NaN</td>\n",
       "      <td>6.00</td>\n",
       "      <td>0.39</td>\n",
       "      <td>0.40</td>\n",
       "      <td>109974.42</td>\n",
       "      <td>4</td>\n",
       "      <td>11</td>\n",
       "      <td>2017</td>\n",
       "      <td>другой этаж</td>\n",
       "      <td>2</td>\n",
       "      <td>4300.00</td>\n",
       "    </tr>\n",
       "    <tr>\n",
       "      <th>62</th>\n",
       "      <td>0</td>\n",
       "      <td>4800000.00</td>\n",
       "      <td>78.60</td>\n",
       "      <td>2017-09-17</td>\n",
       "      <td>3</td>\n",
       "      <td>2.80</td>\n",
       "      <td>9</td>\n",
       "      <td>48.80</td>\n",
       "      <td>5</td>\n",
       "      <td>False</td>\n",
       "      <td>False</td>\n",
       "      <td>False</td>\n",
       "      <td>11.90</td>\n",
       "      <td>2</td>\n",
       "      <td>Сертолово</td>\n",
       "      <td>NaN</td>\n",
       "      <td>NaN</td>\n",
       "      <td>0</td>\n",
       "      <td>NaN</td>\n",
       "      <td>0</td>\n",
       "      <td>NaN</td>\n",
       "      <td>5.00</td>\n",
       "      <td>0.62</td>\n",
       "      <td>0.15</td>\n",
       "      <td>61068.70</td>\n",
       "      <td>6</td>\n",
       "      <td>9</td>\n",
       "      <td>2017</td>\n",
       "      <td>другой этаж</td>\n",
       "      <td>2</td>\n",
       "      <td>4800.00</td>\n",
       "    </tr>\n",
       "    <tr>\n",
       "      <th>94</th>\n",
       "      <td>3</td>\n",
       "      <td>3500000.00</td>\n",
       "      <td>29.50</td>\n",
       "      <td>2019-04-26</td>\n",
       "      <td>1</td>\n",
       "      <td>2.50</td>\n",
       "      <td>5</td>\n",
       "      <td>15.60</td>\n",
       "      <td>2</td>\n",
       "      <td>False</td>\n",
       "      <td>False</td>\n",
       "      <td>False</td>\n",
       "      <td>5.50</td>\n",
       "      <td>1</td>\n",
       "      <td>Санкт-Петербург</td>\n",
       "      <td>12921.00</td>\n",
       "      <td>7303.00</td>\n",
       "      <td>0</td>\n",
       "      <td>NaN</td>\n",
       "      <td>0</td>\n",
       "      <td>NaN</td>\n",
       "      <td>4.00</td>\n",
       "      <td>0.53</td>\n",
       "      <td>0.19</td>\n",
       "      <td>118644.07</td>\n",
       "      <td>4</td>\n",
       "      <td>4</td>\n",
       "      <td>2019</td>\n",
       "      <td>другой этаж</td>\n",
       "      <td>2</td>\n",
       "      <td>3500.00</td>\n",
       "    </tr>\n",
       "    <tr>\n",
       "      <th>100</th>\n",
       "      <td>16</td>\n",
       "      <td>3800000.00</td>\n",
       "      <td>38.60</td>\n",
       "      <td>2018-02-22</td>\n",
       "      <td>1</td>\n",
       "      <td>2.65</td>\n",
       "      <td>9</td>\n",
       "      <td>18.00</td>\n",
       "      <td>6</td>\n",
       "      <td>False</td>\n",
       "      <td>False</td>\n",
       "      <td>False</td>\n",
       "      <td>8.40</td>\n",
       "      <td>2</td>\n",
       "      <td>Санкт-Петербург</td>\n",
       "      <td>36450.00</td>\n",
       "      <td>13364.00</td>\n",
       "      <td>0</td>\n",
       "      <td>NaN</td>\n",
       "      <td>0</td>\n",
       "      <td>NaN</td>\n",
       "      <td>8.00</td>\n",
       "      <td>0.47</td>\n",
       "      <td>0.22</td>\n",
       "      <td>98445.60</td>\n",
       "      <td>3</td>\n",
       "      <td>2</td>\n",
       "      <td>2018</td>\n",
       "      <td>другой этаж</td>\n",
       "      <td>2</td>\n",
       "      <td>3800.00</td>\n",
       "    </tr>\n",
       "    <tr>\n",
       "      <th>...</th>\n",
       "      <td>...</td>\n",
       "      <td>...</td>\n",
       "      <td>...</td>\n",
       "      <td>...</td>\n",
       "      <td>...</td>\n",
       "      <td>...</td>\n",
       "      <td>...</td>\n",
       "      <td>...</td>\n",
       "      <td>...</td>\n",
       "      <td>...</td>\n",
       "      <td>...</td>\n",
       "      <td>...</td>\n",
       "      <td>...</td>\n",
       "      <td>...</td>\n",
       "      <td>...</td>\n",
       "      <td>...</td>\n",
       "      <td>...</td>\n",
       "      <td>...</td>\n",
       "      <td>...</td>\n",
       "      <td>...</td>\n",
       "      <td>...</td>\n",
       "      <td>...</td>\n",
       "      <td>...</td>\n",
       "      <td>...</td>\n",
       "      <td>...</td>\n",
       "      <td>...</td>\n",
       "      <td>...</td>\n",
       "      <td>...</td>\n",
       "      <td>...</td>\n",
       "      <td>...</td>\n",
       "      <td>...</td>\n",
       "    </tr>\n",
       "    <tr>\n",
       "      <th>23513</th>\n",
       "      <td>12</td>\n",
       "      <td>8300000.00</td>\n",
       "      <td>62.60</td>\n",
       "      <td>2017-02-15</td>\n",
       "      <td>2</td>\n",
       "      <td>2.70</td>\n",
       "      <td>16</td>\n",
       "      <td>32.90</td>\n",
       "      <td>8</td>\n",
       "      <td>False</td>\n",
       "      <td>False</td>\n",
       "      <td>False</td>\n",
       "      <td>11.30</td>\n",
       "      <td>2</td>\n",
       "      <td>Санкт-Петербург</td>\n",
       "      <td>29077.00</td>\n",
       "      <td>10858.00</td>\n",
       "      <td>0</td>\n",
       "      <td>NaN</td>\n",
       "      <td>0</td>\n",
       "      <td>NaN</td>\n",
       "      <td>7.00</td>\n",
       "      <td>0.53</td>\n",
       "      <td>0.18</td>\n",
       "      <td>132587.86</td>\n",
       "      <td>2</td>\n",
       "      <td>2</td>\n",
       "      <td>2017</td>\n",
       "      <td>другой этаж</td>\n",
       "      <td>2</td>\n",
       "      <td>8300.00</td>\n",
       "    </tr>\n",
       "    <tr>\n",
       "      <th>23596</th>\n",
       "      <td>10</td>\n",
       "      <td>3500000.00</td>\n",
       "      <td>43.50</td>\n",
       "      <td>2017-12-05</td>\n",
       "      <td>2</td>\n",
       "      <td>2.50</td>\n",
       "      <td>9</td>\n",
       "      <td>27.00</td>\n",
       "      <td>6</td>\n",
       "      <td>False</td>\n",
       "      <td>False</td>\n",
       "      <td>False</td>\n",
       "      <td>6.20</td>\n",
       "      <td>0</td>\n",
       "      <td>Санкт-Петербург</td>\n",
       "      <td>49094.00</td>\n",
       "      <td>16671.00</td>\n",
       "      <td>0</td>\n",
       "      <td>NaN</td>\n",
       "      <td>0</td>\n",
       "      <td>NaN</td>\n",
       "      <td>6.00</td>\n",
       "      <td>0.62</td>\n",
       "      <td>0.14</td>\n",
       "      <td>80459.77</td>\n",
       "      <td>1</td>\n",
       "      <td>12</td>\n",
       "      <td>2017</td>\n",
       "      <td>другой этаж</td>\n",
       "      <td>2</td>\n",
       "      <td>3500.00</td>\n",
       "    </tr>\n",
       "    <tr>\n",
       "      <th>23606</th>\n",
       "      <td>0</td>\n",
       "      <td>2850000.00</td>\n",
       "      <td>68.00</td>\n",
       "      <td>2018-07-29</td>\n",
       "      <td>1</td>\n",
       "      <td>3.00</td>\n",
       "      <td>5</td>\n",
       "      <td>41.00</td>\n",
       "      <td>3</td>\n",
       "      <td>False</td>\n",
       "      <td>False</td>\n",
       "      <td>False</td>\n",
       "      <td>10.00</td>\n",
       "      <td>0</td>\n",
       "      <td>Санкт-Петербург</td>\n",
       "      <td>38473.00</td>\n",
       "      <td>7740.00</td>\n",
       "      <td>2</td>\n",
       "      <td>560.00</td>\n",
       "      <td>3</td>\n",
       "      <td>327.00</td>\n",
       "      <td>4.00</td>\n",
       "      <td>0.60</td>\n",
       "      <td>0.15</td>\n",
       "      <td>41911.76</td>\n",
       "      <td>6</td>\n",
       "      <td>7</td>\n",
       "      <td>2018</td>\n",
       "      <td>другой этаж</td>\n",
       "      <td>2</td>\n",
       "      <td>2850.00</td>\n",
       "    </tr>\n",
       "    <tr>\n",
       "      <th>23647</th>\n",
       "      <td>9</td>\n",
       "      <td>5700000.00</td>\n",
       "      <td>45.60</td>\n",
       "      <td>2019-01-09</td>\n",
       "      <td>1</td>\n",
       "      <td>2.75</td>\n",
       "      <td>16</td>\n",
       "      <td>18.70</td>\n",
       "      <td>6</td>\n",
       "      <td>False</td>\n",
       "      <td>False</td>\n",
       "      <td>False</td>\n",
       "      <td>17.60</td>\n",
       "      <td>0</td>\n",
       "      <td>Санкт-Петербург</td>\n",
       "      <td>10934.00</td>\n",
       "      <td>12551.00</td>\n",
       "      <td>0</td>\n",
       "      <td>NaN</td>\n",
       "      <td>0</td>\n",
       "      <td>NaN</td>\n",
       "      <td>8.00</td>\n",
       "      <td>0.41</td>\n",
       "      <td>0.39</td>\n",
       "      <td>125000.00</td>\n",
       "      <td>2</td>\n",
       "      <td>1</td>\n",
       "      <td>2019</td>\n",
       "      <td>другой этаж</td>\n",
       "      <td>2</td>\n",
       "      <td>5700.00</td>\n",
       "    </tr>\n",
       "    <tr>\n",
       "      <th>23661</th>\n",
       "      <td>19</td>\n",
       "      <td>8100000.00</td>\n",
       "      <td>75.40</td>\n",
       "      <td>2018-09-19</td>\n",
       "      <td>3</td>\n",
       "      <td>2.75</td>\n",
       "      <td>12</td>\n",
       "      <td>47.90</td>\n",
       "      <td>11</td>\n",
       "      <td>False</td>\n",
       "      <td>False</td>\n",
       "      <td>False</td>\n",
       "      <td>9.40</td>\n",
       "      <td>0</td>\n",
       "      <td>Санкт-Петербург</td>\n",
       "      <td>14727.00</td>\n",
       "      <td>16771.00</td>\n",
       "      <td>0</td>\n",
       "      <td>NaN</td>\n",
       "      <td>0</td>\n",
       "      <td>NaN</td>\n",
       "      <td>6.00</td>\n",
       "      <td>0.64</td>\n",
       "      <td>0.12</td>\n",
       "      <td>107427.06</td>\n",
       "      <td>2</td>\n",
       "      <td>9</td>\n",
       "      <td>2018</td>\n",
       "      <td>другой этаж</td>\n",
       "      <td>2</td>\n",
       "      <td>8100.00</td>\n",
       "    </tr>\n",
       "  </tbody>\n",
       "</table>\n",
       "<p>1130 rows × 31 columns</p>\n",
       "</div>"
      ],
      "text/plain": [
       "       total_images  last_price  total_area first_day_exposition  rooms  \\\n",
       "11                9  3300000.00       44.00           2018-08-27      2   \n",
       "53                7  4300000.00       39.10           2017-11-10      1   \n",
       "62                0  4800000.00       78.60           2017-09-17      3   \n",
       "94                3  3500000.00       29.50           2019-04-26      1   \n",
       "100              16  3800000.00       38.60           2018-02-22      1   \n",
       "...             ...         ...         ...                  ...    ...   \n",
       "23513            12  8300000.00       62.60           2017-02-15      2   \n",
       "23596            10  3500000.00       43.50           2017-12-05      2   \n",
       "23606             0  2850000.00       68.00           2018-07-29      1   \n",
       "23647             9  5700000.00       45.60           2019-01-09      1   \n",
       "23661            19  8100000.00       75.40           2018-09-19      3   \n",
       "\n",
       "       ceiling_height  floors_total  living_area  floor  is_apartment  studio  \\\n",
       "11               2.65             5        31.00      4         False   False   \n",
       "53               2.65            25        15.40     13         False   False   \n",
       "62               2.80             9        48.80      5         False   False   \n",
       "94               2.50             5        15.60      2         False   False   \n",
       "100              2.65             9        18.00      6         False   False   \n",
       "...               ...           ...          ...    ...           ...     ...   \n",
       "23513            2.70            16        32.90      8         False   False   \n",
       "23596            2.50             9        27.00      6         False   False   \n",
       "23606            3.00             5        41.00      3         False   False   \n",
       "23647            2.75            16        18.70      6         False   False   \n",
       "23661            2.75            12        47.90     11         False   False   \n",
       "\n",
       "       open_plan  kitchen_area  balcony      locality_name  airports_nearest  \\\n",
       "11         False          6.00        1          Ломоносов          48252.00   \n",
       "53         False         15.50        2  поселок Парголово          52611.00   \n",
       "62         False         11.90        2          Сертолово               NaN   \n",
       "94         False          5.50        1    Санкт-Петербург          12921.00   \n",
       "100        False          8.40        2    Санкт-Петербург          36450.00   \n",
       "...          ...           ...      ...                ...               ...   \n",
       "23513      False         11.30        2    Санкт-Петербург          29077.00   \n",
       "23596      False          6.20        0    Санкт-Петербург          49094.00   \n",
       "23606      False         10.00        0    Санкт-Петербург          38473.00   \n",
       "23647      False         17.60        0    Санкт-Петербург          10934.00   \n",
       "23661      False          9.40        0    Санкт-Петербург          14727.00   \n",
       "\n",
       "       cityCenters_nearest  parks_around3000  parks_nearest  ponds_around3000  \\\n",
       "11                51677.00                 0            NaN                 0   \n",
       "53                18783.00                 0            NaN                 0   \n",
       "62                     NaN                 0            NaN                 0   \n",
       "94                 7303.00                 0            NaN                 0   \n",
       "100               13364.00                 0            NaN                 0   \n",
       "...                    ...               ...            ...               ...   \n",
       "23513             10858.00                 0            NaN                 0   \n",
       "23596             16671.00                 0            NaN                 0   \n",
       "23606              7740.00                 2         560.00                 3   \n",
       "23647             12551.00                 0            NaN                 0   \n",
       "23661             16771.00                 0            NaN                 0   \n",
       "\n",
       "       ponds_nearest  days_exposition  living_area_ratio  kitchen_area_ratio  \\\n",
       "11               NaN             7.00               0.70                0.14   \n",
       "53               NaN             6.00               0.39                0.40   \n",
       "62               NaN             5.00               0.62                0.15   \n",
       "94               NaN             4.00               0.53                0.19   \n",
       "100              NaN             8.00               0.47                0.22   \n",
       "...              ...              ...                ...                 ...   \n",
       "23513            NaN             7.00               0.53                0.18   \n",
       "23596            NaN             6.00               0.62                0.14   \n",
       "23606         327.00             4.00               0.60                0.15   \n",
       "23647            NaN             8.00               0.41                0.39   \n",
       "23661            NaN             6.00               0.64                0.12   \n",
       "\n",
       "       square_meter_price  weekday_exposition  month_exposition  \\\n",
       "11               75000.00                   0                 8   \n",
       "53              109974.42                   4                11   \n",
       "62               61068.70                   6                 9   \n",
       "94              118644.07                   4                 4   \n",
       "100              98445.60                   3                 2   \n",
       "...                   ...                 ...               ...   \n",
       "23513           132587.86                   2                 2   \n",
       "23596            80459.77                   1                12   \n",
       "23606            41911.76                   6                 7   \n",
       "23647           125000.00                   2                 1   \n",
       "23661           107427.06                   2                 9   \n",
       "\n",
       "       year_exposition floor_category  floor_category_id  last_price_thousand  \n",
       "11                2018    другой этаж                  2              3300.00  \n",
       "53                2017    другой этаж                  2              4300.00  \n",
       "62                2017    другой этаж                  2              4800.00  \n",
       "94                2019    другой этаж                  2              3500.00  \n",
       "100               2018    другой этаж                  2              3800.00  \n",
       "...                ...            ...                ...                  ...  \n",
       "23513             2017    другой этаж                  2              8300.00  \n",
       "23596             2017    другой этаж                  2              3500.00  \n",
       "23606             2018    другой этаж                  2              2850.00  \n",
       "23647             2019    другой этаж                  2              5700.00  \n",
       "23661             2018    другой этаж                  2              8100.00  \n",
       "\n",
       "[1130 rows x 31 columns]"
      ]
     },
     "execution_count": 136,
     "metadata": {},
     "output_type": "execute_result"
    }
   ],
   "source": [
    "data_fast_sales=data.query('days_exposition<10')\n",
    "data_fast_sales"
   ]
  },
  {
   "cell_type": "markdown",
   "metadata": {},
   "source": [
    "1130 квартир продалось за период менее 10 дней."
   ]
  },
  {
   "cell_type": "markdown",
   "metadata": {},
   "source": [
    "Посмотрим на среднюю цену квартиры. "
   ]
  },
  {
   "cell_type": "code",
   "execution_count": 137,
   "metadata": {},
   "outputs": [
    {
     "data": {
      "text/plain": [
       "5395332.83539823"
      ]
     },
     "execution_count": 137,
     "metadata": {},
     "output_type": "execute_result"
    }
   ],
   "source": [
    "data_fast_sales['last_price'].mean()"
   ]
  },
  {
   "cell_type": "markdown",
   "metadata": {},
   "source": [
    "Посмотрим на среднюю цену квадратного метра. "
   ]
  },
  {
   "cell_type": "code",
   "execution_count": 138,
   "metadata": {},
   "outputs": [
    {
     "data": {
      "text/plain": [
       "99513.92688694515"
      ]
     },
     "execution_count": 138,
     "metadata": {},
     "output_type": "execute_result"
    }
   ],
   "source": [
    "data_fast_sales['square_meter_price'].mean()"
   ]
  },
  {
   "cell_type": "markdown",
   "metadata": {},
   "source": [
    "Посмотрим на общую площадь. "
   ]
  },
  {
   "cell_type": "code",
   "execution_count": 139,
   "metadata": {},
   "outputs": [
    {
     "data": {
      "text/plain": [
       "52.80733628318588"
      ]
     },
     "execution_count": 139,
     "metadata": {},
     "output_type": "execute_result"
    }
   ],
   "source": [
    "data_fast_sales['total_area'].mean()"
   ]
  },
  {
   "cell_type": "markdown",
   "metadata": {},
   "source": [
    "Вывод: \n",
    "- средняя цена квадратного метра у быстро продающихся квартир меньше, чем у долго продающихся, общая цена тоже меньше, как и общая площадь. "
   ]
  },
  {
   "cell_type": "markdown",
   "metadata": {},
   "source": [
    "Посмотрим на местоположение. "
   ]
  },
  {
   "cell_type": "code",
   "execution_count": 140,
   "metadata": {},
   "outputs": [
    {
     "data": {
      "text/plain": [
       "Санкт-Петербург      803\n",
       "поселок Мурино        34\n",
       "поселок Парголово     21\n",
       "Колпино               20\n",
       "Пушкин                19\n",
       "поселок Шушары        17\n",
       "деревня Кудрово       17\n",
       "Гатчина               16\n",
       "Всеволожск            12\n",
       "Кудрово                9\n",
       "Name: locality_name, dtype: int64"
      ]
     },
     "execution_count": 140,
     "metadata": {},
     "output_type": "execute_result"
    }
   ],
   "source": [
    "data_fast_sales['locality_name'].value_counts().head(10)"
   ]
  },
  {
   "cell_type": "markdown",
   "metadata": {},
   "source": [
    "Мы видим, что среди быстро продающихся квартир гораздо больше других локаций, чем среди долго продающихся. Квартиры в Ленинградской области \"подвисают\" в продаже относительно меньше, чем по С-Петербурге. "
   ]
  },
  {
   "cell_type": "markdown",
   "metadata": {},
   "source": [
    "Посмотрим взаимосвязь скорости продажи квартиры и ее местоположения. "
   ]
  },
  {
   "cell_type": "markdown",
   "metadata": {},
   "source": [
    "Дольше всего продаются квартиры, находящиеся по направлению трассы С-Петербург - Москва, в районе Лен.области с сомнительной экологией. "
   ]
  },
  {
   "cell_type": "code",
   "execution_count": 141,
   "metadata": {},
   "outputs": [
    {
     "data": {
      "text/html": [
       "<div>\n",
       "<style scoped>\n",
       "    .dataframe tbody tr th:only-of-type {\n",
       "        vertical-align: middle;\n",
       "    }\n",
       "\n",
       "    .dataframe tbody tr th {\n",
       "        vertical-align: top;\n",
       "    }\n",
       "\n",
       "    .dataframe thead th {\n",
       "        text-align: right;\n",
       "    }\n",
       "</style>\n",
       "<table border=\"1\" class=\"dataframe\">\n",
       "  <thead>\n",
       "    <tr style=\"text-align: right;\">\n",
       "      <th></th>\n",
       "      <th>days_exposition</th>\n",
       "      <th>total_area</th>\n",
       "    </tr>\n",
       "    <tr>\n",
       "      <th>locality_name</th>\n",
       "      <th></th>\n",
       "      <th></th>\n",
       "    </tr>\n",
       "  </thead>\n",
       "  <tbody>\n",
       "    <tr>\n",
       "      <th>поселок Севастьяново</th>\n",
       "      <td>1069.00</td>\n",
       "      <td>62.00</td>\n",
       "    </tr>\n",
       "    <tr>\n",
       "      <th>поселок Молодежное</th>\n",
       "      <td>1043.00</td>\n",
       "      <td>51.40</td>\n",
       "    </tr>\n",
       "    <tr>\n",
       "      <th>деревня Рабитицы</th>\n",
       "      <td>1007.00</td>\n",
       "      <td>55.40</td>\n",
       "    </tr>\n",
       "    <tr>\n",
       "      <th>поселок Коробицыно</th>\n",
       "      <td>750.00</td>\n",
       "      <td>58.45</td>\n",
       "    </tr>\n",
       "    <tr>\n",
       "      <th>поселок Любань</th>\n",
       "      <td>654.00</td>\n",
       "      <td>50.00</td>\n",
       "    </tr>\n",
       "    <tr>\n",
       "      <th>деревня Большая Пустомержа</th>\n",
       "      <td>627.00</td>\n",
       "      <td>53.50</td>\n",
       "    </tr>\n",
       "    <tr>\n",
       "      <th>деревня Зимитицы</th>\n",
       "      <td>610.00</td>\n",
       "      <td>58.00</td>\n",
       "    </tr>\n",
       "    <tr>\n",
       "      <th>поселок Рябово</th>\n",
       "      <td>574.50</td>\n",
       "      <td>72.25</td>\n",
       "    </tr>\n",
       "    <tr>\n",
       "      <th>деревня Мины</th>\n",
       "      <td>540.00</td>\n",
       "      <td>48.00</td>\n",
       "    </tr>\n",
       "    <tr>\n",
       "      <th>поселок Суйда</th>\n",
       "      <td>503.00</td>\n",
       "      <td>56.70</td>\n",
       "    </tr>\n",
       "  </tbody>\n",
       "</table>\n",
       "</div>"
      ],
      "text/plain": [
       "                            days_exposition  total_area\n",
       "locality_name                                          \n",
       "поселок Севастьяново                1069.00       62.00\n",
       "поселок Молодежное                  1043.00       51.40\n",
       "деревня Рабитицы                    1007.00       55.40\n",
       "поселок Коробицыно                   750.00       58.45\n",
       "поселок Любань                       654.00       50.00\n",
       "деревня Большая Пустомержа           627.00       53.50\n",
       "деревня Зимитицы                     610.00       58.00\n",
       "поселок Рябово                       574.50       72.25\n",
       "деревня Мины                         540.00       48.00\n",
       "поселок Суйда                        503.00       56.70"
      ]
     },
     "execution_count": 141,
     "metadata": {},
     "output_type": "execute_result"
    }
   ],
   "source": [
    "locality_days_exposition_pivot=data.pivot_table(index='locality_name', values=['days_exposition', 'total_area'], aggfunc='median')\n",
    "locality_days_exposition_pivot.sort_values(by='days_exposition', ascending=False).head(10)"
   ]
  },
  {
   "cell_type": "markdown",
   "metadata": {},
   "source": [
    "Быстрее всего продающиеся квартиры находятся в Лен.области на карельском перешейке"
   ]
  },
  {
   "cell_type": "code",
   "execution_count": 142,
   "metadata": {
    "scrolled": true
   },
   "outputs": [
    {
     "data": {
      "text/html": [
       "<div>\n",
       "<style scoped>\n",
       "    .dataframe tbody tr th:only-of-type {\n",
       "        vertical-align: middle;\n",
       "    }\n",
       "\n",
       "    .dataframe tbody tr th {\n",
       "        vertical-align: top;\n",
       "    }\n",
       "\n",
       "    .dataframe thead th {\n",
       "        text-align: right;\n",
       "    }\n",
       "</style>\n",
       "<table border=\"1\" class=\"dataframe\">\n",
       "  <thead>\n",
       "    <tr style=\"text-align: right;\">\n",
       "      <th></th>\n",
       "      <th>days_exposition</th>\n",
       "      <th>total_area</th>\n",
       "    </tr>\n",
       "    <tr>\n",
       "      <th>locality_name</th>\n",
       "      <th></th>\n",
       "      <th></th>\n",
       "    </tr>\n",
       "  </thead>\n",
       "  <tbody>\n",
       "    <tr>\n",
       "      <th>поселок Володарское</th>\n",
       "      <td>5.00</td>\n",
       "      <td>47.20</td>\n",
       "    </tr>\n",
       "    <tr>\n",
       "      <th>поселок Заводской</th>\n",
       "      <td>5.00</td>\n",
       "      <td>29.20</td>\n",
       "    </tr>\n",
       "    <tr>\n",
       "      <th>садовое товарищество Садко</th>\n",
       "      <td>7.00</td>\n",
       "      <td>56.00</td>\n",
       "    </tr>\n",
       "    <tr>\n",
       "      <th>коттеджный поселок Счастье</th>\n",
       "      <td>7.00</td>\n",
       "      <td>72.00</td>\n",
       "    </tr>\n",
       "    <tr>\n",
       "      <th>деревня Яльгелево</th>\n",
       "      <td>7.00</td>\n",
       "      <td>44.90</td>\n",
       "    </tr>\n",
       "    <tr>\n",
       "      <th>село Шум</th>\n",
       "      <td>9.00</td>\n",
       "      <td>59.00</td>\n",
       "    </tr>\n",
       "    <tr>\n",
       "      <th>поселок Семиозерье</th>\n",
       "      <td>9.00</td>\n",
       "      <td>56.00</td>\n",
       "    </tr>\n",
       "    <tr>\n",
       "      <th>деревня Малая Романовка</th>\n",
       "      <td>9.00</td>\n",
       "      <td>66.80</td>\n",
       "    </tr>\n",
       "    <tr>\n",
       "      <th>поселок Новогорелово</th>\n",
       "      <td>10.00</td>\n",
       "      <td>40.85</td>\n",
       "    </tr>\n",
       "    <tr>\n",
       "      <th>поселок Платформа 69-й километр</th>\n",
       "      <td>18.00</td>\n",
       "      <td>52.70</td>\n",
       "    </tr>\n",
       "  </tbody>\n",
       "</table>\n",
       "</div>"
      ],
      "text/plain": [
       "                                 days_exposition  total_area\n",
       "locality_name                                               \n",
       "поселок Володарское                         5.00       47.20\n",
       "поселок Заводской                           5.00       29.20\n",
       "садовое товарищество Садко                  7.00       56.00\n",
       "коттеджный поселок Счастье                  7.00       72.00\n",
       "деревня Яльгелево                           7.00       44.90\n",
       "село Шум                                    9.00       59.00\n",
       "поселок Семиозерье                          9.00       56.00\n",
       "деревня Малая Романовка                     9.00       66.80\n",
       "поселок Новогорелово                       10.00       40.85\n",
       "поселок Платформа 69-й километр            18.00       52.70"
      ]
     },
     "execution_count": 142,
     "metadata": {},
     "output_type": "execute_result"
    }
   ],
   "source": [
    "locality_days_exposition_pivot.sort_values(by='days_exposition', ascending=True).head(10)"
   ]
  },
  {
   "cell_type": "code",
   "execution_count": 143,
   "metadata": {},
   "outputs": [
    {
     "name": "stdout",
     "output_type": "stream",
     "text": [
      "В Санкт-Петербурге квартиры продаются в среднем за 183 дня\n"
     ]
    }
   ],
   "source": [
    "print(\n",
    "    'В Санкт-Петербурге квартиры продаются в среднем за {} дня'.format(\n",
    "        round(\n",
    "            data.query('locality_name==\"Санкт-Петербург\"')['days_exposition'].mean()\n",
    "        )))"
   ]
  },
  {
   "cell_type": "markdown",
   "metadata": {},
   "source": [
    "Посмотрим взаимосвязь скорости продажи квартиры и удаленности ее от центра Санкт-Петербурга (в первом приближении для всех квартир, затем - для Санкт-Петербурга). "
   ]
  },
  {
   "cell_type": "code",
   "execution_count": 144,
   "metadata": {},
   "outputs": [
    {
     "data": {
      "text/plain": [
       "<AxesSubplot:xlabel='cityCenters_nearest', ylabel='days_exposition'>"
      ]
     },
     "execution_count": 144,
     "metadata": {},
     "output_type": "execute_result"
    },
    {
     "data": {
      "image/png": "[encoded data removed]",
      "text/plain": [
       "<Figure size 432x288 with 1 Axes>"
      ]
     },
     "metadata": {
      "needs_background": "light"
     },
     "output_type": "display_data"
    }
   ],
   "source": [
    "data.plot(x='cityCenters_nearest', y='days_exposition', kind='scatter')"
   ]
  },
  {
   "cell_type": "code",
   "execution_count": 145,
   "metadata": {},
   "outputs": [
    {
     "data": {
      "text/plain": [
       "-0.06060691579222223"
      ]
     },
     "execution_count": 145,
     "metadata": {},
     "output_type": "execute_result"
    }
   ],
   "source": [
    "data['cityCenters_nearest'].corr(data['days_exposition'])"
   ]
  },
  {
   "cell_type": "markdown",
   "metadata": {},
   "source": [
    "Коэффициент корреляции практически нулевой. "
   ]
  },
  {
   "cell_type": "code",
   "execution_count": 146,
   "metadata": {},
   "outputs": [
    {
     "data": {
      "text/plain": [
       "<AxesSubplot:xlabel='cityCenters_nearest', ylabel='days_exposition'>"
      ]
     },
     "execution_count": 146,
     "metadata": {},
     "output_type": "execute_result"
    },
    {
     "data": {
      "image/png": "[encoded data removed]",
      "text/plain": [
       "<Figure size 432x288 with 1 Axes>"
      ]
     },
     "metadata": {
      "needs_background": "light"
     },
     "output_type": "display_data"
    }
   ],
   "source": [
    "data.query('locality_name==\"Санкт-Петербург\"').plot(x='cityCenters_nearest', y='days_exposition', kind='scatter')"
   ]
  },
  {
   "cell_type": "code",
   "execution_count": 147,
   "metadata": {},
   "outputs": [
    {
     "data": {
      "text/plain": [
       "-0.13842712425324036"
      ]
     },
     "execution_count": 147,
     "metadata": {},
     "output_type": "execute_result"
    }
   ],
   "source": [
    "data.query('locality_name==\"Санкт-Петербург\"')['cityCenters_nearest'].corr(data['days_exposition'])"
   ]
  },
  {
   "cell_type": "markdown",
   "metadata": {},
   "source": [
    "Коэффициент корреляции также очень мал (отрицателен)."
   ]
  },
  {
   "cell_type": "markdown",
   "metadata": {},
   "source": [
    "Посмотрим взаимосвязь скорости продажи квартиры и цены за квадратный метр. "
   ]
  },
  {
   "cell_type": "code",
   "execution_count": 148,
   "metadata": {},
   "outputs": [
    {
     "data": {
      "text/plain": [
       "<AxesSubplot:xlabel='square_meter_price', ylabel='days_exposition'>"
      ]
     },
     "execution_count": 148,
     "metadata": {},
     "output_type": "execute_result"
    },
    {
     "data": {
      "image/png": "[encoded data removed]",
      "text/plain": [
       "<Figure size 432x288 with 1 Axes>"
      ]
     },
     "metadata": {
      "needs_background": "light"
     },
     "output_type": "display_data"
    }
   ],
   "source": [
    "data.plot(x='square_meter_price', y='days_exposition', kind='scatter')"
   ]
  },
  {
   "cell_type": "markdown",
   "metadata": {},
   "source": [
    "Визуально можем сделать вывод о том, что при одной и той же цене за квадратный метр квартиры продаются с разной скоростью. Посмотрим на коэффициент корреляции. "
   ]
  },
  {
   "cell_type": "code",
   "execution_count": 149,
   "metadata": {},
   "outputs": [
    {
     "data": {
      "text/plain": [
       "0.04812006139298614"
      ]
     },
     "execution_count": 149,
     "metadata": {},
     "output_type": "execute_result"
    }
   ],
   "source": [
    "data['square_meter_price'].corr(data['days_exposition'])"
   ]
  },
  {
   "cell_type": "markdown",
   "metadata": {},
   "source": [
    "Он также очень далек от 1, что означает, что зависимости как таковой нет, несмотря на то, что (в среднем) мы увидели, что быстрее продаются небольшие квартиры с недорогим квадратным метром. "
   ]
  },
  {
   "cell_type": "markdown",
   "metadata": {},
   "source": [
    "Возможно, правда, что имеет место нелинейная зависимость, близость к которой коэффициент корреляции не отражает. "
   ]
  },
  {
   "cell_type": "markdown",
   "metadata": {},
   "source": [
    "Посмотрим взаимосвязь скорости продажи квартиры и ее площади. "
   ]
  },
  {
   "cell_type": "code",
   "execution_count": 150,
   "metadata": {},
   "outputs": [
    {
     "data": {
      "text/plain": [
       "<AxesSubplot:xlabel='total_area', ylabel='days_exposition'>"
      ]
     },
     "execution_count": 150,
     "metadata": {},
     "output_type": "execute_result"
    },
    {
     "data": {
      "image/png": "[encoded data removed]",
      "text/plain": [
       "<Figure size 432x288 with 1 Axes>"
      ]
     },
     "metadata": {
      "needs_background": "light"
     },
     "output_type": "display_data"
    }
   ],
   "source": [
    "data.plot(x='total_area', y='days_exposition', kind='scatter')"
   ]
  },
  {
   "cell_type": "code",
   "execution_count": 151,
   "metadata": {},
   "outputs": [
    {
     "data": {
      "text/plain": [
       "0.14967517208715717"
      ]
     },
     "execution_count": 151,
     "metadata": {},
     "output_type": "execute_result"
    }
   ],
   "source": [
    "data['total_area'].corr(data['days_exposition'])"
   ]
  },
  {
   "cell_type": "markdown",
   "metadata": {},
   "source": [
    "Коэфициент корреляции также очень далек от 1, что означает, что линейной зависимости как таковой нет, несмотря на то, как и прежде, (в среднем) быстрее продаются небольшие квартиры с недорогим квадратным метром."
   ]
  },
  {
   "cell_type": "markdown",
   "metadata": {},
   "source": [
    "Посмотрим, в каком году квартиры продавались быстрее всего. "
   ]
  },
  {
   "cell_type": "code",
   "execution_count": 152,
   "metadata": {},
   "outputs": [
    {
     "data": {
      "text/html": [
       "<div>\n",
       "<style scoped>\n",
       "    .dataframe tbody tr th:only-of-type {\n",
       "        vertical-align: middle;\n",
       "    }\n",
       "\n",
       "    .dataframe tbody tr th {\n",
       "        vertical-align: top;\n",
       "    }\n",
       "\n",
       "    .dataframe thead th {\n",
       "        text-align: right;\n",
       "    }\n",
       "</style>\n",
       "<table border=\"1\" class=\"dataframe\">\n",
       "  <thead>\n",
       "    <tr style=\"text-align: right;\">\n",
       "      <th></th>\n",
       "      <th>days_exposition</th>\n",
       "    </tr>\n",
       "    <tr>\n",
       "      <th>year_exposition</th>\n",
       "      <th></th>\n",
       "    </tr>\n",
       "  </thead>\n",
       "  <tbody>\n",
       "    <tr>\n",
       "      <th>2014</th>\n",
       "      <td>910.98</td>\n",
       "    </tr>\n",
       "    <tr>\n",
       "      <th>2015</th>\n",
       "      <td>648.04</td>\n",
       "    </tr>\n",
       "    <tr>\n",
       "      <th>2016</th>\n",
       "      <td>320.75</td>\n",
       "    </tr>\n",
       "    <tr>\n",
       "      <th>2017</th>\n",
       "      <td>158.96</td>\n",
       "    </tr>\n",
       "    <tr>\n",
       "      <th>2018</th>\n",
       "      <td>94.34</td>\n",
       "    </tr>\n",
       "    <tr>\n",
       "      <th>2019</th>\n",
       "      <td>30.93</td>\n",
       "    </tr>\n",
       "  </tbody>\n",
       "</table>\n",
       "</div>"
      ],
      "text/plain": [
       "                 days_exposition\n",
       "year_exposition                 \n",
       "2014                      910.98\n",
       "2015                      648.04\n",
       "2016                      320.75\n",
       "2017                      158.96\n",
       "2018                       94.34\n",
       "2019                       30.93"
      ]
     },
     "execution_count": 152,
     "metadata": {},
     "output_type": "execute_result"
    }
   ],
   "source": [
    "data.pivot_table(index='year_exposition', values='days_exposition', aggfunc='mean').sort_values(by='days_exposition', ascending=False)"
   ]
  },
  {
   "cell_type": "markdown",
   "metadata": {},
   "source": [
    "По данным этой сводной таблицы квартиры год от года продаются всё быстрее и быстрее, и за шесть лет скорость продажи квартир увеличилась в 30 раз. Возможно, это связано с тем, что ранее к сервису обращались только в том случае, если недвижимость было не продать другими способами, и сервис был развит мало (к тому же мы ранее видели, что статистика за 2014 год собирается только с ноября, а в 2019 году - только по май). Посмотрим, сколько объявлений (как с указанным количеством дней размещения, так и без этих данных) было на сервисе в каком году. "
   ]
  },
  {
   "cell_type": "code",
   "execution_count": 153,
   "metadata": {},
   "outputs": [
    {
     "data": {
      "text/html": [
       "<div>\n",
       "<style scoped>\n",
       "    .dataframe tbody tr th:only-of-type {\n",
       "        vertical-align: middle;\n",
       "    }\n",
       "\n",
       "    .dataframe tbody tr th {\n",
       "        vertical-align: top;\n",
       "    }\n",
       "\n",
       "    .dataframe thead th {\n",
       "        text-align: right;\n",
       "    }\n",
       "</style>\n",
       "<table border=\"1\" class=\"dataframe\">\n",
       "  <thead>\n",
       "    <tr style=\"text-align: right;\">\n",
       "      <th></th>\n",
       "      <th>with_days_exposition_data</th>\n",
       "      <th>without_days_exposition_data</th>\n",
       "    </tr>\n",
       "    <tr>\n",
       "      <th>year_exposition</th>\n",
       "      <th></th>\n",
       "      <th></th>\n",
       "    </tr>\n",
       "  </thead>\n",
       "  <tbody>\n",
       "    <tr>\n",
       "      <th>2019</th>\n",
       "      <td>1083</td>\n",
       "      <td>2879</td>\n",
       "    </tr>\n",
       "    <tr>\n",
       "      <th>2018</th>\n",
       "      <td>7560</td>\n",
       "      <td>8519</td>\n",
       "    </tr>\n",
       "    <tr>\n",
       "      <th>2017</th>\n",
       "      <td>7919</td>\n",
       "      <td>8190</td>\n",
       "    </tr>\n",
       "    <tr>\n",
       "      <th>2016</th>\n",
       "      <td>2716</td>\n",
       "      <td>2783</td>\n",
       "    </tr>\n",
       "    <tr>\n",
       "      <th>2015</th>\n",
       "      <td>1121</td>\n",
       "      <td>1191</td>\n",
       "    </tr>\n",
       "    <tr>\n",
       "      <th>2014</th>\n",
       "      <td>119</td>\n",
       "      <td>137</td>\n",
       "    </tr>\n",
       "  </tbody>\n",
       "</table>\n",
       "</div>"
      ],
      "text/plain": [
       "                 with_days_exposition_data  without_days_exposition_data\n",
       "year_exposition                                                         \n",
       "2019                                  1083                          2879\n",
       "2018                                  7560                          8519\n",
       "2017                                  7919                          8190\n",
       "2016                                  2716                          2783\n",
       "2015                                  1121                          1191\n",
       "2014                                   119                           137"
      ]
     },
     "execution_count": 153,
     "metadata": {},
     "output_type": "execute_result"
    }
   ],
   "source": [
    "days_pivot=data.pivot_table(index='year_exposition', values=['month_exposition', 'days_exposition'], aggfunc='count').sort_values(by='year_exposition', ascending=False)\n",
    "days_pivot.columns=['with_days_exposition_data', 'without_days_exposition_data']\n",
    "days_pivot"
   ]
  },
  {
   "cell_type": "markdown",
   "metadata": {},
   "source": [
    "###   Вывод: \n",
    "- судя по средним данным, быстрее продаются меньшие по площади, более дешевые квартиры (как по общей цене, так и по цене за квадратный метр), \n",
    "- прямой линейной зависимости между этими факторами (по-отдельности) и скоростью продажи квартиры не обнаружено. "
   ]
  },
  {
   "cell_type": "markdown",
   "metadata": {},
   "source": [
    "## Редкие и выбивающиеся значения"
   ]
  },
  {
   "cell_type": "markdown",
   "metadata": {},
   "source": [
    "Когда мы рассматривали цену квартиры, мы нашли квартиру за 12 тысяч рублей с неподобающей этой цене площадью и расположением в Санкт-Петербурге. Очевидно, что данная запись некорректна, и этот выброс следует удалить. "
   ]
  },
  {
   "cell_type": "code",
   "execution_count": 154,
   "metadata": {},
   "outputs": [
    {
     "data": {
      "text/plain": [
       "23698"
      ]
     },
     "execution_count": 154,
     "metadata": {},
     "output_type": "execute_result"
    }
   ],
   "source": [
    "data=data.query('last_price_thousand>12.2')\n",
    "len(data)"
   ]
  },
  {
   "cell_type": "markdown",
   "metadata": {},
   "source": [
    "Данная строка удалена, записей стало на 1 меньше. "
   ]
  },
  {
   "cell_type": "markdown",
   "metadata": {},
   "source": [
    "Изучая данные о высоте потолков, мы нашли потолок высотой 100 метров. Посмотрим, какие еще есть потолки. "
   ]
  },
  {
   "cell_type": "code",
   "execution_count": 155,
   "metadata": {},
   "outputs": [
    {
     "data": {
      "text/html": [
       "<div>\n",
       "<style scoped>\n",
       "    .dataframe tbody tr th:only-of-type {\n",
       "        vertical-align: middle;\n",
       "    }\n",
       "\n",
       "    .dataframe tbody tr th {\n",
       "        vertical-align: top;\n",
       "    }\n",
       "\n",
       "    .dataframe thead th {\n",
       "        text-align: right;\n",
       "    }\n",
       "</style>\n",
       "<table border=\"1\" class=\"dataframe\">\n",
       "  <thead>\n",
       "    <tr style=\"text-align: right;\">\n",
       "      <th></th>\n",
       "      <th>total_area</th>\n",
       "    </tr>\n",
       "    <tr>\n",
       "      <th>ceiling_height</th>\n",
       "      <th></th>\n",
       "    </tr>\n",
       "  </thead>\n",
       "  <tbody>\n",
       "    <tr>\n",
       "      <th>100.00</th>\n",
       "      <td>1</td>\n",
       "    </tr>\n",
       "    <tr>\n",
       "      <th>32.00</th>\n",
       "      <td>2</td>\n",
       "    </tr>\n",
       "    <tr>\n",
       "      <th>27.50</th>\n",
       "      <td>1</td>\n",
       "    </tr>\n",
       "    <tr>\n",
       "      <th>27.00</th>\n",
       "      <td>8</td>\n",
       "    </tr>\n",
       "    <tr>\n",
       "      <th>26.00</th>\n",
       "      <td>1</td>\n",
       "    </tr>\n",
       "    <tr>\n",
       "      <th>25.00</th>\n",
       "      <td>7</td>\n",
       "    </tr>\n",
       "    <tr>\n",
       "      <th>24.00</th>\n",
       "      <td>1</td>\n",
       "    </tr>\n",
       "    <tr>\n",
       "      <th>22.60</th>\n",
       "      <td>1</td>\n",
       "    </tr>\n",
       "    <tr>\n",
       "      <th>20.00</th>\n",
       "      <td>1</td>\n",
       "    </tr>\n",
       "    <tr>\n",
       "      <th>14.00</th>\n",
       "      <td>1</td>\n",
       "    </tr>\n",
       "  </tbody>\n",
       "</table>\n",
       "</div>"
      ],
      "text/plain": [
       "                total_area\n",
       "ceiling_height            \n",
       "100.00                   1\n",
       "32.00                    2\n",
       "27.50                    1\n",
       "27.00                    8\n",
       "26.00                    1\n",
       "25.00                    7\n",
       "24.00                    1\n",
       "22.60                    1\n",
       "20.00                    1\n",
       "14.00                    1"
      ]
     },
     "execution_count": 155,
     "metadata": {},
     "output_type": "execute_result"
    }
   ],
   "source": [
    "data_pivot_ceiling_height=data.pivot_table(index='ceiling_height', values='total_area', aggfunc='count')\n",
    "data_pivot_ceiling_height.sort_values(by='ceiling_height', ascending=False).head(10)"
   ]
  },
  {
   "cell_type": "markdown",
   "metadata": {},
   "source": [
    "Потолок в 100 метров есть только в одной квартире. 100 метров - это высота 30-этажного здания. "
   ]
  },
  {
   "cell_type": "code",
   "execution_count": 156,
   "metadata": {
    "scrolled": true
   },
   "outputs": [
    {
     "data": {
      "text/html": [
       "<div>\n",
       "<style scoped>\n",
       "    .dataframe tbody tr th:only-of-type {\n",
       "        vertical-align: middle;\n",
       "    }\n",
       "\n",
       "    .dataframe tbody tr th {\n",
       "        vertical-align: top;\n",
       "    }\n",
       "\n",
       "    .dataframe thead th {\n",
       "        text-align: right;\n",
       "    }\n",
       "</style>\n",
       "<table border=\"1\" class=\"dataframe\">\n",
       "  <thead>\n",
       "    <tr style=\"text-align: right;\">\n",
       "      <th></th>\n",
       "      <th>total_images</th>\n",
       "      <th>last_price</th>\n",
       "      <th>total_area</th>\n",
       "      <th>first_day_exposition</th>\n",
       "      <th>rooms</th>\n",
       "      <th>ceiling_height</th>\n",
       "      <th>floors_total</th>\n",
       "      <th>living_area</th>\n",
       "      <th>floor</th>\n",
       "      <th>is_apartment</th>\n",
       "      <th>studio</th>\n",
       "      <th>open_plan</th>\n",
       "      <th>kitchen_area</th>\n",
       "      <th>balcony</th>\n",
       "      <th>locality_name</th>\n",
       "      <th>airports_nearest</th>\n",
       "      <th>cityCenters_nearest</th>\n",
       "      <th>parks_around3000</th>\n",
       "      <th>parks_nearest</th>\n",
       "      <th>ponds_around3000</th>\n",
       "      <th>ponds_nearest</th>\n",
       "      <th>days_exposition</th>\n",
       "      <th>living_area_ratio</th>\n",
       "      <th>kitchen_area_ratio</th>\n",
       "      <th>square_meter_price</th>\n",
       "      <th>weekday_exposition</th>\n",
       "      <th>month_exposition</th>\n",
       "      <th>year_exposition</th>\n",
       "      <th>floor_category</th>\n",
       "      <th>floor_category_id</th>\n",
       "      <th>last_price_thousand</th>\n",
       "    </tr>\n",
       "  </thead>\n",
       "  <tbody>\n",
       "    <tr>\n",
       "      <th>22869</th>\n",
       "      <td>0</td>\n",
       "      <td>15000000.00</td>\n",
       "      <td>25.00</td>\n",
       "      <td>2018-07-25</td>\n",
       "      <td>1</td>\n",
       "      <td>100.00</td>\n",
       "      <td>5</td>\n",
       "      <td>14.00</td>\n",
       "      <td>5</td>\n",
       "      <td>True</td>\n",
       "      <td>False</td>\n",
       "      <td>False</td>\n",
       "      <td>11.00</td>\n",
       "      <td>5</td>\n",
       "      <td>Санкт-Петербург</td>\n",
       "      <td>34963.00</td>\n",
       "      <td>8283.00</td>\n",
       "      <td>1</td>\n",
       "      <td>223.00</td>\n",
       "      <td>3</td>\n",
       "      <td>30.00</td>\n",
       "      <td>19.00</td>\n",
       "      <td>0.56</td>\n",
       "      <td>0.44</td>\n",
       "      <td>600000.00</td>\n",
       "      <td>2</td>\n",
       "      <td>7</td>\n",
       "      <td>2018</td>\n",
       "      <td>последний этаж</td>\n",
       "      <td>3</td>\n",
       "      <td>15000.00</td>\n",
       "    </tr>\n",
       "  </tbody>\n",
       "</table>\n",
       "</div>"
      ],
      "text/plain": [
       "       total_images  last_price  total_area first_day_exposition  rooms  \\\n",
       "22869             0 15000000.00       25.00           2018-07-25      1   \n",
       "\n",
       "       ceiling_height  floors_total  living_area  floor  is_apartment  studio  \\\n",
       "22869          100.00             5        14.00      5          True   False   \n",
       "\n",
       "       open_plan  kitchen_area  balcony    locality_name  airports_nearest  \\\n",
       "22869      False         11.00        5  Санкт-Петербург          34963.00   \n",
       "\n",
       "       cityCenters_nearest  parks_around3000  parks_nearest  ponds_around3000  \\\n",
       "22869              8283.00                 1         223.00                 3   \n",
       "\n",
       "       ponds_nearest  days_exposition  living_area_ratio  kitchen_area_ratio  \\\n",
       "22869          30.00            19.00               0.56                0.44   \n",
       "\n",
       "       square_meter_price  weekday_exposition  month_exposition  \\\n",
       "22869           600000.00                   2                 7   \n",
       "\n",
       "       year_exposition  floor_category  floor_category_id  last_price_thousand  \n",
       "22869             2018  последний этаж                  3             15000.00  "
      ]
     },
     "execution_count": 156,
     "metadata": {},
     "output_type": "execute_result"
    }
   ],
   "source": [
    "data.query('ceiling_height==100.0')"
   ]
  },
  {
   "cell_type": "markdown",
   "metadata": {},
   "source": [
    "Апартаменты в СПб общей площадью 25 кв на 5 этаже 5-этажного дома в 8 км от центра города возле прудов и парка по цене 600 тыс.рублей за квадратный метр и общей ценой 15 млн. рублей. Всё может быть кроме высоты потолков в 100 метров. Близко к центру города даже зданий такой высоты нет. "
   ]
  },
  {
   "cell_type": "markdown",
   "metadata": {},
   "source": [
    "Удалим строки с высотой потолка более 20 метров."
   ]
  },
  {
   "cell_type": "code",
   "execution_count": 157,
   "metadata": {},
   "outputs": [],
   "source": [
    "data = data.loc[(data['ceiling_height']<20)]"
   ]
  },
  {
   "cell_type": "code",
   "execution_count": 158,
   "metadata": {},
   "outputs": [
    {
     "data": {
      "text/plain": [
       "23675"
      ]
     },
     "execution_count": 158,
     "metadata": {},
     "output_type": "execute_result"
    }
   ],
   "source": [
    "len(data)"
   ]
  },
  {
   "cell_type": "markdown",
   "metadata": {},
   "source": [
    "### Факторы, больше всего влияющие на стоимость квартиры"
   ]
  },
  {
   "cell_type": "markdown",
   "metadata": {},
   "source": [
    "Изучим, зависит ли цена \n",
    "- от площади, \n",
    "- числа комнат, \n",
    "- удалённости от центра, \n",
    "- от того, на каком этаже расположена квартира: первом, последнем или другом, \n",
    "- от даты размещения: дня недели, месяца и года."
   ]
  },
  {
   "cell_type": "markdown",
   "metadata": {},
   "source": [
    "#### Взаимосвязь общей цены и общей площади квартиры. "
   ]
  },
  {
   "cell_type": "code",
   "execution_count": 159,
   "metadata": {},
   "outputs": [
    {
     "data": {
      "text/plain": [
       "<AxesSubplot:xlabel='total_area', ylabel='last_price_thousand'>"
      ]
     },
     "execution_count": 159,
     "metadata": {},
     "output_type": "execute_result"
    },
    {
     "data": {
      "image/png": "[encoded data removed]",
      "text/plain": [
       "<Figure size 432x288 with 1 Axes>"
      ]
     },
     "metadata": {
      "needs_background": "light"
     },
     "output_type": "display_data"
    }
   ],
   "source": [
    "data.plot(x='total_area', y='last_price_thousand', kind='scatter')"
   ]
  },
  {
   "cell_type": "markdown",
   "metadata": {},
   "source": [
    "Квартиры разного метража продаются по схожей цене. "
   ]
  },
  {
   "cell_type": "code",
   "execution_count": 160,
   "metadata": {},
   "outputs": [
    {
     "data": {
      "text/plain": [
       "0.653837549056574"
      ]
     },
     "execution_count": 160,
     "metadata": {},
     "output_type": "execute_result"
    }
   ],
   "source": [
    "data['total_area'].corr(data['last_price_thousand'])"
   ]
  },
  {
   "cell_type": "markdown",
   "metadata": {},
   "source": [
    "Коэффициент корреляции гораздо больше нуля, чем в предыдущих случаях, но всё же ближе к 0.5, чем к 1. Это средняя линейная зависимость. "
   ]
  },
  {
   "cell_type": "markdown",
   "metadata": {},
   "source": [
    "####  Взаимосвязь цены квадратного метра и общей площади квартиры. "
   ]
  },
  {
   "cell_type": "code",
   "execution_count": 161,
   "metadata": {},
   "outputs": [
    {
     "data": {
      "text/plain": [
       "<AxesSubplot:xlabel='total_area', ylabel='square_meter_price'>"
      ]
     },
     "execution_count": 161,
     "metadata": {},
     "output_type": "execute_result"
    },
    {
     "data": {
      "image/png": "[encoded data removed]",
      "text/plain": [
       "<Figure size 432x288 with 1 Axes>"
      ]
     },
     "metadata": {
      "needs_background": "light"
     },
     "output_type": "display_data"
    }
   ],
   "source": [
    "data.plot(x='total_area', y='square_meter_price', kind='scatter')"
   ]
  },
  {
   "cell_type": "code",
   "execution_count": 162,
   "metadata": {},
   "outputs": [
    {
     "data": {
      "text/plain": [
       "0.30333687524166925"
      ]
     },
     "execution_count": 162,
     "metadata": {},
     "output_type": "execute_result"
    }
   ],
   "source": [
    "data['total_area'].corr(data['square_meter_price'])"
   ]
  },
  {
   "cell_type": "markdown",
   "metadata": {},
   "source": [
    "Линейная зависимость слабая. "
   ]
  },
  {
   "cell_type": "markdown",
   "metadata": {},
   "source": [
    "#### Взаимосвязь общей цены и числа комнат"
   ]
  },
  {
   "cell_type": "code",
   "execution_count": 163,
   "metadata": {},
   "outputs": [
    {
     "data": {
      "text/plain": [
       "<AxesSubplot:xlabel='rooms', ylabel='last_price_thousand'>"
      ]
     },
     "execution_count": 163,
     "metadata": {},
     "output_type": "execute_result"
    },
    {
     "data": {
      "image/png": "[encoded data removed]",
      "text/plain": [
       "<Figure size 432x288 with 1 Axes>"
      ]
     },
     "metadata": {
      "needs_background": "light"
     },
     "output_type": "display_data"
    }
   ],
   "source": [
    "data.plot(x='rooms', y='last_price_thousand', kind='scatter')"
   ]
  },
  {
   "cell_type": "code",
   "execution_count": 164,
   "metadata": {},
   "outputs": [
    {
     "data": {
      "text/plain": [
       "0.36348307715760264"
      ]
     },
     "execution_count": 164,
     "metadata": {},
     "output_type": "execute_result"
    }
   ],
   "source": [
    "data['last_price'].corr(data['rooms'])"
   ]
  },
  {
   "cell_type": "markdown",
   "metadata": {},
   "source": [
    "Линейная зависимость незначительная, слабая. Квартиры с одним и тем же количеством комнат продаются по разной цене. "
   ]
  },
  {
   "cell_type": "markdown",
   "metadata": {},
   "source": [
    "#### Взаимосвязь цены квадратного метра и числа комнат."
   ]
  },
  {
   "cell_type": "code",
   "execution_count": 165,
   "metadata": {},
   "outputs": [
    {
     "data": {
      "text/plain": [
       "<AxesSubplot:xlabel='rooms', ylabel='square_meter_price'>"
      ]
     },
     "execution_count": 165,
     "metadata": {},
     "output_type": "execute_result"
    },
    {
     "data": {
      "image/png": "[encoded data removed]",
      "text/plain": [
       "<Figure size 432x288 with 1 Axes>"
      ]
     },
     "metadata": {
      "needs_background": "light"
     },
     "output_type": "display_data"
    }
   ],
   "source": [
    "data.plot(x='rooms', y='square_meter_price', kind='scatter')"
   ]
  },
  {
   "cell_type": "code",
   "execution_count": 166,
   "metadata": {},
   "outputs": [
    {
     "data": {
      "text/plain": [
       "0.05620516832834238"
      ]
     },
     "execution_count": 166,
     "metadata": {},
     "output_type": "execute_result"
    }
   ],
   "source": [
    "data['square_meter_price'].corr(data['rooms'])"
   ]
  },
  {
   "cell_type": "code",
   "execution_count": 167,
   "metadata": {},
   "outputs": [
    {
     "data": {
      "text/html": [
       "<div>\n",
       "<style scoped>\n",
       "    .dataframe tbody tr th:only-of-type {\n",
       "        vertical-align: middle;\n",
       "    }\n",
       "\n",
       "    .dataframe tbody tr th {\n",
       "        vertical-align: top;\n",
       "    }\n",
       "\n",
       "    .dataframe thead th {\n",
       "        text-align: right;\n",
       "    }\n",
       "</style>\n",
       "<table border=\"1\" class=\"dataframe\">\n",
       "  <thead>\n",
       "    <tr style=\"text-align: right;\">\n",
       "      <th></th>\n",
       "      <th>square_meter_price</th>\n",
       "    </tr>\n",
       "    <tr>\n",
       "      <th>rooms</th>\n",
       "      <th></th>\n",
       "    </tr>\n",
       "  </thead>\n",
       "  <tbody>\n",
       "    <tr>\n",
       "      <th>0</th>\n",
       "      <td>108454.51</td>\n",
       "    </tr>\n",
       "    <tr>\n",
       "      <th>1</th>\n",
       "      <td>100753.96</td>\n",
       "    </tr>\n",
       "    <tr>\n",
       "      <th>2</th>\n",
       "      <td>95522.29</td>\n",
       "    </tr>\n",
       "    <tr>\n",
       "      <th>3</th>\n",
       "      <td>97170.79</td>\n",
       "    </tr>\n",
       "    <tr>\n",
       "      <th>4</th>\n",
       "      <td>110390.57</td>\n",
       "    </tr>\n",
       "    <tr>\n",
       "      <th>5</th>\n",
       "      <td>126750.34</td>\n",
       "    </tr>\n",
       "    <tr>\n",
       "      <th>6</th>\n",
       "      <td>140718.81</td>\n",
       "    </tr>\n",
       "    <tr>\n",
       "      <th>7</th>\n",
       "      <td>163569.92</td>\n",
       "    </tr>\n",
       "    <tr>\n",
       "      <th>8</th>\n",
       "      <td>184651.17</td>\n",
       "    </tr>\n",
       "    <tr>\n",
       "      <th>9</th>\n",
       "      <td>105027.15</td>\n",
       "    </tr>\n",
       "    <tr>\n",
       "      <th>10</th>\n",
       "      <td>98009.93</td>\n",
       "    </tr>\n",
       "    <tr>\n",
       "      <th>11</th>\n",
       "      <td>132639.74</td>\n",
       "    </tr>\n",
       "    <tr>\n",
       "      <th>12</th>\n",
       "      <td>466666.67</td>\n",
       "    </tr>\n",
       "    <tr>\n",
       "      <th>14</th>\n",
       "      <td>92827.68</td>\n",
       "    </tr>\n",
       "    <tr>\n",
       "      <th>15</th>\n",
       "      <td>110169.49</td>\n",
       "    </tr>\n",
       "    <tr>\n",
       "      <th>16</th>\n",
       "      <td>105555.56</td>\n",
       "    </tr>\n",
       "    <tr>\n",
       "      <th>19</th>\n",
       "      <td>86091.83</td>\n",
       "    </tr>\n",
       "  </tbody>\n",
       "</table>\n",
       "</div>"
      ],
      "text/plain": [
       "       square_meter_price\n",
       "rooms                    \n",
       "0               108454.51\n",
       "1               100753.96\n",
       "2                95522.29\n",
       "3                97170.79\n",
       "4               110390.57\n",
       "5               126750.34\n",
       "6               140718.81\n",
       "7               163569.92\n",
       "8               184651.17\n",
       "9               105027.15\n",
       "10               98009.93\n",
       "11              132639.74\n",
       "12              466666.67\n",
       "14               92827.68\n",
       "15              110169.49\n",
       "16              105555.56\n",
       "19               86091.83"
      ]
     },
     "execution_count": 167,
     "metadata": {},
     "output_type": "execute_result"
    }
   ],
   "source": [
    "data_pivot_square_meter_price_rooms=data.pivot_table(index='rooms', values='square_meter_price', aggfunc='mean')\n",
    "data_pivot_square_meter_price_rooms.sort_values(by='rooms', ascending=True)"
   ]
  },
  {
   "cell_type": "markdown",
   "metadata": {},
   "source": [
    "Посмотрим на количество квартир в каждой группе количества комнат. С количеством комнат больше 7 - единицы квартир. "
   ]
  },
  {
   "cell_type": "code",
   "execution_count": 168,
   "metadata": {},
   "outputs": [
    {
     "data": {
      "text/html": [
       "<div>\n",
       "<style scoped>\n",
       "    .dataframe tbody tr th:only-of-type {\n",
       "        vertical-align: middle;\n",
       "    }\n",
       "\n",
       "    .dataframe tbody tr th {\n",
       "        vertical-align: top;\n",
       "    }\n",
       "\n",
       "    .dataframe thead th {\n",
       "        text-align: right;\n",
       "    }\n",
       "</style>\n",
       "<table border=\"1\" class=\"dataframe\">\n",
       "  <thead>\n",
       "    <tr style=\"text-align: right;\">\n",
       "      <th></th>\n",
       "      <th>square_meter_price</th>\n",
       "    </tr>\n",
       "    <tr>\n",
       "      <th>rooms</th>\n",
       "      <th></th>\n",
       "    </tr>\n",
       "  </thead>\n",
       "  <tbody>\n",
       "    <tr>\n",
       "      <th>0</th>\n",
       "      <td>196</td>\n",
       "    </tr>\n",
       "    <tr>\n",
       "      <th>1</th>\n",
       "      <td>8041</td>\n",
       "    </tr>\n",
       "    <tr>\n",
       "      <th>2</th>\n",
       "      <td>7928</td>\n",
       "    </tr>\n",
       "    <tr>\n",
       "      <th>3</th>\n",
       "      <td>5810</td>\n",
       "    </tr>\n",
       "    <tr>\n",
       "      <th>4</th>\n",
       "      <td>1179</td>\n",
       "    </tr>\n",
       "    <tr>\n",
       "      <th>5</th>\n",
       "      <td>326</td>\n",
       "    </tr>\n",
       "    <tr>\n",
       "      <th>6</th>\n",
       "      <td>105</td>\n",
       "    </tr>\n",
       "    <tr>\n",
       "      <th>7</th>\n",
       "      <td>59</td>\n",
       "    </tr>\n",
       "    <tr>\n",
       "      <th>8</th>\n",
       "      <td>12</td>\n",
       "    </tr>\n",
       "    <tr>\n",
       "      <th>9</th>\n",
       "      <td>8</td>\n",
       "    </tr>\n",
       "    <tr>\n",
       "      <th>10</th>\n",
       "      <td>3</td>\n",
       "    </tr>\n",
       "    <tr>\n",
       "      <th>11</th>\n",
       "      <td>2</td>\n",
       "    </tr>\n",
       "    <tr>\n",
       "      <th>12</th>\n",
       "      <td>1</td>\n",
       "    </tr>\n",
       "    <tr>\n",
       "      <th>14</th>\n",
       "      <td>2</td>\n",
       "    </tr>\n",
       "    <tr>\n",
       "      <th>15</th>\n",
       "      <td>1</td>\n",
       "    </tr>\n",
       "    <tr>\n",
       "      <th>16</th>\n",
       "      <td>1</td>\n",
       "    </tr>\n",
       "    <tr>\n",
       "      <th>19</th>\n",
       "      <td>1</td>\n",
       "    </tr>\n",
       "  </tbody>\n",
       "</table>\n",
       "</div>"
      ],
      "text/plain": [
       "       square_meter_price\n",
       "rooms                    \n",
       "0                     196\n",
       "1                    8041\n",
       "2                    7928\n",
       "3                    5810\n",
       "4                    1179\n",
       "5                     326\n",
       "6                     105\n",
       "7                      59\n",
       "8                      12\n",
       "9                       8\n",
       "10                      3\n",
       "11                      2\n",
       "12                      1\n",
       "14                      2\n",
       "15                      1\n",
       "16                      1\n",
       "19                      1"
      ]
     },
     "execution_count": 168,
     "metadata": {},
     "output_type": "execute_result"
    }
   ],
   "source": [
    "data_pivot_square_meter_price_rooms=data.pivot_table(index='rooms', values='square_meter_price', aggfunc='count')\n",
    "data_pivot_square_meter_price_rooms.sort_values(by='rooms', ascending=True)"
   ]
  },
  {
   "cell_type": "code",
   "execution_count": 169,
   "metadata": {},
   "outputs": [
    {
     "data": {
      "text/plain": [
       "<AxesSubplot:xlabel='rooms'>"
      ]
     },
     "execution_count": 169,
     "metadata": {},
     "output_type": "execute_result"
    },
    {
     "data": {
      "image/png": "[encoded data removed]",
      "text/plain": [
       "<Figure size 432x288 with 1 Axes>"
      ]
     },
     "metadata": {
      "needs_background": "light"
     },
     "output_type": "display_data"
    }
   ],
   "source": [
    "data_pivot_square_meter_price_rooms.query('rooms<=7').plot()"
   ]
  },
  {
   "cell_type": "markdown",
   "metadata": {},
   "source": [
    "Прямая зависимость отсутствует, но после количества комнат 2 шт., средняя цена квадратного метра начинает падать. "
   ]
  },
  {
   "cell_type": "markdown",
   "metadata": {},
   "source": [
    "5. Взаимосвязь общей цены и удаленности от центра. "
   ]
  },
  {
   "cell_type": "code",
   "execution_count": 170,
   "metadata": {},
   "outputs": [
    {
     "data": {
      "text/plain": [
       "<AxesSubplot:xlabel='cityCenters_nearest', ylabel='last_price_thousand'>"
      ]
     },
     "execution_count": 170,
     "metadata": {},
     "output_type": "execute_result"
    },
    {
     "data": {
      "image/png": "[encoded data removed]",
      "text/plain": [
       "<Figure size 432x288 with 1 Axes>"
      ]
     },
     "metadata": {
      "needs_background": "light"
     },
     "output_type": "display_data"
    }
   ],
   "source": [
    "data.plot(x='cityCenters_nearest', y='last_price_thousand', kind='scatter')"
   ]
  },
  {
   "cell_type": "markdown",
   "metadata": {},
   "source": [
    "Квартиры на одинаковом расстоянии от центра продаются по разной цене. "
   ]
  },
  {
   "cell_type": "code",
   "execution_count": 171,
   "metadata": {},
   "outputs": [
    {
     "data": {
      "text/plain": [
       "-0.20619824048461477"
      ]
     },
     "execution_count": 171,
     "metadata": {},
     "output_type": "execute_result"
    }
   ],
   "source": [
    "data['last_price'].corr(data['cityCenters_nearest'])"
   ]
  },
  {
   "cell_type": "markdown",
   "metadata": {},
   "source": [
    "Чем больше расстояние от центра, тем меньше цена, но зависимость очень слабая. "
   ]
  },
  {
   "cell_type": "markdown",
   "metadata": {},
   "source": [
    "6. Взаимосвязь цены квадратного метра и удаленности от центра. "
   ]
  },
  {
   "cell_type": "code",
   "execution_count": 172,
   "metadata": {},
   "outputs": [
    {
     "data": {
      "text/plain": [
       "<AxesSubplot:xlabel='cityCenters_nearest', ylabel='square_meter_price'>"
      ]
     },
     "execution_count": 172,
     "metadata": {},
     "output_type": "execute_result"
    },
    {
     "data": {
      "image/png": "[encoded data removed]",
      "text/plain": [
       "<Figure size 432x288 with 1 Axes>"
      ]
     },
     "metadata": {
      "needs_background": "light"
     },
     "output_type": "display_data"
    }
   ],
   "source": [
    "data.plot(x='cityCenters_nearest', y='square_meter_price', kind='scatter')"
   ]
  },
  {
   "cell_type": "markdown",
   "metadata": {},
   "source": [
    "Квартиры на разном удалении от центра города могут иметь одну и ту же цену квадратного метра. "
   ]
  },
  {
   "cell_type": "code",
   "execution_count": 173,
   "metadata": {},
   "outputs": [
    {
     "data": {
      "text/plain": [
       "-0.3171438792774142"
      ]
     },
     "execution_count": 173,
     "metadata": {},
     "output_type": "execute_result"
    }
   ],
   "source": [
    "data['square_meter_price'].corr(data['cityCenters_nearest'])"
   ]
  },
  {
   "cell_type": "markdown",
   "metadata": {},
   "source": [
    "В целом, чем больше расстояние от центра, тем меньше цена квадратного метра, но зависимость очень слабая."
   ]
  },
  {
   "cell_type": "markdown",
   "metadata": {},
   "source": [
    "#### Зависимость общей цены от этажа (первый, последний и т.д.)"
   ]
  },
  {
   "cell_type": "code",
   "execution_count": 174,
   "metadata": {},
   "outputs": [
    {
     "data": {
      "text/html": [
       "<div>\n",
       "<style scoped>\n",
       "    .dataframe tbody tr th:only-of-type {\n",
       "        vertical-align: middle;\n",
       "    }\n",
       "\n",
       "    .dataframe tbody tr th {\n",
       "        vertical-align: top;\n",
       "    }\n",
       "\n",
       "    .dataframe thead th {\n",
       "        text-align: right;\n",
       "    }\n",
       "</style>\n",
       "<table border=\"1\" class=\"dataframe\">\n",
       "  <thead>\n",
       "    <tr style=\"text-align: right;\">\n",
       "      <th></th>\n",
       "      <th>last_price_thousand</th>\n",
       "    </tr>\n",
       "    <tr>\n",
       "      <th>floor_category</th>\n",
       "      <th></th>\n",
       "    </tr>\n",
       "  </thead>\n",
       "  <tbody>\n",
       "    <tr>\n",
       "      <th>другой этаж</th>\n",
       "      <td>4850.00</td>\n",
       "    </tr>\n",
       "    <tr>\n",
       "      <th>первый этаж</th>\n",
       "      <td>3900.00</td>\n",
       "    </tr>\n",
       "    <tr>\n",
       "      <th>последний этаж</th>\n",
       "      <td>4300.00</td>\n",
       "    </tr>\n",
       "  </tbody>\n",
       "</table>\n",
       "</div>"
      ],
      "text/plain": [
       "                last_price_thousand\n",
       "floor_category                     \n",
       "другой этаж                 4850.00\n",
       "первый этаж                 3900.00\n",
       "последний этаж              4300.00"
      ]
     },
     "execution_count": 174,
     "metadata": {},
     "output_type": "execute_result"
    }
   ],
   "source": [
    "data_pivot_last_price_thousand_floor_category=data.pivot_table(index='floor_category', values='last_price_thousand', aggfunc='median')\n",
    "data_pivot_last_price_thousand_floor_category.sort_values(by='floor_category', ascending=True)"
   ]
  },
  {
   "cell_type": "markdown",
   "metadata": {},
   "source": [
    "#### Зависимость цены квадратного метра от этажа (первый, последний и т.д.)"
   ]
  },
  {
   "cell_type": "code",
   "execution_count": 175,
   "metadata": {},
   "outputs": [
    {
     "data": {
      "text/html": [
       "<div>\n",
       "<style scoped>\n",
       "    .dataframe tbody tr th:only-of-type {\n",
       "        vertical-align: middle;\n",
       "    }\n",
       "\n",
       "    .dataframe tbody tr th {\n",
       "        vertical-align: top;\n",
       "    }\n",
       "\n",
       "    .dataframe thead th {\n",
       "        text-align: right;\n",
       "    }\n",
       "</style>\n",
       "<table border=\"1\" class=\"dataframe\">\n",
       "  <thead>\n",
       "    <tr style=\"text-align: right;\">\n",
       "      <th></th>\n",
       "      <th>square_meter_price</th>\n",
       "    </tr>\n",
       "    <tr>\n",
       "      <th>floor_category</th>\n",
       "      <th></th>\n",
       "    </tr>\n",
       "  </thead>\n",
       "  <tbody>\n",
       "    <tr>\n",
       "      <th>другой этаж</th>\n",
       "      <td>98305.08</td>\n",
       "    </tr>\n",
       "    <tr>\n",
       "      <th>первый этаж</th>\n",
       "      <td>81296.30</td>\n",
       "    </tr>\n",
       "    <tr>\n",
       "      <th>последний этаж</th>\n",
       "      <td>87671.23</td>\n",
       "    </tr>\n",
       "  </tbody>\n",
       "</table>\n",
       "</div>"
      ],
      "text/plain": [
       "                square_meter_price\n",
       "floor_category                    \n",
       "другой этаж               98305.08\n",
       "первый этаж               81296.30\n",
       "последний этаж            87671.23"
      ]
     },
     "execution_count": 175,
     "metadata": {},
     "output_type": "execute_result"
    }
   ],
   "source": [
    "data_pivot_square_meter_price_floor_category=data.pivot_table(index='floor_category', values='square_meter_price', aggfunc='median')\n",
    "data_pivot_square_meter_price_floor_category.sort_values(by='floor_category', ascending=True)"
   ]
  },
  {
   "cell_type": "markdown",
   "metadata": {},
   "source": [
    "Тот же вывод в отношении цены квадратного метра: он дороже на \"другом\" этаже, чем на первом или последнем. "
   ]
  },
  {
   "cell_type": "markdown",
   "metadata": {},
   "source": [
    "#### Зависимость общей цены от даты размещения (день недели, месяц, год)"
   ]
  },
  {
   "cell_type": "code",
   "execution_count": 176,
   "metadata": {},
   "outputs": [
    {
     "data": {
      "text/html": [
       "<div>\n",
       "<style scoped>\n",
       "    .dataframe tbody tr th:only-of-type {\n",
       "        vertical-align: middle;\n",
       "    }\n",
       "\n",
       "    .dataframe tbody tr th {\n",
       "        vertical-align: top;\n",
       "    }\n",
       "\n",
       "    .dataframe thead th {\n",
       "        text-align: right;\n",
       "    }\n",
       "</style>\n",
       "<table border=\"1\" class=\"dataframe\">\n",
       "  <thead>\n",
       "    <tr style=\"text-align: right;\">\n",
       "      <th></th>\n",
       "      <th>last_price_thousand</th>\n",
       "    </tr>\n",
       "    <tr>\n",
       "      <th>weekday_exposition</th>\n",
       "      <th></th>\n",
       "    </tr>\n",
       "  </thead>\n",
       "  <tbody>\n",
       "    <tr>\n",
       "      <th>1</th>\n",
       "      <td>4725.00</td>\n",
       "    </tr>\n",
       "    <tr>\n",
       "      <th>2</th>\n",
       "      <td>4700.00</td>\n",
       "    </tr>\n",
       "    <tr>\n",
       "      <th>0</th>\n",
       "      <td>4650.00</td>\n",
       "    </tr>\n",
       "    <tr>\n",
       "      <th>3</th>\n",
       "      <td>4650.00</td>\n",
       "    </tr>\n",
       "    <tr>\n",
       "      <th>4</th>\n",
       "      <td>4590.00</td>\n",
       "    </tr>\n",
       "    <tr>\n",
       "      <th>5</th>\n",
       "      <td>4555.00</td>\n",
       "    </tr>\n",
       "    <tr>\n",
       "      <th>6</th>\n",
       "      <td>4550.00</td>\n",
       "    </tr>\n",
       "  </tbody>\n",
       "</table>\n",
       "</div>"
      ],
      "text/plain": [
       "                    last_price_thousand\n",
       "weekday_exposition                     \n",
       "1                               4725.00\n",
       "2                               4700.00\n",
       "0                               4650.00\n",
       "3                               4650.00\n",
       "4                               4590.00\n",
       "5                               4555.00\n",
       "6                               4550.00"
      ]
     },
     "execution_count": 176,
     "metadata": {},
     "output_type": "execute_result"
    }
   ],
   "source": [
    "data_pivot_last_price_weekday=data.pivot_table(index='weekday_exposition', values='last_price_thousand', aggfunc='median')\n",
    "data_pivot_last_price_weekday.sort_values(by='last_price_thousand', ascending=False)"
   ]
  },
  {
   "cell_type": "markdown",
   "metadata": {},
   "source": [
    "Средняя цена примерно одинакова в любой день недели, и коэффициент корреляции отсутствует. "
   ]
  },
  {
   "cell_type": "code",
   "execution_count": 177,
   "metadata": {},
   "outputs": [
    {
     "data": {
      "text/plain": [
       "0.0015233879533670487"
      ]
     },
     "execution_count": 177,
     "metadata": {},
     "output_type": "execute_result"
    }
   ],
   "source": [
    "data['weekday_exposition'].corr(data['last_price_thousand'])"
   ]
  },
  {
   "cell_type": "markdown",
   "metadata": {},
   "source": [
    "То же касается и цены квадратного метра. "
   ]
  },
  {
   "cell_type": "code",
   "execution_count": 178,
   "metadata": {},
   "outputs": [
    {
     "data": {
      "text/html": [
       "<div>\n",
       "<style scoped>\n",
       "    .dataframe tbody tr th:only-of-type {\n",
       "        vertical-align: middle;\n",
       "    }\n",
       "\n",
       "    .dataframe tbody tr th {\n",
       "        vertical-align: top;\n",
       "    }\n",
       "\n",
       "    .dataframe thead th {\n",
       "        text-align: right;\n",
       "    }\n",
       "</style>\n",
       "<table border=\"1\" class=\"dataframe\">\n",
       "  <thead>\n",
       "    <tr style=\"text-align: right;\">\n",
       "      <th></th>\n",
       "      <th>square_meter_price</th>\n",
       "    </tr>\n",
       "    <tr>\n",
       "      <th>weekday_exposition</th>\n",
       "      <th></th>\n",
       "    </tr>\n",
       "  </thead>\n",
       "  <tbody>\n",
       "    <tr>\n",
       "      <th>0</th>\n",
       "      <td>94703.96</td>\n",
       "    </tr>\n",
       "    <tr>\n",
       "      <th>1</th>\n",
       "      <td>95643.13</td>\n",
       "    </tr>\n",
       "    <tr>\n",
       "      <th>2</th>\n",
       "      <td>95462.17</td>\n",
       "    </tr>\n",
       "    <tr>\n",
       "      <th>3</th>\n",
       "      <td>95152.59</td>\n",
       "    </tr>\n",
       "    <tr>\n",
       "      <th>4</th>\n",
       "      <td>94625.00</td>\n",
       "    </tr>\n",
       "    <tr>\n",
       "      <th>5</th>\n",
       "      <td>93545.72</td>\n",
       "    </tr>\n",
       "    <tr>\n",
       "      <th>6</th>\n",
       "      <td>94533.47</td>\n",
       "    </tr>\n",
       "  </tbody>\n",
       "</table>\n",
       "</div>"
      ],
      "text/plain": [
       "                    square_meter_price\n",
       "weekday_exposition                    \n",
       "0                             94703.96\n",
       "1                             95643.13\n",
       "2                             95462.17\n",
       "3                             95152.59\n",
       "4                             94625.00\n",
       "5                             93545.72\n",
       "6                             94533.47"
      ]
     },
     "execution_count": 178,
     "metadata": {},
     "output_type": "execute_result"
    }
   ],
   "source": [
    "data_pivot_square_meter_price_weekday=data.pivot_table(index='weekday_exposition', values='square_meter_price', aggfunc='median')\n",
    "data_pivot_square_meter_price_weekday.sort_values(by='weekday_exposition', ascending=True)"
   ]
  },
  {
   "cell_type": "code",
   "execution_count": 179,
   "metadata": {},
   "outputs": [
    {
     "data": {
      "text/html": [
       "<div>\n",
       "<style scoped>\n",
       "    .dataframe tbody tr th:only-of-type {\n",
       "        vertical-align: middle;\n",
       "    }\n",
       "\n",
       "    .dataframe tbody tr th {\n",
       "        vertical-align: top;\n",
       "    }\n",
       "\n",
       "    .dataframe thead th {\n",
       "        text-align: right;\n",
       "    }\n",
       "</style>\n",
       "<table border=\"1\" class=\"dataframe\">\n",
       "  <thead>\n",
       "    <tr style=\"text-align: right;\">\n",
       "      <th></th>\n",
       "      <th>last_price_thousand</th>\n",
       "    </tr>\n",
       "    <tr>\n",
       "      <th>month_exposition</th>\n",
       "      <th></th>\n",
       "    </tr>\n",
       "  </thead>\n",
       "  <tbody>\n",
       "    <tr>\n",
       "      <th>4</th>\n",
       "      <td>4800.00</td>\n",
       "    </tr>\n",
       "    <tr>\n",
       "      <th>9</th>\n",
       "      <td>4700.00</td>\n",
       "    </tr>\n",
       "    <tr>\n",
       "      <th>11</th>\n",
       "      <td>4700.00</td>\n",
       "    </tr>\n",
       "    <tr>\n",
       "      <th>12</th>\n",
       "      <td>4700.00</td>\n",
       "    </tr>\n",
       "    <tr>\n",
       "      <th>3</th>\n",
       "      <td>4685.00</td>\n",
       "    </tr>\n",
       "    <tr>\n",
       "      <th>2</th>\n",
       "      <td>4650.00</td>\n",
       "    </tr>\n",
       "    <tr>\n",
       "      <th>7</th>\n",
       "      <td>4650.00</td>\n",
       "    </tr>\n",
       "    <tr>\n",
       "      <th>1</th>\n",
       "      <td>4600.00</td>\n",
       "    </tr>\n",
       "    <tr>\n",
       "      <th>10</th>\n",
       "      <td>4572.50</td>\n",
       "    </tr>\n",
       "    <tr>\n",
       "      <th>8</th>\n",
       "      <td>4570.00</td>\n",
       "    </tr>\n",
       "    <tr>\n",
       "      <th>5</th>\n",
       "      <td>4515.00</td>\n",
       "    </tr>\n",
       "    <tr>\n",
       "      <th>6</th>\n",
       "      <td>4400.00</td>\n",
       "    </tr>\n",
       "  </tbody>\n",
       "</table>\n",
       "</div>"
      ],
      "text/plain": [
       "                  last_price_thousand\n",
       "month_exposition                     \n",
       "4                             4800.00\n",
       "9                             4700.00\n",
       "11                            4700.00\n",
       "12                            4700.00\n",
       "3                             4685.00\n",
       "2                             4650.00\n",
       "7                             4650.00\n",
       "1                             4600.00\n",
       "10                            4572.50\n",
       "8                             4570.00\n",
       "5                             4515.00\n",
       "6                             4400.00"
      ]
     },
     "execution_count": 179,
     "metadata": {},
     "output_type": "execute_result"
    }
   ],
   "source": [
    "data_pivot_last_price_month=data.pivot_table(index='month_exposition', values='last_price_thousand', aggfunc='median')\n",
    "data_pivot_last_price_month.sort_values(by='last_price_thousand', ascending=False)"
   ]
  },
  {
   "cell_type": "code",
   "execution_count": 180,
   "metadata": {},
   "outputs": [
    {
     "data": {
      "text/plain": [
       "0.0027904630797668055"
      ]
     },
     "execution_count": 180,
     "metadata": {},
     "output_type": "execute_result"
    }
   ],
   "source": [
    "data['month_exposition'].corr(data['last_price_thousand'])"
   ]
  },
  {
   "cell_type": "code",
   "execution_count": 181,
   "metadata": {
    "scrolled": true
   },
   "outputs": [
    {
     "data": {
      "text/html": [
       "<div>\n",
       "<style scoped>\n",
       "    .dataframe tbody tr th:only-of-type {\n",
       "        vertical-align: middle;\n",
       "    }\n",
       "\n",
       "    .dataframe tbody tr th {\n",
       "        vertical-align: top;\n",
       "    }\n",
       "\n",
       "    .dataframe thead th {\n",
       "        text-align: right;\n",
       "    }\n",
       "</style>\n",
       "<table border=\"1\" class=\"dataframe\">\n",
       "  <thead>\n",
       "    <tr style=\"text-align: right;\">\n",
       "      <th></th>\n",
       "      <th>square_meter_price</th>\n",
       "    </tr>\n",
       "    <tr>\n",
       "      <th>month_exposition</th>\n",
       "      <th></th>\n",
       "    </tr>\n",
       "  </thead>\n",
       "  <tbody>\n",
       "    <tr>\n",
       "      <th>4</th>\n",
       "      <td>96428.57</td>\n",
       "    </tr>\n",
       "    <tr>\n",
       "      <th>8</th>\n",
       "      <td>96052.63</td>\n",
       "    </tr>\n",
       "    <tr>\n",
       "      <th>11</th>\n",
       "      <td>95606.62</td>\n",
       "    </tr>\n",
       "    <tr>\n",
       "      <th>9</th>\n",
       "      <td>95599.69</td>\n",
       "    </tr>\n",
       "    <tr>\n",
       "      <th>3</th>\n",
       "      <td>95516.57</td>\n",
       "    </tr>\n",
       "    <tr>\n",
       "      <th>1</th>\n",
       "      <td>95209.58</td>\n",
       "    </tr>\n",
       "    <tr>\n",
       "      <th>2</th>\n",
       "      <td>95000.00</td>\n",
       "    </tr>\n",
       "    <tr>\n",
       "      <th>7</th>\n",
       "      <td>95000.00</td>\n",
       "    </tr>\n",
       "    <tr>\n",
       "      <th>12</th>\n",
       "      <td>94280.08</td>\n",
       "    </tr>\n",
       "    <tr>\n",
       "      <th>10</th>\n",
       "      <td>94212.56</td>\n",
       "    </tr>\n",
       "    <tr>\n",
       "      <th>5</th>\n",
       "      <td>92857.14</td>\n",
       "    </tr>\n",
       "    <tr>\n",
       "      <th>6</th>\n",
       "      <td>92799.54</td>\n",
       "    </tr>\n",
       "  </tbody>\n",
       "</table>\n",
       "</div>"
      ],
      "text/plain": [
       "                  square_meter_price\n",
       "month_exposition                    \n",
       "4                           96428.57\n",
       "8                           96052.63\n",
       "11                          95606.62\n",
       "9                           95599.69\n",
       "3                           95516.57\n",
       "1                           95209.58\n",
       "2                           95000.00\n",
       "7                           95000.00\n",
       "12                          94280.08\n",
       "10                          94212.56\n",
       "5                           92857.14\n",
       "6                           92799.54"
      ]
     },
     "execution_count": 181,
     "metadata": {},
     "output_type": "execute_result"
    }
   ],
   "source": [
    "data_pivot_square_meter_price_month=data.pivot_table(index='month_exposition', values='square_meter_price', aggfunc='median')\n",
    "data_pivot_square_meter_price_month.sort_values(by='square_meter_price', ascending=False)"
   ]
  },
  {
   "cell_type": "markdown",
   "metadata": {},
   "source": [
    "Зависимость цены от года размещения объявления также отсутствует. "
   ]
  },
  {
   "cell_type": "code",
   "execution_count": 182,
   "metadata": {},
   "outputs": [
    {
     "data": {
      "text/html": [
       "<div>\n",
       "<style scoped>\n",
       "    .dataframe tbody tr th:only-of-type {\n",
       "        vertical-align: middle;\n",
       "    }\n",
       "\n",
       "    .dataframe tbody tr th {\n",
       "        vertical-align: top;\n",
       "    }\n",
       "\n",
       "    .dataframe thead th {\n",
       "        text-align: right;\n",
       "    }\n",
       "</style>\n",
       "<table border=\"1\" class=\"dataframe\">\n",
       "  <thead>\n",
       "    <tr style=\"text-align: right;\">\n",
       "      <th></th>\n",
       "      <th>last_price_thousand</th>\n",
       "    </tr>\n",
       "    <tr>\n",
       "      <th>year_exposition</th>\n",
       "      <th></th>\n",
       "    </tr>\n",
       "  </thead>\n",
       "  <tbody>\n",
       "    <tr>\n",
       "      <th>2014</th>\n",
       "      <td>7700.00</td>\n",
       "    </tr>\n",
       "    <tr>\n",
       "      <th>2015</th>\n",
       "      <td>5350.00</td>\n",
       "    </tr>\n",
       "    <tr>\n",
       "      <th>2019</th>\n",
       "      <td>5050.00</td>\n",
       "    </tr>\n",
       "    <tr>\n",
       "      <th>2016</th>\n",
       "      <td>4550.00</td>\n",
       "    </tr>\n",
       "    <tr>\n",
       "      <th>2018</th>\n",
       "      <td>4550.00</td>\n",
       "    </tr>\n",
       "    <tr>\n",
       "      <th>2017</th>\n",
       "      <td>4500.00</td>\n",
       "    </tr>\n",
       "  </tbody>\n",
       "</table>\n",
       "</div>"
      ],
      "text/plain": [
       "                 last_price_thousand\n",
       "year_exposition                     \n",
       "2014                         7700.00\n",
       "2015                         5350.00\n",
       "2019                         5050.00\n",
       "2016                         4550.00\n",
       "2018                         4550.00\n",
       "2017                         4500.00"
      ]
     },
     "execution_count": 182,
     "metadata": {},
     "output_type": "execute_result"
    }
   ],
   "source": [
    "data_pivot_last_price_year=data.pivot_table(index='year_exposition', values='last_price_thousand', aggfunc='median')\n",
    "data_pivot_last_price_year.sort_values(by='last_price_thousand', ascending=False)"
   ]
  },
  {
   "cell_type": "code",
   "execution_count": 183,
   "metadata": {},
   "outputs": [
    {
     "data": {
      "text/plain": [
       "-0.04307230591906564"
      ]
     },
     "execution_count": 183,
     "metadata": {},
     "output_type": "execute_result"
    }
   ],
   "source": [
    "data['last_price_thousand'].corr(data['year_exposition'])"
   ]
  },
  {
   "cell_type": "code",
   "execution_count": 184,
   "metadata": {},
   "outputs": [
    {
     "data": {
      "text/html": [
       "<div>\n",
       "<style scoped>\n",
       "    .dataframe tbody tr th:only-of-type {\n",
       "        vertical-align: middle;\n",
       "    }\n",
       "\n",
       "    .dataframe tbody tr th {\n",
       "        vertical-align: top;\n",
       "    }\n",
       "\n",
       "    .dataframe thead th {\n",
       "        text-align: right;\n",
       "    }\n",
       "</style>\n",
       "<table border=\"1\" class=\"dataframe\">\n",
       "  <thead>\n",
       "    <tr style=\"text-align: right;\">\n",
       "      <th></th>\n",
       "      <th>square_meter_price</th>\n",
       "    </tr>\n",
       "    <tr>\n",
       "      <th>year_exposition</th>\n",
       "      <th></th>\n",
       "    </tr>\n",
       "  </thead>\n",
       "  <tbody>\n",
       "    <tr>\n",
       "      <th>2014</th>\n",
       "      <td>107000.00</td>\n",
       "    </tr>\n",
       "    <tr>\n",
       "      <th>2019</th>\n",
       "      <td>103550.30</td>\n",
       "    </tr>\n",
       "    <tr>\n",
       "      <th>2018</th>\n",
       "      <td>95691.72</td>\n",
       "    </tr>\n",
       "    <tr>\n",
       "      <th>2015</th>\n",
       "      <td>93426.07</td>\n",
       "    </tr>\n",
       "    <tr>\n",
       "      <th>2017</th>\n",
       "      <td>92565.09</td>\n",
       "    </tr>\n",
       "    <tr>\n",
       "      <th>2016</th>\n",
       "      <td>91743.12</td>\n",
       "    </tr>\n",
       "  </tbody>\n",
       "</table>\n",
       "</div>"
      ],
      "text/plain": [
       "                 square_meter_price\n",
       "year_exposition                    \n",
       "2014                      107000.00\n",
       "2019                      103550.30\n",
       "2018                       95691.72\n",
       "2015                       93426.07\n",
       "2017                       92565.09\n",
       "2016                       91743.12"
      ]
     },
     "execution_count": 184,
     "metadata": {},
     "output_type": "execute_result"
    }
   ],
   "source": [
    "data_pivot_square_meter_price_year=data.pivot_table(index='year_exposition', values='square_meter_price', aggfunc='median')\n",
    "data_pivot_square_meter_price_year.sort_values(by='square_meter_price', ascending=False)"
   ]
  },
  {
   "cell_type": "code",
   "execution_count": 185,
   "metadata": {},
   "outputs": [
    {
     "data": {
      "text/plain": [
       "0.008571201192138877"
      ]
     },
     "execution_count": 185,
     "metadata": {},
     "output_type": "execute_result"
    }
   ],
   "source": [
    "data['square_meter_price'].corr(data['year_exposition'])"
   ]
  },
  {
   "cell_type": "markdown",
   "metadata": {},
   "source": [
    "Цена квадратного метра была самой высокой в 2014 и 2019 году, а в 2016 - наименьшей, как иллюстрация кризиса на рынке недвижимости в СПб в 2016 году. "
   ]
  },
  {
   "cell_type": "code",
   "execution_count": 186,
   "metadata": {},
   "outputs": [
    {
     "data": {
      "text/plain": [
       "<AxesSubplot:xlabel='year_exposition'>"
      ]
     },
     "execution_count": 186,
     "metadata": {},
     "output_type": "execute_result"
    },
    {
     "data": {
      "image/png": "[encoded data removed]",
      "text/plain": [
       "<Figure size 432x288 with 1 Axes>"
      ]
     },
     "metadata": {
      "needs_background": "light"
     },
     "output_type": "display_data"
    }
   ],
   "source": [
    "data_pivot_square_meter_price_year.plot()"
   ]
  },
  {
   "cell_type": "markdown",
   "metadata": {},
   "source": [
    "#### Зависимость между ценой и ценой квадратного метра: "
   ]
  },
  {
   "cell_type": "code",
   "execution_count": 187,
   "metadata": {},
   "outputs": [
    {
     "data": {
      "text/plain": [
       "0.7378212492022511"
      ]
     },
     "execution_count": 187,
     "metadata": {},
     "output_type": "execute_result"
    }
   ],
   "source": [
    "data['last_price'].corr(data['square_meter_price'])"
   ]
  },
  {
   "cell_type": "markdown",
   "metadata": {},
   "source": [
    "Зависимость между общей ценой и ценой квадратного метра значительная, она прямая. Чем выше цена, тем выше и стоимость одного квадратного метра в квартире. В более дорогих квартирах даже один метр площади дороже. "
   ]
  },
  {
   "cell_type": "markdown",
   "metadata": {},
   "source": [
    "Нашлись факторы, имеющие влияние на цену (цену квадратного метра), но влияние каждого фактора по-отдельности незначительное."
   ]
  },
  {
   "cell_type": "code",
   "execution_count": 188,
   "metadata": {},
   "outputs": [
    {
     "name": "stdout",
     "output_type": "stream",
     "text": [
      "<class 'pandas.core.frame.DataFrame'>\n",
      "Int64Index: 23675 entries, 0 to 23698\n",
      "Data columns (total 4 columns):\n",
      " #   Column               Non-Null Count  Dtype  \n",
      "---  ------               --------------  -----  \n",
      " 0   last_price           23675 non-null  float64\n",
      " 1   total_area           23675 non-null  float64\n",
      " 2   square_meter_price   23675 non-null  float64\n",
      " 3   last_price_thousand  23675 non-null  float64\n",
      "dtypes: float64(4)\n",
      "memory usage: 924.8 KB\n"
     ]
    }
   ],
   "source": [
    "data_for_plotting_scatter=data.copy()\n",
    "data_for_plotting_scatter=data_for_plotting_scatter.drop(\n",
    "    ['total_images', 'first_day_exposition', 'rooms', 'ceiling_height', 'floors_total', \n",
    "     'living_area', 'floor', 'is_apartment', 'studio', 'open_plan', 'kitchen_area', 'balcony', \n",
    "     'locality_name', 'airports_nearest', 'parks_around3000', 'parks_nearest', 'ponds_around3000', \n",
    "     'ponds_nearest', 'days_exposition', 'living_area_ratio', 'kitchen_area_ratio', \n",
    "     'weekday_exposition', 'month_exposition', 'year_exposition', 'floor_category', \n",
    "     'floor_category_id', 'cityCenters_nearest'], axis=1\n",
    ")\n",
    "data_for_plotting_scatter.info()"
   ]
  },
  {
   "cell_type": "code",
   "execution_count": 189,
   "metadata": {},
   "outputs": [
    {
     "name": "stdout",
     "output_type": "stream",
     "text": [
      "\n"
     ]
    },
    {
     "data": {
      "image/png": "[encoded data removed]",
      "text/plain": [
       "<Figure size 648x648 with 16 Axes>"
      ]
     },
     "metadata": {
      "needs_background": "light"
     },
     "output_type": "display_data"
    }
   ],
   "source": [
    "pd.plotting.scatter_matrix(data_for_plotting_scatter, figsize=(9, 9)) \n",
    "print()"
   ]
  },
  {
   "cell_type": "markdown",
   "metadata": {},
   "source": [
    "### Топ-10 населённых пунктов с наибольшим числом объявлений"
   ]
  },
  {
   "cell_type": "markdown",
   "metadata": {},
   "source": [
    "Рассмотрим 10 населённых пунктов с наибольшим числом объявлений, получим названия этих населенных пунктов в виде списка. "
   ]
  },
  {
   "cell_type": "code",
   "execution_count": 190,
   "metadata": {},
   "outputs": [
    {
     "data": {
      "text/html": [
       "<div>\n",
       "<style scoped>\n",
       "    .dataframe tbody tr th:only-of-type {\n",
       "        vertical-align: middle;\n",
       "    }\n",
       "\n",
       "    .dataframe tbody tr th {\n",
       "        vertical-align: top;\n",
       "    }\n",
       "\n",
       "    .dataframe thead th {\n",
       "        text-align: right;\n",
       "    }\n",
       "</style>\n",
       "<table border=\"1\" class=\"dataframe\">\n",
       "  <thead>\n",
       "    <tr style=\"text-align: right;\">\n",
       "      <th></th>\n",
       "      <th>sales_quantity</th>\n",
       "    </tr>\n",
       "    <tr>\n",
       "      <th>locality_name</th>\n",
       "      <th></th>\n",
       "    </tr>\n",
       "  </thead>\n",
       "  <tbody>\n",
       "    <tr>\n",
       "      <th>Санкт-Петербург</th>\n",
       "      <td>15756</td>\n",
       "    </tr>\n",
       "    <tr>\n",
       "      <th>поселок Мурино</th>\n",
       "      <td>554</td>\n",
       "    </tr>\n",
       "    <tr>\n",
       "      <th>поселок Шушары</th>\n",
       "      <td>440</td>\n",
       "    </tr>\n",
       "    <tr>\n",
       "      <th>Всеволожск</th>\n",
       "      <td>398</td>\n",
       "    </tr>\n",
       "    <tr>\n",
       "      <th>Пушкин</th>\n",
       "      <td>369</td>\n",
       "    </tr>\n",
       "    <tr>\n",
       "      <th>Колпино</th>\n",
       "      <td>338</td>\n",
       "    </tr>\n",
       "    <tr>\n",
       "      <th>поселок Парголово</th>\n",
       "      <td>327</td>\n",
       "    </tr>\n",
       "    <tr>\n",
       "      <th>Гатчина</th>\n",
       "      <td>306</td>\n",
       "    </tr>\n",
       "    <tr>\n",
       "      <th>деревня Кудрово</th>\n",
       "      <td>299</td>\n",
       "    </tr>\n",
       "    <tr>\n",
       "      <th>Выборг</th>\n",
       "      <td>237</td>\n",
       "    </tr>\n",
       "  </tbody>\n",
       "</table>\n",
       "</div>"
      ],
      "text/plain": [
       "                   sales_quantity\n",
       "locality_name                    \n",
       "Санкт-Петербург             15756\n",
       "поселок Мурино                554\n",
       "поселок Шушары                440\n",
       "Всеволожск                    398\n",
       "Пушкин                        369\n",
       "Колпино                       338\n",
       "поселок Парголово             327\n",
       "Гатчина                       306\n",
       "деревня Кудрово               299\n",
       "Выборг                        237"
      ]
     },
     "execution_count": 190,
     "metadata": {},
     "output_type": "execute_result"
    }
   ],
   "source": [
    "locality_pivot=data.pivot_table(index='locality_name', values='total_area', aggfunc='count')\n",
    "locality_pivot.columns=['sales_quantity']\n",
    "locality_pivot_top=locality_pivot.sort_values(by='sales_quantity', ascending=False).head(10)\n",
    "locality_pivot_top"
   ]
  },
  {
   "cell_type": "code",
   "execution_count": 191,
   "metadata": {},
   "outputs": [
    {
     "data": {
      "text/plain": [
       "0.7378212492022511"
      ]
     },
     "execution_count": 191,
     "metadata": {},
     "output_type": "execute_result"
    }
   ],
   "source": [
    "data['last_price'].corr(data['square_meter_price'])"
   ]
  },
  {
   "cell_type": "code",
   "execution_count": 192,
   "metadata": {},
   "outputs": [
    {
     "data": {
      "text/plain": [
       "['Санкт-Петербург',\n",
       " 'поселок Мурино',\n",
       " 'поселок Шушары',\n",
       " 'Всеволожск',\n",
       " 'Пушкин',\n",
       " 'Колпино',\n",
       " 'поселок Парголово',\n",
       " 'Гатчина',\n",
       " 'деревня Кудрово',\n",
       " 'Выборг']"
      ]
     },
     "execution_count": 192,
     "metadata": {},
     "output_type": "execute_result"
    }
   ],
   "source": [
    "top_ten_localities_list=locality_pivot_top.index.unique().tolist()\n",
    "top_ten_localities_list"
   ]
  },
  {
   "cell_type": "markdown",
   "metadata": {},
   "source": [
    "Выделим все записи из data, населенные пункты которых содержатся в найденном нами \"Топ-10\""
   ]
  },
  {
   "cell_type": "code",
   "execution_count": 193,
   "metadata": {},
   "outputs": [
    {
     "data": {
      "text/plain": [
       "(19024, 31)"
      ]
     },
     "metadata": {},
     "output_type": "display_data"
    },
    {
     "data": {
      "text/html": [
       "<div>\n",
       "<style scoped>\n",
       "    .dataframe tbody tr th:only-of-type {\n",
       "        vertical-align: middle;\n",
       "    }\n",
       "\n",
       "    .dataframe tbody tr th {\n",
       "        vertical-align: top;\n",
       "    }\n",
       "\n",
       "    .dataframe thead th {\n",
       "        text-align: right;\n",
       "    }\n",
       "</style>\n",
       "<table border=\"1\" class=\"dataframe\">\n",
       "  <thead>\n",
       "    <tr style=\"text-align: right;\">\n",
       "      <th></th>\n",
       "      <th>total_images</th>\n",
       "      <th>last_price</th>\n",
       "      <th>total_area</th>\n",
       "      <th>first_day_exposition</th>\n",
       "      <th>rooms</th>\n",
       "      <th>ceiling_height</th>\n",
       "      <th>floors_total</th>\n",
       "      <th>living_area</th>\n",
       "      <th>floor</th>\n",
       "      <th>is_apartment</th>\n",
       "      <th>studio</th>\n",
       "      <th>open_plan</th>\n",
       "      <th>kitchen_area</th>\n",
       "      <th>balcony</th>\n",
       "      <th>locality_name</th>\n",
       "      <th>airports_nearest</th>\n",
       "      <th>cityCenters_nearest</th>\n",
       "      <th>parks_around3000</th>\n",
       "      <th>parks_nearest</th>\n",
       "      <th>ponds_around3000</th>\n",
       "      <th>ponds_nearest</th>\n",
       "      <th>days_exposition</th>\n",
       "      <th>living_area_ratio</th>\n",
       "      <th>kitchen_area_ratio</th>\n",
       "      <th>square_meter_price</th>\n",
       "      <th>weekday_exposition</th>\n",
       "      <th>month_exposition</th>\n",
       "      <th>year_exposition</th>\n",
       "      <th>floor_category</th>\n",
       "      <th>floor_category_id</th>\n",
       "      <th>last_price_thousand</th>\n",
       "    </tr>\n",
       "  </thead>\n",
       "  <tbody>\n",
       "    <tr>\n",
       "      <th>0</th>\n",
       "      <td>20</td>\n",
       "      <td>13000000.00</td>\n",
       "      <td>108.00</td>\n",
       "      <td>2019-03-07</td>\n",
       "      <td>3</td>\n",
       "      <td>2.70</td>\n",
       "      <td>16</td>\n",
       "      <td>51.00</td>\n",
       "      <td>8</td>\n",
       "      <td>False</td>\n",
       "      <td>False</td>\n",
       "      <td>False</td>\n",
       "      <td>25.00</td>\n",
       "      <td>0</td>\n",
       "      <td>Санкт-Петербург</td>\n",
       "      <td>18863.00</td>\n",
       "      <td>16028.00</td>\n",
       "      <td>1</td>\n",
       "      <td>482.00</td>\n",
       "      <td>2</td>\n",
       "      <td>755.00</td>\n",
       "      <td>NaN</td>\n",
       "      <td>0.47</td>\n",
       "      <td>0.23</td>\n",
       "      <td>120370.37</td>\n",
       "      <td>3</td>\n",
       "      <td>3</td>\n",
       "      <td>2019</td>\n",
       "      <td>другой этаж</td>\n",
       "      <td>2</td>\n",
       "      <td>13000.00</td>\n",
       "    </tr>\n",
       "    <tr>\n",
       "      <th>1</th>\n",
       "      <td>7</td>\n",
       "      <td>3350000.00</td>\n",
       "      <td>40.40</td>\n",
       "      <td>2018-12-04</td>\n",
       "      <td>1</td>\n",
       "      <td>2.65</td>\n",
       "      <td>11</td>\n",
       "      <td>18.60</td>\n",
       "      <td>1</td>\n",
       "      <td>False</td>\n",
       "      <td>False</td>\n",
       "      <td>False</td>\n",
       "      <td>11.00</td>\n",
       "      <td>2</td>\n",
       "      <td>поселок Шушары</td>\n",
       "      <td>12817.00</td>\n",
       "      <td>18603.00</td>\n",
       "      <td>0</td>\n",
       "      <td>NaN</td>\n",
       "      <td>0</td>\n",
       "      <td>NaN</td>\n",
       "      <td>81.00</td>\n",
       "      <td>0.46</td>\n",
       "      <td>0.27</td>\n",
       "      <td>82920.79</td>\n",
       "      <td>1</td>\n",
       "      <td>12</td>\n",
       "      <td>2018</td>\n",
       "      <td>первый этаж</td>\n",
       "      <td>1</td>\n",
       "      <td>3350.00</td>\n",
       "    </tr>\n",
       "    <tr>\n",
       "      <th>2</th>\n",
       "      <td>10</td>\n",
       "      <td>5196000.00</td>\n",
       "      <td>56.00</td>\n",
       "      <td>2015-08-20</td>\n",
       "      <td>2</td>\n",
       "      <td>2.65</td>\n",
       "      <td>5</td>\n",
       "      <td>34.30</td>\n",
       "      <td>4</td>\n",
       "      <td>False</td>\n",
       "      <td>False</td>\n",
       "      <td>False</td>\n",
       "      <td>8.30</td>\n",
       "      <td>0</td>\n",
       "      <td>Санкт-Петербург</td>\n",
       "      <td>21741.00</td>\n",
       "      <td>13933.00</td>\n",
       "      <td>1</td>\n",
       "      <td>90.00</td>\n",
       "      <td>2</td>\n",
       "      <td>574.00</td>\n",
       "      <td>558.00</td>\n",
       "      <td>0.61</td>\n",
       "      <td>0.15</td>\n",
       "      <td>92785.71</td>\n",
       "      <td>3</td>\n",
       "      <td>8</td>\n",
       "      <td>2015</td>\n",
       "      <td>другой этаж</td>\n",
       "      <td>2</td>\n",
       "      <td>5196.00</td>\n",
       "    </tr>\n",
       "    <tr>\n",
       "      <th>3</th>\n",
       "      <td>0</td>\n",
       "      <td>64900000.00</td>\n",
       "      <td>159.00</td>\n",
       "      <td>2015-07-24</td>\n",
       "      <td>3</td>\n",
       "      <td>2.65</td>\n",
       "      <td>14</td>\n",
       "      <td>90.29</td>\n",
       "      <td>9</td>\n",
       "      <td>False</td>\n",
       "      <td>False</td>\n",
       "      <td>False</td>\n",
       "      <td>27.41</td>\n",
       "      <td>0</td>\n",
       "      <td>Санкт-Петербург</td>\n",
       "      <td>28098.00</td>\n",
       "      <td>6800.00</td>\n",
       "      <td>2</td>\n",
       "      <td>84.00</td>\n",
       "      <td>3</td>\n",
       "      <td>234.00</td>\n",
       "      <td>424.00</td>\n",
       "      <td>0.57</td>\n",
       "      <td>0.17</td>\n",
       "      <td>408176.10</td>\n",
       "      <td>4</td>\n",
       "      <td>7</td>\n",
       "      <td>2015</td>\n",
       "      <td>другой этаж</td>\n",
       "      <td>2</td>\n",
       "      <td>64900.00</td>\n",
       "    </tr>\n",
       "    <tr>\n",
       "      <th>4</th>\n",
       "      <td>2</td>\n",
       "      <td>10000000.00</td>\n",
       "      <td>100.00</td>\n",
       "      <td>2018-06-19</td>\n",
       "      <td>2</td>\n",
       "      <td>3.03</td>\n",
       "      <td>14</td>\n",
       "      <td>32.00</td>\n",
       "      <td>13</td>\n",
       "      <td>False</td>\n",
       "      <td>False</td>\n",
       "      <td>False</td>\n",
       "      <td>41.00</td>\n",
       "      <td>0</td>\n",
       "      <td>Санкт-Петербург</td>\n",
       "      <td>31856.00</td>\n",
       "      <td>8098.00</td>\n",
       "      <td>2</td>\n",
       "      <td>112.00</td>\n",
       "      <td>1</td>\n",
       "      <td>48.00</td>\n",
       "      <td>121.00</td>\n",
       "      <td>0.32</td>\n",
       "      <td>0.41</td>\n",
       "      <td>100000.00</td>\n",
       "      <td>1</td>\n",
       "      <td>6</td>\n",
       "      <td>2018</td>\n",
       "      <td>другой этаж</td>\n",
       "      <td>2</td>\n",
       "      <td>10000.00</td>\n",
       "    </tr>\n",
       "  </tbody>\n",
       "</table>\n",
       "</div>"
      ],
      "text/plain": [
       "   total_images  last_price  total_area first_day_exposition  rooms  \\\n",
       "0            20 13000000.00      108.00           2019-03-07      3   \n",
       "1             7  3350000.00       40.40           2018-12-04      1   \n",
       "2            10  5196000.00       56.00           2015-08-20      2   \n",
       "3             0 64900000.00      159.00           2015-07-24      3   \n",
       "4             2 10000000.00      100.00           2018-06-19      2   \n",
       "\n",
       "   ceiling_height  floors_total  living_area  floor  is_apartment  studio  \\\n",
       "0            2.70            16        51.00      8         False   False   \n",
       "1            2.65            11        18.60      1         False   False   \n",
       "2            2.65             5        34.30      4         False   False   \n",
       "3            2.65            14        90.29      9         False   False   \n",
       "4            3.03            14        32.00     13         False   False   \n",
       "\n",
       "   open_plan  kitchen_area  balcony    locality_name  airports_nearest  \\\n",
       "0      False         25.00        0  Санкт-Петербург          18863.00   \n",
       "1      False         11.00        2   поселок Шушары          12817.00   \n",
       "2      False          8.30        0  Санкт-Петербург          21741.00   \n",
       "3      False         27.41        0  Санкт-Петербург          28098.00   \n",
       "4      False         41.00        0  Санкт-Петербург          31856.00   \n",
       "\n",
       "   cityCenters_nearest  parks_around3000  parks_nearest  ponds_around3000  \\\n",
       "0             16028.00                 1         482.00                 2   \n",
       "1             18603.00                 0            NaN                 0   \n",
       "2             13933.00                 1          90.00                 2   \n",
       "3              6800.00                 2          84.00                 3   \n",
       "4              8098.00                 2         112.00                 1   \n",
       "\n",
       "   ponds_nearest  days_exposition  living_area_ratio  kitchen_area_ratio  \\\n",
       "0         755.00              NaN               0.47                0.23   \n",
       "1            NaN            81.00               0.46                0.27   \n",
       "2         574.00           558.00               0.61                0.15   \n",
       "3         234.00           424.00               0.57                0.17   \n",
       "4          48.00           121.00               0.32                0.41   \n",
       "\n",
       "   square_meter_price  weekday_exposition  month_exposition  year_exposition  \\\n",
       "0           120370.37                   3                 3             2019   \n",
       "1            82920.79                   1                12             2018   \n",
       "2            92785.71                   3                 8             2015   \n",
       "3           408176.10                   4                 7             2015   \n",
       "4           100000.00                   1                 6             2018   \n",
       "\n",
       "  floor_category  floor_category_id  last_price_thousand  \n",
       "0    другой этаж                  2             13000.00  \n",
       "1    первый этаж                  1              3350.00  \n",
       "2    другой этаж                  2              5196.00  \n",
       "3    другой этаж                  2             64900.00  \n",
       "4    другой этаж                  2             10000.00  "
      ]
     },
     "execution_count": 193,
     "metadata": {},
     "output_type": "execute_result"
    }
   ],
   "source": [
    "data_top_ten_localities=data.query('locality_name in @top_ten_localities_list')\n",
    "display(data_top_ten_localities.shape)\n",
    "data_top_ten_localities.head(5)"
   ]
  },
  {
   "cell_type": "code",
   "execution_count": 194,
   "metadata": {},
   "outputs": [
    {
     "name": "stdout",
     "output_type": "stream",
     "text": [
      "Для Топ-10 населенных пунктов это 19024 объявлений.\n"
     ]
    }
   ],
   "source": [
    "print('Для Топ-10 населенных пунктов это {} объявлений.'.format(len(data_top_ten_localities)))"
   ]
  },
  {
   "cell_type": "markdown",
   "metadata": {},
   "source": [
    "Определим среднюю цену квадратного метра в этих населенных пунктах. "
   ]
  },
  {
   "cell_type": "code",
   "execution_count": 195,
   "metadata": {},
   "outputs": [
    {
     "data": {
      "text/html": [
       "<div>\n",
       "<style scoped>\n",
       "    .dataframe tbody tr th:only-of-type {\n",
       "        vertical-align: middle;\n",
       "    }\n",
       "\n",
       "    .dataframe tbody tr th {\n",
       "        vertical-align: top;\n",
       "    }\n",
       "\n",
       "    .dataframe thead th {\n",
       "        text-align: right;\n",
       "    }\n",
       "</style>\n",
       "<table border=\"1\" class=\"dataframe\">\n",
       "  <thead>\n",
       "    <tr style=\"text-align: right;\">\n",
       "      <th></th>\n",
       "      <th>square_meter_price</th>\n",
       "    </tr>\n",
       "    <tr>\n",
       "      <th>locality_name</th>\n",
       "      <th></th>\n",
       "    </tr>\n",
       "  </thead>\n",
       "  <tbody>\n",
       "    <tr>\n",
       "      <th>Всеволожск</th>\n",
       "      <td>68654.47</td>\n",
       "    </tr>\n",
       "    <tr>\n",
       "      <th>Выборг</th>\n",
       "      <td>58141.91</td>\n",
       "    </tr>\n",
       "    <tr>\n",
       "      <th>Гатчина</th>\n",
       "      <td>68757.68</td>\n",
       "    </tr>\n",
       "    <tr>\n",
       "      <th>Колпино</th>\n",
       "      <td>75424.58</td>\n",
       "    </tr>\n",
       "    <tr>\n",
       "      <th>Пушкин</th>\n",
       "      <td>103125.82</td>\n",
       "    </tr>\n",
       "    <tr>\n",
       "      <th>Санкт-Петербург</th>\n",
       "      <td>114770.62</td>\n",
       "    </tr>\n",
       "    <tr>\n",
       "      <th>деревня Кудрово</th>\n",
       "      <td>92473.55</td>\n",
       "    </tr>\n",
       "    <tr>\n",
       "      <th>поселок Мурино</th>\n",
       "      <td>85656.21</td>\n",
       "    </tr>\n",
       "    <tr>\n",
       "      <th>поселок Парголово</th>\n",
       "      <td>90175.91</td>\n",
       "    </tr>\n",
       "    <tr>\n",
       "      <th>поселок Шушары</th>\n",
       "      <td>78677.36</td>\n",
       "    </tr>\n",
       "  </tbody>\n",
       "</table>\n",
       "</div>"
      ],
      "text/plain": [
       "                   square_meter_price\n",
       "locality_name                        \n",
       "Всеволожск                   68654.47\n",
       "Выборг                       58141.91\n",
       "Гатчина                      68757.68\n",
       "Колпино                      75424.58\n",
       "Пушкин                      103125.82\n",
       "Санкт-Петербург             114770.62\n",
       "деревня Кудрово              92473.55\n",
       "поселок Мурино               85656.21\n",
       "поселок Парголово            90175.91\n",
       "поселок Шушары               78677.36"
      ]
     },
     "execution_count": 195,
     "metadata": {},
     "output_type": "execute_result"
    }
   ],
   "source": [
    "data_top_ten_localities_pivot=data_top_ten_localities.pivot_table(index='locality_name', values='square_meter_price', aggfunc='mean')\n",
    "data_top_ten_localities_pivot"
   ]
  },
  {
   "cell_type": "markdown",
   "metadata": {},
   "source": [
    "Населенный пункт из Топ-10 с самой высокой средней стоимостью квадратного метра:"
   ]
  },
  {
   "cell_type": "code",
   "execution_count": 196,
   "metadata": {},
   "outputs": [
    {
     "data": {
      "text/html": [
       "<div>\n",
       "<style scoped>\n",
       "    .dataframe tbody tr th:only-of-type {\n",
       "        vertical-align: middle;\n",
       "    }\n",
       "\n",
       "    .dataframe tbody tr th {\n",
       "        vertical-align: top;\n",
       "    }\n",
       "\n",
       "    .dataframe thead th {\n",
       "        text-align: right;\n",
       "    }\n",
       "</style>\n",
       "<table border=\"1\" class=\"dataframe\">\n",
       "  <thead>\n",
       "    <tr style=\"text-align: right;\">\n",
       "      <th></th>\n",
       "      <th>square_meter_price</th>\n",
       "    </tr>\n",
       "    <tr>\n",
       "      <th>locality_name</th>\n",
       "      <th></th>\n",
       "    </tr>\n",
       "  </thead>\n",
       "  <tbody>\n",
       "    <tr>\n",
       "      <th>Санкт-Петербург</th>\n",
       "      <td>114770.62</td>\n",
       "    </tr>\n",
       "  </tbody>\n",
       "</table>\n",
       "</div>"
      ],
      "text/plain": [
       "                 square_meter_price\n",
       "locality_name                      \n",
       "Санкт-Петербург           114770.62"
      ]
     },
     "execution_count": 196,
     "metadata": {},
     "output_type": "execute_result"
    }
   ],
   "source": [
    "data_top_ten_localities_pivot.query('square_meter_price==square_meter_price.max()')"
   ]
  },
  {
   "cell_type": "markdown",
   "metadata": {},
   "source": [
    "Населенный пункт из Топ-10 с самой низкой средней стоимостью квадратного метра:"
   ]
  },
  {
   "cell_type": "code",
   "execution_count": 197,
   "metadata": {},
   "outputs": [
    {
     "data": {
      "text/html": [
       "<div>\n",
       "<style scoped>\n",
       "    .dataframe tbody tr th:only-of-type {\n",
       "        vertical-align: middle;\n",
       "    }\n",
       "\n",
       "    .dataframe tbody tr th {\n",
       "        vertical-align: top;\n",
       "    }\n",
       "\n",
       "    .dataframe thead th {\n",
       "        text-align: right;\n",
       "    }\n",
       "</style>\n",
       "<table border=\"1\" class=\"dataframe\">\n",
       "  <thead>\n",
       "    <tr style=\"text-align: right;\">\n",
       "      <th></th>\n",
       "      <th>square_meter_price</th>\n",
       "    </tr>\n",
       "    <tr>\n",
       "      <th>locality_name</th>\n",
       "      <th></th>\n",
       "    </tr>\n",
       "  </thead>\n",
       "  <tbody>\n",
       "    <tr>\n",
       "      <th>Выборг</th>\n",
       "      <td>58141.91</td>\n",
       "    </tr>\n",
       "  </tbody>\n",
       "</table>\n",
       "</div>"
      ],
      "text/plain": [
       "               square_meter_price\n",
       "locality_name                    \n",
       "Выборг                   58141.91"
      ]
     },
     "execution_count": 197,
     "metadata": {},
     "output_type": "execute_result"
    }
   ],
   "source": [
    "data_top_ten_localities_pivot.query('square_meter_price==square_meter_price.min()')"
   ]
  },
  {
   "cell_type": "markdown",
   "metadata": {},
   "source": [
    "Выборг и Гатчина дальше всех от Санкт-Петербурга. Все остальные населенные пункты - фактически его пригороды. "
   ]
  },
  {
   "cell_type": "markdown",
   "metadata": {},
   "source": [
    "### Предложения квартир (расстояние до центра)"
   ]
  },
  {
   "cell_type": "markdown",
   "metadata": {},
   "source": [
    "Выделим по локации Санкт-Петербург. Сформируем датафрейм spb_data и будем работать с ним. "
   ]
  },
  {
   "cell_type": "code",
   "execution_count": 198,
   "metadata": {},
   "outputs": [
    {
     "data": {
      "text/html": [
       "<div>\n",
       "<style scoped>\n",
       "    .dataframe tbody tr th:only-of-type {\n",
       "        vertical-align: middle;\n",
       "    }\n",
       "\n",
       "    .dataframe tbody tr th {\n",
       "        vertical-align: top;\n",
       "    }\n",
       "\n",
       "    .dataframe thead th {\n",
       "        text-align: right;\n",
       "    }\n",
       "</style>\n",
       "<table border=\"1\" class=\"dataframe\">\n",
       "  <thead>\n",
       "    <tr style=\"text-align: right;\">\n",
       "      <th></th>\n",
       "      <th>total_images</th>\n",
       "      <th>last_price</th>\n",
       "      <th>total_area</th>\n",
       "      <th>first_day_exposition</th>\n",
       "      <th>rooms</th>\n",
       "      <th>ceiling_height</th>\n",
       "      <th>floors_total</th>\n",
       "      <th>living_area</th>\n",
       "      <th>floor</th>\n",
       "      <th>is_apartment</th>\n",
       "      <th>studio</th>\n",
       "      <th>open_plan</th>\n",
       "      <th>kitchen_area</th>\n",
       "      <th>balcony</th>\n",
       "      <th>locality_name</th>\n",
       "      <th>airports_nearest</th>\n",
       "      <th>cityCenters_nearest</th>\n",
       "      <th>parks_around3000</th>\n",
       "      <th>parks_nearest</th>\n",
       "      <th>ponds_around3000</th>\n",
       "      <th>ponds_nearest</th>\n",
       "      <th>days_exposition</th>\n",
       "      <th>living_area_ratio</th>\n",
       "      <th>kitchen_area_ratio</th>\n",
       "      <th>square_meter_price</th>\n",
       "      <th>weekday_exposition</th>\n",
       "      <th>month_exposition</th>\n",
       "      <th>year_exposition</th>\n",
       "      <th>floor_category</th>\n",
       "      <th>floor_category_id</th>\n",
       "      <th>last_price_thousand</th>\n",
       "    </tr>\n",
       "  </thead>\n",
       "  <tbody>\n",
       "    <tr>\n",
       "      <th>0</th>\n",
       "      <td>20</td>\n",
       "      <td>13000000.00</td>\n",
       "      <td>108.00</td>\n",
       "      <td>2019-03-07</td>\n",
       "      <td>3</td>\n",
       "      <td>2.70</td>\n",
       "      <td>16</td>\n",
       "      <td>51.00</td>\n",
       "      <td>8</td>\n",
       "      <td>False</td>\n",
       "      <td>False</td>\n",
       "      <td>False</td>\n",
       "      <td>25.00</td>\n",
       "      <td>0</td>\n",
       "      <td>Санкт-Петербург</td>\n",
       "      <td>18863.00</td>\n",
       "      <td>16028.00</td>\n",
       "      <td>1</td>\n",
       "      <td>482.00</td>\n",
       "      <td>2</td>\n",
       "      <td>755.00</td>\n",
       "      <td>NaN</td>\n",
       "      <td>0.47</td>\n",
       "      <td>0.23</td>\n",
       "      <td>120370.37</td>\n",
       "      <td>3</td>\n",
       "      <td>3</td>\n",
       "      <td>2019</td>\n",
       "      <td>другой этаж</td>\n",
       "      <td>2</td>\n",
       "      <td>13000.00</td>\n",
       "    </tr>\n",
       "    <tr>\n",
       "      <th>2</th>\n",
       "      <td>10</td>\n",
       "      <td>5196000.00</td>\n",
       "      <td>56.00</td>\n",
       "      <td>2015-08-20</td>\n",
       "      <td>2</td>\n",
       "      <td>2.65</td>\n",
       "      <td>5</td>\n",
       "      <td>34.30</td>\n",
       "      <td>4</td>\n",
       "      <td>False</td>\n",
       "      <td>False</td>\n",
       "      <td>False</td>\n",
       "      <td>8.30</td>\n",
       "      <td>0</td>\n",
       "      <td>Санкт-Петербург</td>\n",
       "      <td>21741.00</td>\n",
       "      <td>13933.00</td>\n",
       "      <td>1</td>\n",
       "      <td>90.00</td>\n",
       "      <td>2</td>\n",
       "      <td>574.00</td>\n",
       "      <td>558.00</td>\n",
       "      <td>0.61</td>\n",
       "      <td>0.15</td>\n",
       "      <td>92785.71</td>\n",
       "      <td>3</td>\n",
       "      <td>8</td>\n",
       "      <td>2015</td>\n",
       "      <td>другой этаж</td>\n",
       "      <td>2</td>\n",
       "      <td>5196.00</td>\n",
       "    </tr>\n",
       "    <tr>\n",
       "      <th>3</th>\n",
       "      <td>0</td>\n",
       "      <td>64900000.00</td>\n",
       "      <td>159.00</td>\n",
       "      <td>2015-07-24</td>\n",
       "      <td>3</td>\n",
       "      <td>2.65</td>\n",
       "      <td>14</td>\n",
       "      <td>90.29</td>\n",
       "      <td>9</td>\n",
       "      <td>False</td>\n",
       "      <td>False</td>\n",
       "      <td>False</td>\n",
       "      <td>27.41</td>\n",
       "      <td>0</td>\n",
       "      <td>Санкт-Петербург</td>\n",
       "      <td>28098.00</td>\n",
       "      <td>6800.00</td>\n",
       "      <td>2</td>\n",
       "      <td>84.00</td>\n",
       "      <td>3</td>\n",
       "      <td>234.00</td>\n",
       "      <td>424.00</td>\n",
       "      <td>0.57</td>\n",
       "      <td>0.17</td>\n",
       "      <td>408176.10</td>\n",
       "      <td>4</td>\n",
       "      <td>7</td>\n",
       "      <td>2015</td>\n",
       "      <td>другой этаж</td>\n",
       "      <td>2</td>\n",
       "      <td>64900.00</td>\n",
       "    </tr>\n",
       "    <tr>\n",
       "      <th>4</th>\n",
       "      <td>2</td>\n",
       "      <td>10000000.00</td>\n",
       "      <td>100.00</td>\n",
       "      <td>2018-06-19</td>\n",
       "      <td>2</td>\n",
       "      <td>3.03</td>\n",
       "      <td>14</td>\n",
       "      <td>32.00</td>\n",
       "      <td>13</td>\n",
       "      <td>False</td>\n",
       "      <td>False</td>\n",
       "      <td>False</td>\n",
       "      <td>41.00</td>\n",
       "      <td>0</td>\n",
       "      <td>Санкт-Петербург</td>\n",
       "      <td>31856.00</td>\n",
       "      <td>8098.00</td>\n",
       "      <td>2</td>\n",
       "      <td>112.00</td>\n",
       "      <td>1</td>\n",
       "      <td>48.00</td>\n",
       "      <td>121.00</td>\n",
       "      <td>0.32</td>\n",
       "      <td>0.41</td>\n",
       "      <td>100000.00</td>\n",
       "      <td>1</td>\n",
       "      <td>6</td>\n",
       "      <td>2018</td>\n",
       "      <td>другой этаж</td>\n",
       "      <td>2</td>\n",
       "      <td>10000.00</td>\n",
       "    </tr>\n",
       "    <tr>\n",
       "      <th>7</th>\n",
       "      <td>5</td>\n",
       "      <td>7915000.00</td>\n",
       "      <td>71.60</td>\n",
       "      <td>2019-04-18</td>\n",
       "      <td>2</td>\n",
       "      <td>2.65</td>\n",
       "      <td>24</td>\n",
       "      <td>40.66</td>\n",
       "      <td>22</td>\n",
       "      <td>False</td>\n",
       "      <td>False</td>\n",
       "      <td>False</td>\n",
       "      <td>18.90</td>\n",
       "      <td>2</td>\n",
       "      <td>Санкт-Петербург</td>\n",
       "      <td>23982.00</td>\n",
       "      <td>11634.00</td>\n",
       "      <td>0</td>\n",
       "      <td>NaN</td>\n",
       "      <td>0</td>\n",
       "      <td>NaN</td>\n",
       "      <td>NaN</td>\n",
       "      <td>0.57</td>\n",
       "      <td>0.26</td>\n",
       "      <td>110544.69</td>\n",
       "      <td>3</td>\n",
       "      <td>4</td>\n",
       "      <td>2019</td>\n",
       "      <td>другой этаж</td>\n",
       "      <td>2</td>\n",
       "      <td>7915.00</td>\n",
       "    </tr>\n",
       "  </tbody>\n",
       "</table>\n",
       "</div>"
      ],
      "text/plain": [
       "   total_images  last_price  total_area first_day_exposition  rooms  \\\n",
       "0            20 13000000.00      108.00           2019-03-07      3   \n",
       "2            10  5196000.00       56.00           2015-08-20      2   \n",
       "3             0 64900000.00      159.00           2015-07-24      3   \n",
       "4             2 10000000.00      100.00           2018-06-19      2   \n",
       "7             5  7915000.00       71.60           2019-04-18      2   \n",
       "\n",
       "   ceiling_height  floors_total  living_area  floor  is_apartment  studio  \\\n",
       "0            2.70            16        51.00      8         False   False   \n",
       "2            2.65             5        34.30      4         False   False   \n",
       "3            2.65            14        90.29      9         False   False   \n",
       "4            3.03            14        32.00     13         False   False   \n",
       "7            2.65            24        40.66     22         False   False   \n",
       "\n",
       "   open_plan  kitchen_area  balcony    locality_name  airports_nearest  \\\n",
       "0      False         25.00        0  Санкт-Петербург          18863.00   \n",
       "2      False          8.30        0  Санкт-Петербург          21741.00   \n",
       "3      False         27.41        0  Санкт-Петербург          28098.00   \n",
       "4      False         41.00        0  Санкт-Петербург          31856.00   \n",
       "7      False         18.90        2  Санкт-Петербург          23982.00   \n",
       "\n",
       "   cityCenters_nearest  parks_around3000  parks_nearest  ponds_around3000  \\\n",
       "0             16028.00                 1         482.00                 2   \n",
       "2             13933.00                 1          90.00                 2   \n",
       "3              6800.00                 2          84.00                 3   \n",
       "4              8098.00                 2         112.00                 1   \n",
       "7             11634.00                 0            NaN                 0   \n",
       "\n",
       "   ponds_nearest  days_exposition  living_area_ratio  kitchen_area_ratio  \\\n",
       "0         755.00              NaN               0.47                0.23   \n",
       "2         574.00           558.00               0.61                0.15   \n",
       "3         234.00           424.00               0.57                0.17   \n",
       "4          48.00           121.00               0.32                0.41   \n",
       "7            NaN              NaN               0.57                0.26   \n",
       "\n",
       "   square_meter_price  weekday_exposition  month_exposition  year_exposition  \\\n",
       "0           120370.37                   3                 3             2019   \n",
       "2            92785.71                   3                 8             2015   \n",
       "3           408176.10                   4                 7             2015   \n",
       "4           100000.00                   1                 6             2018   \n",
       "7           110544.69                   3                 4             2019   \n",
       "\n",
       "  floor_category  floor_category_id  last_price_thousand  \n",
       "0    другой этаж                  2             13000.00  \n",
       "2    другой этаж                  2              5196.00  \n",
       "3    другой этаж                  2             64900.00  \n",
       "4    другой этаж                  2             10000.00  \n",
       "7    другой этаж                  2              7915.00  "
      ]
     },
     "execution_count": 198,
     "metadata": {},
     "output_type": "execute_result"
    }
   ],
   "source": [
    "spb_data=data[data['locality_name']=='Санкт-Петербург'].copy()\n",
    "spb_data.head(5)"
   ]
  },
  {
   "cell_type": "code",
   "execution_count": 199,
   "metadata": {
    "scrolled": true
   },
   "outputs": [
    {
     "data": {
      "text/html": [
       "<div>\n",
       "<style scoped>\n",
       "    .dataframe tbody tr th:only-of-type {\n",
       "        vertical-align: middle;\n",
       "    }\n",
       "\n",
       "    .dataframe tbody tr th {\n",
       "        vertical-align: top;\n",
       "    }\n",
       "\n",
       "    .dataframe thead th {\n",
       "        text-align: right;\n",
       "    }\n",
       "</style>\n",
       "<table border=\"1\" class=\"dataframe\">\n",
       "  <thead>\n",
       "    <tr style=\"text-align: right;\">\n",
       "      <th></th>\n",
       "      <th>total_images</th>\n",
       "      <th>last_price</th>\n",
       "      <th>total_area</th>\n",
       "      <th>first_day_exposition</th>\n",
       "      <th>rooms</th>\n",
       "      <th>ceiling_height</th>\n",
       "      <th>floors_total</th>\n",
       "      <th>living_area</th>\n",
       "      <th>floor</th>\n",
       "      <th>is_apartment</th>\n",
       "      <th>studio</th>\n",
       "      <th>open_plan</th>\n",
       "      <th>kitchen_area</th>\n",
       "      <th>balcony</th>\n",
       "      <th>locality_name</th>\n",
       "      <th>airports_nearest</th>\n",
       "      <th>cityCenters_nearest</th>\n",
       "      <th>parks_around3000</th>\n",
       "      <th>parks_nearest</th>\n",
       "      <th>ponds_around3000</th>\n",
       "      <th>ponds_nearest</th>\n",
       "      <th>days_exposition</th>\n",
       "      <th>living_area_ratio</th>\n",
       "      <th>kitchen_area_ratio</th>\n",
       "      <th>square_meter_price</th>\n",
       "      <th>weekday_exposition</th>\n",
       "      <th>month_exposition</th>\n",
       "      <th>year_exposition</th>\n",
       "      <th>floor_category</th>\n",
       "      <th>floor_category_id</th>\n",
       "      <th>last_price_thousand</th>\n",
       "      <th>center_km</th>\n",
       "    </tr>\n",
       "  </thead>\n",
       "  <tbody>\n",
       "    <tr>\n",
       "      <th>0</th>\n",
       "      <td>20</td>\n",
       "      <td>13000000.00</td>\n",
       "      <td>108.00</td>\n",
       "      <td>2019-03-07</td>\n",
       "      <td>3</td>\n",
       "      <td>2.70</td>\n",
       "      <td>16</td>\n",
       "      <td>51.00</td>\n",
       "      <td>8</td>\n",
       "      <td>False</td>\n",
       "      <td>False</td>\n",
       "      <td>False</td>\n",
       "      <td>25.00</td>\n",
       "      <td>0</td>\n",
       "      <td>Санкт-Петербург</td>\n",
       "      <td>18863.00</td>\n",
       "      <td>16028.00</td>\n",
       "      <td>1</td>\n",
       "      <td>482.00</td>\n",
       "      <td>2</td>\n",
       "      <td>755.00</td>\n",
       "      <td>NaN</td>\n",
       "      <td>0.47</td>\n",
       "      <td>0.23</td>\n",
       "      <td>120370.37</td>\n",
       "      <td>3</td>\n",
       "      <td>3</td>\n",
       "      <td>2019</td>\n",
       "      <td>другой этаж</td>\n",
       "      <td>2</td>\n",
       "      <td>13000.00</td>\n",
       "      <td>16</td>\n",
       "    </tr>\n",
       "    <tr>\n",
       "      <th>2</th>\n",
       "      <td>10</td>\n",
       "      <td>5196000.00</td>\n",
       "      <td>56.00</td>\n",
       "      <td>2015-08-20</td>\n",
       "      <td>2</td>\n",
       "      <td>2.65</td>\n",
       "      <td>5</td>\n",
       "      <td>34.30</td>\n",
       "      <td>4</td>\n",
       "      <td>False</td>\n",
       "      <td>False</td>\n",
       "      <td>False</td>\n",
       "      <td>8.30</td>\n",
       "      <td>0</td>\n",
       "      <td>Санкт-Петербург</td>\n",
       "      <td>21741.00</td>\n",
       "      <td>13933.00</td>\n",
       "      <td>1</td>\n",
       "      <td>90.00</td>\n",
       "      <td>2</td>\n",
       "      <td>574.00</td>\n",
       "      <td>558.00</td>\n",
       "      <td>0.61</td>\n",
       "      <td>0.15</td>\n",
       "      <td>92785.71</td>\n",
       "      <td>3</td>\n",
       "      <td>8</td>\n",
       "      <td>2015</td>\n",
       "      <td>другой этаж</td>\n",
       "      <td>2</td>\n",
       "      <td>5196.00</td>\n",
       "      <td>14</td>\n",
       "    </tr>\n",
       "    <tr>\n",
       "      <th>3</th>\n",
       "      <td>0</td>\n",
       "      <td>64900000.00</td>\n",
       "      <td>159.00</td>\n",
       "      <td>2015-07-24</td>\n",
       "      <td>3</td>\n",
       "      <td>2.65</td>\n",
       "      <td>14</td>\n",
       "      <td>90.29</td>\n",
       "      <td>9</td>\n",
       "      <td>False</td>\n",
       "      <td>False</td>\n",
       "      <td>False</td>\n",
       "      <td>27.41</td>\n",
       "      <td>0</td>\n",
       "      <td>Санкт-Петербург</td>\n",
       "      <td>28098.00</td>\n",
       "      <td>6800.00</td>\n",
       "      <td>2</td>\n",
       "      <td>84.00</td>\n",
       "      <td>3</td>\n",
       "      <td>234.00</td>\n",
       "      <td>424.00</td>\n",
       "      <td>0.57</td>\n",
       "      <td>0.17</td>\n",
       "      <td>408176.10</td>\n",
       "      <td>4</td>\n",
       "      <td>7</td>\n",
       "      <td>2015</td>\n",
       "      <td>другой этаж</td>\n",
       "      <td>2</td>\n",
       "      <td>64900.00</td>\n",
       "      <td>7</td>\n",
       "    </tr>\n",
       "    <tr>\n",
       "      <th>4</th>\n",
       "      <td>2</td>\n",
       "      <td>10000000.00</td>\n",
       "      <td>100.00</td>\n",
       "      <td>2018-06-19</td>\n",
       "      <td>2</td>\n",
       "      <td>3.03</td>\n",
       "      <td>14</td>\n",
       "      <td>32.00</td>\n",
       "      <td>13</td>\n",
       "      <td>False</td>\n",
       "      <td>False</td>\n",
       "      <td>False</td>\n",
       "      <td>41.00</td>\n",
       "      <td>0</td>\n",
       "      <td>Санкт-Петербург</td>\n",
       "      <td>31856.00</td>\n",
       "      <td>8098.00</td>\n",
       "      <td>2</td>\n",
       "      <td>112.00</td>\n",
       "      <td>1</td>\n",
       "      <td>48.00</td>\n",
       "      <td>121.00</td>\n",
       "      <td>0.32</td>\n",
       "      <td>0.41</td>\n",
       "      <td>100000.00</td>\n",
       "      <td>1</td>\n",
       "      <td>6</td>\n",
       "      <td>2018</td>\n",
       "      <td>другой этаж</td>\n",
       "      <td>2</td>\n",
       "      <td>10000.00</td>\n",
       "      <td>8</td>\n",
       "    </tr>\n",
       "    <tr>\n",
       "      <th>7</th>\n",
       "      <td>5</td>\n",
       "      <td>7915000.00</td>\n",
       "      <td>71.60</td>\n",
       "      <td>2019-04-18</td>\n",
       "      <td>2</td>\n",
       "      <td>2.65</td>\n",
       "      <td>24</td>\n",
       "      <td>40.66</td>\n",
       "      <td>22</td>\n",
       "      <td>False</td>\n",
       "      <td>False</td>\n",
       "      <td>False</td>\n",
       "      <td>18.90</td>\n",
       "      <td>2</td>\n",
       "      <td>Санкт-Петербург</td>\n",
       "      <td>23982.00</td>\n",
       "      <td>11634.00</td>\n",
       "      <td>0</td>\n",
       "      <td>NaN</td>\n",
       "      <td>0</td>\n",
       "      <td>NaN</td>\n",
       "      <td>NaN</td>\n",
       "      <td>0.57</td>\n",
       "      <td>0.26</td>\n",
       "      <td>110544.69</td>\n",
       "      <td>3</td>\n",
       "      <td>4</td>\n",
       "      <td>2019</td>\n",
       "      <td>другой этаж</td>\n",
       "      <td>2</td>\n",
       "      <td>7915.00</td>\n",
       "      <td>12</td>\n",
       "    </tr>\n",
       "  </tbody>\n",
       "</table>\n",
       "</div>"
      ],
      "text/plain": [
       "   total_images  last_price  total_area first_day_exposition  rooms  \\\n",
       "0            20 13000000.00      108.00           2019-03-07      3   \n",
       "2            10  5196000.00       56.00           2015-08-20      2   \n",
       "3             0 64900000.00      159.00           2015-07-24      3   \n",
       "4             2 10000000.00      100.00           2018-06-19      2   \n",
       "7             5  7915000.00       71.60           2019-04-18      2   \n",
       "\n",
       "   ceiling_height  floors_total  living_area  floor  is_apartment  studio  \\\n",
       "0            2.70            16        51.00      8         False   False   \n",
       "2            2.65             5        34.30      4         False   False   \n",
       "3            2.65            14        90.29      9         False   False   \n",
       "4            3.03            14        32.00     13         False   False   \n",
       "7            2.65            24        40.66     22         False   False   \n",
       "\n",
       "   open_plan  kitchen_area  balcony    locality_name  airports_nearest  \\\n",
       "0      False         25.00        0  Санкт-Петербург          18863.00   \n",
       "2      False          8.30        0  Санкт-Петербург          21741.00   \n",
       "3      False         27.41        0  Санкт-Петербург          28098.00   \n",
       "4      False         41.00        0  Санкт-Петербург          31856.00   \n",
       "7      False         18.90        2  Санкт-Петербург          23982.00   \n",
       "\n",
       "   cityCenters_nearest  parks_around3000  parks_nearest  ponds_around3000  \\\n",
       "0             16028.00                 1         482.00                 2   \n",
       "2             13933.00                 1          90.00                 2   \n",
       "3              6800.00                 2          84.00                 3   \n",
       "4              8098.00                 2         112.00                 1   \n",
       "7             11634.00                 0            NaN                 0   \n",
       "\n",
       "   ponds_nearest  days_exposition  living_area_ratio  kitchen_area_ratio  \\\n",
       "0         755.00              NaN               0.47                0.23   \n",
       "2         574.00           558.00               0.61                0.15   \n",
       "3         234.00           424.00               0.57                0.17   \n",
       "4          48.00           121.00               0.32                0.41   \n",
       "7            NaN              NaN               0.57                0.26   \n",
       "\n",
       "   square_meter_price  weekday_exposition  month_exposition  year_exposition  \\\n",
       "0           120370.37                   3                 3             2019   \n",
       "2            92785.71                   3                 8             2015   \n",
       "3           408176.10                   4                 7             2015   \n",
       "4           100000.00                   1                 6             2018   \n",
       "7           110544.69                   3                 4             2019   \n",
       "\n",
       "  floor_category  floor_category_id  last_price_thousand  center_km  \n",
       "0    другой этаж                  2             13000.00         16  \n",
       "2    другой этаж                  2              5196.00         14  \n",
       "3    другой этаж                  2             64900.00          7  \n",
       "4    другой этаж                  2             10000.00          8  \n",
       "7    другой этаж                  2              7915.00         12  "
      ]
     },
     "execution_count": 199,
     "metadata": {},
     "output_type": "execute_result"
    }
   ],
   "source": [
    "spb_data['center_km']=(spb_data['cityCenters_nearest'])/1000\n",
    "spb_data['center_km']=round(spb_data['center_km'], 0).astype('int')\n",
    "spb_data.head(5)"
   ]
  },
  {
   "cell_type": "markdown",
   "metadata": {},
   "source": [
    "Выясним, какая область входит в центр: посчитаем среднюю цену для каждого километра и построим график, показывающий, как цена зависит от удалённости от центра. Определим границу, где график сильно меняется — это и будет центральная зона."
   ]
  },
  {
   "cell_type": "code",
   "execution_count": 200,
   "metadata": {},
   "outputs": [
    {
     "data": {
      "text/html": [
       "<div>\n",
       "<style scoped>\n",
       "    .dataframe tbody tr th:only-of-type {\n",
       "        vertical-align: middle;\n",
       "    }\n",
       "\n",
       "    .dataframe tbody tr th {\n",
       "        vertical-align: top;\n",
       "    }\n",
       "\n",
       "    .dataframe thead th {\n",
       "        text-align: right;\n",
       "    }\n",
       "</style>\n",
       "<table border=\"1\" class=\"dataframe\">\n",
       "  <thead>\n",
       "    <tr style=\"text-align: right;\">\n",
       "      <th></th>\n",
       "      <th>square_meter_price</th>\n",
       "    </tr>\n",
       "    <tr>\n",
       "      <th>center_km</th>\n",
       "      <th></th>\n",
       "    </tr>\n",
       "  </thead>\n",
       "  <tbody>\n",
       "    <tr>\n",
       "      <th>0</th>\n",
       "      <td>245833.53</td>\n",
       "    </tr>\n",
       "    <tr>\n",
       "      <th>1</th>\n",
       "      <td>176640.65</td>\n",
       "    </tr>\n",
       "    <tr>\n",
       "      <th>2</th>\n",
       "      <td>157944.35</td>\n",
       "    </tr>\n",
       "    <tr>\n",
       "      <th>3</th>\n",
       "      <td>121138.76</td>\n",
       "    </tr>\n",
       "    <tr>\n",
       "      <th>4</th>\n",
       "      <td>133071.55</td>\n",
       "    </tr>\n",
       "    <tr>\n",
       "      <th>5</th>\n",
       "      <td>140324.47</td>\n",
       "    </tr>\n",
       "    <tr>\n",
       "      <th>6</th>\n",
       "      <td>151012.19</td>\n",
       "    </tr>\n",
       "    <tr>\n",
       "      <th>7</th>\n",
       "      <td>156176.88</td>\n",
       "    </tr>\n",
       "    <tr>\n",
       "      <th>8</th>\n",
       "      <td>124786.50</td>\n",
       "    </tr>\n",
       "    <tr>\n",
       "      <th>9</th>\n",
       "      <td>113236.50</td>\n",
       "    </tr>\n",
       "    <tr>\n",
       "      <th>10</th>\n",
       "      <td>112777.22</td>\n",
       "    </tr>\n",
       "    <tr>\n",
       "      <th>11</th>\n",
       "      <td>108631.99</td>\n",
       "    </tr>\n",
       "    <tr>\n",
       "      <th>12</th>\n",
       "      <td>109058.52</td>\n",
       "    </tr>\n",
       "    <tr>\n",
       "      <th>13</th>\n",
       "      <td>108162.96</td>\n",
       "    </tr>\n",
       "    <tr>\n",
       "      <th>14</th>\n",
       "      <td>104260.37</td>\n",
       "    </tr>\n",
       "    <tr>\n",
       "      <th>15</th>\n",
       "      <td>104252.47</td>\n",
       "    </tr>\n",
       "    <tr>\n",
       "      <th>16</th>\n",
       "      <td>100567.06</td>\n",
       "    </tr>\n",
       "    <tr>\n",
       "      <th>17</th>\n",
       "      <td>96509.54</td>\n",
       "    </tr>\n",
       "    <tr>\n",
       "      <th>18</th>\n",
       "      <td>96362.26</td>\n",
       "    </tr>\n",
       "    <tr>\n",
       "      <th>19</th>\n",
       "      <td>98652.74</td>\n",
       "    </tr>\n",
       "    <tr>\n",
       "      <th>20</th>\n",
       "      <td>103069.56</td>\n",
       "    </tr>\n",
       "    <tr>\n",
       "      <th>21</th>\n",
       "      <td>94469.58</td>\n",
       "    </tr>\n",
       "    <tr>\n",
       "      <th>22</th>\n",
       "      <td>91330.43</td>\n",
       "    </tr>\n",
       "    <tr>\n",
       "      <th>23</th>\n",
       "      <td>91828.52</td>\n",
       "    </tr>\n",
       "    <tr>\n",
       "      <th>24</th>\n",
       "      <td>84387.23</td>\n",
       "    </tr>\n",
       "    <tr>\n",
       "      <th>25</th>\n",
       "      <td>91531.37</td>\n",
       "    </tr>\n",
       "    <tr>\n",
       "      <th>26</th>\n",
       "      <td>89285.88</td>\n",
       "    </tr>\n",
       "    <tr>\n",
       "      <th>27</th>\n",
       "      <td>132115.71</td>\n",
       "    </tr>\n",
       "    <tr>\n",
       "      <th>28</th>\n",
       "      <td>81161.92</td>\n",
       "    </tr>\n",
       "    <tr>\n",
       "      <th>29</th>\n",
       "      <td>72953.37</td>\n",
       "    </tr>\n",
       "    <tr>\n",
       "      <th>32</th>\n",
       "      <td>64030.11</td>\n",
       "    </tr>\n",
       "    <tr>\n",
       "      <th>41</th>\n",
       "      <td>96029.99</td>\n",
       "    </tr>\n",
       "  </tbody>\n",
       "</table>\n",
       "</div>"
      ],
      "text/plain": [
       "           square_meter_price\n",
       "center_km                    \n",
       "0                   245833.53\n",
       "1                   176640.65\n",
       "2                   157944.35\n",
       "3                   121138.76\n",
       "4                   133071.55\n",
       "5                   140324.47\n",
       "6                   151012.19\n",
       "7                   156176.88\n",
       "8                   124786.50\n",
       "9                   113236.50\n",
       "10                  112777.22\n",
       "11                  108631.99\n",
       "12                  109058.52\n",
       "13                  108162.96\n",
       "14                  104260.37\n",
       "15                  104252.47\n",
       "16                  100567.06\n",
       "17                   96509.54\n",
       "18                   96362.26\n",
       "19                   98652.74\n",
       "20                  103069.56\n",
       "21                   94469.58\n",
       "22                   91330.43\n",
       "23                   91828.52\n",
       "24                   84387.23\n",
       "25                   91531.37\n",
       "26                   89285.88\n",
       "27                  132115.71\n",
       "28                   81161.92\n",
       "29                   72953.37\n",
       "32                   64030.11\n",
       "41                   96029.99"
      ]
     },
     "execution_count": 200,
     "metadata": {},
     "output_type": "execute_result"
    }
   ],
   "source": [
    "spb_data_pivot_table=spb_data.pivot_table(index='center_km', values='square_meter_price', aggfunc='mean')\n",
    "spb_data_pivot_table"
   ]
  },
  {
   "cell_type": "code",
   "execution_count": 201,
   "metadata": {},
   "outputs": [
    {
     "data": {
      "text/plain": [
       "<AxesSubplot:xlabel='center_km'>"
      ]
     },
     "execution_count": 201,
     "metadata": {},
     "output_type": "execute_result"
    },
    {
     "data": {
      "image/png": "[encoded data removed]",
      "text/plain": [
       "<Figure size 432x288 with 1 Axes>"
      ]
     },
     "metadata": {
      "needs_background": "light"
     },
     "output_type": "display_data"
    }
   ],
   "source": [
    "spb_data_pivot_table.plot()"
   ]
  },
  {
   "cell_type": "markdown",
   "metadata": {},
   "source": [
    "После 7 км от центра города происходит резкое падение цены квадратного метра. Примем расстояние от центра города менее 7 км как центральную зону. "
   ]
  },
  {
   "cell_type": "markdown",
   "metadata": {},
   "source": [
    "### Квартиры в центре"
   ]
  },
  {
   "cell_type": "markdown",
   "metadata": {},
   "source": [
    "Выделим сегмент квартир в центре. "
   ]
  },
  {
   "cell_type": "code",
   "execution_count": 202,
   "metadata": {},
   "outputs": [
    {
     "name": "stdout",
     "output_type": "stream",
     "text": [
      "<class 'pandas.core.frame.DataFrame'>\n",
      "Int64Index: 3319 entries, 3 to 23694\n",
      "Data columns (total 31 columns):\n",
      " #   Column                Non-Null Count  Dtype         \n",
      "---  ------                --------------  -----         \n",
      " 0   total_images          3319 non-null   int64         \n",
      " 1   last_price            3319 non-null   float64       \n",
      " 2   total_area            3319 non-null   float64       \n",
      " 3   first_day_exposition  3319 non-null   datetime64[ns]\n",
      " 4   rooms                 3319 non-null   int64         \n",
      " 5   ceiling_height        3319 non-null   float64       \n",
      " 6   floors_total          3319 non-null   int32         \n",
      " 7   living_area           3319 non-null   float64       \n",
      " 8   floor                 3319 non-null   int64         \n",
      " 9   is_apartment          3319 non-null   bool          \n",
      " 10  studio                3319 non-null   bool          \n",
      " 11  open_plan             3319 non-null   bool          \n",
      " 12  kitchen_area          3319 non-null   float64       \n",
      " 13  balcony               3319 non-null   int32         \n",
      " 14  locality_name         3319 non-null   object        \n",
      " 15  airports_nearest      3313 non-null   float64       \n",
      " 16  cityCenters_nearest   3319 non-null   float64       \n",
      " 17  parks_around3000      3319 non-null   int32         \n",
      " 18  parks_nearest         2211 non-null   float64       \n",
      " 19  ponds_around3000      3319 non-null   int32         \n",
      " 20  ponds_nearest         2391 non-null   float64       \n",
      " 21  days_exposition       2763 non-null   float64       \n",
      " 22  living_area_ratio     3319 non-null   float64       \n",
      " 23  kitchen_area_ratio    3319 non-null   float64       \n",
      " 24  square_meter_price    3319 non-null   float64       \n",
      " 25  weekday_exposition    3319 non-null   int64         \n",
      " 26  month_exposition      3319 non-null   int64         \n",
      " 27  year_exposition       3319 non-null   int64         \n",
      " 28  floor_category        3319 non-null   object        \n",
      " 29  floor_category_id     3319 non-null   int64         \n",
      " 30  last_price_thousand   3319 non-null   float64       \n",
      "dtypes: bool(3), datetime64[ns](1), float64(14), int32(4), int64(7), object(2)\n",
      "memory usage: 709.8+ KB\n"
     ]
    }
   ],
   "source": [
    "spb_center_data=data.loc[data['cityCenters_nearest']<7000].copy()\n",
    "spb_center_data.info()"
   ]
  },
  {
   "cell_type": "markdown",
   "metadata": {},
   "source": [
    "Проанализируем эту территорию и изучим следующие параметры: площадь, цена, число комнат, высота потолков. "
   ]
  },
  {
   "cell_type": "code",
   "execution_count": 203,
   "metadata": {},
   "outputs": [
    {
     "data": {
      "text/plain": [
       "count   3319.00\n",
       "mean      94.16\n",
       "std       60.11\n",
       "min       12.00\n",
       "25%       57.80\n",
       "50%       80.00\n",
       "75%      110.60\n",
       "max      631.20\n",
       "Name: total_area, dtype: float64"
      ]
     },
     "execution_count": 203,
     "metadata": {},
     "output_type": "execute_result"
    }
   ],
   "source": [
    "spb_center_data['total_area'].describe()"
   ]
  },
  {
   "cell_type": "markdown",
   "metadata": {},
   "source": [
    "Средняя общая площадь квартир в центре больше, чем по городу. "
   ]
  },
  {
   "cell_type": "code",
   "execution_count": 204,
   "metadata": {},
   "outputs": [
    {
     "data": {
      "text/plain": [
       "count      3319.00\n",
       "mean     144617.75\n",
       "std       93731.08\n",
       "min       15345.27\n",
       "25%       99407.67\n",
       "50%      123333.33\n",
       "75%      155848.15\n",
       "max     1907500.00\n",
       "Name: square_meter_price, dtype: float64"
      ]
     },
     "execution_count": 204,
     "metadata": {},
     "output_type": "execute_result"
    }
   ],
   "source": [
    "spb_center_data['square_meter_price'].describe()"
   ]
  },
  {
   "cell_type": "code",
   "execution_count": 205,
   "metadata": {},
   "outputs": [
    {
     "data": {
      "text/plain": [
       "count     3319.00\n",
       "mean     14945.79\n",
       "std      24622.02\n",
       "min       1600.00\n",
       "25%       6700.00\n",
       "50%       9300.00\n",
       "75%      14500.00\n",
       "max     763000.00\n",
       "Name: last_price_thousand, dtype: float64"
      ]
     },
     "execution_count": 205,
     "metadata": {},
     "output_type": "execute_result"
    }
   ],
   "source": [
    "spb_center_data['last_price_thousand'].describe()"
   ]
  },
  {
   "cell_type": "markdown",
   "metadata": {},
   "source": [
    "Выше как средняя общая цена, так и цена квадратного метра. "
   ]
  },
  {
   "cell_type": "code",
   "execution_count": 206,
   "metadata": {},
   "outputs": [
    {
     "data": {
      "text/plain": [
       "count   3319.00\n",
       "mean       2.86\n",
       "std        1.47\n",
       "min        0.00\n",
       "25%        2.00\n",
       "50%        3.00\n",
       "75%        4.00\n",
       "max       19.00\n",
       "Name: rooms, dtype: float64"
      ]
     },
     "execution_count": 206,
     "metadata": {},
     "output_type": "execute_result"
    }
   ],
   "source": [
    "spb_center_data['rooms'].describe()"
   ]
  },
  {
   "cell_type": "code",
   "execution_count": 207,
   "metadata": {},
   "outputs": [
    {
     "data": {
      "text/plain": [
       "count   3319.00\n",
       "mean       2.95\n",
       "std        0.38\n",
       "min        2.40\n",
       "25%        2.65\n",
       "50%        2.84\n",
       "75%        3.16\n",
       "max        6.00\n",
       "Name: ceiling_height, dtype: float64"
      ]
     },
     "execution_count": 207,
     "metadata": {},
     "output_type": "execute_result"
    }
   ],
   "source": [
    "spb_center_data['ceiling_height'].describe()"
   ]
  },
  {
   "cell_type": "markdown",
   "metadata": {},
   "source": [
    "Комнат в среднем 3, а не 2. И средняя высота потолков выше. "
   ]
  },
  {
   "cell_type": "markdown",
   "metadata": {},
   "source": [
    "Выделим факторы, которые влияют на стоимость квартиры (число комнат, этаж, удалённость от центра, дата размещения объявления)."
   ]
  },
  {
   "cell_type": "markdown",
   "metadata": {},
   "source": [
    "#### Взаимосвязь числа комнат и цены квадратного метра. "
   ]
  },
  {
   "cell_type": "code",
   "execution_count": 208,
   "metadata": {},
   "outputs": [
    {
     "data": {
      "text/plain": [
       "-0.010084743525481703"
      ]
     },
     "execution_count": 208,
     "metadata": {},
     "output_type": "execute_result"
    }
   ],
   "source": [
    "spb_center_data['square_meter_price'].corr(spb_center_data['rooms'])"
   ]
  },
  {
   "cell_type": "code",
   "execution_count": 209,
   "metadata": {
    "scrolled": true
   },
   "outputs": [
    {
     "data": {
      "text/html": [
       "<div>\n",
       "<style scoped>\n",
       "    .dataframe tbody tr th:only-of-type {\n",
       "        vertical-align: middle;\n",
       "    }\n",
       "\n",
       "    .dataframe tbody tr th {\n",
       "        vertical-align: top;\n",
       "    }\n",
       "\n",
       "    .dataframe thead th {\n",
       "        text-align: right;\n",
       "    }\n",
       "</style>\n",
       "<table border=\"1\" class=\"dataframe\">\n",
       "  <thead>\n",
       "    <tr style=\"text-align: right;\">\n",
       "      <th></th>\n",
       "      <th>square_meter_price</th>\n",
       "    </tr>\n",
       "    <tr>\n",
       "      <th>rooms</th>\n",
       "      <th></th>\n",
       "    </tr>\n",
       "  </thead>\n",
       "  <tbody>\n",
       "    <tr>\n",
       "      <th>0</th>\n",
       "      <td>146371.95</td>\n",
       "    </tr>\n",
       "    <tr>\n",
       "      <th>1</th>\n",
       "      <td>154816.07</td>\n",
       "    </tr>\n",
       "    <tr>\n",
       "      <th>2</th>\n",
       "      <td>142562.51</td>\n",
       "    </tr>\n",
       "    <tr>\n",
       "      <th>3</th>\n",
       "      <td>142801.16</td>\n",
       "    </tr>\n",
       "    <tr>\n",
       "      <th>4</th>\n",
       "      <td>137669.94</td>\n",
       "    </tr>\n",
       "    <tr>\n",
       "      <th>5</th>\n",
       "      <td>145011.14</td>\n",
       "    </tr>\n",
       "    <tr>\n",
       "      <th>6</th>\n",
       "      <td>153676.49</td>\n",
       "    </tr>\n",
       "    <tr>\n",
       "      <th>7</th>\n",
       "      <td>167223.47</td>\n",
       "    </tr>\n",
       "    <tr>\n",
       "      <th>8</th>\n",
       "      <td>192737.02</td>\n",
       "    </tr>\n",
       "    <tr>\n",
       "      <th>9</th>\n",
       "      <td>130529.17</td>\n",
       "    </tr>\n",
       "    <tr>\n",
       "      <th>10</th>\n",
       "      <td>104828.54</td>\n",
       "    </tr>\n",
       "    <tr>\n",
       "      <th>11</th>\n",
       "      <td>132639.74</td>\n",
       "    </tr>\n",
       "    <tr>\n",
       "      <th>14</th>\n",
       "      <td>116784.84</td>\n",
       "    </tr>\n",
       "    <tr>\n",
       "      <th>15</th>\n",
       "      <td>110169.49</td>\n",
       "    </tr>\n",
       "    <tr>\n",
       "      <th>16</th>\n",
       "      <td>105555.56</td>\n",
       "    </tr>\n",
       "    <tr>\n",
       "      <th>19</th>\n",
       "      <td>86091.83</td>\n",
       "    </tr>\n",
       "  </tbody>\n",
       "</table>\n",
       "</div>"
      ],
      "text/plain": [
       "       square_meter_price\n",
       "rooms                    \n",
       "0               146371.95\n",
       "1               154816.07\n",
       "2               142562.51\n",
       "3               142801.16\n",
       "4               137669.94\n",
       "5               145011.14\n",
       "6               153676.49\n",
       "7               167223.47\n",
       "8               192737.02\n",
       "9               130529.17\n",
       "10              104828.54\n",
       "11              132639.74\n",
       "14              116784.84\n",
       "15              110169.49\n",
       "16              105555.56\n",
       "19               86091.83"
      ]
     },
     "execution_count": 209,
     "metadata": {},
     "output_type": "execute_result"
    }
   ],
   "source": [
    "rooms_spb_center_pivot=spb_center_data.pivot_table(index='rooms', values='square_meter_price', aggfunc='mean')\n",
    "rooms_spb_center_pivot.sort_values(by='rooms', ascending=True)"
   ]
  },
  {
   "cell_type": "code",
   "execution_count": 210,
   "metadata": {},
   "outputs": [
    {
     "data": {
      "text/plain": [
       "<AxesSubplot:xlabel='rooms'>"
      ]
     },
     "execution_count": 210,
     "metadata": {},
     "output_type": "execute_result"
    },
    {
     "data": {
      "image/png": "[encoded data removed]",
      "text/plain": [
       "<Figure size 432x288 with 1 Axes>"
      ]
     },
     "metadata": {
      "needs_background": "light"
     },
     "output_type": "display_data"
    }
   ],
   "source": [
    "rooms_spb_center_pivot.plot()"
   ]
  },
  {
   "cell_type": "markdown",
   "metadata": {},
   "source": [
    "Судя по коэффициенту корреляции, связь отсутствует. Судя по графику, в среднем, самая большая цена за квадратный метр в центре - для 8-комнатных квартир, далее с увеличением числа комнат она снижается. Хотя этот \"хвост\" вообще неинформативен, т.к. квартир с количеством комнат более 8 - единицы. "
   ]
  },
  {
   "cell_type": "code",
   "execution_count": 211,
   "metadata": {
    "scrolled": true
   },
   "outputs": [
    {
     "data": {
      "text/html": [
       "<div>\n",
       "<style scoped>\n",
       "    .dataframe tbody tr th:only-of-type {\n",
       "        vertical-align: middle;\n",
       "    }\n",
       "\n",
       "    .dataframe tbody tr th {\n",
       "        vertical-align: top;\n",
       "    }\n",
       "\n",
       "    .dataframe thead th {\n",
       "        text-align: right;\n",
       "    }\n",
       "</style>\n",
       "<table border=\"1\" class=\"dataframe\">\n",
       "  <thead>\n",
       "    <tr style=\"text-align: right;\">\n",
       "      <th></th>\n",
       "      <th>square_meter_price</th>\n",
       "    </tr>\n",
       "    <tr>\n",
       "      <th>rooms</th>\n",
       "      <th></th>\n",
       "    </tr>\n",
       "  </thead>\n",
       "  <tbody>\n",
       "    <tr>\n",
       "      <th>0</th>\n",
       "      <td>15</td>\n",
       "    </tr>\n",
       "    <tr>\n",
       "      <th>1</th>\n",
       "      <td>477</td>\n",
       "    </tr>\n",
       "    <tr>\n",
       "      <th>2</th>\n",
       "      <td>964</td>\n",
       "    </tr>\n",
       "    <tr>\n",
       "      <th>3</th>\n",
       "      <td>1023</td>\n",
       "    </tr>\n",
       "    <tr>\n",
       "      <th>4</th>\n",
       "      <td>470</td>\n",
       "    </tr>\n",
       "    <tr>\n",
       "      <th>5</th>\n",
       "      <td>214</td>\n",
       "    </tr>\n",
       "    <tr>\n",
       "      <th>6</th>\n",
       "      <td>81</td>\n",
       "    </tr>\n",
       "    <tr>\n",
       "      <th>7</th>\n",
       "      <td>54</td>\n",
       "    </tr>\n",
       "    <tr>\n",
       "      <th>8</th>\n",
       "      <td>10</td>\n",
       "    </tr>\n",
       "    <tr>\n",
       "      <th>9</th>\n",
       "      <td>3</td>\n",
       "    </tr>\n",
       "    <tr>\n",
       "      <th>10</th>\n",
       "      <td>2</td>\n",
       "    </tr>\n",
       "    <tr>\n",
       "      <th>11</th>\n",
       "      <td>2</td>\n",
       "    </tr>\n",
       "    <tr>\n",
       "      <th>14</th>\n",
       "      <td>1</td>\n",
       "    </tr>\n",
       "    <tr>\n",
       "      <th>15</th>\n",
       "      <td>1</td>\n",
       "    </tr>\n",
       "    <tr>\n",
       "      <th>16</th>\n",
       "      <td>1</td>\n",
       "    </tr>\n",
       "    <tr>\n",
       "      <th>19</th>\n",
       "      <td>1</td>\n",
       "    </tr>\n",
       "  </tbody>\n",
       "</table>\n",
       "</div>"
      ],
      "text/plain": [
       "       square_meter_price\n",
       "rooms                    \n",
       "0                      15\n",
       "1                     477\n",
       "2                     964\n",
       "3                    1023\n",
       "4                     470\n",
       "5                     214\n",
       "6                      81\n",
       "7                      54\n",
       "8                      10\n",
       "9                       3\n",
       "10                      2\n",
       "11                      2\n",
       "14                      1\n",
       "15                      1\n",
       "16                      1\n",
       "19                      1"
      ]
     },
     "execution_count": 211,
     "metadata": {},
     "output_type": "execute_result"
    }
   ],
   "source": [
    "rooms_spb_center_pivot=spb_center_data.pivot_table(index='rooms', values='square_meter_price', aggfunc='count')\n",
    "rooms_spb_center_pivot.sort_values(by='rooms', ascending=True)"
   ]
  },
  {
   "cell_type": "markdown",
   "metadata": {},
   "source": [
    "Если мы рассмотрим только число комнат от 0 до 8, то увидим, что наибольшая средняя цена квадратного метра у 3-комнатных квартир. "
   ]
  },
  {
   "cell_type": "code",
   "execution_count": 212,
   "metadata": {},
   "outputs": [
    {
     "data": {
      "text/plain": [
       "<AxesSubplot:xlabel='rooms'>"
      ]
     },
     "execution_count": 212,
     "metadata": {},
     "output_type": "execute_result"
    },
    {
     "data": {
      "image/png": "[encoded data removed]",
      "text/plain": [
       "<Figure size 432x288 with 1 Axes>"
      ]
     },
     "metadata": {
      "needs_background": "light"
     },
     "output_type": "display_data"
    }
   ],
   "source": [
    "rooms_spb_center_pivot.query('rooms<=8').plot()"
   ]
  },
  {
   "cell_type": "markdown",
   "metadata": {},
   "source": [
    "#### Взаимосвязь удаленности от центра и цены квадратного метра. "
   ]
  },
  {
   "cell_type": "code",
   "execution_count": 213,
   "metadata": {},
   "outputs": [
    {
     "data": {
      "text/plain": [
       "-0.02945163400317123"
      ]
     },
     "execution_count": 213,
     "metadata": {},
     "output_type": "execute_result"
    }
   ],
   "source": [
    "spb_center_data['square_meter_price'].corr(spb_center_data['cityCenters_nearest'])"
   ]
  },
  {
   "cell_type": "markdown",
   "metadata": {},
   "source": [
    "#### Взаимосвязь года размещения объявления и цены квадратного метра. "
   ]
  },
  {
   "cell_type": "code",
   "execution_count": 214,
   "metadata": {},
   "outputs": [
    {
     "data": {
      "text/html": [
       "<div>\n",
       "<style scoped>\n",
       "    .dataframe tbody tr th:only-of-type {\n",
       "        vertical-align: middle;\n",
       "    }\n",
       "\n",
       "    .dataframe tbody tr th {\n",
       "        vertical-align: top;\n",
       "    }\n",
       "\n",
       "    .dataframe thead th {\n",
       "        text-align: right;\n",
       "    }\n",
       "</style>\n",
       "<table border=\"1\" class=\"dataframe\">\n",
       "  <thead>\n",
       "    <tr style=\"text-align: right;\">\n",
       "      <th></th>\n",
       "      <th>square_meter_price</th>\n",
       "    </tr>\n",
       "    <tr>\n",
       "      <th>year_exposition</th>\n",
       "      <th></th>\n",
       "    </tr>\n",
       "  </thead>\n",
       "  <tbody>\n",
       "    <tr>\n",
       "      <th>2014</th>\n",
       "      <td>195689.94</td>\n",
       "    </tr>\n",
       "    <tr>\n",
       "      <th>2015</th>\n",
       "      <td>145884.42</td>\n",
       "    </tr>\n",
       "    <tr>\n",
       "      <th>2016</th>\n",
       "      <td>138011.07</td>\n",
       "    </tr>\n",
       "    <tr>\n",
       "      <th>2017</th>\n",
       "      <td>143136.04</td>\n",
       "    </tr>\n",
       "    <tr>\n",
       "      <th>2018</th>\n",
       "      <td>141078.34</td>\n",
       "    </tr>\n",
       "    <tr>\n",
       "      <th>2019</th>\n",
       "      <td>162824.10</td>\n",
       "    </tr>\n",
       "  </tbody>\n",
       "</table>\n",
       "</div>"
      ],
      "text/plain": [
       "                 square_meter_price\n",
       "year_exposition                    \n",
       "2014                      195689.94\n",
       "2015                      145884.42\n",
       "2016                      138011.07\n",
       "2017                      143136.04\n",
       "2018                      141078.34\n",
       "2019                      162824.10"
      ]
     },
     "execution_count": 214,
     "metadata": {},
     "output_type": "execute_result"
    }
   ],
   "source": [
    "year_spb_center_pivot=spb_center_data.pivot_table(index='year_exposition', values='square_meter_price', aggfunc='mean')\n",
    "year_spb_center_pivot.sort_values(by='year_exposition', ascending=True)"
   ]
  },
  {
   "cell_type": "code",
   "execution_count": 215,
   "metadata": {},
   "outputs": [
    {
     "data": {
      "text/plain": [
       "<AxesSubplot:xlabel='year_exposition'>"
      ]
     },
     "execution_count": 215,
     "metadata": {},
     "output_type": "execute_result"
    },
    {
     "data": {
      "image/png": "[encoded data removed]",
      "text/plain": [
       "<Figure size 432x288 with 1 Axes>"
      ]
     },
     "metadata": {
      "needs_background": "light"
     },
     "output_type": "display_data"
    }
   ],
   "source": [
    "year_spb_center_pivot.plot()"
   ]
  },
  {
   "cell_type": "markdown",
   "metadata": {},
   "source": [
    "Общее падение цены за квадратный метр касается также и квартир в центре. "
   ]
  },
  {
   "cell_type": "markdown",
   "metadata": {},
   "source": [
    "## Общий вывод"
   ]
  },
  {
   "cell_type": "markdown",
   "metadata": {},
   "source": [
    "- Ни один из параметров не оказывает ключевое влияние на цену квадратного метра. \n",
    "- Наибольшее влияние у фактора общей цены: у тех квартир, что сами по себе дороже, выше и цена квадратного метра. "
   ]
  },
  {
   "cell_type": "markdown",
   "metadata": {},
   "source": [
    "Посмотрим на параметры, вообще оказывающие влияние на цену: "
   ]
  },
  {
   "cell_type": "code",
   "execution_count": 216,
   "metadata": {},
   "outputs": [
    {
     "data": {
      "text/html": [
       "<style type=\"text/css\">\n",
       "#T_e03af_row0_col0 {\n",
       "  background-color: #8fb1fe;\n",
       "  color: #000000;\n",
       "}\n",
       "#T_e03af_row1_col0, #T_e03af_row27_col0 {\n",
       "  background-color: #b40426;\n",
       "  color: #f1f1f1;\n",
       "}\n",
       "#T_e03af_row2_col0 {\n",
       "  background-color: #f7a889;\n",
       "  color: #000000;\n",
       "}\n",
       "#T_e03af_row3_col0 {\n",
       "  background-color: #d5dbe5;\n",
       "  color: #000000;\n",
       "}\n",
       "#T_e03af_row4_col0 {\n",
       "  background-color: #bbd1f8;\n",
       "  color: #000000;\n",
       "}\n",
       "#T_e03af_row5_col0 {\n",
       "  background-color: #6f92f3;\n",
       "  color: #f1f1f1;\n",
       "}\n",
       "#T_e03af_row6_col0 {\n",
       "  background-color: #f7ba9f;\n",
       "  color: #000000;\n",
       "}\n",
       "#T_e03af_row7_col0, #T_e03af_row8_col0 {\n",
       "  background-color: #799cf8;\n",
       "  color: #f1f1f1;\n",
       "}\n",
       "#T_e03af_row9_col0, #T_e03af_row13_col0 {\n",
       "  background-color: #6a8bef;\n",
       "  color: #f1f1f1;\n",
       "}\n",
       "#T_e03af_row10_col0 {\n",
       "  background-color: #6e90f2;\n",
       "  color: #f1f1f1;\n",
       "}\n",
       "#T_e03af_row11_col0 {\n",
       "  background-color: #f1ccb8;\n",
       "  color: #000000;\n",
       "}\n",
       "#T_e03af_row12_col0 {\n",
       "  background-color: #7396f5;\n",
       "  color: #f1f1f1;\n",
       "}\n",
       "#T_e03af_row14_col0 {\n",
       "  background-color: #3b4cc0;\n",
       "  color: #f1f1f1;\n",
       "}\n",
       "#T_e03af_row15_col0 {\n",
       "  background-color: #aac7fd;\n",
       "  color: #000000;\n",
       "}\n",
       "#T_e03af_row16_col0 {\n",
       "  background-color: #6c8ff1;\n",
       "  color: #f1f1f1;\n",
       "}\n",
       "#T_e03af_row17_col0 {\n",
       "  background-color: #aec9fc;\n",
       "  color: #000000;\n",
       "}\n",
       "#T_e03af_row18_col0 {\n",
       "  background-color: #5977e3;\n",
       "  color: #f1f1f1;\n",
       "}\n",
       "#T_e03af_row19_col0 {\n",
       "  background-color: #88abfd;\n",
       "  color: #000000;\n",
       "}\n",
       "#T_e03af_row20_col0, #T_e03af_row23_col0, #T_e03af_row24_col0 {\n",
       "  background-color: #7295f4;\n",
       "  color: #f1f1f1;\n",
       "}\n",
       "#T_e03af_row21_col0 {\n",
       "  background-color: #5b7ae5;\n",
       "  color: #f1f1f1;\n",
       "}\n",
       "#T_e03af_row22_col0 {\n",
       "  background-color: #f08b6e;\n",
       "  color: #f1f1f1;\n",
       "}\n",
       "#T_e03af_row25_col0 {\n",
       "  background-color: #6485ec;\n",
       "  color: #f1f1f1;\n",
       "}\n",
       "#T_e03af_row26_col0 {\n",
       "  background-color: #81a4fb;\n",
       "  color: #f1f1f1;\n",
       "}\n",
       "</style>\n",
       "<table id=\"T_e03af_\">\n",
       "  <thead>\n",
       "    <tr>\n",
       "      <th class=\"blank level0\" >&nbsp;</th>\n",
       "      <th class=\"col_heading level0 col0\" >0</th>\n",
       "    </tr>\n",
       "  </thead>\n",
       "  <tbody>\n",
       "    <tr>\n",
       "      <th id=\"T_e03af_level0_row0\" class=\"row_heading level0 row0\" >total_images</th>\n",
       "      <td id=\"T_e03af_row0_col0\" class=\"data row0 col0\" >0.104485</td>\n",
       "    </tr>\n",
       "    <tr>\n",
       "      <th id=\"T_e03af_level0_row1\" class=\"row_heading level0 row1\" >last_price</th>\n",
       "      <td id=\"T_e03af_row1_col0\" class=\"data row1 col0\" >1.000000</td>\n",
       "    </tr>\n",
       "    <tr>\n",
       "      <th id=\"T_e03af_level0_row2\" class=\"row_heading level0 row2\" >total_area</th>\n",
       "      <td id=\"T_e03af_row2_col0\" class=\"data row2 col0\" >0.653838</td>\n",
       "    </tr>\n",
       "    <tr>\n",
       "      <th id=\"T_e03af_level0_row3\" class=\"row_heading level0 row3\" >rooms</th>\n",
       "      <td id=\"T_e03af_row3_col0\" class=\"data row3 col0\" >0.363483</td>\n",
       "    </tr>\n",
       "    <tr>\n",
       "      <th id=\"T_e03af_level0_row4\" class=\"row_heading level0 row4\" >ceiling_height</th>\n",
       "      <td id=\"T_e03af_row4_col0\" class=\"data row4 col0\" >0.260189</td>\n",
       "    </tr>\n",
       "    <tr>\n",
       "      <th id=\"T_e03af_level0_row5\" class=\"row_heading level0 row5\" >floors_total</th>\n",
       "      <td id=\"T_e03af_row5_col0\" class=\"data row5 col0\" >-0.007049</td>\n",
       "    </tr>\n",
       "    <tr>\n",
       "      <th id=\"T_e03af_level0_row6\" class=\"row_heading level0 row6\" >living_area</th>\n",
       "      <td id=\"T_e03af_row6_col0\" class=\"data row6 col0\" >0.585854</td>\n",
       "    </tr>\n",
       "    <tr>\n",
       "      <th id=\"T_e03af_level0_row7\" class=\"row_heading level0 row7\" >floor</th>\n",
       "      <td id=\"T_e03af_row7_col0\" class=\"data row7 col0\" >0.026632</td>\n",
       "    </tr>\n",
       "    <tr>\n",
       "      <th id=\"T_e03af_level0_row8\" class=\"row_heading level0 row8\" >is_apartment</th>\n",
       "      <td id=\"T_e03af_row8_col0\" class=\"data row8 col0\" >0.027516</td>\n",
       "    </tr>\n",
       "    <tr>\n",
       "      <th id=\"T_e03af_level0_row9\" class=\"row_heading level0 row9\" >studio</th>\n",
       "      <td id=\"T_e03af_row9_col0\" class=\"data row9 col0\" >-0.025377</td>\n",
       "    </tr>\n",
       "    <tr>\n",
       "      <th id=\"T_e03af_level0_row10\" class=\"row_heading level0 row10\" >open_plan</th>\n",
       "      <td id=\"T_e03af_row10_col0\" class=\"data row10 col0\" >-0.008618</td>\n",
       "    </tr>\n",
       "    <tr>\n",
       "      <th id=\"T_e03af_level0_row11\" class=\"row_heading level0 row11\" >kitchen_area</th>\n",
       "      <td id=\"T_e03af_row11_col0\" class=\"data row11 col0\" >0.513857</td>\n",
       "    </tr>\n",
       "    <tr>\n",
       "      <th id=\"T_e03af_level0_row12\" class=\"row_heading level0 row12\" >balcony</th>\n",
       "      <td id=\"T_e03af_row12_col0\" class=\"data row12 col0\" >0.008451</td>\n",
       "    </tr>\n",
       "    <tr>\n",
       "      <th id=\"T_e03af_level0_row13\" class=\"row_heading level0 row13\" >airports_nearest</th>\n",
       "      <td id=\"T_e03af_row13_col0\" class=\"data row13 col0\" >-0.026194</td>\n",
       "    </tr>\n",
       "    <tr>\n",
       "      <th id=\"T_e03af_level0_row14\" class=\"row_heading level0 row14\" >cityCenters_nearest</th>\n",
       "      <td id=\"T_e03af_row14_col0\" class=\"data row14 col0\" >-0.206198</td>\n",
       "    </tr>\n",
       "    <tr>\n",
       "      <th id=\"T_e03af_level0_row15\" class=\"row_heading level0 row15\" >parks_around3000</th>\n",
       "      <td id=\"T_e03af_row15_col0\" class=\"data row15 col0\" >0.197916</td>\n",
       "    </tr>\n",
       "    <tr>\n",
       "      <th id=\"T_e03af_level0_row16\" class=\"row_heading level0 row16\" >parks_nearest</th>\n",
       "      <td id=\"T_e03af_row16_col0\" class=\"data row16 col0\" >-0.016306</td>\n",
       "    </tr>\n",
       "    <tr>\n",
       "      <th id=\"T_e03af_level0_row17\" class=\"row_heading level0 row17\" >ponds_around3000</th>\n",
       "      <td id=\"T_e03af_row17_col0\" class=\"data row17 col0\" >0.208546</td>\n",
       "    </tr>\n",
       "    <tr>\n",
       "      <th id=\"T_e03af_level0_row18\" class=\"row_heading level0 row18\" >ponds_nearest</th>\n",
       "      <td id=\"T_e03af_row18_col0\" class=\"data row18 col0\" >-0.084858</td>\n",
       "    </tr>\n",
       "    <tr>\n",
       "      <th id=\"T_e03af_level0_row19\" class=\"row_heading level0 row19\" >days_exposition</th>\n",
       "      <td id=\"T_e03af_row19_col0\" class=\"data row19 col0\" >0.081146</td>\n",
       "    </tr>\n",
       "    <tr>\n",
       "      <th id=\"T_e03af_level0_row20\" class=\"row_heading level0 row20\" >living_area_ratio</th>\n",
       "      <td id=\"T_e03af_row20_col0\" class=\"data row20 col0\" >0.002587</td>\n",
       "    </tr>\n",
       "    <tr>\n",
       "      <th id=\"T_e03af_level0_row21\" class=\"row_heading level0 row21\" >kitchen_area_ratio</th>\n",
       "      <td id=\"T_e03af_row21_col0\" class=\"data row21 col0\" >-0.075802</td>\n",
       "    </tr>\n",
       "    <tr>\n",
       "      <th id=\"T_e03af_level0_row22\" class=\"row_heading level0 row22\" >square_meter_price</th>\n",
       "      <td id=\"T_e03af_row22_col0\" class=\"data row22 col0\" >0.737821</td>\n",
       "    </tr>\n",
       "    <tr>\n",
       "      <th id=\"T_e03af_level0_row23\" class=\"row_heading level0 row23\" >weekday_exposition</th>\n",
       "      <td id=\"T_e03af_row23_col0\" class=\"data row23 col0\" >0.001523</td>\n",
       "    </tr>\n",
       "    <tr>\n",
       "      <th id=\"T_e03af_level0_row24\" class=\"row_heading level0 row24\" >month_exposition</th>\n",
       "      <td id=\"T_e03af_row24_col0\" class=\"data row24 col0\" >0.002790</td>\n",
       "    </tr>\n",
       "    <tr>\n",
       "      <th id=\"T_e03af_level0_row25\" class=\"row_heading level0 row25\" >year_exposition</th>\n",
       "      <td id=\"T_e03af_row25_col0\" class=\"data row25 col0\" >-0.043072</td>\n",
       "    </tr>\n",
       "    <tr>\n",
       "      <th id=\"T_e03af_level0_row26\" class=\"row_heading level0 row26\" >floor_category_id</th>\n",
       "      <td id=\"T_e03af_row26_col0\" class=\"data row26 col0\" >0.057473</td>\n",
       "    </tr>\n",
       "    <tr>\n",
       "      <th id=\"T_e03af_level0_row27\" class=\"row_heading level0 row27\" >last_price_thousand</th>\n",
       "      <td id=\"T_e03af_row27_col0\" class=\"data row27 col0\" >1.000000</td>\n",
       "    </tr>\n",
       "  </tbody>\n",
       "</table>\n"
      ],
      "text/plain": [
       "<pandas.io.formats.style.Styler at 0x177d2555040>"
      ]
     },
     "execution_count": 216,
     "metadata": {},
     "output_type": "execute_result"
    }
   ],
   "source": [
    "data.corrwith(data['last_price']).to_frame().style.background_gradient(cmap=\"coolwarm\")"
   ]
  }
 ],
 "metadata": {
  "kernelspec": {
   "display_name": "Python 3 (ipykernel)",
   "language": "python",
   "name": "python3"
  },
  "language_info": {
   "codemirror_mode": {
    "name": "ipython",
    "version": 3
   },
   "file_extension": ".py",
   "mimetype": "text/x-python",
   "name": "python",
   "nbconvert_exporter": "python",
   "pygments_lexer": "ipython3",
   "version": "3.9.7"
  },
  "toc": {
   "base_numbering": 1,
   "nav_menu": {},
   "number_sections": true,
   "sideBar": false,
   "skip_h1_title": true,
   "title_cell": "Содержание",
   "title_sidebar": "Contents",
   "toc_cell": true,
   "toc_position": {
    "height": "calc(100% - 180px)",
    "left": "10px",
    "top": "150px",
    "width": "165px"
   },
   "toc_section_display": true,
   "toc_window_display": false
  }
 },
 "nbformat": 4,
 "nbformat_minor": 2
}
