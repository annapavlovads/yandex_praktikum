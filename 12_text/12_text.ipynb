{
 "cells": [
  {
   "cell_type": "markdown",
   "metadata": {},
   "source": [
    "# Проект для «Викишоп»"
   ]
  },
  {
   "cell_type": "markdown",
   "metadata": {},
   "source": [
    "Интернет-магазин «Викишоп» запускает новый сервис. Теперь пользователи могут редактировать и дополнять описания товаров, как в вики-сообществах. То есть клиенты предлагают свои правки и комментируют изменения других. Магазину нужен инструмент, который будет искать токсичные комментарии и отправлять их на модерацию. \n",
    "\n",
    "Обучите модель классифицировать комментарии на позитивные и негативные. В вашем распоряжении набор данных с разметкой о токсичности правок.\n",
    "\n",
    "Постройте модель со значением метрики качества *F1* не меньше 0.75. \n",
    "\n",
    "**Инструкция по выполнению проекта**\n",
    "\n",
    "1. Загрузите и подготовьте данные.\n",
    "2. Обучите разные модели. \n",
    "3. Сделайте выводы.\n",
    "\n",
    "Для выполнения проекта применять *BERT* необязательно, но вы можете попробовать.\n",
    "\n",
    "**Описание данных**\n",
    "\n",
    "Данные находятся в файле `toxic_comments.csv`. Столбец *text* в нём содержит текст комментария, а *toxic* — целевой признак."
   ]
  },
  {
   "cell_type": "markdown",
   "metadata": {},
   "source": [
    "## Подготовка"
   ]
  },
  {
   "cell_type": "code",
   "execution_count": 1,
   "metadata": {},
   "outputs": [
    {
     "name": "stderr",
     "output_type": "stream",
     "text": [
      "[nltk_data] Downloading package wordnet to\n",
      "[nltk_data]     C:\\Users\\pavlova\\AppData\\Roaming\\nltk_data...\n",
      "[nltk_data]   Package wordnet is already up-to-date!\n"
     ]
    }
   ],
   "source": [
    "import pandas as pd\n",
    "import numpy as np \n",
    "\n",
    "from sklearn.feature_extraction.text import CountVectorizer\n",
    "from sklearn.feature_extraction.text import TfidfVectorizer\n",
    "\n",
    "from sklearn.dummy import DummyClassifier\n",
    "from sklearn.linear_model import LogisticRegression, SGDClassifier\n",
    "from catboost import CatBoostClassifier\n",
    "\n",
    "import matplotlib.pyplot as plt\n",
    "import seaborn as sns\n",
    "\n",
    "from sklearn.model_selection import train_test_split, GridSearchCV, cross_val_score\n",
    "from sklearn.metrics import f1_score, precision_score, recall_score, accuracy_score, roc_auc_score, roc_curve\n",
    "from sklearn.metrics import confusion_matrix\n",
    "\n",
    "#NLP\n",
    "#from pymystem3 import Mystem\n",
    "\n",
    "import nltk\n",
    "nltk.download('wordnet')\n",
    "from nltk.stem import WordNetLemmatizer\n",
    "from nltk.corpus import stopwords \n",
    "\n",
    "import re\n",
    "\n",
    "import time \n",
    "\n",
    "import random \n",
    "from sklearn.utils import shuffle\n",
    "\n",
    "pd.set_option('display.max_columns', 40) #макс кол-во колонок в выводимых данных \n",
    "pd.set_option('display.max_rows', 20) #макс кол-во строк в выводимых данных\n",
    "pd.set_option('display.width', 80) #макс кол-во символов в строке\n",
    "import warnings\n",
    "warnings.simplefilter('ignore')\n",
    "pd.options.mode.chained_assignment = None\n",
    "\n",
    "rs=7777777\n",
    "sample_size=10_000"
   ]
  },
  {
   "cell_type": "code",
   "execution_count": 2,
   "metadata": {},
   "outputs": [],
   "source": [
    "start_time = time.time()"
   ]
  },
  {
   "cell_type": "code",
   "execution_count": 3,
   "metadata": {},
   "outputs": [],
   "source": [
    "try: \n",
    "    df=pd.read_csv('/datasets/toxic_comments.csv')\n",
    "except: \n",
    "    df=pd.read_csv('datasets/toxic_comments.csv')"
   ]
  },
  {
   "cell_type": "code",
   "execution_count": 4,
   "metadata": {},
   "outputs": [
    {
     "name": "stdout",
     "output_type": "stream",
     "text": [
      "<class 'pandas.core.frame.DataFrame'>\n",
      "RangeIndex: 159571 entries, 0 to 159570\n",
      "Data columns (total 2 columns):\n",
      " #   Column  Non-Null Count   Dtype \n",
      "---  ------  --------------   ----- \n",
      " 0   text    159571 non-null  object\n",
      " 1   toxic   159571 non-null  int64 \n",
      "dtypes: int64(1), object(1)\n",
      "memory usage: 2.4+ MB\n"
     ]
    }
   ],
   "source": [
    "df.info()"
   ]
  },
  {
   "cell_type": "code",
   "execution_count": 5,
   "metadata": {},
   "outputs": [
    {
     "data": {
      "text/html": [
       "<div>\n",
       "<style scoped>\n",
       "    .dataframe tbody tr th:only-of-type {\n",
       "        vertical-align: middle;\n",
       "    }\n",
       "\n",
       "    .dataframe tbody tr th {\n",
       "        vertical-align: top;\n",
       "    }\n",
       "\n",
       "    .dataframe thead th {\n",
       "        text-align: right;\n",
       "    }\n",
       "</style>\n",
       "<table border=\"1\" class=\"dataframe\">\n",
       "  <thead>\n",
       "    <tr style=\"text-align: right;\">\n",
       "      <th></th>\n",
       "      <th>text</th>\n",
       "      <th>toxic</th>\n",
       "    </tr>\n",
       "  </thead>\n",
       "  <tbody>\n",
       "    <tr>\n",
       "      <th>0</th>\n",
       "      <td>Explanation\\nWhy the edits made under my usern...</td>\n",
       "      <td>0</td>\n",
       "    </tr>\n",
       "    <tr>\n",
       "      <th>1</th>\n",
       "      <td>D'aww! He matches this background colour I'm s...</td>\n",
       "      <td>0</td>\n",
       "    </tr>\n",
       "    <tr>\n",
       "      <th>2</th>\n",
       "      <td>Hey man, I'm really not trying to edit war. It...</td>\n",
       "      <td>0</td>\n",
       "    </tr>\n",
       "    <tr>\n",
       "      <th>3</th>\n",
       "      <td>\"\\nMore\\nI can't make any real suggestions on ...</td>\n",
       "      <td>0</td>\n",
       "    </tr>\n",
       "    <tr>\n",
       "      <th>4</th>\n",
       "      <td>You, sir, are my hero. Any chance you remember...</td>\n",
       "      <td>0</td>\n",
       "    </tr>\n",
       "  </tbody>\n",
       "</table>\n",
       "</div>"
      ],
      "text/plain": [
       "                                                text  toxic\n",
       "0  Explanation\\nWhy the edits made under my usern...      0\n",
       "1  D'aww! He matches this background colour I'm s...      0\n",
       "2  Hey man, I'm really not trying to edit war. It...      0\n",
       "3  \"\\nMore\\nI can't make any real suggestions on ...      0\n",
       "4  You, sir, are my hero. Any chance you remember...      0"
      ]
     },
     "execution_count": 5,
     "metadata": {},
     "output_type": "execute_result"
    }
   ],
   "source": [
    "df.head()"
   ]
  },
  {
   "cell_type": "markdown",
   "metadata": {},
   "source": [
    "Тексты / комментарии англоязычные."
   ]
  },
  {
   "cell_type": "code",
   "execution_count": 6,
   "metadata": {},
   "outputs": [
    {
     "data": {
      "text/plain": [
       "0    143346\n",
       "1     16225\n",
       "Name: toxic, dtype: int64"
      ]
     },
     "execution_count": 6,
     "metadata": {},
     "output_type": "execute_result"
    }
   ],
   "source": [
    "df.toxic.value_counts()"
   ]
  },
  {
   "cell_type": "markdown",
   "metadata": {},
   "source": [
    "Видим дисбаланс классов. Только 11% комментариев \"токсичные\". Это хорошо, но не для обучения модели. Возможно, позже сделаем ресемплинг, а для логистической регрессии установим class_weight=balanced."
   ]
  },
  {
   "cell_type": "markdown",
   "metadata": {},
   "source": [
    "Разобьем текст на токены, проведем очистку и лемматизацию"
   ]
  },
  {
   "cell_type": "code",
   "execution_count": 7,
   "metadata": {},
   "outputs": [],
   "source": [
    "m = WordNetLemmatizer()"
   ]
  },
  {
   "cell_type": "code",
   "execution_count": 8,
   "metadata": {},
   "outputs": [],
   "source": [
    "def lemmatize_text(text):\n",
    "    lemm_text = \"\".join(m.lemmatize(text.lower()))\n",
    "    cleared_text = re.sub(r'[^a-zA-Z]', ' ', lemm_text) \n",
    "    return \" \".join(cleared_text.split())"
   ]
  },
  {
   "cell_type": "code",
   "execution_count": 9,
   "metadata": {},
   "outputs": [
    {
     "name": "stdout",
     "output_type": "stream",
     "text": [
      "Wall time: 9.21 s\n"
     ]
    }
   ],
   "source": [
    "%%time\n",
    "df['lemm_text'] = df['text'].apply(lemmatize_text)"
   ]
  },
  {
   "cell_type": "code",
   "execution_count": 10,
   "metadata": {},
   "outputs": [
    {
     "data": {
      "text/html": [
       "<div>\n",
       "<style scoped>\n",
       "    .dataframe tbody tr th:only-of-type {\n",
       "        vertical-align: middle;\n",
       "    }\n",
       "\n",
       "    .dataframe tbody tr th {\n",
       "        vertical-align: top;\n",
       "    }\n",
       "\n",
       "    .dataframe thead th {\n",
       "        text-align: right;\n",
       "    }\n",
       "</style>\n",
       "<table border=\"1\" class=\"dataframe\">\n",
       "  <thead>\n",
       "    <tr style=\"text-align: right;\">\n",
       "      <th></th>\n",
       "      <th>text</th>\n",
       "      <th>toxic</th>\n",
       "      <th>lemm_text</th>\n",
       "    </tr>\n",
       "  </thead>\n",
       "  <tbody>\n",
       "    <tr>\n",
       "      <th>0</th>\n",
       "      <td>Explanation\\nWhy the edits made under my usern...</td>\n",
       "      <td>0</td>\n",
       "      <td>explanation why the edits made under my userna...</td>\n",
       "    </tr>\n",
       "    <tr>\n",
       "      <th>1</th>\n",
       "      <td>D'aww! He matches this background colour I'm s...</td>\n",
       "      <td>0</td>\n",
       "      <td>d aww he matches this background colour i m se...</td>\n",
       "    </tr>\n",
       "    <tr>\n",
       "      <th>2</th>\n",
       "      <td>Hey man, I'm really not trying to edit war. It...</td>\n",
       "      <td>0</td>\n",
       "      <td>hey man i m really not trying to edit war it s...</td>\n",
       "    </tr>\n",
       "    <tr>\n",
       "      <th>3</th>\n",
       "      <td>\"\\nMore\\nI can't make any real suggestions on ...</td>\n",
       "      <td>0</td>\n",
       "      <td>more i can t make any real suggestions on impr...</td>\n",
       "    </tr>\n",
       "    <tr>\n",
       "      <th>4</th>\n",
       "      <td>You, sir, are my hero. Any chance you remember...</td>\n",
       "      <td>0</td>\n",
       "      <td>you sir are my hero any chance you remember wh...</td>\n",
       "    </tr>\n",
       "  </tbody>\n",
       "</table>\n",
       "</div>"
      ],
      "text/plain": [
       "                                                text  toxic  \\\n",
       "0  Explanation\\nWhy the edits made under my usern...      0   \n",
       "1  D'aww! He matches this background colour I'm s...      0   \n",
       "2  Hey man, I'm really not trying to edit war. It...      0   \n",
       "3  \"\\nMore\\nI can't make any real suggestions on ...      0   \n",
       "4  You, sir, are my hero. Any chance you remember...      0   \n",
       "\n",
       "                                           lemm_text  \n",
       "0  explanation why the edits made under my userna...  \n",
       "1  d aww he matches this background colour i m se...  \n",
       "2  hey man i m really not trying to edit war it s...  \n",
       "3  more i can t make any real suggestions on impr...  \n",
       "4  you sir are my hero any chance you remember wh...  "
      ]
     },
     "execution_count": 10,
     "metadata": {},
     "output_type": "execute_result"
    }
   ],
   "source": [
    "df.head()"
   ]
  },
  {
   "cell_type": "code",
   "execution_count": 11,
   "metadata": {},
   "outputs": [
    {
     "data": {
      "text/plain": [
       "(159571, 3)"
      ]
     },
     "execution_count": 11,
     "metadata": {},
     "output_type": "execute_result"
    }
   ],
   "source": [
    "df.shape"
   ]
  },
  {
   "cell_type": "code",
   "execution_count": 12,
   "metadata": {},
   "outputs": [],
   "source": [
    "df = df.drop(['text'], axis=1)\n",
    "del m"
   ]
  },
  {
   "cell_type": "code",
   "execution_count": 13,
   "metadata": {},
   "outputs": [
    {
     "data": {
      "text/html": [
       "<div>\n",
       "<style scoped>\n",
       "    .dataframe tbody tr th:only-of-type {\n",
       "        vertical-align: middle;\n",
       "    }\n",
       "\n",
       "    .dataframe tbody tr th {\n",
       "        vertical-align: top;\n",
       "    }\n",
       "\n",
       "    .dataframe thead th {\n",
       "        text-align: right;\n",
       "    }\n",
       "</style>\n",
       "<table border=\"1\" class=\"dataframe\">\n",
       "  <thead>\n",
       "    <tr style=\"text-align: right;\">\n",
       "      <th></th>\n",
       "      <th>toxic</th>\n",
       "      <th>lemm_text</th>\n",
       "    </tr>\n",
       "  </thead>\n",
       "  <tbody>\n",
       "    <tr>\n",
       "      <th>0</th>\n",
       "      <td>0</td>\n",
       "      <td>explanation why the edits made under my userna...</td>\n",
       "    </tr>\n",
       "    <tr>\n",
       "      <th>1</th>\n",
       "      <td>0</td>\n",
       "      <td>d aww he matches this background colour i m se...</td>\n",
       "    </tr>\n",
       "    <tr>\n",
       "      <th>2</th>\n",
       "      <td>0</td>\n",
       "      <td>hey man i m really not trying to edit war it s...</td>\n",
       "    </tr>\n",
       "    <tr>\n",
       "      <th>3</th>\n",
       "      <td>0</td>\n",
       "      <td>more i can t make any real suggestions on impr...</td>\n",
       "    </tr>\n",
       "    <tr>\n",
       "      <th>4</th>\n",
       "      <td>0</td>\n",
       "      <td>you sir are my hero any chance you remember wh...</td>\n",
       "    </tr>\n",
       "  </tbody>\n",
       "</table>\n",
       "</div>"
      ],
      "text/plain": [
       "   toxic                                          lemm_text\n",
       "0      0  explanation why the edits made under my userna...\n",
       "1      0  d aww he matches this background colour i m se...\n",
       "2      0  hey man i m really not trying to edit war it s...\n",
       "3      0  more i can t make any real suggestions on impr...\n",
       "4      0  you sir are my hero any chance you remember wh..."
      ]
     },
     "execution_count": 13,
     "metadata": {},
     "output_type": "execute_result"
    }
   ],
   "source": [
    "df.head()"
   ]
  },
  {
   "cell_type": "markdown",
   "metadata": {},
   "source": [
    "Разделим выборку на обучающую, валидационную и тестовую в пропорции 60-20-20%"
   ]
  },
  {
   "cell_type": "code",
   "execution_count": 14,
   "metadata": {},
   "outputs": [],
   "source": [
    "target = df['toxic']\n",
    "features = df.drop(['toxic'], axis=1)\n",
    "features_train, features_valid, target_train, target_valid = train_test_split(features, \n",
    "                                                                              target, \n",
    "                                                                              test_size=0.4, \n",
    "                                                                              random_state=rs)\n",
    "features_valid, features_test, target_valid, target_test = train_test_split(features_valid, \n",
    "                                                                            target_valid, \n",
    "                                                                            test_size=0.5,\n",
    "                                                                            random_state=rs)"
   ]
  },
  {
   "cell_type": "code",
   "execution_count": 15,
   "metadata": {},
   "outputs": [
    {
     "name": "stderr",
     "output_type": "stream",
     "text": [
      "[nltk_data] Downloading package stopwords to\n",
      "[nltk_data]     C:\\Users\\pavlova\\AppData\\Roaming\\nltk_data...\n",
      "[nltk_data]   Package stopwords is already up-to-date!\n"
     ]
    }
   ],
   "source": [
    "nltk.download('stopwords')\n",
    "stopwords = set(stopwords.words('english'))"
   ]
  },
  {
   "cell_type": "code",
   "execution_count": 16,
   "metadata": {},
   "outputs": [],
   "source": [
    "count_tf_idf = TfidfVectorizer(stop_words=stopwords)"
   ]
  },
  {
   "cell_type": "code",
   "execution_count": 17,
   "metadata": {},
   "outputs": [],
   "source": [
    "features_train = count_tf_idf.fit_transform(features_train['lemm_text'].values.astype('U'))\n",
    "features_valid = count_tf_idf.transform(features_valid['lemm_text'].values.astype('U'))\n",
    "features_test = count_tf_idf.transform(features_test['lemm_text'].values.astype('U'))"
   ]
  },
  {
   "cell_type": "code",
   "execution_count": 18,
   "metadata": {},
   "outputs": [
    {
     "data": {
      "text/plain": [
       "(95742, 125946)"
      ]
     },
     "metadata": {},
     "output_type": "display_data"
    },
    {
     "data": {
      "text/plain": [
       "(31914, 125946)"
      ]
     },
     "metadata": {},
     "output_type": "display_data"
    },
    {
     "data": {
      "text/plain": [
       "(31915, 125946)"
      ]
     },
     "metadata": {},
     "output_type": "display_data"
    }
   ],
   "source": [
    "display(features_train.shape)\n",
    "display(features_valid.shape)\n",
    "display(features_test.shape)"
   ]
  },
  {
   "cell_type": "code",
   "execution_count": 19,
   "metadata": {},
   "outputs": [],
   "source": [
    "cv_counts = 3"
   ]
  },
  {
   "cell_type": "markdown",
   "metadata": {},
   "source": [
    "F1 на кросс-валидации:"
   ]
  },
  {
   "cell_type": "code",
   "execution_count": 20,
   "metadata": {},
   "outputs": [
    {
     "data": {
      "text/plain": [
       "0.6795812203255008"
      ]
     },
     "execution_count": 20,
     "metadata": {},
     "output_type": "execute_result"
    }
   ],
   "source": [
    "classificator = LogisticRegression()\n",
    "train_f1 = cross_val_score(classificator, features_train, target_train, cv=cv_counts, scoring='f1').mean()\n",
    "train_f1"
   ]
  },
  {
   "cell_type": "markdown",
   "metadata": {},
   "source": [
    "F1 на кросс-валидации с балансированными классами:"
   ]
  },
  {
   "cell_type": "code",
   "execution_count": 21,
   "metadata": {},
   "outputs": [
    {
     "data": {
      "text/plain": [
       "0.7501914961477499"
      ]
     },
     "execution_count": 21,
     "metadata": {},
     "output_type": "execute_result"
    }
   ],
   "source": [
    "classificator = LogisticRegression(class_weight='balanced', random_state=rs)\n",
    "train_f1_balanced = cross_val_score(classificator, \n",
    "                                    features_train, \n",
    "                                    target_train, \n",
    "                                    cv=cv_counts, \n",
    "                                    scoring='f1').mean()\n",
    "train_f1_balanced"
   ]
  },
  {
   "cell_type": "markdown",
   "metadata": {},
   "source": [
    "Прирост F1-меры: "
   ]
  },
  {
   "cell_type": "code",
   "execution_count": 22,
   "metadata": {},
   "outputs": [
    {
     "data": {
      "text/plain": [
       "0.0706102758222491"
      ]
     },
     "execution_count": 22,
     "metadata": {},
     "output_type": "execute_result"
    }
   ],
   "source": [
    "train_f1_balanced - train_f1"
   ]
  },
  {
   "cell_type": "markdown",
   "metadata": {},
   "source": [
    "ROC кривая:"
   ]
  },
  {
   "cell_type": "code",
   "execution_count": 23,
   "metadata": {},
   "outputs": [
    {
     "data": {
      "image/png": "[encoded data removed]",
      "text/plain": [
       "<Figure size 864x648 with 1 Axes>"
      ]
     },
     "metadata": {
      "needs_background": "light"
     },
     "output_type": "display_data"
    }
   ],
   "source": [
    "plt.figure(figsize=[12,9])\n",
    "plt.plot([0, 1], [0, 1], linestyle='--', label='RandomModel')\n",
    "\n",
    "classificator = LogisticRegression(class_weight='balanced', random_state=rs)\n",
    "classificator.fit(features_train, target_train)\n",
    "probabilities_valid = classificator.predict_proba(features_valid)\n",
    "probabilities_one_valid = probabilities_valid[:, 1]\n",
    "fpr, tpr, thresholds = roc_curve(target_valid, probabilities_one_valid)\n",
    "auc_roc = roc_auc_score(target_valid, probabilities_one_valid)\n",
    "valid_f1 = f1_score(target_valid, classificator.predict(features_valid))\n",
    "plt.plot(fpr, tpr, label='LR')\n",
    "\n",
    "plt.xlim([0,1])\n",
    "plt.ylim([0,1])\n",
    "\n",
    "plt.xlabel(\"False Positive Rate\")\n",
    "plt.ylabel(\"True Positive Rate\")\n",
    "\n",
    "plt.legend(loc='lower right', fontsize='x-large')\n",
    "\n",
    "plt.title(\"ROC-кривая\")\n",
    "plt.show()"
   ]
  },
  {
   "cell_type": "markdown",
   "metadata": {},
   "source": [
    "На этапе обработки данных перевели текст при помощи nltk и TfidfVectorizer в числовые матрицы. \n",
    "\n",
    "Примерно 11% комментариев токсичны, пропусков нет. \n",
    "\n",
    "На тестировании лучшие F1 и AUC-ROC у классификатора, где учтен баланс классов. \n",
    "\n",
    "Перейдем к этапу работы с моделями ML."
   ]
  },
  {
   "cell_type": "markdown",
   "metadata": {},
   "source": [
    "## Обучение"
   ]
  },
  {
   "cell_type": "markdown",
   "metadata": {},
   "source": [
    "Используем следующие модели:"
   ]
  },
  {
   "cell_type": "markdown",
   "metadata": {},
   "source": [
    "- LogisticRegression\n",
    "- SGDClassifier\n",
    "- CatBoostClassifier"
   ]
  },
  {
   "cell_type": "markdown",
   "metadata": {},
   "source": [
    "### Dummy Classifier"
   ]
  },
  {
   "cell_type": "markdown",
   "metadata": {},
   "source": [
    "Для проверки остальных моделей посмотрим, что покажет Dummy Classifier"
   ]
  },
  {
   "cell_type": "code",
   "execution_count": 24,
   "metadata": {},
   "outputs": [
    {
     "data": {
      "text/plain": [
       "0.18388406236958915"
      ]
     },
     "execution_count": 24,
     "metadata": {},
     "output_type": "execute_result"
    }
   ],
   "source": [
    "dummy = DummyClassifier(strategy=\"constant\", constant=1, random_state=rs)\n",
    "dummy.fit(features_train, target_train)\n",
    "f1_score(target_train, dummy.predict(target_train))"
   ]
  },
  {
   "cell_type": "markdown",
   "metadata": {},
   "source": [
    "F1 при валидации:"
   ]
  },
  {
   "cell_type": "code",
   "execution_count": 25,
   "metadata": {},
   "outputs": [
    {
     "data": {
      "text/plain": [
       "0.18737398120012494"
      ]
     },
     "execution_count": 25,
     "metadata": {},
     "output_type": "execute_result"
    }
   ],
   "source": [
    "f1_score(target_valid, dummy.predict(target_valid))"
   ]
  },
  {
   "cell_type": "markdown",
   "metadata": {},
   "source": [
    "Ожидаемо низкая мера F1. "
   ]
  },
  {
   "cell_type": "markdown",
   "metadata": {},
   "source": [
    "Напишем функицию для вывода F1 и матрицы ошибок обученной модели на тестовых данных и перейдем к моделям."
   ]
  },
  {
   "cell_type": "code",
   "execution_count": 26,
   "metadata": {},
   "outputs": [],
   "source": [
    "def model_report(fitted_model, feature, target):\n",
    "\n",
    "    pred = fitted_model.predict(feature)\n",
    "    conf_matrix = confusion_matrix(target, pred)\n",
    "    \n",
    "    print('f1_score = {:.3}'.format(f1_score(target, pred)))\n",
    "    \n",
    "    plt.figure(figsize=(4,4))\n",
    "    sns.heatmap(conf_matrix,annot=True,cmap=\"Blues\",fmt=\"d\",cbar=False)\n",
    "    plt.title('Confusion matrix')"
   ]
  },
  {
   "cell_type": "markdown",
   "metadata": {},
   "source": [
    "### LogisticRegression"
   ]
  },
  {
   "cell_type": "markdown",
   "metadata": {},
   "source": [
    "Напишем функцию для поиска и вывода на экран лучших параметров модели с помощью GridSearchCV"
   ]
  },
  {
   "cell_type": "code",
   "execution_count": 27,
   "metadata": {},
   "outputs": [],
   "source": [
    "def grid_search(model, params, features, target):\n",
    "    search = GridSearchCV(model, params, verbose=1, cv=5, scoring='f1', n_jobs=-1)\n",
    "    search.fit(features, target)\n",
    "    print(search.best_score_)\n",
    "    print(search.best_params_)  "
   ]
  },
  {
   "cell_type": "code",
   "execution_count": 28,
   "metadata": {},
   "outputs": [
    {
     "name": "stdout",
     "output_type": "stream",
     "text": [
      "Fitting 5 folds for each of 12 candidates, totalling 60 fits\n",
      "0.7689516385003101\n",
      "{'C': 10, 'tol': 0.001}\n",
      "Wall time: 2min 21s\n"
     ]
    }
   ],
   "source": [
    "%%time\n",
    "lr = LogisticRegression(class_weight='balanced', random_state=rs)\n",
    "lr_params = dict(C = [0.1,1,10,100], \n",
    "                 tol = [1e-03, 1e-04, 1e-05])\n",
    "grid_search(lr, lr_params, features_train, target_train)"
   ]
  },
  {
   "cell_type": "code",
   "execution_count": 29,
   "metadata": {},
   "outputs": [
    {
     "data": {
      "text/plain": [
       "0.931112501805228"
      ]
     },
     "execution_count": 29,
     "metadata": {},
     "output_type": "execute_result"
    }
   ],
   "source": [
    "lr_final = LogisticRegression(C=10, tol=0.001, class_weight='balanced', random_state=rs)\n",
    "lr_final.fit(features_train, target_train)\n",
    "f1_score(target_train, lr_final.predict(features_train))"
   ]
  },
  {
   "cell_type": "code",
   "execution_count": 30,
   "metadata": {},
   "outputs": [],
   "source": [
    "F1_LR_valid = f1_score(target_valid, lr_final.predict(features_valid))\n",
    "F1_LR_valid"
   ]
  },
  {
   "cell_type": "code",
   "execution_count": 31,
   "metadata": {},
   "outputs": [
    {
     "name": "stdout",
     "output_type": "stream",
     "text": [
      "f1_score = 0.76\n"
     ]
    },
    {
     "data": {
      "image/png": "[encoded data removed]",
      "text/plain": [
       "<Figure size 288x288 with 1 Axes>"
      ]
     },
     "metadata": {
      "needs_background": "light"
     },
     "output_type": "display_data"
    }
   ],
   "source": [
    "model_report(lr_final, features_valid, target_valid)"
   ]
  },
  {
   "cell_type": "markdown",
   "metadata": {},
   "source": [
    "### SGDClassifier"
   ]
  },
  {
   "cell_type": "code",
   "execution_count": 32,
   "metadata": {},
   "outputs": [
    {
     "name": "stdout",
     "output_type": "stream",
     "text": [
      "# Tuning hyper-parameters for f1_score\n",
      "\n",
      "Best parameters set found on development set:\n",
      "\n",
      "{'eta0': 0.1, 'learning_rate': 'constant', 'loss': 'modified_huber', 'random_state': 7777777}\n",
      "\n",
      "Grid scores on development set:\n",
      "\n",
      "0.596912 for {'eta0': 0.01, 'learning_rate': 'constant', 'loss': 'hinge', 'random_state': 7777777}\n",
      "0.435298 for {'eta0': 0.01, 'learning_rate': 'constant', 'loss': 'log', 'random_state': 7777777}\n",
      "0.715465 for {'eta0': 0.01, 'learning_rate': 'constant', 'loss': 'modified_huber', 'random_state': 7777777}\n",
      "0.621234 for {'eta0': 0.01, 'learning_rate': 'optimal', 'loss': 'hinge', 'random_state': 7777777}\n",
      "0.448906 for {'eta0': 0.01, 'learning_rate': 'optimal', 'loss': 'log', 'random_state': 7777777}\n",
      "0.718198 for {'eta0': 0.01, 'learning_rate': 'optimal', 'loss': 'modified_huber', 'random_state': 7777777}\n",
      "0.000000 for {'eta0': 0.01, 'learning_rate': 'invscaling', 'loss': 'hinge', 'random_state': 7777777}\n",
      "0.000000 for {'eta0': 0.01, 'learning_rate': 'invscaling', 'loss': 'log', 'random_state': 7777777}\n",
      "0.009649 for {'eta0': 0.01, 'learning_rate': 'invscaling', 'loss': 'modified_huber', 'random_state': 7777777}\n",
      "0.601784 for {'eta0': 0.01, 'learning_rate': 'adaptive', 'loss': 'hinge', 'random_state': 7777777}\n",
      "0.436970 for {'eta0': 0.01, 'learning_rate': 'adaptive', 'loss': 'log', 'random_state': 7777777}\n",
      "0.714232 for {'eta0': 0.01, 'learning_rate': 'adaptive', 'loss': 'modified_huber', 'random_state': 7777777}\n",
      "0.615371 for {'eta0': 0.05, 'learning_rate': 'constant', 'loss': 'hinge', 'random_state': 7777777}\n",
      "0.447468 for {'eta0': 0.05, 'learning_rate': 'constant', 'loss': 'log', 'random_state': 7777777}\n",
      "0.720435 for {'eta0': 0.05, 'learning_rate': 'constant', 'loss': 'modified_huber', 'random_state': 7777777}\n",
      "0.621234 for {'eta0': 0.05, 'learning_rate': 'optimal', 'loss': 'hinge', 'random_state': 7777777}\n",
      "0.448906 for {'eta0': 0.05, 'learning_rate': 'optimal', 'loss': 'log', 'random_state': 7777777}\n",
      "0.718198 for {'eta0': 0.05, 'learning_rate': 'optimal', 'loss': 'modified_huber', 'random_state': 7777777}\n",
      "0.000000 for {'eta0': 0.05, 'learning_rate': 'invscaling', 'loss': 'hinge', 'random_state': 7777777}\n",
      "0.000000 for {'eta0': 0.05, 'learning_rate': 'invscaling', 'loss': 'log', 'random_state': 7777777}\n",
      "0.162095 for {'eta0': 0.05, 'learning_rate': 'invscaling', 'loss': 'modified_huber', 'random_state': 7777777}\n",
      "0.621416 for {'eta0': 0.05, 'learning_rate': 'adaptive', 'loss': 'hinge', 'random_state': 7777777}\n",
      "0.447831 for {'eta0': 0.05, 'learning_rate': 'adaptive', 'loss': 'log', 'random_state': 7777777}\n",
      "0.718127 for {'eta0': 0.05, 'learning_rate': 'adaptive', 'loss': 'modified_huber', 'random_state': 7777777}\n",
      "0.619419 for {'eta0': 0.1, 'learning_rate': 'constant', 'loss': 'hinge', 'random_state': 7777777}\n",
      "0.451466 for {'eta0': 0.1, 'learning_rate': 'constant', 'loss': 'log', 'random_state': 7777777}\n",
      "0.727698 for {'eta0': 0.1, 'learning_rate': 'constant', 'loss': 'modified_huber', 'random_state': 7777777}\n",
      "0.621234 for {'eta0': 0.1, 'learning_rate': 'optimal', 'loss': 'hinge', 'random_state': 7777777}\n",
      "0.448906 for {'eta0': 0.1, 'learning_rate': 'optimal', 'loss': 'log', 'random_state': 7777777}\n",
      "0.718198 for {'eta0': 0.1, 'learning_rate': 'optimal', 'loss': 'modified_huber', 'random_state': 7777777}\n",
      "0.008832 for {'eta0': 0.1, 'learning_rate': 'invscaling', 'loss': 'hinge', 'random_state': 7777777}\n",
      "0.008832 for {'eta0': 0.1, 'learning_rate': 'invscaling', 'loss': 'log', 'random_state': 7777777}\n",
      "0.318063 for {'eta0': 0.1, 'learning_rate': 'invscaling', 'loss': 'modified_huber', 'random_state': 7777777}\n",
      "0.621917 for {'eta0': 0.1, 'learning_rate': 'adaptive', 'loss': 'hinge', 'random_state': 7777777}\n",
      "0.448284 for {'eta0': 0.1, 'learning_rate': 'adaptive', 'loss': 'log', 'random_state': 7777777}\n",
      "0.717948 for {'eta0': 0.1, 'learning_rate': 'adaptive', 'loss': 'modified_huber', 'random_state': 7777777}\n",
      "0.615356 for {'eta0': 0.2, 'learning_rate': 'constant', 'loss': 'hinge', 'random_state': 7777777}\n",
      "0.457507 for {'eta0': 0.2, 'learning_rate': 'constant', 'loss': 'log', 'random_state': 7777777}\n",
      "0.725085 for {'eta0': 0.2, 'learning_rate': 'constant', 'loss': 'modified_huber', 'random_state': 7777777}\n",
      "0.621234 for {'eta0': 0.2, 'learning_rate': 'optimal', 'loss': 'hinge', 'random_state': 7777777}\n",
      "0.448906 for {'eta0': 0.2, 'learning_rate': 'optimal', 'loss': 'log', 'random_state': 7777777}\n",
      "0.718198 for {'eta0': 0.2, 'learning_rate': 'optimal', 'loss': 'modified_huber', 'random_state': 7777777}\n",
      "0.105527 for {'eta0': 0.2, 'learning_rate': 'invscaling', 'loss': 'hinge', 'random_state': 7777777}\n",
      "0.037241 for {'eta0': 0.2, 'learning_rate': 'invscaling', 'loss': 'log', 'random_state': 7777777}\n",
      "0.446301 for {'eta0': 0.2, 'learning_rate': 'invscaling', 'loss': 'modified_huber', 'random_state': 7777777}\n",
      "0.622496 for {'eta0': 0.2, 'learning_rate': 'adaptive', 'loss': 'hinge', 'random_state': 7777777}\n",
      "0.447671 for {'eta0': 0.2, 'learning_rate': 'adaptive', 'loss': 'log', 'random_state': 7777777}\n",
      "0.717927 for {'eta0': 0.2, 'learning_rate': 'adaptive', 'loss': 'modified_huber', 'random_state': 7777777}\n",
      "0.615920 for {'eta0': 0.3, 'learning_rate': 'constant', 'loss': 'hinge', 'random_state': 7777777}\n",
      "0.459944 for {'eta0': 0.3, 'learning_rate': 'constant', 'loss': 'log', 'random_state': 7777777}\n",
      "0.725303 for {'eta0': 0.3, 'learning_rate': 'constant', 'loss': 'modified_huber', 'random_state': 7777777}\n",
      "0.621234 for {'eta0': 0.3, 'learning_rate': 'optimal', 'loss': 'hinge', 'random_state': 7777777}\n",
      "0.448906 for {'eta0': 0.3, 'learning_rate': 'optimal', 'loss': 'log', 'random_state': 7777777}\n",
      "0.718198 for {'eta0': 0.3, 'learning_rate': 'optimal', 'loss': 'modified_huber', 'random_state': 7777777}\n",
      "0.214723 for {'eta0': 0.3, 'learning_rate': 'invscaling', 'loss': 'hinge', 'random_state': 7777777}\n",
      "0.064653 for {'eta0': 0.3, 'learning_rate': 'invscaling', 'loss': 'log', 'random_state': 7777777}\n",
      "0.514904 for {'eta0': 0.3, 'learning_rate': 'invscaling', 'loss': 'modified_huber', 'random_state': 7777777}\n",
      "0.621952 for {'eta0': 0.3, 'learning_rate': 'adaptive', 'loss': 'hinge', 'random_state': 7777777}\n",
      "0.448174 for {'eta0': 0.3, 'learning_rate': 'adaptive', 'loss': 'log', 'random_state': 7777777}\n",
      "0.717790 for {'eta0': 0.3, 'learning_rate': 'adaptive', 'loss': 'modified_huber', 'random_state': 7777777}\n",
      "0.616410 for {'eta0': 0.5, 'learning_rate': 'constant', 'loss': 'hinge', 'random_state': 7777777}\n",
      "0.460953 for {'eta0': 0.5, 'learning_rate': 'constant', 'loss': 'log', 'random_state': 7777777}\n",
      "0.718085 for {'eta0': 0.5, 'learning_rate': 'constant', 'loss': 'modified_huber', 'random_state': 7777777}\n",
      "0.621234 for {'eta0': 0.5, 'learning_rate': 'optimal', 'loss': 'hinge', 'random_state': 7777777}\n",
      "0.448906 for {'eta0': 0.5, 'learning_rate': 'optimal', 'loss': 'log', 'random_state': 7777777}\n",
      "0.718198 for {'eta0': 0.5, 'learning_rate': 'optimal', 'loss': 'modified_huber', 'random_state': 7777777}\n",
      "0.317519 for {'eta0': 0.5, 'learning_rate': 'invscaling', 'loss': 'hinge', 'random_state': 7777777}\n",
      "0.124586 for {'eta0': 0.5, 'learning_rate': 'invscaling', 'loss': 'log', 'random_state': 7777777}\n",
      "0.580133 for {'eta0': 0.5, 'learning_rate': 'invscaling', 'loss': 'modified_huber', 'random_state': 7777777}\n",
      "0.622924 for {'eta0': 0.5, 'learning_rate': 'adaptive', 'loss': 'hinge', 'random_state': 7777777}\n",
      "0.448171 for {'eta0': 0.5, 'learning_rate': 'adaptive', 'loss': 'log', 'random_state': 7777777}\n",
      "0.717705 for {'eta0': 0.5, 'learning_rate': 'adaptive', 'loss': 'modified_huber', 'random_state': 7777777}\n",
      "\n",
      "Wall time: 2min 51s\n"
     ]
    }
   ],
   "source": [
    "%%time\n",
    "\n",
    "classificator = SGDClassifier()\n",
    "hyperparams = [\n",
    "    {'loss':['hinge', 'log', 'modified_huber'],\n",
    "                'learning_rate':['constant', 'optimal', 'invscaling', 'adaptive'],\n",
    "                'eta0':[0.01, 0.05, 0.1, 0.2, 0.3, 0.5],\n",
    "                'random_state': [rs]}\n",
    "]\n",
    "\n",
    "\n",
    "print('# Tuning hyper-parameters for f1_score')\n",
    "print()\n",
    "clf = GridSearchCV(classificator, hyperparams, scoring='f1',cv=cv_counts)\n",
    "clf.fit(features_train, target_train)\n",
    "print(\"Best parameters set found on development set:\")\n",
    "print()\n",
    "SGDC_best_params = clf.best_params_\n",
    "print(SGDC_best_params)\n",
    "print()\n",
    "print(\"Grid scores on development set:\")\n",
    "print()\n",
    "means = clf.cv_results_['mean_test_score']\n",
    "stds = clf.cv_results_['std_test_score']\n",
    "for mean, std, params in zip(means, stds, clf.cv_results_['params']):\n",
    "    print(\"%0.6f for %r\"% (mean, params))\n",
    "print()\n",
    "\n",
    "cv_f1_SGDC = max(means)"
   ]
  },
  {
   "cell_type": "code",
   "execution_count": 33,
   "metadata": {},
   "outputs": [
    {
     "name": "stdout",
     "output_type": "stream",
     "text": [
      "Wall time: 307 ms\n"
     ]
    },
    {
     "data": {
      "text/plain": [
       "0.7276976335146129"
      ]
     },
     "execution_count": 33,
     "metadata": {},
     "output_type": "execute_result"
    }
   ],
   "source": [
    "%%time\n",
    "classificator_SGD = SGDClassifier(random_state=rs)\n",
    "classificator_SGD.set_params(**SGDC_best_params)\n",
    "classificator_SGD.fit(features_train, target_train)\n",
    "target_predict = classificator_SGD.predict(features_valid)\n",
    "cv_f1_SGDC"
   ]
  },
  {
   "cell_type": "markdown",
   "metadata": {},
   "source": [
    "F1 на валидации"
   ]
  },
  {
   "cell_type": "code",
   "execution_count": 34,
   "metadata": {},
   "outputs": [
    {
     "data": {
      "text/plain": [
       "0.720640238228178"
      ]
     },
     "execution_count": 34,
     "metadata": {},
     "output_type": "execute_result"
    }
   ],
   "source": [
    "valid_f1_SGDC = f1_score(target_valid, target_predict)\n",
    "valid_f1_SGDC"
   ]
  },
  {
   "cell_type": "markdown",
   "metadata": {},
   "source": [
    "### CatBoostClassifier"
   ]
  },
  {
   "cell_type": "code",
   "execution_count": 35,
   "metadata": {},
   "outputs": [
    {
     "name": "stdout",
     "output_type": "stream",
     "text": [
      "Wall time: 22min 33s\n"
     ]
    },
    {
     "data": {
      "text/plain": [
       "0.7263501377287286"
      ]
     },
     "execution_count": 35,
     "metadata": {},
     "output_type": "execute_result"
    }
   ],
   "source": [
    "%%time\n",
    "\n",
    "classificator_cbc = CatBoostClassifier(verbose=False, iterations=200, random_state=rs)\n",
    "classificator_cbc.fit(features_train, target_train)\n",
    "target_predict = classificator_cbc.predict(features_valid)\n",
    "cv_f1_CBC = cross_val_score(classificator_cbc,\n",
    "                                         features_train, \n",
    "                                         target_train, \n",
    "                                         cv=cv_counts, \n",
    "                                         scoring='f1', n_jobs=-1).mean()\n",
    "valid_f1_CBC = f1_score(target_valid, target_predict)\n",
    "cv_f1_CBC"
   ]
  },
  {
   "cell_type": "markdown",
   "metadata": {},
   "source": [
    "F1 на валидации"
   ]
  },
  {
   "cell_type": "code",
   "execution_count": 36,
   "metadata": {},
   "outputs": [
    {
     "data": {
      "text/plain": [
       "0.7293354943273905"
      ]
     },
     "execution_count": 36,
     "metadata": {},
     "output_type": "execute_result"
    }
   ],
   "source": [
    "valid_f1_CBC"
   ]
  },
  {
   "cell_type": "markdown",
   "metadata": {},
   "source": [
    "### Тестирование моделей"
   ]
  },
  {
   "cell_type": "markdown",
   "metadata": {},
   "source": [
    "__LogisticRegression__"
   ]
  },
  {
   "cell_type": "code",
   "execution_count": 37,
   "metadata": {},
   "outputs": [
    {
     "data": {
      "text/plain": [
       "0.767962308598351"
      ]
     },
     "execution_count": 37,
     "metadata": {},
     "output_type": "execute_result"
    }
   ],
   "source": [
    "F1_LR_test = f1_score(target_test, lr_final.predict(features_test))\n",
    "F1_LR_test"
   ]
  },
  {
   "cell_type": "code",
   "execution_count": 46,
   "metadata": {},
   "outputs": [
    {
     "name": "stdout",
     "output_type": "stream",
     "text": [
      "f1_score = 0.768\n"
     ]
    },
    {
     "data": {
      "image/png": "[encoded data removed]",
      "text/plain": [
       "<Figure size 288x288 with 1 Axes>"
      ]
     },
     "metadata": {
      "needs_background": "light"
     },
     "output_type": "display_data"
    }
   ],
   "source": [
    "model_report(lr_final, features_test, target_test)"
   ]
  },
  {
   "cell_type": "markdown",
   "metadata": {},
   "source": [
    "__SGDClassifier__"
   ]
  },
  {
   "cell_type": "code",
   "execution_count": 38,
   "metadata": {},
   "outputs": [
    {
     "data": {
      "text/plain": [
       "0.7286441636809354"
      ]
     },
     "execution_count": 38,
     "metadata": {},
     "output_type": "execute_result"
    }
   ],
   "source": [
    "test_f1_SGDC = f1_score(target_test, classificator_SGD.predict(features_test))\n",
    "test_f1_SGDC"
   ]
  },
  {
   "cell_type": "code",
   "execution_count": 47,
   "metadata": {},
   "outputs": [
    {
     "name": "stdout",
     "output_type": "stream",
     "text": [
      "f1_score = 0.729\n"
     ]
    },
    {
     "data": {
      "image/png": "[encoded data removed]",
      "text/plain": [
       "<Figure size 288x288 with 1 Axes>"
      ]
     },
     "metadata": {
      "needs_background": "light"
     },
     "output_type": "display_data"
    }
   ],
   "source": [
    "model_report(classificator_SGD, features_test, target_test)"
   ]
  },
  {
   "cell_type": "markdown",
   "metadata": {},
   "source": [
    "__Catboost__"
   ]
  },
  {
   "cell_type": "code",
   "execution_count": 39,
   "metadata": {},
   "outputs": [
    {
     "data": {
      "text/plain": [
       "0.745262390670554"
      ]
     },
     "execution_count": 39,
     "metadata": {},
     "output_type": "execute_result"
    }
   ],
   "source": [
    "test_f1_CBC = f1_score(target_test, classificator_cbc.predict(features_test))\n",
    "test_f1_CBC"
   ]
  },
  {
   "cell_type": "code",
   "execution_count": 48,
   "metadata": {},
   "outputs": [
    {
     "name": "stdout",
     "output_type": "stream",
     "text": [
      "f1_score = 0.745\n"
     ]
    },
    {
     "data": {
      "image/png": "[encoded data removed]",
      "text/plain": [
       "<Figure size 288x288 with 1 Axes>"
      ]
     },
     "metadata": {
      "needs_background": "light"
     },
     "output_type": "display_data"
    }
   ],
   "source": [
    "model_report(classificator_cbc, features_test, target_test)"
   ]
  },
  {
   "cell_type": "markdown",
   "metadata": {},
   "source": [
    "### Выбор модели"
   ]
  },
  {
   "cell_type": "markdown",
   "metadata": {},
   "source": [
    "Создадим таблицу из полученных значений F1 при сравнении моделей."
   ]
  },
  {
   "cell_type": "code",
   "execution_count": 40,
   "metadata": {},
   "outputs": [],
   "source": [
    "f1_results = {\n",
    "    'model_name':pd.Series(['LogReg','SGD','CatBoost']),\n",
    "    'f1_val_nltk':pd.Series([F1_LR_valid, valid_f1_SGDC, valid_f1_CBC]),\n",
    "    'f1_test_nltk':pd.Series([F1_LR_test, test_f1_SGDC, test_f1_CBC])\n",
    "}\n",
    "\n",
    "f1_df = pd.DataFrame(f1_results)"
   ]
  },
  {
   "cell_type": "code",
   "execution_count": 41,
   "metadata": {},
   "outputs": [
    {
     "data": {
      "text/html": [
       "<div>\n",
       "<style scoped>\n",
       "    .dataframe tbody tr th:only-of-type {\n",
       "        vertical-align: middle;\n",
       "    }\n",
       "\n",
       "    .dataframe tbody tr th {\n",
       "        vertical-align: top;\n",
       "    }\n",
       "\n",
       "    .dataframe thead th {\n",
       "        text-align: right;\n",
       "    }\n",
       "</style>\n",
       "<table border=\"1\" class=\"dataframe\">\n",
       "  <thead>\n",
       "    <tr style=\"text-align: right;\">\n",
       "      <th></th>\n",
       "      <th>model_name</th>\n",
       "      <th>f1_val_nltk</th>\n",
       "      <th>f1_test_nltk</th>\n",
       "    </tr>\n",
       "  </thead>\n",
       "  <tbody>\n",
       "    <tr>\n",
       "      <th>0</th>\n",
       "      <td>LogReg</td>\n",
       "      <td>0.759885</td>\n",
       "      <td>0.767962</td>\n",
       "    </tr>\n",
       "    <tr>\n",
       "      <th>1</th>\n",
       "      <td>SGD</td>\n",
       "      <td>0.720640</td>\n",
       "      <td>0.728644</td>\n",
       "    </tr>\n",
       "    <tr>\n",
       "      <th>2</th>\n",
       "      <td>CatBoost</td>\n",
       "      <td>0.729335</td>\n",
       "      <td>0.745262</td>\n",
       "    </tr>\n",
       "  </tbody>\n",
       "</table>\n",
       "</div>"
      ],
      "text/plain": [
       "  model_name  f1_val_nltk  f1_test_nltk\n",
       "0     LogReg     0.759885      0.767962\n",
       "1        SGD     0.720640      0.728644\n",
       "2   CatBoost     0.729335      0.745262"
      ]
     },
     "execution_count": 41,
     "metadata": {},
     "output_type": "execute_result"
    }
   ],
   "source": [
    "f1_df"
   ]
  },
  {
   "cell_type": "markdown",
   "metadata": {},
   "source": [
    "__Сравнение ROC-кривых и других метрик__"
   ]
  },
  {
   "cell_type": "code",
   "execution_count": 42,
   "metadata": {},
   "outputs": [
    {
     "name": "stdout",
     "output_type": "stream",
     "text": [
      "Метрики LogisticRegression\n",
      "ROC AUC: 0.9662700331258416\n",
      "F1: 0.767962308598351\n",
      "Precision: 0.7325842696629213\n",
      "Recall: 0.806930693069307\n",
      "Accuracy: 0.9506188312705625\n",
      "\n",
      "Метрики SGD Classifier\n",
      "ROC AUC: 0.968700697630949\n",
      "F1: 0.7286441636809354\n",
      "Precision: 0.932882665379044\n",
      "Recall: 0.5977722772277227\n",
      "Accuracy: 0.954911483628388\n",
      "\n",
      "Метрики CatBoostClassifier\n",
      "ROC AUC: 0.9526184439121665\n",
      "F1: 0.745262390670554\n",
      "Precision: 0.9064716312056738\n",
      "Recall: 0.6327351485148515\n",
      "Accuracy: 0.9561961460128466\n",
      "\n"
     ]
    },
    {
     "data": {
      "image/png": "[encoded data removed]",
      "text/plain": [
       "<Figure size 864x648 with 1 Axes>"
      ]
     },
     "metadata": {
      "needs_background": "light"
     },
     "output_type": "display_data"
    }
   ],
   "source": [
    "plt.figure(figsize=[12,9])\n",
    "\n",
    "plt.plot([0, 1], [0, 1], linestyle='--', label='RandomModel')\n",
    "\n",
    "probabilities_test = lr_final.predict_proba(features_test)\n",
    "probabilities_one_test = probabilities_test[:, 1]\n",
    "fpr, tpr, thresholds = roc_curve(target_test, probabilities_one_test)\n",
    "predict_test = lr_final.predict(features_test)\n",
    "plt.plot(fpr, tpr, label='LogisticRegression')\n",
    "print('Метрики LogisticRegression')\n",
    "print('ROC AUC:', roc_auc_score(target_test, probabilities_one_test))\n",
    "print('F1:', f1_score(target_test, predict_test))\n",
    "print('Precision:', precision_score(target_test, predict_test))\n",
    "print('Recall:', recall_score(target_test, predict_test))\n",
    "print('Accuracy:', accuracy_score(target_test, predict_test))\n",
    "print()\n",
    "\n",
    "probabilities_test = classificator_SGD.predict_proba(features_test)\n",
    "probabilities_one_test = probabilities_test[:, 1]\n",
    "fpr, tpr, thresholds = roc_curve(target_test, probabilities_one_test)\n",
    "predict_test = classificator_SGD.predict(features_test)\n",
    "plt.plot(fpr, tpr, label='SGDClassifier')\n",
    "print('Метрики SGD Classifier')\n",
    "print('ROC AUC:', roc_auc_score(target_test, probabilities_one_test))\n",
    "print('F1:', f1_score(target_test, predict_test))\n",
    "print('Precision:', precision_score(target_test, predict_test))\n",
    "print('Recall:', recall_score(target_test, predict_test))\n",
    "print('Accuracy:', accuracy_score(target_test, predict_test))\n",
    "print()\n",
    "\n",
    "probabilities_test = classificator_cbc.predict_proba(features_test)\n",
    "probabilities_one_test = probabilities_test[:, 1]\n",
    "fpr, tpr, thresholds = roc_curve(target_test, probabilities_one_test)\n",
    "predict_test = classificator_cbc.predict(features_test)\n",
    "plt.plot(fpr, tpr, label='CBClassifier')\n",
    "print('Метрики CatBoostClassifier')\n",
    "print('ROC AUC:', roc_auc_score(target_test, probabilities_one_test))\n",
    "print('F1:', f1_score(target_test, predict_test))\n",
    "print('Precision:', precision_score(target_test, predict_test))\n",
    "print('Recall:', recall_score(target_test, predict_test))\n",
    "print('Accuracy:', accuracy_score(target_test, predict_test))\n",
    "print()\n",
    "\n",
    "\n",
    "\n",
    "plt.xlim([0,1])\n",
    "plt.ylim([0,1])\n",
    "\n",
    "plt.xlabel(\"False Positive Rate\")\n",
    "plt.ylabel(\"True Positive Rate\")\n",
    "\n",
    "plt.legend(loc='lower right', fontsize='x-large')\n",
    "\n",
    "plt.title(\"ROC-кривая\")\n",
    "plt.show()"
   ]
  },
  {
   "cell_type": "markdown",
   "metadata": {},
   "source": [
    "## Выводы"
   ]
  },
  {
   "cell_type": "markdown",
   "metadata": {},
   "source": [
    "Задача состояла в том, чтобы найти модель, способную отличать токсичные комментарии от обычных, и делать это со значением метрики F1, превышающей 0.75"
   ]
  },
  {
   "cell_type": "markdown",
   "metadata": {},
   "source": [
    "Требуемого порога метрики на тестовых данных достигает __LogisticRegression__."
   ]
  },
  {
   "cell_type": "markdown",
   "metadata": {},
   "source": [
    "__! Примечание:__"
   ]
  },
  {
   "cell_type": "markdown",
   "metadata": {},
   "source": [
    "- SGD Classifier имеет лучшую метрику ROC-AUC\n",
    "- В том случае, если мы сделаем ресемплирование с уменьшением класса 0, и передадим такие данные в SGD и Catboost, то мы получим не улучшением метрики на тестовых данных, а ухудшение: 0.689766 и 0.726926 соответственно (код закомментирован ниже, далее это было проверено на моделях. Исполнение ноутбука в этом случае проходило, в среднем, за 8-12 минут за счет более быстрого обучения CatBoost'а)"
   ]
  },
  {
   "cell_type": "code",
   "execution_count": 43,
   "metadata": {},
   "outputs": [],
   "source": [
    "# toxic_comments_train = df.iloc[target_train.index]\n",
    "\n",
    "# target_train_class_zero = toxic_comments_train[toxic_comments_train['toxic'] == 0]['toxic']\n",
    "# target_train_class_one = toxic_comments_train[toxic_comments_train['toxic'] == 1]['toxic']\n",
    "\n",
    "# target_train_class_zero_downsample = target_train_class_zero.sample(target_train_class_one.shape[0],\n",
    "#                                                                     random_state=rs)\n",
    "# target_train_downsample = pd.concat([target_train_class_zero_downsample, target_train_class_one])\n",
    "\n",
    "# features_train_downsample = df.iloc[target_train_downsample.index]\n",
    "# features_train_downsample, target_train_downsample = shuffle(features_train_downsample,\n",
    "#                                                              target_train_downsample,\n",
    "#                                                              random_state=rs)\n",
    "# features_train_downsample = count_tf_idf.transform(features_train_downsample['lemm_text']\n",
    "#                                                    .values.astype('U'))"
   ]
  },
  {
   "cell_type": "code",
   "execution_count": 44,
   "metadata": {},
   "outputs": [],
   "source": [
    "end_time = time.time()"
   ]
  },
  {
   "cell_type": "markdown",
   "metadata": {},
   "source": [
    "_Total time, min_"
   ]
  },
  {
   "cell_type": "code",
   "execution_count": 45,
   "metadata": {},
   "outputs": [
    {
     "data": {
      "text/plain": [
       "28.63283969958623"
      ]
     },
     "execution_count": 45,
     "metadata": {},
     "output_type": "execute_result"
    }
   ],
   "source": [
    "(end_time - start_time) / 60"
   ]
  },
  {
   "cell_type": "code",
   "execution_count": null,
   "metadata": {},
   "outputs": [],
   "source": []
  }
 ],
 "metadata": {
  "ExecuteTimeLog": [
   {
    "duration": 95,
    "start_time": "2022-02-24T07:52:15.095Z"
   }
  ],
  "kernelspec": {
   "display_name": "Python 3 (ipykernel)",
   "language": "python",
   "name": "python3"
  },
  "language_info": {
   "codemirror_mode": {
    "name": "ipython",
    "version": 3
   },
   "file_extension": ".py",
   "mimetype": "text/x-python",
   "name": "python",
   "nbconvert_exporter": "python",
   "pygments_lexer": "ipython3",
   "version": "3.9.7"
  },
  "toc": {
   "base_numbering": 1,
   "nav_menu": {},
   "number_sections": true,
   "sideBar": true,
   "skip_h1_title": true,
   "title_cell": "Содержание",
   "title_sidebar": "Contents",
   "toc_cell": true,
   "toc_position": {
    "height": "calc(100% - 180px)",
    "left": "10px",
    "top": "150px",
    "width": "302.391px"
   },
   "toc_section_display": true,
   "toc_window_display": false
  }
 },
 "nbformat": 4,
 "nbformat_minor": 2
}
