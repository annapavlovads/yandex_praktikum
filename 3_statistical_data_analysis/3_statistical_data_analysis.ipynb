{
 "cells": [
  {
   "cell_type": "markdown",
   "id": "ea69ac4a",
   "metadata": {},
   "source": [
    "__Задача: сделать предварительный анализ тарифов на небольшой выборке клиентов__<br>"
   ]
  },
  {
   "cell_type": "markdown",
   "id": "424b2050",
   "metadata": {},
   "source": [
    "# 1. Общая информация файлов и их первичная обработка"
   ]
  },
  {
   "cell_type": "code",
   "execution_count": 1,
   "id": "7aee212c",
   "metadata": {},
   "outputs": [],
   "source": [
    "import pandas as pd\n",
    "import numpy as np \n",
    "from scipy import stats as st\n",
    "\n",
    "from math import ceil\n",
    "\n",
    "from scipy import stats as st\n",
    "\n",
    "import datetime \n",
    "from datetime import datetime, date\n",
    "\n",
    "pd.set_option('display.max_columns', 40) \n",
    "pd.set_option('display.max_rows', 30) \n",
    "pd.set_option('display.width', 80) \n",
    "pd.set_option('display.float_format', '{:.2f}'.format)\n",
    "\n",
    "import matplotlib.pyplot as plt\n",
    "%matplotlib inline\n",
    "\n",
    "import warnings\n",
    "warnings.filterwarnings('ignore')"
   ]
  },
  {
   "cell_type": "markdown",
   "id": "47481de0",
   "metadata": {},
   "source": [
    "Импортируем данные, просмотрим информацию о датасетах, проверим пропуски, значимые колонки, изменим формат данных, если нужно и переименуем столбцы для более удобного использования их в дальнейшем. "
   ]
  },
  {
   "cell_type": "markdown",
   "id": "a4673a0c",
   "metadata": {},
   "source": [
    "#### Звонки - датасет calls"
   ]
  },
  {
   "cell_type": "code",
   "execution_count": 2,
   "id": "64494d64",
   "metadata": {
    "scrolled": true
   },
   "outputs": [],
   "source": [
    "try:\n",
    "    df_calls = pd.read_csv('/datasets/calls.csv')\n",
    "except: \n",
    "    df_calls = pd.read_csv('datasets/calls.csv')"
   ]
  },
  {
   "cell_type": "code",
   "execution_count": 3,
   "id": "0a6c3d9f",
   "metadata": {},
   "outputs": [
    {
     "name": "stdout",
     "output_type": "stream",
     "text": [
      "<class 'pandas.core.frame.DataFrame'>\n",
      "RangeIndex: 202607 entries, 0 to 202606\n",
      "Data columns (total 4 columns):\n",
      " #   Column     Non-Null Count   Dtype  \n",
      "---  ------     --------------   -----  \n",
      " 0   id         202607 non-null  object \n",
      " 1   call_date  202607 non-null  object \n",
      " 2   duration   202607 non-null  float64\n",
      " 3   user_id    202607 non-null  int64  \n",
      "dtypes: float64(1), int64(1), object(2)\n",
      "memory usage: 6.2+ MB\n"
     ]
    }
   ],
   "source": [
    "df_calls.info()"
   ]
  },
  {
   "cell_type": "code",
   "execution_count": 4,
   "id": "b0bd7e96",
   "metadata": {},
   "outputs": [
    {
     "data": {
      "text/html": [
       "<div>\n",
       "<style scoped>\n",
       "    .dataframe tbody tr th:only-of-type {\n",
       "        vertical-align: middle;\n",
       "    }\n",
       "\n",
       "    .dataframe tbody tr th {\n",
       "        vertical-align: top;\n",
       "    }\n",
       "\n",
       "    .dataframe thead th {\n",
       "        text-align: right;\n",
       "    }\n",
       "</style>\n",
       "<table border=\"1\" class=\"dataframe\">\n",
       "  <thead>\n",
       "    <tr style=\"text-align: right;\">\n",
       "      <th></th>\n",
       "      <th>id</th>\n",
       "      <th>call_date</th>\n",
       "      <th>duration</th>\n",
       "      <th>user_id</th>\n",
       "    </tr>\n",
       "  </thead>\n",
       "  <tbody>\n",
       "    <tr>\n",
       "      <th>0</th>\n",
       "      <td>1000_0</td>\n",
       "      <td>2018-07-25</td>\n",
       "      <td>0.00</td>\n",
       "      <td>1000</td>\n",
       "    </tr>\n",
       "    <tr>\n",
       "      <th>1</th>\n",
       "      <td>1000_1</td>\n",
       "      <td>2018-08-17</td>\n",
       "      <td>0.00</td>\n",
       "      <td>1000</td>\n",
       "    </tr>\n",
       "    <tr>\n",
       "      <th>2</th>\n",
       "      <td>1000_2</td>\n",
       "      <td>2018-06-11</td>\n",
       "      <td>2.85</td>\n",
       "      <td>1000</td>\n",
       "    </tr>\n",
       "    <tr>\n",
       "      <th>3</th>\n",
       "      <td>1000_3</td>\n",
       "      <td>2018-09-21</td>\n",
       "      <td>13.80</td>\n",
       "      <td>1000</td>\n",
       "    </tr>\n",
       "    <tr>\n",
       "      <th>4</th>\n",
       "      <td>1000_4</td>\n",
       "      <td>2018-12-15</td>\n",
       "      <td>5.18</td>\n",
       "      <td>1000</td>\n",
       "    </tr>\n",
       "  </tbody>\n",
       "</table>\n",
       "</div>"
      ],
      "text/plain": [
       "       id   call_date  duration  user_id\n",
       "0  1000_0  2018-07-25      0.00     1000\n",
       "1  1000_1  2018-08-17      0.00     1000\n",
       "2  1000_2  2018-06-11      2.85     1000\n",
       "3  1000_3  2018-09-21     13.80     1000\n",
       "4  1000_4  2018-12-15      5.18     1000"
      ]
     },
     "execution_count": 4,
     "metadata": {},
     "output_type": "execute_result"
    }
   ],
   "source": [
    "df_calls.head()"
   ]
  },
  {
   "cell_type": "code",
   "execution_count": 5,
   "id": "2dc5d2e3",
   "metadata": {},
   "outputs": [
    {
     "data": {
      "text/plain": [
       "id           0\n",
       "call_date    0\n",
       "duration     0\n",
       "user_id      0\n",
       "dtype: int64"
      ]
     },
     "execution_count": 5,
     "metadata": {},
     "output_type": "execute_result"
    }
   ],
   "source": [
    "df_calls.isna().sum()"
   ]
  },
  {
   "cell_type": "markdown",
   "id": "b6119772",
   "metadata": {},
   "source": [
    "Тип данных корректен кроме даты, которая требует преобразования. Требуется извлечение номера месяца в отдельный столбец для дальнейшей работы с этими данными. "
   ]
  },
  {
   "cell_type": "code",
   "execution_count": 6,
   "id": "1d68bc2d",
   "metadata": {},
   "outputs": [
    {
     "data": {
      "text/html": [
       "<div>\n",
       "<style scoped>\n",
       "    .dataframe tbody tr th:only-of-type {\n",
       "        vertical-align: middle;\n",
       "    }\n",
       "\n",
       "    .dataframe tbody tr th {\n",
       "        vertical-align: top;\n",
       "    }\n",
       "\n",
       "    .dataframe thead th {\n",
       "        text-align: right;\n",
       "    }\n",
       "</style>\n",
       "<table border=\"1\" class=\"dataframe\">\n",
       "  <thead>\n",
       "    <tr style=\"text-align: right;\">\n",
       "      <th></th>\n",
       "      <th>id</th>\n",
       "      <th>call_date</th>\n",
       "      <th>duration</th>\n",
       "      <th>user_id</th>\n",
       "    </tr>\n",
       "  </thead>\n",
       "  <tbody>\n",
       "    <tr>\n",
       "      <th>0</th>\n",
       "      <td>1000_0</td>\n",
       "      <td>2018-07-25</td>\n",
       "      <td>0.00</td>\n",
       "      <td>1000</td>\n",
       "    </tr>\n",
       "    <tr>\n",
       "      <th>1</th>\n",
       "      <td>1000_1</td>\n",
       "      <td>2018-08-17</td>\n",
       "      <td>0.00</td>\n",
       "      <td>1000</td>\n",
       "    </tr>\n",
       "    <tr>\n",
       "      <th>2</th>\n",
       "      <td>1000_2</td>\n",
       "      <td>2018-06-11</td>\n",
       "      <td>2.85</td>\n",
       "      <td>1000</td>\n",
       "    </tr>\n",
       "    <tr>\n",
       "      <th>3</th>\n",
       "      <td>1000_3</td>\n",
       "      <td>2018-09-21</td>\n",
       "      <td>13.80</td>\n",
       "      <td>1000</td>\n",
       "    </tr>\n",
       "    <tr>\n",
       "      <th>4</th>\n",
       "      <td>1000_4</td>\n",
       "      <td>2018-12-15</td>\n",
       "      <td>5.18</td>\n",
       "      <td>1000</td>\n",
       "    </tr>\n",
       "  </tbody>\n",
       "</table>\n",
       "</div>"
      ],
      "text/plain": [
       "       id  call_date  duration  user_id\n",
       "0  1000_0 2018-07-25      0.00     1000\n",
       "1  1000_1 2018-08-17      0.00     1000\n",
       "2  1000_2 2018-06-11      2.85     1000\n",
       "3  1000_3 2018-09-21     13.80     1000\n",
       "4  1000_4 2018-12-15      5.18     1000"
      ]
     },
     "execution_count": 6,
     "metadata": {},
     "output_type": "execute_result"
    }
   ],
   "source": [
    "df_calls['call_date']=pd.to_datetime(df_calls['call_date'], format='%Y.%m.%d')\n",
    "df_calls.head()"
   ]
  },
  {
   "cell_type": "code",
   "execution_count": 7,
   "id": "300868c0",
   "metadata": {},
   "outputs": [
    {
     "data": {
      "text/plain": [
       "0.00     39613\n",
       "4.49       142\n",
       "5.50       142\n",
       "6.15       141\n",
       "6.38       141\n",
       "         ...  \n",
       "26.94        1\n",
       "32.19        1\n",
       "26.32        1\n",
       "27.41        1\n",
       "26.90        1\n",
       "Name: duration, Length: 2871, dtype: int64"
      ]
     },
     "execution_count": 7,
     "metadata": {},
     "output_type": "execute_result"
    }
   ],
   "source": [
    "df_calls['duration'].value_counts()"
   ]
  },
  {
   "cell_type": "markdown",
   "id": "2a03dfc0",
   "metadata": {},
   "source": [
    "Нулевые значения удалять не станем, это пропущенные звонки. "
   ]
  },
  {
   "cell_type": "code",
   "execution_count": 8,
   "id": "5472242a",
   "metadata": {},
   "outputs": [
    {
     "data": {
      "text/html": [
       "<div>\n",
       "<style scoped>\n",
       "    .dataframe tbody tr th:only-of-type {\n",
       "        vertical-align: middle;\n",
       "    }\n",
       "\n",
       "    .dataframe tbody tr th {\n",
       "        vertical-align: top;\n",
       "    }\n",
       "\n",
       "    .dataframe thead th {\n",
       "        text-align: right;\n",
       "    }\n",
       "</style>\n",
       "<table border=\"1\" class=\"dataframe\">\n",
       "  <thead>\n",
       "    <tr style=\"text-align: right;\">\n",
       "      <th></th>\n",
       "      <th>id</th>\n",
       "      <th>call_date</th>\n",
       "      <th>duration</th>\n",
       "      <th>user_id</th>\n",
       "      <th>calls_month</th>\n",
       "    </tr>\n",
       "  </thead>\n",
       "  <tbody>\n",
       "    <tr>\n",
       "      <th>0</th>\n",
       "      <td>1000_0</td>\n",
       "      <td>2018-07-25</td>\n",
       "      <td>0.00</td>\n",
       "      <td>1000</td>\n",
       "      <td>7</td>\n",
       "    </tr>\n",
       "    <tr>\n",
       "      <th>1</th>\n",
       "      <td>1000_1</td>\n",
       "      <td>2018-08-17</td>\n",
       "      <td>0.00</td>\n",
       "      <td>1000</td>\n",
       "      <td>8</td>\n",
       "    </tr>\n",
       "    <tr>\n",
       "      <th>2</th>\n",
       "      <td>1000_2</td>\n",
       "      <td>2018-06-11</td>\n",
       "      <td>2.85</td>\n",
       "      <td>1000</td>\n",
       "      <td>6</td>\n",
       "    </tr>\n",
       "    <tr>\n",
       "      <th>3</th>\n",
       "      <td>1000_3</td>\n",
       "      <td>2018-09-21</td>\n",
       "      <td>13.80</td>\n",
       "      <td>1000</td>\n",
       "      <td>9</td>\n",
       "    </tr>\n",
       "    <tr>\n",
       "      <th>4</th>\n",
       "      <td>1000_4</td>\n",
       "      <td>2018-12-15</td>\n",
       "      <td>5.18</td>\n",
       "      <td>1000</td>\n",
       "      <td>12</td>\n",
       "    </tr>\n",
       "  </tbody>\n",
       "</table>\n",
       "</div>"
      ],
      "text/plain": [
       "       id  call_date  duration  user_id  calls_month\n",
       "0  1000_0 2018-07-25      0.00     1000            7\n",
       "1  1000_1 2018-08-17      0.00     1000            8\n",
       "2  1000_2 2018-06-11      2.85     1000            6\n",
       "3  1000_3 2018-09-21     13.80     1000            9\n",
       "4  1000_4 2018-12-15      5.18     1000           12"
      ]
     },
     "execution_count": 8,
     "metadata": {},
     "output_type": "execute_result"
    }
   ],
   "source": [
    "df_calls['calls_month']=df_calls['call_date'].dt.month\n",
    "df_calls.head()"
   ]
  },
  {
   "cell_type": "code",
   "execution_count": 9,
   "id": "8f085eb0",
   "metadata": {},
   "outputs": [
    {
     "name": "stdout",
     "output_type": "stream",
     "text": [
      "<class 'pandas.core.frame.DataFrame'>\n",
      "RangeIndex: 202607 entries, 0 to 202606\n",
      "Data columns (total 5 columns):\n",
      " #   Column       Non-Null Count   Dtype         \n",
      "---  ------       --------------   -----         \n",
      " 0   id           202607 non-null  object        \n",
      " 1   call_date    202607 non-null  datetime64[ns]\n",
      " 2   duration     202607 non-null  float64       \n",
      " 3   user_id      202607 non-null  int64         \n",
      " 4   calls_month  202607 non-null  int64         \n",
      "dtypes: datetime64[ns](1), float64(1), int64(2), object(1)\n",
      "memory usage: 7.7+ MB\n"
     ]
    }
   ],
   "source": [
    "df_calls.info()"
   ]
  },
  {
   "cell_type": "markdown",
   "id": "46842069",
   "metadata": {},
   "source": [
    "#### Интернет - датасет internet"
   ]
  },
  {
   "cell_type": "code",
   "execution_count": 10,
   "id": "95682b6d",
   "metadata": {},
   "outputs": [],
   "source": [
    "try:\n",
    "    df_internet = pd.read_csv('/datasets/internet.csv')\n",
    "except: \n",
    "    df_internet = pd.read_csv('datasets/internet.csv')"
   ]
  },
  {
   "cell_type": "code",
   "execution_count": 11,
   "id": "204a0133",
   "metadata": {},
   "outputs": [
    {
     "name": "stdout",
     "output_type": "stream",
     "text": [
      "<class 'pandas.core.frame.DataFrame'>\n",
      "RangeIndex: 149396 entries, 0 to 149395\n",
      "Data columns (total 5 columns):\n",
      " #   Column        Non-Null Count   Dtype  \n",
      "---  ------        --------------   -----  \n",
      " 0   Unnamed: 0    149396 non-null  int64  \n",
      " 1   id            149396 non-null  object \n",
      " 2   mb_used       149396 non-null  float64\n",
      " 3   session_date  149396 non-null  object \n",
      " 4   user_id       149396 non-null  int64  \n",
      "dtypes: float64(1), int64(2), object(2)\n",
      "memory usage: 5.7+ MB\n"
     ]
    }
   ],
   "source": [
    "df_internet.info()"
   ]
  },
  {
   "cell_type": "code",
   "execution_count": 12,
   "id": "ab4eb422",
   "metadata": {},
   "outputs": [
    {
     "data": {
      "text/html": [
       "<div>\n",
       "<style scoped>\n",
       "    .dataframe tbody tr th:only-of-type {\n",
       "        vertical-align: middle;\n",
       "    }\n",
       "\n",
       "    .dataframe tbody tr th {\n",
       "        vertical-align: top;\n",
       "    }\n",
       "\n",
       "    .dataframe thead th {\n",
       "        text-align: right;\n",
       "    }\n",
       "</style>\n",
       "<table border=\"1\" class=\"dataframe\">\n",
       "  <thead>\n",
       "    <tr style=\"text-align: right;\">\n",
       "      <th></th>\n",
       "      <th>Unnamed: 0</th>\n",
       "      <th>id</th>\n",
       "      <th>mb_used</th>\n",
       "      <th>session_date</th>\n",
       "      <th>user_id</th>\n",
       "    </tr>\n",
       "  </thead>\n",
       "  <tbody>\n",
       "    <tr>\n",
       "      <th>0</th>\n",
       "      <td>0</td>\n",
       "      <td>1000_0</td>\n",
       "      <td>112.95</td>\n",
       "      <td>2018-11-25</td>\n",
       "      <td>1000</td>\n",
       "    </tr>\n",
       "    <tr>\n",
       "      <th>1</th>\n",
       "      <td>1</td>\n",
       "      <td>1000_1</td>\n",
       "      <td>1052.81</td>\n",
       "      <td>2018-09-07</td>\n",
       "      <td>1000</td>\n",
       "    </tr>\n",
       "    <tr>\n",
       "      <th>2</th>\n",
       "      <td>2</td>\n",
       "      <td>1000_2</td>\n",
       "      <td>1197.26</td>\n",
       "      <td>2018-06-25</td>\n",
       "      <td>1000</td>\n",
       "    </tr>\n",
       "    <tr>\n",
       "      <th>3</th>\n",
       "      <td>3</td>\n",
       "      <td>1000_3</td>\n",
       "      <td>550.27</td>\n",
       "      <td>2018-08-22</td>\n",
       "      <td>1000</td>\n",
       "    </tr>\n",
       "    <tr>\n",
       "      <th>4</th>\n",
       "      <td>4</td>\n",
       "      <td>1000_4</td>\n",
       "      <td>302.56</td>\n",
       "      <td>2018-09-24</td>\n",
       "      <td>1000</td>\n",
       "    </tr>\n",
       "  </tbody>\n",
       "</table>\n",
       "</div>"
      ],
      "text/plain": [
       "   Unnamed: 0      id  mb_used session_date  user_id\n",
       "0           0  1000_0   112.95   2018-11-25     1000\n",
       "1           1  1000_1  1052.81   2018-09-07     1000\n",
       "2           2  1000_2  1197.26   2018-06-25     1000\n",
       "3           3  1000_3   550.27   2018-08-22     1000\n",
       "4           4  1000_4   302.56   2018-09-24     1000"
      ]
     },
     "execution_count": 12,
     "metadata": {},
     "output_type": "execute_result"
    }
   ],
   "source": [
    "df_internet.head()"
   ]
  },
  {
   "cell_type": "code",
   "execution_count": 13,
   "id": "bbcc8306",
   "metadata": {},
   "outputs": [
    {
     "data": {
      "text/plain": [
       "Unnamed: 0      0\n",
       "id              0\n",
       "mb_used         0\n",
       "session_date    0\n",
       "user_id         0\n",
       "dtype: int64"
      ]
     },
     "execution_count": 13,
     "metadata": {},
     "output_type": "execute_result"
    }
   ],
   "source": [
    "df_internet.isna().sum()"
   ]
  },
  {
   "cell_type": "markdown",
   "id": "366082dc",
   "metadata": {},
   "source": [
    "Тип данных корректен кроме даты, которая требует преобразования. Требуется извлечение номера месяца в отдельный столбец для дальнейшей работы с этими данными. "
   ]
  },
  {
   "cell_type": "code",
   "execution_count": 14,
   "id": "3b5136bc",
   "metadata": {},
   "outputs": [
    {
     "data": {
      "text/html": [
       "<div>\n",
       "<style scoped>\n",
       "    .dataframe tbody tr th:only-of-type {\n",
       "        vertical-align: middle;\n",
       "    }\n",
       "\n",
       "    .dataframe tbody tr th {\n",
       "        vertical-align: top;\n",
       "    }\n",
       "\n",
       "    .dataframe thead th {\n",
       "        text-align: right;\n",
       "    }\n",
       "</style>\n",
       "<table border=\"1\" class=\"dataframe\">\n",
       "  <thead>\n",
       "    <tr style=\"text-align: right;\">\n",
       "      <th></th>\n",
       "      <th>Unnamed: 0</th>\n",
       "      <th>id</th>\n",
       "      <th>mb_used</th>\n",
       "      <th>session_date</th>\n",
       "      <th>user_id</th>\n",
       "    </tr>\n",
       "  </thead>\n",
       "  <tbody>\n",
       "    <tr>\n",
       "      <th>0</th>\n",
       "      <td>0</td>\n",
       "      <td>1000_0</td>\n",
       "      <td>112.95</td>\n",
       "      <td>2018-11-25</td>\n",
       "      <td>1000</td>\n",
       "    </tr>\n",
       "    <tr>\n",
       "      <th>1</th>\n",
       "      <td>1</td>\n",
       "      <td>1000_1</td>\n",
       "      <td>1052.81</td>\n",
       "      <td>2018-09-07</td>\n",
       "      <td>1000</td>\n",
       "    </tr>\n",
       "    <tr>\n",
       "      <th>2</th>\n",
       "      <td>2</td>\n",
       "      <td>1000_2</td>\n",
       "      <td>1197.26</td>\n",
       "      <td>2018-06-25</td>\n",
       "      <td>1000</td>\n",
       "    </tr>\n",
       "    <tr>\n",
       "      <th>3</th>\n",
       "      <td>3</td>\n",
       "      <td>1000_3</td>\n",
       "      <td>550.27</td>\n",
       "      <td>2018-08-22</td>\n",
       "      <td>1000</td>\n",
       "    </tr>\n",
       "    <tr>\n",
       "      <th>4</th>\n",
       "      <td>4</td>\n",
       "      <td>1000_4</td>\n",
       "      <td>302.56</td>\n",
       "      <td>2018-09-24</td>\n",
       "      <td>1000</td>\n",
       "    </tr>\n",
       "  </tbody>\n",
       "</table>\n",
       "</div>"
      ],
      "text/plain": [
       "   Unnamed: 0      id  mb_used session_date  user_id\n",
       "0           0  1000_0   112.95   2018-11-25     1000\n",
       "1           1  1000_1  1052.81   2018-09-07     1000\n",
       "2           2  1000_2  1197.26   2018-06-25     1000\n",
       "3           3  1000_3   550.27   2018-08-22     1000\n",
       "4           4  1000_4   302.56   2018-09-24     1000"
      ]
     },
     "execution_count": 14,
     "metadata": {},
     "output_type": "execute_result"
    }
   ],
   "source": [
    "df_internet['session_date']=pd.to_datetime(df_internet['session_date'], format='%Y.%m.%d')\n",
    "df_internet.head()"
   ]
  },
  {
   "cell_type": "code",
   "execution_count": 15,
   "id": "8f9c4fc4",
   "metadata": {},
   "outputs": [
    {
     "data": {
      "text/html": [
       "<div>\n",
       "<style scoped>\n",
       "    .dataframe tbody tr th:only-of-type {\n",
       "        vertical-align: middle;\n",
       "    }\n",
       "\n",
       "    .dataframe tbody tr th {\n",
       "        vertical-align: top;\n",
       "    }\n",
       "\n",
       "    .dataframe thead th {\n",
       "        text-align: right;\n",
       "    }\n",
       "</style>\n",
       "<table border=\"1\" class=\"dataframe\">\n",
       "  <thead>\n",
       "    <tr style=\"text-align: right;\">\n",
       "      <th></th>\n",
       "      <th>Unnamed: 0</th>\n",
       "      <th>id</th>\n",
       "      <th>mb_used</th>\n",
       "      <th>session_date</th>\n",
       "      <th>user_id</th>\n",
       "    </tr>\n",
       "  </thead>\n",
       "  <tbody>\n",
       "    <tr>\n",
       "      <th>0</th>\n",
       "      <td>0</td>\n",
       "      <td>1000_0</td>\n",
       "      <td>112.95</td>\n",
       "      <td>2018-11-25</td>\n",
       "      <td>1000</td>\n",
       "    </tr>\n",
       "    <tr>\n",
       "      <th>1</th>\n",
       "      <td>1</td>\n",
       "      <td>1000_1</td>\n",
       "      <td>1052.81</td>\n",
       "      <td>2018-09-07</td>\n",
       "      <td>1000</td>\n",
       "    </tr>\n",
       "    <tr>\n",
       "      <th>2</th>\n",
       "      <td>2</td>\n",
       "      <td>1000_2</td>\n",
       "      <td>1197.26</td>\n",
       "      <td>2018-06-25</td>\n",
       "      <td>1000</td>\n",
       "    </tr>\n",
       "    <tr>\n",
       "      <th>3</th>\n",
       "      <td>3</td>\n",
       "      <td>1000_3</td>\n",
       "      <td>550.27</td>\n",
       "      <td>2018-08-22</td>\n",
       "      <td>1000</td>\n",
       "    </tr>\n",
       "    <tr>\n",
       "      <th>4</th>\n",
       "      <td>4</td>\n",
       "      <td>1000_4</td>\n",
       "      <td>302.56</td>\n",
       "      <td>2018-09-24</td>\n",
       "      <td>1000</td>\n",
       "    </tr>\n",
       "  </tbody>\n",
       "</table>\n",
       "</div>"
      ],
      "text/plain": [
       "   Unnamed: 0      id  mb_used session_date  user_id\n",
       "0           0  1000_0   112.95   2018-11-25     1000\n",
       "1           1  1000_1  1052.81   2018-09-07     1000\n",
       "2           2  1000_2  1197.26   2018-06-25     1000\n",
       "3           3  1000_3   550.27   2018-08-22     1000\n",
       "4           4  1000_4   302.56   2018-09-24     1000"
      ]
     },
     "execution_count": 15,
     "metadata": {},
     "output_type": "execute_result"
    }
   ],
   "source": [
    "df_internet.head()"
   ]
  },
  {
   "cell_type": "code",
   "execution_count": 16,
   "id": "392b0375",
   "metadata": {},
   "outputs": [
    {
     "data": {
      "text/html": [
       "<div>\n",
       "<style scoped>\n",
       "    .dataframe tbody tr th:only-of-type {\n",
       "        vertical-align: middle;\n",
       "    }\n",
       "\n",
       "    .dataframe tbody tr th {\n",
       "        vertical-align: top;\n",
       "    }\n",
       "\n",
       "    .dataframe thead th {\n",
       "        text-align: right;\n",
       "    }\n",
       "</style>\n",
       "<table border=\"1\" class=\"dataframe\">\n",
       "  <thead>\n",
       "    <tr style=\"text-align: right;\">\n",
       "      <th></th>\n",
       "      <th>id</th>\n",
       "      <th>mb_used</th>\n",
       "      <th>session_date</th>\n",
       "      <th>user_id</th>\n",
       "      <th>internet_month</th>\n",
       "    </tr>\n",
       "  </thead>\n",
       "  <tbody>\n",
       "    <tr>\n",
       "      <th>0</th>\n",
       "      <td>1000_0</td>\n",
       "      <td>112.95</td>\n",
       "      <td>2018-11-25</td>\n",
       "      <td>1000</td>\n",
       "      <td>11</td>\n",
       "    </tr>\n",
       "    <tr>\n",
       "      <th>1</th>\n",
       "      <td>1000_1</td>\n",
       "      <td>1052.81</td>\n",
       "      <td>2018-09-07</td>\n",
       "      <td>1000</td>\n",
       "      <td>9</td>\n",
       "    </tr>\n",
       "    <tr>\n",
       "      <th>2</th>\n",
       "      <td>1000_2</td>\n",
       "      <td>1197.26</td>\n",
       "      <td>2018-06-25</td>\n",
       "      <td>1000</td>\n",
       "      <td>6</td>\n",
       "    </tr>\n",
       "    <tr>\n",
       "      <th>3</th>\n",
       "      <td>1000_3</td>\n",
       "      <td>550.27</td>\n",
       "      <td>2018-08-22</td>\n",
       "      <td>1000</td>\n",
       "      <td>8</td>\n",
       "    </tr>\n",
       "    <tr>\n",
       "      <th>4</th>\n",
       "      <td>1000_4</td>\n",
       "      <td>302.56</td>\n",
       "      <td>2018-09-24</td>\n",
       "      <td>1000</td>\n",
       "      <td>9</td>\n",
       "    </tr>\n",
       "  </tbody>\n",
       "</table>\n",
       "</div>"
      ],
      "text/plain": [
       "       id  mb_used session_date  user_id  internet_month\n",
       "0  1000_0   112.95   2018-11-25     1000              11\n",
       "1  1000_1  1052.81   2018-09-07     1000               9\n",
       "2  1000_2  1197.26   2018-06-25     1000               6\n",
       "3  1000_3   550.27   2018-08-22     1000               8\n",
       "4  1000_4   302.56   2018-09-24     1000               9"
      ]
     },
     "execution_count": 16,
     "metadata": {},
     "output_type": "execute_result"
    }
   ],
   "source": [
    "del df_internet['Unnamed: 0']\n",
    "df_internet['internet_month']=df_internet['session_date'].dt.month\n",
    "df_internet.head()"
   ]
  },
  {
   "cell_type": "code",
   "execution_count": 17,
   "id": "69a7eac5",
   "metadata": {},
   "outputs": [
    {
     "name": "stdout",
     "output_type": "stream",
     "text": [
      "<class 'pandas.core.frame.DataFrame'>\n",
      "RangeIndex: 149396 entries, 0 to 149395\n",
      "Data columns (total 5 columns):\n",
      " #   Column          Non-Null Count   Dtype         \n",
      "---  ------          --------------   -----         \n",
      " 0   id              149396 non-null  object        \n",
      " 1   mb_used         149396 non-null  float64       \n",
      " 2   session_date    149396 non-null  datetime64[ns]\n",
      " 3   user_id         149396 non-null  int64         \n",
      " 4   internet_month  149396 non-null  int64         \n",
      "dtypes: datetime64[ns](1), float64(1), int64(2), object(1)\n",
      "memory usage: 5.7+ MB\n"
     ]
    }
   ],
   "source": [
    "df_internet.info()"
   ]
  },
  {
   "cell_type": "markdown",
   "id": "e368da0d",
   "metadata": {},
   "source": [
    "#### Сообщения - датасет messages"
   ]
  },
  {
   "cell_type": "code",
   "execution_count": 18,
   "id": "697b2d01",
   "metadata": {},
   "outputs": [],
   "source": [
    "try: \n",
    "    df_messages = pd.read_csv('datasets/messages.csv')\n",
    "except: \n",
    "    df_messages = pd.read_csv('/datasets/messages.csv')"
   ]
  },
  {
   "cell_type": "code",
   "execution_count": 19,
   "id": "68a03371",
   "metadata": {},
   "outputs": [
    {
     "name": "stdout",
     "output_type": "stream",
     "text": [
      "<class 'pandas.core.frame.DataFrame'>\n",
      "RangeIndex: 123036 entries, 0 to 123035\n",
      "Data columns (total 3 columns):\n",
      " #   Column        Non-Null Count   Dtype \n",
      "---  ------        --------------   ----- \n",
      " 0   id            123036 non-null  object\n",
      " 1   message_date  123036 non-null  object\n",
      " 2   user_id       123036 non-null  int64 \n",
      "dtypes: int64(1), object(2)\n",
      "memory usage: 2.8+ MB\n"
     ]
    }
   ],
   "source": [
    "df_messages.info()"
   ]
  },
  {
   "cell_type": "code",
   "execution_count": 20,
   "id": "b169caae",
   "metadata": {},
   "outputs": [
    {
     "data": {
      "text/html": [
       "<div>\n",
       "<style scoped>\n",
       "    .dataframe tbody tr th:only-of-type {\n",
       "        vertical-align: middle;\n",
       "    }\n",
       "\n",
       "    .dataframe tbody tr th {\n",
       "        vertical-align: top;\n",
       "    }\n",
       "\n",
       "    .dataframe thead th {\n",
       "        text-align: right;\n",
       "    }\n",
       "</style>\n",
       "<table border=\"1\" class=\"dataframe\">\n",
       "  <thead>\n",
       "    <tr style=\"text-align: right;\">\n",
       "      <th></th>\n",
       "      <th>id</th>\n",
       "      <th>message_date</th>\n",
       "      <th>user_id</th>\n",
       "    </tr>\n",
       "  </thead>\n",
       "  <tbody>\n",
       "    <tr>\n",
       "      <th>0</th>\n",
       "      <td>1000_0</td>\n",
       "      <td>2018-06-27</td>\n",
       "      <td>1000</td>\n",
       "    </tr>\n",
       "    <tr>\n",
       "      <th>1</th>\n",
       "      <td>1000_1</td>\n",
       "      <td>2018-10-08</td>\n",
       "      <td>1000</td>\n",
       "    </tr>\n",
       "    <tr>\n",
       "      <th>2</th>\n",
       "      <td>1000_2</td>\n",
       "      <td>2018-08-04</td>\n",
       "      <td>1000</td>\n",
       "    </tr>\n",
       "    <tr>\n",
       "      <th>3</th>\n",
       "      <td>1000_3</td>\n",
       "      <td>2018-06-16</td>\n",
       "      <td>1000</td>\n",
       "    </tr>\n",
       "    <tr>\n",
       "      <th>4</th>\n",
       "      <td>1000_4</td>\n",
       "      <td>2018-12-05</td>\n",
       "      <td>1000</td>\n",
       "    </tr>\n",
       "  </tbody>\n",
       "</table>\n",
       "</div>"
      ],
      "text/plain": [
       "       id message_date  user_id\n",
       "0  1000_0   2018-06-27     1000\n",
       "1  1000_1   2018-10-08     1000\n",
       "2  1000_2   2018-08-04     1000\n",
       "3  1000_3   2018-06-16     1000\n",
       "4  1000_4   2018-12-05     1000"
      ]
     },
     "execution_count": 20,
     "metadata": {},
     "output_type": "execute_result"
    }
   ],
   "source": [
    "df_messages.head()"
   ]
  },
  {
   "cell_type": "code",
   "execution_count": 21,
   "id": "86f49b00",
   "metadata": {},
   "outputs": [
    {
     "data": {
      "text/plain": [
       "id              0\n",
       "message_date    0\n",
       "user_id         0\n",
       "dtype: int64"
      ]
     },
     "execution_count": 21,
     "metadata": {},
     "output_type": "execute_result"
    }
   ],
   "source": [
    "df_messages.isnull().sum()"
   ]
  },
  {
   "cell_type": "markdown",
   "id": "ea0d52e8",
   "metadata": {},
   "source": [
    "Тип данных корректен кроме даты, которая требует преобразования. Требуется извлечение номера месяца в отдельный столбец для дальнейшей работы с этими данными. "
   ]
  },
  {
   "cell_type": "code",
   "execution_count": 22,
   "id": "34229b89",
   "metadata": {},
   "outputs": [
    {
     "data": {
      "text/html": [
       "<div>\n",
       "<style scoped>\n",
       "    .dataframe tbody tr th:only-of-type {\n",
       "        vertical-align: middle;\n",
       "    }\n",
       "\n",
       "    .dataframe tbody tr th {\n",
       "        vertical-align: top;\n",
       "    }\n",
       "\n",
       "    .dataframe thead th {\n",
       "        text-align: right;\n",
       "    }\n",
       "</style>\n",
       "<table border=\"1\" class=\"dataframe\">\n",
       "  <thead>\n",
       "    <tr style=\"text-align: right;\">\n",
       "      <th></th>\n",
       "      <th>id</th>\n",
       "      <th>message_date</th>\n",
       "      <th>user_id</th>\n",
       "      <th>messages_month</th>\n",
       "    </tr>\n",
       "  </thead>\n",
       "  <tbody>\n",
       "    <tr>\n",
       "      <th>0</th>\n",
       "      <td>1000_0</td>\n",
       "      <td>2018-06-27</td>\n",
       "      <td>1000</td>\n",
       "      <td>6</td>\n",
       "    </tr>\n",
       "    <tr>\n",
       "      <th>1</th>\n",
       "      <td>1000_1</td>\n",
       "      <td>2018-10-08</td>\n",
       "      <td>1000</td>\n",
       "      <td>10</td>\n",
       "    </tr>\n",
       "    <tr>\n",
       "      <th>2</th>\n",
       "      <td>1000_2</td>\n",
       "      <td>2018-08-04</td>\n",
       "      <td>1000</td>\n",
       "      <td>8</td>\n",
       "    </tr>\n",
       "    <tr>\n",
       "      <th>3</th>\n",
       "      <td>1000_3</td>\n",
       "      <td>2018-06-16</td>\n",
       "      <td>1000</td>\n",
       "      <td>6</td>\n",
       "    </tr>\n",
       "    <tr>\n",
       "      <th>4</th>\n",
       "      <td>1000_4</td>\n",
       "      <td>2018-12-05</td>\n",
       "      <td>1000</td>\n",
       "      <td>12</td>\n",
       "    </tr>\n",
       "  </tbody>\n",
       "</table>\n",
       "</div>"
      ],
      "text/plain": [
       "       id message_date  user_id  messages_month\n",
       "0  1000_0   2018-06-27     1000               6\n",
       "1  1000_1   2018-10-08     1000              10\n",
       "2  1000_2   2018-08-04     1000               8\n",
       "3  1000_3   2018-06-16     1000               6\n",
       "4  1000_4   2018-12-05     1000              12"
      ]
     },
     "execution_count": 22,
     "metadata": {},
     "output_type": "execute_result"
    }
   ],
   "source": [
    "df_messages['message_date']=pd.to_datetime(df_messages['message_date'], format='%Y.%m.%d')\n",
    "df_messages['messages_month']=df_messages['message_date'].dt.month\n",
    "df_messages.head()"
   ]
  },
  {
   "cell_type": "code",
   "execution_count": 23,
   "id": "0aa047c5",
   "metadata": {
    "scrolled": false
   },
   "outputs": [
    {
     "name": "stdout",
     "output_type": "stream",
     "text": [
      "<class 'pandas.core.frame.DataFrame'>\n",
      "RangeIndex: 123036 entries, 0 to 123035\n",
      "Data columns (total 4 columns):\n",
      " #   Column          Non-Null Count   Dtype         \n",
      "---  ------          --------------   -----         \n",
      " 0   id              123036 non-null  object        \n",
      " 1   message_date    123036 non-null  datetime64[ns]\n",
      " 2   user_id         123036 non-null  int64         \n",
      " 3   messages_month  123036 non-null  int64         \n",
      "dtypes: datetime64[ns](1), int64(2), object(1)\n",
      "memory usage: 3.8+ MB\n"
     ]
    }
   ],
   "source": [
    "df_messages.info()"
   ]
  },
  {
   "cell_type": "markdown",
   "id": "a9512f39",
   "metadata": {},
   "source": [
    "#### Датасет users"
   ]
  },
  {
   "cell_type": "code",
   "execution_count": 24,
   "id": "b6a47e24",
   "metadata": {},
   "outputs": [],
   "source": [
    "try: \n",
    "    df_users = pd.read_csv('/datasets/users.csv')\n",
    "except: \n",
    "    df_users = pd.read_csv('datasets/users.csv')"
   ]
  },
  {
   "cell_type": "code",
   "execution_count": 25,
   "id": "167eed40",
   "metadata": {},
   "outputs": [
    {
     "name": "stdout",
     "output_type": "stream",
     "text": [
      "<class 'pandas.core.frame.DataFrame'>\n",
      "RangeIndex: 500 entries, 0 to 499\n",
      "Data columns (total 8 columns):\n",
      " #   Column      Non-Null Count  Dtype \n",
      "---  ------      --------------  ----- \n",
      " 0   user_id     500 non-null    int64 \n",
      " 1   age         500 non-null    int64 \n",
      " 2   churn_date  38 non-null     object\n",
      " 3   city        500 non-null    object\n",
      " 4   first_name  500 non-null    object\n",
      " 5   last_name   500 non-null    object\n",
      " 6   reg_date    500 non-null    object\n",
      " 7   tariff      500 non-null    object\n",
      "dtypes: int64(2), object(6)\n",
      "memory usage: 31.4+ KB\n"
     ]
    }
   ],
   "source": [
    "df_users.info()"
   ]
  },
  {
   "cell_type": "code",
   "execution_count": 26,
   "id": "92f6f667",
   "metadata": {
    "scrolled": true
   },
   "outputs": [
    {
     "data": {
      "text/html": [
       "<div>\n",
       "<style scoped>\n",
       "    .dataframe tbody tr th:only-of-type {\n",
       "        vertical-align: middle;\n",
       "    }\n",
       "\n",
       "    .dataframe tbody tr th {\n",
       "        vertical-align: top;\n",
       "    }\n",
       "\n",
       "    .dataframe thead th {\n",
       "        text-align: right;\n",
       "    }\n",
       "</style>\n",
       "<table border=\"1\" class=\"dataframe\">\n",
       "  <thead>\n",
       "    <tr style=\"text-align: right;\">\n",
       "      <th></th>\n",
       "      <th>user_id</th>\n",
       "      <th>age</th>\n",
       "      <th>churn_date</th>\n",
       "      <th>city</th>\n",
       "      <th>first_name</th>\n",
       "      <th>last_name</th>\n",
       "      <th>reg_date</th>\n",
       "      <th>tariff</th>\n",
       "    </tr>\n",
       "  </thead>\n",
       "  <tbody>\n",
       "    <tr>\n",
       "      <th>0</th>\n",
       "      <td>1000</td>\n",
       "      <td>52</td>\n",
       "      <td>NaN</td>\n",
       "      <td>Краснодар</td>\n",
       "      <td>Рафаил</td>\n",
       "      <td>Верещагин</td>\n",
       "      <td>2018-05-25</td>\n",
       "      <td>ultra</td>\n",
       "    </tr>\n",
       "    <tr>\n",
       "      <th>1</th>\n",
       "      <td>1001</td>\n",
       "      <td>41</td>\n",
       "      <td>NaN</td>\n",
       "      <td>Москва</td>\n",
       "      <td>Иван</td>\n",
       "      <td>Ежов</td>\n",
       "      <td>2018-11-01</td>\n",
       "      <td>smart</td>\n",
       "    </tr>\n",
       "    <tr>\n",
       "      <th>2</th>\n",
       "      <td>1002</td>\n",
       "      <td>59</td>\n",
       "      <td>NaN</td>\n",
       "      <td>Стерлитамак</td>\n",
       "      <td>Евгений</td>\n",
       "      <td>Абрамович</td>\n",
       "      <td>2018-06-17</td>\n",
       "      <td>smart</td>\n",
       "    </tr>\n",
       "    <tr>\n",
       "      <th>3</th>\n",
       "      <td>1003</td>\n",
       "      <td>23</td>\n",
       "      <td>NaN</td>\n",
       "      <td>Москва</td>\n",
       "      <td>Белла</td>\n",
       "      <td>Белякова</td>\n",
       "      <td>2018-08-17</td>\n",
       "      <td>ultra</td>\n",
       "    </tr>\n",
       "    <tr>\n",
       "      <th>4</th>\n",
       "      <td>1004</td>\n",
       "      <td>68</td>\n",
       "      <td>NaN</td>\n",
       "      <td>Новокузнецк</td>\n",
       "      <td>Татьяна</td>\n",
       "      <td>Авдеенко</td>\n",
       "      <td>2018-05-14</td>\n",
       "      <td>ultra</td>\n",
       "    </tr>\n",
       "  </tbody>\n",
       "</table>\n",
       "</div>"
      ],
      "text/plain": [
       "   user_id  age churn_date         city first_name  last_name    reg_date  \\\n",
       "0     1000   52        NaN    Краснодар     Рафаил  Верещагин  2018-05-25   \n",
       "1     1001   41        NaN       Москва       Иван       Ежов  2018-11-01   \n",
       "2     1002   59        NaN  Стерлитамак    Евгений  Абрамович  2018-06-17   \n",
       "3     1003   23        NaN       Москва      Белла   Белякова  2018-08-17   \n",
       "4     1004   68        NaN  Новокузнецк    Татьяна   Авдеенко  2018-05-14   \n",
       "\n",
       "  tariff  \n",
       "0  ultra  \n",
       "1  smart  \n",
       "2  smart  \n",
       "3  ultra  \n",
       "4  ultra  "
      ]
     },
     "execution_count": 26,
     "metadata": {},
     "output_type": "execute_result"
    }
   ],
   "source": [
    "df_users.head()"
   ]
  },
  {
   "cell_type": "code",
   "execution_count": 27,
   "id": "13328723",
   "metadata": {
    "scrolled": true
   },
   "outputs": [
    {
     "data": {
      "text/plain": [
       "500"
      ]
     },
     "execution_count": 27,
     "metadata": {},
     "output_type": "execute_result"
    }
   ],
   "source": [
    "df_users.user_id.nunique()"
   ]
  },
  {
   "cell_type": "markdown",
   "id": "380a2d63",
   "metadata": {},
   "source": [
    "Перечень user_id от 1000 до 1499. "
   ]
  },
  {
   "cell_type": "markdown",
   "id": "27799604",
   "metadata": {},
   "source": [
    "\n",
    "Тип данных корректен кроме даты, которая требует преобразования. Требуется извлечение номера месяца регистрации и прекращения пользования тарифом в отдельный столбец, для сводных таблиц. "
   ]
  },
  {
   "cell_type": "code",
   "execution_count": 28,
   "id": "ae7b06c3",
   "metadata": {},
   "outputs": [
    {
     "data": {
      "text/html": [
       "<div>\n",
       "<style scoped>\n",
       "    .dataframe tbody tr th:only-of-type {\n",
       "        vertical-align: middle;\n",
       "    }\n",
       "\n",
       "    .dataframe tbody tr th {\n",
       "        vertical-align: top;\n",
       "    }\n",
       "\n",
       "    .dataframe thead th {\n",
       "        text-align: right;\n",
       "    }\n",
       "</style>\n",
       "<table border=\"1\" class=\"dataframe\">\n",
       "  <thead>\n",
       "    <tr style=\"text-align: right;\">\n",
       "      <th></th>\n",
       "      <th>user_id</th>\n",
       "      <th>age</th>\n",
       "      <th>churn_date</th>\n",
       "      <th>city</th>\n",
       "      <th>first_name</th>\n",
       "      <th>last_name</th>\n",
       "      <th>reg_date</th>\n",
       "      <th>tariff</th>\n",
       "      <th>users_reg_month</th>\n",
       "      <th>churn_month</th>\n",
       "    </tr>\n",
       "  </thead>\n",
       "  <tbody>\n",
       "    <tr>\n",
       "      <th>0</th>\n",
       "      <td>1000</td>\n",
       "      <td>52</td>\n",
       "      <td>NaT</td>\n",
       "      <td>Краснодар</td>\n",
       "      <td>Рафаил</td>\n",
       "      <td>Верещагин</td>\n",
       "      <td>2018-05-25</td>\n",
       "      <td>ultra</td>\n",
       "      <td>5</td>\n",
       "      <td>NaN</td>\n",
       "    </tr>\n",
       "    <tr>\n",
       "      <th>1</th>\n",
       "      <td>1001</td>\n",
       "      <td>41</td>\n",
       "      <td>NaT</td>\n",
       "      <td>Москва</td>\n",
       "      <td>Иван</td>\n",
       "      <td>Ежов</td>\n",
       "      <td>2018-11-01</td>\n",
       "      <td>smart</td>\n",
       "      <td>11</td>\n",
       "      <td>NaN</td>\n",
       "    </tr>\n",
       "    <tr>\n",
       "      <th>2</th>\n",
       "      <td>1002</td>\n",
       "      <td>59</td>\n",
       "      <td>NaT</td>\n",
       "      <td>Стерлитамак</td>\n",
       "      <td>Евгений</td>\n",
       "      <td>Абрамович</td>\n",
       "      <td>2018-06-17</td>\n",
       "      <td>smart</td>\n",
       "      <td>6</td>\n",
       "      <td>NaN</td>\n",
       "    </tr>\n",
       "    <tr>\n",
       "      <th>3</th>\n",
       "      <td>1003</td>\n",
       "      <td>23</td>\n",
       "      <td>NaT</td>\n",
       "      <td>Москва</td>\n",
       "      <td>Белла</td>\n",
       "      <td>Белякова</td>\n",
       "      <td>2018-08-17</td>\n",
       "      <td>ultra</td>\n",
       "      <td>8</td>\n",
       "      <td>NaN</td>\n",
       "    </tr>\n",
       "    <tr>\n",
       "      <th>4</th>\n",
       "      <td>1004</td>\n",
       "      <td>68</td>\n",
       "      <td>NaT</td>\n",
       "      <td>Новокузнецк</td>\n",
       "      <td>Татьяна</td>\n",
       "      <td>Авдеенко</td>\n",
       "      <td>2018-05-14</td>\n",
       "      <td>ultra</td>\n",
       "      <td>5</td>\n",
       "      <td>NaN</td>\n",
       "    </tr>\n",
       "  </tbody>\n",
       "</table>\n",
       "</div>"
      ],
      "text/plain": [
       "   user_id  age churn_date         city first_name  last_name   reg_date  \\\n",
       "0     1000   52        NaT    Краснодар     Рафаил  Верещагин 2018-05-25   \n",
       "1     1001   41        NaT       Москва       Иван       Ежов 2018-11-01   \n",
       "2     1002   59        NaT  Стерлитамак    Евгений  Абрамович 2018-06-17   \n",
       "3     1003   23        NaT       Москва      Белла   Белякова 2018-08-17   \n",
       "4     1004   68        NaT  Новокузнецк    Татьяна   Авдеенко 2018-05-14   \n",
       "\n",
       "  tariff  users_reg_month  churn_month  \n",
       "0  ultra                5          NaN  \n",
       "1  smart               11          NaN  \n",
       "2  smart                6          NaN  \n",
       "3  ultra                8          NaN  \n",
       "4  ultra                5          NaN  "
      ]
     },
     "execution_count": 28,
     "metadata": {},
     "output_type": "execute_result"
    }
   ],
   "source": [
    "df_users['churn_date']=pd.to_datetime(df_users['churn_date'], format='%Y.%m.%d', errors='coerce')\n",
    "df_users['reg_date']=pd.to_datetime(df_users['reg_date'], format='%Y.%m.%d')\n",
    "df_users['users_reg_month']=df_users['reg_date'].dt.month\n",
    "df_users['churn_month']=df_users['churn_date'].dt.month\n",
    "df_users.head()"
   ]
  },
  {
   "cell_type": "code",
   "execution_count": 29,
   "id": "f4bdfc59",
   "metadata": {},
   "outputs": [
    {
     "data": {
      "text/plain": [
       "array(['ultra', 'smart'], dtype=object)"
      ]
     },
     "execution_count": 29,
     "metadata": {},
     "output_type": "execute_result"
    }
   ],
   "source": [
    "df_users['tariff'].unique()"
   ]
  },
  {
   "cell_type": "code",
   "execution_count": 30,
   "id": "201282d3",
   "metadata": {},
   "outputs": [
    {
     "name": "stdout",
     "output_type": "stream",
     "text": [
      "<class 'pandas.core.frame.DataFrame'>\n",
      "RangeIndex: 500 entries, 0 to 499\n",
      "Data columns (total 10 columns):\n",
      " #   Column           Non-Null Count  Dtype         \n",
      "---  ------           --------------  -----         \n",
      " 0   user_id          500 non-null    int64         \n",
      " 1   age              500 non-null    int64         \n",
      " 2   churn_date       38 non-null     datetime64[ns]\n",
      " 3   city             500 non-null    object        \n",
      " 4   first_name       500 non-null    object        \n",
      " 5   last_name        500 non-null    object        \n",
      " 6   reg_date         500 non-null    datetime64[ns]\n",
      " 7   tariff           500 non-null    object        \n",
      " 8   users_reg_month  500 non-null    int64         \n",
      " 9   churn_month      38 non-null     float64       \n",
      "dtypes: datetime64[ns](2), float64(1), int64(3), object(4)\n",
      "memory usage: 39.2+ KB\n"
     ]
    }
   ],
   "source": [
    "df_users.info()"
   ]
  },
  {
   "cell_type": "markdown",
   "id": "6a055b43",
   "metadata": {},
   "source": [
    "Проверим количество пользователей тарифов"
   ]
  },
  {
   "cell_type": "code",
   "execution_count": 31,
   "id": "abaa28d7",
   "metadata": {},
   "outputs": [
    {
     "name": "stdout",
     "output_type": "stream",
     "text": [
      "пользователи ultra, чел: 149 , пользователи smart, чел: 351\n"
     ]
    }
   ],
   "source": [
    "df_users_ultra=df_users.query('tariff == \"ultra\"')\n",
    "df_users_smart=df_users.query('tariff == \"smart\"')\n",
    "print (\n",
    "    'пользователи ultra, чел:', len(df_users_ultra.user_id.tolist()), \n",
    "    ', пользователи smart, чел:', len(df_users_smart.user_id.tolist())\n",
    ")"
   ]
  },
  {
   "cell_type": "markdown",
   "id": "622965c8",
   "metadata": {},
   "source": [
    "#### Датасет tariffs, справочный"
   ]
  },
  {
   "cell_type": "code",
   "execution_count": 32,
   "id": "7f1693a6",
   "metadata": {},
   "outputs": [],
   "source": [
    "try: \n",
    "    df_tariffs = pd.read_csv('/datasets/tariffs.csv')\n",
    "except: \n",
    "    df_tariffs = pd.read_csv('datasets/tariffs.csv')"
   ]
  },
  {
   "cell_type": "code",
   "execution_count": 33,
   "id": "fc1868dd",
   "metadata": {},
   "outputs": [
    {
     "name": "stdout",
     "output_type": "stream",
     "text": [
      "<class 'pandas.core.frame.DataFrame'>\n",
      "RangeIndex: 2 entries, 0 to 1\n",
      "Data columns (total 8 columns):\n",
      " #   Column                 Non-Null Count  Dtype \n",
      "---  ------                 --------------  ----- \n",
      " 0   messages_included      2 non-null      int64 \n",
      " 1   mb_per_month_included  2 non-null      int64 \n",
      " 2   minutes_included       2 non-null      int64 \n",
      " 3   rub_monthly_fee        2 non-null      int64 \n",
      " 4   rub_per_gb             2 non-null      int64 \n",
      " 5   rub_per_message        2 non-null      int64 \n",
      " 6   rub_per_minute         2 non-null      int64 \n",
      " 7   tariff_name            2 non-null      object\n",
      "dtypes: int64(7), object(1)\n",
      "memory usage: 256.0+ bytes\n"
     ]
    }
   ],
   "source": [
    "df_tariffs.info()"
   ]
  },
  {
   "cell_type": "code",
   "execution_count": 34,
   "id": "52765542",
   "metadata": {},
   "outputs": [
    {
     "data": {
      "text/html": [
       "<div>\n",
       "<style scoped>\n",
       "    .dataframe tbody tr th:only-of-type {\n",
       "        vertical-align: middle;\n",
       "    }\n",
       "\n",
       "    .dataframe tbody tr th {\n",
       "        vertical-align: top;\n",
       "    }\n",
       "\n",
       "    .dataframe thead th {\n",
       "        text-align: right;\n",
       "    }\n",
       "</style>\n",
       "<table border=\"1\" class=\"dataframe\">\n",
       "  <thead>\n",
       "    <tr style=\"text-align: right;\">\n",
       "      <th></th>\n",
       "      <th>messages_included</th>\n",
       "      <th>mb_per_month_included</th>\n",
       "      <th>minutes_included</th>\n",
       "      <th>rub_monthly_fee</th>\n",
       "      <th>rub_per_gb</th>\n",
       "      <th>rub_per_message</th>\n",
       "      <th>rub_per_minute</th>\n",
       "      <th>tariff_name</th>\n",
       "    </tr>\n",
       "  </thead>\n",
       "  <tbody>\n",
       "    <tr>\n",
       "      <th>0</th>\n",
       "      <td>50</td>\n",
       "      <td>15360</td>\n",
       "      <td>500</td>\n",
       "      <td>550</td>\n",
       "      <td>200</td>\n",
       "      <td>3</td>\n",
       "      <td>3</td>\n",
       "      <td>smart</td>\n",
       "    </tr>\n",
       "    <tr>\n",
       "      <th>1</th>\n",
       "      <td>1000</td>\n",
       "      <td>30720</td>\n",
       "      <td>3000</td>\n",
       "      <td>1950</td>\n",
       "      <td>150</td>\n",
       "      <td>1</td>\n",
       "      <td>1</td>\n",
       "      <td>ultra</td>\n",
       "    </tr>\n",
       "  </tbody>\n",
       "</table>\n",
       "</div>"
      ],
      "text/plain": [
       "   messages_included  mb_per_month_included  minutes_included  \\\n",
       "0                 50                  15360               500   \n",
       "1               1000                  30720              3000   \n",
       "\n",
       "   rub_monthly_fee  rub_per_gb  rub_per_message  rub_per_minute tariff_name  \n",
       "0              550         200                3               3       smart  \n",
       "1             1950         150                1               1       ultra  "
      ]
     },
     "execution_count": 34,
     "metadata": {},
     "output_type": "execute_result"
    }
   ],
   "source": [
    "df_tariffs"
   ]
  },
  {
   "cell_type": "markdown",
   "id": "000d9e55",
   "metadata": {},
   "source": [
    "Переименуем в этом датасете название колонки 'tariff_name' на 'tariff', чтобы потом легче было в сводных таблицах подтягивать информацию. "
   ]
  },
  {
   "cell_type": "code",
   "execution_count": 35,
   "id": "b6cd743a",
   "metadata": {},
   "outputs": [
    {
     "data": {
      "text/html": [
       "<div>\n",
       "<style scoped>\n",
       "    .dataframe tbody tr th:only-of-type {\n",
       "        vertical-align: middle;\n",
       "    }\n",
       "\n",
       "    .dataframe tbody tr th {\n",
       "        vertical-align: top;\n",
       "    }\n",
       "\n",
       "    .dataframe thead th {\n",
       "        text-align: right;\n",
       "    }\n",
       "</style>\n",
       "<table border=\"1\" class=\"dataframe\">\n",
       "  <thead>\n",
       "    <tr style=\"text-align: right;\">\n",
       "      <th></th>\n",
       "      <th>messages_included</th>\n",
       "      <th>mb_per_month_included</th>\n",
       "      <th>minutes_included</th>\n",
       "      <th>rub_monthly_fee</th>\n",
       "      <th>rub_per_gb</th>\n",
       "      <th>rub_per_message</th>\n",
       "      <th>rub_per_minute</th>\n",
       "      <th>tariff</th>\n",
       "    </tr>\n",
       "  </thead>\n",
       "  <tbody>\n",
       "    <tr>\n",
       "      <th>0</th>\n",
       "      <td>50</td>\n",
       "      <td>15360</td>\n",
       "      <td>500</td>\n",
       "      <td>550</td>\n",
       "      <td>200</td>\n",
       "      <td>3</td>\n",
       "      <td>3</td>\n",
       "      <td>smart</td>\n",
       "    </tr>\n",
       "    <tr>\n",
       "      <th>1</th>\n",
       "      <td>1000</td>\n",
       "      <td>30720</td>\n",
       "      <td>3000</td>\n",
       "      <td>1950</td>\n",
       "      <td>150</td>\n",
       "      <td>1</td>\n",
       "      <td>1</td>\n",
       "      <td>ultra</td>\n",
       "    </tr>\n",
       "  </tbody>\n",
       "</table>\n",
       "</div>"
      ],
      "text/plain": [
       "   messages_included  mb_per_month_included  minutes_included  \\\n",
       "0                 50                  15360               500   \n",
       "1               1000                  30720              3000   \n",
       "\n",
       "   rub_monthly_fee  rub_per_gb  rub_per_message  rub_per_minute tariff  \n",
       "0              550         200                3               3  smart  \n",
       "1             1950         150                1               1  ultra  "
      ]
     },
     "execution_count": 35,
     "metadata": {},
     "output_type": "execute_result"
    }
   ],
   "source": [
    "df_tariffs=df_tariffs.rename(columns={'tariff_name': 'tariff'})\n",
    "df_tariffs"
   ]
  },
  {
   "cell_type": "markdown",
   "id": "669004a8",
   "metadata": {},
   "source": [
    "# 2. Предварительные расчеты"
   ]
  },
  {
   "cell_type": "markdown",
   "id": "cdde6e47",
   "metadata": {},
   "source": [
    "Подсчитаем для каждого пользователя:\n",
    "* количество сделанных звонков и израсходованных минут разговора по месяцам;\n",
    "* количество отправленных сообщений по месяцам;\n",
    "* объем израсходованного интернет-трафика по месяцам;\n",
    "* помесячную выручку с каждого пользователя."
   ]
  },
  {
   "cell_type": "markdown",
   "id": "8fe8a41b",
   "metadata": {},
   "source": [
    "Создадим базовый датасет с user_id и столбцами, который потом будем заполнять информацией. Для каждого пользователя - по 12 месяцев с 1 по 12-й. "
   ]
  },
  {
   "cell_type": "code",
   "execution_count": 36,
   "id": "76857f66",
   "metadata": {},
   "outputs": [
    {
     "data": {
      "text/html": [
       "<div>\n",
       "<style scoped>\n",
       "    .dataframe tbody tr th:only-of-type {\n",
       "        vertical-align: middle;\n",
       "    }\n",
       "\n",
       "    .dataframe tbody tr th {\n",
       "        vertical-align: top;\n",
       "    }\n",
       "\n",
       "    .dataframe thead th {\n",
       "        text-align: right;\n",
       "    }\n",
       "</style>\n",
       "<table border=\"1\" class=\"dataframe\">\n",
       "  <thead>\n",
       "    <tr style=\"text-align: right;\">\n",
       "      <th></th>\n",
       "      <th>user_id</th>\n",
       "      <th>month</th>\n",
       "    </tr>\n",
       "  </thead>\n",
       "  <tbody>\n",
       "    <tr>\n",
       "      <th>0</th>\n",
       "      <td>1000</td>\n",
       "      <td>1</td>\n",
       "    </tr>\n",
       "    <tr>\n",
       "      <th>1</th>\n",
       "      <td>1000</td>\n",
       "      <td>2</td>\n",
       "    </tr>\n",
       "    <tr>\n",
       "      <th>2</th>\n",
       "      <td>1000</td>\n",
       "      <td>3</td>\n",
       "    </tr>\n",
       "    <tr>\n",
       "      <th>3</th>\n",
       "      <td>1000</td>\n",
       "      <td>4</td>\n",
       "    </tr>\n",
       "    <tr>\n",
       "      <th>4</th>\n",
       "      <td>1000</td>\n",
       "      <td>5</td>\n",
       "    </tr>\n",
       "    <tr>\n",
       "      <th>...</th>\n",
       "      <td>...</td>\n",
       "      <td>...</td>\n",
       "    </tr>\n",
       "    <tr>\n",
       "      <th>5995</th>\n",
       "      <td>1499</td>\n",
       "      <td>8</td>\n",
       "    </tr>\n",
       "    <tr>\n",
       "      <th>5996</th>\n",
       "      <td>1499</td>\n",
       "      <td>9</td>\n",
       "    </tr>\n",
       "    <tr>\n",
       "      <th>5997</th>\n",
       "      <td>1499</td>\n",
       "      <td>10</td>\n",
       "    </tr>\n",
       "    <tr>\n",
       "      <th>5998</th>\n",
       "      <td>1499</td>\n",
       "      <td>11</td>\n",
       "    </tr>\n",
       "    <tr>\n",
       "      <th>5999</th>\n",
       "      <td>1499</td>\n",
       "      <td>12</td>\n",
       "    </tr>\n",
       "  </tbody>\n",
       "</table>\n",
       "<p>6000 rows × 2 columns</p>\n",
       "</div>"
      ],
      "text/plain": [
       "      user_id  month\n",
       "0        1000      1\n",
       "1        1000      2\n",
       "2        1000      3\n",
       "3        1000      4\n",
       "4        1000      5\n",
       "...       ...    ...\n",
       "5995     1499      8\n",
       "5996     1499      9\n",
       "5997     1499     10\n",
       "5998     1499     11\n",
       "5999     1499     12\n",
       "\n",
       "[6000 rows x 2 columns]"
      ]
     },
     "execution_count": 36,
     "metadata": {},
     "output_type": "execute_result"
    }
   ],
   "source": [
    "user_id=[]\n",
    "months=[]\n",
    "for i in range (1000, 1500): \n",
    "    for j in range (1, 13): \n",
    "        user_id.append(i)\n",
    "        months.append(j)   \n",
    "basic_df=pd.DataFrame({'user_id':user_id, 'month':months})\n",
    "basic_df"
   ]
  },
  {
   "cell_type": "markdown",
   "id": "bc0e3fa6",
   "metadata": {},
   "source": [
    "Теперь нам нужно удалить из этого датасета те месяца для пользователя, когда он еще не был зарегистрирован или уже прекратил пользование тарифом. Мы могли бы это отследить по его активности в датасетах со звонками, смс и интернетом, но предположим, что существуют пользователи, которые за месяц ни разу не отправили смс, не вышли в интернет и не совершили ни одного исходящего звонка, даже такого, когда его абонент не взял трубку и его звонок тарифицировался как нулевой. Такие пользователи могут не появляться в какие-то месяцы в датасетах звонков, смс и интернета, но в то же самое время платить свою абонентскую плату. "
   ]
  },
  {
   "cell_type": "code",
   "execution_count": 37,
   "id": "a1a26313",
   "metadata": {},
   "outputs": [
    {
     "data": {
      "text/html": [
       "<div>\n",
       "<style scoped>\n",
       "    .dataframe tbody tr th:only-of-type {\n",
       "        vertical-align: middle;\n",
       "    }\n",
       "\n",
       "    .dataframe tbody tr th {\n",
       "        vertical-align: top;\n",
       "    }\n",
       "\n",
       "    .dataframe thead th {\n",
       "        text-align: right;\n",
       "    }\n",
       "</style>\n",
       "<table border=\"1\" class=\"dataframe\">\n",
       "  <thead>\n",
       "    <tr style=\"text-align: right;\">\n",
       "      <th></th>\n",
       "      <th>user_id</th>\n",
       "      <th>users_reg_month</th>\n",
       "      <th>churn_month</th>\n",
       "    </tr>\n",
       "  </thead>\n",
       "  <tbody>\n",
       "    <tr>\n",
       "      <th>0</th>\n",
       "      <td>1000</td>\n",
       "      <td>5</td>\n",
       "      <td>NaN</td>\n",
       "    </tr>\n",
       "    <tr>\n",
       "      <th>1</th>\n",
       "      <td>1001</td>\n",
       "      <td>11</td>\n",
       "      <td>NaN</td>\n",
       "    </tr>\n",
       "    <tr>\n",
       "      <th>2</th>\n",
       "      <td>1002</td>\n",
       "      <td>6</td>\n",
       "      <td>NaN</td>\n",
       "    </tr>\n",
       "    <tr>\n",
       "      <th>3</th>\n",
       "      <td>1003</td>\n",
       "      <td>8</td>\n",
       "      <td>NaN</td>\n",
       "    </tr>\n",
       "    <tr>\n",
       "      <th>4</th>\n",
       "      <td>1004</td>\n",
       "      <td>5</td>\n",
       "      <td>NaN</td>\n",
       "    </tr>\n",
       "  </tbody>\n",
       "</table>\n",
       "</div>"
      ],
      "text/plain": [
       "   user_id  users_reg_month  churn_month\n",
       "0     1000                5          NaN\n",
       "1     1001               11          NaN\n",
       "2     1002                6          NaN\n",
       "3     1003                8          NaN\n",
       "4     1004                5          NaN"
      ]
     },
     "execution_count": 37,
     "metadata": {},
     "output_type": "execute_result"
    }
   ],
   "source": [
    "reg_churn_users=df_users[['user_id', 'users_reg_month', 'churn_month']]\n",
    "reg_churn_users.head()"
   ]
  },
  {
   "cell_type": "code",
   "execution_count": 38,
   "id": "fd9c55f0",
   "metadata": {},
   "outputs": [
    {
     "data": {
      "text/plain": [
       "True     462\n",
       "False     38\n",
       "Name: churn_month, dtype: int64"
      ]
     },
     "execution_count": 38,
     "metadata": {},
     "output_type": "execute_result"
    }
   ],
   "source": [
    "reg_churn_users.churn_month.isnull().value_counts()"
   ]
  },
  {
   "cell_type": "markdown",
   "id": "862b685e",
   "metadata": {},
   "source": [
    "38 пользователей имеет дату прекращения регистрации, остальные - нет, что означает, очевидно, что они не прекратили пользоваться тарифом"
   ]
  },
  {
   "cell_type": "code",
   "execution_count": 39,
   "id": "8c4cdf99",
   "metadata": {},
   "outputs": [
    {
     "data": {
      "text/html": [
       "<div>\n",
       "<style scoped>\n",
       "    .dataframe tbody tr th:only-of-type {\n",
       "        vertical-align: middle;\n",
       "    }\n",
       "\n",
       "    .dataframe tbody tr th {\n",
       "        vertical-align: top;\n",
       "    }\n",
       "\n",
       "    .dataframe thead th {\n",
       "        text-align: right;\n",
       "    }\n",
       "</style>\n",
       "<table border=\"1\" class=\"dataframe\">\n",
       "  <thead>\n",
       "    <tr style=\"text-align: right;\">\n",
       "      <th></th>\n",
       "      <th>user_id</th>\n",
       "      <th>age</th>\n",
       "      <th>churn_date</th>\n",
       "      <th>city</th>\n",
       "      <th>first_name</th>\n",
       "      <th>last_name</th>\n",
       "      <th>reg_date</th>\n",
       "      <th>tariff</th>\n",
       "      <th>users_reg_month</th>\n",
       "      <th>churn_month</th>\n",
       "    </tr>\n",
       "  </thead>\n",
       "  <tbody>\n",
       "    <tr>\n",
       "      <th>0</th>\n",
       "      <td>1000</td>\n",
       "      <td>52</td>\n",
       "      <td>NaT</td>\n",
       "      <td>Краснодар</td>\n",
       "      <td>Рафаил</td>\n",
       "      <td>Верещагин</td>\n",
       "      <td>2018-05-25</td>\n",
       "      <td>ultra</td>\n",
       "      <td>5</td>\n",
       "      <td>NaN</td>\n",
       "    </tr>\n",
       "    <tr>\n",
       "      <th>1</th>\n",
       "      <td>1001</td>\n",
       "      <td>41</td>\n",
       "      <td>NaT</td>\n",
       "      <td>Москва</td>\n",
       "      <td>Иван</td>\n",
       "      <td>Ежов</td>\n",
       "      <td>2018-11-01</td>\n",
       "      <td>smart</td>\n",
       "      <td>11</td>\n",
       "      <td>NaN</td>\n",
       "    </tr>\n",
       "    <tr>\n",
       "      <th>2</th>\n",
       "      <td>1002</td>\n",
       "      <td>59</td>\n",
       "      <td>NaT</td>\n",
       "      <td>Стерлитамак</td>\n",
       "      <td>Евгений</td>\n",
       "      <td>Абрамович</td>\n",
       "      <td>2018-06-17</td>\n",
       "      <td>smart</td>\n",
       "      <td>6</td>\n",
       "      <td>NaN</td>\n",
       "    </tr>\n",
       "    <tr>\n",
       "      <th>3</th>\n",
       "      <td>1003</td>\n",
       "      <td>23</td>\n",
       "      <td>NaT</td>\n",
       "      <td>Москва</td>\n",
       "      <td>Белла</td>\n",
       "      <td>Белякова</td>\n",
       "      <td>2018-08-17</td>\n",
       "      <td>ultra</td>\n",
       "      <td>8</td>\n",
       "      <td>NaN</td>\n",
       "    </tr>\n",
       "    <tr>\n",
       "      <th>4</th>\n",
       "      <td>1004</td>\n",
       "      <td>68</td>\n",
       "      <td>NaT</td>\n",
       "      <td>Новокузнецк</td>\n",
       "      <td>Татьяна</td>\n",
       "      <td>Авдеенко</td>\n",
       "      <td>2018-05-14</td>\n",
       "      <td>ultra</td>\n",
       "      <td>5</td>\n",
       "      <td>NaN</td>\n",
       "    </tr>\n",
       "  </tbody>\n",
       "</table>\n",
       "</div>"
      ],
      "text/plain": [
       "   user_id  age churn_date         city first_name  last_name   reg_date  \\\n",
       "0     1000   52        NaT    Краснодар     Рафаил  Верещагин 2018-05-25   \n",
       "1     1001   41        NaT       Москва       Иван       Ежов 2018-11-01   \n",
       "2     1002   59        NaT  Стерлитамак    Евгений  Абрамович 2018-06-17   \n",
       "3     1003   23        NaT       Москва      Белла   Белякова 2018-08-17   \n",
       "4     1004   68        NaT  Новокузнецк    Татьяна   Авдеенко 2018-05-14   \n",
       "\n",
       "  tariff  users_reg_month  churn_month  \n",
       "0  ultra                5          NaN  \n",
       "1  smart               11          NaN  \n",
       "2  smart                6          NaN  \n",
       "3  ultra                8          NaN  \n",
       "4  ultra                5          NaN  "
      ]
     },
     "execution_count": 39,
     "metadata": {},
     "output_type": "execute_result"
    }
   ],
   "source": [
    "df_users.head()"
   ]
  },
  {
   "cell_type": "markdown",
   "id": "7ce7eb50",
   "metadata": {},
   "source": [
    "Присоединим данные с месяцем начала регистрации и месяцем прекращения регистрации, заменим в месяце прекращения регистрации NaN на 13-й месяц (т.е. определив, что до конца исследуемого года пользователь не прекратил пользование тарифом), сделаем флаги-разницы и удалим лишние строки на основании того, что месяц, указанный в month должен быть больше или равен месяцу регистрации и меньше либо равен месяцу прекращения регистрации. "
   ]
  },
  {
   "cell_type": "code",
   "execution_count": 40,
   "id": "ea257c4f",
   "metadata": {
    "scrolled": true
   },
   "outputs": [
    {
     "data": {
      "text/html": [
       "<div>\n",
       "<style scoped>\n",
       "    .dataframe tbody tr th:only-of-type {\n",
       "        vertical-align: middle;\n",
       "    }\n",
       "\n",
       "    .dataframe tbody tr th {\n",
       "        vertical-align: top;\n",
       "    }\n",
       "\n",
       "    .dataframe thead th {\n",
       "        text-align: right;\n",
       "    }\n",
       "</style>\n",
       "<table border=\"1\" class=\"dataframe\">\n",
       "  <thead>\n",
       "    <tr style=\"text-align: right;\">\n",
       "      <th></th>\n",
       "      <th>user_id</th>\n",
       "      <th>month</th>\n",
       "      <th>users_reg_month</th>\n",
       "      <th>churn_month</th>\n",
       "    </tr>\n",
       "  </thead>\n",
       "  <tbody>\n",
       "    <tr>\n",
       "      <th>0</th>\n",
       "      <td>1000</td>\n",
       "      <td>1</td>\n",
       "      <td>5</td>\n",
       "      <td>NaN</td>\n",
       "    </tr>\n",
       "    <tr>\n",
       "      <th>1</th>\n",
       "      <td>1000</td>\n",
       "      <td>2</td>\n",
       "      <td>5</td>\n",
       "      <td>NaN</td>\n",
       "    </tr>\n",
       "    <tr>\n",
       "      <th>2</th>\n",
       "      <td>1000</td>\n",
       "      <td>3</td>\n",
       "      <td>5</td>\n",
       "      <td>NaN</td>\n",
       "    </tr>\n",
       "    <tr>\n",
       "      <th>3</th>\n",
       "      <td>1000</td>\n",
       "      <td>4</td>\n",
       "      <td>5</td>\n",
       "      <td>NaN</td>\n",
       "    </tr>\n",
       "    <tr>\n",
       "      <th>4</th>\n",
       "      <td>1000</td>\n",
       "      <td>5</td>\n",
       "      <td>5</td>\n",
       "      <td>NaN</td>\n",
       "    </tr>\n",
       "  </tbody>\n",
       "</table>\n",
       "</div>"
      ],
      "text/plain": [
       "   user_id  month  users_reg_month  churn_month\n",
       "0     1000      1                5          NaN\n",
       "1     1000      2                5          NaN\n",
       "2     1000      3                5          NaN\n",
       "3     1000      4                5          NaN\n",
       "4     1000      5                5          NaN"
      ]
     },
     "execution_count": 40,
     "metadata": {},
     "output_type": "execute_result"
    }
   ],
   "source": [
    "merged_basic_df=basic_df.merge(reg_churn_users, how='left')\n",
    "merged_basic_df.head()"
   ]
  },
  {
   "cell_type": "code",
   "execution_count": 41,
   "id": "99aa807c",
   "metadata": {
    "scrolled": true
   },
   "outputs": [
    {
     "data": {
      "text/html": [
       "<div>\n",
       "<style scoped>\n",
       "    .dataframe tbody tr th:only-of-type {\n",
       "        vertical-align: middle;\n",
       "    }\n",
       "\n",
       "    .dataframe tbody tr th {\n",
       "        vertical-align: top;\n",
       "    }\n",
       "\n",
       "    .dataframe thead th {\n",
       "        text-align: right;\n",
       "    }\n",
       "</style>\n",
       "<table border=\"1\" class=\"dataframe\">\n",
       "  <thead>\n",
       "    <tr style=\"text-align: right;\">\n",
       "      <th></th>\n",
       "      <th>user_id</th>\n",
       "      <th>month</th>\n",
       "      <th>users_reg_month</th>\n",
       "      <th>churn_month</th>\n",
       "    </tr>\n",
       "  </thead>\n",
       "  <tbody>\n",
       "    <tr>\n",
       "      <th>0</th>\n",
       "      <td>1000</td>\n",
       "      <td>1</td>\n",
       "      <td>5</td>\n",
       "      <td>13.00</td>\n",
       "    </tr>\n",
       "    <tr>\n",
       "      <th>1</th>\n",
       "      <td>1000</td>\n",
       "      <td>2</td>\n",
       "      <td>5</td>\n",
       "      <td>13.00</td>\n",
       "    </tr>\n",
       "    <tr>\n",
       "      <th>2</th>\n",
       "      <td>1000</td>\n",
       "      <td>3</td>\n",
       "      <td>5</td>\n",
       "      <td>13.00</td>\n",
       "    </tr>\n",
       "    <tr>\n",
       "      <th>3</th>\n",
       "      <td>1000</td>\n",
       "      <td>4</td>\n",
       "      <td>5</td>\n",
       "      <td>13.00</td>\n",
       "    </tr>\n",
       "    <tr>\n",
       "      <th>4</th>\n",
       "      <td>1000</td>\n",
       "      <td>5</td>\n",
       "      <td>5</td>\n",
       "      <td>13.00</td>\n",
       "    </tr>\n",
       "    <tr>\n",
       "      <th>...</th>\n",
       "      <td>...</td>\n",
       "      <td>...</td>\n",
       "      <td>...</td>\n",
       "      <td>...</td>\n",
       "    </tr>\n",
       "    <tr>\n",
       "      <th>5995</th>\n",
       "      <td>1499</td>\n",
       "      <td>8</td>\n",
       "      <td>9</td>\n",
       "      <td>13.00</td>\n",
       "    </tr>\n",
       "    <tr>\n",
       "      <th>5996</th>\n",
       "      <td>1499</td>\n",
       "      <td>9</td>\n",
       "      <td>9</td>\n",
       "      <td>13.00</td>\n",
       "    </tr>\n",
       "    <tr>\n",
       "      <th>5997</th>\n",
       "      <td>1499</td>\n",
       "      <td>10</td>\n",
       "      <td>9</td>\n",
       "      <td>13.00</td>\n",
       "    </tr>\n",
       "    <tr>\n",
       "      <th>5998</th>\n",
       "      <td>1499</td>\n",
       "      <td>11</td>\n",
       "      <td>9</td>\n",
       "      <td>13.00</td>\n",
       "    </tr>\n",
       "    <tr>\n",
       "      <th>5999</th>\n",
       "      <td>1499</td>\n",
       "      <td>12</td>\n",
       "      <td>9</td>\n",
       "      <td>13.00</td>\n",
       "    </tr>\n",
       "  </tbody>\n",
       "</table>\n",
       "<p>6000 rows × 4 columns</p>\n",
       "</div>"
      ],
      "text/plain": [
       "      user_id  month  users_reg_month  churn_month\n",
       "0        1000      1                5        13.00\n",
       "1        1000      2                5        13.00\n",
       "2        1000      3                5        13.00\n",
       "3        1000      4                5        13.00\n",
       "4        1000      5                5        13.00\n",
       "...       ...    ...              ...          ...\n",
       "5995     1499      8                9        13.00\n",
       "5996     1499      9                9        13.00\n",
       "5997     1499     10                9        13.00\n",
       "5998     1499     11                9        13.00\n",
       "5999     1499     12                9        13.00\n",
       "\n",
       "[6000 rows x 4 columns]"
      ]
     },
     "execution_count": 41,
     "metadata": {},
     "output_type": "execute_result"
    }
   ],
   "source": [
    "merged_basic_df.churn_month=merged_basic_df.churn_month.fillna(13)\n",
    "merged_basic_df"
   ]
  },
  {
   "cell_type": "code",
   "execution_count": 42,
   "id": "1d32f340",
   "metadata": {},
   "outputs": [
    {
     "data": {
      "text/html": [
       "<div>\n",
       "<style scoped>\n",
       "    .dataframe tbody tr th:only-of-type {\n",
       "        vertical-align: middle;\n",
       "    }\n",
       "\n",
       "    .dataframe tbody tr th {\n",
       "        vertical-align: top;\n",
       "    }\n",
       "\n",
       "    .dataframe thead th {\n",
       "        text-align: right;\n",
       "    }\n",
       "</style>\n",
       "<table border=\"1\" class=\"dataframe\">\n",
       "  <thead>\n",
       "    <tr style=\"text-align: right;\">\n",
       "      <th></th>\n",
       "      <th>user_id</th>\n",
       "      <th>month</th>\n",
       "      <th>users_reg_month</th>\n",
       "      <th>churn_month</th>\n",
       "      <th>flag1</th>\n",
       "      <th>flag2</th>\n",
       "    </tr>\n",
       "  </thead>\n",
       "  <tbody>\n",
       "    <tr>\n",
       "      <th>0</th>\n",
       "      <td>1000</td>\n",
       "      <td>1</td>\n",
       "      <td>5</td>\n",
       "      <td>13.00</td>\n",
       "      <td>-4</td>\n",
       "      <td>-12.00</td>\n",
       "    </tr>\n",
       "    <tr>\n",
       "      <th>1</th>\n",
       "      <td>1000</td>\n",
       "      <td>2</td>\n",
       "      <td>5</td>\n",
       "      <td>13.00</td>\n",
       "      <td>-3</td>\n",
       "      <td>-11.00</td>\n",
       "    </tr>\n",
       "    <tr>\n",
       "      <th>2</th>\n",
       "      <td>1000</td>\n",
       "      <td>3</td>\n",
       "      <td>5</td>\n",
       "      <td>13.00</td>\n",
       "      <td>-2</td>\n",
       "      <td>-10.00</td>\n",
       "    </tr>\n",
       "    <tr>\n",
       "      <th>3</th>\n",
       "      <td>1000</td>\n",
       "      <td>4</td>\n",
       "      <td>5</td>\n",
       "      <td>13.00</td>\n",
       "      <td>-1</td>\n",
       "      <td>-9.00</td>\n",
       "    </tr>\n",
       "    <tr>\n",
       "      <th>4</th>\n",
       "      <td>1000</td>\n",
       "      <td>5</td>\n",
       "      <td>5</td>\n",
       "      <td>13.00</td>\n",
       "      <td>0</td>\n",
       "      <td>-8.00</td>\n",
       "    </tr>\n",
       "    <tr>\n",
       "      <th>...</th>\n",
       "      <td>...</td>\n",
       "      <td>...</td>\n",
       "      <td>...</td>\n",
       "      <td>...</td>\n",
       "      <td>...</td>\n",
       "      <td>...</td>\n",
       "    </tr>\n",
       "    <tr>\n",
       "      <th>5995</th>\n",
       "      <td>1499</td>\n",
       "      <td>8</td>\n",
       "      <td>9</td>\n",
       "      <td>13.00</td>\n",
       "      <td>-1</td>\n",
       "      <td>-5.00</td>\n",
       "    </tr>\n",
       "    <tr>\n",
       "      <th>5996</th>\n",
       "      <td>1499</td>\n",
       "      <td>9</td>\n",
       "      <td>9</td>\n",
       "      <td>13.00</td>\n",
       "      <td>0</td>\n",
       "      <td>-4.00</td>\n",
       "    </tr>\n",
       "    <tr>\n",
       "      <th>5997</th>\n",
       "      <td>1499</td>\n",
       "      <td>10</td>\n",
       "      <td>9</td>\n",
       "      <td>13.00</td>\n",
       "      <td>1</td>\n",
       "      <td>-3.00</td>\n",
       "    </tr>\n",
       "    <tr>\n",
       "      <th>5998</th>\n",
       "      <td>1499</td>\n",
       "      <td>11</td>\n",
       "      <td>9</td>\n",
       "      <td>13.00</td>\n",
       "      <td>2</td>\n",
       "      <td>-2.00</td>\n",
       "    </tr>\n",
       "    <tr>\n",
       "      <th>5999</th>\n",
       "      <td>1499</td>\n",
       "      <td>12</td>\n",
       "      <td>9</td>\n",
       "      <td>13.00</td>\n",
       "      <td>3</td>\n",
       "      <td>-1.00</td>\n",
       "    </tr>\n",
       "  </tbody>\n",
       "</table>\n",
       "<p>6000 rows × 6 columns</p>\n",
       "</div>"
      ],
      "text/plain": [
       "      user_id  month  users_reg_month  churn_month  flag1  flag2\n",
       "0        1000      1                5        13.00     -4 -12.00\n",
       "1        1000      2                5        13.00     -3 -11.00\n",
       "2        1000      3                5        13.00     -2 -10.00\n",
       "3        1000      4                5        13.00     -1  -9.00\n",
       "4        1000      5                5        13.00      0  -8.00\n",
       "...       ...    ...              ...          ...    ...    ...\n",
       "5995     1499      8                9        13.00     -1  -5.00\n",
       "5996     1499      9                9        13.00      0  -4.00\n",
       "5997     1499     10                9        13.00      1  -3.00\n",
       "5998     1499     11                9        13.00      2  -2.00\n",
       "5999     1499     12                9        13.00      3  -1.00\n",
       "\n",
       "[6000 rows x 6 columns]"
      ]
     },
     "execution_count": 42,
     "metadata": {},
     "output_type": "execute_result"
    }
   ],
   "source": [
    "merged_basic_df['flag1']=merged_basic_df['month']-merged_basic_df['users_reg_month']\n",
    "merged_basic_df['flag2']=merged_basic_df['month']-merged_basic_df['churn_month']\n",
    "merged_basic_df"
   ]
  },
  {
   "cell_type": "code",
   "execution_count": 43,
   "id": "d4d61594",
   "metadata": {},
   "outputs": [
    {
     "data": {
      "text/html": [
       "<div>\n",
       "<style scoped>\n",
       "    .dataframe tbody tr th:only-of-type {\n",
       "        vertical-align: middle;\n",
       "    }\n",
       "\n",
       "    .dataframe tbody tr th {\n",
       "        vertical-align: top;\n",
       "    }\n",
       "\n",
       "    .dataframe thead th {\n",
       "        text-align: right;\n",
       "    }\n",
       "</style>\n",
       "<table border=\"1\" class=\"dataframe\">\n",
       "  <thead>\n",
       "    <tr style=\"text-align: right;\">\n",
       "      <th></th>\n",
       "      <th>user_id</th>\n",
       "      <th>month</th>\n",
       "      <th>users_reg_month</th>\n",
       "      <th>churn_month</th>\n",
       "      <th>flag1</th>\n",
       "      <th>flag2</th>\n",
       "    </tr>\n",
       "  </thead>\n",
       "  <tbody>\n",
       "    <tr>\n",
       "      <th>4</th>\n",
       "      <td>1000</td>\n",
       "      <td>5</td>\n",
       "      <td>5</td>\n",
       "      <td>13.00</td>\n",
       "      <td>0</td>\n",
       "      <td>-8.00</td>\n",
       "    </tr>\n",
       "    <tr>\n",
       "      <th>5</th>\n",
       "      <td>1000</td>\n",
       "      <td>6</td>\n",
       "      <td>5</td>\n",
       "      <td>13.00</td>\n",
       "      <td>1</td>\n",
       "      <td>-7.00</td>\n",
       "    </tr>\n",
       "    <tr>\n",
       "      <th>6</th>\n",
       "      <td>1000</td>\n",
       "      <td>7</td>\n",
       "      <td>5</td>\n",
       "      <td>13.00</td>\n",
       "      <td>2</td>\n",
       "      <td>-6.00</td>\n",
       "    </tr>\n",
       "    <tr>\n",
       "      <th>7</th>\n",
       "      <td>1000</td>\n",
       "      <td>8</td>\n",
       "      <td>5</td>\n",
       "      <td>13.00</td>\n",
       "      <td>3</td>\n",
       "      <td>-5.00</td>\n",
       "    </tr>\n",
       "    <tr>\n",
       "      <th>8</th>\n",
       "      <td>1000</td>\n",
       "      <td>9</td>\n",
       "      <td>5</td>\n",
       "      <td>13.00</td>\n",
       "      <td>4</td>\n",
       "      <td>-4.00</td>\n",
       "    </tr>\n",
       "  </tbody>\n",
       "</table>\n",
       "</div>"
      ],
      "text/plain": [
       "   user_id  month  users_reg_month  churn_month  flag1  flag2\n",
       "4     1000      5                5        13.00      0  -8.00\n",
       "5     1000      6                5        13.00      1  -7.00\n",
       "6     1000      7                5        13.00      2  -6.00\n",
       "7     1000      8                5        13.00      3  -5.00\n",
       "8     1000      9                5        13.00      4  -4.00"
      ]
     },
     "execution_count": 43,
     "metadata": {},
     "output_type": "execute_result"
    }
   ],
   "source": [
    "merged_basic_df=merged_basic_df.loc[merged_basic_df['flag1']>=0]\n",
    "merged_basic_df.head()"
   ]
  },
  {
   "cell_type": "code",
   "execution_count": 44,
   "id": "8c4cd63a",
   "metadata": {
    "scrolled": true
   },
   "outputs": [
    {
     "data": {
      "text/html": [
       "<div>\n",
       "<style scoped>\n",
       "    .dataframe tbody tr th:only-of-type {\n",
       "        vertical-align: middle;\n",
       "    }\n",
       "\n",
       "    .dataframe tbody tr th {\n",
       "        vertical-align: top;\n",
       "    }\n",
       "\n",
       "    .dataframe thead th {\n",
       "        text-align: right;\n",
       "    }\n",
       "</style>\n",
       "<table border=\"1\" class=\"dataframe\">\n",
       "  <thead>\n",
       "    <tr style=\"text-align: right;\">\n",
       "      <th></th>\n",
       "      <th>user_id</th>\n",
       "      <th>month</th>\n",
       "      <th>users_reg_month</th>\n",
       "      <th>churn_month</th>\n",
       "      <th>flag1</th>\n",
       "      <th>flag2</th>\n",
       "    </tr>\n",
       "  </thead>\n",
       "  <tbody>\n",
       "    <tr>\n",
       "      <th>4</th>\n",
       "      <td>1000</td>\n",
       "      <td>5</td>\n",
       "      <td>5</td>\n",
       "      <td>13.00</td>\n",
       "      <td>0</td>\n",
       "      <td>-8.00</td>\n",
       "    </tr>\n",
       "    <tr>\n",
       "      <th>5</th>\n",
       "      <td>1000</td>\n",
       "      <td>6</td>\n",
       "      <td>5</td>\n",
       "      <td>13.00</td>\n",
       "      <td>1</td>\n",
       "      <td>-7.00</td>\n",
       "    </tr>\n",
       "    <tr>\n",
       "      <th>6</th>\n",
       "      <td>1000</td>\n",
       "      <td>7</td>\n",
       "      <td>5</td>\n",
       "      <td>13.00</td>\n",
       "      <td>2</td>\n",
       "      <td>-6.00</td>\n",
       "    </tr>\n",
       "    <tr>\n",
       "      <th>7</th>\n",
       "      <td>1000</td>\n",
       "      <td>8</td>\n",
       "      <td>5</td>\n",
       "      <td>13.00</td>\n",
       "      <td>3</td>\n",
       "      <td>-5.00</td>\n",
       "    </tr>\n",
       "    <tr>\n",
       "      <th>8</th>\n",
       "      <td>1000</td>\n",
       "      <td>9</td>\n",
       "      <td>5</td>\n",
       "      <td>13.00</td>\n",
       "      <td>4</td>\n",
       "      <td>-4.00</td>\n",
       "    </tr>\n",
       "    <tr>\n",
       "      <th>9</th>\n",
       "      <td>1000</td>\n",
       "      <td>10</td>\n",
       "      <td>5</td>\n",
       "      <td>13.00</td>\n",
       "      <td>5</td>\n",
       "      <td>-3.00</td>\n",
       "    </tr>\n",
       "    <tr>\n",
       "      <th>10</th>\n",
       "      <td>1000</td>\n",
       "      <td>11</td>\n",
       "      <td>5</td>\n",
       "      <td>13.00</td>\n",
       "      <td>6</td>\n",
       "      <td>-2.00</td>\n",
       "    </tr>\n",
       "    <tr>\n",
       "      <th>11</th>\n",
       "      <td>1000</td>\n",
       "      <td>12</td>\n",
       "      <td>5</td>\n",
       "      <td>13.00</td>\n",
       "      <td>7</td>\n",
       "      <td>-1.00</td>\n",
       "    </tr>\n",
       "    <tr>\n",
       "      <th>22</th>\n",
       "      <td>1001</td>\n",
       "      <td>11</td>\n",
       "      <td>11</td>\n",
       "      <td>13.00</td>\n",
       "      <td>0</td>\n",
       "      <td>-2.00</td>\n",
       "    </tr>\n",
       "    <tr>\n",
       "      <th>23</th>\n",
       "      <td>1001</td>\n",
       "      <td>12</td>\n",
       "      <td>11</td>\n",
       "      <td>13.00</td>\n",
       "      <td>1</td>\n",
       "      <td>-1.00</td>\n",
       "    </tr>\n",
       "    <tr>\n",
       "      <th>29</th>\n",
       "      <td>1002</td>\n",
       "      <td>6</td>\n",
       "      <td>6</td>\n",
       "      <td>13.00</td>\n",
       "      <td>0</td>\n",
       "      <td>-7.00</td>\n",
       "    </tr>\n",
       "    <tr>\n",
       "      <th>30</th>\n",
       "      <td>1002</td>\n",
       "      <td>7</td>\n",
       "      <td>6</td>\n",
       "      <td>13.00</td>\n",
       "      <td>1</td>\n",
       "      <td>-6.00</td>\n",
       "    </tr>\n",
       "    <tr>\n",
       "      <th>31</th>\n",
       "      <td>1002</td>\n",
       "      <td>8</td>\n",
       "      <td>6</td>\n",
       "      <td>13.00</td>\n",
       "      <td>2</td>\n",
       "      <td>-5.00</td>\n",
       "    </tr>\n",
       "    <tr>\n",
       "      <th>32</th>\n",
       "      <td>1002</td>\n",
       "      <td>9</td>\n",
       "      <td>6</td>\n",
       "      <td>13.00</td>\n",
       "      <td>3</td>\n",
       "      <td>-4.00</td>\n",
       "    </tr>\n",
       "    <tr>\n",
       "      <th>33</th>\n",
       "      <td>1002</td>\n",
       "      <td>10</td>\n",
       "      <td>6</td>\n",
       "      <td>13.00</td>\n",
       "      <td>4</td>\n",
       "      <td>-3.00</td>\n",
       "    </tr>\n",
       "    <tr>\n",
       "      <th>34</th>\n",
       "      <td>1002</td>\n",
       "      <td>11</td>\n",
       "      <td>6</td>\n",
       "      <td>13.00</td>\n",
       "      <td>5</td>\n",
       "      <td>-2.00</td>\n",
       "    </tr>\n",
       "    <tr>\n",
       "      <th>35</th>\n",
       "      <td>1002</td>\n",
       "      <td>12</td>\n",
       "      <td>6</td>\n",
       "      <td>13.00</td>\n",
       "      <td>6</td>\n",
       "      <td>-1.00</td>\n",
       "    </tr>\n",
       "    <tr>\n",
       "      <th>43</th>\n",
       "      <td>1003</td>\n",
       "      <td>8</td>\n",
       "      <td>8</td>\n",
       "      <td>13.00</td>\n",
       "      <td>0</td>\n",
       "      <td>-5.00</td>\n",
       "    </tr>\n",
       "    <tr>\n",
       "      <th>44</th>\n",
       "      <td>1003</td>\n",
       "      <td>9</td>\n",
       "      <td>8</td>\n",
       "      <td>13.00</td>\n",
       "      <td>1</td>\n",
       "      <td>-4.00</td>\n",
       "    </tr>\n",
       "    <tr>\n",
       "      <th>45</th>\n",
       "      <td>1003</td>\n",
       "      <td>10</td>\n",
       "      <td>8</td>\n",
       "      <td>13.00</td>\n",
       "      <td>2</td>\n",
       "      <td>-3.00</td>\n",
       "    </tr>\n",
       "  </tbody>\n",
       "</table>\n",
       "</div>"
      ],
      "text/plain": [
       "    user_id  month  users_reg_month  churn_month  flag1  flag2\n",
       "4      1000      5                5        13.00      0  -8.00\n",
       "5      1000      6                5        13.00      1  -7.00\n",
       "6      1000      7                5        13.00      2  -6.00\n",
       "7      1000      8                5        13.00      3  -5.00\n",
       "8      1000      9                5        13.00      4  -4.00\n",
       "9      1000     10                5        13.00      5  -3.00\n",
       "10     1000     11                5        13.00      6  -2.00\n",
       "11     1000     12                5        13.00      7  -1.00\n",
       "22     1001     11               11        13.00      0  -2.00\n",
       "23     1001     12               11        13.00      1  -1.00\n",
       "29     1002      6                6        13.00      0  -7.00\n",
       "30     1002      7                6        13.00      1  -6.00\n",
       "31     1002      8                6        13.00      2  -5.00\n",
       "32     1002      9                6        13.00      3  -4.00\n",
       "33     1002     10                6        13.00      4  -3.00\n",
       "34     1002     11                6        13.00      5  -2.00\n",
       "35     1002     12                6        13.00      6  -1.00\n",
       "43     1003      8                8        13.00      0  -5.00\n",
       "44     1003      9                8        13.00      1  -4.00\n",
       "45     1003     10                8        13.00      2  -3.00"
      ]
     },
     "execution_count": 44,
     "metadata": {},
     "output_type": "execute_result"
    }
   ],
   "source": [
    "merged_basic_df=merged_basic_df.loc[merged_basic_df['flag2']<=0]\n",
    "merged_basic_df.head(20)"
   ]
  },
  {
   "cell_type": "code",
   "execution_count": 45,
   "id": "9f1ad9d4",
   "metadata": {
    "scrolled": true
   },
   "outputs": [
    {
     "data": {
      "text/html": [
       "<div>\n",
       "<style scoped>\n",
       "    .dataframe tbody tr th:only-of-type {\n",
       "        vertical-align: middle;\n",
       "    }\n",
       "\n",
       "    .dataframe tbody tr th {\n",
       "        vertical-align: top;\n",
       "    }\n",
       "\n",
       "    .dataframe thead th {\n",
       "        text-align: right;\n",
       "    }\n",
       "</style>\n",
       "<table border=\"1\" class=\"dataframe\">\n",
       "  <thead>\n",
       "    <tr style=\"text-align: right;\">\n",
       "      <th></th>\n",
       "      <th>user_id</th>\n",
       "      <th>month</th>\n",
       "    </tr>\n",
       "  </thead>\n",
       "  <tbody>\n",
       "    <tr>\n",
       "      <th>4</th>\n",
       "      <td>1000</td>\n",
       "      <td>5</td>\n",
       "    </tr>\n",
       "    <tr>\n",
       "      <th>5</th>\n",
       "      <td>1000</td>\n",
       "      <td>6</td>\n",
       "    </tr>\n",
       "    <tr>\n",
       "      <th>6</th>\n",
       "      <td>1000</td>\n",
       "      <td>7</td>\n",
       "    </tr>\n",
       "    <tr>\n",
       "      <th>7</th>\n",
       "      <td>1000</td>\n",
       "      <td>8</td>\n",
       "    </tr>\n",
       "    <tr>\n",
       "      <th>8</th>\n",
       "      <td>1000</td>\n",
       "      <td>9</td>\n",
       "    </tr>\n",
       "    <tr>\n",
       "      <th>...</th>\n",
       "      <td>...</td>\n",
       "      <td>...</td>\n",
       "    </tr>\n",
       "    <tr>\n",
       "      <th>5985</th>\n",
       "      <td>1498</td>\n",
       "      <td>10</td>\n",
       "    </tr>\n",
       "    <tr>\n",
       "      <th>5996</th>\n",
       "      <td>1499</td>\n",
       "      <td>9</td>\n",
       "    </tr>\n",
       "    <tr>\n",
       "      <th>5997</th>\n",
       "      <td>1499</td>\n",
       "      <td>10</td>\n",
       "    </tr>\n",
       "    <tr>\n",
       "      <th>5998</th>\n",
       "      <td>1499</td>\n",
       "      <td>11</td>\n",
       "    </tr>\n",
       "    <tr>\n",
       "      <th>5999</th>\n",
       "      <td>1499</td>\n",
       "      <td>12</td>\n",
       "    </tr>\n",
       "  </tbody>\n",
       "</table>\n",
       "<p>3216 rows × 2 columns</p>\n",
       "</div>"
      ],
      "text/plain": [
       "      user_id  month\n",
       "4        1000      5\n",
       "5        1000      6\n",
       "6        1000      7\n",
       "7        1000      8\n",
       "8        1000      9\n",
       "...       ...    ...\n",
       "5985     1498     10\n",
       "5996     1499      9\n",
       "5997     1499     10\n",
       "5998     1499     11\n",
       "5999     1499     12\n",
       "\n",
       "[3216 rows x 2 columns]"
      ]
     },
     "execution_count": 45,
     "metadata": {},
     "output_type": "execute_result"
    }
   ],
   "source": [
    "basic_data=merged_basic_df[['user_id', 'month']]\n",
    "basic_data"
   ]
  },
  {
   "cell_type": "markdown",
   "id": "5a2c9705",
   "metadata": {},
   "source": [
    "В итоге у нас остался датасет только с теми месяцами для пользователей, когда они на самом деле обладали тарифом,  т.е. даже при отсутствии активности должны были платить свою абонентскую плату. "
   ]
  },
  {
   "cell_type": "markdown",
   "id": "b9a61b70",
   "metadata": {},
   "source": [
    "Добавим в эту информацию данные по пользователю - наименование тарифа и название города - для дальнейшего анализа. Возраст и имя нам в нашем анализе не нужны. "
   ]
  },
  {
   "cell_type": "code",
   "execution_count": 46,
   "id": "95f86ca7",
   "metadata": {},
   "outputs": [
    {
     "data": {
      "text/html": [
       "<div>\n",
       "<style scoped>\n",
       "    .dataframe tbody tr th:only-of-type {\n",
       "        vertical-align: middle;\n",
       "    }\n",
       "\n",
       "    .dataframe tbody tr th {\n",
       "        vertical-align: top;\n",
       "    }\n",
       "\n",
       "    .dataframe thead th {\n",
       "        text-align: right;\n",
       "    }\n",
       "</style>\n",
       "<table border=\"1\" class=\"dataframe\">\n",
       "  <thead>\n",
       "    <tr style=\"text-align: right;\">\n",
       "      <th></th>\n",
       "      <th>user_id</th>\n",
       "      <th>age</th>\n",
       "      <th>churn_date</th>\n",
       "      <th>city</th>\n",
       "      <th>first_name</th>\n",
       "      <th>last_name</th>\n",
       "      <th>reg_date</th>\n",
       "      <th>tariff</th>\n",
       "      <th>users_reg_month</th>\n",
       "      <th>churn_month</th>\n",
       "    </tr>\n",
       "  </thead>\n",
       "  <tbody>\n",
       "    <tr>\n",
       "      <th>0</th>\n",
       "      <td>1000</td>\n",
       "      <td>52</td>\n",
       "      <td>NaT</td>\n",
       "      <td>Краснодар</td>\n",
       "      <td>Рафаил</td>\n",
       "      <td>Верещагин</td>\n",
       "      <td>2018-05-25</td>\n",
       "      <td>ultra</td>\n",
       "      <td>5</td>\n",
       "      <td>NaN</td>\n",
       "    </tr>\n",
       "    <tr>\n",
       "      <th>1</th>\n",
       "      <td>1001</td>\n",
       "      <td>41</td>\n",
       "      <td>NaT</td>\n",
       "      <td>Москва</td>\n",
       "      <td>Иван</td>\n",
       "      <td>Ежов</td>\n",
       "      <td>2018-11-01</td>\n",
       "      <td>smart</td>\n",
       "      <td>11</td>\n",
       "      <td>NaN</td>\n",
       "    </tr>\n",
       "    <tr>\n",
       "      <th>2</th>\n",
       "      <td>1002</td>\n",
       "      <td>59</td>\n",
       "      <td>NaT</td>\n",
       "      <td>Стерлитамак</td>\n",
       "      <td>Евгений</td>\n",
       "      <td>Абрамович</td>\n",
       "      <td>2018-06-17</td>\n",
       "      <td>smart</td>\n",
       "      <td>6</td>\n",
       "      <td>NaN</td>\n",
       "    </tr>\n",
       "    <tr>\n",
       "      <th>3</th>\n",
       "      <td>1003</td>\n",
       "      <td>23</td>\n",
       "      <td>NaT</td>\n",
       "      <td>Москва</td>\n",
       "      <td>Белла</td>\n",
       "      <td>Белякова</td>\n",
       "      <td>2018-08-17</td>\n",
       "      <td>ultra</td>\n",
       "      <td>8</td>\n",
       "      <td>NaN</td>\n",
       "    </tr>\n",
       "    <tr>\n",
       "      <th>4</th>\n",
       "      <td>1004</td>\n",
       "      <td>68</td>\n",
       "      <td>NaT</td>\n",
       "      <td>Новокузнецк</td>\n",
       "      <td>Татьяна</td>\n",
       "      <td>Авдеенко</td>\n",
       "      <td>2018-05-14</td>\n",
       "      <td>ultra</td>\n",
       "      <td>5</td>\n",
       "      <td>NaN</td>\n",
       "    </tr>\n",
       "  </tbody>\n",
       "</table>\n",
       "</div>"
      ],
      "text/plain": [
       "   user_id  age churn_date         city first_name  last_name   reg_date  \\\n",
       "0     1000   52        NaT    Краснодар     Рафаил  Верещагин 2018-05-25   \n",
       "1     1001   41        NaT       Москва       Иван       Ежов 2018-11-01   \n",
       "2     1002   59        NaT  Стерлитамак    Евгений  Абрамович 2018-06-17   \n",
       "3     1003   23        NaT       Москва      Белла   Белякова 2018-08-17   \n",
       "4     1004   68        NaT  Новокузнецк    Татьяна   Авдеенко 2018-05-14   \n",
       "\n",
       "  tariff  users_reg_month  churn_month  \n",
       "0  ultra                5          NaN  \n",
       "1  smart               11          NaN  \n",
       "2  smart                6          NaN  \n",
       "3  ultra                8          NaN  \n",
       "4  ultra                5          NaN  "
      ]
     },
     "execution_count": 46,
     "metadata": {},
     "output_type": "execute_result"
    }
   ],
   "source": [
    "df_users.head()"
   ]
  },
  {
   "cell_type": "code",
   "execution_count": 47,
   "id": "83ed7bd1",
   "metadata": {},
   "outputs": [
    {
     "data": {
      "text/html": [
       "<div>\n",
       "<style scoped>\n",
       "    .dataframe tbody tr th:only-of-type {\n",
       "        vertical-align: middle;\n",
       "    }\n",
       "\n",
       "    .dataframe tbody tr th {\n",
       "        vertical-align: top;\n",
       "    }\n",
       "\n",
       "    .dataframe thead th {\n",
       "        text-align: right;\n",
       "    }\n",
       "</style>\n",
       "<table border=\"1\" class=\"dataframe\">\n",
       "  <thead>\n",
       "    <tr style=\"text-align: right;\">\n",
       "      <th></th>\n",
       "      <th>user_id</th>\n",
       "      <th>city</th>\n",
       "      <th>tariff</th>\n",
       "    </tr>\n",
       "  </thead>\n",
       "  <tbody>\n",
       "    <tr>\n",
       "      <th>0</th>\n",
       "      <td>1000</td>\n",
       "      <td>Краснодар</td>\n",
       "      <td>ultra</td>\n",
       "    </tr>\n",
       "    <tr>\n",
       "      <th>1</th>\n",
       "      <td>1001</td>\n",
       "      <td>Москва</td>\n",
       "      <td>smart</td>\n",
       "    </tr>\n",
       "    <tr>\n",
       "      <th>2</th>\n",
       "      <td>1002</td>\n",
       "      <td>Стерлитамак</td>\n",
       "      <td>smart</td>\n",
       "    </tr>\n",
       "    <tr>\n",
       "      <th>3</th>\n",
       "      <td>1003</td>\n",
       "      <td>Москва</td>\n",
       "      <td>ultra</td>\n",
       "    </tr>\n",
       "    <tr>\n",
       "      <th>4</th>\n",
       "      <td>1004</td>\n",
       "      <td>Новокузнецк</td>\n",
       "      <td>ultra</td>\n",
       "    </tr>\n",
       "  </tbody>\n",
       "</table>\n",
       "</div>"
      ],
      "text/plain": [
       "   user_id         city tariff\n",
       "0     1000    Краснодар  ultra\n",
       "1     1001       Москва  smart\n",
       "2     1002  Стерлитамак  smart\n",
       "3     1003       Москва  ultra\n",
       "4     1004  Новокузнецк  ultra"
      ]
     },
     "execution_count": 47,
     "metadata": {},
     "output_type": "execute_result"
    }
   ],
   "source": [
    "df_user_info=df_users[['user_id', 'city', 'tariff']]\n",
    "df_user_info.head()"
   ]
  },
  {
   "cell_type": "code",
   "execution_count": 48,
   "id": "8a910a86",
   "metadata": {},
   "outputs": [
    {
     "data": {
      "text/html": [
       "<div>\n",
       "<style scoped>\n",
       "    .dataframe tbody tr th:only-of-type {\n",
       "        vertical-align: middle;\n",
       "    }\n",
       "\n",
       "    .dataframe tbody tr th {\n",
       "        vertical-align: top;\n",
       "    }\n",
       "\n",
       "    .dataframe thead th {\n",
       "        text-align: right;\n",
       "    }\n",
       "</style>\n",
       "<table border=\"1\" class=\"dataframe\">\n",
       "  <thead>\n",
       "    <tr style=\"text-align: right;\">\n",
       "      <th></th>\n",
       "      <th>user_id</th>\n",
       "      <th>month</th>\n",
       "      <th>city</th>\n",
       "      <th>tariff</th>\n",
       "    </tr>\n",
       "  </thead>\n",
       "  <tbody>\n",
       "    <tr>\n",
       "      <th>0</th>\n",
       "      <td>1000</td>\n",
       "      <td>5</td>\n",
       "      <td>Краснодар</td>\n",
       "      <td>ultra</td>\n",
       "    </tr>\n",
       "    <tr>\n",
       "      <th>1</th>\n",
       "      <td>1000</td>\n",
       "      <td>6</td>\n",
       "      <td>Краснодар</td>\n",
       "      <td>ultra</td>\n",
       "    </tr>\n",
       "    <tr>\n",
       "      <th>2</th>\n",
       "      <td>1000</td>\n",
       "      <td>7</td>\n",
       "      <td>Краснодар</td>\n",
       "      <td>ultra</td>\n",
       "    </tr>\n",
       "    <tr>\n",
       "      <th>3</th>\n",
       "      <td>1000</td>\n",
       "      <td>8</td>\n",
       "      <td>Краснодар</td>\n",
       "      <td>ultra</td>\n",
       "    </tr>\n",
       "    <tr>\n",
       "      <th>4</th>\n",
       "      <td>1000</td>\n",
       "      <td>9</td>\n",
       "      <td>Краснодар</td>\n",
       "      <td>ultra</td>\n",
       "    </tr>\n",
       "    <tr>\n",
       "      <th>...</th>\n",
       "      <td>...</td>\n",
       "      <td>...</td>\n",
       "      <td>...</td>\n",
       "      <td>...</td>\n",
       "    </tr>\n",
       "    <tr>\n",
       "      <th>3211</th>\n",
       "      <td>1498</td>\n",
       "      <td>10</td>\n",
       "      <td>Владикавказ</td>\n",
       "      <td>smart</td>\n",
       "    </tr>\n",
       "    <tr>\n",
       "      <th>3212</th>\n",
       "      <td>1499</td>\n",
       "      <td>9</td>\n",
       "      <td>Пермь</td>\n",
       "      <td>smart</td>\n",
       "    </tr>\n",
       "    <tr>\n",
       "      <th>3213</th>\n",
       "      <td>1499</td>\n",
       "      <td>10</td>\n",
       "      <td>Пермь</td>\n",
       "      <td>smart</td>\n",
       "    </tr>\n",
       "    <tr>\n",
       "      <th>3214</th>\n",
       "      <td>1499</td>\n",
       "      <td>11</td>\n",
       "      <td>Пермь</td>\n",
       "      <td>smart</td>\n",
       "    </tr>\n",
       "    <tr>\n",
       "      <th>3215</th>\n",
       "      <td>1499</td>\n",
       "      <td>12</td>\n",
       "      <td>Пермь</td>\n",
       "      <td>smart</td>\n",
       "    </tr>\n",
       "  </tbody>\n",
       "</table>\n",
       "<p>3216 rows × 4 columns</p>\n",
       "</div>"
      ],
      "text/plain": [
       "      user_id  month         city tariff\n",
       "0        1000      5    Краснодар  ultra\n",
       "1        1000      6    Краснодар  ultra\n",
       "2        1000      7    Краснодар  ultra\n",
       "3        1000      8    Краснодар  ultra\n",
       "4        1000      9    Краснодар  ultra\n",
       "...       ...    ...          ...    ...\n",
       "3211     1498     10  Владикавказ  smart\n",
       "3212     1499      9        Пермь  smart\n",
       "3213     1499     10        Пермь  smart\n",
       "3214     1499     11        Пермь  smart\n",
       "3215     1499     12        Пермь  smart\n",
       "\n",
       "[3216 rows x 4 columns]"
      ]
     },
     "execution_count": 48,
     "metadata": {},
     "output_type": "execute_result"
    }
   ],
   "source": [
    "basic_user=basic_data.merge(df_user_info, how='left')\n",
    "basic_user"
   ]
  },
  {
   "cell_type": "markdown",
   "id": "a9086079",
   "metadata": {},
   "source": [
    "Добавим в эту таблицу данные о том, сколько в тариф включено минут, сообщений, гб"
   ]
  },
  {
   "cell_type": "code",
   "execution_count": 49,
   "id": "ab4c4478",
   "metadata": {},
   "outputs": [
    {
     "data": {
      "text/html": [
       "<div>\n",
       "<style scoped>\n",
       "    .dataframe tbody tr th:only-of-type {\n",
       "        vertical-align: middle;\n",
       "    }\n",
       "\n",
       "    .dataframe tbody tr th {\n",
       "        vertical-align: top;\n",
       "    }\n",
       "\n",
       "    .dataframe thead th {\n",
       "        text-align: right;\n",
       "    }\n",
       "</style>\n",
       "<table border=\"1\" class=\"dataframe\">\n",
       "  <thead>\n",
       "    <tr style=\"text-align: right;\">\n",
       "      <th></th>\n",
       "      <th>user_id</th>\n",
       "      <th>month</th>\n",
       "      <th>city</th>\n",
       "      <th>tariff</th>\n",
       "      <th>messages_included</th>\n",
       "      <th>mb_per_month_included</th>\n",
       "      <th>minutes_included</th>\n",
       "      <th>rub_monthly_fee</th>\n",
       "      <th>rub_per_gb</th>\n",
       "      <th>rub_per_message</th>\n",
       "      <th>rub_per_minute</th>\n",
       "    </tr>\n",
       "  </thead>\n",
       "  <tbody>\n",
       "    <tr>\n",
       "      <th>0</th>\n",
       "      <td>1000</td>\n",
       "      <td>5</td>\n",
       "      <td>Краснодар</td>\n",
       "      <td>ultra</td>\n",
       "      <td>1000</td>\n",
       "      <td>30720</td>\n",
       "      <td>3000</td>\n",
       "      <td>1950</td>\n",
       "      <td>150</td>\n",
       "      <td>1</td>\n",
       "      <td>1</td>\n",
       "    </tr>\n",
       "    <tr>\n",
       "      <th>1</th>\n",
       "      <td>1000</td>\n",
       "      <td>6</td>\n",
       "      <td>Краснодар</td>\n",
       "      <td>ultra</td>\n",
       "      <td>1000</td>\n",
       "      <td>30720</td>\n",
       "      <td>3000</td>\n",
       "      <td>1950</td>\n",
       "      <td>150</td>\n",
       "      <td>1</td>\n",
       "      <td>1</td>\n",
       "    </tr>\n",
       "    <tr>\n",
       "      <th>2</th>\n",
       "      <td>1000</td>\n",
       "      <td>7</td>\n",
       "      <td>Краснодар</td>\n",
       "      <td>ultra</td>\n",
       "      <td>1000</td>\n",
       "      <td>30720</td>\n",
       "      <td>3000</td>\n",
       "      <td>1950</td>\n",
       "      <td>150</td>\n",
       "      <td>1</td>\n",
       "      <td>1</td>\n",
       "    </tr>\n",
       "    <tr>\n",
       "      <th>3</th>\n",
       "      <td>1000</td>\n",
       "      <td>8</td>\n",
       "      <td>Краснодар</td>\n",
       "      <td>ultra</td>\n",
       "      <td>1000</td>\n",
       "      <td>30720</td>\n",
       "      <td>3000</td>\n",
       "      <td>1950</td>\n",
       "      <td>150</td>\n",
       "      <td>1</td>\n",
       "      <td>1</td>\n",
       "    </tr>\n",
       "    <tr>\n",
       "      <th>4</th>\n",
       "      <td>1000</td>\n",
       "      <td>9</td>\n",
       "      <td>Краснодар</td>\n",
       "      <td>ultra</td>\n",
       "      <td>1000</td>\n",
       "      <td>30720</td>\n",
       "      <td>3000</td>\n",
       "      <td>1950</td>\n",
       "      <td>150</td>\n",
       "      <td>1</td>\n",
       "      <td>1</td>\n",
       "    </tr>\n",
       "    <tr>\n",
       "      <th>...</th>\n",
       "      <td>...</td>\n",
       "      <td>...</td>\n",
       "      <td>...</td>\n",
       "      <td>...</td>\n",
       "      <td>...</td>\n",
       "      <td>...</td>\n",
       "      <td>...</td>\n",
       "      <td>...</td>\n",
       "      <td>...</td>\n",
       "      <td>...</td>\n",
       "      <td>...</td>\n",
       "    </tr>\n",
       "    <tr>\n",
       "      <th>3211</th>\n",
       "      <td>1498</td>\n",
       "      <td>10</td>\n",
       "      <td>Владикавказ</td>\n",
       "      <td>smart</td>\n",
       "      <td>50</td>\n",
       "      <td>15360</td>\n",
       "      <td>500</td>\n",
       "      <td>550</td>\n",
       "      <td>200</td>\n",
       "      <td>3</td>\n",
       "      <td>3</td>\n",
       "    </tr>\n",
       "    <tr>\n",
       "      <th>3212</th>\n",
       "      <td>1499</td>\n",
       "      <td>9</td>\n",
       "      <td>Пермь</td>\n",
       "      <td>smart</td>\n",
       "      <td>50</td>\n",
       "      <td>15360</td>\n",
       "      <td>500</td>\n",
       "      <td>550</td>\n",
       "      <td>200</td>\n",
       "      <td>3</td>\n",
       "      <td>3</td>\n",
       "    </tr>\n",
       "    <tr>\n",
       "      <th>3213</th>\n",
       "      <td>1499</td>\n",
       "      <td>10</td>\n",
       "      <td>Пермь</td>\n",
       "      <td>smart</td>\n",
       "      <td>50</td>\n",
       "      <td>15360</td>\n",
       "      <td>500</td>\n",
       "      <td>550</td>\n",
       "      <td>200</td>\n",
       "      <td>3</td>\n",
       "      <td>3</td>\n",
       "    </tr>\n",
       "    <tr>\n",
       "      <th>3214</th>\n",
       "      <td>1499</td>\n",
       "      <td>11</td>\n",
       "      <td>Пермь</td>\n",
       "      <td>smart</td>\n",
       "      <td>50</td>\n",
       "      <td>15360</td>\n",
       "      <td>500</td>\n",
       "      <td>550</td>\n",
       "      <td>200</td>\n",
       "      <td>3</td>\n",
       "      <td>3</td>\n",
       "    </tr>\n",
       "    <tr>\n",
       "      <th>3215</th>\n",
       "      <td>1499</td>\n",
       "      <td>12</td>\n",
       "      <td>Пермь</td>\n",
       "      <td>smart</td>\n",
       "      <td>50</td>\n",
       "      <td>15360</td>\n",
       "      <td>500</td>\n",
       "      <td>550</td>\n",
       "      <td>200</td>\n",
       "      <td>3</td>\n",
       "      <td>3</td>\n",
       "    </tr>\n",
       "  </tbody>\n",
       "</table>\n",
       "<p>3216 rows × 11 columns</p>\n",
       "</div>"
      ],
      "text/plain": [
       "      user_id  month         city tariff  messages_included  \\\n",
       "0        1000      5    Краснодар  ultra               1000   \n",
       "1        1000      6    Краснодар  ultra               1000   \n",
       "2        1000      7    Краснодар  ultra               1000   \n",
       "3        1000      8    Краснодар  ultra               1000   \n",
       "4        1000      9    Краснодар  ultra               1000   \n",
       "...       ...    ...          ...    ...                ...   \n",
       "3211     1498     10  Владикавказ  smart                 50   \n",
       "3212     1499      9        Пермь  smart                 50   \n",
       "3213     1499     10        Пермь  smart                 50   \n",
       "3214     1499     11        Пермь  smart                 50   \n",
       "3215     1499     12        Пермь  smart                 50   \n",
       "\n",
       "      mb_per_month_included  minutes_included  rub_monthly_fee  rub_per_gb  \\\n",
       "0                     30720              3000             1950         150   \n",
       "1                     30720              3000             1950         150   \n",
       "2                     30720              3000             1950         150   \n",
       "3                     30720              3000             1950         150   \n",
       "4                     30720              3000             1950         150   \n",
       "...                     ...               ...              ...         ...   \n",
       "3211                  15360               500              550         200   \n",
       "3212                  15360               500              550         200   \n",
       "3213                  15360               500              550         200   \n",
       "3214                  15360               500              550         200   \n",
       "3215                  15360               500              550         200   \n",
       "\n",
       "      rub_per_message  rub_per_minute  \n",
       "0                   1               1  \n",
       "1                   1               1  \n",
       "2                   1               1  \n",
       "3                   1               1  \n",
       "4                   1               1  \n",
       "...               ...             ...  \n",
       "3211                3               3  \n",
       "3212                3               3  \n",
       "3213                3               3  \n",
       "3214                3               3  \n",
       "3215                3               3  \n",
       "\n",
       "[3216 rows x 11 columns]"
      ]
     },
     "execution_count": 49,
     "metadata": {},
     "output_type": "execute_result"
    }
   ],
   "source": [
    "df_user_info_full=basic_user.merge(df_tariffs, on='tariff', how='left')\n",
    "df_user_info_full"
   ]
  },
  {
   "cell_type": "markdown",
   "id": "31c81c84",
   "metadata": {},
   "source": [
    "#### Количество сделанных звонков и израсходованных минут по месяцам"
   ]
  },
  {
   "cell_type": "markdown",
   "id": "b50f58cd",
   "metadata": {},
   "source": [
    "Внесем данные о количестве минут, округлив все значения длительности минут вверх, т.к. это происходит, согласно условиям тарифа, при тарификации звонков и учете расходов"
   ]
  },
  {
   "cell_type": "code",
   "execution_count": 50,
   "id": "c5648526",
   "metadata": {},
   "outputs": [
    {
     "data": {
      "text/html": [
       "<div>\n",
       "<style scoped>\n",
       "    .dataframe tbody tr th:only-of-type {\n",
       "        vertical-align: middle;\n",
       "    }\n",
       "\n",
       "    .dataframe tbody tr th {\n",
       "        vertical-align: top;\n",
       "    }\n",
       "\n",
       "    .dataframe thead th {\n",
       "        text-align: right;\n",
       "    }\n",
       "</style>\n",
       "<table border=\"1\" class=\"dataframe\">\n",
       "  <thead>\n",
       "    <tr style=\"text-align: right;\">\n",
       "      <th></th>\n",
       "      <th>id</th>\n",
       "      <th>call_date</th>\n",
       "      <th>duration</th>\n",
       "      <th>user_id</th>\n",
       "      <th>calls_month</th>\n",
       "      <th>duration_rounded_up</th>\n",
       "    </tr>\n",
       "  </thead>\n",
       "  <tbody>\n",
       "    <tr>\n",
       "      <th>0</th>\n",
       "      <td>1000_0</td>\n",
       "      <td>2018-07-25</td>\n",
       "      <td>0.00</td>\n",
       "      <td>1000</td>\n",
       "      <td>7</td>\n",
       "      <td>0</td>\n",
       "    </tr>\n",
       "    <tr>\n",
       "      <th>1</th>\n",
       "      <td>1000_1</td>\n",
       "      <td>2018-08-17</td>\n",
       "      <td>0.00</td>\n",
       "      <td>1000</td>\n",
       "      <td>8</td>\n",
       "      <td>0</td>\n",
       "    </tr>\n",
       "    <tr>\n",
       "      <th>2</th>\n",
       "      <td>1000_2</td>\n",
       "      <td>2018-06-11</td>\n",
       "      <td>2.85</td>\n",
       "      <td>1000</td>\n",
       "      <td>6</td>\n",
       "      <td>3</td>\n",
       "    </tr>\n",
       "    <tr>\n",
       "      <th>3</th>\n",
       "      <td>1000_3</td>\n",
       "      <td>2018-09-21</td>\n",
       "      <td>13.80</td>\n",
       "      <td>1000</td>\n",
       "      <td>9</td>\n",
       "      <td>14</td>\n",
       "    </tr>\n",
       "    <tr>\n",
       "      <th>4</th>\n",
       "      <td>1000_4</td>\n",
       "      <td>2018-12-15</td>\n",
       "      <td>5.18</td>\n",
       "      <td>1000</td>\n",
       "      <td>12</td>\n",
       "      <td>6</td>\n",
       "    </tr>\n",
       "  </tbody>\n",
       "</table>\n",
       "</div>"
      ],
      "text/plain": [
       "       id  call_date  duration  user_id  calls_month  duration_rounded_up\n",
       "0  1000_0 2018-07-25      0.00     1000            7                    0\n",
       "1  1000_1 2018-08-17      0.00     1000            8                    0\n",
       "2  1000_2 2018-06-11      2.85     1000            6                    3\n",
       "3  1000_3 2018-09-21     13.80     1000            9                   14\n",
       "4  1000_4 2018-12-15      5.18     1000           12                    6"
      ]
     },
     "execution_count": 50,
     "metadata": {},
     "output_type": "execute_result"
    }
   ],
   "source": [
    "df_calls['duration_rounded_up']=df_calls['duration'].apply(ceil)\n",
    "df_calls.head()"
   ]
  },
  {
   "cell_type": "markdown",
   "id": "3658f9c8",
   "metadata": {},
   "source": [
    "Подсчитаем группировкой по user_id и месяцу"
   ]
  },
  {
   "cell_type": "code",
   "execution_count": 51,
   "id": "991b9ae0",
   "metadata": {},
   "outputs": [
    {
     "data": {
      "text/html": [
       "<div>\n",
       "<style scoped>\n",
       "    .dataframe tbody tr th:only-of-type {\n",
       "        vertical-align: middle;\n",
       "    }\n",
       "\n",
       "    .dataframe tbody tr th {\n",
       "        vertical-align: top;\n",
       "    }\n",
       "\n",
       "    .dataframe thead tr th {\n",
       "        text-align: left;\n",
       "    }\n",
       "</style>\n",
       "<table border=\"1\" class=\"dataframe\">\n",
       "  <thead>\n",
       "    <tr>\n",
       "      <th></th>\n",
       "      <th>user_id</th>\n",
       "      <th>calls_month</th>\n",
       "      <th>duration_rounded_up</th>\n",
       "    </tr>\n",
       "    <tr>\n",
       "      <th></th>\n",
       "      <th></th>\n",
       "      <th></th>\n",
       "      <th>sum</th>\n",
       "    </tr>\n",
       "  </thead>\n",
       "  <tbody>\n",
       "    <tr>\n",
       "      <th>0</th>\n",
       "      <td>1000</td>\n",
       "      <td>5</td>\n",
       "      <td>159</td>\n",
       "    </tr>\n",
       "    <tr>\n",
       "      <th>1</th>\n",
       "      <td>1000</td>\n",
       "      <td>6</td>\n",
       "      <td>172</td>\n",
       "    </tr>\n",
       "    <tr>\n",
       "      <th>2</th>\n",
       "      <td>1000</td>\n",
       "      <td>7</td>\n",
       "      <td>340</td>\n",
       "    </tr>\n",
       "    <tr>\n",
       "      <th>3</th>\n",
       "      <td>1000</td>\n",
       "      <td>8</td>\n",
       "      <td>408</td>\n",
       "    </tr>\n",
       "    <tr>\n",
       "      <th>4</th>\n",
       "      <td>1000</td>\n",
       "      <td>9</td>\n",
       "      <td>466</td>\n",
       "    </tr>\n",
       "  </tbody>\n",
       "</table>\n",
       "</div>"
      ],
      "text/plain": [
       "  user_id calls_month duration_rounded_up\n",
       "                                      sum\n",
       "0    1000           5                 159\n",
       "1    1000           6                 172\n",
       "2    1000           7                 340\n",
       "3    1000           8                 408\n",
       "4    1000           9                 466"
      ]
     },
     "execution_count": 51,
     "metadata": {},
     "output_type": "execute_result"
    }
   ],
   "source": [
    "df_calls_duration_qty_per_month=df_calls.groupby(\n",
    "    ['user_id', 'calls_month'], as_index=False).agg({'duration_rounded_up':['sum']})\n",
    "df_calls_duration_qty_per_month.head()"
   ]
  },
  {
   "cell_type": "code",
   "execution_count": 52,
   "id": "07b76671",
   "metadata": {},
   "outputs": [
    {
     "data": {
      "text/html": [
       "<div>\n",
       "<style scoped>\n",
       "    .dataframe tbody tr th:only-of-type {\n",
       "        vertical-align: middle;\n",
       "    }\n",
       "\n",
       "    .dataframe tbody tr th {\n",
       "        vertical-align: top;\n",
       "    }\n",
       "\n",
       "    .dataframe thead th {\n",
       "        text-align: right;\n",
       "    }\n",
       "</style>\n",
       "<table border=\"1\" class=\"dataframe\">\n",
       "  <thead>\n",
       "    <tr style=\"text-align: right;\">\n",
       "      <th></th>\n",
       "      <th>user_id</th>\n",
       "      <th>month</th>\n",
       "      <th>duration_rounded_up</th>\n",
       "    </tr>\n",
       "  </thead>\n",
       "  <tbody>\n",
       "    <tr>\n",
       "      <th>0</th>\n",
       "      <td>1000</td>\n",
       "      <td>5</td>\n",
       "      <td>159</td>\n",
       "    </tr>\n",
       "    <tr>\n",
       "      <th>1</th>\n",
       "      <td>1000</td>\n",
       "      <td>6</td>\n",
       "      <td>172</td>\n",
       "    </tr>\n",
       "    <tr>\n",
       "      <th>2</th>\n",
       "      <td>1000</td>\n",
       "      <td>7</td>\n",
       "      <td>340</td>\n",
       "    </tr>\n",
       "    <tr>\n",
       "      <th>3</th>\n",
       "      <td>1000</td>\n",
       "      <td>8</td>\n",
       "      <td>408</td>\n",
       "    </tr>\n",
       "    <tr>\n",
       "      <th>4</th>\n",
       "      <td>1000</td>\n",
       "      <td>9</td>\n",
       "      <td>466</td>\n",
       "    </tr>\n",
       "  </tbody>\n",
       "</table>\n",
       "</div>"
      ],
      "text/plain": [
       "   user_id  month  duration_rounded_up\n",
       "0     1000      5                  159\n",
       "1     1000      6                  172\n",
       "2     1000      7                  340\n",
       "3     1000      8                  408\n",
       "4     1000      9                  466"
      ]
     },
     "execution_count": 52,
     "metadata": {},
     "output_type": "execute_result"
    }
   ],
   "source": [
    "new_columns=['user_id', 'month', 'duration_rounded_up']\n",
    "df_calls_duration_qty_per_month.columns=new_columns\n",
    "df_calls_duration_qty_per_month.head()"
   ]
  },
  {
   "cell_type": "code",
   "execution_count": 53,
   "id": "ba14e134",
   "metadata": {
    "scrolled": true
   },
   "outputs": [
    {
     "data": {
      "text/html": [
       "<div>\n",
       "<style scoped>\n",
       "    .dataframe tbody tr th:only-of-type {\n",
       "        vertical-align: middle;\n",
       "    }\n",
       "\n",
       "    .dataframe tbody tr th {\n",
       "        vertical-align: top;\n",
       "    }\n",
       "\n",
       "    .dataframe thead th {\n",
       "        text-align: right;\n",
       "    }\n",
       "</style>\n",
       "<table border=\"1\" class=\"dataframe\">\n",
       "  <thead>\n",
       "    <tr style=\"text-align: right;\">\n",
       "      <th></th>\n",
       "      <th>user_id</th>\n",
       "      <th>month</th>\n",
       "      <th>city</th>\n",
       "      <th>tariff</th>\n",
       "      <th>messages_included</th>\n",
       "      <th>mb_per_month_included</th>\n",
       "      <th>minutes_included</th>\n",
       "      <th>rub_monthly_fee</th>\n",
       "      <th>rub_per_gb</th>\n",
       "      <th>rub_per_message</th>\n",
       "      <th>rub_per_minute</th>\n",
       "      <th>duration_rounded_up</th>\n",
       "    </tr>\n",
       "  </thead>\n",
       "  <tbody>\n",
       "    <tr>\n",
       "      <th>0</th>\n",
       "      <td>1000</td>\n",
       "      <td>5</td>\n",
       "      <td>Краснодар</td>\n",
       "      <td>ultra</td>\n",
       "      <td>1000</td>\n",
       "      <td>30720</td>\n",
       "      <td>3000</td>\n",
       "      <td>1950</td>\n",
       "      <td>150</td>\n",
       "      <td>1</td>\n",
       "      <td>1</td>\n",
       "      <td>159.00</td>\n",
       "    </tr>\n",
       "    <tr>\n",
       "      <th>1</th>\n",
       "      <td>1000</td>\n",
       "      <td>6</td>\n",
       "      <td>Краснодар</td>\n",
       "      <td>ultra</td>\n",
       "      <td>1000</td>\n",
       "      <td>30720</td>\n",
       "      <td>3000</td>\n",
       "      <td>1950</td>\n",
       "      <td>150</td>\n",
       "      <td>1</td>\n",
       "      <td>1</td>\n",
       "      <td>172.00</td>\n",
       "    </tr>\n",
       "    <tr>\n",
       "      <th>2</th>\n",
       "      <td>1000</td>\n",
       "      <td>7</td>\n",
       "      <td>Краснодар</td>\n",
       "      <td>ultra</td>\n",
       "      <td>1000</td>\n",
       "      <td>30720</td>\n",
       "      <td>3000</td>\n",
       "      <td>1950</td>\n",
       "      <td>150</td>\n",
       "      <td>1</td>\n",
       "      <td>1</td>\n",
       "      <td>340.00</td>\n",
       "    </tr>\n",
       "    <tr>\n",
       "      <th>3</th>\n",
       "      <td>1000</td>\n",
       "      <td>8</td>\n",
       "      <td>Краснодар</td>\n",
       "      <td>ultra</td>\n",
       "      <td>1000</td>\n",
       "      <td>30720</td>\n",
       "      <td>3000</td>\n",
       "      <td>1950</td>\n",
       "      <td>150</td>\n",
       "      <td>1</td>\n",
       "      <td>1</td>\n",
       "      <td>408.00</td>\n",
       "    </tr>\n",
       "    <tr>\n",
       "      <th>4</th>\n",
       "      <td>1000</td>\n",
       "      <td>9</td>\n",
       "      <td>Краснодар</td>\n",
       "      <td>ultra</td>\n",
       "      <td>1000</td>\n",
       "      <td>30720</td>\n",
       "      <td>3000</td>\n",
       "      <td>1950</td>\n",
       "      <td>150</td>\n",
       "      <td>1</td>\n",
       "      <td>1</td>\n",
       "      <td>466.00</td>\n",
       "    </tr>\n",
       "    <tr>\n",
       "      <th>...</th>\n",
       "      <td>...</td>\n",
       "      <td>...</td>\n",
       "      <td>...</td>\n",
       "      <td>...</td>\n",
       "      <td>...</td>\n",
       "      <td>...</td>\n",
       "      <td>...</td>\n",
       "      <td>...</td>\n",
       "      <td>...</td>\n",
       "      <td>...</td>\n",
       "      <td>...</td>\n",
       "      <td>...</td>\n",
       "    </tr>\n",
       "    <tr>\n",
       "      <th>3211</th>\n",
       "      <td>1498</td>\n",
       "      <td>10</td>\n",
       "      <td>Владикавказ</td>\n",
       "      <td>smart</td>\n",
       "      <td>50</td>\n",
       "      <td>15360</td>\n",
       "      <td>500</td>\n",
       "      <td>550</td>\n",
       "      <td>200</td>\n",
       "      <td>3</td>\n",
       "      <td>3</td>\n",
       "      <td>247.00</td>\n",
       "    </tr>\n",
       "    <tr>\n",
       "      <th>3212</th>\n",
       "      <td>1499</td>\n",
       "      <td>9</td>\n",
       "      <td>Пермь</td>\n",
       "      <td>smart</td>\n",
       "      <td>50</td>\n",
       "      <td>15360</td>\n",
       "      <td>500</td>\n",
       "      <td>550</td>\n",
       "      <td>200</td>\n",
       "      <td>3</td>\n",
       "      <td>3</td>\n",
       "      <td>70.00</td>\n",
       "    </tr>\n",
       "    <tr>\n",
       "      <th>3213</th>\n",
       "      <td>1499</td>\n",
       "      <td>10</td>\n",
       "      <td>Пермь</td>\n",
       "      <td>smart</td>\n",
       "      <td>50</td>\n",
       "      <td>15360</td>\n",
       "      <td>500</td>\n",
       "      <td>550</td>\n",
       "      <td>200</td>\n",
       "      <td>3</td>\n",
       "      <td>3</td>\n",
       "      <td>449.00</td>\n",
       "    </tr>\n",
       "    <tr>\n",
       "      <th>3214</th>\n",
       "      <td>1499</td>\n",
       "      <td>11</td>\n",
       "      <td>Пермь</td>\n",
       "      <td>smart</td>\n",
       "      <td>50</td>\n",
       "      <td>15360</td>\n",
       "      <td>500</td>\n",
       "      <td>550</td>\n",
       "      <td>200</td>\n",
       "      <td>3</td>\n",
       "      <td>3</td>\n",
       "      <td>612.00</td>\n",
       "    </tr>\n",
       "    <tr>\n",
       "      <th>3215</th>\n",
       "      <td>1499</td>\n",
       "      <td>12</td>\n",
       "      <td>Пермь</td>\n",
       "      <td>smart</td>\n",
       "      <td>50</td>\n",
       "      <td>15360</td>\n",
       "      <td>500</td>\n",
       "      <td>550</td>\n",
       "      <td>200</td>\n",
       "      <td>3</td>\n",
       "      <td>3</td>\n",
       "      <td>492.00</td>\n",
       "    </tr>\n",
       "  </tbody>\n",
       "</table>\n",
       "<p>3216 rows × 12 columns</p>\n",
       "</div>"
      ],
      "text/plain": [
       "      user_id  month         city tariff  messages_included  \\\n",
       "0        1000      5    Краснодар  ultra               1000   \n",
       "1        1000      6    Краснодар  ultra               1000   \n",
       "2        1000      7    Краснодар  ultra               1000   \n",
       "3        1000      8    Краснодар  ultra               1000   \n",
       "4        1000      9    Краснодар  ultra               1000   \n",
       "...       ...    ...          ...    ...                ...   \n",
       "3211     1498     10  Владикавказ  smart                 50   \n",
       "3212     1499      9        Пермь  smart                 50   \n",
       "3213     1499     10        Пермь  smart                 50   \n",
       "3214     1499     11        Пермь  smart                 50   \n",
       "3215     1499     12        Пермь  smart                 50   \n",
       "\n",
       "      mb_per_month_included  minutes_included  rub_monthly_fee  rub_per_gb  \\\n",
       "0                     30720              3000             1950         150   \n",
       "1                     30720              3000             1950         150   \n",
       "2                     30720              3000             1950         150   \n",
       "3                     30720              3000             1950         150   \n",
       "4                     30720              3000             1950         150   \n",
       "...                     ...               ...              ...         ...   \n",
       "3211                  15360               500              550         200   \n",
       "3212                  15360               500              550         200   \n",
       "3213                  15360               500              550         200   \n",
       "3214                  15360               500              550         200   \n",
       "3215                  15360               500              550         200   \n",
       "\n",
       "      rub_per_message  rub_per_minute  duration_rounded_up  \n",
       "0                   1               1               159.00  \n",
       "1                   1               1               172.00  \n",
       "2                   1               1               340.00  \n",
       "3                   1               1               408.00  \n",
       "4                   1               1               466.00  \n",
       "...               ...             ...                  ...  \n",
       "3211                3               3               247.00  \n",
       "3212                3               3                70.00  \n",
       "3213                3               3               449.00  \n",
       "3214                3               3               612.00  \n",
       "3215                3               3               492.00  \n",
       "\n",
       "[3216 rows x 12 columns]"
      ]
     },
     "execution_count": 53,
     "metadata": {},
     "output_type": "execute_result"
    }
   ],
   "source": [
    "df_calls_duration_qty_per_month_with_user_info=df_user_info_full.merge(df_calls_duration_qty_per_month, on=['user_id', 'month'], how='left')\n",
    "df_calls_duration_qty_per_month_with_user_info"
   ]
  },
  {
   "cell_type": "markdown",
   "id": "f10760f5",
   "metadata": {},
   "source": [
    "В данных есть пропуски в этой графе. Заменим их на нули, они здесь логичны. "
   ]
  },
  {
   "cell_type": "code",
   "execution_count": 54,
   "id": "72c3b80b",
   "metadata": {},
   "outputs": [
    {
     "name": "stdout",
     "output_type": "stream",
     "text": [
      "<class 'pandas.core.frame.DataFrame'>\n",
      "Int64Index: 3216 entries, 0 to 3215\n",
      "Data columns (total 12 columns):\n",
      " #   Column                 Non-Null Count  Dtype  \n",
      "---  ------                 --------------  -----  \n",
      " 0   user_id                3216 non-null   int64  \n",
      " 1   month                  3216 non-null   int64  \n",
      " 2   city                   3216 non-null   object \n",
      " 3   tariff                 3216 non-null   object \n",
      " 4   messages_included      3216 non-null   int64  \n",
      " 5   mb_per_month_included  3216 non-null   int64  \n",
      " 6   minutes_included       3216 non-null   int64  \n",
      " 7   rub_monthly_fee        3216 non-null   int64  \n",
      " 8   rub_per_gb             3216 non-null   int64  \n",
      " 9   rub_per_message        3216 non-null   int64  \n",
      " 10  rub_per_minute         3216 non-null   int64  \n",
      " 11  duration_rounded_up    3216 non-null   float64\n",
      "dtypes: float64(1), int64(9), object(2)\n",
      "memory usage: 326.6+ KB\n"
     ]
    }
   ],
   "source": [
    "df_calls_duration_qty_per_month_with_user_info.duration_rounded_up.isna().value_counts()\n",
    "df_calls_duration_qty_per_month_with_user_info.duration_rounded_up=df_calls_duration_qty_per_month_with_user_info.duration_rounded_up.fillna(0)\n",
    "df_calls_duration_qty_per_month_with_user_info.info()"
   ]
  },
  {
   "cell_type": "markdown",
   "id": "2f65df00",
   "metadata": {},
   "source": [
    "Подсчитаем, сколько в месяц у пользователя тарифицируется минут и сколько ему это обходится"
   ]
  },
  {
   "cell_type": "code",
   "execution_count": 55,
   "id": "d97fd1a9",
   "metadata": {
    "scrolled": true
   },
   "outputs": [
    {
     "data": {
      "text/html": [
       "<div>\n",
       "<style scoped>\n",
       "    .dataframe tbody tr th:only-of-type {\n",
       "        vertical-align: middle;\n",
       "    }\n",
       "\n",
       "    .dataframe tbody tr th {\n",
       "        vertical-align: top;\n",
       "    }\n",
       "\n",
       "    .dataframe thead th {\n",
       "        text-align: right;\n",
       "    }\n",
       "</style>\n",
       "<table border=\"1\" class=\"dataframe\">\n",
       "  <thead>\n",
       "    <tr style=\"text-align: right;\">\n",
       "      <th></th>\n",
       "      <th>user_id</th>\n",
       "      <th>month</th>\n",
       "      <th>city</th>\n",
       "      <th>tariff</th>\n",
       "      <th>messages_included</th>\n",
       "      <th>mb_per_month_included</th>\n",
       "      <th>minutes_included</th>\n",
       "      <th>rub_monthly_fee</th>\n",
       "      <th>rub_per_gb</th>\n",
       "      <th>rub_per_message</th>\n",
       "      <th>rub_per_minute</th>\n",
       "      <th>duration_rounded_up</th>\n",
       "      <th>diff</th>\n",
       "    </tr>\n",
       "  </thead>\n",
       "  <tbody>\n",
       "    <tr>\n",
       "      <th>0</th>\n",
       "      <td>1000</td>\n",
       "      <td>5</td>\n",
       "      <td>Краснодар</td>\n",
       "      <td>ultra</td>\n",
       "      <td>1000</td>\n",
       "      <td>30720</td>\n",
       "      <td>3000</td>\n",
       "      <td>1950</td>\n",
       "      <td>150</td>\n",
       "      <td>1</td>\n",
       "      <td>1</td>\n",
       "      <td>159.00</td>\n",
       "      <td>-2841.00</td>\n",
       "    </tr>\n",
       "    <tr>\n",
       "      <th>1</th>\n",
       "      <td>1000</td>\n",
       "      <td>6</td>\n",
       "      <td>Краснодар</td>\n",
       "      <td>ultra</td>\n",
       "      <td>1000</td>\n",
       "      <td>30720</td>\n",
       "      <td>3000</td>\n",
       "      <td>1950</td>\n",
       "      <td>150</td>\n",
       "      <td>1</td>\n",
       "      <td>1</td>\n",
       "      <td>172.00</td>\n",
       "      <td>-2828.00</td>\n",
       "    </tr>\n",
       "    <tr>\n",
       "      <th>2</th>\n",
       "      <td>1000</td>\n",
       "      <td>7</td>\n",
       "      <td>Краснодар</td>\n",
       "      <td>ultra</td>\n",
       "      <td>1000</td>\n",
       "      <td>30720</td>\n",
       "      <td>3000</td>\n",
       "      <td>1950</td>\n",
       "      <td>150</td>\n",
       "      <td>1</td>\n",
       "      <td>1</td>\n",
       "      <td>340.00</td>\n",
       "      <td>-2660.00</td>\n",
       "    </tr>\n",
       "    <tr>\n",
       "      <th>3</th>\n",
       "      <td>1000</td>\n",
       "      <td>8</td>\n",
       "      <td>Краснодар</td>\n",
       "      <td>ultra</td>\n",
       "      <td>1000</td>\n",
       "      <td>30720</td>\n",
       "      <td>3000</td>\n",
       "      <td>1950</td>\n",
       "      <td>150</td>\n",
       "      <td>1</td>\n",
       "      <td>1</td>\n",
       "      <td>408.00</td>\n",
       "      <td>-2592.00</td>\n",
       "    </tr>\n",
       "    <tr>\n",
       "      <th>4</th>\n",
       "      <td>1000</td>\n",
       "      <td>9</td>\n",
       "      <td>Краснодар</td>\n",
       "      <td>ultra</td>\n",
       "      <td>1000</td>\n",
       "      <td>30720</td>\n",
       "      <td>3000</td>\n",
       "      <td>1950</td>\n",
       "      <td>150</td>\n",
       "      <td>1</td>\n",
       "      <td>1</td>\n",
       "      <td>466.00</td>\n",
       "      <td>-2534.00</td>\n",
       "    </tr>\n",
       "  </tbody>\n",
       "</table>\n",
       "</div>"
      ],
      "text/plain": [
       "   user_id  month       city tariff  messages_included  mb_per_month_included  \\\n",
       "0     1000      5  Краснодар  ultra               1000                  30720   \n",
       "1     1000      6  Краснодар  ultra               1000                  30720   \n",
       "2     1000      7  Краснодар  ultra               1000                  30720   \n",
       "3     1000      8  Краснодар  ultra               1000                  30720   \n",
       "4     1000      9  Краснодар  ultra               1000                  30720   \n",
       "\n",
       "   minutes_included  rub_monthly_fee  rub_per_gb  rub_per_message  \\\n",
       "0              3000             1950         150                1   \n",
       "1              3000             1950         150                1   \n",
       "2              3000             1950         150                1   \n",
       "3              3000             1950         150                1   \n",
       "4              3000             1950         150                1   \n",
       "\n",
       "   rub_per_minute  duration_rounded_up     diff  \n",
       "0               1               159.00 -2841.00  \n",
       "1               1               172.00 -2828.00  \n",
       "2               1               340.00 -2660.00  \n",
       "3               1               408.00 -2592.00  \n",
       "4               1               466.00 -2534.00  "
      ]
     },
     "execution_count": 55,
     "metadata": {},
     "output_type": "execute_result"
    }
   ],
   "source": [
    "df_calls_duration_qty_per_month_with_user_info['diff'] = df_calls_duration_qty_per_month_with_user_info['duration_rounded_up'] - df_calls_duration_qty_per_month_with_user_info['minutes_included']\n",
    "df_calls_duration_qty_per_month_with_user_info.head()"
   ]
  },
  {
   "cell_type": "code",
   "execution_count": 56,
   "id": "c18d9601",
   "metadata": {},
   "outputs": [],
   "source": [
    "def function (a): \n",
    "    if a < 0: \n",
    "        return 0\n",
    "    else: \n",
    "        return a"
   ]
  },
  {
   "cell_type": "code",
   "execution_count": 57,
   "id": "52bb8fc4",
   "metadata": {
    "scrolled": true
   },
   "outputs": [
    {
     "data": {
      "text/html": [
       "<div>\n",
       "<style scoped>\n",
       "    .dataframe tbody tr th:only-of-type {\n",
       "        vertical-align: middle;\n",
       "    }\n",
       "\n",
       "    .dataframe tbody tr th {\n",
       "        vertical-align: top;\n",
       "    }\n",
       "\n",
       "    .dataframe thead th {\n",
       "        text-align: right;\n",
       "    }\n",
       "</style>\n",
       "<table border=\"1\" class=\"dataframe\">\n",
       "  <thead>\n",
       "    <tr style=\"text-align: right;\">\n",
       "      <th></th>\n",
       "      <th>user_id</th>\n",
       "      <th>month</th>\n",
       "      <th>city</th>\n",
       "      <th>tariff</th>\n",
       "      <th>messages_included</th>\n",
       "      <th>mb_per_month_included</th>\n",
       "      <th>minutes_included</th>\n",
       "      <th>rub_monthly_fee</th>\n",
       "      <th>rub_per_gb</th>\n",
       "      <th>rub_per_message</th>\n",
       "      <th>rub_per_minute</th>\n",
       "      <th>duration_rounded_up</th>\n",
       "      <th>diff</th>\n",
       "      <th>minutes_to_pay</th>\n",
       "    </tr>\n",
       "  </thead>\n",
       "  <tbody>\n",
       "    <tr>\n",
       "      <th>0</th>\n",
       "      <td>1000</td>\n",
       "      <td>5</td>\n",
       "      <td>Краснодар</td>\n",
       "      <td>ultra</td>\n",
       "      <td>1000</td>\n",
       "      <td>30720</td>\n",
       "      <td>3000</td>\n",
       "      <td>1950</td>\n",
       "      <td>150</td>\n",
       "      <td>1</td>\n",
       "      <td>1</td>\n",
       "      <td>159.00</td>\n",
       "      <td>-2841.00</td>\n",
       "      <td>0.00</td>\n",
       "    </tr>\n",
       "    <tr>\n",
       "      <th>1</th>\n",
       "      <td>1000</td>\n",
       "      <td>6</td>\n",
       "      <td>Краснодар</td>\n",
       "      <td>ultra</td>\n",
       "      <td>1000</td>\n",
       "      <td>30720</td>\n",
       "      <td>3000</td>\n",
       "      <td>1950</td>\n",
       "      <td>150</td>\n",
       "      <td>1</td>\n",
       "      <td>1</td>\n",
       "      <td>172.00</td>\n",
       "      <td>-2828.00</td>\n",
       "      <td>0.00</td>\n",
       "    </tr>\n",
       "    <tr>\n",
       "      <th>2</th>\n",
       "      <td>1000</td>\n",
       "      <td>7</td>\n",
       "      <td>Краснодар</td>\n",
       "      <td>ultra</td>\n",
       "      <td>1000</td>\n",
       "      <td>30720</td>\n",
       "      <td>3000</td>\n",
       "      <td>1950</td>\n",
       "      <td>150</td>\n",
       "      <td>1</td>\n",
       "      <td>1</td>\n",
       "      <td>340.00</td>\n",
       "      <td>-2660.00</td>\n",
       "      <td>0.00</td>\n",
       "    </tr>\n",
       "    <tr>\n",
       "      <th>3</th>\n",
       "      <td>1000</td>\n",
       "      <td>8</td>\n",
       "      <td>Краснодар</td>\n",
       "      <td>ultra</td>\n",
       "      <td>1000</td>\n",
       "      <td>30720</td>\n",
       "      <td>3000</td>\n",
       "      <td>1950</td>\n",
       "      <td>150</td>\n",
       "      <td>1</td>\n",
       "      <td>1</td>\n",
       "      <td>408.00</td>\n",
       "      <td>-2592.00</td>\n",
       "      <td>0.00</td>\n",
       "    </tr>\n",
       "    <tr>\n",
       "      <th>4</th>\n",
       "      <td>1000</td>\n",
       "      <td>9</td>\n",
       "      <td>Краснодар</td>\n",
       "      <td>ultra</td>\n",
       "      <td>1000</td>\n",
       "      <td>30720</td>\n",
       "      <td>3000</td>\n",
       "      <td>1950</td>\n",
       "      <td>150</td>\n",
       "      <td>1</td>\n",
       "      <td>1</td>\n",
       "      <td>466.00</td>\n",
       "      <td>-2534.00</td>\n",
       "      <td>0.00</td>\n",
       "    </tr>\n",
       "  </tbody>\n",
       "</table>\n",
       "</div>"
      ],
      "text/plain": [
       "   user_id  month       city tariff  messages_included  mb_per_month_included  \\\n",
       "0     1000      5  Краснодар  ultra               1000                  30720   \n",
       "1     1000      6  Краснодар  ultra               1000                  30720   \n",
       "2     1000      7  Краснодар  ultra               1000                  30720   \n",
       "3     1000      8  Краснодар  ultra               1000                  30720   \n",
       "4     1000      9  Краснодар  ultra               1000                  30720   \n",
       "\n",
       "   minutes_included  rub_monthly_fee  rub_per_gb  rub_per_message  \\\n",
       "0              3000             1950         150                1   \n",
       "1              3000             1950         150                1   \n",
       "2              3000             1950         150                1   \n",
       "3              3000             1950         150                1   \n",
       "4              3000             1950         150                1   \n",
       "\n",
       "   rub_per_minute  duration_rounded_up     diff  minutes_to_pay  \n",
       "0               1               159.00 -2841.00            0.00  \n",
       "1               1               172.00 -2828.00            0.00  \n",
       "2               1               340.00 -2660.00            0.00  \n",
       "3               1               408.00 -2592.00            0.00  \n",
       "4               1               466.00 -2534.00            0.00  "
      ]
     },
     "execution_count": 57,
     "metadata": {},
     "output_type": "execute_result"
    }
   ],
   "source": [
    "df_calls_duration_qty_per_month_with_user_info['minutes_to_pay']=df_calls_duration_qty_per_month_with_user_info['diff'].apply(function)\n",
    "df_calls_duration_qty_per_month_with_user_info.head()"
   ]
  },
  {
   "cell_type": "code",
   "execution_count": 58,
   "id": "bc6d6139",
   "metadata": {},
   "outputs": [
    {
     "name": "stdout",
     "output_type": "stream",
     "text": [
      "<class 'pandas.core.frame.DataFrame'>\n",
      "Int64Index: 3216 entries, 0 to 3215\n",
      "Data columns (total 14 columns):\n",
      " #   Column                 Non-Null Count  Dtype  \n",
      "---  ------                 --------------  -----  \n",
      " 0   user_id                3216 non-null   int64  \n",
      " 1   month                  3216 non-null   int64  \n",
      " 2   city                   3216 non-null   object \n",
      " 3   tariff                 3216 non-null   object \n",
      " 4   messages_included      3216 non-null   int64  \n",
      " 5   mb_per_month_included  3216 non-null   int64  \n",
      " 6   minutes_included       3216 non-null   int64  \n",
      " 7   rub_monthly_fee        3216 non-null   int64  \n",
      " 8   rub_per_gb             3216 non-null   int64  \n",
      " 9   rub_per_message        3216 non-null   int64  \n",
      " 10  rub_per_minute         3216 non-null   int64  \n",
      " 11  duration_rounded_up    3216 non-null   float64\n",
      " 12  diff                   3216 non-null   float64\n",
      " 13  minutes_to_pay         3216 non-null   float64\n",
      "dtypes: float64(3), int64(9), object(2)\n",
      "memory usage: 376.9+ KB\n"
     ]
    }
   ],
   "source": [
    "df_calls_duration_qty_per_month_with_user_info.info()"
   ]
  },
  {
   "cell_type": "markdown",
   "id": "c864aae1",
   "metadata": {},
   "source": [
    "Добавим столбец, содержащий информацию о том, сколько пользователь должен доплатить за использованную связь сверх пакета минут. "
   ]
  },
  {
   "cell_type": "code",
   "execution_count": 59,
   "id": "917fb052",
   "metadata": {},
   "outputs": [
    {
     "data": {
      "text/html": [
       "<div>\n",
       "<style scoped>\n",
       "    .dataframe tbody tr th:only-of-type {\n",
       "        vertical-align: middle;\n",
       "    }\n",
       "\n",
       "    .dataframe tbody tr th {\n",
       "        vertical-align: top;\n",
       "    }\n",
       "\n",
       "    .dataframe thead th {\n",
       "        text-align: right;\n",
       "    }\n",
       "</style>\n",
       "<table border=\"1\" class=\"dataframe\">\n",
       "  <thead>\n",
       "    <tr style=\"text-align: right;\">\n",
       "      <th></th>\n",
       "      <th>user_id</th>\n",
       "      <th>month</th>\n",
       "      <th>city</th>\n",
       "      <th>tariff</th>\n",
       "      <th>messages_included</th>\n",
       "      <th>mb_per_month_included</th>\n",
       "      <th>minutes_included</th>\n",
       "      <th>rub_monthly_fee</th>\n",
       "      <th>rub_per_gb</th>\n",
       "      <th>rub_per_message</th>\n",
       "      <th>rub_per_minute</th>\n",
       "      <th>duration_rounded_up</th>\n",
       "      <th>diff</th>\n",
       "      <th>minutes_to_pay</th>\n",
       "      <th>pay_for_call_extra</th>\n",
       "    </tr>\n",
       "  </thead>\n",
       "  <tbody>\n",
       "    <tr>\n",
       "      <th>0</th>\n",
       "      <td>1000</td>\n",
       "      <td>5</td>\n",
       "      <td>Краснодар</td>\n",
       "      <td>ultra</td>\n",
       "      <td>1000</td>\n",
       "      <td>30720</td>\n",
       "      <td>3000</td>\n",
       "      <td>1950</td>\n",
       "      <td>150</td>\n",
       "      <td>1</td>\n",
       "      <td>1</td>\n",
       "      <td>159.00</td>\n",
       "      <td>-2841.00</td>\n",
       "      <td>0.00</td>\n",
       "      <td>0.00</td>\n",
       "    </tr>\n",
       "    <tr>\n",
       "      <th>1</th>\n",
       "      <td>1000</td>\n",
       "      <td>6</td>\n",
       "      <td>Краснодар</td>\n",
       "      <td>ultra</td>\n",
       "      <td>1000</td>\n",
       "      <td>30720</td>\n",
       "      <td>3000</td>\n",
       "      <td>1950</td>\n",
       "      <td>150</td>\n",
       "      <td>1</td>\n",
       "      <td>1</td>\n",
       "      <td>172.00</td>\n",
       "      <td>-2828.00</td>\n",
       "      <td>0.00</td>\n",
       "      <td>0.00</td>\n",
       "    </tr>\n",
       "    <tr>\n",
       "      <th>2</th>\n",
       "      <td>1000</td>\n",
       "      <td>7</td>\n",
       "      <td>Краснодар</td>\n",
       "      <td>ultra</td>\n",
       "      <td>1000</td>\n",
       "      <td>30720</td>\n",
       "      <td>3000</td>\n",
       "      <td>1950</td>\n",
       "      <td>150</td>\n",
       "      <td>1</td>\n",
       "      <td>1</td>\n",
       "      <td>340.00</td>\n",
       "      <td>-2660.00</td>\n",
       "      <td>0.00</td>\n",
       "      <td>0.00</td>\n",
       "    </tr>\n",
       "    <tr>\n",
       "      <th>3</th>\n",
       "      <td>1000</td>\n",
       "      <td>8</td>\n",
       "      <td>Краснодар</td>\n",
       "      <td>ultra</td>\n",
       "      <td>1000</td>\n",
       "      <td>30720</td>\n",
       "      <td>3000</td>\n",
       "      <td>1950</td>\n",
       "      <td>150</td>\n",
       "      <td>1</td>\n",
       "      <td>1</td>\n",
       "      <td>408.00</td>\n",
       "      <td>-2592.00</td>\n",
       "      <td>0.00</td>\n",
       "      <td>0.00</td>\n",
       "    </tr>\n",
       "    <tr>\n",
       "      <th>4</th>\n",
       "      <td>1000</td>\n",
       "      <td>9</td>\n",
       "      <td>Краснодар</td>\n",
       "      <td>ultra</td>\n",
       "      <td>1000</td>\n",
       "      <td>30720</td>\n",
       "      <td>3000</td>\n",
       "      <td>1950</td>\n",
       "      <td>150</td>\n",
       "      <td>1</td>\n",
       "      <td>1</td>\n",
       "      <td>466.00</td>\n",
       "      <td>-2534.00</td>\n",
       "      <td>0.00</td>\n",
       "      <td>0.00</td>\n",
       "    </tr>\n",
       "  </tbody>\n",
       "</table>\n",
       "</div>"
      ],
      "text/plain": [
       "   user_id  month       city tariff  messages_included  mb_per_month_included  \\\n",
       "0     1000      5  Краснодар  ultra               1000                  30720   \n",
       "1     1000      6  Краснодар  ultra               1000                  30720   \n",
       "2     1000      7  Краснодар  ultra               1000                  30720   \n",
       "3     1000      8  Краснодар  ultra               1000                  30720   \n",
       "4     1000      9  Краснодар  ultra               1000                  30720   \n",
       "\n",
       "   minutes_included  rub_monthly_fee  rub_per_gb  rub_per_message  \\\n",
       "0              3000             1950         150                1   \n",
       "1              3000             1950         150                1   \n",
       "2              3000             1950         150                1   \n",
       "3              3000             1950         150                1   \n",
       "4              3000             1950         150                1   \n",
       "\n",
       "   rub_per_minute  duration_rounded_up     diff  minutes_to_pay  \\\n",
       "0               1               159.00 -2841.00            0.00   \n",
       "1               1               172.00 -2828.00            0.00   \n",
       "2               1               340.00 -2660.00            0.00   \n",
       "3               1               408.00 -2592.00            0.00   \n",
       "4               1               466.00 -2534.00            0.00   \n",
       "\n",
       "   pay_for_call_extra  \n",
       "0                0.00  \n",
       "1                0.00  \n",
       "2                0.00  \n",
       "3                0.00  \n",
       "4                0.00  "
      ]
     },
     "execution_count": 59,
     "metadata": {},
     "output_type": "execute_result"
    }
   ],
   "source": [
    "df_calls_duration_qty_per_month_with_user_info['pay_for_call_extra']=df_calls_duration_qty_per_month_with_user_info['minutes_to_pay']*df_calls_duration_qty_per_month_with_user_info['rub_per_minute']\n",
    "df_calls_duration_qty_per_month_with_user_info.head()"
   ]
  },
  {
   "cell_type": "code",
   "execution_count": 60,
   "id": "f6b908fe",
   "metadata": {},
   "outputs": [
    {
     "data": {
      "text/html": [
       "<div>\n",
       "<style scoped>\n",
       "    .dataframe tbody tr th:only-of-type {\n",
       "        vertical-align: middle;\n",
       "    }\n",
       "\n",
       "    .dataframe tbody tr th {\n",
       "        vertical-align: top;\n",
       "    }\n",
       "\n",
       "    .dataframe thead th {\n",
       "        text-align: right;\n",
       "    }\n",
       "</style>\n",
       "<table border=\"1\" class=\"dataframe\">\n",
       "  <thead>\n",
       "    <tr style=\"text-align: right;\">\n",
       "      <th></th>\n",
       "      <th>tariff</th>\n",
       "      <th>month</th>\n",
       "      <th>mean</th>\n",
       "      <th>sum</th>\n",
       "    </tr>\n",
       "  </thead>\n",
       "  <tbody>\n",
       "    <tr>\n",
       "      <th>0</th>\n",
       "      <td>smart</td>\n",
       "      <td>1</td>\n",
       "      <td>4.50</td>\n",
       "      <td>153.00</td>\n",
       "    </tr>\n",
       "    <tr>\n",
       "      <th>1</th>\n",
       "      <td>smart</td>\n",
       "      <td>2</td>\n",
       "      <td>44.48</td>\n",
       "      <td>2580.00</td>\n",
       "    </tr>\n",
       "    <tr>\n",
       "      <th>2</th>\n",
       "      <td>smart</td>\n",
       "      <td>3</td>\n",
       "      <td>103.48</td>\n",
       "      <td>7968.00</td>\n",
       "    </tr>\n",
       "    <tr>\n",
       "      <th>3</th>\n",
       "      <td>smart</td>\n",
       "      <td>4</td>\n",
       "      <td>80.65</td>\n",
       "      <td>9033.00</td>\n",
       "    </tr>\n",
       "    <tr>\n",
       "      <th>4</th>\n",
       "      <td>smart</td>\n",
       "      <td>5</td>\n",
       "      <td>82.53</td>\n",
       "      <td>11637.00</td>\n",
       "    </tr>\n",
       "    <tr>\n",
       "      <th>5</th>\n",
       "      <td>smart</td>\n",
       "      <td>6</td>\n",
       "      <td>88.23</td>\n",
       "      <td>14469.00</td>\n",
       "    </tr>\n",
       "    <tr>\n",
       "      <th>6</th>\n",
       "      <td>smart</td>\n",
       "      <td>7</td>\n",
       "      <td>103.36</td>\n",
       "      <td>20775.00</td>\n",
       "    </tr>\n",
       "    <tr>\n",
       "      <th>7</th>\n",
       "      <td>smart</td>\n",
       "      <td>8</td>\n",
       "      <td>122.04</td>\n",
       "      <td>28680.00</td>\n",
       "    </tr>\n",
       "    <tr>\n",
       "      <th>8</th>\n",
       "      <td>smart</td>\n",
       "      <td>9</td>\n",
       "      <td>129.05</td>\n",
       "      <td>33552.00</td>\n",
       "    </tr>\n",
       "    <tr>\n",
       "      <th>9</th>\n",
       "      <td>smart</td>\n",
       "      <td>10</td>\n",
       "      <td>132.93</td>\n",
       "      <td>39081.00</td>\n",
       "    </tr>\n",
       "    <tr>\n",
       "      <th>10</th>\n",
       "      <td>smart</td>\n",
       "      <td>11</td>\n",
       "      <td>131.54</td>\n",
       "      <td>41568.00</td>\n",
       "    </tr>\n",
       "    <tr>\n",
       "      <th>11</th>\n",
       "      <td>smart</td>\n",
       "      <td>12</td>\n",
       "      <td>203.32</td>\n",
       "      <td>68721.00</td>\n",
       "    </tr>\n",
       "    <tr>\n",
       "      <th>12</th>\n",
       "      <td>ultra</td>\n",
       "      <td>1</td>\n",
       "      <td>0.00</td>\n",
       "      <td>0.00</td>\n",
       "    </tr>\n",
       "    <tr>\n",
       "      <th>13</th>\n",
       "      <td>ultra</td>\n",
       "      <td>2</td>\n",
       "      <td>0.00</td>\n",
       "      <td>0.00</td>\n",
       "    </tr>\n",
       "    <tr>\n",
       "      <th>14</th>\n",
       "      <td>ultra</td>\n",
       "      <td>3</td>\n",
       "      <td>0.00</td>\n",
       "      <td>0.00</td>\n",
       "    </tr>\n",
       "    <tr>\n",
       "      <th>15</th>\n",
       "      <td>ultra</td>\n",
       "      <td>4</td>\n",
       "      <td>0.00</td>\n",
       "      <td>0.00</td>\n",
       "    </tr>\n",
       "    <tr>\n",
       "      <th>16</th>\n",
       "      <td>ultra</td>\n",
       "      <td>5</td>\n",
       "      <td>0.00</td>\n",
       "      <td>0.00</td>\n",
       "    </tr>\n",
       "    <tr>\n",
       "      <th>17</th>\n",
       "      <td>ultra</td>\n",
       "      <td>6</td>\n",
       "      <td>0.00</td>\n",
       "      <td>0.00</td>\n",
       "    </tr>\n",
       "    <tr>\n",
       "      <th>18</th>\n",
       "      <td>ultra</td>\n",
       "      <td>7</td>\n",
       "      <td>0.00</td>\n",
       "      <td>0.00</td>\n",
       "    </tr>\n",
       "    <tr>\n",
       "      <th>19</th>\n",
       "      <td>ultra</td>\n",
       "      <td>8</td>\n",
       "      <td>0.00</td>\n",
       "      <td>0.00</td>\n",
       "    </tr>\n",
       "    <tr>\n",
       "      <th>20</th>\n",
       "      <td>ultra</td>\n",
       "      <td>9</td>\n",
       "      <td>0.00</td>\n",
       "      <td>0.00</td>\n",
       "    </tr>\n",
       "    <tr>\n",
       "      <th>21</th>\n",
       "      <td>ultra</td>\n",
       "      <td>10</td>\n",
       "      <td>0.00</td>\n",
       "      <td>0.00</td>\n",
       "    </tr>\n",
       "    <tr>\n",
       "      <th>22</th>\n",
       "      <td>ultra</td>\n",
       "      <td>11</td>\n",
       "      <td>0.00</td>\n",
       "      <td>0.00</td>\n",
       "    </tr>\n",
       "    <tr>\n",
       "      <th>23</th>\n",
       "      <td>ultra</td>\n",
       "      <td>12</td>\n",
       "      <td>0.00</td>\n",
       "      <td>0.00</td>\n",
       "    </tr>\n",
       "  </tbody>\n",
       "</table>\n",
       "</div>"
      ],
      "text/plain": [
       "   tariff  month   mean      sum\n",
       "0   smart      1   4.50   153.00\n",
       "1   smart      2  44.48  2580.00\n",
       "2   smart      3 103.48  7968.00\n",
       "3   smart      4  80.65  9033.00\n",
       "4   smart      5  82.53 11637.00\n",
       "5   smart      6  88.23 14469.00\n",
       "6   smart      7 103.36 20775.00\n",
       "7   smart      8 122.04 28680.00\n",
       "8   smart      9 129.05 33552.00\n",
       "9   smart     10 132.93 39081.00\n",
       "10  smart     11 131.54 41568.00\n",
       "11  smart     12 203.32 68721.00\n",
       "12  ultra      1   0.00     0.00\n",
       "13  ultra      2   0.00     0.00\n",
       "14  ultra      3   0.00     0.00\n",
       "15  ultra      4   0.00     0.00\n",
       "16  ultra      5   0.00     0.00\n",
       "17  ultra      6   0.00     0.00\n",
       "18  ultra      7   0.00     0.00\n",
       "19  ultra      8   0.00     0.00\n",
       "20  ultra      9   0.00     0.00\n",
       "21  ultra     10   0.00     0.00\n",
       "22  ultra     11   0.00     0.00\n",
       "23  ultra     12   0.00     0.00"
      ]
     },
     "execution_count": 60,
     "metadata": {},
     "output_type": "execute_result"
    }
   ],
   "source": [
    "df_calls_duration_qty_per_month_with_user_info.pivot_table(index=['tariff', 'month'], values='pay_for_call_extra', aggfunc=('mean', 'sum')).reset_index().head(24)"
   ]
  },
  {
   "cell_type": "markdown",
   "id": "58632865",
   "metadata": {},
   "source": [
    "Согласно данным из сводной таблицы пользователи тарифа ultra вообще не доплачивают за используемые сверх пакета минуты, т.к. они не используют полностью минуты, включенные в пакет, в отличие от пользователей тарифа smart. "
   ]
  },
  {
   "cell_type": "markdown",
   "id": "09308310",
   "metadata": {},
   "source": [
    "#### Количество отправленных сообщений по месяцам"
   ]
  },
  {
   "cell_type": "code",
   "execution_count": 61,
   "id": "3ad2bfda",
   "metadata": {},
   "outputs": [
    {
     "data": {
      "text/html": [
       "<div>\n",
       "<style scoped>\n",
       "    .dataframe tbody tr th:only-of-type {\n",
       "        vertical-align: middle;\n",
       "    }\n",
       "\n",
       "    .dataframe tbody tr th {\n",
       "        vertical-align: top;\n",
       "    }\n",
       "\n",
       "    .dataframe thead tr th {\n",
       "        text-align: left;\n",
       "    }\n",
       "</style>\n",
       "<table border=\"1\" class=\"dataframe\">\n",
       "  <thead>\n",
       "    <tr>\n",
       "      <th></th>\n",
       "      <th>user_id</th>\n",
       "      <th>messages_month</th>\n",
       "      <th>id</th>\n",
       "    </tr>\n",
       "    <tr>\n",
       "      <th></th>\n",
       "      <th></th>\n",
       "      <th></th>\n",
       "      <th>count</th>\n",
       "    </tr>\n",
       "  </thead>\n",
       "  <tbody>\n",
       "    <tr>\n",
       "      <th>0</th>\n",
       "      <td>1000</td>\n",
       "      <td>5</td>\n",
       "      <td>22</td>\n",
       "    </tr>\n",
       "    <tr>\n",
       "      <th>1</th>\n",
       "      <td>1000</td>\n",
       "      <td>6</td>\n",
       "      <td>60</td>\n",
       "    </tr>\n",
       "    <tr>\n",
       "      <th>2</th>\n",
       "      <td>1000</td>\n",
       "      <td>7</td>\n",
       "      <td>75</td>\n",
       "    </tr>\n",
       "    <tr>\n",
       "      <th>3</th>\n",
       "      <td>1000</td>\n",
       "      <td>8</td>\n",
       "      <td>81</td>\n",
       "    </tr>\n",
       "    <tr>\n",
       "      <th>4</th>\n",
       "      <td>1000</td>\n",
       "      <td>9</td>\n",
       "      <td>57</td>\n",
       "    </tr>\n",
       "  </tbody>\n",
       "</table>\n",
       "</div>"
      ],
      "text/plain": [
       "  user_id messages_month    id\n",
       "                         count\n",
       "0    1000              5    22\n",
       "1    1000              6    60\n",
       "2    1000              7    75\n",
       "3    1000              8    81\n",
       "4    1000              9    57"
      ]
     },
     "execution_count": 61,
     "metadata": {},
     "output_type": "execute_result"
    }
   ],
   "source": [
    "df_messages_qty_per_month=df_messages.groupby(['user_id','messages_month'], as_index=False).agg({'id':['count']})\n",
    "df_messages_qty_per_month.head()"
   ]
  },
  {
   "cell_type": "code",
   "execution_count": 62,
   "id": "b000842b",
   "metadata": {},
   "outputs": [
    {
     "data": {
      "text/html": [
       "<div>\n",
       "<style scoped>\n",
       "    .dataframe tbody tr th:only-of-type {\n",
       "        vertical-align: middle;\n",
       "    }\n",
       "\n",
       "    .dataframe tbody tr th {\n",
       "        vertical-align: top;\n",
       "    }\n",
       "\n",
       "    .dataframe thead th {\n",
       "        text-align: right;\n",
       "    }\n",
       "</style>\n",
       "<table border=\"1\" class=\"dataframe\">\n",
       "  <thead>\n",
       "    <tr style=\"text-align: right;\">\n",
       "      <th></th>\n",
       "      <th>user_id</th>\n",
       "      <th>month</th>\n",
       "      <th>messages_qty</th>\n",
       "    </tr>\n",
       "  </thead>\n",
       "  <tbody>\n",
       "    <tr>\n",
       "      <th>0</th>\n",
       "      <td>1000</td>\n",
       "      <td>5</td>\n",
       "      <td>22</td>\n",
       "    </tr>\n",
       "    <tr>\n",
       "      <th>1</th>\n",
       "      <td>1000</td>\n",
       "      <td>6</td>\n",
       "      <td>60</td>\n",
       "    </tr>\n",
       "    <tr>\n",
       "      <th>2</th>\n",
       "      <td>1000</td>\n",
       "      <td>7</td>\n",
       "      <td>75</td>\n",
       "    </tr>\n",
       "    <tr>\n",
       "      <th>3</th>\n",
       "      <td>1000</td>\n",
       "      <td>8</td>\n",
       "      <td>81</td>\n",
       "    </tr>\n",
       "    <tr>\n",
       "      <th>4</th>\n",
       "      <td>1000</td>\n",
       "      <td>9</td>\n",
       "      <td>57</td>\n",
       "    </tr>\n",
       "  </tbody>\n",
       "</table>\n",
       "</div>"
      ],
      "text/plain": [
       "   user_id  month  messages_qty\n",
       "0     1000      5            22\n",
       "1     1000      6            60\n",
       "2     1000      7            75\n",
       "3     1000      8            81\n",
       "4     1000      9            57"
      ]
     },
     "execution_count": 62,
     "metadata": {},
     "output_type": "execute_result"
    }
   ],
   "source": [
    "new_cols=['user_id', 'month', 'messages_qty']\n",
    "df_messages_qty_per_month.columns=new_cols\n",
    "df_messages_qty_per_month.head()"
   ]
  },
  {
   "cell_type": "code",
   "execution_count": 63,
   "id": "cf7a1848",
   "metadata": {
    "scrolled": true
   },
   "outputs": [
    {
     "data": {
      "text/html": [
       "<div>\n",
       "<style scoped>\n",
       "    .dataframe tbody tr th:only-of-type {\n",
       "        vertical-align: middle;\n",
       "    }\n",
       "\n",
       "    .dataframe tbody tr th {\n",
       "        vertical-align: top;\n",
       "    }\n",
       "\n",
       "    .dataframe thead th {\n",
       "        text-align: right;\n",
       "    }\n",
       "</style>\n",
       "<table border=\"1\" class=\"dataframe\">\n",
       "  <thead>\n",
       "    <tr style=\"text-align: right;\">\n",
       "      <th></th>\n",
       "      <th>user_id</th>\n",
       "      <th>month</th>\n",
       "      <th>city</th>\n",
       "      <th>tariff</th>\n",
       "      <th>messages_included</th>\n",
       "      <th>mb_per_month_included</th>\n",
       "      <th>minutes_included</th>\n",
       "      <th>rub_monthly_fee</th>\n",
       "      <th>rub_per_gb</th>\n",
       "      <th>rub_per_message</th>\n",
       "      <th>rub_per_minute</th>\n",
       "      <th>duration_rounded_up</th>\n",
       "      <th>diff</th>\n",
       "      <th>minutes_to_pay</th>\n",
       "      <th>pay_for_call_extra</th>\n",
       "      <th>messages_qty</th>\n",
       "    </tr>\n",
       "  </thead>\n",
       "  <tbody>\n",
       "    <tr>\n",
       "      <th>0</th>\n",
       "      <td>1000</td>\n",
       "      <td>5</td>\n",
       "      <td>Краснодар</td>\n",
       "      <td>ultra</td>\n",
       "      <td>1000</td>\n",
       "      <td>30720</td>\n",
       "      <td>3000</td>\n",
       "      <td>1950</td>\n",
       "      <td>150</td>\n",
       "      <td>1</td>\n",
       "      <td>1</td>\n",
       "      <td>159.00</td>\n",
       "      <td>-2841.00</td>\n",
       "      <td>0.00</td>\n",
       "      <td>0.00</td>\n",
       "      <td>22.00</td>\n",
       "    </tr>\n",
       "    <tr>\n",
       "      <th>1</th>\n",
       "      <td>1000</td>\n",
       "      <td>6</td>\n",
       "      <td>Краснодар</td>\n",
       "      <td>ultra</td>\n",
       "      <td>1000</td>\n",
       "      <td>30720</td>\n",
       "      <td>3000</td>\n",
       "      <td>1950</td>\n",
       "      <td>150</td>\n",
       "      <td>1</td>\n",
       "      <td>1</td>\n",
       "      <td>172.00</td>\n",
       "      <td>-2828.00</td>\n",
       "      <td>0.00</td>\n",
       "      <td>0.00</td>\n",
       "      <td>60.00</td>\n",
       "    </tr>\n",
       "    <tr>\n",
       "      <th>2</th>\n",
       "      <td>1000</td>\n",
       "      <td>7</td>\n",
       "      <td>Краснодар</td>\n",
       "      <td>ultra</td>\n",
       "      <td>1000</td>\n",
       "      <td>30720</td>\n",
       "      <td>3000</td>\n",
       "      <td>1950</td>\n",
       "      <td>150</td>\n",
       "      <td>1</td>\n",
       "      <td>1</td>\n",
       "      <td>340.00</td>\n",
       "      <td>-2660.00</td>\n",
       "      <td>0.00</td>\n",
       "      <td>0.00</td>\n",
       "      <td>75.00</td>\n",
       "    </tr>\n",
       "    <tr>\n",
       "      <th>3</th>\n",
       "      <td>1000</td>\n",
       "      <td>8</td>\n",
       "      <td>Краснодар</td>\n",
       "      <td>ultra</td>\n",
       "      <td>1000</td>\n",
       "      <td>30720</td>\n",
       "      <td>3000</td>\n",
       "      <td>1950</td>\n",
       "      <td>150</td>\n",
       "      <td>1</td>\n",
       "      <td>1</td>\n",
       "      <td>408.00</td>\n",
       "      <td>-2592.00</td>\n",
       "      <td>0.00</td>\n",
       "      <td>0.00</td>\n",
       "      <td>81.00</td>\n",
       "    </tr>\n",
       "    <tr>\n",
       "      <th>4</th>\n",
       "      <td>1000</td>\n",
       "      <td>9</td>\n",
       "      <td>Краснодар</td>\n",
       "      <td>ultra</td>\n",
       "      <td>1000</td>\n",
       "      <td>30720</td>\n",
       "      <td>3000</td>\n",
       "      <td>1950</td>\n",
       "      <td>150</td>\n",
       "      <td>1</td>\n",
       "      <td>1</td>\n",
       "      <td>466.00</td>\n",
       "      <td>-2534.00</td>\n",
       "      <td>0.00</td>\n",
       "      <td>0.00</td>\n",
       "      <td>57.00</td>\n",
       "    </tr>\n",
       "    <tr>\n",
       "      <th>...</th>\n",
       "      <td>...</td>\n",
       "      <td>...</td>\n",
       "      <td>...</td>\n",
       "      <td>...</td>\n",
       "      <td>...</td>\n",
       "      <td>...</td>\n",
       "      <td>...</td>\n",
       "      <td>...</td>\n",
       "      <td>...</td>\n",
       "      <td>...</td>\n",
       "      <td>...</td>\n",
       "      <td>...</td>\n",
       "      <td>...</td>\n",
       "      <td>...</td>\n",
       "      <td>...</td>\n",
       "      <td>...</td>\n",
       "    </tr>\n",
       "    <tr>\n",
       "      <th>3211</th>\n",
       "      <td>1498</td>\n",
       "      <td>10</td>\n",
       "      <td>Владикавказ</td>\n",
       "      <td>smart</td>\n",
       "      <td>50</td>\n",
       "      <td>15360</td>\n",
       "      <td>500</td>\n",
       "      <td>550</td>\n",
       "      <td>200</td>\n",
       "      <td>3</td>\n",
       "      <td>3</td>\n",
       "      <td>247.00</td>\n",
       "      <td>-253.00</td>\n",
       "      <td>0.00</td>\n",
       "      <td>0.00</td>\n",
       "      <td>42.00</td>\n",
       "    </tr>\n",
       "    <tr>\n",
       "      <th>3212</th>\n",
       "      <td>1499</td>\n",
       "      <td>9</td>\n",
       "      <td>Пермь</td>\n",
       "      <td>smart</td>\n",
       "      <td>50</td>\n",
       "      <td>15360</td>\n",
       "      <td>500</td>\n",
       "      <td>550</td>\n",
       "      <td>200</td>\n",
       "      <td>3</td>\n",
       "      <td>3</td>\n",
       "      <td>70.00</td>\n",
       "      <td>-430.00</td>\n",
       "      <td>0.00</td>\n",
       "      <td>0.00</td>\n",
       "      <td>11.00</td>\n",
       "    </tr>\n",
       "    <tr>\n",
       "      <th>3213</th>\n",
       "      <td>1499</td>\n",
       "      <td>10</td>\n",
       "      <td>Пермь</td>\n",
       "      <td>smart</td>\n",
       "      <td>50</td>\n",
       "      <td>15360</td>\n",
       "      <td>500</td>\n",
       "      <td>550</td>\n",
       "      <td>200</td>\n",
       "      <td>3</td>\n",
       "      <td>3</td>\n",
       "      <td>449.00</td>\n",
       "      <td>-51.00</td>\n",
       "      <td>0.00</td>\n",
       "      <td>0.00</td>\n",
       "      <td>48.00</td>\n",
       "    </tr>\n",
       "    <tr>\n",
       "      <th>3214</th>\n",
       "      <td>1499</td>\n",
       "      <td>11</td>\n",
       "      <td>Пермь</td>\n",
       "      <td>smart</td>\n",
       "      <td>50</td>\n",
       "      <td>15360</td>\n",
       "      <td>500</td>\n",
       "      <td>550</td>\n",
       "      <td>200</td>\n",
       "      <td>3</td>\n",
       "      <td>3</td>\n",
       "      <td>612.00</td>\n",
       "      <td>112.00</td>\n",
       "      <td>112.00</td>\n",
       "      <td>336.00</td>\n",
       "      <td>59.00</td>\n",
       "    </tr>\n",
       "    <tr>\n",
       "      <th>3215</th>\n",
       "      <td>1499</td>\n",
       "      <td>12</td>\n",
       "      <td>Пермь</td>\n",
       "      <td>smart</td>\n",
       "      <td>50</td>\n",
       "      <td>15360</td>\n",
       "      <td>500</td>\n",
       "      <td>550</td>\n",
       "      <td>200</td>\n",
       "      <td>3</td>\n",
       "      <td>3</td>\n",
       "      <td>492.00</td>\n",
       "      <td>-8.00</td>\n",
       "      <td>0.00</td>\n",
       "      <td>0.00</td>\n",
       "      <td>66.00</td>\n",
       "    </tr>\n",
       "  </tbody>\n",
       "</table>\n",
       "<p>3216 rows × 16 columns</p>\n",
       "</div>"
      ],
      "text/plain": [
       "      user_id  month         city tariff  messages_included  \\\n",
       "0        1000      5    Краснодар  ultra               1000   \n",
       "1        1000      6    Краснодар  ultra               1000   \n",
       "2        1000      7    Краснодар  ultra               1000   \n",
       "3        1000      8    Краснодар  ultra               1000   \n",
       "4        1000      9    Краснодар  ultra               1000   \n",
       "...       ...    ...          ...    ...                ...   \n",
       "3211     1498     10  Владикавказ  smart                 50   \n",
       "3212     1499      9        Пермь  smart                 50   \n",
       "3213     1499     10        Пермь  smart                 50   \n",
       "3214     1499     11        Пермь  smart                 50   \n",
       "3215     1499     12        Пермь  smart                 50   \n",
       "\n",
       "      mb_per_month_included  minutes_included  rub_monthly_fee  rub_per_gb  \\\n",
       "0                     30720              3000             1950         150   \n",
       "1                     30720              3000             1950         150   \n",
       "2                     30720              3000             1950         150   \n",
       "3                     30720              3000             1950         150   \n",
       "4                     30720              3000             1950         150   \n",
       "...                     ...               ...              ...         ...   \n",
       "3211                  15360               500              550         200   \n",
       "3212                  15360               500              550         200   \n",
       "3213                  15360               500              550         200   \n",
       "3214                  15360               500              550         200   \n",
       "3215                  15360               500              550         200   \n",
       "\n",
       "      rub_per_message  rub_per_minute  duration_rounded_up     diff  \\\n",
       "0                   1               1               159.00 -2841.00   \n",
       "1                   1               1               172.00 -2828.00   \n",
       "2                   1               1               340.00 -2660.00   \n",
       "3                   1               1               408.00 -2592.00   \n",
       "4                   1               1               466.00 -2534.00   \n",
       "...               ...             ...                  ...      ...   \n",
       "3211                3               3               247.00  -253.00   \n",
       "3212                3               3                70.00  -430.00   \n",
       "3213                3               3               449.00   -51.00   \n",
       "3214                3               3               612.00   112.00   \n",
       "3215                3               3               492.00    -8.00   \n",
       "\n",
       "      minutes_to_pay  pay_for_call_extra  messages_qty  \n",
       "0               0.00                0.00         22.00  \n",
       "1               0.00                0.00         60.00  \n",
       "2               0.00                0.00         75.00  \n",
       "3               0.00                0.00         81.00  \n",
       "4               0.00                0.00         57.00  \n",
       "...              ...                 ...           ...  \n",
       "3211            0.00                0.00         42.00  \n",
       "3212            0.00                0.00         11.00  \n",
       "3213            0.00                0.00         48.00  \n",
       "3214          112.00              336.00         59.00  \n",
       "3215            0.00                0.00         66.00  \n",
       "\n",
       "[3216 rows x 16 columns]"
      ]
     },
     "execution_count": 63,
     "metadata": {},
     "output_type": "execute_result"
    }
   ],
   "source": [
    "df_messages_qty_per_month_with_user_info=df_calls_duration_qty_per_month_with_user_info.merge(df_messages_qty_per_month, on=['user_id', 'month'], how='left')\n",
    "df_messages_qty_per_month_with_user_info"
   ]
  },
  {
   "cell_type": "code",
   "execution_count": 64,
   "id": "f633abab",
   "metadata": {},
   "outputs": [
    {
     "name": "stdout",
     "output_type": "stream",
     "text": [
      "<class 'pandas.core.frame.DataFrame'>\n",
      "Int64Index: 3216 entries, 0 to 3215\n",
      "Data columns (total 16 columns):\n",
      " #   Column                 Non-Null Count  Dtype  \n",
      "---  ------                 --------------  -----  \n",
      " 0   user_id                3216 non-null   int64  \n",
      " 1   month                  3216 non-null   int64  \n",
      " 2   city                   3216 non-null   object \n",
      " 3   tariff                 3216 non-null   object \n",
      " 4   messages_included      3216 non-null   int64  \n",
      " 5   mb_per_month_included  3216 non-null   int64  \n",
      " 6   minutes_included       3216 non-null   int64  \n",
      " 7   rub_monthly_fee        3216 non-null   int64  \n",
      " 8   rub_per_gb             3216 non-null   int64  \n",
      " 9   rub_per_message        3216 non-null   int64  \n",
      " 10  rub_per_minute         3216 non-null   int64  \n",
      " 11  duration_rounded_up    3216 non-null   float64\n",
      " 12  diff                   3216 non-null   float64\n",
      " 13  minutes_to_pay         3216 non-null   float64\n",
      " 14  pay_for_call_extra     3216 non-null   float64\n",
      " 15  messages_qty           3216 non-null   float64\n",
      "dtypes: float64(5), int64(9), object(2)\n",
      "memory usage: 427.1+ KB\n"
     ]
    }
   ],
   "source": [
    "df_messages_qty_per_month_with_user_info.messages_qty = df_messages_qty_per_month_with_user_info.messages_qty.fillna(0)\n",
    "df_messages_qty_per_month_with_user_info.info()"
   ]
  },
  {
   "cell_type": "markdown",
   "id": "8ff22550",
   "metadata": {},
   "source": [
    "Определим, сколько сообщений сверх включенного в тариф лимита пользователи отправляют и сколько за них доплачивают. "
   ]
  },
  {
   "cell_type": "code",
   "execution_count": 65,
   "id": "8695da7a",
   "metadata": {},
   "outputs": [
    {
     "data": {
      "text/html": [
       "<div>\n",
       "<style scoped>\n",
       "    .dataframe tbody tr th:only-of-type {\n",
       "        vertical-align: middle;\n",
       "    }\n",
       "\n",
       "    .dataframe tbody tr th {\n",
       "        vertical-align: top;\n",
       "    }\n",
       "\n",
       "    .dataframe thead th {\n",
       "        text-align: right;\n",
       "    }\n",
       "</style>\n",
       "<table border=\"1\" class=\"dataframe\">\n",
       "  <thead>\n",
       "    <tr style=\"text-align: right;\">\n",
       "      <th></th>\n",
       "      <th>user_id</th>\n",
       "      <th>month</th>\n",
       "      <th>city</th>\n",
       "      <th>tariff</th>\n",
       "      <th>messages_included</th>\n",
       "      <th>mb_per_month_included</th>\n",
       "      <th>minutes_included</th>\n",
       "      <th>rub_monthly_fee</th>\n",
       "      <th>rub_per_gb</th>\n",
       "      <th>rub_per_message</th>\n",
       "      <th>rub_per_minute</th>\n",
       "      <th>duration_rounded_up</th>\n",
       "      <th>diff</th>\n",
       "      <th>minutes_to_pay</th>\n",
       "      <th>pay_for_call_extra</th>\n",
       "      <th>messages_qty</th>\n",
       "      <th>messages_extra</th>\n",
       "    </tr>\n",
       "  </thead>\n",
       "  <tbody>\n",
       "    <tr>\n",
       "      <th>0</th>\n",
       "      <td>1000</td>\n",
       "      <td>5</td>\n",
       "      <td>Краснодар</td>\n",
       "      <td>ultra</td>\n",
       "      <td>1000</td>\n",
       "      <td>30720</td>\n",
       "      <td>3000</td>\n",
       "      <td>1950</td>\n",
       "      <td>150</td>\n",
       "      <td>1</td>\n",
       "      <td>1</td>\n",
       "      <td>159.00</td>\n",
       "      <td>-2841.00</td>\n",
       "      <td>0.00</td>\n",
       "      <td>0.00</td>\n",
       "      <td>22.00</td>\n",
       "      <td>-978.00</td>\n",
       "    </tr>\n",
       "    <tr>\n",
       "      <th>1</th>\n",
       "      <td>1000</td>\n",
       "      <td>6</td>\n",
       "      <td>Краснодар</td>\n",
       "      <td>ultra</td>\n",
       "      <td>1000</td>\n",
       "      <td>30720</td>\n",
       "      <td>3000</td>\n",
       "      <td>1950</td>\n",
       "      <td>150</td>\n",
       "      <td>1</td>\n",
       "      <td>1</td>\n",
       "      <td>172.00</td>\n",
       "      <td>-2828.00</td>\n",
       "      <td>0.00</td>\n",
       "      <td>0.00</td>\n",
       "      <td>60.00</td>\n",
       "      <td>-940.00</td>\n",
       "    </tr>\n",
       "    <tr>\n",
       "      <th>2</th>\n",
       "      <td>1000</td>\n",
       "      <td>7</td>\n",
       "      <td>Краснодар</td>\n",
       "      <td>ultra</td>\n",
       "      <td>1000</td>\n",
       "      <td>30720</td>\n",
       "      <td>3000</td>\n",
       "      <td>1950</td>\n",
       "      <td>150</td>\n",
       "      <td>1</td>\n",
       "      <td>1</td>\n",
       "      <td>340.00</td>\n",
       "      <td>-2660.00</td>\n",
       "      <td>0.00</td>\n",
       "      <td>0.00</td>\n",
       "      <td>75.00</td>\n",
       "      <td>-925.00</td>\n",
       "    </tr>\n",
       "    <tr>\n",
       "      <th>3</th>\n",
       "      <td>1000</td>\n",
       "      <td>8</td>\n",
       "      <td>Краснодар</td>\n",
       "      <td>ultra</td>\n",
       "      <td>1000</td>\n",
       "      <td>30720</td>\n",
       "      <td>3000</td>\n",
       "      <td>1950</td>\n",
       "      <td>150</td>\n",
       "      <td>1</td>\n",
       "      <td>1</td>\n",
       "      <td>408.00</td>\n",
       "      <td>-2592.00</td>\n",
       "      <td>0.00</td>\n",
       "      <td>0.00</td>\n",
       "      <td>81.00</td>\n",
       "      <td>-919.00</td>\n",
       "    </tr>\n",
       "    <tr>\n",
       "      <th>4</th>\n",
       "      <td>1000</td>\n",
       "      <td>9</td>\n",
       "      <td>Краснодар</td>\n",
       "      <td>ultra</td>\n",
       "      <td>1000</td>\n",
       "      <td>30720</td>\n",
       "      <td>3000</td>\n",
       "      <td>1950</td>\n",
       "      <td>150</td>\n",
       "      <td>1</td>\n",
       "      <td>1</td>\n",
       "      <td>466.00</td>\n",
       "      <td>-2534.00</td>\n",
       "      <td>0.00</td>\n",
       "      <td>0.00</td>\n",
       "      <td>57.00</td>\n",
       "      <td>-943.00</td>\n",
       "    </tr>\n",
       "  </tbody>\n",
       "</table>\n",
       "</div>"
      ],
      "text/plain": [
       "   user_id  month       city tariff  messages_included  mb_per_month_included  \\\n",
       "0     1000      5  Краснодар  ultra               1000                  30720   \n",
       "1     1000      6  Краснодар  ultra               1000                  30720   \n",
       "2     1000      7  Краснодар  ultra               1000                  30720   \n",
       "3     1000      8  Краснодар  ultra               1000                  30720   \n",
       "4     1000      9  Краснодар  ultra               1000                  30720   \n",
       "\n",
       "   minutes_included  rub_monthly_fee  rub_per_gb  rub_per_message  \\\n",
       "0              3000             1950         150                1   \n",
       "1              3000             1950         150                1   \n",
       "2              3000             1950         150                1   \n",
       "3              3000             1950         150                1   \n",
       "4              3000             1950         150                1   \n",
       "\n",
       "   rub_per_minute  duration_rounded_up     diff  minutes_to_pay  \\\n",
       "0               1               159.00 -2841.00            0.00   \n",
       "1               1               172.00 -2828.00            0.00   \n",
       "2               1               340.00 -2660.00            0.00   \n",
       "3               1               408.00 -2592.00            0.00   \n",
       "4               1               466.00 -2534.00            0.00   \n",
       "\n",
       "   pay_for_call_extra  messages_qty  messages_extra  \n",
       "0                0.00         22.00         -978.00  \n",
       "1                0.00         60.00         -940.00  \n",
       "2                0.00         75.00         -925.00  \n",
       "3                0.00         81.00         -919.00  \n",
       "4                0.00         57.00         -943.00  "
      ]
     },
     "execution_count": 65,
     "metadata": {},
     "output_type": "execute_result"
    }
   ],
   "source": [
    "df_messages_qty_per_month_with_user_info['messages_extra']=df_messages_qty_per_month_with_user_info['messages_qty']-df_messages_qty_per_month_with_user_info['messages_included']\n",
    "df_messages_qty_per_month_with_user_info.head()"
   ]
  },
  {
   "cell_type": "code",
   "execution_count": 66,
   "id": "c9226c11",
   "metadata": {},
   "outputs": [
    {
     "data": {
      "text/html": [
       "<div>\n",
       "<style scoped>\n",
       "    .dataframe tbody tr th:only-of-type {\n",
       "        vertical-align: middle;\n",
       "    }\n",
       "\n",
       "    .dataframe tbody tr th {\n",
       "        vertical-align: top;\n",
       "    }\n",
       "\n",
       "    .dataframe thead th {\n",
       "        text-align: right;\n",
       "    }\n",
       "</style>\n",
       "<table border=\"1\" class=\"dataframe\">\n",
       "  <thead>\n",
       "    <tr style=\"text-align: right;\">\n",
       "      <th></th>\n",
       "      <th>user_id</th>\n",
       "      <th>month</th>\n",
       "      <th>city</th>\n",
       "      <th>tariff</th>\n",
       "      <th>messages_included</th>\n",
       "      <th>mb_per_month_included</th>\n",
       "      <th>minutes_included</th>\n",
       "      <th>rub_monthly_fee</th>\n",
       "      <th>rub_per_gb</th>\n",
       "      <th>rub_per_message</th>\n",
       "      <th>rub_per_minute</th>\n",
       "      <th>duration_rounded_up</th>\n",
       "      <th>diff</th>\n",
       "      <th>minutes_to_pay</th>\n",
       "      <th>pay_for_call_extra</th>\n",
       "      <th>messages_qty</th>\n",
       "      <th>messages_extra</th>\n",
       "      <th>messages_to_pay</th>\n",
       "    </tr>\n",
       "  </thead>\n",
       "  <tbody>\n",
       "    <tr>\n",
       "      <th>0</th>\n",
       "      <td>1000</td>\n",
       "      <td>5</td>\n",
       "      <td>Краснодар</td>\n",
       "      <td>ultra</td>\n",
       "      <td>1000</td>\n",
       "      <td>30720</td>\n",
       "      <td>3000</td>\n",
       "      <td>1950</td>\n",
       "      <td>150</td>\n",
       "      <td>1</td>\n",
       "      <td>1</td>\n",
       "      <td>159.00</td>\n",
       "      <td>-2841.00</td>\n",
       "      <td>0.00</td>\n",
       "      <td>0.00</td>\n",
       "      <td>22.00</td>\n",
       "      <td>-978.00</td>\n",
       "      <td>0.00</td>\n",
       "    </tr>\n",
       "    <tr>\n",
       "      <th>1</th>\n",
       "      <td>1000</td>\n",
       "      <td>6</td>\n",
       "      <td>Краснодар</td>\n",
       "      <td>ultra</td>\n",
       "      <td>1000</td>\n",
       "      <td>30720</td>\n",
       "      <td>3000</td>\n",
       "      <td>1950</td>\n",
       "      <td>150</td>\n",
       "      <td>1</td>\n",
       "      <td>1</td>\n",
       "      <td>172.00</td>\n",
       "      <td>-2828.00</td>\n",
       "      <td>0.00</td>\n",
       "      <td>0.00</td>\n",
       "      <td>60.00</td>\n",
       "      <td>-940.00</td>\n",
       "      <td>0.00</td>\n",
       "    </tr>\n",
       "    <tr>\n",
       "      <th>2</th>\n",
       "      <td>1000</td>\n",
       "      <td>7</td>\n",
       "      <td>Краснодар</td>\n",
       "      <td>ultra</td>\n",
       "      <td>1000</td>\n",
       "      <td>30720</td>\n",
       "      <td>3000</td>\n",
       "      <td>1950</td>\n",
       "      <td>150</td>\n",
       "      <td>1</td>\n",
       "      <td>1</td>\n",
       "      <td>340.00</td>\n",
       "      <td>-2660.00</td>\n",
       "      <td>0.00</td>\n",
       "      <td>0.00</td>\n",
       "      <td>75.00</td>\n",
       "      <td>-925.00</td>\n",
       "      <td>0.00</td>\n",
       "    </tr>\n",
       "    <tr>\n",
       "      <th>3</th>\n",
       "      <td>1000</td>\n",
       "      <td>8</td>\n",
       "      <td>Краснодар</td>\n",
       "      <td>ultra</td>\n",
       "      <td>1000</td>\n",
       "      <td>30720</td>\n",
       "      <td>3000</td>\n",
       "      <td>1950</td>\n",
       "      <td>150</td>\n",
       "      <td>1</td>\n",
       "      <td>1</td>\n",
       "      <td>408.00</td>\n",
       "      <td>-2592.00</td>\n",
       "      <td>0.00</td>\n",
       "      <td>0.00</td>\n",
       "      <td>81.00</td>\n",
       "      <td>-919.00</td>\n",
       "      <td>0.00</td>\n",
       "    </tr>\n",
       "    <tr>\n",
       "      <th>4</th>\n",
       "      <td>1000</td>\n",
       "      <td>9</td>\n",
       "      <td>Краснодар</td>\n",
       "      <td>ultra</td>\n",
       "      <td>1000</td>\n",
       "      <td>30720</td>\n",
       "      <td>3000</td>\n",
       "      <td>1950</td>\n",
       "      <td>150</td>\n",
       "      <td>1</td>\n",
       "      <td>1</td>\n",
       "      <td>466.00</td>\n",
       "      <td>-2534.00</td>\n",
       "      <td>0.00</td>\n",
       "      <td>0.00</td>\n",
       "      <td>57.00</td>\n",
       "      <td>-943.00</td>\n",
       "      <td>0.00</td>\n",
       "    </tr>\n",
       "  </tbody>\n",
       "</table>\n",
       "</div>"
      ],
      "text/plain": [
       "   user_id  month       city tariff  messages_included  mb_per_month_included  \\\n",
       "0     1000      5  Краснодар  ultra               1000                  30720   \n",
       "1     1000      6  Краснодар  ultra               1000                  30720   \n",
       "2     1000      7  Краснодар  ultra               1000                  30720   \n",
       "3     1000      8  Краснодар  ultra               1000                  30720   \n",
       "4     1000      9  Краснодар  ultra               1000                  30720   \n",
       "\n",
       "   minutes_included  rub_monthly_fee  rub_per_gb  rub_per_message  \\\n",
       "0              3000             1950         150                1   \n",
       "1              3000             1950         150                1   \n",
       "2              3000             1950         150                1   \n",
       "3              3000             1950         150                1   \n",
       "4              3000             1950         150                1   \n",
       "\n",
       "   rub_per_minute  duration_rounded_up     diff  minutes_to_pay  \\\n",
       "0               1               159.00 -2841.00            0.00   \n",
       "1               1               172.00 -2828.00            0.00   \n",
       "2               1               340.00 -2660.00            0.00   \n",
       "3               1               408.00 -2592.00            0.00   \n",
       "4               1               466.00 -2534.00            0.00   \n",
       "\n",
       "   pay_for_call_extra  messages_qty  messages_extra  messages_to_pay  \n",
       "0                0.00         22.00         -978.00             0.00  \n",
       "1                0.00         60.00         -940.00             0.00  \n",
       "2                0.00         75.00         -925.00             0.00  \n",
       "3                0.00         81.00         -919.00             0.00  \n",
       "4                0.00         57.00         -943.00             0.00  "
      ]
     },
     "execution_count": 66,
     "metadata": {},
     "output_type": "execute_result"
    }
   ],
   "source": [
    "df_messages_qty_per_month_with_user_info['messages_to_pay']=df_messages_qty_per_month_with_user_info['messages_extra'].apply(function)\n",
    "df_messages_qty_per_month_with_user_info.head()"
   ]
  },
  {
   "cell_type": "code",
   "execution_count": 67,
   "id": "9147e752",
   "metadata": {},
   "outputs": [
    {
     "data": {
      "text/html": [
       "<div>\n",
       "<style scoped>\n",
       "    .dataframe tbody tr th:only-of-type {\n",
       "        vertical-align: middle;\n",
       "    }\n",
       "\n",
       "    .dataframe tbody tr th {\n",
       "        vertical-align: top;\n",
       "    }\n",
       "\n",
       "    .dataframe thead th {\n",
       "        text-align: right;\n",
       "    }\n",
       "</style>\n",
       "<table border=\"1\" class=\"dataframe\">\n",
       "  <thead>\n",
       "    <tr style=\"text-align: right;\">\n",
       "      <th></th>\n",
       "      <th>user_id</th>\n",
       "      <th>month</th>\n",
       "      <th>city</th>\n",
       "      <th>tariff</th>\n",
       "      <th>messages_included</th>\n",
       "      <th>mb_per_month_included</th>\n",
       "      <th>minutes_included</th>\n",
       "      <th>rub_monthly_fee</th>\n",
       "      <th>rub_per_gb</th>\n",
       "      <th>rub_per_message</th>\n",
       "      <th>rub_per_minute</th>\n",
       "      <th>duration_rounded_up</th>\n",
       "      <th>diff</th>\n",
       "      <th>minutes_to_pay</th>\n",
       "      <th>pay_for_call_extra</th>\n",
       "      <th>messages_qty</th>\n",
       "      <th>messages_extra</th>\n",
       "      <th>messages_to_pay</th>\n",
       "      <th>pmnt_for_extra_messages</th>\n",
       "    </tr>\n",
       "  </thead>\n",
       "  <tbody>\n",
       "    <tr>\n",
       "      <th>0</th>\n",
       "      <td>1000</td>\n",
       "      <td>5</td>\n",
       "      <td>Краснодар</td>\n",
       "      <td>ultra</td>\n",
       "      <td>1000</td>\n",
       "      <td>30720</td>\n",
       "      <td>3000</td>\n",
       "      <td>1950</td>\n",
       "      <td>150</td>\n",
       "      <td>1</td>\n",
       "      <td>1</td>\n",
       "      <td>159.00</td>\n",
       "      <td>-2841.00</td>\n",
       "      <td>0.00</td>\n",
       "      <td>0.00</td>\n",
       "      <td>22.00</td>\n",
       "      <td>-978.00</td>\n",
       "      <td>0.00</td>\n",
       "      <td>0.00</td>\n",
       "    </tr>\n",
       "    <tr>\n",
       "      <th>1</th>\n",
       "      <td>1000</td>\n",
       "      <td>6</td>\n",
       "      <td>Краснодар</td>\n",
       "      <td>ultra</td>\n",
       "      <td>1000</td>\n",
       "      <td>30720</td>\n",
       "      <td>3000</td>\n",
       "      <td>1950</td>\n",
       "      <td>150</td>\n",
       "      <td>1</td>\n",
       "      <td>1</td>\n",
       "      <td>172.00</td>\n",
       "      <td>-2828.00</td>\n",
       "      <td>0.00</td>\n",
       "      <td>0.00</td>\n",
       "      <td>60.00</td>\n",
       "      <td>-940.00</td>\n",
       "      <td>0.00</td>\n",
       "      <td>0.00</td>\n",
       "    </tr>\n",
       "    <tr>\n",
       "      <th>2</th>\n",
       "      <td>1000</td>\n",
       "      <td>7</td>\n",
       "      <td>Краснодар</td>\n",
       "      <td>ultra</td>\n",
       "      <td>1000</td>\n",
       "      <td>30720</td>\n",
       "      <td>3000</td>\n",
       "      <td>1950</td>\n",
       "      <td>150</td>\n",
       "      <td>1</td>\n",
       "      <td>1</td>\n",
       "      <td>340.00</td>\n",
       "      <td>-2660.00</td>\n",
       "      <td>0.00</td>\n",
       "      <td>0.00</td>\n",
       "      <td>75.00</td>\n",
       "      <td>-925.00</td>\n",
       "      <td>0.00</td>\n",
       "      <td>0.00</td>\n",
       "    </tr>\n",
       "    <tr>\n",
       "      <th>3</th>\n",
       "      <td>1000</td>\n",
       "      <td>8</td>\n",
       "      <td>Краснодар</td>\n",
       "      <td>ultra</td>\n",
       "      <td>1000</td>\n",
       "      <td>30720</td>\n",
       "      <td>3000</td>\n",
       "      <td>1950</td>\n",
       "      <td>150</td>\n",
       "      <td>1</td>\n",
       "      <td>1</td>\n",
       "      <td>408.00</td>\n",
       "      <td>-2592.00</td>\n",
       "      <td>0.00</td>\n",
       "      <td>0.00</td>\n",
       "      <td>81.00</td>\n",
       "      <td>-919.00</td>\n",
       "      <td>0.00</td>\n",
       "      <td>0.00</td>\n",
       "    </tr>\n",
       "    <tr>\n",
       "      <th>4</th>\n",
       "      <td>1000</td>\n",
       "      <td>9</td>\n",
       "      <td>Краснодар</td>\n",
       "      <td>ultra</td>\n",
       "      <td>1000</td>\n",
       "      <td>30720</td>\n",
       "      <td>3000</td>\n",
       "      <td>1950</td>\n",
       "      <td>150</td>\n",
       "      <td>1</td>\n",
       "      <td>1</td>\n",
       "      <td>466.00</td>\n",
       "      <td>-2534.00</td>\n",
       "      <td>0.00</td>\n",
       "      <td>0.00</td>\n",
       "      <td>57.00</td>\n",
       "      <td>-943.00</td>\n",
       "      <td>0.00</td>\n",
       "      <td>0.00</td>\n",
       "    </tr>\n",
       "  </tbody>\n",
       "</table>\n",
       "</div>"
      ],
      "text/plain": [
       "   user_id  month       city tariff  messages_included  mb_per_month_included  \\\n",
       "0     1000      5  Краснодар  ultra               1000                  30720   \n",
       "1     1000      6  Краснодар  ultra               1000                  30720   \n",
       "2     1000      7  Краснодар  ultra               1000                  30720   \n",
       "3     1000      8  Краснодар  ultra               1000                  30720   \n",
       "4     1000      9  Краснодар  ultra               1000                  30720   \n",
       "\n",
       "   minutes_included  rub_monthly_fee  rub_per_gb  rub_per_message  \\\n",
       "0              3000             1950         150                1   \n",
       "1              3000             1950         150                1   \n",
       "2              3000             1950         150                1   \n",
       "3              3000             1950         150                1   \n",
       "4              3000             1950         150                1   \n",
       "\n",
       "   rub_per_minute  duration_rounded_up     diff  minutes_to_pay  \\\n",
       "0               1               159.00 -2841.00            0.00   \n",
       "1               1               172.00 -2828.00            0.00   \n",
       "2               1               340.00 -2660.00            0.00   \n",
       "3               1               408.00 -2592.00            0.00   \n",
       "4               1               466.00 -2534.00            0.00   \n",
       "\n",
       "   pay_for_call_extra  messages_qty  messages_extra  messages_to_pay  \\\n",
       "0                0.00         22.00         -978.00             0.00   \n",
       "1                0.00         60.00         -940.00             0.00   \n",
       "2                0.00         75.00         -925.00             0.00   \n",
       "3                0.00         81.00         -919.00             0.00   \n",
       "4                0.00         57.00         -943.00             0.00   \n",
       "\n",
       "   pmnt_for_extra_messages  \n",
       "0                     0.00  \n",
       "1                     0.00  \n",
       "2                     0.00  \n",
       "3                     0.00  \n",
       "4                     0.00  "
      ]
     },
     "execution_count": 67,
     "metadata": {},
     "output_type": "execute_result"
    }
   ],
   "source": [
    "df_messages_qty_per_month_with_user_info['pmnt_for_extra_messages']=df_messages_qty_per_month_with_user_info['messages_to_pay']*df_messages_qty_per_month_with_user_info['rub_per_message']\n",
    "df_messages_qty_per_month_with_user_info.head()"
   ]
  },
  {
   "cell_type": "code",
   "execution_count": 68,
   "id": "c75edccb",
   "metadata": {},
   "outputs": [
    {
     "data": {
      "text/html": [
       "<div>\n",
       "<style scoped>\n",
       "    .dataframe tbody tr th:only-of-type {\n",
       "        vertical-align: middle;\n",
       "    }\n",
       "\n",
       "    .dataframe tbody tr th {\n",
       "        vertical-align: top;\n",
       "    }\n",
       "\n",
       "    .dataframe thead th {\n",
       "        text-align: right;\n",
       "    }\n",
       "</style>\n",
       "<table border=\"1\" class=\"dataframe\">\n",
       "  <thead>\n",
       "    <tr style=\"text-align: right;\">\n",
       "      <th></th>\n",
       "      <th>tariff</th>\n",
       "      <th>month</th>\n",
       "      <th>mean</th>\n",
       "      <th>sum</th>\n",
       "    </tr>\n",
       "  </thead>\n",
       "  <tbody>\n",
       "    <tr>\n",
       "      <th>0</th>\n",
       "      <td>smart</td>\n",
       "      <td>1</td>\n",
       "      <td>2.12</td>\n",
       "      <td>72.00</td>\n",
       "    </tr>\n",
       "    <tr>\n",
       "      <th>1</th>\n",
       "      <td>smart</td>\n",
       "      <td>2</td>\n",
       "      <td>5.53</td>\n",
       "      <td>321.00</td>\n",
       "    </tr>\n",
       "    <tr>\n",
       "      <th>2</th>\n",
       "      <td>smart</td>\n",
       "      <td>3</td>\n",
       "      <td>15.04</td>\n",
       "      <td>1158.00</td>\n",
       "    </tr>\n",
       "    <tr>\n",
       "      <th>3</th>\n",
       "      <td>smart</td>\n",
       "      <td>4</td>\n",
       "      <td>11.01</td>\n",
       "      <td>1233.00</td>\n",
       "    </tr>\n",
       "    <tr>\n",
       "      <th>4</th>\n",
       "      <td>smart</td>\n",
       "      <td>5</td>\n",
       "      <td>16.04</td>\n",
       "      <td>2262.00</td>\n",
       "    </tr>\n",
       "    <tr>\n",
       "      <th>5</th>\n",
       "      <td>smart</td>\n",
       "      <td>6</td>\n",
       "      <td>17.01</td>\n",
       "      <td>2790.00</td>\n",
       "    </tr>\n",
       "    <tr>\n",
       "      <th>6</th>\n",
       "      <td>smart</td>\n",
       "      <td>7</td>\n",
       "      <td>17.36</td>\n",
       "      <td>3489.00</td>\n",
       "    </tr>\n",
       "    <tr>\n",
       "      <th>7</th>\n",
       "      <td>smart</td>\n",
       "      <td>8</td>\n",
       "      <td>18.77</td>\n",
       "      <td>4410.00</td>\n",
       "    </tr>\n",
       "    <tr>\n",
       "      <th>8</th>\n",
       "      <td>smart</td>\n",
       "      <td>9</td>\n",
       "      <td>17.05</td>\n",
       "      <td>4434.00</td>\n",
       "    </tr>\n",
       "    <tr>\n",
       "      <th>9</th>\n",
       "      <td>smart</td>\n",
       "      <td>10</td>\n",
       "      <td>17.98</td>\n",
       "      <td>5286.00</td>\n",
       "    </tr>\n",
       "    <tr>\n",
       "      <th>10</th>\n",
       "      <td>smart</td>\n",
       "      <td>11</td>\n",
       "      <td>18.47</td>\n",
       "      <td>5835.00</td>\n",
       "    </tr>\n",
       "    <tr>\n",
       "      <th>11</th>\n",
       "      <td>smart</td>\n",
       "      <td>12</td>\n",
       "      <td>22.17</td>\n",
       "      <td>7494.00</td>\n",
       "    </tr>\n",
       "    <tr>\n",
       "      <th>12</th>\n",
       "      <td>ultra</td>\n",
       "      <td>1</td>\n",
       "      <td>0.00</td>\n",
       "      <td>0.00</td>\n",
       "    </tr>\n",
       "    <tr>\n",
       "      <th>13</th>\n",
       "      <td>ultra</td>\n",
       "      <td>2</td>\n",
       "      <td>0.00</td>\n",
       "      <td>0.00</td>\n",
       "    </tr>\n",
       "    <tr>\n",
       "      <th>14</th>\n",
       "      <td>ultra</td>\n",
       "      <td>3</td>\n",
       "      <td>0.00</td>\n",
       "      <td>0.00</td>\n",
       "    </tr>\n",
       "    <tr>\n",
       "      <th>15</th>\n",
       "      <td>ultra</td>\n",
       "      <td>4</td>\n",
       "      <td>0.00</td>\n",
       "      <td>0.00</td>\n",
       "    </tr>\n",
       "    <tr>\n",
       "      <th>16</th>\n",
       "      <td>ultra</td>\n",
       "      <td>5</td>\n",
       "      <td>0.00</td>\n",
       "      <td>0.00</td>\n",
       "    </tr>\n",
       "    <tr>\n",
       "      <th>17</th>\n",
       "      <td>ultra</td>\n",
       "      <td>6</td>\n",
       "      <td>0.00</td>\n",
       "      <td>0.00</td>\n",
       "    </tr>\n",
       "    <tr>\n",
       "      <th>18</th>\n",
       "      <td>ultra</td>\n",
       "      <td>7</td>\n",
       "      <td>0.00</td>\n",
       "      <td>0.00</td>\n",
       "    </tr>\n",
       "    <tr>\n",
       "      <th>19</th>\n",
       "      <td>ultra</td>\n",
       "      <td>8</td>\n",
       "      <td>0.00</td>\n",
       "      <td>0.00</td>\n",
       "    </tr>\n",
       "    <tr>\n",
       "      <th>20</th>\n",
       "      <td>ultra</td>\n",
       "      <td>9</td>\n",
       "      <td>0.00</td>\n",
       "      <td>0.00</td>\n",
       "    </tr>\n",
       "    <tr>\n",
       "      <th>21</th>\n",
       "      <td>ultra</td>\n",
       "      <td>10</td>\n",
       "      <td>0.00</td>\n",
       "      <td>0.00</td>\n",
       "    </tr>\n",
       "    <tr>\n",
       "      <th>22</th>\n",
       "      <td>ultra</td>\n",
       "      <td>11</td>\n",
       "      <td>0.00</td>\n",
       "      <td>0.00</td>\n",
       "    </tr>\n",
       "    <tr>\n",
       "      <th>23</th>\n",
       "      <td>ultra</td>\n",
       "      <td>12</td>\n",
       "      <td>0.00</td>\n",
       "      <td>0.00</td>\n",
       "    </tr>\n",
       "  </tbody>\n",
       "</table>\n",
       "</div>"
      ],
      "text/plain": [
       "   tariff  month  mean     sum\n",
       "0   smart      1  2.12   72.00\n",
       "1   smart      2  5.53  321.00\n",
       "2   smart      3 15.04 1158.00\n",
       "3   smart      4 11.01 1233.00\n",
       "4   smart      5 16.04 2262.00\n",
       "5   smart      6 17.01 2790.00\n",
       "6   smart      7 17.36 3489.00\n",
       "7   smart      8 18.77 4410.00\n",
       "8   smart      9 17.05 4434.00\n",
       "9   smart     10 17.98 5286.00\n",
       "10  smart     11 18.47 5835.00\n",
       "11  smart     12 22.17 7494.00\n",
       "12  ultra      1  0.00    0.00\n",
       "13  ultra      2  0.00    0.00\n",
       "14  ultra      3  0.00    0.00\n",
       "15  ultra      4  0.00    0.00\n",
       "16  ultra      5  0.00    0.00\n",
       "17  ultra      6  0.00    0.00\n",
       "18  ultra      7  0.00    0.00\n",
       "19  ultra      8  0.00    0.00\n",
       "20  ultra      9  0.00    0.00\n",
       "21  ultra     10  0.00    0.00\n",
       "22  ultra     11  0.00    0.00\n",
       "23  ultra     12  0.00    0.00"
      ]
     },
     "execution_count": 68,
     "metadata": {},
     "output_type": "execute_result"
    }
   ],
   "source": [
    "df_messages_qty_per_month_with_user_info.pivot_table(index=['tariff', 'month'], values='pmnt_for_extra_messages', aggfunc=('mean', 'sum')).reset_index().head(24)"
   ]
  },
  {
   "cell_type": "markdown",
   "id": "66893af5",
   "metadata": {},
   "source": [
    "Согласно данным из сводной таблицы пользователи тарифа ultra вообще не доплачивают за используемые сверх пакета sms, т.к. они не используют полностью sms, включенные в пакет, в отличие от пользователей тарифа smart."
   ]
  },
  {
   "cell_type": "markdown",
   "id": "8025cdd7",
   "metadata": {},
   "source": [
    "#### Объем израсходованного интернет-трафика по месяцам"
   ]
  },
  {
   "cell_type": "code",
   "execution_count": 69,
   "id": "67f08322",
   "metadata": {},
   "outputs": [
    {
     "data": {
      "text/html": [
       "<div>\n",
       "<style scoped>\n",
       "    .dataframe tbody tr th:only-of-type {\n",
       "        vertical-align: middle;\n",
       "    }\n",
       "\n",
       "    .dataframe tbody tr th {\n",
       "        vertical-align: top;\n",
       "    }\n",
       "\n",
       "    .dataframe thead tr th {\n",
       "        text-align: left;\n",
       "    }\n",
       "</style>\n",
       "<table border=\"1\" class=\"dataframe\">\n",
       "  <thead>\n",
       "    <tr>\n",
       "      <th></th>\n",
       "      <th>user_id</th>\n",
       "      <th>internet_month</th>\n",
       "      <th>mb_used</th>\n",
       "    </tr>\n",
       "    <tr>\n",
       "      <th></th>\n",
       "      <th></th>\n",
       "      <th></th>\n",
       "      <th>sum</th>\n",
       "    </tr>\n",
       "  </thead>\n",
       "  <tbody>\n",
       "    <tr>\n",
       "      <th>0</th>\n",
       "      <td>1000</td>\n",
       "      <td>5</td>\n",
       "      <td>2253.49</td>\n",
       "    </tr>\n",
       "    <tr>\n",
       "      <th>1</th>\n",
       "      <td>1000</td>\n",
       "      <td>6</td>\n",
       "      <td>23233.77</td>\n",
       "    </tr>\n",
       "    <tr>\n",
       "      <th>2</th>\n",
       "      <td>1000</td>\n",
       "      <td>7</td>\n",
       "      <td>14003.64</td>\n",
       "    </tr>\n",
       "    <tr>\n",
       "      <th>3</th>\n",
       "      <td>1000</td>\n",
       "      <td>8</td>\n",
       "      <td>14055.93</td>\n",
       "    </tr>\n",
       "    <tr>\n",
       "      <th>4</th>\n",
       "      <td>1000</td>\n",
       "      <td>9</td>\n",
       "      <td>14568.91</td>\n",
       "    </tr>\n",
       "  </tbody>\n",
       "</table>\n",
       "</div>"
      ],
      "text/plain": [
       "  user_id internet_month  mb_used\n",
       "                              sum\n",
       "0    1000              5  2253.49\n",
       "1    1000              6 23233.77\n",
       "2    1000              7 14003.64\n",
       "3    1000              8 14055.93\n",
       "4    1000              9 14568.91"
      ]
     },
     "execution_count": 69,
     "metadata": {},
     "output_type": "execute_result"
    }
   ],
   "source": [
    "df_internet_traffic_per_month=df_internet.groupby(['user_id','internet_month']).agg({'mb_used':['sum']}).reset_index()\n",
    "df_internet_traffic_per_month.head()"
   ]
  },
  {
   "cell_type": "markdown",
   "id": "b6dc3a8b",
   "metadata": {},
   "source": [
    "Согласно условиям тарифа, отдельные сессии, как при звонках, не считаются. Вместо этого общая сумма за месяц округляется в бо́льшую сторону. Добавим соответствующий столбец. "
   ]
  },
  {
   "cell_type": "code",
   "execution_count": 70,
   "id": "ecb656c6",
   "metadata": {
    "scrolled": true
   },
   "outputs": [
    {
     "data": {
      "text/html": [
       "<div>\n",
       "<style scoped>\n",
       "    .dataframe tbody tr th:only-of-type {\n",
       "        vertical-align: middle;\n",
       "    }\n",
       "\n",
       "    .dataframe tbody tr th {\n",
       "        vertical-align: top;\n",
       "    }\n",
       "\n",
       "    .dataframe thead tr th {\n",
       "        text-align: left;\n",
       "    }\n",
       "</style>\n",
       "<table border=\"1\" class=\"dataframe\">\n",
       "  <thead>\n",
       "    <tr>\n",
       "      <th></th>\n",
       "      <th>user_id</th>\n",
       "      <th>internet_month</th>\n",
       "      <th>mb_used</th>\n",
       "      <th>gb_used_rounded_up</th>\n",
       "    </tr>\n",
       "    <tr>\n",
       "      <th></th>\n",
       "      <th></th>\n",
       "      <th></th>\n",
       "      <th>sum</th>\n",
       "      <th></th>\n",
       "    </tr>\n",
       "  </thead>\n",
       "  <tbody>\n",
       "    <tr>\n",
       "      <th>0</th>\n",
       "      <td>1000</td>\n",
       "      <td>5</td>\n",
       "      <td>2253.49</td>\n",
       "      <td>3</td>\n",
       "    </tr>\n",
       "    <tr>\n",
       "      <th>1</th>\n",
       "      <td>1000</td>\n",
       "      <td>6</td>\n",
       "      <td>23233.77</td>\n",
       "      <td>24</td>\n",
       "    </tr>\n",
       "    <tr>\n",
       "      <th>2</th>\n",
       "      <td>1000</td>\n",
       "      <td>7</td>\n",
       "      <td>14003.64</td>\n",
       "      <td>15</td>\n",
       "    </tr>\n",
       "    <tr>\n",
       "      <th>3</th>\n",
       "      <td>1000</td>\n",
       "      <td>8</td>\n",
       "      <td>14055.93</td>\n",
       "      <td>15</td>\n",
       "    </tr>\n",
       "    <tr>\n",
       "      <th>4</th>\n",
       "      <td>1000</td>\n",
       "      <td>9</td>\n",
       "      <td>14568.91</td>\n",
       "      <td>15</td>\n",
       "    </tr>\n",
       "  </tbody>\n",
       "</table>\n",
       "</div>"
      ],
      "text/plain": [
       "  user_id internet_month  mb_used gb_used_rounded_up\n",
       "                              sum                   \n",
       "0    1000              5  2253.49                  3\n",
       "1    1000              6 23233.77                 24\n",
       "2    1000              7 14003.64                 15\n",
       "3    1000              8 14055.93                 15\n",
       "4    1000              9 14568.91                 15"
      ]
     },
     "execution_count": 70,
     "metadata": {},
     "output_type": "execute_result"
    }
   ],
   "source": [
    "df_internet_traffic_per_month['gb_used_rounded_up']=((df_internet_traffic_per_month['mb_used']['sum'])/1000).apply(ceil)\n",
    "df_internet_traffic_per_month.head()"
   ]
  },
  {
   "cell_type": "code",
   "execution_count": 71,
   "id": "22434cbe",
   "metadata": {},
   "outputs": [
    {
     "data": {
      "text/html": [
       "<div>\n",
       "<style scoped>\n",
       "    .dataframe tbody tr th:only-of-type {\n",
       "        vertical-align: middle;\n",
       "    }\n",
       "\n",
       "    .dataframe tbody tr th {\n",
       "        vertical-align: top;\n",
       "    }\n",
       "\n",
       "    .dataframe thead th {\n",
       "        text-align: right;\n",
       "    }\n",
       "</style>\n",
       "<table border=\"1\" class=\"dataframe\">\n",
       "  <thead>\n",
       "    <tr style=\"text-align: right;\">\n",
       "      <th></th>\n",
       "      <th>user_id</th>\n",
       "      <th>month</th>\n",
       "      <th>mb_used_sum</th>\n",
       "      <th>gb_used_rounded_up</th>\n",
       "    </tr>\n",
       "  </thead>\n",
       "  <tbody>\n",
       "    <tr>\n",
       "      <th>0</th>\n",
       "      <td>1000</td>\n",
       "      <td>5</td>\n",
       "      <td>2253.49</td>\n",
       "      <td>3</td>\n",
       "    </tr>\n",
       "    <tr>\n",
       "      <th>1</th>\n",
       "      <td>1000</td>\n",
       "      <td>6</td>\n",
       "      <td>23233.77</td>\n",
       "      <td>24</td>\n",
       "    </tr>\n",
       "    <tr>\n",
       "      <th>2</th>\n",
       "      <td>1000</td>\n",
       "      <td>7</td>\n",
       "      <td>14003.64</td>\n",
       "      <td>15</td>\n",
       "    </tr>\n",
       "    <tr>\n",
       "      <th>3</th>\n",
       "      <td>1000</td>\n",
       "      <td>8</td>\n",
       "      <td>14055.93</td>\n",
       "      <td>15</td>\n",
       "    </tr>\n",
       "    <tr>\n",
       "      <th>4</th>\n",
       "      <td>1000</td>\n",
       "      <td>9</td>\n",
       "      <td>14568.91</td>\n",
       "      <td>15</td>\n",
       "    </tr>\n",
       "  </tbody>\n",
       "</table>\n",
       "</div>"
      ],
      "text/plain": [
       "   user_id  month  mb_used_sum  gb_used_rounded_up\n",
       "0     1000      5      2253.49                   3\n",
       "1     1000      6     23233.77                  24\n",
       "2     1000      7     14003.64                  15\n",
       "3     1000      8     14055.93                  15\n",
       "4     1000      9     14568.91                  15"
      ]
     },
     "execution_count": 71,
     "metadata": {},
     "output_type": "execute_result"
    }
   ],
   "source": [
    "new_columns=['user_id', 'month', 'mb_used_sum', 'gb_used_rounded_up']\n",
    "df_internet_traffic_per_month.columns=new_columns\n",
    "df_internet_traffic_per_month.head()"
   ]
  },
  {
   "cell_type": "code",
   "execution_count": 72,
   "id": "3429fdbc",
   "metadata": {},
   "outputs": [
    {
     "data": {
      "text/html": [
       "<div>\n",
       "<style scoped>\n",
       "    .dataframe tbody tr th:only-of-type {\n",
       "        vertical-align: middle;\n",
       "    }\n",
       "\n",
       "    .dataframe tbody tr th {\n",
       "        vertical-align: top;\n",
       "    }\n",
       "\n",
       "    .dataframe thead th {\n",
       "        text-align: right;\n",
       "    }\n",
       "</style>\n",
       "<table border=\"1\" class=\"dataframe\">\n",
       "  <thead>\n",
       "    <tr style=\"text-align: right;\">\n",
       "      <th></th>\n",
       "      <th>user_id</th>\n",
       "      <th>month</th>\n",
       "      <th>city</th>\n",
       "      <th>tariff</th>\n",
       "      <th>messages_included</th>\n",
       "      <th>mb_per_month_included</th>\n",
       "      <th>minutes_included</th>\n",
       "      <th>rub_monthly_fee</th>\n",
       "      <th>rub_per_gb</th>\n",
       "      <th>rub_per_message</th>\n",
       "      <th>rub_per_minute</th>\n",
       "      <th>duration_rounded_up</th>\n",
       "      <th>diff</th>\n",
       "      <th>minutes_to_pay</th>\n",
       "      <th>pay_for_call_extra</th>\n",
       "      <th>messages_qty</th>\n",
       "      <th>messages_extra</th>\n",
       "      <th>messages_to_pay</th>\n",
       "      <th>pmnt_for_extra_messages</th>\n",
       "      <th>mb_used_sum</th>\n",
       "      <th>gb_used_rounded_up</th>\n",
       "    </tr>\n",
       "  </thead>\n",
       "  <tbody>\n",
       "    <tr>\n",
       "      <th>0</th>\n",
       "      <td>1000</td>\n",
       "      <td>5</td>\n",
       "      <td>Краснодар</td>\n",
       "      <td>ultra</td>\n",
       "      <td>1000</td>\n",
       "      <td>30720</td>\n",
       "      <td>3000</td>\n",
       "      <td>1950</td>\n",
       "      <td>150</td>\n",
       "      <td>1</td>\n",
       "      <td>1</td>\n",
       "      <td>159.00</td>\n",
       "      <td>-2841.00</td>\n",
       "      <td>0.00</td>\n",
       "      <td>0.00</td>\n",
       "      <td>22.00</td>\n",
       "      <td>-978.00</td>\n",
       "      <td>0.00</td>\n",
       "      <td>0.00</td>\n",
       "      <td>2253.49</td>\n",
       "      <td>3.00</td>\n",
       "    </tr>\n",
       "    <tr>\n",
       "      <th>1</th>\n",
       "      <td>1000</td>\n",
       "      <td>6</td>\n",
       "      <td>Краснодар</td>\n",
       "      <td>ultra</td>\n",
       "      <td>1000</td>\n",
       "      <td>30720</td>\n",
       "      <td>3000</td>\n",
       "      <td>1950</td>\n",
       "      <td>150</td>\n",
       "      <td>1</td>\n",
       "      <td>1</td>\n",
       "      <td>172.00</td>\n",
       "      <td>-2828.00</td>\n",
       "      <td>0.00</td>\n",
       "      <td>0.00</td>\n",
       "      <td>60.00</td>\n",
       "      <td>-940.00</td>\n",
       "      <td>0.00</td>\n",
       "      <td>0.00</td>\n",
       "      <td>23233.77</td>\n",
       "      <td>24.00</td>\n",
       "    </tr>\n",
       "    <tr>\n",
       "      <th>2</th>\n",
       "      <td>1000</td>\n",
       "      <td>7</td>\n",
       "      <td>Краснодар</td>\n",
       "      <td>ultra</td>\n",
       "      <td>1000</td>\n",
       "      <td>30720</td>\n",
       "      <td>3000</td>\n",
       "      <td>1950</td>\n",
       "      <td>150</td>\n",
       "      <td>1</td>\n",
       "      <td>1</td>\n",
       "      <td>340.00</td>\n",
       "      <td>-2660.00</td>\n",
       "      <td>0.00</td>\n",
       "      <td>0.00</td>\n",
       "      <td>75.00</td>\n",
       "      <td>-925.00</td>\n",
       "      <td>0.00</td>\n",
       "      <td>0.00</td>\n",
       "      <td>14003.64</td>\n",
       "      <td>15.00</td>\n",
       "    </tr>\n",
       "    <tr>\n",
       "      <th>3</th>\n",
       "      <td>1000</td>\n",
       "      <td>8</td>\n",
       "      <td>Краснодар</td>\n",
       "      <td>ultra</td>\n",
       "      <td>1000</td>\n",
       "      <td>30720</td>\n",
       "      <td>3000</td>\n",
       "      <td>1950</td>\n",
       "      <td>150</td>\n",
       "      <td>1</td>\n",
       "      <td>1</td>\n",
       "      <td>408.00</td>\n",
       "      <td>-2592.00</td>\n",
       "      <td>0.00</td>\n",
       "      <td>0.00</td>\n",
       "      <td>81.00</td>\n",
       "      <td>-919.00</td>\n",
       "      <td>0.00</td>\n",
       "      <td>0.00</td>\n",
       "      <td>14055.93</td>\n",
       "      <td>15.00</td>\n",
       "    </tr>\n",
       "    <tr>\n",
       "      <th>4</th>\n",
       "      <td>1000</td>\n",
       "      <td>9</td>\n",
       "      <td>Краснодар</td>\n",
       "      <td>ultra</td>\n",
       "      <td>1000</td>\n",
       "      <td>30720</td>\n",
       "      <td>3000</td>\n",
       "      <td>1950</td>\n",
       "      <td>150</td>\n",
       "      <td>1</td>\n",
       "      <td>1</td>\n",
       "      <td>466.00</td>\n",
       "      <td>-2534.00</td>\n",
       "      <td>0.00</td>\n",
       "      <td>0.00</td>\n",
       "      <td>57.00</td>\n",
       "      <td>-943.00</td>\n",
       "      <td>0.00</td>\n",
       "      <td>0.00</td>\n",
       "      <td>14568.91</td>\n",
       "      <td>15.00</td>\n",
       "    </tr>\n",
       "    <tr>\n",
       "      <th>...</th>\n",
       "      <td>...</td>\n",
       "      <td>...</td>\n",
       "      <td>...</td>\n",
       "      <td>...</td>\n",
       "      <td>...</td>\n",
       "      <td>...</td>\n",
       "      <td>...</td>\n",
       "      <td>...</td>\n",
       "      <td>...</td>\n",
       "      <td>...</td>\n",
       "      <td>...</td>\n",
       "      <td>...</td>\n",
       "      <td>...</td>\n",
       "      <td>...</td>\n",
       "      <td>...</td>\n",
       "      <td>...</td>\n",
       "      <td>...</td>\n",
       "      <td>...</td>\n",
       "      <td>...</td>\n",
       "      <td>...</td>\n",
       "      <td>...</td>\n",
       "    </tr>\n",
       "    <tr>\n",
       "      <th>3211</th>\n",
       "      <td>1498</td>\n",
       "      <td>10</td>\n",
       "      <td>Владикавказ</td>\n",
       "      <td>smart</td>\n",
       "      <td>50</td>\n",
       "      <td>15360</td>\n",
       "      <td>500</td>\n",
       "      <td>550</td>\n",
       "      <td>200</td>\n",
       "      <td>3</td>\n",
       "      <td>3</td>\n",
       "      <td>247.00</td>\n",
       "      <td>-253.00</td>\n",
       "      <td>0.00</td>\n",
       "      <td>0.00</td>\n",
       "      <td>42.00</td>\n",
       "      <td>-8.00</td>\n",
       "      <td>0.00</td>\n",
       "      <td>0.00</td>\n",
       "      <td>20579.36</td>\n",
       "      <td>21.00</td>\n",
       "    </tr>\n",
       "    <tr>\n",
       "      <th>3212</th>\n",
       "      <td>1499</td>\n",
       "      <td>9</td>\n",
       "      <td>Пермь</td>\n",
       "      <td>smart</td>\n",
       "      <td>50</td>\n",
       "      <td>15360</td>\n",
       "      <td>500</td>\n",
       "      <td>550</td>\n",
       "      <td>200</td>\n",
       "      <td>3</td>\n",
       "      <td>3</td>\n",
       "      <td>70.00</td>\n",
       "      <td>-430.00</td>\n",
       "      <td>0.00</td>\n",
       "      <td>0.00</td>\n",
       "      <td>11.00</td>\n",
       "      <td>-39.00</td>\n",
       "      <td>0.00</td>\n",
       "      <td>0.00</td>\n",
       "      <td>1845.75</td>\n",
       "      <td>2.00</td>\n",
       "    </tr>\n",
       "    <tr>\n",
       "      <th>3213</th>\n",
       "      <td>1499</td>\n",
       "      <td>10</td>\n",
       "      <td>Пермь</td>\n",
       "      <td>smart</td>\n",
       "      <td>50</td>\n",
       "      <td>15360</td>\n",
       "      <td>500</td>\n",
       "      <td>550</td>\n",
       "      <td>200</td>\n",
       "      <td>3</td>\n",
       "      <td>3</td>\n",
       "      <td>449.00</td>\n",
       "      <td>-51.00</td>\n",
       "      <td>0.00</td>\n",
       "      <td>0.00</td>\n",
       "      <td>48.00</td>\n",
       "      <td>-2.00</td>\n",
       "      <td>0.00</td>\n",
       "      <td>0.00</td>\n",
       "      <td>17788.51</td>\n",
       "      <td>18.00</td>\n",
       "    </tr>\n",
       "    <tr>\n",
       "      <th>3214</th>\n",
       "      <td>1499</td>\n",
       "      <td>11</td>\n",
       "      <td>Пермь</td>\n",
       "      <td>smart</td>\n",
       "      <td>50</td>\n",
       "      <td>15360</td>\n",
       "      <td>500</td>\n",
       "      <td>550</td>\n",
       "      <td>200</td>\n",
       "      <td>3</td>\n",
       "      <td>3</td>\n",
       "      <td>612.00</td>\n",
       "      <td>112.00</td>\n",
       "      <td>112.00</td>\n",
       "      <td>336.00</td>\n",
       "      <td>59.00</td>\n",
       "      <td>9.00</td>\n",
       "      <td>9.00</td>\n",
       "      <td>27.00</td>\n",
       "      <td>17963.31</td>\n",
       "      <td>18.00</td>\n",
       "    </tr>\n",
       "    <tr>\n",
       "      <th>3215</th>\n",
       "      <td>1499</td>\n",
       "      <td>12</td>\n",
       "      <td>Пермь</td>\n",
       "      <td>smart</td>\n",
       "      <td>50</td>\n",
       "      <td>15360</td>\n",
       "      <td>500</td>\n",
       "      <td>550</td>\n",
       "      <td>200</td>\n",
       "      <td>3</td>\n",
       "      <td>3</td>\n",
       "      <td>492.00</td>\n",
       "      <td>-8.00</td>\n",
       "      <td>0.00</td>\n",
       "      <td>0.00</td>\n",
       "      <td>66.00</td>\n",
       "      <td>16.00</td>\n",
       "      <td>16.00</td>\n",
       "      <td>48.00</td>\n",
       "      <td>13055.58</td>\n",
       "      <td>14.00</td>\n",
       "    </tr>\n",
       "  </tbody>\n",
       "</table>\n",
       "<p>3216 rows × 21 columns</p>\n",
       "</div>"
      ],
      "text/plain": [
       "      user_id  month         city tariff  messages_included  \\\n",
       "0        1000      5    Краснодар  ultra               1000   \n",
       "1        1000      6    Краснодар  ultra               1000   \n",
       "2        1000      7    Краснодар  ultra               1000   \n",
       "3        1000      8    Краснодар  ultra               1000   \n",
       "4        1000      9    Краснодар  ultra               1000   \n",
       "...       ...    ...          ...    ...                ...   \n",
       "3211     1498     10  Владикавказ  smart                 50   \n",
       "3212     1499      9        Пермь  smart                 50   \n",
       "3213     1499     10        Пермь  smart                 50   \n",
       "3214     1499     11        Пермь  smart                 50   \n",
       "3215     1499     12        Пермь  smart                 50   \n",
       "\n",
       "      mb_per_month_included  minutes_included  rub_monthly_fee  rub_per_gb  \\\n",
       "0                     30720              3000             1950         150   \n",
       "1                     30720              3000             1950         150   \n",
       "2                     30720              3000             1950         150   \n",
       "3                     30720              3000             1950         150   \n",
       "4                     30720              3000             1950         150   \n",
       "...                     ...               ...              ...         ...   \n",
       "3211                  15360               500              550         200   \n",
       "3212                  15360               500              550         200   \n",
       "3213                  15360               500              550         200   \n",
       "3214                  15360               500              550         200   \n",
       "3215                  15360               500              550         200   \n",
       "\n",
       "      rub_per_message  rub_per_minute  duration_rounded_up     diff  \\\n",
       "0                   1               1               159.00 -2841.00   \n",
       "1                   1               1               172.00 -2828.00   \n",
       "2                   1               1               340.00 -2660.00   \n",
       "3                   1               1               408.00 -2592.00   \n",
       "4                   1               1               466.00 -2534.00   \n",
       "...               ...             ...                  ...      ...   \n",
       "3211                3               3               247.00  -253.00   \n",
       "3212                3               3                70.00  -430.00   \n",
       "3213                3               3               449.00   -51.00   \n",
       "3214                3               3               612.00   112.00   \n",
       "3215                3               3               492.00    -8.00   \n",
       "\n",
       "      minutes_to_pay  pay_for_call_extra  messages_qty  messages_extra  \\\n",
       "0               0.00                0.00         22.00         -978.00   \n",
       "1               0.00                0.00         60.00         -940.00   \n",
       "2               0.00                0.00         75.00         -925.00   \n",
       "3               0.00                0.00         81.00         -919.00   \n",
       "4               0.00                0.00         57.00         -943.00   \n",
       "...              ...                 ...           ...             ...   \n",
       "3211            0.00                0.00         42.00           -8.00   \n",
       "3212            0.00                0.00         11.00          -39.00   \n",
       "3213            0.00                0.00         48.00           -2.00   \n",
       "3214          112.00              336.00         59.00            9.00   \n",
       "3215            0.00                0.00         66.00           16.00   \n",
       "\n",
       "      messages_to_pay  pmnt_for_extra_messages  mb_used_sum  \\\n",
       "0                0.00                     0.00      2253.49   \n",
       "1                0.00                     0.00     23233.77   \n",
       "2                0.00                     0.00     14003.64   \n",
       "3                0.00                     0.00     14055.93   \n",
       "4                0.00                     0.00     14568.91   \n",
       "...               ...                      ...          ...   \n",
       "3211             0.00                     0.00     20579.36   \n",
       "3212             0.00                     0.00      1845.75   \n",
       "3213             0.00                     0.00     17788.51   \n",
       "3214             9.00                    27.00     17963.31   \n",
       "3215            16.00                    48.00     13055.58   \n",
       "\n",
       "      gb_used_rounded_up  \n",
       "0                   3.00  \n",
       "1                  24.00  \n",
       "2                  15.00  \n",
       "3                  15.00  \n",
       "4                  15.00  \n",
       "...                  ...  \n",
       "3211               21.00  \n",
       "3212                2.00  \n",
       "3213               18.00  \n",
       "3214               18.00  \n",
       "3215               14.00  \n",
       "\n",
       "[3216 rows x 21 columns]"
      ]
     },
     "execution_count": 72,
     "metadata": {},
     "output_type": "execute_result"
    }
   ],
   "source": [
    "df_internet_traffic_per_month_with_user_info=df_messages_qty_per_month_with_user_info.merge(df_internet_traffic_per_month, on=['user_id', 'month'], how='left')\n",
    "df_internet_traffic_per_month_with_user_info"
   ]
  },
  {
   "cell_type": "code",
   "execution_count": 73,
   "id": "b86ad6a6",
   "metadata": {},
   "outputs": [
    {
     "name": "stdout",
     "output_type": "stream",
     "text": [
      "<class 'pandas.core.frame.DataFrame'>\n",
      "Int64Index: 3216 entries, 0 to 3215\n",
      "Data columns (total 21 columns):\n",
      " #   Column                   Non-Null Count  Dtype  \n",
      "---  ------                   --------------  -----  \n",
      " 0   user_id                  3216 non-null   int64  \n",
      " 1   month                    3216 non-null   int64  \n",
      " 2   city                     3216 non-null   object \n",
      " 3   tariff                   3216 non-null   object \n",
      " 4   messages_included        3216 non-null   int64  \n",
      " 5   mb_per_month_included    3216 non-null   int64  \n",
      " 6   minutes_included         3216 non-null   int64  \n",
      " 7   rub_monthly_fee          3216 non-null   int64  \n",
      " 8   rub_per_gb               3216 non-null   int64  \n",
      " 9   rub_per_message          3216 non-null   int64  \n",
      " 10  rub_per_minute           3216 non-null   int64  \n",
      " 11  duration_rounded_up      3216 non-null   float64\n",
      " 12  diff                     3216 non-null   float64\n",
      " 13  minutes_to_pay           3216 non-null   float64\n",
      " 14  pay_for_call_extra       3216 non-null   float64\n",
      " 15  messages_qty             3216 non-null   float64\n",
      " 16  messages_extra           3216 non-null   float64\n",
      " 17  messages_to_pay          3216 non-null   float64\n",
      " 18  pmnt_for_extra_messages  3216 non-null   float64\n",
      " 19  mb_used_sum              3216 non-null   float64\n",
      " 20  gb_used_rounded_up       3216 non-null   float64\n",
      "dtypes: float64(10), int64(9), object(2)\n",
      "memory usage: 552.8+ KB\n"
     ]
    }
   ],
   "source": [
    "df_internet_traffic_per_month_with_user_info.mb_used_sum=df_internet_traffic_per_month_with_user_info.mb_used_sum.fillna(0)\n",
    "df_internet_traffic_per_month_with_user_info.gb_used_rounded_up=df_internet_traffic_per_month_with_user_info.gb_used_rounded_up.fillna(0)\n",
    "df_internet_traffic_per_month_with_user_info.info()"
   ]
  },
  {
   "cell_type": "markdown",
   "id": "80c4b611",
   "metadata": {},
   "source": [
    "Не вполне понятно исходя из описания тарифа, как будет рассчитываться перерасход: весь использованный трафик за месяц будет сначала округляться до Гб, а потом вычитаться включенный в тариф лимит или сначала будет вычитаться, рассчитываться перерасход в мб, и он уже округляться до Гб. В подготовленной таблице есть уже округленный трафик, и возможность рассчитать сначала перерасход, а потом его округление. Примем это способ расчета: сначала высчитать перерасход в Мб, а его уже потом округлить до Гб, и за них взять плату согласно тарифу. "
   ]
  },
  {
   "cell_type": "code",
   "execution_count": 74,
   "id": "f5b06c74",
   "metadata": {},
   "outputs": [
    {
     "data": {
      "text/html": [
       "<div>\n",
       "<style scoped>\n",
       "    .dataframe tbody tr th:only-of-type {\n",
       "        vertical-align: middle;\n",
       "    }\n",
       "\n",
       "    .dataframe tbody tr th {\n",
       "        vertical-align: top;\n",
       "    }\n",
       "\n",
       "    .dataframe thead th {\n",
       "        text-align: right;\n",
       "    }\n",
       "</style>\n",
       "<table border=\"1\" class=\"dataframe\">\n",
       "  <thead>\n",
       "    <tr style=\"text-align: right;\">\n",
       "      <th></th>\n",
       "      <th>user_id</th>\n",
       "      <th>month</th>\n",
       "      <th>city</th>\n",
       "      <th>tariff</th>\n",
       "      <th>messages_included</th>\n",
       "      <th>mb_per_month_included</th>\n",
       "      <th>minutes_included</th>\n",
       "      <th>rub_monthly_fee</th>\n",
       "      <th>rub_per_gb</th>\n",
       "      <th>rub_per_message</th>\n",
       "      <th>rub_per_minute</th>\n",
       "      <th>duration_rounded_up</th>\n",
       "      <th>diff</th>\n",
       "      <th>minutes_to_pay</th>\n",
       "      <th>pay_for_call_extra</th>\n",
       "      <th>messages_qty</th>\n",
       "      <th>messages_extra</th>\n",
       "      <th>messages_to_pay</th>\n",
       "      <th>pmnt_for_extra_messages</th>\n",
       "      <th>mb_used_sum</th>\n",
       "      <th>gb_used_rounded_up</th>\n",
       "      <th>extra_mb</th>\n",
       "    </tr>\n",
       "  </thead>\n",
       "  <tbody>\n",
       "    <tr>\n",
       "      <th>0</th>\n",
       "      <td>1000</td>\n",
       "      <td>5</td>\n",
       "      <td>Краснодар</td>\n",
       "      <td>ultra</td>\n",
       "      <td>1000</td>\n",
       "      <td>30720</td>\n",
       "      <td>3000</td>\n",
       "      <td>1950</td>\n",
       "      <td>150</td>\n",
       "      <td>1</td>\n",
       "      <td>1</td>\n",
       "      <td>159.00</td>\n",
       "      <td>-2841.00</td>\n",
       "      <td>0.00</td>\n",
       "      <td>0.00</td>\n",
       "      <td>22.00</td>\n",
       "      <td>-978.00</td>\n",
       "      <td>0.00</td>\n",
       "      <td>0.00</td>\n",
       "      <td>2253.49</td>\n",
       "      <td>3.00</td>\n",
       "      <td>28466.51</td>\n",
       "    </tr>\n",
       "    <tr>\n",
       "      <th>1</th>\n",
       "      <td>1000</td>\n",
       "      <td>6</td>\n",
       "      <td>Краснодар</td>\n",
       "      <td>ultra</td>\n",
       "      <td>1000</td>\n",
       "      <td>30720</td>\n",
       "      <td>3000</td>\n",
       "      <td>1950</td>\n",
       "      <td>150</td>\n",
       "      <td>1</td>\n",
       "      <td>1</td>\n",
       "      <td>172.00</td>\n",
       "      <td>-2828.00</td>\n",
       "      <td>0.00</td>\n",
       "      <td>0.00</td>\n",
       "      <td>60.00</td>\n",
       "      <td>-940.00</td>\n",
       "      <td>0.00</td>\n",
       "      <td>0.00</td>\n",
       "      <td>23233.77</td>\n",
       "      <td>24.00</td>\n",
       "      <td>7486.23</td>\n",
       "    </tr>\n",
       "    <tr>\n",
       "      <th>2</th>\n",
       "      <td>1000</td>\n",
       "      <td>7</td>\n",
       "      <td>Краснодар</td>\n",
       "      <td>ultra</td>\n",
       "      <td>1000</td>\n",
       "      <td>30720</td>\n",
       "      <td>3000</td>\n",
       "      <td>1950</td>\n",
       "      <td>150</td>\n",
       "      <td>1</td>\n",
       "      <td>1</td>\n",
       "      <td>340.00</td>\n",
       "      <td>-2660.00</td>\n",
       "      <td>0.00</td>\n",
       "      <td>0.00</td>\n",
       "      <td>75.00</td>\n",
       "      <td>-925.00</td>\n",
       "      <td>0.00</td>\n",
       "      <td>0.00</td>\n",
       "      <td>14003.64</td>\n",
       "      <td>15.00</td>\n",
       "      <td>16716.36</td>\n",
       "    </tr>\n",
       "    <tr>\n",
       "      <th>3</th>\n",
       "      <td>1000</td>\n",
       "      <td>8</td>\n",
       "      <td>Краснодар</td>\n",
       "      <td>ultra</td>\n",
       "      <td>1000</td>\n",
       "      <td>30720</td>\n",
       "      <td>3000</td>\n",
       "      <td>1950</td>\n",
       "      <td>150</td>\n",
       "      <td>1</td>\n",
       "      <td>1</td>\n",
       "      <td>408.00</td>\n",
       "      <td>-2592.00</td>\n",
       "      <td>0.00</td>\n",
       "      <td>0.00</td>\n",
       "      <td>81.00</td>\n",
       "      <td>-919.00</td>\n",
       "      <td>0.00</td>\n",
       "      <td>0.00</td>\n",
       "      <td>14055.93</td>\n",
       "      <td>15.00</td>\n",
       "      <td>16664.07</td>\n",
       "    </tr>\n",
       "    <tr>\n",
       "      <th>4</th>\n",
       "      <td>1000</td>\n",
       "      <td>9</td>\n",
       "      <td>Краснодар</td>\n",
       "      <td>ultra</td>\n",
       "      <td>1000</td>\n",
       "      <td>30720</td>\n",
       "      <td>3000</td>\n",
       "      <td>1950</td>\n",
       "      <td>150</td>\n",
       "      <td>1</td>\n",
       "      <td>1</td>\n",
       "      <td>466.00</td>\n",
       "      <td>-2534.00</td>\n",
       "      <td>0.00</td>\n",
       "      <td>0.00</td>\n",
       "      <td>57.00</td>\n",
       "      <td>-943.00</td>\n",
       "      <td>0.00</td>\n",
       "      <td>0.00</td>\n",
       "      <td>14568.91</td>\n",
       "      <td>15.00</td>\n",
       "      <td>16151.09</td>\n",
       "    </tr>\n",
       "  </tbody>\n",
       "</table>\n",
       "</div>"
      ],
      "text/plain": [
       "   user_id  month       city tariff  messages_included  mb_per_month_included  \\\n",
       "0     1000      5  Краснодар  ultra               1000                  30720   \n",
       "1     1000      6  Краснодар  ultra               1000                  30720   \n",
       "2     1000      7  Краснодар  ultra               1000                  30720   \n",
       "3     1000      8  Краснодар  ultra               1000                  30720   \n",
       "4     1000      9  Краснодар  ultra               1000                  30720   \n",
       "\n",
       "   minutes_included  rub_monthly_fee  rub_per_gb  rub_per_message  \\\n",
       "0              3000             1950         150                1   \n",
       "1              3000             1950         150                1   \n",
       "2              3000             1950         150                1   \n",
       "3              3000             1950         150                1   \n",
       "4              3000             1950         150                1   \n",
       "\n",
       "   rub_per_minute  duration_rounded_up     diff  minutes_to_pay  \\\n",
       "0               1               159.00 -2841.00            0.00   \n",
       "1               1               172.00 -2828.00            0.00   \n",
       "2               1               340.00 -2660.00            0.00   \n",
       "3               1               408.00 -2592.00            0.00   \n",
       "4               1               466.00 -2534.00            0.00   \n",
       "\n",
       "   pay_for_call_extra  messages_qty  messages_extra  messages_to_pay  \\\n",
       "0                0.00         22.00         -978.00             0.00   \n",
       "1                0.00         60.00         -940.00             0.00   \n",
       "2                0.00         75.00         -925.00             0.00   \n",
       "3                0.00         81.00         -919.00             0.00   \n",
       "4                0.00         57.00         -943.00             0.00   \n",
       "\n",
       "   pmnt_for_extra_messages  mb_used_sum  gb_used_rounded_up  extra_mb  \n",
       "0                     0.00      2253.49                3.00  28466.51  \n",
       "1                     0.00     23233.77               24.00   7486.23  \n",
       "2                     0.00     14003.64               15.00  16716.36  \n",
       "3                     0.00     14055.93               15.00  16664.07  \n",
       "4                     0.00     14568.91               15.00  16151.09  "
      ]
     },
     "execution_count": 74,
     "metadata": {},
     "output_type": "execute_result"
    }
   ],
   "source": [
    "df_internet_traffic_per_month_with_user_info['extra_mb']=df_internet_traffic_per_month_with_user_info['mb_per_month_included']-df_internet_traffic_per_month_with_user_info['mb_used_sum']\n",
    "df_internet_traffic_per_month_with_user_info.head()"
   ]
  },
  {
   "cell_type": "code",
   "execution_count": 75,
   "id": "96baea84",
   "metadata": {
    "scrolled": true
   },
   "outputs": [
    {
     "data": {
      "text/html": [
       "<div>\n",
       "<style scoped>\n",
       "    .dataframe tbody tr th:only-of-type {\n",
       "        vertical-align: middle;\n",
       "    }\n",
       "\n",
       "    .dataframe tbody tr th {\n",
       "        vertical-align: top;\n",
       "    }\n",
       "\n",
       "    .dataframe thead th {\n",
       "        text-align: right;\n",
       "    }\n",
       "</style>\n",
       "<table border=\"1\" class=\"dataframe\">\n",
       "  <thead>\n",
       "    <tr style=\"text-align: right;\">\n",
       "      <th></th>\n",
       "      <th>user_id</th>\n",
       "      <th>month</th>\n",
       "      <th>city</th>\n",
       "      <th>tariff</th>\n",
       "      <th>messages_included</th>\n",
       "      <th>mb_per_month_included</th>\n",
       "      <th>minutes_included</th>\n",
       "      <th>rub_monthly_fee</th>\n",
       "      <th>rub_per_gb</th>\n",
       "      <th>rub_per_message</th>\n",
       "      <th>rub_per_minute</th>\n",
       "      <th>duration_rounded_up</th>\n",
       "      <th>diff</th>\n",
       "      <th>minutes_to_pay</th>\n",
       "      <th>pay_for_call_extra</th>\n",
       "      <th>messages_qty</th>\n",
       "      <th>messages_extra</th>\n",
       "      <th>messages_to_pay</th>\n",
       "      <th>pmnt_for_extra_messages</th>\n",
       "      <th>mb_used_sum</th>\n",
       "      <th>gb_used_rounded_up</th>\n",
       "      <th>extra_mb</th>\n",
       "    </tr>\n",
       "  </thead>\n",
       "  <tbody>\n",
       "    <tr>\n",
       "      <th>0</th>\n",
       "      <td>1000</td>\n",
       "      <td>5</td>\n",
       "      <td>Краснодар</td>\n",
       "      <td>ultra</td>\n",
       "      <td>1000</td>\n",
       "      <td>30720</td>\n",
       "      <td>3000</td>\n",
       "      <td>1950</td>\n",
       "      <td>150</td>\n",
       "      <td>1</td>\n",
       "      <td>1</td>\n",
       "      <td>159.00</td>\n",
       "      <td>-2841.00</td>\n",
       "      <td>0.00</td>\n",
       "      <td>0.00</td>\n",
       "      <td>22.00</td>\n",
       "      <td>-978.00</td>\n",
       "      <td>0.00</td>\n",
       "      <td>0.00</td>\n",
       "      <td>2253.49</td>\n",
       "      <td>3.00</td>\n",
       "      <td>28466.51</td>\n",
       "    </tr>\n",
       "    <tr>\n",
       "      <th>1</th>\n",
       "      <td>1000</td>\n",
       "      <td>6</td>\n",
       "      <td>Краснодар</td>\n",
       "      <td>ultra</td>\n",
       "      <td>1000</td>\n",
       "      <td>30720</td>\n",
       "      <td>3000</td>\n",
       "      <td>1950</td>\n",
       "      <td>150</td>\n",
       "      <td>1</td>\n",
       "      <td>1</td>\n",
       "      <td>172.00</td>\n",
       "      <td>-2828.00</td>\n",
       "      <td>0.00</td>\n",
       "      <td>0.00</td>\n",
       "      <td>60.00</td>\n",
       "      <td>-940.00</td>\n",
       "      <td>0.00</td>\n",
       "      <td>0.00</td>\n",
       "      <td>23233.77</td>\n",
       "      <td>24.00</td>\n",
       "      <td>7486.23</td>\n",
       "    </tr>\n",
       "    <tr>\n",
       "      <th>2</th>\n",
       "      <td>1000</td>\n",
       "      <td>7</td>\n",
       "      <td>Краснодар</td>\n",
       "      <td>ultra</td>\n",
       "      <td>1000</td>\n",
       "      <td>30720</td>\n",
       "      <td>3000</td>\n",
       "      <td>1950</td>\n",
       "      <td>150</td>\n",
       "      <td>1</td>\n",
       "      <td>1</td>\n",
       "      <td>340.00</td>\n",
       "      <td>-2660.00</td>\n",
       "      <td>0.00</td>\n",
       "      <td>0.00</td>\n",
       "      <td>75.00</td>\n",
       "      <td>-925.00</td>\n",
       "      <td>0.00</td>\n",
       "      <td>0.00</td>\n",
       "      <td>14003.64</td>\n",
       "      <td>15.00</td>\n",
       "      <td>16716.36</td>\n",
       "    </tr>\n",
       "    <tr>\n",
       "      <th>3</th>\n",
       "      <td>1000</td>\n",
       "      <td>8</td>\n",
       "      <td>Краснодар</td>\n",
       "      <td>ultra</td>\n",
       "      <td>1000</td>\n",
       "      <td>30720</td>\n",
       "      <td>3000</td>\n",
       "      <td>1950</td>\n",
       "      <td>150</td>\n",
       "      <td>1</td>\n",
       "      <td>1</td>\n",
       "      <td>408.00</td>\n",
       "      <td>-2592.00</td>\n",
       "      <td>0.00</td>\n",
       "      <td>0.00</td>\n",
       "      <td>81.00</td>\n",
       "      <td>-919.00</td>\n",
       "      <td>0.00</td>\n",
       "      <td>0.00</td>\n",
       "      <td>14055.93</td>\n",
       "      <td>15.00</td>\n",
       "      <td>16664.07</td>\n",
       "    </tr>\n",
       "    <tr>\n",
       "      <th>4</th>\n",
       "      <td>1000</td>\n",
       "      <td>9</td>\n",
       "      <td>Краснодар</td>\n",
       "      <td>ultra</td>\n",
       "      <td>1000</td>\n",
       "      <td>30720</td>\n",
       "      <td>3000</td>\n",
       "      <td>1950</td>\n",
       "      <td>150</td>\n",
       "      <td>1</td>\n",
       "      <td>1</td>\n",
       "      <td>466.00</td>\n",
       "      <td>-2534.00</td>\n",
       "      <td>0.00</td>\n",
       "      <td>0.00</td>\n",
       "      <td>57.00</td>\n",
       "      <td>-943.00</td>\n",
       "      <td>0.00</td>\n",
       "      <td>0.00</td>\n",
       "      <td>14568.91</td>\n",
       "      <td>15.00</td>\n",
       "      <td>16151.09</td>\n",
       "    </tr>\n",
       "  </tbody>\n",
       "</table>\n",
       "</div>"
      ],
      "text/plain": [
       "   user_id  month       city tariff  messages_included  mb_per_month_included  \\\n",
       "0     1000      5  Краснодар  ultra               1000                  30720   \n",
       "1     1000      6  Краснодар  ultra               1000                  30720   \n",
       "2     1000      7  Краснодар  ultra               1000                  30720   \n",
       "3     1000      8  Краснодар  ultra               1000                  30720   \n",
       "4     1000      9  Краснодар  ultra               1000                  30720   \n",
       "\n",
       "   minutes_included  rub_monthly_fee  rub_per_gb  rub_per_message  \\\n",
       "0              3000             1950         150                1   \n",
       "1              3000             1950         150                1   \n",
       "2              3000             1950         150                1   \n",
       "3              3000             1950         150                1   \n",
       "4              3000             1950         150                1   \n",
       "\n",
       "   rub_per_minute  duration_rounded_up     diff  minutes_to_pay  \\\n",
       "0               1               159.00 -2841.00            0.00   \n",
       "1               1               172.00 -2828.00            0.00   \n",
       "2               1               340.00 -2660.00            0.00   \n",
       "3               1               408.00 -2592.00            0.00   \n",
       "4               1               466.00 -2534.00            0.00   \n",
       "\n",
       "   pay_for_call_extra  messages_qty  messages_extra  messages_to_pay  \\\n",
       "0                0.00         22.00         -978.00             0.00   \n",
       "1                0.00         60.00         -940.00             0.00   \n",
       "2                0.00         75.00         -925.00             0.00   \n",
       "3                0.00         81.00         -919.00             0.00   \n",
       "4                0.00         57.00         -943.00             0.00   \n",
       "\n",
       "   pmnt_for_extra_messages  mb_used_sum  gb_used_rounded_up  extra_mb  \n",
       "0                     0.00      2253.49                3.00  28466.51  \n",
       "1                     0.00     23233.77               24.00   7486.23  \n",
       "2                     0.00     14003.64               15.00  16716.36  \n",
       "3                     0.00     14055.93               15.00  16664.07  \n",
       "4                     0.00     14568.91               15.00  16151.09  "
      ]
     },
     "execution_count": 75,
     "metadata": {},
     "output_type": "execute_result"
    }
   ],
   "source": [
    "df_internet_traffic_per_month_with_user_info['extra_mb']=df_internet_traffic_per_month_with_user_info['extra_mb'].apply(function)\n",
    "df_internet_traffic_per_month_with_user_info.head()"
   ]
  },
  {
   "cell_type": "code",
   "execution_count": 76,
   "id": "b8c0d193",
   "metadata": {},
   "outputs": [
    {
     "name": "stdout",
     "output_type": "stream",
     "text": [
      "<class 'pandas.core.frame.DataFrame'>\n",
      "Int64Index: 3216 entries, 0 to 3215\n",
      "Data columns (total 22 columns):\n",
      " #   Column                   Non-Null Count  Dtype  \n",
      "---  ------                   --------------  -----  \n",
      " 0   user_id                  3216 non-null   int64  \n",
      " 1   month                    3216 non-null   int64  \n",
      " 2   city                     3216 non-null   object \n",
      " 3   tariff                   3216 non-null   object \n",
      " 4   messages_included        3216 non-null   int64  \n",
      " 5   mb_per_month_included    3216 non-null   int64  \n",
      " 6   minutes_included         3216 non-null   int64  \n",
      " 7   rub_monthly_fee          3216 non-null   int64  \n",
      " 8   rub_per_gb               3216 non-null   int64  \n",
      " 9   rub_per_message          3216 non-null   int64  \n",
      " 10  rub_per_minute           3216 non-null   int64  \n",
      " 11  duration_rounded_up      3216 non-null   float64\n",
      " 12  diff                     3216 non-null   float64\n",
      " 13  minutes_to_pay           3216 non-null   float64\n",
      " 14  pay_for_call_extra       3216 non-null   float64\n",
      " 15  messages_qty             3216 non-null   float64\n",
      " 16  messages_extra           3216 non-null   float64\n",
      " 17  messages_to_pay          3216 non-null   float64\n",
      " 18  pmnt_for_extra_messages  3216 non-null   float64\n",
      " 19  mb_used_sum              3216 non-null   float64\n",
      " 20  gb_used_rounded_up       3216 non-null   float64\n",
      " 21  extra_mb                 3216 non-null   float64\n",
      "dtypes: float64(11), int64(9), object(2)\n",
      "memory usage: 577.9+ KB\n"
     ]
    }
   ],
   "source": [
    "df_internet_traffic_per_month_with_user_info.info()"
   ]
  },
  {
   "cell_type": "code",
   "execution_count": 77,
   "id": "f06f738a",
   "metadata": {},
   "outputs": [
    {
     "data": {
      "text/html": [
       "<div>\n",
       "<style scoped>\n",
       "    .dataframe tbody tr th:only-of-type {\n",
       "        vertical-align: middle;\n",
       "    }\n",
       "\n",
       "    .dataframe tbody tr th {\n",
       "        vertical-align: top;\n",
       "    }\n",
       "\n",
       "    .dataframe thead th {\n",
       "        text-align: right;\n",
       "    }\n",
       "</style>\n",
       "<table border=\"1\" class=\"dataframe\">\n",
       "  <thead>\n",
       "    <tr style=\"text-align: right;\">\n",
       "      <th></th>\n",
       "      <th>user_id</th>\n",
       "      <th>month</th>\n",
       "      <th>city</th>\n",
       "      <th>tariff</th>\n",
       "      <th>messages_included</th>\n",
       "      <th>mb_per_month_included</th>\n",
       "      <th>minutes_included</th>\n",
       "      <th>rub_monthly_fee</th>\n",
       "      <th>rub_per_gb</th>\n",
       "      <th>rub_per_message</th>\n",
       "      <th>rub_per_minute</th>\n",
       "      <th>duration_rounded_up</th>\n",
       "      <th>diff</th>\n",
       "      <th>minutes_to_pay</th>\n",
       "      <th>pay_for_call_extra</th>\n",
       "      <th>messages_qty</th>\n",
       "      <th>messages_extra</th>\n",
       "      <th>messages_to_pay</th>\n",
       "      <th>pmnt_for_extra_messages</th>\n",
       "      <th>mb_used_sum</th>\n",
       "      <th>gb_used_rounded_up</th>\n",
       "      <th>extra_mb</th>\n",
       "      <th>gb_for_pmnt</th>\n",
       "    </tr>\n",
       "  </thead>\n",
       "  <tbody>\n",
       "    <tr>\n",
       "      <th>0</th>\n",
       "      <td>1000</td>\n",
       "      <td>5</td>\n",
       "      <td>Краснодар</td>\n",
       "      <td>ultra</td>\n",
       "      <td>1000</td>\n",
       "      <td>30720</td>\n",
       "      <td>3000</td>\n",
       "      <td>1950</td>\n",
       "      <td>150</td>\n",
       "      <td>1</td>\n",
       "      <td>1</td>\n",
       "      <td>159.00</td>\n",
       "      <td>-2841.00</td>\n",
       "      <td>0.00</td>\n",
       "      <td>0.00</td>\n",
       "      <td>22.00</td>\n",
       "      <td>-978.00</td>\n",
       "      <td>0.00</td>\n",
       "      <td>0.00</td>\n",
       "      <td>2253.49</td>\n",
       "      <td>3.00</td>\n",
       "      <td>28466.51</td>\n",
       "      <td>29</td>\n",
       "    </tr>\n",
       "    <tr>\n",
       "      <th>1</th>\n",
       "      <td>1000</td>\n",
       "      <td>6</td>\n",
       "      <td>Краснодар</td>\n",
       "      <td>ultra</td>\n",
       "      <td>1000</td>\n",
       "      <td>30720</td>\n",
       "      <td>3000</td>\n",
       "      <td>1950</td>\n",
       "      <td>150</td>\n",
       "      <td>1</td>\n",
       "      <td>1</td>\n",
       "      <td>172.00</td>\n",
       "      <td>-2828.00</td>\n",
       "      <td>0.00</td>\n",
       "      <td>0.00</td>\n",
       "      <td>60.00</td>\n",
       "      <td>-940.00</td>\n",
       "      <td>0.00</td>\n",
       "      <td>0.00</td>\n",
       "      <td>23233.77</td>\n",
       "      <td>24.00</td>\n",
       "      <td>7486.23</td>\n",
       "      <td>8</td>\n",
       "    </tr>\n",
       "    <tr>\n",
       "      <th>2</th>\n",
       "      <td>1000</td>\n",
       "      <td>7</td>\n",
       "      <td>Краснодар</td>\n",
       "      <td>ultra</td>\n",
       "      <td>1000</td>\n",
       "      <td>30720</td>\n",
       "      <td>3000</td>\n",
       "      <td>1950</td>\n",
       "      <td>150</td>\n",
       "      <td>1</td>\n",
       "      <td>1</td>\n",
       "      <td>340.00</td>\n",
       "      <td>-2660.00</td>\n",
       "      <td>0.00</td>\n",
       "      <td>0.00</td>\n",
       "      <td>75.00</td>\n",
       "      <td>-925.00</td>\n",
       "      <td>0.00</td>\n",
       "      <td>0.00</td>\n",
       "      <td>14003.64</td>\n",
       "      <td>15.00</td>\n",
       "      <td>16716.36</td>\n",
       "      <td>17</td>\n",
       "    </tr>\n",
       "    <tr>\n",
       "      <th>3</th>\n",
       "      <td>1000</td>\n",
       "      <td>8</td>\n",
       "      <td>Краснодар</td>\n",
       "      <td>ultra</td>\n",
       "      <td>1000</td>\n",
       "      <td>30720</td>\n",
       "      <td>3000</td>\n",
       "      <td>1950</td>\n",
       "      <td>150</td>\n",
       "      <td>1</td>\n",
       "      <td>1</td>\n",
       "      <td>408.00</td>\n",
       "      <td>-2592.00</td>\n",
       "      <td>0.00</td>\n",
       "      <td>0.00</td>\n",
       "      <td>81.00</td>\n",
       "      <td>-919.00</td>\n",
       "      <td>0.00</td>\n",
       "      <td>0.00</td>\n",
       "      <td>14055.93</td>\n",
       "      <td>15.00</td>\n",
       "      <td>16664.07</td>\n",
       "      <td>17</td>\n",
       "    </tr>\n",
       "    <tr>\n",
       "      <th>4</th>\n",
       "      <td>1000</td>\n",
       "      <td>9</td>\n",
       "      <td>Краснодар</td>\n",
       "      <td>ultra</td>\n",
       "      <td>1000</td>\n",
       "      <td>30720</td>\n",
       "      <td>3000</td>\n",
       "      <td>1950</td>\n",
       "      <td>150</td>\n",
       "      <td>1</td>\n",
       "      <td>1</td>\n",
       "      <td>466.00</td>\n",
       "      <td>-2534.00</td>\n",
       "      <td>0.00</td>\n",
       "      <td>0.00</td>\n",
       "      <td>57.00</td>\n",
       "      <td>-943.00</td>\n",
       "      <td>0.00</td>\n",
       "      <td>0.00</td>\n",
       "      <td>14568.91</td>\n",
       "      <td>15.00</td>\n",
       "      <td>16151.09</td>\n",
       "      <td>17</td>\n",
       "    </tr>\n",
       "  </tbody>\n",
       "</table>\n",
       "</div>"
      ],
      "text/plain": [
       "   user_id  month       city tariff  messages_included  mb_per_month_included  \\\n",
       "0     1000      5  Краснодар  ultra               1000                  30720   \n",
       "1     1000      6  Краснодар  ultra               1000                  30720   \n",
       "2     1000      7  Краснодар  ultra               1000                  30720   \n",
       "3     1000      8  Краснодар  ultra               1000                  30720   \n",
       "4     1000      9  Краснодар  ultra               1000                  30720   \n",
       "\n",
       "   minutes_included  rub_monthly_fee  rub_per_gb  rub_per_message  \\\n",
       "0              3000             1950         150                1   \n",
       "1              3000             1950         150                1   \n",
       "2              3000             1950         150                1   \n",
       "3              3000             1950         150                1   \n",
       "4              3000             1950         150                1   \n",
       "\n",
       "   rub_per_minute  duration_rounded_up     diff  minutes_to_pay  \\\n",
       "0               1               159.00 -2841.00            0.00   \n",
       "1               1               172.00 -2828.00            0.00   \n",
       "2               1               340.00 -2660.00            0.00   \n",
       "3               1               408.00 -2592.00            0.00   \n",
       "4               1               466.00 -2534.00            0.00   \n",
       "\n",
       "   pay_for_call_extra  messages_qty  messages_extra  messages_to_pay  \\\n",
       "0                0.00         22.00         -978.00             0.00   \n",
       "1                0.00         60.00         -940.00             0.00   \n",
       "2                0.00         75.00         -925.00             0.00   \n",
       "3                0.00         81.00         -919.00             0.00   \n",
       "4                0.00         57.00         -943.00             0.00   \n",
       "\n",
       "   pmnt_for_extra_messages  mb_used_sum  gb_used_rounded_up  extra_mb  \\\n",
       "0                     0.00      2253.49                3.00  28466.51   \n",
       "1                     0.00     23233.77               24.00   7486.23   \n",
       "2                     0.00     14003.64               15.00  16716.36   \n",
       "3                     0.00     14055.93               15.00  16664.07   \n",
       "4                     0.00     14568.91               15.00  16151.09   \n",
       "\n",
       "   gb_for_pmnt  \n",
       "0           29  \n",
       "1            8  \n",
       "2           17  \n",
       "3           17  \n",
       "4           17  "
      ]
     },
     "execution_count": 77,
     "metadata": {},
     "output_type": "execute_result"
    }
   ],
   "source": [
    "df_internet_traffic_per_month_with_user_info['gb_for_pmnt']=(df_internet_traffic_per_month_with_user_info['extra_mb']/1000).apply(ceil)\n",
    "df_internet_traffic_per_month_with_user_info.head()"
   ]
  },
  {
   "cell_type": "code",
   "execution_count": 78,
   "id": "9a7c9e06",
   "metadata": {},
   "outputs": [
    {
     "data": {
      "text/html": [
       "<div>\n",
       "<style scoped>\n",
       "    .dataframe tbody tr th:only-of-type {\n",
       "        vertical-align: middle;\n",
       "    }\n",
       "\n",
       "    .dataframe tbody tr th {\n",
       "        vertical-align: top;\n",
       "    }\n",
       "\n",
       "    .dataframe thead th {\n",
       "        text-align: right;\n",
       "    }\n",
       "</style>\n",
       "<table border=\"1\" class=\"dataframe\">\n",
       "  <thead>\n",
       "    <tr style=\"text-align: right;\">\n",
       "      <th></th>\n",
       "      <th>user_id</th>\n",
       "      <th>month</th>\n",
       "      <th>city</th>\n",
       "      <th>tariff</th>\n",
       "      <th>messages_included</th>\n",
       "      <th>mb_per_month_included</th>\n",
       "      <th>minutes_included</th>\n",
       "      <th>rub_monthly_fee</th>\n",
       "      <th>rub_per_gb</th>\n",
       "      <th>rub_per_message</th>\n",
       "      <th>rub_per_minute</th>\n",
       "      <th>duration_rounded_up</th>\n",
       "      <th>diff</th>\n",
       "      <th>minutes_to_pay</th>\n",
       "      <th>pay_for_call_extra</th>\n",
       "      <th>messages_qty</th>\n",
       "      <th>messages_extra</th>\n",
       "      <th>messages_to_pay</th>\n",
       "      <th>pmnt_for_extra_messages</th>\n",
       "      <th>mb_used_sum</th>\n",
       "      <th>gb_used_rounded_up</th>\n",
       "      <th>extra_mb</th>\n",
       "      <th>gb_for_pmnt</th>\n",
       "      <th>pmnt_for_internet</th>\n",
       "    </tr>\n",
       "  </thead>\n",
       "  <tbody>\n",
       "    <tr>\n",
       "      <th>0</th>\n",
       "      <td>1000</td>\n",
       "      <td>5</td>\n",
       "      <td>Краснодар</td>\n",
       "      <td>ultra</td>\n",
       "      <td>1000</td>\n",
       "      <td>30720</td>\n",
       "      <td>3000</td>\n",
       "      <td>1950</td>\n",
       "      <td>150</td>\n",
       "      <td>1</td>\n",
       "      <td>1</td>\n",
       "      <td>159.00</td>\n",
       "      <td>-2841.00</td>\n",
       "      <td>0.00</td>\n",
       "      <td>0.00</td>\n",
       "      <td>22.00</td>\n",
       "      <td>-978.00</td>\n",
       "      <td>0.00</td>\n",
       "      <td>0.00</td>\n",
       "      <td>2253.49</td>\n",
       "      <td>3.00</td>\n",
       "      <td>28466.51</td>\n",
       "      <td>29</td>\n",
       "      <td>4350</td>\n",
       "    </tr>\n",
       "    <tr>\n",
       "      <th>1</th>\n",
       "      <td>1000</td>\n",
       "      <td>6</td>\n",
       "      <td>Краснодар</td>\n",
       "      <td>ultra</td>\n",
       "      <td>1000</td>\n",
       "      <td>30720</td>\n",
       "      <td>3000</td>\n",
       "      <td>1950</td>\n",
       "      <td>150</td>\n",
       "      <td>1</td>\n",
       "      <td>1</td>\n",
       "      <td>172.00</td>\n",
       "      <td>-2828.00</td>\n",
       "      <td>0.00</td>\n",
       "      <td>0.00</td>\n",
       "      <td>60.00</td>\n",
       "      <td>-940.00</td>\n",
       "      <td>0.00</td>\n",
       "      <td>0.00</td>\n",
       "      <td>23233.77</td>\n",
       "      <td>24.00</td>\n",
       "      <td>7486.23</td>\n",
       "      <td>8</td>\n",
       "      <td>1200</td>\n",
       "    </tr>\n",
       "    <tr>\n",
       "      <th>2</th>\n",
       "      <td>1000</td>\n",
       "      <td>7</td>\n",
       "      <td>Краснодар</td>\n",
       "      <td>ultra</td>\n",
       "      <td>1000</td>\n",
       "      <td>30720</td>\n",
       "      <td>3000</td>\n",
       "      <td>1950</td>\n",
       "      <td>150</td>\n",
       "      <td>1</td>\n",
       "      <td>1</td>\n",
       "      <td>340.00</td>\n",
       "      <td>-2660.00</td>\n",
       "      <td>0.00</td>\n",
       "      <td>0.00</td>\n",
       "      <td>75.00</td>\n",
       "      <td>-925.00</td>\n",
       "      <td>0.00</td>\n",
       "      <td>0.00</td>\n",
       "      <td>14003.64</td>\n",
       "      <td>15.00</td>\n",
       "      <td>16716.36</td>\n",
       "      <td>17</td>\n",
       "      <td>2550</td>\n",
       "    </tr>\n",
       "    <tr>\n",
       "      <th>3</th>\n",
       "      <td>1000</td>\n",
       "      <td>8</td>\n",
       "      <td>Краснодар</td>\n",
       "      <td>ultra</td>\n",
       "      <td>1000</td>\n",
       "      <td>30720</td>\n",
       "      <td>3000</td>\n",
       "      <td>1950</td>\n",
       "      <td>150</td>\n",
       "      <td>1</td>\n",
       "      <td>1</td>\n",
       "      <td>408.00</td>\n",
       "      <td>-2592.00</td>\n",
       "      <td>0.00</td>\n",
       "      <td>0.00</td>\n",
       "      <td>81.00</td>\n",
       "      <td>-919.00</td>\n",
       "      <td>0.00</td>\n",
       "      <td>0.00</td>\n",
       "      <td>14055.93</td>\n",
       "      <td>15.00</td>\n",
       "      <td>16664.07</td>\n",
       "      <td>17</td>\n",
       "      <td>2550</td>\n",
       "    </tr>\n",
       "    <tr>\n",
       "      <th>4</th>\n",
       "      <td>1000</td>\n",
       "      <td>9</td>\n",
       "      <td>Краснодар</td>\n",
       "      <td>ultra</td>\n",
       "      <td>1000</td>\n",
       "      <td>30720</td>\n",
       "      <td>3000</td>\n",
       "      <td>1950</td>\n",
       "      <td>150</td>\n",
       "      <td>1</td>\n",
       "      <td>1</td>\n",
       "      <td>466.00</td>\n",
       "      <td>-2534.00</td>\n",
       "      <td>0.00</td>\n",
       "      <td>0.00</td>\n",
       "      <td>57.00</td>\n",
       "      <td>-943.00</td>\n",
       "      <td>0.00</td>\n",
       "      <td>0.00</td>\n",
       "      <td>14568.91</td>\n",
       "      <td>15.00</td>\n",
       "      <td>16151.09</td>\n",
       "      <td>17</td>\n",
       "      <td>2550</td>\n",
       "    </tr>\n",
       "  </tbody>\n",
       "</table>\n",
       "</div>"
      ],
      "text/plain": [
       "   user_id  month       city tariff  messages_included  mb_per_month_included  \\\n",
       "0     1000      5  Краснодар  ultra               1000                  30720   \n",
       "1     1000      6  Краснодар  ultra               1000                  30720   \n",
       "2     1000      7  Краснодар  ultra               1000                  30720   \n",
       "3     1000      8  Краснодар  ultra               1000                  30720   \n",
       "4     1000      9  Краснодар  ultra               1000                  30720   \n",
       "\n",
       "   minutes_included  rub_monthly_fee  rub_per_gb  rub_per_message  \\\n",
       "0              3000             1950         150                1   \n",
       "1              3000             1950         150                1   \n",
       "2              3000             1950         150                1   \n",
       "3              3000             1950         150                1   \n",
       "4              3000             1950         150                1   \n",
       "\n",
       "   rub_per_minute  duration_rounded_up     diff  minutes_to_pay  \\\n",
       "0               1               159.00 -2841.00            0.00   \n",
       "1               1               172.00 -2828.00            0.00   \n",
       "2               1               340.00 -2660.00            0.00   \n",
       "3               1               408.00 -2592.00            0.00   \n",
       "4               1               466.00 -2534.00            0.00   \n",
       "\n",
       "   pay_for_call_extra  messages_qty  messages_extra  messages_to_pay  \\\n",
       "0                0.00         22.00         -978.00             0.00   \n",
       "1                0.00         60.00         -940.00             0.00   \n",
       "2                0.00         75.00         -925.00             0.00   \n",
       "3                0.00         81.00         -919.00             0.00   \n",
       "4                0.00         57.00         -943.00             0.00   \n",
       "\n",
       "   pmnt_for_extra_messages  mb_used_sum  gb_used_rounded_up  extra_mb  \\\n",
       "0                     0.00      2253.49                3.00  28466.51   \n",
       "1                     0.00     23233.77               24.00   7486.23   \n",
       "2                     0.00     14003.64               15.00  16716.36   \n",
       "3                     0.00     14055.93               15.00  16664.07   \n",
       "4                     0.00     14568.91               15.00  16151.09   \n",
       "\n",
       "   gb_for_pmnt  pmnt_for_internet  \n",
       "0           29               4350  \n",
       "1            8               1200  \n",
       "2           17               2550  \n",
       "3           17               2550  \n",
       "4           17               2550  "
      ]
     },
     "execution_count": 78,
     "metadata": {},
     "output_type": "execute_result"
    }
   ],
   "source": [
    "df_internet_traffic_per_month_with_user_info['pmnt_for_internet']=df_internet_traffic_per_month_with_user_info['gb_for_pmnt']*df_internet_traffic_per_month_with_user_info['rub_per_gb']\n",
    "df_internet_traffic_per_month_with_user_info.head()"
   ]
  },
  {
   "cell_type": "code",
   "execution_count": 79,
   "id": "112324a0",
   "metadata": {
    "scrolled": true
   },
   "outputs": [
    {
     "data": {
      "text/html": [
       "<div>\n",
       "<style scoped>\n",
       "    .dataframe tbody tr th:only-of-type {\n",
       "        vertical-align: middle;\n",
       "    }\n",
       "\n",
       "    .dataframe tbody tr th {\n",
       "        vertical-align: top;\n",
       "    }\n",
       "\n",
       "    .dataframe thead th {\n",
       "        text-align: right;\n",
       "    }\n",
       "</style>\n",
       "<table border=\"1\" class=\"dataframe\">\n",
       "  <thead>\n",
       "    <tr style=\"text-align: right;\">\n",
       "      <th></th>\n",
       "      <th>tariff</th>\n",
       "      <th>month</th>\n",
       "      <th>mean</th>\n",
       "      <th>sum</th>\n",
       "    </tr>\n",
       "  </thead>\n",
       "  <tbody>\n",
       "    <tr>\n",
       "      <th>0</th>\n",
       "      <td>smart</td>\n",
       "      <td>1</td>\n",
       "      <td>1605.88</td>\n",
       "      <td>54600.00</td>\n",
       "    </tr>\n",
       "    <tr>\n",
       "      <th>1</th>\n",
       "      <td>smart</td>\n",
       "      <td>2</td>\n",
       "      <td>1027.59</td>\n",
       "      <td>59600.00</td>\n",
       "    </tr>\n",
       "    <tr>\n",
       "      <th>2</th>\n",
       "      <td>smart</td>\n",
       "      <td>3</td>\n",
       "      <td>558.44</td>\n",
       "      <td>43000.00</td>\n",
       "    </tr>\n",
       "    <tr>\n",
       "      <th>3</th>\n",
       "      <td>smart</td>\n",
       "      <td>4</td>\n",
       "      <td>730.36</td>\n",
       "      <td>81800.00</td>\n",
       "    </tr>\n",
       "    <tr>\n",
       "      <th>4</th>\n",
       "      <td>smart</td>\n",
       "      <td>5</td>\n",
       "      <td>465.25</td>\n",
       "      <td>65600.00</td>\n",
       "    </tr>\n",
       "    <tr>\n",
       "      <th>5</th>\n",
       "      <td>smart</td>\n",
       "      <td>6</td>\n",
       "      <td>459.76</td>\n",
       "      <td>75400.00</td>\n",
       "    </tr>\n",
       "    <tr>\n",
       "      <th>6</th>\n",
       "      <td>smart</td>\n",
       "      <td>7</td>\n",
       "      <td>477.61</td>\n",
       "      <td>96000.00</td>\n",
       "    </tr>\n",
       "    <tr>\n",
       "      <th>7</th>\n",
       "      <td>smart</td>\n",
       "      <td>8</td>\n",
       "      <td>365.11</td>\n",
       "      <td>85800.00</td>\n",
       "    </tr>\n",
       "    <tr>\n",
       "      <th>8</th>\n",
       "      <td>smart</td>\n",
       "      <td>9</td>\n",
       "      <td>367.69</td>\n",
       "      <td>95600.00</td>\n",
       "    </tr>\n",
       "    <tr>\n",
       "      <th>9</th>\n",
       "      <td>smart</td>\n",
       "      <td>10</td>\n",
       "      <td>372.79</td>\n",
       "      <td>109600.00</td>\n",
       "    </tr>\n",
       "    <tr>\n",
       "      <th>10</th>\n",
       "      <td>smart</td>\n",
       "      <td>11</td>\n",
       "      <td>319.62</td>\n",
       "      <td>101000.00</td>\n",
       "    </tr>\n",
       "    <tr>\n",
       "      <th>11</th>\n",
       "      <td>smart</td>\n",
       "      <td>12</td>\n",
       "      <td>231.95</td>\n",
       "      <td>78400.00</td>\n",
       "    </tr>\n",
       "    <tr>\n",
       "      <th>12</th>\n",
       "      <td>ultra</td>\n",
       "      <td>1</td>\n",
       "      <td>2733.33</td>\n",
       "      <td>24600.00</td>\n",
       "    </tr>\n",
       "    <tr>\n",
       "      <th>13</th>\n",
       "      <td>ultra</td>\n",
       "      <td>2</td>\n",
       "      <td>2925.00</td>\n",
       "      <td>70200.00</td>\n",
       "    </tr>\n",
       "    <tr>\n",
       "      <th>14</th>\n",
       "      <td>ultra</td>\n",
       "      <td>3</td>\n",
       "      <td>2095.95</td>\n",
       "      <td>77550.00</td>\n",
       "    </tr>\n",
       "    <tr>\n",
       "      <th>15</th>\n",
       "      <td>ultra</td>\n",
       "      <td>4</td>\n",
       "      <td>2203.64</td>\n",
       "      <td>121200.00</td>\n",
       "    </tr>\n",
       "    <tr>\n",
       "      <th>16</th>\n",
       "      <td>ultra</td>\n",
       "      <td>5</td>\n",
       "      <td>1880.60</td>\n",
       "      <td>126000.00</td>\n",
       "    </tr>\n",
       "    <tr>\n",
       "      <th>17</th>\n",
       "      <td>ultra</td>\n",
       "      <td>6</td>\n",
       "      <td>1919.64</td>\n",
       "      <td>161250.00</td>\n",
       "    </tr>\n",
       "    <tr>\n",
       "      <th>18</th>\n",
       "      <td>ultra</td>\n",
       "      <td>7</td>\n",
       "      <td>1757.14</td>\n",
       "      <td>159900.00</td>\n",
       "    </tr>\n",
       "    <tr>\n",
       "      <th>19</th>\n",
       "      <td>ultra</td>\n",
       "      <td>8</td>\n",
       "      <td>1861.68</td>\n",
       "      <td>199200.00</td>\n",
       "    </tr>\n",
       "    <tr>\n",
       "      <th>20</th>\n",
       "      <td>ultra</td>\n",
       "      <td>9</td>\n",
       "      <td>1861.30</td>\n",
       "      <td>214050.00</td>\n",
       "    </tr>\n",
       "    <tr>\n",
       "      <th>21</th>\n",
       "      <td>ultra</td>\n",
       "      <td>10</td>\n",
       "      <td>1782.93</td>\n",
       "      <td>219300.00</td>\n",
       "    </tr>\n",
       "    <tr>\n",
       "      <th>22</th>\n",
       "      <td>ultra</td>\n",
       "      <td>11</td>\n",
       "      <td>1840.30</td>\n",
       "      <td>246600.00</td>\n",
       "    </tr>\n",
       "    <tr>\n",
       "      <th>23</th>\n",
       "      <td>ultra</td>\n",
       "      <td>12</td>\n",
       "      <td>1605.00</td>\n",
       "      <td>224700.00</td>\n",
       "    </tr>\n",
       "  </tbody>\n",
       "</table>\n",
       "</div>"
      ],
      "text/plain": [
       "   tariff  month    mean       sum\n",
       "0   smart      1 1605.88  54600.00\n",
       "1   smart      2 1027.59  59600.00\n",
       "2   smart      3  558.44  43000.00\n",
       "3   smart      4  730.36  81800.00\n",
       "4   smart      5  465.25  65600.00\n",
       "5   smart      6  459.76  75400.00\n",
       "6   smart      7  477.61  96000.00\n",
       "7   smart      8  365.11  85800.00\n",
       "8   smart      9  367.69  95600.00\n",
       "9   smart     10  372.79 109600.00\n",
       "10  smart     11  319.62 101000.00\n",
       "11  smart     12  231.95  78400.00\n",
       "12  ultra      1 2733.33  24600.00\n",
       "13  ultra      2 2925.00  70200.00\n",
       "14  ultra      3 2095.95  77550.00\n",
       "15  ultra      4 2203.64 121200.00\n",
       "16  ultra      5 1880.60 126000.00\n",
       "17  ultra      6 1919.64 161250.00\n",
       "18  ultra      7 1757.14 159900.00\n",
       "19  ultra      8 1861.68 199200.00\n",
       "20  ultra      9 1861.30 214050.00\n",
       "21  ultra     10 1782.93 219300.00\n",
       "22  ultra     11 1840.30 246600.00\n",
       "23  ultra     12 1605.00 224700.00"
      ]
     },
     "execution_count": 79,
     "metadata": {},
     "output_type": "execute_result"
    }
   ],
   "source": [
    "df_internet_traffic_per_month_with_user_info.pivot_table(index=['tariff', 'month'], values='pmnt_for_internet', aggfunc=('mean', 'sum')).reset_index().head(24)"
   ]
  },
  {
   "cell_type": "markdown",
   "id": "2616daf6",
   "metadata": {},
   "source": [
    "Исходя из таблицы, все доплачивают за интернет. Пользователи тарифа ultra, в целом, больше, чем smart. "
   ]
  },
  {
   "cell_type": "markdown",
   "id": "8b089687",
   "metadata": {},
   "source": [
    "#### Помесячная выручка с каждого пользователя"
   ]
  },
  {
   "cell_type": "markdown",
   "id": "7b6905b0",
   "metadata": {},
   "source": [
    "Уберем все ненужные колонки из получившихся таблиц. "
   ]
  },
  {
   "cell_type": "code",
   "execution_count": 80,
   "id": "47f89403",
   "metadata": {
    "scrolled": false
   },
   "outputs": [
    {
     "data": {
      "text/html": [
       "<div>\n",
       "<style scoped>\n",
       "    .dataframe tbody tr th:only-of-type {\n",
       "        vertical-align: middle;\n",
       "    }\n",
       "\n",
       "    .dataframe tbody tr th {\n",
       "        vertical-align: top;\n",
       "    }\n",
       "\n",
       "    .dataframe thead th {\n",
       "        text-align: right;\n",
       "    }\n",
       "</style>\n",
       "<table border=\"1\" class=\"dataframe\">\n",
       "  <thead>\n",
       "    <tr style=\"text-align: right;\">\n",
       "      <th></th>\n",
       "      <th>user_id</th>\n",
       "      <th>month</th>\n",
       "      <th>city</th>\n",
       "      <th>tariff</th>\n",
       "      <th>messages_included</th>\n",
       "      <th>mb_per_month_included</th>\n",
       "      <th>minutes_included</th>\n",
       "      <th>rub_monthly_fee</th>\n",
       "      <th>rub_per_gb</th>\n",
       "      <th>rub_per_message</th>\n",
       "      <th>rub_per_minute</th>\n",
       "      <th>duration_rounded_up</th>\n",
       "      <th>diff</th>\n",
       "      <th>minutes_to_pay</th>\n",
       "      <th>pay_for_call_extra</th>\n",
       "      <th>messages_qty</th>\n",
       "      <th>messages_extra</th>\n",
       "      <th>messages_to_pay</th>\n",
       "      <th>pmnt_for_extra_messages</th>\n",
       "      <th>mb_used_sum</th>\n",
       "      <th>gb_used_rounded_up</th>\n",
       "      <th>extra_mb</th>\n",
       "      <th>gb_for_pmnt</th>\n",
       "      <th>pmnt_for_internet</th>\n",
       "    </tr>\n",
       "  </thead>\n",
       "  <tbody>\n",
       "    <tr>\n",
       "      <th>0</th>\n",
       "      <td>1000</td>\n",
       "      <td>5</td>\n",
       "      <td>Краснодар</td>\n",
       "      <td>ultra</td>\n",
       "      <td>1000</td>\n",
       "      <td>30720</td>\n",
       "      <td>3000</td>\n",
       "      <td>1950</td>\n",
       "      <td>150</td>\n",
       "      <td>1</td>\n",
       "      <td>1</td>\n",
       "      <td>159.00</td>\n",
       "      <td>-2841.00</td>\n",
       "      <td>0.00</td>\n",
       "      <td>0.00</td>\n",
       "      <td>22.00</td>\n",
       "      <td>-978.00</td>\n",
       "      <td>0.00</td>\n",
       "      <td>0.00</td>\n",
       "      <td>2253.49</td>\n",
       "      <td>3.00</td>\n",
       "      <td>28466.51</td>\n",
       "      <td>29</td>\n",
       "      <td>4350</td>\n",
       "    </tr>\n",
       "    <tr>\n",
       "      <th>1</th>\n",
       "      <td>1000</td>\n",
       "      <td>6</td>\n",
       "      <td>Краснодар</td>\n",
       "      <td>ultra</td>\n",
       "      <td>1000</td>\n",
       "      <td>30720</td>\n",
       "      <td>3000</td>\n",
       "      <td>1950</td>\n",
       "      <td>150</td>\n",
       "      <td>1</td>\n",
       "      <td>1</td>\n",
       "      <td>172.00</td>\n",
       "      <td>-2828.00</td>\n",
       "      <td>0.00</td>\n",
       "      <td>0.00</td>\n",
       "      <td>60.00</td>\n",
       "      <td>-940.00</td>\n",
       "      <td>0.00</td>\n",
       "      <td>0.00</td>\n",
       "      <td>23233.77</td>\n",
       "      <td>24.00</td>\n",
       "      <td>7486.23</td>\n",
       "      <td>8</td>\n",
       "      <td>1200</td>\n",
       "    </tr>\n",
       "    <tr>\n",
       "      <th>2</th>\n",
       "      <td>1000</td>\n",
       "      <td>7</td>\n",
       "      <td>Краснодар</td>\n",
       "      <td>ultra</td>\n",
       "      <td>1000</td>\n",
       "      <td>30720</td>\n",
       "      <td>3000</td>\n",
       "      <td>1950</td>\n",
       "      <td>150</td>\n",
       "      <td>1</td>\n",
       "      <td>1</td>\n",
       "      <td>340.00</td>\n",
       "      <td>-2660.00</td>\n",
       "      <td>0.00</td>\n",
       "      <td>0.00</td>\n",
       "      <td>75.00</td>\n",
       "      <td>-925.00</td>\n",
       "      <td>0.00</td>\n",
       "      <td>0.00</td>\n",
       "      <td>14003.64</td>\n",
       "      <td>15.00</td>\n",
       "      <td>16716.36</td>\n",
       "      <td>17</td>\n",
       "      <td>2550</td>\n",
       "    </tr>\n",
       "    <tr>\n",
       "      <th>3</th>\n",
       "      <td>1000</td>\n",
       "      <td>8</td>\n",
       "      <td>Краснодар</td>\n",
       "      <td>ultra</td>\n",
       "      <td>1000</td>\n",
       "      <td>30720</td>\n",
       "      <td>3000</td>\n",
       "      <td>1950</td>\n",
       "      <td>150</td>\n",
       "      <td>1</td>\n",
       "      <td>1</td>\n",
       "      <td>408.00</td>\n",
       "      <td>-2592.00</td>\n",
       "      <td>0.00</td>\n",
       "      <td>0.00</td>\n",
       "      <td>81.00</td>\n",
       "      <td>-919.00</td>\n",
       "      <td>0.00</td>\n",
       "      <td>0.00</td>\n",
       "      <td>14055.93</td>\n",
       "      <td>15.00</td>\n",
       "      <td>16664.07</td>\n",
       "      <td>17</td>\n",
       "      <td>2550</td>\n",
       "    </tr>\n",
       "    <tr>\n",
       "      <th>4</th>\n",
       "      <td>1000</td>\n",
       "      <td>9</td>\n",
       "      <td>Краснодар</td>\n",
       "      <td>ultra</td>\n",
       "      <td>1000</td>\n",
       "      <td>30720</td>\n",
       "      <td>3000</td>\n",
       "      <td>1950</td>\n",
       "      <td>150</td>\n",
       "      <td>1</td>\n",
       "      <td>1</td>\n",
       "      <td>466.00</td>\n",
       "      <td>-2534.00</td>\n",
       "      <td>0.00</td>\n",
       "      <td>0.00</td>\n",
       "      <td>57.00</td>\n",
       "      <td>-943.00</td>\n",
       "      <td>0.00</td>\n",
       "      <td>0.00</td>\n",
       "      <td>14568.91</td>\n",
       "      <td>15.00</td>\n",
       "      <td>16151.09</td>\n",
       "      <td>17</td>\n",
       "      <td>2550</td>\n",
       "    </tr>\n",
       "    <tr>\n",
       "      <th>...</th>\n",
       "      <td>...</td>\n",
       "      <td>...</td>\n",
       "      <td>...</td>\n",
       "      <td>...</td>\n",
       "      <td>...</td>\n",
       "      <td>...</td>\n",
       "      <td>...</td>\n",
       "      <td>...</td>\n",
       "      <td>...</td>\n",
       "      <td>...</td>\n",
       "      <td>...</td>\n",
       "      <td>...</td>\n",
       "      <td>...</td>\n",
       "      <td>...</td>\n",
       "      <td>...</td>\n",
       "      <td>...</td>\n",
       "      <td>...</td>\n",
       "      <td>...</td>\n",
       "      <td>...</td>\n",
       "      <td>...</td>\n",
       "      <td>...</td>\n",
       "      <td>...</td>\n",
       "      <td>...</td>\n",
       "      <td>...</td>\n",
       "    </tr>\n",
       "    <tr>\n",
       "      <th>3211</th>\n",
       "      <td>1498</td>\n",
       "      <td>10</td>\n",
       "      <td>Владикавказ</td>\n",
       "      <td>smart</td>\n",
       "      <td>50</td>\n",
       "      <td>15360</td>\n",
       "      <td>500</td>\n",
       "      <td>550</td>\n",
       "      <td>200</td>\n",
       "      <td>3</td>\n",
       "      <td>3</td>\n",
       "      <td>247.00</td>\n",
       "      <td>-253.00</td>\n",
       "      <td>0.00</td>\n",
       "      <td>0.00</td>\n",
       "      <td>42.00</td>\n",
       "      <td>-8.00</td>\n",
       "      <td>0.00</td>\n",
       "      <td>0.00</td>\n",
       "      <td>20579.36</td>\n",
       "      <td>21.00</td>\n",
       "      <td>0.00</td>\n",
       "      <td>0</td>\n",
       "      <td>0</td>\n",
       "    </tr>\n",
       "    <tr>\n",
       "      <th>3212</th>\n",
       "      <td>1499</td>\n",
       "      <td>9</td>\n",
       "      <td>Пермь</td>\n",
       "      <td>smart</td>\n",
       "      <td>50</td>\n",
       "      <td>15360</td>\n",
       "      <td>500</td>\n",
       "      <td>550</td>\n",
       "      <td>200</td>\n",
       "      <td>3</td>\n",
       "      <td>3</td>\n",
       "      <td>70.00</td>\n",
       "      <td>-430.00</td>\n",
       "      <td>0.00</td>\n",
       "      <td>0.00</td>\n",
       "      <td>11.00</td>\n",
       "      <td>-39.00</td>\n",
       "      <td>0.00</td>\n",
       "      <td>0.00</td>\n",
       "      <td>1845.75</td>\n",
       "      <td>2.00</td>\n",
       "      <td>13514.25</td>\n",
       "      <td>14</td>\n",
       "      <td>2800</td>\n",
       "    </tr>\n",
       "    <tr>\n",
       "      <th>3213</th>\n",
       "      <td>1499</td>\n",
       "      <td>10</td>\n",
       "      <td>Пермь</td>\n",
       "      <td>smart</td>\n",
       "      <td>50</td>\n",
       "      <td>15360</td>\n",
       "      <td>500</td>\n",
       "      <td>550</td>\n",
       "      <td>200</td>\n",
       "      <td>3</td>\n",
       "      <td>3</td>\n",
       "      <td>449.00</td>\n",
       "      <td>-51.00</td>\n",
       "      <td>0.00</td>\n",
       "      <td>0.00</td>\n",
       "      <td>48.00</td>\n",
       "      <td>-2.00</td>\n",
       "      <td>0.00</td>\n",
       "      <td>0.00</td>\n",
       "      <td>17788.51</td>\n",
       "      <td>18.00</td>\n",
       "      <td>0.00</td>\n",
       "      <td>0</td>\n",
       "      <td>0</td>\n",
       "    </tr>\n",
       "    <tr>\n",
       "      <th>3214</th>\n",
       "      <td>1499</td>\n",
       "      <td>11</td>\n",
       "      <td>Пермь</td>\n",
       "      <td>smart</td>\n",
       "      <td>50</td>\n",
       "      <td>15360</td>\n",
       "      <td>500</td>\n",
       "      <td>550</td>\n",
       "      <td>200</td>\n",
       "      <td>3</td>\n",
       "      <td>3</td>\n",
       "      <td>612.00</td>\n",
       "      <td>112.00</td>\n",
       "      <td>112.00</td>\n",
       "      <td>336.00</td>\n",
       "      <td>59.00</td>\n",
       "      <td>9.00</td>\n",
       "      <td>9.00</td>\n",
       "      <td>27.00</td>\n",
       "      <td>17963.31</td>\n",
       "      <td>18.00</td>\n",
       "      <td>0.00</td>\n",
       "      <td>0</td>\n",
       "      <td>0</td>\n",
       "    </tr>\n",
       "    <tr>\n",
       "      <th>3215</th>\n",
       "      <td>1499</td>\n",
       "      <td>12</td>\n",
       "      <td>Пермь</td>\n",
       "      <td>smart</td>\n",
       "      <td>50</td>\n",
       "      <td>15360</td>\n",
       "      <td>500</td>\n",
       "      <td>550</td>\n",
       "      <td>200</td>\n",
       "      <td>3</td>\n",
       "      <td>3</td>\n",
       "      <td>492.00</td>\n",
       "      <td>-8.00</td>\n",
       "      <td>0.00</td>\n",
       "      <td>0.00</td>\n",
       "      <td>66.00</td>\n",
       "      <td>16.00</td>\n",
       "      <td>16.00</td>\n",
       "      <td>48.00</td>\n",
       "      <td>13055.58</td>\n",
       "      <td>14.00</td>\n",
       "      <td>2304.42</td>\n",
       "      <td>3</td>\n",
       "      <td>600</td>\n",
       "    </tr>\n",
       "  </tbody>\n",
       "</table>\n",
       "<p>3216 rows × 24 columns</p>\n",
       "</div>"
      ],
      "text/plain": [
       "      user_id  month         city tariff  messages_included  \\\n",
       "0        1000      5    Краснодар  ultra               1000   \n",
       "1        1000      6    Краснодар  ultra               1000   \n",
       "2        1000      7    Краснодар  ultra               1000   \n",
       "3        1000      8    Краснодар  ultra               1000   \n",
       "4        1000      9    Краснодар  ultra               1000   \n",
       "...       ...    ...          ...    ...                ...   \n",
       "3211     1498     10  Владикавказ  smart                 50   \n",
       "3212     1499      9        Пермь  smart                 50   \n",
       "3213     1499     10        Пермь  smart                 50   \n",
       "3214     1499     11        Пермь  smart                 50   \n",
       "3215     1499     12        Пермь  smart                 50   \n",
       "\n",
       "      mb_per_month_included  minutes_included  rub_monthly_fee  rub_per_gb  \\\n",
       "0                     30720              3000             1950         150   \n",
       "1                     30720              3000             1950         150   \n",
       "2                     30720              3000             1950         150   \n",
       "3                     30720              3000             1950         150   \n",
       "4                     30720              3000             1950         150   \n",
       "...                     ...               ...              ...         ...   \n",
       "3211                  15360               500              550         200   \n",
       "3212                  15360               500              550         200   \n",
       "3213                  15360               500              550         200   \n",
       "3214                  15360               500              550         200   \n",
       "3215                  15360               500              550         200   \n",
       "\n",
       "      rub_per_message  rub_per_minute  duration_rounded_up     diff  \\\n",
       "0                   1               1               159.00 -2841.00   \n",
       "1                   1               1               172.00 -2828.00   \n",
       "2                   1               1               340.00 -2660.00   \n",
       "3                   1               1               408.00 -2592.00   \n",
       "4                   1               1               466.00 -2534.00   \n",
       "...               ...             ...                  ...      ...   \n",
       "3211                3               3               247.00  -253.00   \n",
       "3212                3               3                70.00  -430.00   \n",
       "3213                3               3               449.00   -51.00   \n",
       "3214                3               3               612.00   112.00   \n",
       "3215                3               3               492.00    -8.00   \n",
       "\n",
       "      minutes_to_pay  pay_for_call_extra  messages_qty  messages_extra  \\\n",
       "0               0.00                0.00         22.00         -978.00   \n",
       "1               0.00                0.00         60.00         -940.00   \n",
       "2               0.00                0.00         75.00         -925.00   \n",
       "3               0.00                0.00         81.00         -919.00   \n",
       "4               0.00                0.00         57.00         -943.00   \n",
       "...              ...                 ...           ...             ...   \n",
       "3211            0.00                0.00         42.00           -8.00   \n",
       "3212            0.00                0.00         11.00          -39.00   \n",
       "3213            0.00                0.00         48.00           -2.00   \n",
       "3214          112.00              336.00         59.00            9.00   \n",
       "3215            0.00                0.00         66.00           16.00   \n",
       "\n",
       "      messages_to_pay  pmnt_for_extra_messages  mb_used_sum  \\\n",
       "0                0.00                     0.00      2253.49   \n",
       "1                0.00                     0.00     23233.77   \n",
       "2                0.00                     0.00     14003.64   \n",
       "3                0.00                     0.00     14055.93   \n",
       "4                0.00                     0.00     14568.91   \n",
       "...               ...                      ...          ...   \n",
       "3211             0.00                     0.00     20579.36   \n",
       "3212             0.00                     0.00      1845.75   \n",
       "3213             0.00                     0.00     17788.51   \n",
       "3214             9.00                    27.00     17963.31   \n",
       "3215            16.00                    48.00     13055.58   \n",
       "\n",
       "      gb_used_rounded_up  extra_mb  gb_for_pmnt  pmnt_for_internet  \n",
       "0                   3.00  28466.51           29               4350  \n",
       "1                  24.00   7486.23            8               1200  \n",
       "2                  15.00  16716.36           17               2550  \n",
       "3                  15.00  16664.07           17               2550  \n",
       "4                  15.00  16151.09           17               2550  \n",
       "...                  ...       ...          ...                ...  \n",
       "3211               21.00      0.00            0                  0  \n",
       "3212                2.00  13514.25           14               2800  \n",
       "3213               18.00      0.00            0                  0  \n",
       "3214               18.00      0.00            0                  0  \n",
       "3215               14.00   2304.42            3                600  \n",
       "\n",
       "[3216 rows x 24 columns]"
      ]
     },
     "execution_count": 80,
     "metadata": {},
     "output_type": "execute_result"
    }
   ],
   "source": [
    "df_internet_traffic_per_month_with_user_info"
   ]
  },
  {
   "cell_type": "code",
   "execution_count": 81,
   "id": "823e9b53",
   "metadata": {},
   "outputs": [
    {
     "data": {
      "text/html": [
       "<div>\n",
       "<style scoped>\n",
       "    .dataframe tbody tr th:only-of-type {\n",
       "        vertical-align: middle;\n",
       "    }\n",
       "\n",
       "    .dataframe tbody tr th {\n",
       "        vertical-align: top;\n",
       "    }\n",
       "\n",
       "    .dataframe thead th {\n",
       "        text-align: right;\n",
       "    }\n",
       "</style>\n",
       "<table border=\"1\" class=\"dataframe\">\n",
       "  <thead>\n",
       "    <tr style=\"text-align: right;\">\n",
       "      <th></th>\n",
       "      <th>user_id</th>\n",
       "      <th>month</th>\n",
       "      <th>city</th>\n",
       "      <th>tariff</th>\n",
       "      <th>rub_monthly_fee</th>\n",
       "      <th>duration_rounded_up</th>\n",
       "      <th>pay_for_call_extra</th>\n",
       "      <th>messages_qty</th>\n",
       "      <th>pmnt_for_extra_messages</th>\n",
       "      <th>mb_used_sum</th>\n",
       "      <th>pmnt_for_internet</th>\n",
       "    </tr>\n",
       "  </thead>\n",
       "  <tbody>\n",
       "    <tr>\n",
       "      <th>0</th>\n",
       "      <td>1000</td>\n",
       "      <td>5</td>\n",
       "      <td>Краснодар</td>\n",
       "      <td>ultra</td>\n",
       "      <td>1950</td>\n",
       "      <td>159.00</td>\n",
       "      <td>0.00</td>\n",
       "      <td>22.00</td>\n",
       "      <td>0.00</td>\n",
       "      <td>2253.49</td>\n",
       "      <td>4350</td>\n",
       "    </tr>\n",
       "    <tr>\n",
       "      <th>1</th>\n",
       "      <td>1000</td>\n",
       "      <td>6</td>\n",
       "      <td>Краснодар</td>\n",
       "      <td>ultra</td>\n",
       "      <td>1950</td>\n",
       "      <td>172.00</td>\n",
       "      <td>0.00</td>\n",
       "      <td>60.00</td>\n",
       "      <td>0.00</td>\n",
       "      <td>23233.77</td>\n",
       "      <td>1200</td>\n",
       "    </tr>\n",
       "    <tr>\n",
       "      <th>2</th>\n",
       "      <td>1000</td>\n",
       "      <td>7</td>\n",
       "      <td>Краснодар</td>\n",
       "      <td>ultra</td>\n",
       "      <td>1950</td>\n",
       "      <td>340.00</td>\n",
       "      <td>0.00</td>\n",
       "      <td>75.00</td>\n",
       "      <td>0.00</td>\n",
       "      <td>14003.64</td>\n",
       "      <td>2550</td>\n",
       "    </tr>\n",
       "    <tr>\n",
       "      <th>3</th>\n",
       "      <td>1000</td>\n",
       "      <td>8</td>\n",
       "      <td>Краснодар</td>\n",
       "      <td>ultra</td>\n",
       "      <td>1950</td>\n",
       "      <td>408.00</td>\n",
       "      <td>0.00</td>\n",
       "      <td>81.00</td>\n",
       "      <td>0.00</td>\n",
       "      <td>14055.93</td>\n",
       "      <td>2550</td>\n",
       "    </tr>\n",
       "    <tr>\n",
       "      <th>4</th>\n",
       "      <td>1000</td>\n",
       "      <td>9</td>\n",
       "      <td>Краснодар</td>\n",
       "      <td>ultra</td>\n",
       "      <td>1950</td>\n",
       "      <td>466.00</td>\n",
       "      <td>0.00</td>\n",
       "      <td>57.00</td>\n",
       "      <td>0.00</td>\n",
       "      <td>14568.91</td>\n",
       "      <td>2550</td>\n",
       "    </tr>\n",
       "    <tr>\n",
       "      <th>...</th>\n",
       "      <td>...</td>\n",
       "      <td>...</td>\n",
       "      <td>...</td>\n",
       "      <td>...</td>\n",
       "      <td>...</td>\n",
       "      <td>...</td>\n",
       "      <td>...</td>\n",
       "      <td>...</td>\n",
       "      <td>...</td>\n",
       "      <td>...</td>\n",
       "      <td>...</td>\n",
       "    </tr>\n",
       "    <tr>\n",
       "      <th>3211</th>\n",
       "      <td>1498</td>\n",
       "      <td>10</td>\n",
       "      <td>Владикавказ</td>\n",
       "      <td>smart</td>\n",
       "      <td>550</td>\n",
       "      <td>247.00</td>\n",
       "      <td>0.00</td>\n",
       "      <td>42.00</td>\n",
       "      <td>0.00</td>\n",
       "      <td>20579.36</td>\n",
       "      <td>0</td>\n",
       "    </tr>\n",
       "    <tr>\n",
       "      <th>3212</th>\n",
       "      <td>1499</td>\n",
       "      <td>9</td>\n",
       "      <td>Пермь</td>\n",
       "      <td>smart</td>\n",
       "      <td>550</td>\n",
       "      <td>70.00</td>\n",
       "      <td>0.00</td>\n",
       "      <td>11.00</td>\n",
       "      <td>0.00</td>\n",
       "      <td>1845.75</td>\n",
       "      <td>2800</td>\n",
       "    </tr>\n",
       "    <tr>\n",
       "      <th>3213</th>\n",
       "      <td>1499</td>\n",
       "      <td>10</td>\n",
       "      <td>Пермь</td>\n",
       "      <td>smart</td>\n",
       "      <td>550</td>\n",
       "      <td>449.00</td>\n",
       "      <td>0.00</td>\n",
       "      <td>48.00</td>\n",
       "      <td>0.00</td>\n",
       "      <td>17788.51</td>\n",
       "      <td>0</td>\n",
       "    </tr>\n",
       "    <tr>\n",
       "      <th>3214</th>\n",
       "      <td>1499</td>\n",
       "      <td>11</td>\n",
       "      <td>Пермь</td>\n",
       "      <td>smart</td>\n",
       "      <td>550</td>\n",
       "      <td>612.00</td>\n",
       "      <td>336.00</td>\n",
       "      <td>59.00</td>\n",
       "      <td>27.00</td>\n",
       "      <td>17963.31</td>\n",
       "      <td>0</td>\n",
       "    </tr>\n",
       "    <tr>\n",
       "      <th>3215</th>\n",
       "      <td>1499</td>\n",
       "      <td>12</td>\n",
       "      <td>Пермь</td>\n",
       "      <td>smart</td>\n",
       "      <td>550</td>\n",
       "      <td>492.00</td>\n",
       "      <td>0.00</td>\n",
       "      <td>66.00</td>\n",
       "      <td>48.00</td>\n",
       "      <td>13055.58</td>\n",
       "      <td>600</td>\n",
       "    </tr>\n",
       "  </tbody>\n",
       "</table>\n",
       "<p>3216 rows × 11 columns</p>\n",
       "</div>"
      ],
      "text/plain": [
       "      user_id  month         city tariff  rub_monthly_fee  \\\n",
       "0        1000      5    Краснодар  ultra             1950   \n",
       "1        1000      6    Краснодар  ultra             1950   \n",
       "2        1000      7    Краснодар  ultra             1950   \n",
       "3        1000      8    Краснодар  ultra             1950   \n",
       "4        1000      9    Краснодар  ultra             1950   \n",
       "...       ...    ...          ...    ...              ...   \n",
       "3211     1498     10  Владикавказ  smart              550   \n",
       "3212     1499      9        Пермь  smart              550   \n",
       "3213     1499     10        Пермь  smart              550   \n",
       "3214     1499     11        Пермь  smart              550   \n",
       "3215     1499     12        Пермь  smart              550   \n",
       "\n",
       "      duration_rounded_up  pay_for_call_extra  messages_qty  \\\n",
       "0                  159.00                0.00         22.00   \n",
       "1                  172.00                0.00         60.00   \n",
       "2                  340.00                0.00         75.00   \n",
       "3                  408.00                0.00         81.00   \n",
       "4                  466.00                0.00         57.00   \n",
       "...                   ...                 ...           ...   \n",
       "3211               247.00                0.00         42.00   \n",
       "3212                70.00                0.00         11.00   \n",
       "3213               449.00                0.00         48.00   \n",
       "3214               612.00              336.00         59.00   \n",
       "3215               492.00                0.00         66.00   \n",
       "\n",
       "      pmnt_for_extra_messages  mb_used_sum  pmnt_for_internet  \n",
       "0                        0.00      2253.49               4350  \n",
       "1                        0.00     23233.77               1200  \n",
       "2                        0.00     14003.64               2550  \n",
       "3                        0.00     14055.93               2550  \n",
       "4                        0.00     14568.91               2550  \n",
       "...                       ...          ...                ...  \n",
       "3211                     0.00     20579.36                  0  \n",
       "3212                     0.00      1845.75               2800  \n",
       "3213                     0.00     17788.51                  0  \n",
       "3214                    27.00     17963.31                  0  \n",
       "3215                    48.00     13055.58                600  \n",
       "\n",
       "[3216 rows x 11 columns]"
      ]
     },
     "execution_count": 81,
     "metadata": {},
     "output_type": "execute_result"
    }
   ],
   "source": [
    "df_general=df_internet_traffic_per_month_with_user_info[['user_id', 'month', 'city', 'tariff', 'rub_monthly_fee', 'duration_rounded_up', 'pay_for_call_extra', 'messages_qty', 'pmnt_for_extra_messages', 'mb_used_sum', 'pmnt_for_internet']]\n",
    "df_general"
   ]
  },
  {
   "cell_type": "markdown",
   "id": "10df2ad1",
   "metadata": {},
   "source": [
    "Найдем помесячную выручку с каждого пользователя. "
   ]
  },
  {
   "cell_type": "code",
   "execution_count": 82,
   "id": "05d67799",
   "metadata": {},
   "outputs": [
    {
     "data": {
      "text/html": [
       "<div>\n",
       "<style scoped>\n",
       "    .dataframe tbody tr th:only-of-type {\n",
       "        vertical-align: middle;\n",
       "    }\n",
       "\n",
       "    .dataframe tbody tr th {\n",
       "        vertical-align: top;\n",
       "    }\n",
       "\n",
       "    .dataframe thead th {\n",
       "        text-align: right;\n",
       "    }\n",
       "</style>\n",
       "<table border=\"1\" class=\"dataframe\">\n",
       "  <thead>\n",
       "    <tr style=\"text-align: right;\">\n",
       "      <th></th>\n",
       "      <th>user_id</th>\n",
       "      <th>month</th>\n",
       "      <th>city</th>\n",
       "      <th>tariff</th>\n",
       "      <th>rub_monthly_fee</th>\n",
       "      <th>duration_rounded_up</th>\n",
       "      <th>pay_for_call_extra</th>\n",
       "      <th>messages_qty</th>\n",
       "      <th>pmnt_for_extra_messages</th>\n",
       "      <th>mb_used_sum</th>\n",
       "      <th>pmnt_for_internet</th>\n",
       "      <th>bill_per_month</th>\n",
       "    </tr>\n",
       "  </thead>\n",
       "  <tbody>\n",
       "    <tr>\n",
       "      <th>0</th>\n",
       "      <td>1000</td>\n",
       "      <td>5</td>\n",
       "      <td>Краснодар</td>\n",
       "      <td>ultra</td>\n",
       "      <td>1950</td>\n",
       "      <td>159.00</td>\n",
       "      <td>0.00</td>\n",
       "      <td>22.00</td>\n",
       "      <td>0.00</td>\n",
       "      <td>2253.49</td>\n",
       "      <td>4350</td>\n",
       "      <td>6300.00</td>\n",
       "    </tr>\n",
       "    <tr>\n",
       "      <th>1</th>\n",
       "      <td>1000</td>\n",
       "      <td>6</td>\n",
       "      <td>Краснодар</td>\n",
       "      <td>ultra</td>\n",
       "      <td>1950</td>\n",
       "      <td>172.00</td>\n",
       "      <td>0.00</td>\n",
       "      <td>60.00</td>\n",
       "      <td>0.00</td>\n",
       "      <td>23233.77</td>\n",
       "      <td>1200</td>\n",
       "      <td>3150.00</td>\n",
       "    </tr>\n",
       "    <tr>\n",
       "      <th>2</th>\n",
       "      <td>1000</td>\n",
       "      <td>7</td>\n",
       "      <td>Краснодар</td>\n",
       "      <td>ultra</td>\n",
       "      <td>1950</td>\n",
       "      <td>340.00</td>\n",
       "      <td>0.00</td>\n",
       "      <td>75.00</td>\n",
       "      <td>0.00</td>\n",
       "      <td>14003.64</td>\n",
       "      <td>2550</td>\n",
       "      <td>4500.00</td>\n",
       "    </tr>\n",
       "    <tr>\n",
       "      <th>3</th>\n",
       "      <td>1000</td>\n",
       "      <td>8</td>\n",
       "      <td>Краснодар</td>\n",
       "      <td>ultra</td>\n",
       "      <td>1950</td>\n",
       "      <td>408.00</td>\n",
       "      <td>0.00</td>\n",
       "      <td>81.00</td>\n",
       "      <td>0.00</td>\n",
       "      <td>14055.93</td>\n",
       "      <td>2550</td>\n",
       "      <td>4500.00</td>\n",
       "    </tr>\n",
       "    <tr>\n",
       "      <th>4</th>\n",
       "      <td>1000</td>\n",
       "      <td>9</td>\n",
       "      <td>Краснодар</td>\n",
       "      <td>ultra</td>\n",
       "      <td>1950</td>\n",
       "      <td>466.00</td>\n",
       "      <td>0.00</td>\n",
       "      <td>57.00</td>\n",
       "      <td>0.00</td>\n",
       "      <td>14568.91</td>\n",
       "      <td>2550</td>\n",
       "      <td>4500.00</td>\n",
       "    </tr>\n",
       "    <tr>\n",
       "      <th>...</th>\n",
       "      <td>...</td>\n",
       "      <td>...</td>\n",
       "      <td>...</td>\n",
       "      <td>...</td>\n",
       "      <td>...</td>\n",
       "      <td>...</td>\n",
       "      <td>...</td>\n",
       "      <td>...</td>\n",
       "      <td>...</td>\n",
       "      <td>...</td>\n",
       "      <td>...</td>\n",
       "      <td>...</td>\n",
       "    </tr>\n",
       "    <tr>\n",
       "      <th>3211</th>\n",
       "      <td>1498</td>\n",
       "      <td>10</td>\n",
       "      <td>Владикавказ</td>\n",
       "      <td>smart</td>\n",
       "      <td>550</td>\n",
       "      <td>247.00</td>\n",
       "      <td>0.00</td>\n",
       "      <td>42.00</td>\n",
       "      <td>0.00</td>\n",
       "      <td>20579.36</td>\n",
       "      <td>0</td>\n",
       "      <td>550.00</td>\n",
       "    </tr>\n",
       "    <tr>\n",
       "      <th>3212</th>\n",
       "      <td>1499</td>\n",
       "      <td>9</td>\n",
       "      <td>Пермь</td>\n",
       "      <td>smart</td>\n",
       "      <td>550</td>\n",
       "      <td>70.00</td>\n",
       "      <td>0.00</td>\n",
       "      <td>11.00</td>\n",
       "      <td>0.00</td>\n",
       "      <td>1845.75</td>\n",
       "      <td>2800</td>\n",
       "      <td>3350.00</td>\n",
       "    </tr>\n",
       "    <tr>\n",
       "      <th>3213</th>\n",
       "      <td>1499</td>\n",
       "      <td>10</td>\n",
       "      <td>Пермь</td>\n",
       "      <td>smart</td>\n",
       "      <td>550</td>\n",
       "      <td>449.00</td>\n",
       "      <td>0.00</td>\n",
       "      <td>48.00</td>\n",
       "      <td>0.00</td>\n",
       "      <td>17788.51</td>\n",
       "      <td>0</td>\n",
       "      <td>550.00</td>\n",
       "    </tr>\n",
       "    <tr>\n",
       "      <th>3214</th>\n",
       "      <td>1499</td>\n",
       "      <td>11</td>\n",
       "      <td>Пермь</td>\n",
       "      <td>smart</td>\n",
       "      <td>550</td>\n",
       "      <td>612.00</td>\n",
       "      <td>336.00</td>\n",
       "      <td>59.00</td>\n",
       "      <td>27.00</td>\n",
       "      <td>17963.31</td>\n",
       "      <td>0</td>\n",
       "      <td>913.00</td>\n",
       "    </tr>\n",
       "    <tr>\n",
       "      <th>3215</th>\n",
       "      <td>1499</td>\n",
       "      <td>12</td>\n",
       "      <td>Пермь</td>\n",
       "      <td>smart</td>\n",
       "      <td>550</td>\n",
       "      <td>492.00</td>\n",
       "      <td>0.00</td>\n",
       "      <td>66.00</td>\n",
       "      <td>48.00</td>\n",
       "      <td>13055.58</td>\n",
       "      <td>600</td>\n",
       "      <td>1198.00</td>\n",
       "    </tr>\n",
       "  </tbody>\n",
       "</table>\n",
       "<p>3216 rows × 12 columns</p>\n",
       "</div>"
      ],
      "text/plain": [
       "      user_id  month         city tariff  rub_monthly_fee  \\\n",
       "0        1000      5    Краснодар  ultra             1950   \n",
       "1        1000      6    Краснодар  ultra             1950   \n",
       "2        1000      7    Краснодар  ultra             1950   \n",
       "3        1000      8    Краснодар  ultra             1950   \n",
       "4        1000      9    Краснодар  ultra             1950   \n",
       "...       ...    ...          ...    ...              ...   \n",
       "3211     1498     10  Владикавказ  smart              550   \n",
       "3212     1499      9        Пермь  smart              550   \n",
       "3213     1499     10        Пермь  smart              550   \n",
       "3214     1499     11        Пермь  smart              550   \n",
       "3215     1499     12        Пермь  smart              550   \n",
       "\n",
       "      duration_rounded_up  pay_for_call_extra  messages_qty  \\\n",
       "0                  159.00                0.00         22.00   \n",
       "1                  172.00                0.00         60.00   \n",
       "2                  340.00                0.00         75.00   \n",
       "3                  408.00                0.00         81.00   \n",
       "4                  466.00                0.00         57.00   \n",
       "...                   ...                 ...           ...   \n",
       "3211               247.00                0.00         42.00   \n",
       "3212                70.00                0.00         11.00   \n",
       "3213               449.00                0.00         48.00   \n",
       "3214               612.00              336.00         59.00   \n",
       "3215               492.00                0.00         66.00   \n",
       "\n",
       "      pmnt_for_extra_messages  mb_used_sum  pmnt_for_internet  bill_per_month  \n",
       "0                        0.00      2253.49               4350         6300.00  \n",
       "1                        0.00     23233.77               1200         3150.00  \n",
       "2                        0.00     14003.64               2550         4500.00  \n",
       "3                        0.00     14055.93               2550         4500.00  \n",
       "4                        0.00     14568.91               2550         4500.00  \n",
       "...                       ...          ...                ...             ...  \n",
       "3211                     0.00     20579.36                  0          550.00  \n",
       "3212                     0.00      1845.75               2800         3350.00  \n",
       "3213                     0.00     17788.51                  0          550.00  \n",
       "3214                    27.00     17963.31                  0          913.00  \n",
       "3215                    48.00     13055.58                600         1198.00  \n",
       "\n",
       "[3216 rows x 12 columns]"
      ]
     },
     "execution_count": 82,
     "metadata": {},
     "output_type": "execute_result"
    }
   ],
   "source": [
    "df_general['bill_per_month'] = (df_general['rub_monthly_fee'] + df_general['pay_for_call_extra'] + df_general['pmnt_for_extra_messages'] + df_general['pmnt_for_internet'])\n",
    "df_general"
   ]
  },
  {
   "cell_type": "code",
   "execution_count": 83,
   "id": "00932c73",
   "metadata": {
    "scrolled": true
   },
   "outputs": [
    {
     "data": {
      "text/plain": [
       "500"
      ]
     },
     "execution_count": 83,
     "metadata": {},
     "output_type": "execute_result"
    }
   ],
   "source": [
    "df_general['user_id'].nunique()"
   ]
  },
  {
   "cell_type": "code",
   "execution_count": 84,
   "id": "1d3db6a2",
   "metadata": {},
   "outputs": [
    {
     "data": {
      "text/plain": [
       "count   3216.00\n",
       "mean    1945.63\n",
       "std     1565.58\n",
       "min      550.00\n",
       "25%      642.25\n",
       "50%     1350.00\n",
       "75%     2802.50\n",
       "max     6600.00\n",
       "Name: bill_per_month, dtype: float64"
      ]
     },
     "execution_count": 84,
     "metadata": {},
     "output_type": "execute_result"
    }
   ],
   "source": [
    "df_general['bill_per_month'].describe()"
   ]
  },
  {
   "cell_type": "markdown",
   "id": "b3ca4c57",
   "metadata": {},
   "source": [
    "Мы получили данные о том, сколько каждый пользователь платил в каждом месяце, составленные из его абонентской платы и оплаты дополнительно израсходованных минут, смс и интернета, оставили в таблице данные о количестве использованных минут, отправленных смс и потраченных мб интернет-трафика для дальнейшего анализа. "
   ]
  },
  {
   "cell_type": "markdown",
   "id": "1e6492e7",
   "metadata": {},
   "source": [
    "Изучим полученную информацию. "
   ]
  },
  {
   "cell_type": "markdown",
   "id": "b0aa8c0a",
   "metadata": {},
   "source": [
    "# 3. Анализ данных"
   ]
  },
  {
   "cell_type": "markdown",
   "id": "b31ade38",
   "metadata": {},
   "source": [
    "Опишем поведение клиентов оператора, исходя из выборки. \n",
    "- Сколько минут разговора, сколько сообщений и какой объём интернет-трафика требуется пользователям каждого тарифа в месяц? \n",
    "- Посчитаем среднее количество, дисперсию и стандартное отклонение. \n",
    "- Построим гистограммы и опишем распределения."
   ]
  },
  {
   "cell_type": "markdown",
   "id": "f794c7ad",
   "metadata": {},
   "source": [
    "#### Минуты разговора"
   ]
  },
  {
   "cell_type": "markdown",
   "id": "6a1b5081",
   "metadata": {},
   "source": [
    "Отделим тарифы, сделаем сводные таблицы и рассмотрим графики распределений минут по месяцам. "
   ]
  },
  {
   "cell_type": "code",
   "execution_count": 85,
   "id": "fcc3186c",
   "metadata": {},
   "outputs": [
    {
     "data": {
      "text/html": [
       "<div>\n",
       "<style scoped>\n",
       "    .dataframe tbody tr th:only-of-type {\n",
       "        vertical-align: middle;\n",
       "    }\n",
       "\n",
       "    .dataframe tbody tr th {\n",
       "        vertical-align: top;\n",
       "    }\n",
       "\n",
       "    .dataframe thead th {\n",
       "        text-align: right;\n",
       "    }\n",
       "</style>\n",
       "<table border=\"1\" class=\"dataframe\">\n",
       "  <thead>\n",
       "    <tr style=\"text-align: right;\">\n",
       "      <th></th>\n",
       "      <th>user_id</th>\n",
       "      <th>month</th>\n",
       "      <th>city</th>\n",
       "      <th>tariff</th>\n",
       "      <th>rub_monthly_fee</th>\n",
       "      <th>duration_rounded_up</th>\n",
       "      <th>pay_for_call_extra</th>\n",
       "      <th>messages_qty</th>\n",
       "      <th>pmnt_for_extra_messages</th>\n",
       "      <th>mb_used_sum</th>\n",
       "      <th>pmnt_for_internet</th>\n",
       "      <th>bill_per_month</th>\n",
       "    </tr>\n",
       "  </thead>\n",
       "  <tbody>\n",
       "    <tr>\n",
       "      <th>8</th>\n",
       "      <td>1001</td>\n",
       "      <td>11</td>\n",
       "      <td>Москва</td>\n",
       "      <td>smart</td>\n",
       "      <td>550</td>\n",
       "      <td>430.00</td>\n",
       "      <td>0.00</td>\n",
       "      <td>0.00</td>\n",
       "      <td>0.00</td>\n",
       "      <td>18429.34</td>\n",
       "      <td>0</td>\n",
       "      <td>550.00</td>\n",
       "    </tr>\n",
       "    <tr>\n",
       "      <th>9</th>\n",
       "      <td>1001</td>\n",
       "      <td>12</td>\n",
       "      <td>Москва</td>\n",
       "      <td>smart</td>\n",
       "      <td>550</td>\n",
       "      <td>414.00</td>\n",
       "      <td>0.00</td>\n",
       "      <td>0.00</td>\n",
       "      <td>0.00</td>\n",
       "      <td>14036.66</td>\n",
       "      <td>400</td>\n",
       "      <td>950.00</td>\n",
       "    </tr>\n",
       "    <tr>\n",
       "      <th>10</th>\n",
       "      <td>1002</td>\n",
       "      <td>6</td>\n",
       "      <td>Стерлитамак</td>\n",
       "      <td>smart</td>\n",
       "      <td>550</td>\n",
       "      <td>117.00</td>\n",
       "      <td>0.00</td>\n",
       "      <td>4.00</td>\n",
       "      <td>0.00</td>\n",
       "      <td>10856.82</td>\n",
       "      <td>1000</td>\n",
       "      <td>1550.00</td>\n",
       "    </tr>\n",
       "    <tr>\n",
       "      <th>11</th>\n",
       "      <td>1002</td>\n",
       "      <td>7</td>\n",
       "      <td>Стерлитамак</td>\n",
       "      <td>smart</td>\n",
       "      <td>550</td>\n",
       "      <td>214.00</td>\n",
       "      <td>0.00</td>\n",
       "      <td>11.00</td>\n",
       "      <td>0.00</td>\n",
       "      <td>17580.10</td>\n",
       "      <td>0</td>\n",
       "      <td>550.00</td>\n",
       "    </tr>\n",
       "    <tr>\n",
       "      <th>12</th>\n",
       "      <td>1002</td>\n",
       "      <td>8</td>\n",
       "      <td>Стерлитамак</td>\n",
       "      <td>smart</td>\n",
       "      <td>550</td>\n",
       "      <td>289.00</td>\n",
       "      <td>0.00</td>\n",
       "      <td>13.00</td>\n",
       "      <td>0.00</td>\n",
       "      <td>20319.26</td>\n",
       "      <td>0</td>\n",
       "      <td>550.00</td>\n",
       "    </tr>\n",
       "  </tbody>\n",
       "</table>\n",
       "</div>"
      ],
      "text/plain": [
       "    user_id  month         city tariff  rub_monthly_fee  duration_rounded_up  \\\n",
       "8      1001     11       Москва  smart              550               430.00   \n",
       "9      1001     12       Москва  smart              550               414.00   \n",
       "10     1002      6  Стерлитамак  smart              550               117.00   \n",
       "11     1002      7  Стерлитамак  smart              550               214.00   \n",
       "12     1002      8  Стерлитамак  smart              550               289.00   \n",
       "\n",
       "    pay_for_call_extra  messages_qty  pmnt_for_extra_messages  mb_used_sum  \\\n",
       "8                 0.00          0.00                     0.00     18429.34   \n",
       "9                 0.00          0.00                     0.00     14036.66   \n",
       "10                0.00          4.00                     0.00     10856.82   \n",
       "11                0.00         11.00                     0.00     17580.10   \n",
       "12                0.00         13.00                     0.00     20319.26   \n",
       "\n",
       "    pmnt_for_internet  bill_per_month  \n",
       "8                   0          550.00  \n",
       "9                 400          950.00  \n",
       "10               1000         1550.00  \n",
       "11                  0          550.00  \n",
       "12                  0          550.00  "
      ]
     },
     "execution_count": 85,
     "metadata": {},
     "output_type": "execute_result"
    }
   ],
   "source": [
    "merged_total_smart=df_general.query('tariff==\"smart\"')\n",
    "merged_total_smart.head()"
   ]
  },
  {
   "cell_type": "code",
   "execution_count": 86,
   "id": "32b4c1aa",
   "metadata": {},
   "outputs": [
    {
     "data": {
      "text/html": [
       "<div>\n",
       "<style scoped>\n",
       "    .dataframe tbody tr th:only-of-type {\n",
       "        vertical-align: middle;\n",
       "    }\n",
       "\n",
       "    .dataframe tbody tr th {\n",
       "        vertical-align: top;\n",
       "    }\n",
       "\n",
       "    .dataframe thead th {\n",
       "        text-align: right;\n",
       "    }\n",
       "</style>\n",
       "<table border=\"1\" class=\"dataframe\">\n",
       "  <thead>\n",
       "    <tr style=\"text-align: right;\">\n",
       "      <th></th>\n",
       "      <th>user_id</th>\n",
       "      <th>month</th>\n",
       "      <th>city</th>\n",
       "      <th>tariff</th>\n",
       "      <th>rub_monthly_fee</th>\n",
       "      <th>duration_rounded_up</th>\n",
       "      <th>pay_for_call_extra</th>\n",
       "      <th>messages_qty</th>\n",
       "      <th>pmnt_for_extra_messages</th>\n",
       "      <th>mb_used_sum</th>\n",
       "      <th>pmnt_for_internet</th>\n",
       "      <th>bill_per_month</th>\n",
       "    </tr>\n",
       "  </thead>\n",
       "  <tbody>\n",
       "    <tr>\n",
       "      <th>0</th>\n",
       "      <td>1000</td>\n",
       "      <td>5</td>\n",
       "      <td>Краснодар</td>\n",
       "      <td>ultra</td>\n",
       "      <td>1950</td>\n",
       "      <td>159.00</td>\n",
       "      <td>0.00</td>\n",
       "      <td>22.00</td>\n",
       "      <td>0.00</td>\n",
       "      <td>2253.49</td>\n",
       "      <td>4350</td>\n",
       "      <td>6300.00</td>\n",
       "    </tr>\n",
       "    <tr>\n",
       "      <th>1</th>\n",
       "      <td>1000</td>\n",
       "      <td>6</td>\n",
       "      <td>Краснодар</td>\n",
       "      <td>ultra</td>\n",
       "      <td>1950</td>\n",
       "      <td>172.00</td>\n",
       "      <td>0.00</td>\n",
       "      <td>60.00</td>\n",
       "      <td>0.00</td>\n",
       "      <td>23233.77</td>\n",
       "      <td>1200</td>\n",
       "      <td>3150.00</td>\n",
       "    </tr>\n",
       "    <tr>\n",
       "      <th>2</th>\n",
       "      <td>1000</td>\n",
       "      <td>7</td>\n",
       "      <td>Краснодар</td>\n",
       "      <td>ultra</td>\n",
       "      <td>1950</td>\n",
       "      <td>340.00</td>\n",
       "      <td>0.00</td>\n",
       "      <td>75.00</td>\n",
       "      <td>0.00</td>\n",
       "      <td>14003.64</td>\n",
       "      <td>2550</td>\n",
       "      <td>4500.00</td>\n",
       "    </tr>\n",
       "    <tr>\n",
       "      <th>3</th>\n",
       "      <td>1000</td>\n",
       "      <td>8</td>\n",
       "      <td>Краснодар</td>\n",
       "      <td>ultra</td>\n",
       "      <td>1950</td>\n",
       "      <td>408.00</td>\n",
       "      <td>0.00</td>\n",
       "      <td>81.00</td>\n",
       "      <td>0.00</td>\n",
       "      <td>14055.93</td>\n",
       "      <td>2550</td>\n",
       "      <td>4500.00</td>\n",
       "    </tr>\n",
       "    <tr>\n",
       "      <th>4</th>\n",
       "      <td>1000</td>\n",
       "      <td>9</td>\n",
       "      <td>Краснодар</td>\n",
       "      <td>ultra</td>\n",
       "      <td>1950</td>\n",
       "      <td>466.00</td>\n",
       "      <td>0.00</td>\n",
       "      <td>57.00</td>\n",
       "      <td>0.00</td>\n",
       "      <td>14568.91</td>\n",
       "      <td>2550</td>\n",
       "      <td>4500.00</td>\n",
       "    </tr>\n",
       "  </tbody>\n",
       "</table>\n",
       "</div>"
      ],
      "text/plain": [
       "   user_id  month       city tariff  rub_monthly_fee  duration_rounded_up  \\\n",
       "0     1000      5  Краснодар  ultra             1950               159.00   \n",
       "1     1000      6  Краснодар  ultra             1950               172.00   \n",
       "2     1000      7  Краснодар  ultra             1950               340.00   \n",
       "3     1000      8  Краснодар  ultra             1950               408.00   \n",
       "4     1000      9  Краснодар  ultra             1950               466.00   \n",
       "\n",
       "   pay_for_call_extra  messages_qty  pmnt_for_extra_messages  mb_used_sum  \\\n",
       "0                0.00         22.00                     0.00      2253.49   \n",
       "1                0.00         60.00                     0.00     23233.77   \n",
       "2                0.00         75.00                     0.00     14003.64   \n",
       "3                0.00         81.00                     0.00     14055.93   \n",
       "4                0.00         57.00                     0.00     14568.91   \n",
       "\n",
       "   pmnt_for_internet  bill_per_month  \n",
       "0               4350         6300.00  \n",
       "1               1200         3150.00  \n",
       "2               2550         4500.00  \n",
       "3               2550         4500.00  \n",
       "4               2550         4500.00  "
      ]
     },
     "execution_count": 86,
     "metadata": {},
     "output_type": "execute_result"
    }
   ],
   "source": [
    "merged_total_ultra=df_general.query('tariff==\"ultra\"')\n",
    "merged_total_ultra.head()"
   ]
  },
  {
   "cell_type": "markdown",
   "id": "c35e9b87",
   "metadata": {},
   "source": [
    "##### Тариф smart"
   ]
  },
  {
   "cell_type": "code",
   "execution_count": 87,
   "id": "2535d5cd",
   "metadata": {
    "scrolled": true
   },
   "outputs": [
    {
     "data": {
      "text/html": [
       "<div>\n",
       "<style scoped>\n",
       "    .dataframe tbody tr th:only-of-type {\n",
       "        vertical-align: middle;\n",
       "    }\n",
       "\n",
       "    .dataframe tbody tr th {\n",
       "        vertical-align: top;\n",
       "    }\n",
       "\n",
       "    .dataframe thead th {\n",
       "        text-align: right;\n",
       "    }\n",
       "</style>\n",
       "<table border=\"1\" class=\"dataframe\">\n",
       "  <thead>\n",
       "    <tr style=\"text-align: right;\">\n",
       "      <th></th>\n",
       "      <th>user_id</th>\n",
       "      <th>month</th>\n",
       "      <th>city</th>\n",
       "      <th>tariff</th>\n",
       "      <th>rub_monthly_fee</th>\n",
       "      <th>duration_rounded_up</th>\n",
       "      <th>pay_for_call_extra</th>\n",
       "      <th>messages_qty</th>\n",
       "      <th>pmnt_for_extra_messages</th>\n",
       "      <th>mb_used_sum</th>\n",
       "      <th>pmnt_for_internet</th>\n",
       "      <th>bill_per_month</th>\n",
       "    </tr>\n",
       "  </thead>\n",
       "  <tbody>\n",
       "    <tr>\n",
       "      <th>8</th>\n",
       "      <td>1001</td>\n",
       "      <td>11</td>\n",
       "      <td>Москва</td>\n",
       "      <td>smart</td>\n",
       "      <td>550</td>\n",
       "      <td>430.00</td>\n",
       "      <td>0.00</td>\n",
       "      <td>0.00</td>\n",
       "      <td>0.00</td>\n",
       "      <td>18429.34</td>\n",
       "      <td>0</td>\n",
       "      <td>550.00</td>\n",
       "    </tr>\n",
       "    <tr>\n",
       "      <th>9</th>\n",
       "      <td>1001</td>\n",
       "      <td>12</td>\n",
       "      <td>Москва</td>\n",
       "      <td>smart</td>\n",
       "      <td>550</td>\n",
       "      <td>414.00</td>\n",
       "      <td>0.00</td>\n",
       "      <td>0.00</td>\n",
       "      <td>0.00</td>\n",
       "      <td>14036.66</td>\n",
       "      <td>400</td>\n",
       "      <td>950.00</td>\n",
       "    </tr>\n",
       "    <tr>\n",
       "      <th>10</th>\n",
       "      <td>1002</td>\n",
       "      <td>6</td>\n",
       "      <td>Стерлитамак</td>\n",
       "      <td>smart</td>\n",
       "      <td>550</td>\n",
       "      <td>117.00</td>\n",
       "      <td>0.00</td>\n",
       "      <td>4.00</td>\n",
       "      <td>0.00</td>\n",
       "      <td>10856.82</td>\n",
       "      <td>1000</td>\n",
       "      <td>1550.00</td>\n",
       "    </tr>\n",
       "    <tr>\n",
       "      <th>11</th>\n",
       "      <td>1002</td>\n",
       "      <td>7</td>\n",
       "      <td>Стерлитамак</td>\n",
       "      <td>smart</td>\n",
       "      <td>550</td>\n",
       "      <td>214.00</td>\n",
       "      <td>0.00</td>\n",
       "      <td>11.00</td>\n",
       "      <td>0.00</td>\n",
       "      <td>17580.10</td>\n",
       "      <td>0</td>\n",
       "      <td>550.00</td>\n",
       "    </tr>\n",
       "    <tr>\n",
       "      <th>12</th>\n",
       "      <td>1002</td>\n",
       "      <td>8</td>\n",
       "      <td>Стерлитамак</td>\n",
       "      <td>smart</td>\n",
       "      <td>550</td>\n",
       "      <td>289.00</td>\n",
       "      <td>0.00</td>\n",
       "      <td>13.00</td>\n",
       "      <td>0.00</td>\n",
       "      <td>20319.26</td>\n",
       "      <td>0</td>\n",
       "      <td>550.00</td>\n",
       "    </tr>\n",
       "  </tbody>\n",
       "</table>\n",
       "</div>"
      ],
      "text/plain": [
       "    user_id  month         city tariff  rub_monthly_fee  duration_rounded_up  \\\n",
       "8      1001     11       Москва  smart              550               430.00   \n",
       "9      1001     12       Москва  smart              550               414.00   \n",
       "10     1002      6  Стерлитамак  smart              550               117.00   \n",
       "11     1002      7  Стерлитамак  smart              550               214.00   \n",
       "12     1002      8  Стерлитамак  smart              550               289.00   \n",
       "\n",
       "    pay_for_call_extra  messages_qty  pmnt_for_extra_messages  mb_used_sum  \\\n",
       "8                 0.00          0.00                     0.00     18429.34   \n",
       "9                 0.00          0.00                     0.00     14036.66   \n",
       "10                0.00          4.00                     0.00     10856.82   \n",
       "11                0.00         11.00                     0.00     17580.10   \n",
       "12                0.00         13.00                     0.00     20319.26   \n",
       "\n",
       "    pmnt_for_internet  bill_per_month  \n",
       "8                   0          550.00  \n",
       "9                 400          950.00  \n",
       "10               1000         1550.00  \n",
       "11                  0          550.00  \n",
       "12                  0          550.00  "
      ]
     },
     "execution_count": 87,
     "metadata": {},
     "output_type": "execute_result"
    }
   ],
   "source": [
    "merged_total_smart.head()"
   ]
  },
  {
   "cell_type": "code",
   "execution_count": 88,
   "id": "f49df02b",
   "metadata": {
    "scrolled": true
   },
   "outputs": [
    {
     "data": {
      "text/plain": [
       "count   2230.00\n",
       "mean     417.75\n",
       "std      190.48\n",
       "min        0.00\n",
       "25%      282.00\n",
       "50%      421.50\n",
       "75%      545.00\n",
       "max     1435.00\n",
       "Name: duration_rounded_up, dtype: float64"
      ]
     },
     "execution_count": 88,
     "metadata": {},
     "output_type": "execute_result"
    }
   ],
   "source": [
    "merged_total_smart.duration_rounded_up.describe()"
   ]
  },
  {
   "cell_type": "code",
   "execution_count": 89,
   "id": "4860945e",
   "metadata": {
    "scrolled": true
   },
   "outputs": [
    {
     "data": {
      "text/plain": [
       "Text(0.5, 1.0, 'Распределение по количеству использованных минут разговора')"
      ]
     },
     "execution_count": 89,
     "metadata": {},
     "output_type": "execute_result"
    },
    {
     "data": {
      "image/png": "[encoded data removed]",
      "text/plain": [
       "<Figure size 432x288 with 1 Axes>"
      ]
     },
     "metadata": {
      "needs_background": "light"
     },
     "output_type": "display_data"
    }
   ],
   "source": [
    "merged_total_smart.duration_rounded_up.hist(bins=20)\n",
    "plt.title('Распределение по количеству использованных минут разговора')"
   ]
  },
  {
   "cell_type": "markdown",
   "id": "5bbad72e",
   "metadata": {},
   "source": [
    "Пользователи тарифа smart в месяц используют от 0 до 1435 минут, наиболее часто от 440 до 500 минут. Средний пользователь этого тарифа в средний месяц говорит по телефону 417.7 минут, меньше, чем по 14 минут в день и меньше, чем включенные в тариф ежемесячно 500 минут разговора. "
   ]
  },
  {
   "cell_type": "markdown",
   "id": "b8224803",
   "metadata": {},
   "source": [
    "_Посмотрим среднюю продолжительность звонков по месяцам_"
   ]
  },
  {
   "cell_type": "code",
   "execution_count": 90,
   "id": "34672f34",
   "metadata": {},
   "outputs": [
    {
     "data": {
      "text/html": [
       "<div>\n",
       "<style scoped>\n",
       "    .dataframe tbody tr th:only-of-type {\n",
       "        vertical-align: middle;\n",
       "    }\n",
       "\n",
       "    .dataframe tbody tr th {\n",
       "        vertical-align: top;\n",
       "    }\n",
       "\n",
       "    .dataframe thead th {\n",
       "        text-align: right;\n",
       "    }\n",
       "</style>\n",
       "<table border=\"1\" class=\"dataframe\">\n",
       "  <thead>\n",
       "    <tr style=\"text-align: right;\">\n",
       "      <th></th>\n",
       "      <th>month</th>\n",
       "      <th>duration_rounded_up</th>\n",
       "    </tr>\n",
       "  </thead>\n",
       "  <tbody>\n",
       "    <tr>\n",
       "      <th>0</th>\n",
       "      <td>1</td>\n",
       "      <td>203.85</td>\n",
       "    </tr>\n",
       "    <tr>\n",
       "      <th>1</th>\n",
       "      <td>2</td>\n",
       "      <td>298.69</td>\n",
       "    </tr>\n",
       "    <tr>\n",
       "      <th>2</th>\n",
       "      <td>3</td>\n",
       "      <td>390.05</td>\n",
       "    </tr>\n",
       "    <tr>\n",
       "      <th>3</th>\n",
       "      <td>4</td>\n",
       "      <td>367.13</td>\n",
       "    </tr>\n",
       "    <tr>\n",
       "      <th>4</th>\n",
       "      <td>5</td>\n",
       "      <td>387.36</td>\n",
       "    </tr>\n",
       "    <tr>\n",
       "      <th>5</th>\n",
       "      <td>6</td>\n",
       "      <td>395.64</td>\n",
       "    </tr>\n",
       "    <tr>\n",
       "      <th>6</th>\n",
       "      <td>7</td>\n",
       "      <td>408.35</td>\n",
       "    </tr>\n",
       "    <tr>\n",
       "      <th>7</th>\n",
       "      <td>8</td>\n",
       "      <td>421.47</td>\n",
       "    </tr>\n",
       "    <tr>\n",
       "      <th>8</th>\n",
       "      <td>9</td>\n",
       "      <td>428.61</td>\n",
       "    </tr>\n",
       "    <tr>\n",
       "      <th>9</th>\n",
       "      <td>10</td>\n",
       "      <td>426.14</td>\n",
       "    </tr>\n",
       "    <tr>\n",
       "      <th>10</th>\n",
       "      <td>11</td>\n",
       "      <td>435.27</td>\n",
       "    </tr>\n",
       "    <tr>\n",
       "      <th>11</th>\n",
       "      <td>12</td>\n",
       "      <td>477.14</td>\n",
       "    </tr>\n",
       "  </tbody>\n",
       "</table>\n",
       "</div>"
      ],
      "text/plain": [
       "    month  duration_rounded_up\n",
       "0       1               203.85\n",
       "1       2               298.69\n",
       "2       3               390.05\n",
       "3       4               367.13\n",
       "4       5               387.36\n",
       "5       6               395.64\n",
       "6       7               408.35\n",
       "7       8               421.47\n",
       "8       9               428.61\n",
       "9      10               426.14\n",
       "10     11               435.27\n",
       "11     12               477.14"
      ]
     },
     "execution_count": 90,
     "metadata": {},
     "output_type": "execute_result"
    }
   ],
   "source": [
    "merged_total_smart_month_pivot=merged_total_smart.pivot_table(\n",
    "    index=['month'], \n",
    "    values='duration_rounded_up', \n",
    "    aggfunc='mean').reset_index()\n",
    "merged_total_smart_month_pivot"
   ]
  },
  {
   "cell_type": "code",
   "execution_count": 91,
   "id": "b7f3f525",
   "metadata": {},
   "outputs": [
    {
     "data": {
      "image/png": "[encoded data removed]",
      "text/plain": [
       "<Figure size 432x288 with 1 Axes>"
      ]
     },
     "metadata": {
      "needs_background": "light"
     },
     "output_type": "display_data"
    }
   ],
   "source": [
    "plt.title('Средняя продолжительность звонков по месяцам')\n",
    "merged_total_smart_month_pivot.duration_rounded_up.plot()\n",
    "plt.show()"
   ]
  },
  {
   "cell_type": "markdown",
   "id": "f10b7946",
   "metadata": {},
   "source": [
    "Видим, что средняя продолжительность разговора растет по месяцам от начала года к концу, но и концу не достигает 500 минут. "
   ]
  },
  {
   "cell_type": "markdown",
   "id": "cedd9b0d",
   "metadata": {},
   "source": [
    "_Как ведет себя пользователь в среднем за год?_"
   ]
  },
  {
   "cell_type": "code",
   "execution_count": 92,
   "id": "20e5b289",
   "metadata": {
    "scrolled": true
   },
   "outputs": [
    {
     "data": {
      "text/html": [
       "<div>\n",
       "<style scoped>\n",
       "    .dataframe tbody tr th:only-of-type {\n",
       "        vertical-align: middle;\n",
       "    }\n",
       "\n",
       "    .dataframe tbody tr th {\n",
       "        vertical-align: top;\n",
       "    }\n",
       "\n",
       "    .dataframe thead th {\n",
       "        text-align: right;\n",
       "    }\n",
       "</style>\n",
       "<table border=\"1\" class=\"dataframe\">\n",
       "  <thead>\n",
       "    <tr style=\"text-align: right;\">\n",
       "      <th></th>\n",
       "      <th>user_id</th>\n",
       "      <th>duration_rounded_up</th>\n",
       "    </tr>\n",
       "  </thead>\n",
       "  <tbody>\n",
       "    <tr>\n",
       "      <th>0</th>\n",
       "      <td>1001</td>\n",
       "      <td>422.00</td>\n",
       "    </tr>\n",
       "    <tr>\n",
       "      <th>1</th>\n",
       "      <td>1002</td>\n",
       "      <td>216.71</td>\n",
       "    </tr>\n",
       "    <tr>\n",
       "      <th>2</th>\n",
       "      <td>1005</td>\n",
       "      <td>550.42</td>\n",
       "    </tr>\n",
       "    <tr>\n",
       "      <th>3</th>\n",
       "      <td>1006</td>\n",
       "      <td>318.27</td>\n",
       "    </tr>\n",
       "    <tr>\n",
       "      <th>4</th>\n",
       "      <td>1007</td>\n",
       "      <td>486.56</td>\n",
       "    </tr>\n",
       "    <tr>\n",
       "      <th>...</th>\n",
       "      <td>...</td>\n",
       "      <td>...</td>\n",
       "    </tr>\n",
       "    <tr>\n",
       "      <th>346</th>\n",
       "      <td>1494</td>\n",
       "      <td>389.20</td>\n",
       "    </tr>\n",
       "    <tr>\n",
       "      <th>347</th>\n",
       "      <td>1496</td>\n",
       "      <td>498.67</td>\n",
       "    </tr>\n",
       "    <tr>\n",
       "      <th>348</th>\n",
       "      <td>1497</td>\n",
       "      <td>468.67</td>\n",
       "    </tr>\n",
       "    <tr>\n",
       "      <th>349</th>\n",
       "      <td>1498</td>\n",
       "      <td>323.25</td>\n",
       "    </tr>\n",
       "    <tr>\n",
       "      <th>350</th>\n",
       "      <td>1499</td>\n",
       "      <td>405.75</td>\n",
       "    </tr>\n",
       "  </tbody>\n",
       "</table>\n",
       "<p>351 rows × 2 columns</p>\n",
       "</div>"
      ],
      "text/plain": [
       "     user_id  duration_rounded_up\n",
       "0       1001               422.00\n",
       "1       1002               216.71\n",
       "2       1005               550.42\n",
       "3       1006               318.27\n",
       "4       1007               486.56\n",
       "..       ...                  ...\n",
       "346     1494               389.20\n",
       "347     1496               498.67\n",
       "348     1497               468.67\n",
       "349     1498               323.25\n",
       "350     1499               405.75\n",
       "\n",
       "[351 rows x 2 columns]"
      ]
     },
     "execution_count": 92,
     "metadata": {},
     "output_type": "execute_result"
    }
   ],
   "source": [
    "merged_total_smart_pivot2=merged_total_smart.pivot_table(index=['user_id'], values='duration_rounded_up', aggfunc='mean').reset_index()\n",
    "merged_total_smart_pivot2"
   ]
  },
  {
   "cell_type": "code",
   "execution_count": 93,
   "id": "63e7df50",
   "metadata": {},
   "outputs": [
    {
     "data": {
      "text/plain": [
       "count   351.00\n",
       "mean    418.44\n",
       "std     146.55\n",
       "min       0.00\n",
       "25%     315.96\n",
       "50%     424.88\n",
       "75%     518.62\n",
       "max     891.50\n",
       "Name: duration_rounded_up, dtype: float64"
      ]
     },
     "execution_count": 93,
     "metadata": {},
     "output_type": "execute_result"
    }
   ],
   "source": [
    "merged_total_smart_pivot2.duration_rounded_up.describe()"
   ]
  },
  {
   "cell_type": "markdown",
   "id": "09e553e4",
   "metadata": {},
   "source": [
    "Средний пользователь в течение года говорил от 0 до 891.50 минут в месяц, среднее в этом случае составляет 418 мин. в месяц, что также не достигает 500 минут. "
   ]
  },
  {
   "cell_type": "code",
   "execution_count": 94,
   "id": "245d29d3",
   "metadata": {
    "scrolled": true
   },
   "outputs": [
    {
     "data": {
      "text/plain": [
       "<AxesSubplot:title={'center':'Распределение по среднему количеству минут в месяц'}>"
      ]
     },
     "execution_count": 94,
     "metadata": {},
     "output_type": "execute_result"
    },
    {
     "data": {
      "image/png": "[encoded data removed]",
      "text/plain": [
       "<Figure size 432x288 with 1 Axes>"
      ]
     },
     "metadata": {
      "needs_background": "light"
     },
     "output_type": "display_data"
    }
   ],
   "source": [
    "plt.figure(figsize=(6,4))\n",
    "plt.title('Распределение по среднему количеству минут в месяц')\n",
    "merged_total_smart_pivot2.duration_rounded_up.hist(bins=20)"
   ]
  },
  {
   "cell_type": "markdown",
   "id": "4f66ea2a",
   "metadata": {},
   "source": [
    "Все распределения, которые мы увидели для пользователей данного тарифа в отношении звонков, выглядят как нормальные. "
   ]
  },
  {
   "cell_type": "code",
   "execution_count": 95,
   "id": "9e46634c",
   "metadata": {},
   "outputs": [
    {
     "data": {
      "text/plain": [
       "213"
      ]
     },
     "execution_count": 95,
     "metadata": {},
     "output_type": "execute_result"
    }
   ],
   "source": [
    "merged_total_smart.query('duration_rounded_up > 500')['user_id'].nunique()"
   ]
  },
  {
   "cell_type": "markdown",
   "id": "028e22d5",
   "metadata": {},
   "source": [
    "Только 213 пользователей из 351 превысили порог включенного в тариф лимита по минутам хотя бы раз в течение года."
   ]
  },
  {
   "cell_type": "markdown",
   "id": "0f260673",
   "metadata": {},
   "source": [
    "##### Тариф ultra"
   ]
  },
  {
   "cell_type": "code",
   "execution_count": 96,
   "id": "38bc0d7d",
   "metadata": {},
   "outputs": [
    {
     "data": {
      "text/html": [
       "<div>\n",
       "<style scoped>\n",
       "    .dataframe tbody tr th:only-of-type {\n",
       "        vertical-align: middle;\n",
       "    }\n",
       "\n",
       "    .dataframe tbody tr th {\n",
       "        vertical-align: top;\n",
       "    }\n",
       "\n",
       "    .dataframe thead th {\n",
       "        text-align: right;\n",
       "    }\n",
       "</style>\n",
       "<table border=\"1\" class=\"dataframe\">\n",
       "  <thead>\n",
       "    <tr style=\"text-align: right;\">\n",
       "      <th></th>\n",
       "      <th>user_id</th>\n",
       "      <th>month</th>\n",
       "      <th>city</th>\n",
       "      <th>tariff</th>\n",
       "      <th>rub_monthly_fee</th>\n",
       "      <th>duration_rounded_up</th>\n",
       "      <th>pay_for_call_extra</th>\n",
       "      <th>messages_qty</th>\n",
       "      <th>pmnt_for_extra_messages</th>\n",
       "      <th>mb_used_sum</th>\n",
       "      <th>pmnt_for_internet</th>\n",
       "      <th>bill_per_month</th>\n",
       "    </tr>\n",
       "  </thead>\n",
       "  <tbody>\n",
       "    <tr>\n",
       "      <th>0</th>\n",
       "      <td>1000</td>\n",
       "      <td>5</td>\n",
       "      <td>Краснодар</td>\n",
       "      <td>ultra</td>\n",
       "      <td>1950</td>\n",
       "      <td>159.00</td>\n",
       "      <td>0.00</td>\n",
       "      <td>22.00</td>\n",
       "      <td>0.00</td>\n",
       "      <td>2253.49</td>\n",
       "      <td>4350</td>\n",
       "      <td>6300.00</td>\n",
       "    </tr>\n",
       "    <tr>\n",
       "      <th>1</th>\n",
       "      <td>1000</td>\n",
       "      <td>6</td>\n",
       "      <td>Краснодар</td>\n",
       "      <td>ultra</td>\n",
       "      <td>1950</td>\n",
       "      <td>172.00</td>\n",
       "      <td>0.00</td>\n",
       "      <td>60.00</td>\n",
       "      <td>0.00</td>\n",
       "      <td>23233.77</td>\n",
       "      <td>1200</td>\n",
       "      <td>3150.00</td>\n",
       "    </tr>\n",
       "    <tr>\n",
       "      <th>2</th>\n",
       "      <td>1000</td>\n",
       "      <td>7</td>\n",
       "      <td>Краснодар</td>\n",
       "      <td>ultra</td>\n",
       "      <td>1950</td>\n",
       "      <td>340.00</td>\n",
       "      <td>0.00</td>\n",
       "      <td>75.00</td>\n",
       "      <td>0.00</td>\n",
       "      <td>14003.64</td>\n",
       "      <td>2550</td>\n",
       "      <td>4500.00</td>\n",
       "    </tr>\n",
       "    <tr>\n",
       "      <th>3</th>\n",
       "      <td>1000</td>\n",
       "      <td>8</td>\n",
       "      <td>Краснодар</td>\n",
       "      <td>ultra</td>\n",
       "      <td>1950</td>\n",
       "      <td>408.00</td>\n",
       "      <td>0.00</td>\n",
       "      <td>81.00</td>\n",
       "      <td>0.00</td>\n",
       "      <td>14055.93</td>\n",
       "      <td>2550</td>\n",
       "      <td>4500.00</td>\n",
       "    </tr>\n",
       "    <tr>\n",
       "      <th>4</th>\n",
       "      <td>1000</td>\n",
       "      <td>9</td>\n",
       "      <td>Краснодар</td>\n",
       "      <td>ultra</td>\n",
       "      <td>1950</td>\n",
       "      <td>466.00</td>\n",
       "      <td>0.00</td>\n",
       "      <td>57.00</td>\n",
       "      <td>0.00</td>\n",
       "      <td>14568.91</td>\n",
       "      <td>2550</td>\n",
       "      <td>4500.00</td>\n",
       "    </tr>\n",
       "  </tbody>\n",
       "</table>\n",
       "</div>"
      ],
      "text/plain": [
       "   user_id  month       city tariff  rub_monthly_fee  duration_rounded_up  \\\n",
       "0     1000      5  Краснодар  ultra             1950               159.00   \n",
       "1     1000      6  Краснодар  ultra             1950               172.00   \n",
       "2     1000      7  Краснодар  ultra             1950               340.00   \n",
       "3     1000      8  Краснодар  ultra             1950               408.00   \n",
       "4     1000      9  Краснодар  ultra             1950               466.00   \n",
       "\n",
       "   pay_for_call_extra  messages_qty  pmnt_for_extra_messages  mb_used_sum  \\\n",
       "0                0.00         22.00                     0.00      2253.49   \n",
       "1                0.00         60.00                     0.00     23233.77   \n",
       "2                0.00         75.00                     0.00     14003.64   \n",
       "3                0.00         81.00                     0.00     14055.93   \n",
       "4                0.00         57.00                     0.00     14568.91   \n",
       "\n",
       "   pmnt_for_internet  bill_per_month  \n",
       "0               4350         6300.00  \n",
       "1               1200         3150.00  \n",
       "2               2550         4500.00  \n",
       "3               2550         4500.00  \n",
       "4               2550         4500.00  "
      ]
     },
     "execution_count": 96,
     "metadata": {},
     "output_type": "execute_result"
    }
   ],
   "source": [
    "merged_total_ultra.head()"
   ]
  },
  {
   "cell_type": "code",
   "execution_count": 97,
   "id": "98fd8b57",
   "metadata": {},
   "outputs": [
    {
     "data": {
      "text/plain": [
       "count    986.00\n",
       "mean     526.09\n",
       "std      317.89\n",
       "min        0.00\n",
       "25%      282.50\n",
       "50%      518.00\n",
       "75%      751.75\n",
       "max     1673.00\n",
       "Name: duration_rounded_up, dtype: float64"
      ]
     },
     "execution_count": 97,
     "metadata": {},
     "output_type": "execute_result"
    }
   ],
   "source": [
    "merged_total_ultra.duration_rounded_up.describe()"
   ]
  },
  {
   "cell_type": "code",
   "execution_count": 98,
   "id": "18e40c3e",
   "metadata": {},
   "outputs": [
    {
     "data": {
      "text/plain": [
       "<AxesSubplot:>"
      ]
     },
     "execution_count": 98,
     "metadata": {},
     "output_type": "execute_result"
    },
    {
     "data": {
      "image/png": "[encoded data removed]",
      "text/plain": [
       "<Figure size 432x288 with 1 Axes>"
      ]
     },
     "metadata": {
      "needs_background": "light"
     },
     "output_type": "display_data"
    }
   ],
   "source": [
    "merged_total_ultra.duration_rounded_up.hist(bins=20)"
   ]
  },
  {
   "cell_type": "markdown",
   "id": "5c892ee5",
   "metadata": {},
   "source": [
    "Пользователи тарифа ultra в месяц используют от 0 до 1673 минут, наиболее вероятно от 500 до 550 минут. Средний пользователь этого тарифа в средний месяц говорит по телефону 526 минут, меньше, чем по 18 минут в день и меньше, чем включенные в тариф ежемесячно 3000 минут разговора. Никто из пользователей не проговорил более 3000 минут и не вышел из лимита своего тарифа. "
   ]
  },
  {
   "cell_type": "markdown",
   "id": "4b28dcfa",
   "metadata": {},
   "source": [
    "_Посмотрим среднюю продолжительность звонков по месяцам_"
   ]
  },
  {
   "cell_type": "code",
   "execution_count": 99,
   "id": "a3eb43fe",
   "metadata": {},
   "outputs": [
    {
     "data": {
      "text/html": [
       "<div>\n",
       "<style scoped>\n",
       "    .dataframe tbody tr th:only-of-type {\n",
       "        vertical-align: middle;\n",
       "    }\n",
       "\n",
       "    .dataframe tbody tr th {\n",
       "        vertical-align: top;\n",
       "    }\n",
       "\n",
       "    .dataframe thead th {\n",
       "        text-align: right;\n",
       "    }\n",
       "</style>\n",
       "<table border=\"1\" class=\"dataframe\">\n",
       "  <thead>\n",
       "    <tr style=\"text-align: right;\">\n",
       "      <th></th>\n",
       "      <th>month</th>\n",
       "      <th>duration_rounded_up</th>\n",
       "    </tr>\n",
       "  </thead>\n",
       "  <tbody>\n",
       "    <tr>\n",
       "      <th>0</th>\n",
       "      <td>1</td>\n",
       "      <td>428.11</td>\n",
       "    </tr>\n",
       "    <tr>\n",
       "      <th>1</th>\n",
       "      <td>2</td>\n",
       "      <td>297.12</td>\n",
       "    </tr>\n",
       "    <tr>\n",
       "      <th>2</th>\n",
       "      <td>3</td>\n",
       "      <td>489.65</td>\n",
       "    </tr>\n",
       "    <tr>\n",
       "      <th>3</th>\n",
       "      <td>4</td>\n",
       "      <td>458.02</td>\n",
       "    </tr>\n",
       "    <tr>\n",
       "      <th>4</th>\n",
       "      <td>5</td>\n",
       "      <td>510.33</td>\n",
       "    </tr>\n",
       "    <tr>\n",
       "      <th>5</th>\n",
       "      <td>6</td>\n",
       "      <td>479.70</td>\n",
       "    </tr>\n",
       "    <tr>\n",
       "      <th>6</th>\n",
       "      <td>7</td>\n",
       "      <td>545.79</td>\n",
       "    </tr>\n",
       "    <tr>\n",
       "      <th>7</th>\n",
       "      <td>8</td>\n",
       "      <td>510.78</td>\n",
       "    </tr>\n",
       "    <tr>\n",
       "      <th>8</th>\n",
       "      <td>9</td>\n",
       "      <td>539.44</td>\n",
       "    </tr>\n",
       "    <tr>\n",
       "      <th>9</th>\n",
       "      <td>10</td>\n",
       "      <td>558.08</td>\n",
       "    </tr>\n",
       "    <tr>\n",
       "      <th>10</th>\n",
       "      <td>11</td>\n",
       "      <td>541.38</td>\n",
       "    </tr>\n",
       "    <tr>\n",
       "      <th>11</th>\n",
       "      <td>12</td>\n",
       "      <td>588.57</td>\n",
       "    </tr>\n",
       "  </tbody>\n",
       "</table>\n",
       "</div>"
      ],
      "text/plain": [
       "    month  duration_rounded_up\n",
       "0       1               428.11\n",
       "1       2               297.12\n",
       "2       3               489.65\n",
       "3       4               458.02\n",
       "4       5               510.33\n",
       "5       6               479.70\n",
       "6       7               545.79\n",
       "7       8               510.78\n",
       "8       9               539.44\n",
       "9      10               558.08\n",
       "10     11               541.38\n",
       "11     12               588.57"
      ]
     },
     "execution_count": 99,
     "metadata": {},
     "output_type": "execute_result"
    }
   ],
   "source": [
    "merged_total_ultra_month_pivot=merged_total_ultra.pivot_table(\n",
    "    index=['month'], \n",
    "    values='duration_rounded_up', \n",
    "    aggfunc='mean').reset_index()\n",
    "merged_total_ultra_month_pivot"
   ]
  },
  {
   "cell_type": "code",
   "execution_count": 100,
   "id": "991c7ecf",
   "metadata": {},
   "outputs": [
    {
     "data": {
      "text/plain": [
       "<AxesSubplot:>"
      ]
     },
     "execution_count": 100,
     "metadata": {},
     "output_type": "execute_result"
    },
    {
     "data": {
      "image/png": "[encoded data removed]",
      "text/plain": [
       "<Figure size 432x288 with 1 Axes>"
      ]
     },
     "metadata": {
      "needs_background": "light"
     },
     "output_type": "display_data"
    }
   ],
   "source": [
    "merged_total_ultra_month_pivot.duration_rounded_up.plot()"
   ]
  },
  {
   "cell_type": "markdown",
   "id": "530b016a",
   "metadata": {},
   "source": [
    "Видим, что средняя продолжительность звонков также растет, но неравномерно от месяца к месяцу. "
   ]
  },
  {
   "cell_type": "markdown",
   "id": "6eda2317",
   "metadata": {},
   "source": [
    "_Как ведет себя пользователь в среднем за год?_"
   ]
  },
  {
   "cell_type": "code",
   "execution_count": 101,
   "id": "64dc0080",
   "metadata": {},
   "outputs": [
    {
     "data": {
      "text/html": [
       "<div>\n",
       "<style scoped>\n",
       "    .dataframe tbody tr th:only-of-type {\n",
       "        vertical-align: middle;\n",
       "    }\n",
       "\n",
       "    .dataframe tbody tr th {\n",
       "        vertical-align: top;\n",
       "    }\n",
       "\n",
       "    .dataframe thead th {\n",
       "        text-align: right;\n",
       "    }\n",
       "</style>\n",
       "<table border=\"1\" class=\"dataframe\">\n",
       "  <thead>\n",
       "    <tr style=\"text-align: right;\">\n",
       "      <th></th>\n",
       "      <th>user_id</th>\n",
       "      <th>duration_rounded_up</th>\n",
       "    </tr>\n",
       "  </thead>\n",
       "  <tbody>\n",
       "    <tr>\n",
       "      <th>0</th>\n",
       "      <td>1000</td>\n",
       "      <td>320.75</td>\n",
       "    </tr>\n",
       "    <tr>\n",
       "      <th>1</th>\n",
       "      <td>1003</td>\n",
       "      <td>764.40</td>\n",
       "    </tr>\n",
       "    <tr>\n",
       "      <th>2</th>\n",
       "      <td>1004</td>\n",
       "      <td>123.38</td>\n",
       "    </tr>\n",
       "    <tr>\n",
       "      <th>3</th>\n",
       "      <td>1013</td>\n",
       "      <td>468.00</td>\n",
       "    </tr>\n",
       "    <tr>\n",
       "      <th>4</th>\n",
       "      <td>1016</td>\n",
       "      <td>61.00</td>\n",
       "    </tr>\n",
       "    <tr>\n",
       "      <th>...</th>\n",
       "      <td>...</td>\n",
       "      <td>...</td>\n",
       "    </tr>\n",
       "    <tr>\n",
       "      <th>144</th>\n",
       "      <td>1476</td>\n",
       "      <td>467.11</td>\n",
       "    </tr>\n",
       "    <tr>\n",
       "      <th>145</th>\n",
       "      <td>1485</td>\n",
       "      <td>584.00</td>\n",
       "    </tr>\n",
       "    <tr>\n",
       "      <th>146</th>\n",
       "      <td>1491</td>\n",
       "      <td>513.33</td>\n",
       "    </tr>\n",
       "    <tr>\n",
       "      <th>147</th>\n",
       "      <td>1493</td>\n",
       "      <td>372.00</td>\n",
       "    </tr>\n",
       "    <tr>\n",
       "      <th>148</th>\n",
       "      <td>1495</td>\n",
       "      <td>784.00</td>\n",
       "    </tr>\n",
       "  </tbody>\n",
       "</table>\n",
       "<p>149 rows × 2 columns</p>\n",
       "</div>"
      ],
      "text/plain": [
       "     user_id  duration_rounded_up\n",
       "0       1000               320.75\n",
       "1       1003               764.40\n",
       "2       1004               123.38\n",
       "3       1013               468.00\n",
       "4       1016                61.00\n",
       "..       ...                  ...\n",
       "144     1476               467.11\n",
       "145     1485               584.00\n",
       "146     1491               513.33\n",
       "147     1493               372.00\n",
       "148     1495               784.00\n",
       "\n",
       "[149 rows x 2 columns]"
      ]
     },
     "execution_count": 101,
     "metadata": {},
     "output_type": "execute_result"
    }
   ],
   "source": [
    "merged_total_ultra_pivot2=merged_total_ultra.pivot_table(index=['user_id'], values='duration_rounded_up', aggfunc='mean').reset_index()\n",
    "merged_total_ultra_pivot2"
   ]
  },
  {
   "cell_type": "code",
   "execution_count": 102,
   "id": "cd151f57",
   "metadata": {},
   "outputs": [
    {
     "data": {
      "text/plain": [
       "count    149.00\n",
       "mean     524.28\n",
       "std      284.14\n",
       "min        0.00\n",
       "25%      320.75\n",
       "50%      513.33\n",
       "75%      746.33\n",
       "max     1179.36\n",
       "Name: duration_rounded_up, dtype: float64"
      ]
     },
     "execution_count": 102,
     "metadata": {},
     "output_type": "execute_result"
    }
   ],
   "source": [
    "merged_total_ultra_pivot2.duration_rounded_up.describe()"
   ]
  },
  {
   "cell_type": "code",
   "execution_count": 103,
   "id": "8e124ffe",
   "metadata": {},
   "outputs": [
    {
     "data": {
      "text/plain": [
       "<AxesSubplot:>"
      ]
     },
     "execution_count": 103,
     "metadata": {},
     "output_type": "execute_result"
    },
    {
     "data": {
      "image/png": "[encoded data removed]",
      "text/plain": [
       "<Figure size 432x288 with 1 Axes>"
      ]
     },
     "metadata": {
      "needs_background": "light"
     },
     "output_type": "display_data"
    }
   ],
   "source": [
    "merged_total_ultra_pivot2.duration_rounded_up.hist()"
   ]
  },
  {
   "cell_type": "markdown",
   "id": "cf0a65b0",
   "metadata": {},
   "source": [
    "Средний пользователь говорит в месяц от 0 до 1179 минут, не добираясь до лимита его тарифа. "
   ]
  },
  {
   "cell_type": "markdown",
   "id": "45acd2f6",
   "metadata": {},
   "source": [
    "Все распределения также выглядят как нормальные. "
   ]
  },
  {
   "cell_type": "code",
   "execution_count": 104,
   "id": "1aad7a2d",
   "metadata": {},
   "outputs": [
    {
     "data": {
      "text/plain": [
       "0"
      ]
     },
     "execution_count": 104,
     "metadata": {},
     "output_type": "execute_result"
    }
   ],
   "source": [
    "merged_total_ultra.query('duration_rounded_up > 3000')['user_id'].nunique()"
   ]
  },
  {
   "cell_type": "markdown",
   "id": "a212ff40",
   "metadata": {},
   "source": [
    "Как уже говорилось ранее, никто из пользователей ultra в течение года ни разу не превысил лимит по минутам, включенный в его тариф. "
   ]
  },
  {
   "cell_type": "markdown",
   "id": "3b372fe4",
   "metadata": {},
   "source": [
    "Используем ту же схему анализа данных для анализа смс и интернет-трафика. "
   ]
  },
  {
   "cell_type": "markdown",
   "id": "f2fb0d81",
   "metadata": {},
   "source": [
    "#### Данные об смс-сообщениях"
   ]
  },
  {
   "cell_type": "markdown",
   "id": "96844f4e",
   "metadata": {},
   "source": [
    "##### Тариф smart"
   ]
  },
  {
   "cell_type": "code",
   "execution_count": 105,
   "id": "03433850",
   "metadata": {
    "scrolled": false
   },
   "outputs": [
    {
     "data": {
      "text/html": [
       "<div>\n",
       "<style scoped>\n",
       "    .dataframe tbody tr th:only-of-type {\n",
       "        vertical-align: middle;\n",
       "    }\n",
       "\n",
       "    .dataframe tbody tr th {\n",
       "        vertical-align: top;\n",
       "    }\n",
       "\n",
       "    .dataframe thead th {\n",
       "        text-align: right;\n",
       "    }\n",
       "</style>\n",
       "<table border=\"1\" class=\"dataframe\">\n",
       "  <thead>\n",
       "    <tr style=\"text-align: right;\">\n",
       "      <th></th>\n",
       "      <th>user_id</th>\n",
       "      <th>month</th>\n",
       "      <th>city</th>\n",
       "      <th>tariff</th>\n",
       "      <th>rub_monthly_fee</th>\n",
       "      <th>duration_rounded_up</th>\n",
       "      <th>pay_for_call_extra</th>\n",
       "      <th>messages_qty</th>\n",
       "      <th>pmnt_for_extra_messages</th>\n",
       "      <th>mb_used_sum</th>\n",
       "      <th>pmnt_for_internet</th>\n",
       "      <th>bill_per_month</th>\n",
       "    </tr>\n",
       "  </thead>\n",
       "  <tbody>\n",
       "    <tr>\n",
       "      <th>8</th>\n",
       "      <td>1001</td>\n",
       "      <td>11</td>\n",
       "      <td>Москва</td>\n",
       "      <td>smart</td>\n",
       "      <td>550</td>\n",
       "      <td>430.00</td>\n",
       "      <td>0.00</td>\n",
       "      <td>0.00</td>\n",
       "      <td>0.00</td>\n",
       "      <td>18429.34</td>\n",
       "      <td>0</td>\n",
       "      <td>550.00</td>\n",
       "    </tr>\n",
       "    <tr>\n",
       "      <th>9</th>\n",
       "      <td>1001</td>\n",
       "      <td>12</td>\n",
       "      <td>Москва</td>\n",
       "      <td>smart</td>\n",
       "      <td>550</td>\n",
       "      <td>414.00</td>\n",
       "      <td>0.00</td>\n",
       "      <td>0.00</td>\n",
       "      <td>0.00</td>\n",
       "      <td>14036.66</td>\n",
       "      <td>400</td>\n",
       "      <td>950.00</td>\n",
       "    </tr>\n",
       "    <tr>\n",
       "      <th>10</th>\n",
       "      <td>1002</td>\n",
       "      <td>6</td>\n",
       "      <td>Стерлитамак</td>\n",
       "      <td>smart</td>\n",
       "      <td>550</td>\n",
       "      <td>117.00</td>\n",
       "      <td>0.00</td>\n",
       "      <td>4.00</td>\n",
       "      <td>0.00</td>\n",
       "      <td>10856.82</td>\n",
       "      <td>1000</td>\n",
       "      <td>1550.00</td>\n",
       "    </tr>\n",
       "    <tr>\n",
       "      <th>11</th>\n",
       "      <td>1002</td>\n",
       "      <td>7</td>\n",
       "      <td>Стерлитамак</td>\n",
       "      <td>smart</td>\n",
       "      <td>550</td>\n",
       "      <td>214.00</td>\n",
       "      <td>0.00</td>\n",
       "      <td>11.00</td>\n",
       "      <td>0.00</td>\n",
       "      <td>17580.10</td>\n",
       "      <td>0</td>\n",
       "      <td>550.00</td>\n",
       "    </tr>\n",
       "    <tr>\n",
       "      <th>12</th>\n",
       "      <td>1002</td>\n",
       "      <td>8</td>\n",
       "      <td>Стерлитамак</td>\n",
       "      <td>smart</td>\n",
       "      <td>550</td>\n",
       "      <td>289.00</td>\n",
       "      <td>0.00</td>\n",
       "      <td>13.00</td>\n",
       "      <td>0.00</td>\n",
       "      <td>20319.26</td>\n",
       "      <td>0</td>\n",
       "      <td>550.00</td>\n",
       "    </tr>\n",
       "  </tbody>\n",
       "</table>\n",
       "</div>"
      ],
      "text/plain": [
       "    user_id  month         city tariff  rub_monthly_fee  duration_rounded_up  \\\n",
       "8      1001     11       Москва  smart              550               430.00   \n",
       "9      1001     12       Москва  smart              550               414.00   \n",
       "10     1002      6  Стерлитамак  smart              550               117.00   \n",
       "11     1002      7  Стерлитамак  smart              550               214.00   \n",
       "12     1002      8  Стерлитамак  smart              550               289.00   \n",
       "\n",
       "    pay_for_call_extra  messages_qty  pmnt_for_extra_messages  mb_used_sum  \\\n",
       "8                 0.00          0.00                     0.00     18429.34   \n",
       "9                 0.00          0.00                     0.00     14036.66   \n",
       "10                0.00          4.00                     0.00     10856.82   \n",
       "11                0.00         11.00                     0.00     17580.10   \n",
       "12                0.00         13.00                     0.00     20319.26   \n",
       "\n",
       "    pmnt_for_internet  bill_per_month  \n",
       "8                   0          550.00  \n",
       "9                 400          950.00  \n",
       "10               1000         1550.00  \n",
       "11                  0          550.00  \n",
       "12                  0          550.00  "
      ]
     },
     "execution_count": 105,
     "metadata": {},
     "output_type": "execute_result"
    }
   ],
   "source": [
    "merged_total_smart.head()"
   ]
  },
  {
   "cell_type": "code",
   "execution_count": 106,
   "id": "685f7ba1",
   "metadata": {},
   "outputs": [
    {
     "data": {
      "text/plain": [
       "count   2230.00\n",
       "mean      33.37\n",
       "std       28.23\n",
       "min        0.00\n",
       "25%       10.00\n",
       "50%       28.00\n",
       "75%       51.00\n",
       "max      143.00\n",
       "Name: messages_qty, dtype: float64"
      ]
     },
     "execution_count": 106,
     "metadata": {},
     "output_type": "execute_result"
    }
   ],
   "source": [
    "merged_total_smart.messages_qty.describe()"
   ]
  },
  {
   "cell_type": "markdown",
   "id": "2a4f2d13",
   "metadata": {},
   "source": [
    "Пользователи отправляют от 1 до 143 смс в месяц, в среднем 33,37 шт., "
   ]
  },
  {
   "cell_type": "code",
   "execution_count": 107,
   "id": "f0de012f",
   "metadata": {},
   "outputs": [
    {
     "data": {
      "text/plain": [
       "125"
      ]
     },
     "execution_count": 107,
     "metadata": {},
     "output_type": "execute_result"
    }
   ],
   "source": [
    "merged_total_smart.query('messages_qty > 50')['user_id'].nunique()"
   ]
  },
  {
   "cell_type": "markdown",
   "id": "7547e805",
   "metadata": {},
   "source": [
    "И только 125 из 391 пользователей тарифа хотя бы раз в течение года отправили за месяц больше смс, чем включено в их тариф. Судя по результатам построения гистаграммы ниже, наиболее часто пользователь отправляет до 10 смс в месяц"
   ]
  },
  {
   "cell_type": "code",
   "execution_count": 108,
   "id": "9916a9d0",
   "metadata": {},
   "outputs": [
    {
     "data": {
      "text/plain": [
       "<AxesSubplot:>"
      ]
     },
     "execution_count": 108,
     "metadata": {},
     "output_type": "execute_result"
    },
    {
     "data": {
      "image/png": "[encoded data removed]",
      "text/plain": [
       "<Figure size 432x288 with 1 Axes>"
      ]
     },
     "metadata": {
      "needs_background": "light"
     },
     "output_type": "display_data"
    }
   ],
   "source": [
    "merged_total_smart.messages_qty.hist(bins=20)"
   ]
  },
  {
   "cell_type": "markdown",
   "id": "a290a25e",
   "metadata": {},
   "source": [
    "_Сколько сообщений отправляют пользователи в среднем по месяцам?_"
   ]
  },
  {
   "cell_type": "code",
   "execution_count": 109,
   "id": "dc687a17",
   "metadata": {},
   "outputs": [
    {
     "data": {
      "text/html": [
       "<div>\n",
       "<style scoped>\n",
       "    .dataframe tbody tr th:only-of-type {\n",
       "        vertical-align: middle;\n",
       "    }\n",
       "\n",
       "    .dataframe tbody tr th {\n",
       "        vertical-align: top;\n",
       "    }\n",
       "\n",
       "    .dataframe thead th {\n",
       "        text-align: right;\n",
       "    }\n",
       "</style>\n",
       "<table border=\"1\" class=\"dataframe\">\n",
       "  <thead>\n",
       "    <tr style=\"text-align: right;\">\n",
       "      <th></th>\n",
       "      <th>month</th>\n",
       "      <th>messages_qty</th>\n",
       "    </tr>\n",
       "  </thead>\n",
       "  <tbody>\n",
       "    <tr>\n",
       "      <th>0</th>\n",
       "      <td>1</td>\n",
       "      <td>18.24</td>\n",
       "    </tr>\n",
       "    <tr>\n",
       "      <th>1</th>\n",
       "      <td>2</td>\n",
       "      <td>24.09</td>\n",
       "    </tr>\n",
       "    <tr>\n",
       "      <th>2</th>\n",
       "      <td>3</td>\n",
       "      <td>31.86</td>\n",
       "    </tr>\n",
       "    <tr>\n",
       "      <th>3</th>\n",
       "      <td>4</td>\n",
       "      <td>30.74</td>\n",
       "    </tr>\n",
       "    <tr>\n",
       "      <th>4</th>\n",
       "      <td>5</td>\n",
       "      <td>33.77</td>\n",
       "    </tr>\n",
       "    <tr>\n",
       "      <th>5</th>\n",
       "      <td>6</td>\n",
       "      <td>33.40</td>\n",
       "    </tr>\n",
       "    <tr>\n",
       "      <th>6</th>\n",
       "      <td>7</td>\n",
       "      <td>33.75</td>\n",
       "    </tr>\n",
       "    <tr>\n",
       "      <th>7</th>\n",
       "      <td>8</td>\n",
       "      <td>33.64</td>\n",
       "    </tr>\n",
       "    <tr>\n",
       "      <th>8</th>\n",
       "      <td>9</td>\n",
       "      <td>33.64</td>\n",
       "    </tr>\n",
       "    <tr>\n",
       "      <th>9</th>\n",
       "      <td>10</td>\n",
       "      <td>33.77</td>\n",
       "    </tr>\n",
       "    <tr>\n",
       "      <th>10</th>\n",
       "      <td>11</td>\n",
       "      <td>34.08</td>\n",
       "    </tr>\n",
       "    <tr>\n",
       "      <th>11</th>\n",
       "      <td>12</td>\n",
       "      <td>35.89</td>\n",
       "    </tr>\n",
       "  </tbody>\n",
       "</table>\n",
       "</div>"
      ],
      "text/plain": [
       "    month  messages_qty\n",
       "0       1         18.24\n",
       "1       2         24.09\n",
       "2       3         31.86\n",
       "3       4         30.74\n",
       "4       5         33.77\n",
       "5       6         33.40\n",
       "6       7         33.75\n",
       "7       8         33.64\n",
       "8       9         33.64\n",
       "9      10         33.77\n",
       "10     11         34.08\n",
       "11     12         35.89"
      ]
     },
     "execution_count": 109,
     "metadata": {},
     "output_type": "execute_result"
    }
   ],
   "source": [
    "merged_total_smart_sms_pivot=merged_total_smart.pivot_table(index=['month'], values='messages_qty', aggfunc='mean').reset_index()\n",
    "merged_total_smart_sms_pivot"
   ]
  },
  {
   "cell_type": "code",
   "execution_count": 110,
   "id": "795488ad",
   "metadata": {},
   "outputs": [
    {
     "data": {
      "text/plain": [
       "<AxesSubplot:>"
      ]
     },
     "execution_count": 110,
     "metadata": {},
     "output_type": "execute_result"
    },
    {
     "data": {
      "image/png": "[encoded data removed]",
      "text/plain": [
       "<Figure size 432x288 with 1 Axes>"
      ]
     },
     "metadata": {
      "needs_background": "light"
     },
     "output_type": "display_data"
    }
   ],
   "source": [
    "merged_total_smart_sms_pivot.messages_qty.plot()"
   ]
  },
  {
   "cell_type": "markdown",
   "id": "26d92f74",
   "metadata": {},
   "source": [
    "Количество отправленных смс в месяц растет, но так и не достигает включенного в тариф лимита в размере 50 смс. "
   ]
  },
  {
   "cell_type": "markdown",
   "id": "cbdf9daf",
   "metadata": {},
   "source": [
    "_Среднее по пользователям в течение года_"
   ]
  },
  {
   "cell_type": "code",
   "execution_count": 111,
   "id": "f7d1770c",
   "metadata": {},
   "outputs": [
    {
     "data": {
      "text/html": [
       "<div>\n",
       "<style scoped>\n",
       "    .dataframe tbody tr th:only-of-type {\n",
       "        vertical-align: middle;\n",
       "    }\n",
       "\n",
       "    .dataframe tbody tr th {\n",
       "        vertical-align: top;\n",
       "    }\n",
       "\n",
       "    .dataframe thead th {\n",
       "        text-align: right;\n",
       "    }\n",
       "</style>\n",
       "<table border=\"1\" class=\"dataframe\">\n",
       "  <thead>\n",
       "    <tr style=\"text-align: right;\">\n",
       "      <th></th>\n",
       "      <th>user_id</th>\n",
       "      <th>messages_qty</th>\n",
       "    </tr>\n",
       "  </thead>\n",
       "  <tbody>\n",
       "    <tr>\n",
       "      <th>0</th>\n",
       "      <td>1001</td>\n",
       "      <td>0.00</td>\n",
       "    </tr>\n",
       "    <tr>\n",
       "      <th>1</th>\n",
       "      <td>1002</td>\n",
       "      <td>10.00</td>\n",
       "    </tr>\n",
       "    <tr>\n",
       "      <th>2</th>\n",
       "      <td>1005</td>\n",
       "      <td>46.00</td>\n",
       "    </tr>\n",
       "    <tr>\n",
       "      <th>3</th>\n",
       "      <td>1006</td>\n",
       "      <td>0.00</td>\n",
       "    </tr>\n",
       "    <tr>\n",
       "      <th>4</th>\n",
       "      <td>1007</td>\n",
       "      <td>25.00</td>\n",
       "    </tr>\n",
       "    <tr>\n",
       "      <th>...</th>\n",
       "      <td>...</td>\n",
       "      <td>...</td>\n",
       "    </tr>\n",
       "    <tr>\n",
       "      <th>346</th>\n",
       "      <td>1494</td>\n",
       "      <td>0.00</td>\n",
       "    </tr>\n",
       "    <tr>\n",
       "      <th>347</th>\n",
       "      <td>1496</td>\n",
       "      <td>39.00</td>\n",
       "    </tr>\n",
       "    <tr>\n",
       "      <th>348</th>\n",
       "      <td>1497</td>\n",
       "      <td>17.00</td>\n",
       "    </tr>\n",
       "    <tr>\n",
       "      <th>349</th>\n",
       "      <td>1498</td>\n",
       "      <td>42.00</td>\n",
       "    </tr>\n",
       "    <tr>\n",
       "      <th>350</th>\n",
       "      <td>1499</td>\n",
       "      <td>46.00</td>\n",
       "    </tr>\n",
       "  </tbody>\n",
       "</table>\n",
       "<p>351 rows × 2 columns</p>\n",
       "</div>"
      ],
      "text/plain": [
       "     user_id  messages_qty\n",
       "0       1001          0.00\n",
       "1       1002         10.00\n",
       "2       1005         46.00\n",
       "3       1006          0.00\n",
       "4       1007         25.00\n",
       "..       ...           ...\n",
       "346     1494          0.00\n",
       "347     1496         39.00\n",
       "348     1497         17.00\n",
       "349     1498         42.00\n",
       "350     1499         46.00\n",
       "\n",
       "[351 rows x 2 columns]"
      ]
     },
     "execution_count": 111,
     "metadata": {},
     "output_type": "execute_result"
    }
   ],
   "source": [
    "merged_total_smart_sms_pivot_user=merged_total_smart.pivot_table(index=['user_id'], values='messages_qty', aggfunc='mean').reset_index()\n",
    "merged_total_smart_sms_pivot_user"
   ]
  },
  {
   "cell_type": "code",
   "execution_count": 112,
   "id": "17bf902f",
   "metadata": {},
   "outputs": [
    {
     "data": {
      "text/plain": [
       "<AxesSubplot:>"
      ]
     },
     "execution_count": 112,
     "metadata": {},
     "output_type": "execute_result"
    },
    {
     "data": {
      "image/png": "[encoded data removed]",
      "text/plain": [
       "<Figure size 432x288 with 1 Axes>"
      ]
     },
     "metadata": {
      "needs_background": "light"
     },
     "output_type": "display_data"
    }
   ],
   "source": [
    "merged_total_smart_sms_pivot_user.messages_qty.hist()"
   ]
  },
  {
   "cell_type": "markdown",
   "id": "ade682f3",
   "metadata": {},
   "source": [
    "Распределение выглядит как нормальное и тяготеет к 10 смс в месяц."
   ]
  },
  {
   "cell_type": "markdown",
   "id": "72ac9a19",
   "metadata": {},
   "source": [
    "##### Тариф ultra"
   ]
  },
  {
   "cell_type": "code",
   "execution_count": 113,
   "id": "b12be83b",
   "metadata": {},
   "outputs": [
    {
     "data": {
      "text/html": [
       "<div>\n",
       "<style scoped>\n",
       "    .dataframe tbody tr th:only-of-type {\n",
       "        vertical-align: middle;\n",
       "    }\n",
       "\n",
       "    .dataframe tbody tr th {\n",
       "        vertical-align: top;\n",
       "    }\n",
       "\n",
       "    .dataframe thead th {\n",
       "        text-align: right;\n",
       "    }\n",
       "</style>\n",
       "<table border=\"1\" class=\"dataframe\">\n",
       "  <thead>\n",
       "    <tr style=\"text-align: right;\">\n",
       "      <th></th>\n",
       "      <th>user_id</th>\n",
       "      <th>month</th>\n",
       "      <th>city</th>\n",
       "      <th>tariff</th>\n",
       "      <th>rub_monthly_fee</th>\n",
       "      <th>duration_rounded_up</th>\n",
       "      <th>pay_for_call_extra</th>\n",
       "      <th>messages_qty</th>\n",
       "      <th>pmnt_for_extra_messages</th>\n",
       "      <th>mb_used_sum</th>\n",
       "      <th>pmnt_for_internet</th>\n",
       "      <th>bill_per_month</th>\n",
       "    </tr>\n",
       "  </thead>\n",
       "  <tbody>\n",
       "    <tr>\n",
       "      <th>0</th>\n",
       "      <td>1000</td>\n",
       "      <td>5</td>\n",
       "      <td>Краснодар</td>\n",
       "      <td>ultra</td>\n",
       "      <td>1950</td>\n",
       "      <td>159.00</td>\n",
       "      <td>0.00</td>\n",
       "      <td>22.00</td>\n",
       "      <td>0.00</td>\n",
       "      <td>2253.49</td>\n",
       "      <td>4350</td>\n",
       "      <td>6300.00</td>\n",
       "    </tr>\n",
       "    <tr>\n",
       "      <th>1</th>\n",
       "      <td>1000</td>\n",
       "      <td>6</td>\n",
       "      <td>Краснодар</td>\n",
       "      <td>ultra</td>\n",
       "      <td>1950</td>\n",
       "      <td>172.00</td>\n",
       "      <td>0.00</td>\n",
       "      <td>60.00</td>\n",
       "      <td>0.00</td>\n",
       "      <td>23233.77</td>\n",
       "      <td>1200</td>\n",
       "      <td>3150.00</td>\n",
       "    </tr>\n",
       "    <tr>\n",
       "      <th>2</th>\n",
       "      <td>1000</td>\n",
       "      <td>7</td>\n",
       "      <td>Краснодар</td>\n",
       "      <td>ultra</td>\n",
       "      <td>1950</td>\n",
       "      <td>340.00</td>\n",
       "      <td>0.00</td>\n",
       "      <td>75.00</td>\n",
       "      <td>0.00</td>\n",
       "      <td>14003.64</td>\n",
       "      <td>2550</td>\n",
       "      <td>4500.00</td>\n",
       "    </tr>\n",
       "    <tr>\n",
       "      <th>3</th>\n",
       "      <td>1000</td>\n",
       "      <td>8</td>\n",
       "      <td>Краснодар</td>\n",
       "      <td>ultra</td>\n",
       "      <td>1950</td>\n",
       "      <td>408.00</td>\n",
       "      <td>0.00</td>\n",
       "      <td>81.00</td>\n",
       "      <td>0.00</td>\n",
       "      <td>14055.93</td>\n",
       "      <td>2550</td>\n",
       "      <td>4500.00</td>\n",
       "    </tr>\n",
       "    <tr>\n",
       "      <th>4</th>\n",
       "      <td>1000</td>\n",
       "      <td>9</td>\n",
       "      <td>Краснодар</td>\n",
       "      <td>ultra</td>\n",
       "      <td>1950</td>\n",
       "      <td>466.00</td>\n",
       "      <td>0.00</td>\n",
       "      <td>57.00</td>\n",
       "      <td>0.00</td>\n",
       "      <td>14568.91</td>\n",
       "      <td>2550</td>\n",
       "      <td>4500.00</td>\n",
       "    </tr>\n",
       "  </tbody>\n",
       "</table>\n",
       "</div>"
      ],
      "text/plain": [
       "   user_id  month       city tariff  rub_monthly_fee  duration_rounded_up  \\\n",
       "0     1000      5  Краснодар  ultra             1950               159.00   \n",
       "1     1000      6  Краснодар  ultra             1950               172.00   \n",
       "2     1000      7  Краснодар  ultra             1950               340.00   \n",
       "3     1000      8  Краснодар  ultra             1950               408.00   \n",
       "4     1000      9  Краснодар  ultra             1950               466.00   \n",
       "\n",
       "   pay_for_call_extra  messages_qty  pmnt_for_extra_messages  mb_used_sum  \\\n",
       "0                0.00         22.00                     0.00      2253.49   \n",
       "1                0.00         60.00                     0.00     23233.77   \n",
       "2                0.00         75.00                     0.00     14003.64   \n",
       "3                0.00         81.00                     0.00     14055.93   \n",
       "4                0.00         57.00                     0.00     14568.91   \n",
       "\n",
       "   pmnt_for_internet  bill_per_month  \n",
       "0               4350         6300.00  \n",
       "1               1200         3150.00  \n",
       "2               2550         4500.00  \n",
       "3               2550         4500.00  \n",
       "4               2550         4500.00  "
      ]
     },
     "execution_count": 113,
     "metadata": {},
     "output_type": "execute_result"
    }
   ],
   "source": [
    "merged_total_ultra.head()"
   ]
  },
  {
   "cell_type": "code",
   "execution_count": 114,
   "id": "c8b25348",
   "metadata": {
    "scrolled": true
   },
   "outputs": [
    {
     "data": {
      "text/plain": [
       "count   986.00\n",
       "mean     49.31\n",
       "std      47.81\n",
       "min       0.00\n",
       "25%       6.00\n",
       "50%      38.00\n",
       "75%      78.75\n",
       "max     224.00\n",
       "Name: messages_qty, dtype: float64"
      ]
     },
     "execution_count": 114,
     "metadata": {},
     "output_type": "execute_result"
    }
   ],
   "source": [
    "merged_total_ultra.messages_qty.describe()"
   ]
  },
  {
   "cell_type": "code",
   "execution_count": 115,
   "id": "63eb1d03",
   "metadata": {},
   "outputs": [
    {
     "data": {
      "text/plain": [
       "0"
      ]
     },
     "execution_count": 115,
     "metadata": {},
     "output_type": "execute_result"
    }
   ],
   "source": [
    "merged_total_ultra.query('messages_qty > 1000')['user_id'].nunique()"
   ]
  },
  {
   "cell_type": "code",
   "execution_count": 116,
   "id": "1de592e4",
   "metadata": {},
   "outputs": [
    {
     "data": {
      "text/plain": [
       "<AxesSubplot:>"
      ]
     },
     "execution_count": 116,
     "metadata": {},
     "output_type": "execute_result"
    },
    {
     "data": {
      "image/png": "[encoded data removed]",
      "text/plain": [
       "<Figure size 432x288 with 1 Axes>"
      ]
     },
     "metadata": {
      "needs_background": "light"
     },
     "output_type": "display_data"
    }
   ],
   "source": [
    "merged_total_ultra.messages_qty.hist(bins=20)"
   ]
  },
  {
   "cell_type": "markdown",
   "id": "78524ac5",
   "metadata": {},
   "source": [
    "Пользователи отправляли от 1 до 224 смс в течение этого года, никто из них не отправил более 1000 сообщений, включенных в тариф. Среднее - 49,3 смс, наиболее часто пользователи отправляли также до 10 смс в месяц."
   ]
  },
  {
   "cell_type": "code",
   "execution_count": 117,
   "id": "9d7d2986",
   "metadata": {},
   "outputs": [
    {
     "data": {
      "text/html": [
       "<div>\n",
       "<style scoped>\n",
       "    .dataframe tbody tr th:only-of-type {\n",
       "        vertical-align: middle;\n",
       "    }\n",
       "\n",
       "    .dataframe tbody tr th {\n",
       "        vertical-align: top;\n",
       "    }\n",
       "\n",
       "    .dataframe thead th {\n",
       "        text-align: right;\n",
       "    }\n",
       "</style>\n",
       "<table border=\"1\" class=\"dataframe\">\n",
       "  <thead>\n",
       "    <tr style=\"text-align: right;\">\n",
       "      <th></th>\n",
       "      <th>month</th>\n",
       "      <th>messages_qty</th>\n",
       "    </tr>\n",
       "  </thead>\n",
       "  <tbody>\n",
       "    <tr>\n",
       "      <th>0</th>\n",
       "      <td>1</td>\n",
       "      <td>33.78</td>\n",
       "    </tr>\n",
       "    <tr>\n",
       "      <th>1</th>\n",
       "      <td>2</td>\n",
       "      <td>21.96</td>\n",
       "    </tr>\n",
       "    <tr>\n",
       "      <th>2</th>\n",
       "      <td>3</td>\n",
       "      <td>32.30</td>\n",
       "    </tr>\n",
       "    <tr>\n",
       "      <th>3</th>\n",
       "      <td>4</td>\n",
       "      <td>31.56</td>\n",
       "    </tr>\n",
       "    <tr>\n",
       "      <th>4</th>\n",
       "      <td>5</td>\n",
       "      <td>37.85</td>\n",
       "    </tr>\n",
       "    <tr>\n",
       "      <th>5</th>\n",
       "      <td>6</td>\n",
       "      <td>41.73</td>\n",
       "    </tr>\n",
       "    <tr>\n",
       "      <th>6</th>\n",
       "      <td>7</td>\n",
       "      <td>49.85</td>\n",
       "    </tr>\n",
       "    <tr>\n",
       "      <th>7</th>\n",
       "      <td>8</td>\n",
       "      <td>48.44</td>\n",
       "    </tr>\n",
       "    <tr>\n",
       "      <th>8</th>\n",
       "      <td>9</td>\n",
       "      <td>52.29</td>\n",
       "    </tr>\n",
       "    <tr>\n",
       "      <th>9</th>\n",
       "      <td>10</td>\n",
       "      <td>58.43</td>\n",
       "    </tr>\n",
       "    <tr>\n",
       "      <th>10</th>\n",
       "      <td>11</td>\n",
       "      <td>55.79</td>\n",
       "    </tr>\n",
       "    <tr>\n",
       "      <th>11</th>\n",
       "      <td>12</td>\n",
       "      <td>60.18</td>\n",
       "    </tr>\n",
       "  </tbody>\n",
       "</table>\n",
       "</div>"
      ],
      "text/plain": [
       "    month  messages_qty\n",
       "0       1         33.78\n",
       "1       2         21.96\n",
       "2       3         32.30\n",
       "3       4         31.56\n",
       "4       5         37.85\n",
       "5       6         41.73\n",
       "6       7         49.85\n",
       "7       8         48.44\n",
       "8       9         52.29\n",
       "9      10         58.43\n",
       "10     11         55.79\n",
       "11     12         60.18"
      ]
     },
     "execution_count": 117,
     "metadata": {},
     "output_type": "execute_result"
    }
   ],
   "source": [
    "merged_total_ultra_sms_pivot=merged_total_ultra.pivot_table(index=['month'], values='messages_qty', aggfunc='mean').reset_index()\n",
    "merged_total_ultra_sms_pivot"
   ]
  },
  {
   "cell_type": "code",
   "execution_count": 118,
   "id": "d8936a10",
   "metadata": {},
   "outputs": [
    {
     "data": {
      "text/plain": [
       "<AxesSubplot:>"
      ]
     },
     "execution_count": 118,
     "metadata": {},
     "output_type": "execute_result"
    },
    {
     "data": {
      "image/png": "[encoded data removed]",
      "text/plain": [
       "<Figure size 432x288 with 1 Axes>"
      ]
     },
     "metadata": {
      "needs_background": "light"
     },
     "output_type": "display_data"
    }
   ],
   "source": [
    "merged_total_ultra_sms_pivot.messages_qty.plot()"
   ]
  },
  {
   "cell_type": "markdown",
   "id": "04577802",
   "metadata": {},
   "source": [
    "Среднее количество отправляемых в месяц смс также растет от начала года к концу. "
   ]
  },
  {
   "cell_type": "code",
   "execution_count": 119,
   "id": "1591ce3f",
   "metadata": {},
   "outputs": [
    {
     "data": {
      "text/html": [
       "<div>\n",
       "<style scoped>\n",
       "    .dataframe tbody tr th:only-of-type {\n",
       "        vertical-align: middle;\n",
       "    }\n",
       "\n",
       "    .dataframe tbody tr th {\n",
       "        vertical-align: top;\n",
       "    }\n",
       "\n",
       "    .dataframe thead th {\n",
       "        text-align: right;\n",
       "    }\n",
       "</style>\n",
       "<table border=\"1\" class=\"dataframe\">\n",
       "  <thead>\n",
       "    <tr style=\"text-align: right;\">\n",
       "      <th></th>\n",
       "      <th>user_id</th>\n",
       "      <th>messages_qty</th>\n",
       "    </tr>\n",
       "  </thead>\n",
       "  <tbody>\n",
       "    <tr>\n",
       "      <th>0</th>\n",
       "      <td>1000</td>\n",
       "      <td>62.00</td>\n",
       "    </tr>\n",
       "    <tr>\n",
       "      <th>1</th>\n",
       "      <td>1003</td>\n",
       "      <td>76.00</td>\n",
       "    </tr>\n",
       "    <tr>\n",
       "      <th>2</th>\n",
       "      <td>1004</td>\n",
       "      <td>149.00</td>\n",
       "    </tr>\n",
       "    <tr>\n",
       "      <th>3</th>\n",
       "      <td>1013</td>\n",
       "      <td>21.00</td>\n",
       "    </tr>\n",
       "    <tr>\n",
       "      <th>4</th>\n",
       "      <td>1016</td>\n",
       "      <td>71.00</td>\n",
       "    </tr>\n",
       "    <tr>\n",
       "      <th>...</th>\n",
       "      <td>...</td>\n",
       "      <td>...</td>\n",
       "    </tr>\n",
       "    <tr>\n",
       "      <th>144</th>\n",
       "      <td>1476</td>\n",
       "      <td>5.00</td>\n",
       "    </tr>\n",
       "    <tr>\n",
       "      <th>145</th>\n",
       "      <td>1485</td>\n",
       "      <td>155.00</td>\n",
       "    </tr>\n",
       "    <tr>\n",
       "      <th>146</th>\n",
       "      <td>1491</td>\n",
       "      <td>48.00</td>\n",
       "    </tr>\n",
       "    <tr>\n",
       "      <th>147</th>\n",
       "      <td>1493</td>\n",
       "      <td>47.00</td>\n",
       "    </tr>\n",
       "    <tr>\n",
       "      <th>148</th>\n",
       "      <td>1495</td>\n",
       "      <td>68.00</td>\n",
       "    </tr>\n",
       "  </tbody>\n",
       "</table>\n",
       "<p>149 rows × 2 columns</p>\n",
       "</div>"
      ],
      "text/plain": [
       "     user_id  messages_qty\n",
       "0       1000         62.00\n",
       "1       1003         76.00\n",
       "2       1004        149.00\n",
       "3       1013         21.00\n",
       "4       1016         71.00\n",
       "..       ...           ...\n",
       "144     1476          5.00\n",
       "145     1485        155.00\n",
       "146     1491         48.00\n",
       "147     1493         47.00\n",
       "148     1495         68.00\n",
       "\n",
       "[149 rows x 2 columns]"
      ]
     },
     "execution_count": 119,
     "metadata": {},
     "output_type": "execute_result"
    }
   ],
   "source": [
    "merged_total_ultra_sms_pivot_user=merged_total_ultra.pivot_table(index=['user_id'], values='messages_qty', aggfunc='mean').reset_index()\n",
    "merged_total_ultra_sms_pivot_user"
   ]
  },
  {
   "cell_type": "code",
   "execution_count": 120,
   "id": "c6857224",
   "metadata": {},
   "outputs": [
    {
     "data": {
      "text/plain": [
       "<AxesSubplot:>"
      ]
     },
     "execution_count": 120,
     "metadata": {},
     "output_type": "execute_result"
    },
    {
     "data": {
      "image/png": "[encoded data removed]",
      "text/plain": [
       "<Figure size 432x288 with 1 Axes>"
      ]
     },
     "metadata": {
      "needs_background": "light"
     },
     "output_type": "display_data"
    }
   ],
   "source": [
    "merged_total_ultra_sms_pivot_user.messages_qty.hist(bins=20)"
   ]
  },
  {
   "cell_type": "markdown",
   "id": "b0ef694e",
   "metadata": {},
   "source": [
    "Наиболее часто пользователь отправлял менее 10 смс в месяц. "
   ]
  },
  {
   "cell_type": "markdown",
   "id": "364345af",
   "metadata": {},
   "source": [
    "#### Данные об интернет-трафике"
   ]
  },
  {
   "cell_type": "markdown",
   "id": "3f7a1e34",
   "metadata": {},
   "source": [
    "##### Тариф smart"
   ]
  },
  {
   "cell_type": "code",
   "execution_count": 121,
   "id": "8a944906",
   "metadata": {},
   "outputs": [
    {
     "data": {
      "text/html": [
       "<div>\n",
       "<style scoped>\n",
       "    .dataframe tbody tr th:only-of-type {\n",
       "        vertical-align: middle;\n",
       "    }\n",
       "\n",
       "    .dataframe tbody tr th {\n",
       "        vertical-align: top;\n",
       "    }\n",
       "\n",
       "    .dataframe thead th {\n",
       "        text-align: right;\n",
       "    }\n",
       "</style>\n",
       "<table border=\"1\" class=\"dataframe\">\n",
       "  <thead>\n",
       "    <tr style=\"text-align: right;\">\n",
       "      <th></th>\n",
       "      <th>user_id</th>\n",
       "      <th>month</th>\n",
       "      <th>city</th>\n",
       "      <th>tariff</th>\n",
       "      <th>rub_monthly_fee</th>\n",
       "      <th>duration_rounded_up</th>\n",
       "      <th>pay_for_call_extra</th>\n",
       "      <th>messages_qty</th>\n",
       "      <th>pmnt_for_extra_messages</th>\n",
       "      <th>mb_used_sum</th>\n",
       "      <th>pmnt_for_internet</th>\n",
       "      <th>bill_per_month</th>\n",
       "    </tr>\n",
       "  </thead>\n",
       "  <tbody>\n",
       "    <tr>\n",
       "      <th>8</th>\n",
       "      <td>1001</td>\n",
       "      <td>11</td>\n",
       "      <td>Москва</td>\n",
       "      <td>smart</td>\n",
       "      <td>550</td>\n",
       "      <td>430.00</td>\n",
       "      <td>0.00</td>\n",
       "      <td>0.00</td>\n",
       "      <td>0.00</td>\n",
       "      <td>18429.34</td>\n",
       "      <td>0</td>\n",
       "      <td>550.00</td>\n",
       "    </tr>\n",
       "    <tr>\n",
       "      <th>9</th>\n",
       "      <td>1001</td>\n",
       "      <td>12</td>\n",
       "      <td>Москва</td>\n",
       "      <td>smart</td>\n",
       "      <td>550</td>\n",
       "      <td>414.00</td>\n",
       "      <td>0.00</td>\n",
       "      <td>0.00</td>\n",
       "      <td>0.00</td>\n",
       "      <td>14036.66</td>\n",
       "      <td>400</td>\n",
       "      <td>950.00</td>\n",
       "    </tr>\n",
       "    <tr>\n",
       "      <th>10</th>\n",
       "      <td>1002</td>\n",
       "      <td>6</td>\n",
       "      <td>Стерлитамак</td>\n",
       "      <td>smart</td>\n",
       "      <td>550</td>\n",
       "      <td>117.00</td>\n",
       "      <td>0.00</td>\n",
       "      <td>4.00</td>\n",
       "      <td>0.00</td>\n",
       "      <td>10856.82</td>\n",
       "      <td>1000</td>\n",
       "      <td>1550.00</td>\n",
       "    </tr>\n",
       "    <tr>\n",
       "      <th>11</th>\n",
       "      <td>1002</td>\n",
       "      <td>7</td>\n",
       "      <td>Стерлитамак</td>\n",
       "      <td>smart</td>\n",
       "      <td>550</td>\n",
       "      <td>214.00</td>\n",
       "      <td>0.00</td>\n",
       "      <td>11.00</td>\n",
       "      <td>0.00</td>\n",
       "      <td>17580.10</td>\n",
       "      <td>0</td>\n",
       "      <td>550.00</td>\n",
       "    </tr>\n",
       "    <tr>\n",
       "      <th>12</th>\n",
       "      <td>1002</td>\n",
       "      <td>8</td>\n",
       "      <td>Стерлитамак</td>\n",
       "      <td>smart</td>\n",
       "      <td>550</td>\n",
       "      <td>289.00</td>\n",
       "      <td>0.00</td>\n",
       "      <td>13.00</td>\n",
       "      <td>0.00</td>\n",
       "      <td>20319.26</td>\n",
       "      <td>0</td>\n",
       "      <td>550.00</td>\n",
       "    </tr>\n",
       "  </tbody>\n",
       "</table>\n",
       "</div>"
      ],
      "text/plain": [
       "    user_id  month         city tariff  rub_monthly_fee  duration_rounded_up  \\\n",
       "8      1001     11       Москва  smart              550               430.00   \n",
       "9      1001     12       Москва  smart              550               414.00   \n",
       "10     1002      6  Стерлитамак  smart              550               117.00   \n",
       "11     1002      7  Стерлитамак  smart              550               214.00   \n",
       "12     1002      8  Стерлитамак  smart              550               289.00   \n",
       "\n",
       "    pay_for_call_extra  messages_qty  pmnt_for_extra_messages  mb_used_sum  \\\n",
       "8                 0.00          0.00                     0.00     18429.34   \n",
       "9                 0.00          0.00                     0.00     14036.66   \n",
       "10                0.00          4.00                     0.00     10856.82   \n",
       "11                0.00         11.00                     0.00     17580.10   \n",
       "12                0.00         13.00                     0.00     20319.26   \n",
       "\n",
       "    pmnt_for_internet  bill_per_month  \n",
       "8                   0          550.00  \n",
       "9                 400          950.00  \n",
       "10               1000         1550.00  \n",
       "11                  0          550.00  \n",
       "12                  0          550.00  "
      ]
     },
     "execution_count": 121,
     "metadata": {},
     "output_type": "execute_result"
    }
   ],
   "source": [
    "merged_total_smart.head()"
   ]
  },
  {
   "cell_type": "code",
   "execution_count": 122,
   "id": "dcecd28f",
   "metadata": {},
   "outputs": [
    {
     "data": {
      "text/plain": [
       "count    2230.00\n",
       "mean    16201.12\n",
       "std      5879.19\n",
       "min         0.00\n",
       "25%     12630.03\n",
       "50%     16505.47\n",
       "75%     20042.11\n",
       "max     38552.45\n",
       "Name: mb_used_sum, dtype: float64"
      ]
     },
     "execution_count": 122,
     "metadata": {},
     "output_type": "execute_result"
    }
   ],
   "source": [
    "merged_total_smart.mb_used_sum.describe()"
   ]
  },
  {
   "cell_type": "code",
   "execution_count": 123,
   "id": "d49d3436",
   "metadata": {},
   "outputs": [
    {
     "data": {
      "text/plain": [
       "314"
      ]
     },
     "execution_count": 123,
     "metadata": {},
     "output_type": "execute_result"
    }
   ],
   "source": [
    "merged_total_smart.query('mb_used_sum > 15000')['user_id'].nunique()"
   ]
  },
  {
   "cell_type": "markdown",
   "id": "4e406c06",
   "metadata": {},
   "source": [
    "314 пользователей из 359 хотя бы раз в течение года превысили свой включенный в тариф трафик. "
   ]
  },
  {
   "cell_type": "code",
   "execution_count": 124,
   "id": "2e55248d",
   "metadata": {},
   "outputs": [
    {
     "data": {
      "text/plain": [
       "<AxesSubplot:>"
      ]
     },
     "execution_count": 124,
     "metadata": {},
     "output_type": "execute_result"
    },
    {
     "data": {
      "image/png": "[encoded data removed]",
      "text/plain": [
       "<Figure size 432x288 with 1 Axes>"
      ]
     },
     "metadata": {
      "needs_background": "light"
     },
     "output_type": "display_data"
    }
   ],
   "source": [
    "merged_total_smart.mb_used_sum.hist(bins=30)"
   ]
  },
  {
   "cell_type": "markdown",
   "id": "048f641f",
   "metadata": {},
   "source": [
    "Пользователи этого тарифа используют от 0 до 38,5 Гб в месяц интернет-трафика. 270 пользователей из 351 хотя бы раз в месяц в течение года превысили лимит, включенный в тариф. Большинство из них используют около 16 Гб в месяц в среднем"
   ]
  },
  {
   "cell_type": "code",
   "execution_count": 125,
   "id": "c40c223a",
   "metadata": {},
   "outputs": [
    {
     "data": {
      "text/html": [
       "<div>\n",
       "<style scoped>\n",
       "    .dataframe tbody tr th:only-of-type {\n",
       "        vertical-align: middle;\n",
       "    }\n",
       "\n",
       "    .dataframe tbody tr th {\n",
       "        vertical-align: top;\n",
       "    }\n",
       "\n",
       "    .dataframe thead th {\n",
       "        text-align: right;\n",
       "    }\n",
       "</style>\n",
       "<table border=\"1\" class=\"dataframe\">\n",
       "  <thead>\n",
       "    <tr style=\"text-align: right;\">\n",
       "      <th></th>\n",
       "      <th>month</th>\n",
       "      <th>mb_used_sum</th>\n",
       "    </tr>\n",
       "  </thead>\n",
       "  <tbody>\n",
       "    <tr>\n",
       "      <th>0</th>\n",
       "      <td>1</td>\n",
       "      <td>8513.72</td>\n",
       "    </tr>\n",
       "    <tr>\n",
       "      <th>1</th>\n",
       "      <td>2</td>\n",
       "      <td>11597.05</td>\n",
       "    </tr>\n",
       "    <tr>\n",
       "      <th>2</th>\n",
       "      <td>3</td>\n",
       "      <td>15104.16</td>\n",
       "    </tr>\n",
       "    <tr>\n",
       "      <th>3</th>\n",
       "      <td>4</td>\n",
       "      <td>13462.18</td>\n",
       "    </tr>\n",
       "    <tr>\n",
       "      <th>4</th>\n",
       "      <td>5</td>\n",
       "      <td>15805.18</td>\n",
       "    </tr>\n",
       "    <tr>\n",
       "      <th>5</th>\n",
       "      <td>6</td>\n",
       "      <td>15794.65</td>\n",
       "    </tr>\n",
       "    <tr>\n",
       "      <th>6</th>\n",
       "      <td>7</td>\n",
       "      <td>15743.15</td>\n",
       "    </tr>\n",
       "    <tr>\n",
       "      <th>7</th>\n",
       "      <td>8</td>\n",
       "      <td>16610.72</td>\n",
       "    </tr>\n",
       "    <tr>\n",
       "      <th>8</th>\n",
       "      <td>9</td>\n",
       "      <td>16303.58</td>\n",
       "    </tr>\n",
       "    <tr>\n",
       "      <th>9</th>\n",
       "      <td>10</td>\n",
       "      <td>16757.12</td>\n",
       "    </tr>\n",
       "    <tr>\n",
       "      <th>10</th>\n",
       "      <td>11</td>\n",
       "      <td>16895.70</td>\n",
       "    </tr>\n",
       "    <tr>\n",
       "      <th>11</th>\n",
       "      <td>12</td>\n",
       "      <td>18060.07</td>\n",
       "    </tr>\n",
       "  </tbody>\n",
       "</table>\n",
       "</div>"
      ],
      "text/plain": [
       "    month  mb_used_sum\n",
       "0       1      8513.72\n",
       "1       2     11597.05\n",
       "2       3     15104.16\n",
       "3       4     13462.18\n",
       "4       5     15805.18\n",
       "5       6     15794.65\n",
       "6       7     15743.15\n",
       "7       8     16610.72\n",
       "8       9     16303.58\n",
       "9      10     16757.12\n",
       "10     11     16895.70\n",
       "11     12     18060.07"
      ]
     },
     "execution_count": 125,
     "metadata": {},
     "output_type": "execute_result"
    }
   ],
   "source": [
    "merged_total_smart_internet_pivot=merged_total_smart.pivot_table(index=['month'], values='mb_used_sum', aggfunc='mean').reset_index()\n",
    "merged_total_smart_internet_pivot"
   ]
  },
  {
   "cell_type": "code",
   "execution_count": 126,
   "id": "adc638d3",
   "metadata": {},
   "outputs": [
    {
     "data": {
      "text/plain": [
       "<AxesSubplot:>"
      ]
     },
     "execution_count": 126,
     "metadata": {},
     "output_type": "execute_result"
    },
    {
     "data": {
      "image/png": "[encoded data removed]",
      "text/plain": [
       "<Figure size 432x288 with 1 Axes>"
      ]
     },
     "metadata": {
      "needs_background": "light"
     },
     "output_type": "display_data"
    }
   ],
   "source": [
    "merged_total_smart_internet_pivot.mb_used_sum.plot()"
   ]
  },
  {
   "cell_type": "markdown",
   "id": "0e27a993",
   "metadata": {},
   "source": [
    "Используемый трафик также растет от начала года к концу"
   ]
  },
  {
   "cell_type": "markdown",
   "id": "1e3ee035",
   "metadata": {},
   "source": [
    "_Средний ежемесячный трафик по пользователям (за год)_"
   ]
  },
  {
   "cell_type": "code",
   "execution_count": 127,
   "id": "a27cff3c",
   "metadata": {},
   "outputs": [
    {
     "data": {
      "text/html": [
       "<div>\n",
       "<style scoped>\n",
       "    .dataframe tbody tr th:only-of-type {\n",
       "        vertical-align: middle;\n",
       "    }\n",
       "\n",
       "    .dataframe tbody tr th {\n",
       "        vertical-align: top;\n",
       "    }\n",
       "\n",
       "    .dataframe thead th {\n",
       "        text-align: right;\n",
       "    }\n",
       "</style>\n",
       "<table border=\"1\" class=\"dataframe\">\n",
       "  <thead>\n",
       "    <tr style=\"text-align: right;\">\n",
       "      <th></th>\n",
       "      <th>user_id</th>\n",
       "      <th>mb_used_sum</th>\n",
       "    </tr>\n",
       "  </thead>\n",
       "  <tbody>\n",
       "    <tr>\n",
       "      <th>0</th>\n",
       "      <td>1001</td>\n",
       "      <td>16233.00</td>\n",
       "    </tr>\n",
       "    <tr>\n",
       "      <th>1</th>\n",
       "      <td>1002</td>\n",
       "      <td>16576.65</td>\n",
       "    </tr>\n",
       "    <tr>\n",
       "      <th>2</th>\n",
       "      <td>1005</td>\n",
       "      <td>8307.28</td>\n",
       "    </tr>\n",
       "    <tr>\n",
       "      <th>3</th>\n",
       "      <td>1006</td>\n",
       "      <td>14926.26</td>\n",
       "    </tr>\n",
       "    <tr>\n",
       "      <th>4</th>\n",
       "      <td>1007</td>\n",
       "      <td>14625.07</td>\n",
       "    </tr>\n",
       "    <tr>\n",
       "      <th>...</th>\n",
       "      <td>...</td>\n",
       "      <td>...</td>\n",
       "    </tr>\n",
       "    <tr>\n",
       "      <th>346</th>\n",
       "      <td>1494</td>\n",
       "      <td>15398.83</td>\n",
       "    </tr>\n",
       "    <tr>\n",
       "      <th>347</th>\n",
       "      <td>1496</td>\n",
       "      <td>22578.52</td>\n",
       "    </tr>\n",
       "    <tr>\n",
       "      <th>348</th>\n",
       "      <td>1497</td>\n",
       "      <td>15191.66</td>\n",
       "    </tr>\n",
       "    <tr>\n",
       "      <th>349</th>\n",
       "      <td>1498</td>\n",
       "      <td>18606.31</td>\n",
       "    </tr>\n",
       "    <tr>\n",
       "      <th>350</th>\n",
       "      <td>1499</td>\n",
       "      <td>12663.29</td>\n",
       "    </tr>\n",
       "  </tbody>\n",
       "</table>\n",
       "<p>351 rows × 2 columns</p>\n",
       "</div>"
      ],
      "text/plain": [
       "     user_id  mb_used_sum\n",
       "0       1001     16233.00\n",
       "1       1002     16576.65\n",
       "2       1005      8307.28\n",
       "3       1006     14926.26\n",
       "4       1007     14625.07\n",
       "..       ...          ...\n",
       "346     1494     15398.83\n",
       "347     1496     22578.52\n",
       "348     1497     15191.66\n",
       "349     1498     18606.31\n",
       "350     1499     12663.29\n",
       "\n",
       "[351 rows x 2 columns]"
      ]
     },
     "execution_count": 127,
     "metadata": {},
     "output_type": "execute_result"
    }
   ],
   "source": [
    "merged_total_smart_internet_pivot2=merged_total_smart.pivot_table(index=['user_id'], values='mb_used_sum', aggfunc='mean').reset_index()\n",
    "merged_total_smart_internet_pivot2"
   ]
  },
  {
   "cell_type": "code",
   "execution_count": 128,
   "id": "76da94f1",
   "metadata": {},
   "outputs": [
    {
     "data": {
      "text/plain": [
       "<AxesSubplot:>"
      ]
     },
     "execution_count": 128,
     "metadata": {},
     "output_type": "execute_result"
    },
    {
     "data": {
      "image/png": "[encoded data removed]",
      "text/plain": [
       "<Figure size 432x288 with 1 Axes>"
      ]
     },
     "metadata": {
      "needs_background": "light"
     },
     "output_type": "display_data"
    }
   ],
   "source": [
    "merged_total_smart_internet_pivot2.mb_used_sum.hist(bins=20)"
   ]
  },
  {
   "cell_type": "markdown",
   "id": "476101e4",
   "metadata": {},
   "source": [
    "Чаще всего пользователи используют чуть более 15 Гб"
   ]
  },
  {
   "cell_type": "markdown",
   "id": "a90f4fab",
   "metadata": {},
   "source": [
    "##### Тариф ultra"
   ]
  },
  {
   "cell_type": "code",
   "execution_count": 129,
   "id": "97a01a98",
   "metadata": {},
   "outputs": [
    {
     "data": {
      "text/html": [
       "<div>\n",
       "<style scoped>\n",
       "    .dataframe tbody tr th:only-of-type {\n",
       "        vertical-align: middle;\n",
       "    }\n",
       "\n",
       "    .dataframe tbody tr th {\n",
       "        vertical-align: top;\n",
       "    }\n",
       "\n",
       "    .dataframe thead th {\n",
       "        text-align: right;\n",
       "    }\n",
       "</style>\n",
       "<table border=\"1\" class=\"dataframe\">\n",
       "  <thead>\n",
       "    <tr style=\"text-align: right;\">\n",
       "      <th></th>\n",
       "      <th>user_id</th>\n",
       "      <th>month</th>\n",
       "      <th>city</th>\n",
       "      <th>tariff</th>\n",
       "      <th>rub_monthly_fee</th>\n",
       "      <th>duration_rounded_up</th>\n",
       "      <th>pay_for_call_extra</th>\n",
       "      <th>messages_qty</th>\n",
       "      <th>pmnt_for_extra_messages</th>\n",
       "      <th>mb_used_sum</th>\n",
       "      <th>pmnt_for_internet</th>\n",
       "      <th>bill_per_month</th>\n",
       "    </tr>\n",
       "  </thead>\n",
       "  <tbody>\n",
       "    <tr>\n",
       "      <th>0</th>\n",
       "      <td>1000</td>\n",
       "      <td>5</td>\n",
       "      <td>Краснодар</td>\n",
       "      <td>ultra</td>\n",
       "      <td>1950</td>\n",
       "      <td>159.00</td>\n",
       "      <td>0.00</td>\n",
       "      <td>22.00</td>\n",
       "      <td>0.00</td>\n",
       "      <td>2253.49</td>\n",
       "      <td>4350</td>\n",
       "      <td>6300.00</td>\n",
       "    </tr>\n",
       "    <tr>\n",
       "      <th>1</th>\n",
       "      <td>1000</td>\n",
       "      <td>6</td>\n",
       "      <td>Краснодар</td>\n",
       "      <td>ultra</td>\n",
       "      <td>1950</td>\n",
       "      <td>172.00</td>\n",
       "      <td>0.00</td>\n",
       "      <td>60.00</td>\n",
       "      <td>0.00</td>\n",
       "      <td>23233.77</td>\n",
       "      <td>1200</td>\n",
       "      <td>3150.00</td>\n",
       "    </tr>\n",
       "    <tr>\n",
       "      <th>2</th>\n",
       "      <td>1000</td>\n",
       "      <td>7</td>\n",
       "      <td>Краснодар</td>\n",
       "      <td>ultra</td>\n",
       "      <td>1950</td>\n",
       "      <td>340.00</td>\n",
       "      <td>0.00</td>\n",
       "      <td>75.00</td>\n",
       "      <td>0.00</td>\n",
       "      <td>14003.64</td>\n",
       "      <td>2550</td>\n",
       "      <td>4500.00</td>\n",
       "    </tr>\n",
       "    <tr>\n",
       "      <th>3</th>\n",
       "      <td>1000</td>\n",
       "      <td>8</td>\n",
       "      <td>Краснодар</td>\n",
       "      <td>ultra</td>\n",
       "      <td>1950</td>\n",
       "      <td>408.00</td>\n",
       "      <td>0.00</td>\n",
       "      <td>81.00</td>\n",
       "      <td>0.00</td>\n",
       "      <td>14055.93</td>\n",
       "      <td>2550</td>\n",
       "      <td>4500.00</td>\n",
       "    </tr>\n",
       "    <tr>\n",
       "      <th>4</th>\n",
       "      <td>1000</td>\n",
       "      <td>9</td>\n",
       "      <td>Краснодар</td>\n",
       "      <td>ultra</td>\n",
       "      <td>1950</td>\n",
       "      <td>466.00</td>\n",
       "      <td>0.00</td>\n",
       "      <td>57.00</td>\n",
       "      <td>0.00</td>\n",
       "      <td>14568.91</td>\n",
       "      <td>2550</td>\n",
       "      <td>4500.00</td>\n",
       "    </tr>\n",
       "  </tbody>\n",
       "</table>\n",
       "</div>"
      ],
      "text/plain": [
       "   user_id  month       city tariff  rub_monthly_fee  duration_rounded_up  \\\n",
       "0     1000      5  Краснодар  ultra             1950               159.00   \n",
       "1     1000      6  Краснодар  ultra             1950               172.00   \n",
       "2     1000      7  Краснодар  ultra             1950               340.00   \n",
       "3     1000      8  Краснодар  ultra             1950               408.00   \n",
       "4     1000      9  Краснодар  ultra             1950               466.00   \n",
       "\n",
       "   pay_for_call_extra  messages_qty  pmnt_for_extra_messages  mb_used_sum  \\\n",
       "0                0.00         22.00                     0.00      2253.49   \n",
       "1                0.00         60.00                     0.00     23233.77   \n",
       "2                0.00         75.00                     0.00     14003.64   \n",
       "3                0.00         81.00                     0.00     14055.93   \n",
       "4                0.00         57.00                     0.00     14568.91   \n",
       "\n",
       "   pmnt_for_internet  bill_per_month  \n",
       "0               4350         6300.00  \n",
       "1               1200         3150.00  \n",
       "2               2550         4500.00  \n",
       "3               2550         4500.00  \n",
       "4               2550         4500.00  "
      ]
     },
     "execution_count": 129,
     "metadata": {},
     "output_type": "execute_result"
    }
   ],
   "source": [
    "merged_total_ultra.head()"
   ]
  },
  {
   "cell_type": "code",
   "execution_count": 130,
   "id": "aeddb50f",
   "metadata": {},
   "outputs": [
    {
     "data": {
      "text/plain": [
       "count     986.00\n",
       "mean    19449.06\n",
       "std     10101.10\n",
       "min         0.00\n",
       "25%     11748.59\n",
       "50%     19304.02\n",
       "75%     26835.88\n",
       "max     49745.69\n",
       "Name: mb_used_sum, dtype: float64"
      ]
     },
     "execution_count": 130,
     "metadata": {},
     "output_type": "execute_result"
    }
   ],
   "source": [
    "merged_total_ultra.mb_used_sum.describe()"
   ]
  },
  {
   "cell_type": "code",
   "execution_count": 131,
   "id": "fe8e7f00",
   "metadata": {},
   "outputs": [
    {
     "data": {
      "text/plain": [
       "<AxesSubplot:>"
      ]
     },
     "execution_count": 131,
     "metadata": {},
     "output_type": "execute_result"
    },
    {
     "data": {
      "image/png": "[encoded data removed]",
      "text/plain": [
       "<Figure size 432x288 with 1 Axes>"
      ]
     },
     "metadata": {
      "needs_background": "light"
     },
     "output_type": "display_data"
    }
   ],
   "source": [
    "merged_total_ultra.mb_used_sum.hist(bins=30)"
   ]
  },
  {
   "cell_type": "code",
   "execution_count": 132,
   "id": "15bccded",
   "metadata": {},
   "outputs": [
    {
     "data": {
      "text/plain": [
       "46"
      ]
     },
     "execution_count": 132,
     "metadata": {},
     "output_type": "execute_result"
    }
   ],
   "source": [
    "merged_total_ultra.query('mb_used_sum > 30000')['user_id'].nunique()"
   ]
  },
  {
   "cell_type": "markdown",
   "id": "e55caa28",
   "metadata": {},
   "source": [
    "Пользователи используют от 0 до 49.7 Гб трафика в месяц, 46 пользователей из 149 хотя бы один раз в течение года превысили лимит в 30 Гб, включенных в тариф. Наиболее часто пользователь тратит около 19 Гб в месяц."
   ]
  },
  {
   "cell_type": "code",
   "execution_count": 133,
   "id": "f0f78dbf",
   "metadata": {},
   "outputs": [
    {
     "data": {
      "text/html": [
       "<div>\n",
       "<style scoped>\n",
       "    .dataframe tbody tr th:only-of-type {\n",
       "        vertical-align: middle;\n",
       "    }\n",
       "\n",
       "    .dataframe tbody tr th {\n",
       "        vertical-align: top;\n",
       "    }\n",
       "\n",
       "    .dataframe thead th {\n",
       "        text-align: right;\n",
       "    }\n",
       "</style>\n",
       "<table border=\"1\" class=\"dataframe\">\n",
       "  <thead>\n",
       "    <tr style=\"text-align: right;\">\n",
       "      <th></th>\n",
       "      <th>month</th>\n",
       "      <th>mb_used_sum</th>\n",
       "    </tr>\n",
       "  </thead>\n",
       "  <tbody>\n",
       "    <tr>\n",
       "      <th>0</th>\n",
       "      <td>1</td>\n",
       "      <td>13140.68</td>\n",
       "    </tr>\n",
       "    <tr>\n",
       "      <th>1</th>\n",
       "      <td>2</td>\n",
       "      <td>11775.94</td>\n",
       "    </tr>\n",
       "    <tr>\n",
       "      <th>2</th>\n",
       "      <td>3</td>\n",
       "      <td>17535.55</td>\n",
       "    </tr>\n",
       "    <tr>\n",
       "      <th>3</th>\n",
       "      <td>4</td>\n",
       "      <td>16828.13</td>\n",
       "    </tr>\n",
       "    <tr>\n",
       "      <th>4</th>\n",
       "      <td>5</td>\n",
       "      <td>19363.15</td>\n",
       "    </tr>\n",
       "    <tr>\n",
       "      <th>5</th>\n",
       "      <td>6</td>\n",
       "      <td>18924.94</td>\n",
       "    </tr>\n",
       "    <tr>\n",
       "      <th>6</th>\n",
       "      <td>7</td>\n",
       "      <td>20495.67</td>\n",
       "    </tr>\n",
       "    <tr>\n",
       "      <th>7</th>\n",
       "      <td>8</td>\n",
       "      <td>19576.05</td>\n",
       "    </tr>\n",
       "    <tr>\n",
       "      <th>8</th>\n",
       "      <td>9</td>\n",
       "      <td>19204.28</td>\n",
       "    </tr>\n",
       "    <tr>\n",
       "      <th>9</th>\n",
       "      <td>10</td>\n",
       "      <td>20045.34</td>\n",
       "    </tr>\n",
       "    <tr>\n",
       "      <th>10</th>\n",
       "      <td>11</td>\n",
       "      <td>19786.81</td>\n",
       "    </tr>\n",
       "    <tr>\n",
       "      <th>11</th>\n",
       "      <td>12</td>\n",
       "      <td>21637.51</td>\n",
       "    </tr>\n",
       "  </tbody>\n",
       "</table>\n",
       "</div>"
      ],
      "text/plain": [
       "    month  mb_used_sum\n",
       "0       1     13140.68\n",
       "1       2     11775.94\n",
       "2       3     17535.55\n",
       "3       4     16828.13\n",
       "4       5     19363.15\n",
       "5       6     18924.94\n",
       "6       7     20495.67\n",
       "7       8     19576.05\n",
       "8       9     19204.28\n",
       "9      10     20045.34\n",
       "10     11     19786.81\n",
       "11     12     21637.51"
      ]
     },
     "execution_count": 133,
     "metadata": {},
     "output_type": "execute_result"
    }
   ],
   "source": [
    "merged_total_ultra_internet_pivot=merged_total_ultra.pivot_table(index=['month'], values='mb_used_sum', aggfunc='mean').reset_index()\n",
    "merged_total_ultra_internet_pivot"
   ]
  },
  {
   "cell_type": "code",
   "execution_count": 134,
   "id": "8944e99e",
   "metadata": {},
   "outputs": [
    {
     "data": {
      "text/plain": [
       "<AxesSubplot:>"
      ]
     },
     "execution_count": 134,
     "metadata": {},
     "output_type": "execute_result"
    },
    {
     "data": {
      "image/png": "[encoded data removed]",
      "text/plain": [
       "<Figure size 432x288 with 1 Axes>"
      ]
     },
     "metadata": {
      "needs_background": "light"
     },
     "output_type": "display_data"
    }
   ],
   "source": [
    "merged_total_ultra_internet_pivot.mb_used_sum.plot()"
   ]
  },
  {
   "cell_type": "markdown",
   "id": "79cdaf50",
   "metadata": {},
   "source": [
    "Средний ежемесячный трафик пользователей этого тарифа также растет от начала года к концу. "
   ]
  },
  {
   "cell_type": "code",
   "execution_count": 135,
   "id": "6e22549e",
   "metadata": {},
   "outputs": [
    {
     "data": {
      "text/html": [
       "<div>\n",
       "<style scoped>\n",
       "    .dataframe tbody tr th:only-of-type {\n",
       "        vertical-align: middle;\n",
       "    }\n",
       "\n",
       "    .dataframe tbody tr th {\n",
       "        vertical-align: top;\n",
       "    }\n",
       "\n",
       "    .dataframe thead th {\n",
       "        text-align: right;\n",
       "    }\n",
       "</style>\n",
       "<table border=\"1\" class=\"dataframe\">\n",
       "  <thead>\n",
       "    <tr style=\"text-align: right;\">\n",
       "      <th></th>\n",
       "      <th>user_id</th>\n",
       "      <th>mb_used_sum</th>\n",
       "    </tr>\n",
       "  </thead>\n",
       "  <tbody>\n",
       "    <tr>\n",
       "      <th>0</th>\n",
       "      <td>1000</td>\n",
       "      <td>13424.04</td>\n",
       "    </tr>\n",
       "    <tr>\n",
       "      <th>1</th>\n",
       "      <td>1003</td>\n",
       "      <td>11456.13</td>\n",
       "    </tr>\n",
       "    <tr>\n",
       "      <th>2</th>\n",
       "      <td>1004</td>\n",
       "      <td>18629.94</td>\n",
       "    </tr>\n",
       "    <tr>\n",
       "      <th>3</th>\n",
       "      <td>1013</td>\n",
       "      <td>15258.58</td>\n",
       "    </tr>\n",
       "    <tr>\n",
       "      <th>4</th>\n",
       "      <td>1016</td>\n",
       "      <td>13405.22</td>\n",
       "    </tr>\n",
       "    <tr>\n",
       "      <th>...</th>\n",
       "      <td>...</td>\n",
       "      <td>...</td>\n",
       "    </tr>\n",
       "    <tr>\n",
       "      <th>144</th>\n",
       "      <td>1476</td>\n",
       "      <td>16698.43</td>\n",
       "    </tr>\n",
       "    <tr>\n",
       "      <th>145</th>\n",
       "      <td>1485</td>\n",
       "      <td>23422.76</td>\n",
       "    </tr>\n",
       "    <tr>\n",
       "      <th>146</th>\n",
       "      <td>1491</td>\n",
       "      <td>17940.25</td>\n",
       "    </tr>\n",
       "    <tr>\n",
       "      <th>147</th>\n",
       "      <td>1493</td>\n",
       "      <td>27209.69</td>\n",
       "    </tr>\n",
       "    <tr>\n",
       "      <th>148</th>\n",
       "      <td>1495</td>\n",
       "      <td>25482.11</td>\n",
       "    </tr>\n",
       "  </tbody>\n",
       "</table>\n",
       "<p>149 rows × 2 columns</p>\n",
       "</div>"
      ],
      "text/plain": [
       "     user_id  mb_used_sum\n",
       "0       1000     13424.04\n",
       "1       1003     11456.13\n",
       "2       1004     18629.94\n",
       "3       1013     15258.58\n",
       "4       1016     13405.22\n",
       "..       ...          ...\n",
       "144     1476     16698.43\n",
       "145     1485     23422.76\n",
       "146     1491     17940.25\n",
       "147     1493     27209.69\n",
       "148     1495     25482.11\n",
       "\n",
       "[149 rows x 2 columns]"
      ]
     },
     "execution_count": 135,
     "metadata": {},
     "output_type": "execute_result"
    }
   ],
   "source": [
    "merged_total_ultra_internet_pivot2=merged_total_ultra.pivot_table(index=['user_id'], values='mb_used_sum', aggfunc='mean').reset_index()\n",
    "merged_total_ultra_internet_pivot2"
   ]
  },
  {
   "cell_type": "code",
   "execution_count": 136,
   "id": "7fb80c6b",
   "metadata": {},
   "outputs": [
    {
     "data": {
      "text/plain": [
       "<AxesSubplot:>"
      ]
     },
     "execution_count": 136,
     "metadata": {},
     "output_type": "execute_result"
    },
    {
     "data": {
      "image/png": "[encoded data removed]",
      "text/plain": [
       "<Figure size 432x288 with 1 Axes>"
      ]
     },
     "metadata": {
      "needs_background": "light"
     },
     "output_type": "display_data"
    }
   ],
   "source": [
    "merged_total_ultra_internet_pivot2.mb_used_sum.hist(bins=20)"
   ]
  },
  {
   "cell_type": "markdown",
   "id": "9ff53918",
   "metadata": {},
   "source": [
    "Большинство пользователей также тратит менее включенных в тариф 30 Гб"
   ]
  },
  {
   "cell_type": "markdown",
   "id": "c85576be",
   "metadata": {},
   "source": [
    "_Растет ли среднее количество пользователей тарифов, а не только средние показатели их минут, смс и трафика?_"
   ]
  },
  {
   "cell_type": "code",
   "execution_count": 137,
   "id": "6b656271",
   "metadata": {},
   "outputs": [
    {
     "data": {
      "text/html": [
       "<div>\n",
       "<style scoped>\n",
       "    .dataframe tbody tr th:only-of-type {\n",
       "        vertical-align: middle;\n",
       "    }\n",
       "\n",
       "    .dataframe tbody tr th {\n",
       "        vertical-align: top;\n",
       "    }\n",
       "\n",
       "    .dataframe thead th {\n",
       "        text-align: right;\n",
       "    }\n",
       "</style>\n",
       "<table border=\"1\" class=\"dataframe\">\n",
       "  <thead>\n",
       "    <tr style=\"text-align: right;\">\n",
       "      <th></th>\n",
       "      <th>user_id</th>\n",
       "      <th>month</th>\n",
       "      <th>city</th>\n",
       "      <th>tariff</th>\n",
       "      <th>rub_monthly_fee</th>\n",
       "      <th>duration_rounded_up</th>\n",
       "      <th>pay_for_call_extra</th>\n",
       "      <th>messages_qty</th>\n",
       "      <th>pmnt_for_extra_messages</th>\n",
       "      <th>mb_used_sum</th>\n",
       "      <th>pmnt_for_internet</th>\n",
       "      <th>bill_per_month</th>\n",
       "    </tr>\n",
       "  </thead>\n",
       "  <tbody>\n",
       "    <tr>\n",
       "      <th>8</th>\n",
       "      <td>1001</td>\n",
       "      <td>11</td>\n",
       "      <td>Москва</td>\n",
       "      <td>smart</td>\n",
       "      <td>550</td>\n",
       "      <td>430.00</td>\n",
       "      <td>0.00</td>\n",
       "      <td>0.00</td>\n",
       "      <td>0.00</td>\n",
       "      <td>18429.34</td>\n",
       "      <td>0</td>\n",
       "      <td>550.00</td>\n",
       "    </tr>\n",
       "    <tr>\n",
       "      <th>9</th>\n",
       "      <td>1001</td>\n",
       "      <td>12</td>\n",
       "      <td>Москва</td>\n",
       "      <td>smart</td>\n",
       "      <td>550</td>\n",
       "      <td>414.00</td>\n",
       "      <td>0.00</td>\n",
       "      <td>0.00</td>\n",
       "      <td>0.00</td>\n",
       "      <td>14036.66</td>\n",
       "      <td>400</td>\n",
       "      <td>950.00</td>\n",
       "    </tr>\n",
       "    <tr>\n",
       "      <th>10</th>\n",
       "      <td>1002</td>\n",
       "      <td>6</td>\n",
       "      <td>Стерлитамак</td>\n",
       "      <td>smart</td>\n",
       "      <td>550</td>\n",
       "      <td>117.00</td>\n",
       "      <td>0.00</td>\n",
       "      <td>4.00</td>\n",
       "      <td>0.00</td>\n",
       "      <td>10856.82</td>\n",
       "      <td>1000</td>\n",
       "      <td>1550.00</td>\n",
       "    </tr>\n",
       "    <tr>\n",
       "      <th>11</th>\n",
       "      <td>1002</td>\n",
       "      <td>7</td>\n",
       "      <td>Стерлитамак</td>\n",
       "      <td>smart</td>\n",
       "      <td>550</td>\n",
       "      <td>214.00</td>\n",
       "      <td>0.00</td>\n",
       "      <td>11.00</td>\n",
       "      <td>0.00</td>\n",
       "      <td>17580.10</td>\n",
       "      <td>0</td>\n",
       "      <td>550.00</td>\n",
       "    </tr>\n",
       "    <tr>\n",
       "      <th>12</th>\n",
       "      <td>1002</td>\n",
       "      <td>8</td>\n",
       "      <td>Стерлитамак</td>\n",
       "      <td>smart</td>\n",
       "      <td>550</td>\n",
       "      <td>289.00</td>\n",
       "      <td>0.00</td>\n",
       "      <td>13.00</td>\n",
       "      <td>0.00</td>\n",
       "      <td>20319.26</td>\n",
       "      <td>0</td>\n",
       "      <td>550.00</td>\n",
       "    </tr>\n",
       "    <tr>\n",
       "      <th>...</th>\n",
       "      <td>...</td>\n",
       "      <td>...</td>\n",
       "      <td>...</td>\n",
       "      <td>...</td>\n",
       "      <td>...</td>\n",
       "      <td>...</td>\n",
       "      <td>...</td>\n",
       "      <td>...</td>\n",
       "      <td>...</td>\n",
       "      <td>...</td>\n",
       "      <td>...</td>\n",
       "      <td>...</td>\n",
       "    </tr>\n",
       "    <tr>\n",
       "      <th>3211</th>\n",
       "      <td>1498</td>\n",
       "      <td>10</td>\n",
       "      <td>Владикавказ</td>\n",
       "      <td>smart</td>\n",
       "      <td>550</td>\n",
       "      <td>247.00</td>\n",
       "      <td>0.00</td>\n",
       "      <td>42.00</td>\n",
       "      <td>0.00</td>\n",
       "      <td>20579.36</td>\n",
       "      <td>0</td>\n",
       "      <td>550.00</td>\n",
       "    </tr>\n",
       "    <tr>\n",
       "      <th>3212</th>\n",
       "      <td>1499</td>\n",
       "      <td>9</td>\n",
       "      <td>Пермь</td>\n",
       "      <td>smart</td>\n",
       "      <td>550</td>\n",
       "      <td>70.00</td>\n",
       "      <td>0.00</td>\n",
       "      <td>11.00</td>\n",
       "      <td>0.00</td>\n",
       "      <td>1845.75</td>\n",
       "      <td>2800</td>\n",
       "      <td>3350.00</td>\n",
       "    </tr>\n",
       "    <tr>\n",
       "      <th>3213</th>\n",
       "      <td>1499</td>\n",
       "      <td>10</td>\n",
       "      <td>Пермь</td>\n",
       "      <td>smart</td>\n",
       "      <td>550</td>\n",
       "      <td>449.00</td>\n",
       "      <td>0.00</td>\n",
       "      <td>48.00</td>\n",
       "      <td>0.00</td>\n",
       "      <td>17788.51</td>\n",
       "      <td>0</td>\n",
       "      <td>550.00</td>\n",
       "    </tr>\n",
       "    <tr>\n",
       "      <th>3214</th>\n",
       "      <td>1499</td>\n",
       "      <td>11</td>\n",
       "      <td>Пермь</td>\n",
       "      <td>smart</td>\n",
       "      <td>550</td>\n",
       "      <td>612.00</td>\n",
       "      <td>336.00</td>\n",
       "      <td>59.00</td>\n",
       "      <td>27.00</td>\n",
       "      <td>17963.31</td>\n",
       "      <td>0</td>\n",
       "      <td>913.00</td>\n",
       "    </tr>\n",
       "    <tr>\n",
       "      <th>3215</th>\n",
       "      <td>1499</td>\n",
       "      <td>12</td>\n",
       "      <td>Пермь</td>\n",
       "      <td>smart</td>\n",
       "      <td>550</td>\n",
       "      <td>492.00</td>\n",
       "      <td>0.00</td>\n",
       "      <td>66.00</td>\n",
       "      <td>48.00</td>\n",
       "      <td>13055.58</td>\n",
       "      <td>600</td>\n",
       "      <td>1198.00</td>\n",
       "    </tr>\n",
       "  </tbody>\n",
       "</table>\n",
       "<p>2230 rows × 12 columns</p>\n",
       "</div>"
      ],
      "text/plain": [
       "      user_id  month         city tariff  rub_monthly_fee  \\\n",
       "8        1001     11       Москва  smart              550   \n",
       "9        1001     12       Москва  smart              550   \n",
       "10       1002      6  Стерлитамак  smart              550   \n",
       "11       1002      7  Стерлитамак  smart              550   \n",
       "12       1002      8  Стерлитамак  smart              550   \n",
       "...       ...    ...          ...    ...              ...   \n",
       "3211     1498     10  Владикавказ  smart              550   \n",
       "3212     1499      9        Пермь  smart              550   \n",
       "3213     1499     10        Пермь  smart              550   \n",
       "3214     1499     11        Пермь  smart              550   \n",
       "3215     1499     12        Пермь  smart              550   \n",
       "\n",
       "      duration_rounded_up  pay_for_call_extra  messages_qty  \\\n",
       "8                  430.00                0.00          0.00   \n",
       "9                  414.00                0.00          0.00   \n",
       "10                 117.00                0.00          4.00   \n",
       "11                 214.00                0.00         11.00   \n",
       "12                 289.00                0.00         13.00   \n",
       "...                   ...                 ...           ...   \n",
       "3211               247.00                0.00         42.00   \n",
       "3212                70.00                0.00         11.00   \n",
       "3213               449.00                0.00         48.00   \n",
       "3214               612.00              336.00         59.00   \n",
       "3215               492.00                0.00         66.00   \n",
       "\n",
       "      pmnt_for_extra_messages  mb_used_sum  pmnt_for_internet  bill_per_month  \n",
       "8                        0.00     18429.34                  0          550.00  \n",
       "9                        0.00     14036.66                400          950.00  \n",
       "10                       0.00     10856.82               1000         1550.00  \n",
       "11                       0.00     17580.10                  0          550.00  \n",
       "12                       0.00     20319.26                  0          550.00  \n",
       "...                       ...          ...                ...             ...  \n",
       "3211                     0.00     20579.36                  0          550.00  \n",
       "3212                     0.00      1845.75               2800         3350.00  \n",
       "3213                     0.00     17788.51                  0          550.00  \n",
       "3214                    27.00     17963.31                  0          913.00  \n",
       "3215                    48.00     13055.58                600         1198.00  \n",
       "\n",
       "[2230 rows x 12 columns]"
      ]
     },
     "execution_count": 137,
     "metadata": {},
     "output_type": "execute_result"
    }
   ],
   "source": [
    "merged_total_smart"
   ]
  },
  {
   "cell_type": "code",
   "execution_count": 138,
   "id": "749ab02e",
   "metadata": {},
   "outputs": [
    {
     "data": {
      "text/html": [
       "<div>\n",
       "<style scoped>\n",
       "    .dataframe tbody tr th:only-of-type {\n",
       "        vertical-align: middle;\n",
       "    }\n",
       "\n",
       "    .dataframe tbody tr th {\n",
       "        vertical-align: top;\n",
       "    }\n",
       "\n",
       "    .dataframe thead th {\n",
       "        text-align: right;\n",
       "    }\n",
       "</style>\n",
       "<table border=\"1\" class=\"dataframe\">\n",
       "  <thead>\n",
       "    <tr style=\"text-align: right;\">\n",
       "      <th></th>\n",
       "      <th>month</th>\n",
       "      <th>bill_per_month</th>\n",
       "    </tr>\n",
       "  </thead>\n",
       "  <tbody>\n",
       "    <tr>\n",
       "      <th>0</th>\n",
       "      <td>1</td>\n",
       "      <td>34</td>\n",
       "    </tr>\n",
       "    <tr>\n",
       "      <th>1</th>\n",
       "      <td>2</td>\n",
       "      <td>58</td>\n",
       "    </tr>\n",
       "    <tr>\n",
       "      <th>2</th>\n",
       "      <td>3</td>\n",
       "      <td>77</td>\n",
       "    </tr>\n",
       "    <tr>\n",
       "      <th>3</th>\n",
       "      <td>4</td>\n",
       "      <td>112</td>\n",
       "    </tr>\n",
       "    <tr>\n",
       "      <th>4</th>\n",
       "      <td>5</td>\n",
       "      <td>141</td>\n",
       "    </tr>\n",
       "    <tr>\n",
       "      <th>5</th>\n",
       "      <td>6</td>\n",
       "      <td>164</td>\n",
       "    </tr>\n",
       "    <tr>\n",
       "      <th>6</th>\n",
       "      <td>7</td>\n",
       "      <td>201</td>\n",
       "    </tr>\n",
       "    <tr>\n",
       "      <th>7</th>\n",
       "      <td>8</td>\n",
       "      <td>235</td>\n",
       "    </tr>\n",
       "    <tr>\n",
       "      <th>8</th>\n",
       "      <td>9</td>\n",
       "      <td>260</td>\n",
       "    </tr>\n",
       "    <tr>\n",
       "      <th>9</th>\n",
       "      <td>10</td>\n",
       "      <td>294</td>\n",
       "    </tr>\n",
       "    <tr>\n",
       "      <th>10</th>\n",
       "      <td>11</td>\n",
       "      <td>316</td>\n",
       "    </tr>\n",
       "    <tr>\n",
       "      <th>11</th>\n",
       "      <td>12</td>\n",
       "      <td>338</td>\n",
       "    </tr>\n",
       "  </tbody>\n",
       "</table>\n",
       "</div>"
      ],
      "text/plain": [
       "    month  bill_per_month\n",
       "0       1              34\n",
       "1       2              58\n",
       "2       3              77\n",
       "3       4             112\n",
       "4       5             141\n",
       "5       6             164\n",
       "6       7             201\n",
       "7       8             235\n",
       "8       9             260\n",
       "9      10             294\n",
       "10     11             316\n",
       "11     12             338"
      ]
     },
     "execution_count": 138,
     "metadata": {},
     "output_type": "execute_result"
    }
   ],
   "source": [
    "merged_total_smart.pivot_table(index=['month'], values='bill_per_month', aggfunc='count').reset_index()"
   ]
  },
  {
   "cell_type": "code",
   "execution_count": 139,
   "id": "d711ec98",
   "metadata": {},
   "outputs": [
    {
     "data": {
      "text/plain": [
       "<AxesSubplot:>"
      ]
     },
     "execution_count": 139,
     "metadata": {},
     "output_type": "execute_result"
    },
    {
     "data": {
      "image/png": "[encoded data removed]",
      "text/plain": [
       "<Figure size 432x288 with 1 Axes>"
      ]
     },
     "metadata": {
      "needs_background": "light"
     },
     "output_type": "display_data"
    }
   ],
   "source": [
    "merged_total_smart.pivot_table(index=['month'], values='bill_per_month', aggfunc='count').reset_index()['bill_per_month'].plot()"
   ]
  },
  {
   "cell_type": "code",
   "execution_count": 140,
   "id": "7ebdd88e",
   "metadata": {},
   "outputs": [
    {
     "data": {
      "text/html": [
       "<div>\n",
       "<style scoped>\n",
       "    .dataframe tbody tr th:only-of-type {\n",
       "        vertical-align: middle;\n",
       "    }\n",
       "\n",
       "    .dataframe tbody tr th {\n",
       "        vertical-align: top;\n",
       "    }\n",
       "\n",
       "    .dataframe thead th {\n",
       "        text-align: right;\n",
       "    }\n",
       "</style>\n",
       "<table border=\"1\" class=\"dataframe\">\n",
       "  <thead>\n",
       "    <tr style=\"text-align: right;\">\n",
       "      <th></th>\n",
       "      <th>month</th>\n",
       "      <th>bill_per_month</th>\n",
       "    </tr>\n",
       "  </thead>\n",
       "  <tbody>\n",
       "    <tr>\n",
       "      <th>0</th>\n",
       "      <td>1</td>\n",
       "      <td>9</td>\n",
       "    </tr>\n",
       "    <tr>\n",
       "      <th>1</th>\n",
       "      <td>2</td>\n",
       "      <td>24</td>\n",
       "    </tr>\n",
       "    <tr>\n",
       "      <th>2</th>\n",
       "      <td>3</td>\n",
       "      <td>37</td>\n",
       "    </tr>\n",
       "    <tr>\n",
       "      <th>3</th>\n",
       "      <td>4</td>\n",
       "      <td>55</td>\n",
       "    </tr>\n",
       "    <tr>\n",
       "      <th>4</th>\n",
       "      <td>5</td>\n",
       "      <td>67</td>\n",
       "    </tr>\n",
       "    <tr>\n",
       "      <th>5</th>\n",
       "      <td>6</td>\n",
       "      <td>84</td>\n",
       "    </tr>\n",
       "    <tr>\n",
       "      <th>6</th>\n",
       "      <td>7</td>\n",
       "      <td>91</td>\n",
       "    </tr>\n",
       "    <tr>\n",
       "      <th>7</th>\n",
       "      <td>8</td>\n",
       "      <td>107</td>\n",
       "    </tr>\n",
       "    <tr>\n",
       "      <th>8</th>\n",
       "      <td>9</td>\n",
       "      <td>115</td>\n",
       "    </tr>\n",
       "    <tr>\n",
       "      <th>9</th>\n",
       "      <td>10</td>\n",
       "      <td>123</td>\n",
       "    </tr>\n",
       "    <tr>\n",
       "      <th>10</th>\n",
       "      <td>11</td>\n",
       "      <td>134</td>\n",
       "    </tr>\n",
       "    <tr>\n",
       "      <th>11</th>\n",
       "      <td>12</td>\n",
       "      <td>140</td>\n",
       "    </tr>\n",
       "  </tbody>\n",
       "</table>\n",
       "</div>"
      ],
      "text/plain": [
       "    month  bill_per_month\n",
       "0       1               9\n",
       "1       2              24\n",
       "2       3              37\n",
       "3       4              55\n",
       "4       5              67\n",
       "5       6              84\n",
       "6       7              91\n",
       "7       8             107\n",
       "8       9             115\n",
       "9      10             123\n",
       "10     11             134\n",
       "11     12             140"
      ]
     },
     "execution_count": 140,
     "metadata": {},
     "output_type": "execute_result"
    }
   ],
   "source": [
    "merged_total_ultra.pivot_table(index=['month'], values='bill_per_month', aggfunc='count').reset_index()"
   ]
  },
  {
   "cell_type": "code",
   "execution_count": 141,
   "id": "56561ac4",
   "metadata": {},
   "outputs": [
    {
     "data": {
      "text/plain": [
       "<AxesSubplot:>"
      ]
     },
     "execution_count": 141,
     "metadata": {},
     "output_type": "execute_result"
    },
    {
     "data": {
      "image/png": "[encoded data removed]",
      "text/plain": [
       "<Figure size 432x288 with 1 Axes>"
      ]
     },
     "metadata": {
      "needs_background": "light"
     },
     "output_type": "display_data"
    }
   ],
   "source": [
    "merged_total_ultra.pivot_table(index=['month'], values='bill_per_month', aggfunc='count').reset_index()['bill_per_month'].plot()"
   ]
  },
  {
   "cell_type": "markdown",
   "id": "792b2766",
   "metadata": {},
   "source": [
    "Среднее количество пользователей каждого тарифа от начала года к концу года растет. "
   ]
  },
  {
   "cell_type": "markdown",
   "id": "afaf40f6",
   "metadata": {},
   "source": [
    "##### Как меняется средний чек пользователей в зависимости от тарифа по месяцам? "
   ]
  },
  {
   "cell_type": "markdown",
   "id": "4173ec0e",
   "metadata": {},
   "source": [
    "_Тариф smart_"
   ]
  },
  {
   "cell_type": "code",
   "execution_count": 142,
   "id": "d6794635",
   "metadata": {},
   "outputs": [
    {
     "data": {
      "text/plain": [
       "count   2230.00\n",
       "mean    1116.55\n",
       "std      705.63\n",
       "min      550.00\n",
       "25%      550.00\n",
       "50%      839.50\n",
       "75%     1385.50\n",
       "max     3750.00\n",
       "Name: bill_per_month, dtype: float64"
      ]
     },
     "execution_count": 142,
     "metadata": {},
     "output_type": "execute_result"
    }
   ],
   "source": [
    "merged_total_smart.bill_per_month.describe()"
   ]
  },
  {
   "cell_type": "code",
   "execution_count": 143,
   "id": "1ca59210",
   "metadata": {},
   "outputs": [
    {
     "data": {
      "text/plain": [
       "<AxesSubplot:>"
      ]
     },
     "execution_count": 143,
     "metadata": {},
     "output_type": "execute_result"
    },
    {
     "data": {
      "image/png": "[encoded data removed]",
      "text/plain": [
       "<Figure size 432x288 with 1 Axes>"
      ]
     },
     "metadata": {
      "needs_background": "light"
     },
     "output_type": "display_data"
    }
   ],
   "source": [
    "merged_total_smart.bill_per_month.hist(bins=40)"
   ]
  },
  {
   "cell_type": "markdown",
   "id": "b4fee48e",
   "metadata": {},
   "source": [
    "Чек от 550 до 3750 р., наиболее часто - около 550 р ., в среднем 1116,5 р. "
   ]
  },
  {
   "cell_type": "markdown",
   "id": "6d06d95b",
   "metadata": {},
   "source": [
    "_Изменение среднего чека по месяцам_"
   ]
  },
  {
   "cell_type": "code",
   "execution_count": 144,
   "id": "a1b9d223",
   "metadata": {},
   "outputs": [
    {
     "data": {
      "text/html": [
       "<div>\n",
       "<style scoped>\n",
       "    .dataframe tbody tr th:only-of-type {\n",
       "        vertical-align: middle;\n",
       "    }\n",
       "\n",
       "    .dataframe tbody tr th {\n",
       "        vertical-align: top;\n",
       "    }\n",
       "\n",
       "    .dataframe thead th {\n",
       "        text-align: right;\n",
       "    }\n",
       "</style>\n",
       "<table border=\"1\" class=\"dataframe\">\n",
       "  <thead>\n",
       "    <tr style=\"text-align: right;\">\n",
       "      <th></th>\n",
       "      <th>month</th>\n",
       "      <th>bill_per_month</th>\n",
       "    </tr>\n",
       "  </thead>\n",
       "  <tbody>\n",
       "    <tr>\n",
       "      <th>0</th>\n",
       "      <td>1</td>\n",
       "      <td>2162.50</td>\n",
       "    </tr>\n",
       "    <tr>\n",
       "      <th>1</th>\n",
       "      <td>2</td>\n",
       "      <td>1627.60</td>\n",
       "    </tr>\n",
       "    <tr>\n",
       "      <th>2</th>\n",
       "      <td>3</td>\n",
       "      <td>1226.96</td>\n",
       "    </tr>\n",
       "    <tr>\n",
       "      <th>3</th>\n",
       "      <td>4</td>\n",
       "      <td>1372.02</td>\n",
       "    </tr>\n",
       "    <tr>\n",
       "      <th>4</th>\n",
       "      <td>5</td>\n",
       "      <td>1113.82</td>\n",
       "    </tr>\n",
       "    <tr>\n",
       "      <th>5</th>\n",
       "      <td>6</td>\n",
       "      <td>1114.99</td>\n",
       "    </tr>\n",
       "    <tr>\n",
       "      <th>6</th>\n",
       "      <td>7</td>\n",
       "      <td>1148.33</td>\n",
       "    </tr>\n",
       "    <tr>\n",
       "      <th>7</th>\n",
       "      <td>8</td>\n",
       "      <td>1055.91</td>\n",
       "    </tr>\n",
       "    <tr>\n",
       "      <th>8</th>\n",
       "      <td>9</td>\n",
       "      <td>1063.79</td>\n",
       "    </tr>\n",
       "    <tr>\n",
       "      <th>9</th>\n",
       "      <td>10</td>\n",
       "      <td>1073.70</td>\n",
       "    </tr>\n",
       "    <tr>\n",
       "      <th>10</th>\n",
       "      <td>11</td>\n",
       "      <td>1019.63</td>\n",
       "    </tr>\n",
       "    <tr>\n",
       "      <th>11</th>\n",
       "      <td>12</td>\n",
       "      <td>1007.44</td>\n",
       "    </tr>\n",
       "  </tbody>\n",
       "</table>\n",
       "</div>"
      ],
      "text/plain": [
       "    month  bill_per_month\n",
       "0       1         2162.50\n",
       "1       2         1627.60\n",
       "2       3         1226.96\n",
       "3       4         1372.02\n",
       "4       5         1113.82\n",
       "5       6         1114.99\n",
       "6       7         1148.33\n",
       "7       8         1055.91\n",
       "8       9         1063.79\n",
       "9      10         1073.70\n",
       "10     11         1019.63\n",
       "11     12         1007.44"
      ]
     },
     "execution_count": 144,
     "metadata": {},
     "output_type": "execute_result"
    }
   ],
   "source": [
    "merged_total_smart_bill_pivot=merged_total_smart.pivot_table(\n",
    "    index=['month'], \n",
    "    values='bill_per_month', \n",
    "    aggfunc='mean').reset_index()\n",
    "merged_total_smart_bill_pivot"
   ]
  },
  {
   "cell_type": "code",
   "execution_count": 145,
   "id": "d3229977",
   "metadata": {},
   "outputs": [
    {
     "data": {
      "text/plain": [
       "<AxesSubplot:>"
      ]
     },
     "execution_count": 145,
     "metadata": {},
     "output_type": "execute_result"
    },
    {
     "data": {
      "image/png": "[encoded data removed]",
      "text/plain": [
       "<Figure size 432x288 with 1 Axes>"
      ]
     },
     "metadata": {
      "needs_background": "light"
     },
     "output_type": "display_data"
    }
   ],
   "source": [
    "merged_total_smart_bill_pivot.bill_per_month.plot()"
   ]
  },
  {
   "cell_type": "markdown",
   "id": "4d1de3c3",
   "metadata": {},
   "source": [
    "\"Средний чек\" пользователя тарифа smart падает от начала года к концу, в два раза. "
   ]
  },
  {
   "cell_type": "code",
   "execution_count": 146,
   "id": "970c7b08",
   "metadata": {},
   "outputs": [
    {
     "data": {
      "text/plain": [
       "180"
      ]
     },
     "execution_count": 146,
     "metadata": {},
     "output_type": "execute_result"
    }
   ],
   "source": [
    "merged_total_smart.query('bill_per_month > 1950')['user_id'].nunique()"
   ]
  },
  {
   "cell_type": "markdown",
   "id": "9580a89e",
   "metadata": {},
   "source": [
    "У 180 пользователей из 351 в тарифе smart чек за месяц в течение года хотя бы один раз превысил 1950 р. (цену тарифа ultra). "
   ]
  },
  {
   "cell_type": "markdown",
   "id": "2365504a",
   "metadata": {},
   "source": [
    "_Тариф ultra_"
   ]
  },
  {
   "cell_type": "code",
   "execution_count": 147,
   "id": "a4565326",
   "metadata": {},
   "outputs": [
    {
     "data": {
      "text/plain": [
       "count    986.00\n",
       "mean    3820.74\n",
       "std     1340.74\n",
       "min     1950.00\n",
       "25%     2550.00\n",
       "50%     3750.00\n",
       "75%     4800.00\n",
       "max     6600.00\n",
       "Name: bill_per_month, dtype: float64"
      ]
     },
     "execution_count": 147,
     "metadata": {},
     "output_type": "execute_result"
    }
   ],
   "source": [
    "merged_total_ultra.bill_per_month.describe()"
   ]
  },
  {
   "cell_type": "code",
   "execution_count": 148,
   "id": "d1ea9281",
   "metadata": {
    "scrolled": true
   },
   "outputs": [
    {
     "data": {
      "text/plain": [
       "<AxesSubplot:>"
      ]
     },
     "execution_count": 148,
     "metadata": {},
     "output_type": "execute_result"
    },
    {
     "data": {
      "image/png": "[encoded data removed]",
      "text/plain": [
       "<Figure size 432x288 with 1 Axes>"
      ]
     },
     "metadata": {
      "needs_background": "light"
     },
     "output_type": "display_data"
    }
   ],
   "source": [
    "merged_total_ultra.bill_per_month.hist()"
   ]
  },
  {
   "cell_type": "markdown",
   "id": "08e1bc0f",
   "metadata": {},
   "source": [
    "Ежемесячно пользователи этого тарифа платили от 1950 до 6600 р. в месяц, в среднем 3820 р., наиболее часто - до 2800 р. в месяц"
   ]
  },
  {
   "cell_type": "code",
   "execution_count": 149,
   "id": "48be0b7b",
   "metadata": {},
   "outputs": [
    {
     "data": {
      "text/html": [
       "<div>\n",
       "<style scoped>\n",
       "    .dataframe tbody tr th:only-of-type {\n",
       "        vertical-align: middle;\n",
       "    }\n",
       "\n",
       "    .dataframe tbody tr th {\n",
       "        vertical-align: top;\n",
       "    }\n",
       "\n",
       "    .dataframe thead th {\n",
       "        text-align: right;\n",
       "    }\n",
       "</style>\n",
       "<table border=\"1\" class=\"dataframe\">\n",
       "  <thead>\n",
       "    <tr style=\"text-align: right;\">\n",
       "      <th></th>\n",
       "      <th>month</th>\n",
       "      <th>bill_per_month</th>\n",
       "    </tr>\n",
       "  </thead>\n",
       "  <tbody>\n",
       "    <tr>\n",
       "      <th>0</th>\n",
       "      <td>1</td>\n",
       "      <td>4683.33</td>\n",
       "    </tr>\n",
       "    <tr>\n",
       "      <th>1</th>\n",
       "      <td>2</td>\n",
       "      <td>4875.00</td>\n",
       "    </tr>\n",
       "    <tr>\n",
       "      <th>2</th>\n",
       "      <td>3</td>\n",
       "      <td>4045.95</td>\n",
       "    </tr>\n",
       "    <tr>\n",
       "      <th>3</th>\n",
       "      <td>4</td>\n",
       "      <td>4153.64</td>\n",
       "    </tr>\n",
       "    <tr>\n",
       "      <th>4</th>\n",
       "      <td>5</td>\n",
       "      <td>3830.60</td>\n",
       "    </tr>\n",
       "    <tr>\n",
       "      <th>5</th>\n",
       "      <td>6</td>\n",
       "      <td>3869.64</td>\n",
       "    </tr>\n",
       "    <tr>\n",
       "      <th>6</th>\n",
       "      <td>7</td>\n",
       "      <td>3707.14</td>\n",
       "    </tr>\n",
       "    <tr>\n",
       "      <th>7</th>\n",
       "      <td>8</td>\n",
       "      <td>3811.68</td>\n",
       "    </tr>\n",
       "    <tr>\n",
       "      <th>8</th>\n",
       "      <td>9</td>\n",
       "      <td>3811.30</td>\n",
       "    </tr>\n",
       "    <tr>\n",
       "      <th>9</th>\n",
       "      <td>10</td>\n",
       "      <td>3732.93</td>\n",
       "    </tr>\n",
       "    <tr>\n",
       "      <th>10</th>\n",
       "      <td>11</td>\n",
       "      <td>3790.30</td>\n",
       "    </tr>\n",
       "    <tr>\n",
       "      <th>11</th>\n",
       "      <td>12</td>\n",
       "      <td>3555.00</td>\n",
       "    </tr>\n",
       "  </tbody>\n",
       "</table>\n",
       "</div>"
      ],
      "text/plain": [
       "    month  bill_per_month\n",
       "0       1         4683.33\n",
       "1       2         4875.00\n",
       "2       3         4045.95\n",
       "3       4         4153.64\n",
       "4       5         3830.60\n",
       "5       6         3869.64\n",
       "6       7         3707.14\n",
       "7       8         3811.68\n",
       "8       9         3811.30\n",
       "9      10         3732.93\n",
       "10     11         3790.30\n",
       "11     12         3555.00"
      ]
     },
     "execution_count": 149,
     "metadata": {},
     "output_type": "execute_result"
    }
   ],
   "source": [
    "merged_total_ultra_bill_pivot=merged_total_ultra.pivot_table(\n",
    "    index=['month'], \n",
    "    values='bill_per_month', \n",
    "    aggfunc='mean').reset_index()\n",
    "merged_total_ultra_bill_pivot"
   ]
  },
  {
   "cell_type": "code",
   "execution_count": 150,
   "id": "00747810",
   "metadata": {},
   "outputs": [
    {
     "data": {
      "text/plain": [
       "<AxesSubplot:>"
      ]
     },
     "execution_count": 150,
     "metadata": {},
     "output_type": "execute_result"
    },
    {
     "data": {
      "image/png": "[encoded data removed]",
      "text/plain": [
       "<Figure size 432x288 with 1 Axes>"
      ]
     },
     "metadata": {
      "needs_background": "light"
     },
     "output_type": "display_data"
    }
   ],
   "source": [
    "merged_total_ultra_bill_pivot.bill_per_month.plot()"
   ]
  },
  {
   "cell_type": "code",
   "execution_count": 151,
   "id": "84bae1a1",
   "metadata": {},
   "outputs": [
    {
     "data": {
      "text/html": [
       "<div>\n",
       "<style scoped>\n",
       "    .dataframe tbody tr th:only-of-type {\n",
       "        vertical-align: middle;\n",
       "    }\n",
       "\n",
       "    .dataframe tbody tr th {\n",
       "        vertical-align: top;\n",
       "    }\n",
       "\n",
       "    .dataframe thead th {\n",
       "        text-align: right;\n",
       "    }\n",
       "</style>\n",
       "<table border=\"1\" class=\"dataframe\">\n",
       "  <thead>\n",
       "    <tr style=\"text-align: right;\">\n",
       "      <th></th>\n",
       "      <th>user_id</th>\n",
       "      <th>month</th>\n",
       "      <th>city</th>\n",
       "      <th>tariff</th>\n",
       "      <th>rub_monthly_fee</th>\n",
       "      <th>duration_rounded_up</th>\n",
       "      <th>pay_for_call_extra</th>\n",
       "      <th>messages_qty</th>\n",
       "      <th>pmnt_for_extra_messages</th>\n",
       "      <th>mb_used_sum</th>\n",
       "      <th>pmnt_for_internet</th>\n",
       "      <th>bill_per_month</th>\n",
       "    </tr>\n",
       "  </thead>\n",
       "  <tbody>\n",
       "    <tr>\n",
       "      <th>0</th>\n",
       "      <td>1000</td>\n",
       "      <td>5</td>\n",
       "      <td>Краснодар</td>\n",
       "      <td>ultra</td>\n",
       "      <td>1950</td>\n",
       "      <td>159.00</td>\n",
       "      <td>0.00</td>\n",
       "      <td>22.00</td>\n",
       "      <td>0.00</td>\n",
       "      <td>2253.49</td>\n",
       "      <td>4350</td>\n",
       "      <td>6300.00</td>\n",
       "    </tr>\n",
       "    <tr>\n",
       "      <th>1</th>\n",
       "      <td>1000</td>\n",
       "      <td>6</td>\n",
       "      <td>Краснодар</td>\n",
       "      <td>ultra</td>\n",
       "      <td>1950</td>\n",
       "      <td>172.00</td>\n",
       "      <td>0.00</td>\n",
       "      <td>60.00</td>\n",
       "      <td>0.00</td>\n",
       "      <td>23233.77</td>\n",
       "      <td>1200</td>\n",
       "      <td>3150.00</td>\n",
       "    </tr>\n",
       "    <tr>\n",
       "      <th>2</th>\n",
       "      <td>1000</td>\n",
       "      <td>7</td>\n",
       "      <td>Краснодар</td>\n",
       "      <td>ultra</td>\n",
       "      <td>1950</td>\n",
       "      <td>340.00</td>\n",
       "      <td>0.00</td>\n",
       "      <td>75.00</td>\n",
       "      <td>0.00</td>\n",
       "      <td>14003.64</td>\n",
       "      <td>2550</td>\n",
       "      <td>4500.00</td>\n",
       "    </tr>\n",
       "    <tr>\n",
       "      <th>3</th>\n",
       "      <td>1000</td>\n",
       "      <td>8</td>\n",
       "      <td>Краснодар</td>\n",
       "      <td>ultra</td>\n",
       "      <td>1950</td>\n",
       "      <td>408.00</td>\n",
       "      <td>0.00</td>\n",
       "      <td>81.00</td>\n",
       "      <td>0.00</td>\n",
       "      <td>14055.93</td>\n",
       "      <td>2550</td>\n",
       "      <td>4500.00</td>\n",
       "    </tr>\n",
       "    <tr>\n",
       "      <th>4</th>\n",
       "      <td>1000</td>\n",
       "      <td>9</td>\n",
       "      <td>Краснодар</td>\n",
       "      <td>ultra</td>\n",
       "      <td>1950</td>\n",
       "      <td>466.00</td>\n",
       "      <td>0.00</td>\n",
       "      <td>57.00</td>\n",
       "      <td>0.00</td>\n",
       "      <td>14568.91</td>\n",
       "      <td>2550</td>\n",
       "      <td>4500.00</td>\n",
       "    </tr>\n",
       "  </tbody>\n",
       "</table>\n",
       "</div>"
      ],
      "text/plain": [
       "   user_id  month       city tariff  rub_monthly_fee  duration_rounded_up  \\\n",
       "0     1000      5  Краснодар  ultra             1950               159.00   \n",
       "1     1000      6  Краснодар  ultra             1950               172.00   \n",
       "2     1000      7  Краснодар  ultra             1950               340.00   \n",
       "3     1000      8  Краснодар  ultra             1950               408.00   \n",
       "4     1000      9  Краснодар  ultra             1950               466.00   \n",
       "\n",
       "   pay_for_call_extra  messages_qty  pmnt_for_extra_messages  mb_used_sum  \\\n",
       "0                0.00         22.00                     0.00      2253.49   \n",
       "1                0.00         60.00                     0.00     23233.77   \n",
       "2                0.00         75.00                     0.00     14003.64   \n",
       "3                0.00         81.00                     0.00     14055.93   \n",
       "4                0.00         57.00                     0.00     14568.91   \n",
       "\n",
       "   pmnt_for_internet  bill_per_month  \n",
       "0               4350         6300.00  \n",
       "1               1200         3150.00  \n",
       "2               2550         4500.00  \n",
       "3               2550         4500.00  \n",
       "4               2550         4500.00  "
      ]
     },
     "execution_count": 151,
     "metadata": {},
     "output_type": "execute_result"
    }
   ],
   "source": [
    "merged_total_ultra.head()"
   ]
  },
  {
   "cell_type": "markdown",
   "id": "f9188de9",
   "metadata": {},
   "source": [
    "Средний чек пользователей этого тарифа также в течение года падает. "
   ]
  },
  {
   "cell_type": "code",
   "execution_count": 152,
   "id": "84fd8d7d",
   "metadata": {},
   "outputs": [
    {
     "data": {
      "text/html": [
       "<div>\n",
       "<style scoped>\n",
       "    .dataframe tbody tr th:only-of-type {\n",
       "        vertical-align: middle;\n",
       "    }\n",
       "\n",
       "    .dataframe tbody tr th {\n",
       "        vertical-align: top;\n",
       "    }\n",
       "\n",
       "    .dataframe thead th {\n",
       "        text-align: right;\n",
       "    }\n",
       "</style>\n",
       "<table border=\"1\" class=\"dataframe\">\n",
       "  <thead>\n",
       "    <tr style=\"text-align: right;\">\n",
       "      <th></th>\n",
       "      <th>user_id</th>\n",
       "      <th>duration_rounded_up</th>\n",
       "      <th>mb_used_sum</th>\n",
       "      <th>messages_qty</th>\n",
       "    </tr>\n",
       "  </thead>\n",
       "  <tbody>\n",
       "    <tr>\n",
       "      <th>0</th>\n",
       "      <td>1000</td>\n",
       "      <td>320.75</td>\n",
       "      <td>13424.04</td>\n",
       "      <td>62.00</td>\n",
       "    </tr>\n",
       "    <tr>\n",
       "      <th>1</th>\n",
       "      <td>1003</td>\n",
       "      <td>764.40</td>\n",
       "      <td>11456.13</td>\n",
       "      <td>76.00</td>\n",
       "    </tr>\n",
       "    <tr>\n",
       "      <th>2</th>\n",
       "      <td>1004</td>\n",
       "      <td>123.38</td>\n",
       "      <td>18629.94</td>\n",
       "      <td>149.00</td>\n",
       "    </tr>\n",
       "    <tr>\n",
       "      <th>3</th>\n",
       "      <td>1013</td>\n",
       "      <td>468.00</td>\n",
       "      <td>15258.58</td>\n",
       "      <td>21.00</td>\n",
       "    </tr>\n",
       "    <tr>\n",
       "      <th>4</th>\n",
       "      <td>1016</td>\n",
       "      <td>61.00</td>\n",
       "      <td>13405.22</td>\n",
       "      <td>71.00</td>\n",
       "    </tr>\n",
       "    <tr>\n",
       "      <th>...</th>\n",
       "      <td>...</td>\n",
       "      <td>...</td>\n",
       "      <td>...</td>\n",
       "      <td>...</td>\n",
       "    </tr>\n",
       "    <tr>\n",
       "      <th>144</th>\n",
       "      <td>1476</td>\n",
       "      <td>467.11</td>\n",
       "      <td>16698.43</td>\n",
       "      <td>5.00</td>\n",
       "    </tr>\n",
       "    <tr>\n",
       "      <th>145</th>\n",
       "      <td>1485</td>\n",
       "      <td>584.00</td>\n",
       "      <td>23422.76</td>\n",
       "      <td>155.00</td>\n",
       "    </tr>\n",
       "    <tr>\n",
       "      <th>146</th>\n",
       "      <td>1491</td>\n",
       "      <td>513.33</td>\n",
       "      <td>17940.25</td>\n",
       "      <td>48.00</td>\n",
       "    </tr>\n",
       "    <tr>\n",
       "      <th>147</th>\n",
       "      <td>1493</td>\n",
       "      <td>372.00</td>\n",
       "      <td>27209.69</td>\n",
       "      <td>47.00</td>\n",
       "    </tr>\n",
       "    <tr>\n",
       "      <th>148</th>\n",
       "      <td>1495</td>\n",
       "      <td>784.00</td>\n",
       "      <td>25482.11</td>\n",
       "      <td>68.00</td>\n",
       "    </tr>\n",
       "  </tbody>\n",
       "</table>\n",
       "<p>149 rows × 4 columns</p>\n",
       "</div>"
      ],
      "text/plain": [
       "     user_id  duration_rounded_up  mb_used_sum  messages_qty\n",
       "0       1000               320.75     13424.04         62.00\n",
       "1       1003               764.40     11456.13         76.00\n",
       "2       1004               123.38     18629.94        149.00\n",
       "3       1013               468.00     15258.58         21.00\n",
       "4       1016                61.00     13405.22         71.00\n",
       "..       ...                  ...          ...           ...\n",
       "144     1476               467.11     16698.43          5.00\n",
       "145     1485               584.00     23422.76        155.00\n",
       "146     1491               513.33     17940.25         48.00\n",
       "147     1493               372.00     27209.69         47.00\n",
       "148     1495               784.00     25482.11         68.00\n",
       "\n",
       "[149 rows x 4 columns]"
      ]
     },
     "execution_count": 152,
     "metadata": {},
     "output_type": "execute_result"
    }
   ],
   "source": [
    "merged_ultra3=merged_total_ultra.pivot_table(index=['user_id'], values=['duration_rounded_up', 'messages_qty', 'mb_used_sum'], aggfunc='mean').reset_index()\n",
    "merged_ultra3"
   ]
  },
  {
   "cell_type": "code",
   "execution_count": 153,
   "id": "fb9c5885",
   "metadata": {
    "scrolled": true
   },
   "outputs": [
    {
     "data": {
      "text/plain": [
       "41"
      ]
     },
     "execution_count": 153,
     "metadata": {},
     "output_type": "execute_result"
    }
   ],
   "source": [
    "merged_ultra3.query(('duration_rounded_up_sum < 500') and ('messages_per_month < 50') and ('mb_used_sum < 15000'))['user_id'].nunique()"
   ]
  },
  {
   "cell_type": "markdown",
   "id": "69347552",
   "metadata": {},
   "source": [
    "При этом 41 пользователь тарифа ultra из 149 в нашей выборке в среднем в месяц по данным этого года не потратил ни по какому параметру даже того лимита, что содержится в тарифе smart и зря платит почти в четыре раза больше, чем нужно."
   ]
  },
  {
   "cell_type": "markdown",
   "id": "ca57d27a",
   "metadata": {},
   "source": [
    "Мы описали поведение клиентов оператора, базируясь на выборке, определили, сколько минут разговора, сколько сообщений и какой объём интернет-трафика требуется пользователям каждого тарифа в месяц, а также средние этих показателей. Теперь подсчитаем дисперсию и стандартное отклонение."
   ]
  },
  {
   "cell_type": "markdown",
   "id": "2019526c",
   "metadata": {},
   "source": [
    "Поскольку у нас выборка, то мы используем формулу для оценки дисперсии генеральной совокупности по выборке. Напишем функцию и применим ее далее ко всем нужным столбцам. "
   ]
  },
  {
   "cell_type": "code",
   "execution_count": 154,
   "id": "12e55f3a",
   "metadata": {
    "scrolled": true
   },
   "outputs": [],
   "source": [
    "def function_disp (x): \n",
    "    variance_estimate = np.var(x, ddof=1)\n",
    "    standard_deviation = np.std(x)\n",
    "    print ('Дисперсия равна: {:.2f}'.format(variance_estimate))\n",
    "    print ('Стандартное отклонение равно: {:.2f}'.format(standard_deviation))\n",
    "\n",
    "    if (x.max()-x.mean()) < (3*standard_deviation):\n",
    "        print ('Разница между максимальным значением и средним не превышает 3 стандартных отклонений')\n",
    "    else: \n",
    "        print ('Разница между максимальным значением и средним превышает 3 стандартных отклонения, что говорит о том, что у нас присутствуют выбросы в бОльшую сторону.')\n",
    "    \n",
    "    if (x.mean()-x.min()) < (3*standard_deviation): \n",
    "        print ('Разница между минимальным значением и средним не превышает 3 стандартных отклонений')\n",
    "    else: \n",
    "        print ('Разница между минимальным значением и средним превышает 3 стандартных отклонения, что говорит о том, что у нас присутствуют выбросы в меньшую сторону.')\n",
    "    "
   ]
  },
  {
   "cell_type": "markdown",
   "id": "545748af",
   "metadata": {},
   "source": [
    "__Тариф smart__"
   ]
  },
  {
   "cell_type": "code",
   "execution_count": 155,
   "id": "4b901f9b",
   "metadata": {},
   "outputs": [
    {
     "data": {
      "text/html": [
       "<div>\n",
       "<style scoped>\n",
       "    .dataframe tbody tr th:only-of-type {\n",
       "        vertical-align: middle;\n",
       "    }\n",
       "\n",
       "    .dataframe tbody tr th {\n",
       "        vertical-align: top;\n",
       "    }\n",
       "\n",
       "    .dataframe thead th {\n",
       "        text-align: right;\n",
       "    }\n",
       "</style>\n",
       "<table border=\"1\" class=\"dataframe\">\n",
       "  <thead>\n",
       "    <tr style=\"text-align: right;\">\n",
       "      <th></th>\n",
       "      <th>user_id</th>\n",
       "      <th>month</th>\n",
       "      <th>city</th>\n",
       "      <th>tariff</th>\n",
       "      <th>rub_monthly_fee</th>\n",
       "      <th>duration_rounded_up</th>\n",
       "      <th>pay_for_call_extra</th>\n",
       "      <th>messages_qty</th>\n",
       "      <th>pmnt_for_extra_messages</th>\n",
       "      <th>mb_used_sum</th>\n",
       "      <th>pmnt_for_internet</th>\n",
       "      <th>bill_per_month</th>\n",
       "    </tr>\n",
       "  </thead>\n",
       "  <tbody>\n",
       "    <tr>\n",
       "      <th>8</th>\n",
       "      <td>1001</td>\n",
       "      <td>11</td>\n",
       "      <td>Москва</td>\n",
       "      <td>smart</td>\n",
       "      <td>550</td>\n",
       "      <td>430.00</td>\n",
       "      <td>0.00</td>\n",
       "      <td>0.00</td>\n",
       "      <td>0.00</td>\n",
       "      <td>18429.34</td>\n",
       "      <td>0</td>\n",
       "      <td>550.00</td>\n",
       "    </tr>\n",
       "    <tr>\n",
       "      <th>9</th>\n",
       "      <td>1001</td>\n",
       "      <td>12</td>\n",
       "      <td>Москва</td>\n",
       "      <td>smart</td>\n",
       "      <td>550</td>\n",
       "      <td>414.00</td>\n",
       "      <td>0.00</td>\n",
       "      <td>0.00</td>\n",
       "      <td>0.00</td>\n",
       "      <td>14036.66</td>\n",
       "      <td>400</td>\n",
       "      <td>950.00</td>\n",
       "    </tr>\n",
       "    <tr>\n",
       "      <th>10</th>\n",
       "      <td>1002</td>\n",
       "      <td>6</td>\n",
       "      <td>Стерлитамак</td>\n",
       "      <td>smart</td>\n",
       "      <td>550</td>\n",
       "      <td>117.00</td>\n",
       "      <td>0.00</td>\n",
       "      <td>4.00</td>\n",
       "      <td>0.00</td>\n",
       "      <td>10856.82</td>\n",
       "      <td>1000</td>\n",
       "      <td>1550.00</td>\n",
       "    </tr>\n",
       "    <tr>\n",
       "      <th>11</th>\n",
       "      <td>1002</td>\n",
       "      <td>7</td>\n",
       "      <td>Стерлитамак</td>\n",
       "      <td>smart</td>\n",
       "      <td>550</td>\n",
       "      <td>214.00</td>\n",
       "      <td>0.00</td>\n",
       "      <td>11.00</td>\n",
       "      <td>0.00</td>\n",
       "      <td>17580.10</td>\n",
       "      <td>0</td>\n",
       "      <td>550.00</td>\n",
       "    </tr>\n",
       "    <tr>\n",
       "      <th>12</th>\n",
       "      <td>1002</td>\n",
       "      <td>8</td>\n",
       "      <td>Стерлитамак</td>\n",
       "      <td>smart</td>\n",
       "      <td>550</td>\n",
       "      <td>289.00</td>\n",
       "      <td>0.00</td>\n",
       "      <td>13.00</td>\n",
       "      <td>0.00</td>\n",
       "      <td>20319.26</td>\n",
       "      <td>0</td>\n",
       "      <td>550.00</td>\n",
       "    </tr>\n",
       "  </tbody>\n",
       "</table>\n",
       "</div>"
      ],
      "text/plain": [
       "    user_id  month         city tariff  rub_monthly_fee  duration_rounded_up  \\\n",
       "8      1001     11       Москва  smart              550               430.00   \n",
       "9      1001     12       Москва  smart              550               414.00   \n",
       "10     1002      6  Стерлитамак  smart              550               117.00   \n",
       "11     1002      7  Стерлитамак  smart              550               214.00   \n",
       "12     1002      8  Стерлитамак  smart              550               289.00   \n",
       "\n",
       "    pay_for_call_extra  messages_qty  pmnt_for_extra_messages  mb_used_sum  \\\n",
       "8                 0.00          0.00                     0.00     18429.34   \n",
       "9                 0.00          0.00                     0.00     14036.66   \n",
       "10                0.00          4.00                     0.00     10856.82   \n",
       "11                0.00         11.00                     0.00     17580.10   \n",
       "12                0.00         13.00                     0.00     20319.26   \n",
       "\n",
       "    pmnt_for_internet  bill_per_month  \n",
       "8                   0          550.00  \n",
       "9                 400          950.00  \n",
       "10               1000         1550.00  \n",
       "11                  0          550.00  \n",
       "12                  0          550.00  "
      ]
     },
     "execution_count": 155,
     "metadata": {},
     "output_type": "execute_result"
    }
   ],
   "source": [
    "merged_total_smart.head()"
   ]
  },
  {
   "cell_type": "markdown",
   "id": "5d93fd55",
   "metadata": {},
   "source": [
    "_Использованные минуты разговоров_"
   ]
  },
  {
   "cell_type": "code",
   "execution_count": 156,
   "id": "6dd5fa4c",
   "metadata": {},
   "outputs": [
    {
     "name": "stdout",
     "output_type": "stream",
     "text": [
      "Дисперсия равна: 36281.39\n",
      "Стандартное отклонение равно: 190.43\n",
      "Разница между максимальным значением и средним превышает 3 стандартных отклонения, что говорит о том, что у нас присутствуют выбросы в бОльшую сторону.\n",
      "Разница между минимальным значением и средним не превышает 3 стандартных отклонений\n"
     ]
    }
   ],
   "source": [
    "function_disp(merged_total_smart.duration_rounded_up)"
   ]
  },
  {
   "cell_type": "markdown",
   "id": "cb7cf7f3",
   "metadata": {},
   "source": [
    "_Смс_"
   ]
  },
  {
   "cell_type": "code",
   "execution_count": 157,
   "id": "6110122c",
   "metadata": {},
   "outputs": [
    {
     "name": "stdout",
     "output_type": "stream",
     "text": [
      "Дисперсия равна: 796.96\n",
      "Стандартное отклонение равно: 28.22\n",
      "Разница между максимальным значением и средним превышает 3 стандартных отклонения, что говорит о том, что у нас присутствуют выбросы в бОльшую сторону.\n",
      "Разница между минимальным значением и средним не превышает 3 стандартных отклонений\n"
     ]
    }
   ],
   "source": [
    "function_disp(merged_total_smart.messages_qty)"
   ]
  },
  {
   "cell_type": "markdown",
   "id": "c11aa300",
   "metadata": {},
   "source": [
    "_Интернет-трафик_"
   ]
  },
  {
   "cell_type": "code",
   "execution_count": 158,
   "id": "975da051",
   "metadata": {},
   "outputs": [
    {
     "name": "stdout",
     "output_type": "stream",
     "text": [
      "Дисперсия равна: 34564843.48\n",
      "Стандартное отклонение равно: 5877.87\n",
      "Разница между максимальным значением и средним превышает 3 стандартных отклонения, что говорит о том, что у нас присутствуют выбросы в бОльшую сторону.\n",
      "Разница между минимальным значением и средним не превышает 3 стандартных отклонений\n"
     ]
    }
   ],
   "source": [
    "function_disp(merged_total_smart.mb_used_sum)"
   ]
  },
  {
   "cell_type": "markdown",
   "id": "f2d165cd",
   "metadata": {},
   "source": [
    "_Средний чек_"
   ]
  },
  {
   "cell_type": "code",
   "execution_count": 159,
   "id": "974f6476",
   "metadata": {},
   "outputs": [
    {
     "name": "stdout",
     "output_type": "stream",
     "text": [
      "Дисперсия равна: 497914.10\n",
      "Стандартное отклонение равно: 705.47\n",
      "Разница между максимальным значением и средним превышает 3 стандартных отклонения, что говорит о том, что у нас присутствуют выбросы в бОльшую сторону.\n",
      "Разница между минимальным значением и средним не превышает 3 стандартных отклонений\n"
     ]
    }
   ],
   "source": [
    "function_disp(merged_total_smart.bill_per_month)"
   ]
  },
  {
   "cell_type": "markdown",
   "id": "745286a4",
   "metadata": {},
   "source": [
    "__Тариф ultra__"
   ]
  },
  {
   "cell_type": "code",
   "execution_count": 160,
   "id": "8e67c6e3",
   "metadata": {
    "scrolled": true
   },
   "outputs": [
    {
     "data": {
      "text/html": [
       "<div>\n",
       "<style scoped>\n",
       "    .dataframe tbody tr th:only-of-type {\n",
       "        vertical-align: middle;\n",
       "    }\n",
       "\n",
       "    .dataframe tbody tr th {\n",
       "        vertical-align: top;\n",
       "    }\n",
       "\n",
       "    .dataframe thead th {\n",
       "        text-align: right;\n",
       "    }\n",
       "</style>\n",
       "<table border=\"1\" class=\"dataframe\">\n",
       "  <thead>\n",
       "    <tr style=\"text-align: right;\">\n",
       "      <th></th>\n",
       "      <th>user_id</th>\n",
       "      <th>month</th>\n",
       "      <th>city</th>\n",
       "      <th>tariff</th>\n",
       "      <th>rub_monthly_fee</th>\n",
       "      <th>duration_rounded_up</th>\n",
       "      <th>pay_for_call_extra</th>\n",
       "      <th>messages_qty</th>\n",
       "      <th>pmnt_for_extra_messages</th>\n",
       "      <th>mb_used_sum</th>\n",
       "      <th>pmnt_for_internet</th>\n",
       "      <th>bill_per_month</th>\n",
       "    </tr>\n",
       "  </thead>\n",
       "  <tbody>\n",
       "    <tr>\n",
       "      <th>0</th>\n",
       "      <td>1000</td>\n",
       "      <td>5</td>\n",
       "      <td>Краснодар</td>\n",
       "      <td>ultra</td>\n",
       "      <td>1950</td>\n",
       "      <td>159.00</td>\n",
       "      <td>0.00</td>\n",
       "      <td>22.00</td>\n",
       "      <td>0.00</td>\n",
       "      <td>2253.49</td>\n",
       "      <td>4350</td>\n",
       "      <td>6300.00</td>\n",
       "    </tr>\n",
       "    <tr>\n",
       "      <th>1</th>\n",
       "      <td>1000</td>\n",
       "      <td>6</td>\n",
       "      <td>Краснодар</td>\n",
       "      <td>ultra</td>\n",
       "      <td>1950</td>\n",
       "      <td>172.00</td>\n",
       "      <td>0.00</td>\n",
       "      <td>60.00</td>\n",
       "      <td>0.00</td>\n",
       "      <td>23233.77</td>\n",
       "      <td>1200</td>\n",
       "      <td>3150.00</td>\n",
       "    </tr>\n",
       "    <tr>\n",
       "      <th>2</th>\n",
       "      <td>1000</td>\n",
       "      <td>7</td>\n",
       "      <td>Краснодар</td>\n",
       "      <td>ultra</td>\n",
       "      <td>1950</td>\n",
       "      <td>340.00</td>\n",
       "      <td>0.00</td>\n",
       "      <td>75.00</td>\n",
       "      <td>0.00</td>\n",
       "      <td>14003.64</td>\n",
       "      <td>2550</td>\n",
       "      <td>4500.00</td>\n",
       "    </tr>\n",
       "    <tr>\n",
       "      <th>3</th>\n",
       "      <td>1000</td>\n",
       "      <td>8</td>\n",
       "      <td>Краснодар</td>\n",
       "      <td>ultra</td>\n",
       "      <td>1950</td>\n",
       "      <td>408.00</td>\n",
       "      <td>0.00</td>\n",
       "      <td>81.00</td>\n",
       "      <td>0.00</td>\n",
       "      <td>14055.93</td>\n",
       "      <td>2550</td>\n",
       "      <td>4500.00</td>\n",
       "    </tr>\n",
       "    <tr>\n",
       "      <th>4</th>\n",
       "      <td>1000</td>\n",
       "      <td>9</td>\n",
       "      <td>Краснодар</td>\n",
       "      <td>ultra</td>\n",
       "      <td>1950</td>\n",
       "      <td>466.00</td>\n",
       "      <td>0.00</td>\n",
       "      <td>57.00</td>\n",
       "      <td>0.00</td>\n",
       "      <td>14568.91</td>\n",
       "      <td>2550</td>\n",
       "      <td>4500.00</td>\n",
       "    </tr>\n",
       "  </tbody>\n",
       "</table>\n",
       "</div>"
      ],
      "text/plain": [
       "   user_id  month       city tariff  rub_monthly_fee  duration_rounded_up  \\\n",
       "0     1000      5  Краснодар  ultra             1950               159.00   \n",
       "1     1000      6  Краснодар  ultra             1950               172.00   \n",
       "2     1000      7  Краснодар  ultra             1950               340.00   \n",
       "3     1000      8  Краснодар  ultra             1950               408.00   \n",
       "4     1000      9  Краснодар  ultra             1950               466.00   \n",
       "\n",
       "   pay_for_call_extra  messages_qty  pmnt_for_extra_messages  mb_used_sum  \\\n",
       "0                0.00         22.00                     0.00      2253.49   \n",
       "1                0.00         60.00                     0.00     23233.77   \n",
       "2                0.00         75.00                     0.00     14003.64   \n",
       "3                0.00         81.00                     0.00     14055.93   \n",
       "4                0.00         57.00                     0.00     14568.91   \n",
       "\n",
       "   pmnt_for_internet  bill_per_month  \n",
       "0               4350         6300.00  \n",
       "1               1200         3150.00  \n",
       "2               2550         4500.00  \n",
       "3               2550         4500.00  \n",
       "4               2550         4500.00  "
      ]
     },
     "execution_count": 160,
     "metadata": {},
     "output_type": "execute_result"
    }
   ],
   "source": [
    "merged_total_ultra.head()"
   ]
  },
  {
   "cell_type": "markdown",
   "id": "be2a0224",
   "metadata": {},
   "source": [
    "_Звонки_"
   ]
  },
  {
   "cell_type": "code",
   "execution_count": 161,
   "id": "331c12d3",
   "metadata": {},
   "outputs": [
    {
     "name": "stdout",
     "output_type": "stream",
     "text": [
      "Дисперсия равна: 101052.49\n",
      "Стандартное отклонение равно: 317.73\n",
      "Разница между максимальным значением и средним превышает 3 стандартных отклонения, что говорит о том, что у нас присутствуют выбросы в бОльшую сторону.\n",
      "Разница между минимальным значением и средним не превышает 3 стандартных отклонений\n"
     ]
    }
   ],
   "source": [
    "function_disp(merged_total_ultra.duration_rounded_up)"
   ]
  },
  {
   "cell_type": "markdown",
   "id": "dd907a91",
   "metadata": {},
   "source": [
    "_Смс_"
   ]
  },
  {
   "cell_type": "code",
   "execution_count": 162,
   "id": "6d563254",
   "metadata": {},
   "outputs": [
    {
     "name": "stdout",
     "output_type": "stream",
     "text": [
      "Дисперсия равна: 2285.42\n",
      "Стандартное отклонение равно: 47.78\n",
      "Разница между максимальным значением и средним превышает 3 стандартных отклонения, что говорит о том, что у нас присутствуют выбросы в бОльшую сторону.\n",
      "Разница между минимальным значением и средним не превышает 3 стандартных отклонений\n"
     ]
    }
   ],
   "source": [
    "function_disp(merged_total_ultra.messages_qty)"
   ]
  },
  {
   "cell_type": "markdown",
   "id": "5a9930ab",
   "metadata": {},
   "source": [
    "_Интернет-трафик_"
   ]
  },
  {
   "cell_type": "code",
   "execution_count": 163,
   "id": "177dabcc",
   "metadata": {},
   "outputs": [
    {
     "name": "stdout",
     "output_type": "stream",
     "text": [
      "Дисперсия равна: 102032129.46\n",
      "Стандартное отклонение равно: 10095.97\n",
      "Разница между максимальным значением и средним превышает 3 стандартных отклонения, что говорит о том, что у нас присутствуют выбросы в бОльшую сторону.\n",
      "Разница между минимальным значением и средним не превышает 3 стандартных отклонений\n"
     ]
    }
   ],
   "source": [
    "function_disp(merged_total_ultra.mb_used_sum)"
   ]
  },
  {
   "cell_type": "markdown",
   "id": "da38df3e",
   "metadata": {},
   "source": [
    "_Средний чек_"
   ]
  },
  {
   "cell_type": "code",
   "execution_count": 164,
   "id": "6a3bd61c",
   "metadata": {},
   "outputs": [
    {
     "name": "stdout",
     "output_type": "stream",
     "text": [
      "Дисперсия равна: 1797571.94\n",
      "Стандартное отклонение равно: 1340.06\n",
      "Разница между максимальным значением и средним не превышает 3 стандартных отклонений\n",
      "Разница между минимальным значением и средним не превышает 3 стандартных отклонений\n"
     ]
    }
   ],
   "source": [
    "function_disp(merged_total_ultra.bill_per_month)"
   ]
  },
  {
   "cell_type": "code",
   "execution_count": 165,
   "id": "cd7a9ca5",
   "metadata": {},
   "outputs": [
    {
     "data": {
      "text/plain": [
       "<AxesSubplot:>"
      ]
     },
     "execution_count": 165,
     "metadata": {},
     "output_type": "execute_result"
    },
    {
     "data": {
      "image/png": "[encoded data removed]",
      "text/plain": [
       "<Figure size 432x288 with 1 Axes>"
      ]
     },
     "metadata": {
      "needs_background": "light"
     },
     "output_type": "display_data"
    }
   ],
   "source": [
    "merged_total_smart.boxplot(column='bill_per_month')"
   ]
  },
  {
   "cell_type": "code",
   "execution_count": 166,
   "id": "532ae16b",
   "metadata": {},
   "outputs": [
    {
     "data": {
      "text/plain": [
       "<AxesSubplot:>"
      ]
     },
     "execution_count": 166,
     "metadata": {},
     "output_type": "execute_result"
    },
    {
     "data": {
      "image/png": "[encoded data removed]",
      "text/plain": [
       "<Figure size 432x288 with 1 Axes>"
      ]
     },
     "metadata": {
      "needs_background": "light"
     },
     "output_type": "display_data"
    }
   ],
   "source": [
    "merged_total_ultra.boxplot(column='bill_per_month')"
   ]
  },
  {
   "cell_type": "markdown",
   "id": "e4427423",
   "metadata": {},
   "source": [
    "_Выводы по полученным данным о дисперсии и стандартном отклонении:_ "
   ]
  },
  {
   "cell_type": "markdown",
   "id": "04be2323",
   "metadata": {},
   "source": [
    "В среднем чеке в тарифе смарт есть выбросы в бОльшую сторону, хотя по сравнению с тарифом ультра эти выбросы едва достигают его среднего. Возможно, этим клиентам стоит продать тариф ультра, аргументируя это тем, что они переплачивают вне своего тарифа. Для нас это означает, что эти пользователи, став пользователями тарифа ультра, будут приносить больше, т.к., как мы увидим ниже при проверке гипотез, тариф ультра нам, как оператору, выгоднее. "
   ]
  },
  {
   "cell_type": "markdown",
   "id": "6c1e6921",
   "metadata": {},
   "source": [
    "# 4. Проверка гипотез"
   ]
  },
  {
   "cell_type": "markdown",
   "id": "0919d355",
   "metadata": {},
   "source": [
    "#### Гипотеза о том, что средняя выручка пользователей тарифов «Ультра» и «Смарт» различаются"
   ]
  },
  {
   "cell_type": "markdown",
   "id": "9bace4c8",
   "metadata": {},
   "source": [
    "Проверим гипотезу о том, что средняя выручка, полученная от пользователей тарифа smart отличается от тарифа ultra. Сформулируем нулевую гипотезу как \"средняя выручка, полученная от пользователей smart равняется средней выручке ultra\". Альтернативная гипотеза: \"не равна\". Будем считать, что та выборка из 500 пользователей, которая у нас есть, отражает пропорции распределения тарифов по количеству пользователей. "
   ]
  },
  {
   "cell_type": "markdown",
   "id": "31e1bbb7",
   "metadata": {},
   "source": [
    "Средний чек smart:"
   ]
  },
  {
   "cell_type": "code",
   "execution_count": 167,
   "id": "7c7e161d",
   "metadata": {},
   "outputs": [
    {
     "data": {
      "text/plain": [
       "1116.547533632287"
      ]
     },
     "execution_count": 167,
     "metadata": {},
     "output_type": "execute_result"
    }
   ],
   "source": [
    "merged_total_smart.bill_per_month.mean()"
   ]
  },
  {
   "cell_type": "markdown",
   "id": "fa23525e",
   "metadata": {},
   "source": [
    "Средний чек ultra:"
   ]
  },
  {
   "cell_type": "code",
   "execution_count": 168,
   "id": "0bea472f",
   "metadata": {},
   "outputs": [
    {
     "data": {
      "text/plain": [
       "3820.740365111562"
      ]
     },
     "execution_count": 168,
     "metadata": {},
     "output_type": "execute_result"
    }
   ],
   "source": [
    "merged_total_ultra.bill_per_month.mean()"
   ]
  },
  {
   "cell_type": "code",
   "execution_count": 169,
   "id": "ea5f633d",
   "metadata": {},
   "outputs": [
    {
     "name": "stdout",
     "output_type": "stream",
     "text": [
      "p-значение: 0.0\n",
      "Мы отвергаем гипотезу \"средняя выручка, полученная от пользователей smart равняется средней выручке ultra\"\n"
     ]
    }
   ],
   "source": [
    "alpha = 0.05\n",
    "results_tariff = st.ttest_ind (merged_total_smart.bill_per_month, merged_total_ultra.bill_per_month, equal_var=True)\n",
    "print('p-значение:', results_tariff.pvalue)\n",
    "if results_tariff.pvalue < alpha:\n",
    "    print('Мы отвергаем гипотезу \"средняя выручка, полученная от пользователей smart равняется средней выручке ultra\"')\n",
    "else:\n",
    "    print('У нас не получилось отвергнуть нулевую гипотезу') "
   ]
  },
  {
   "cell_type": "markdown",
   "id": "d18f58fe",
   "metadata": {},
   "source": [
    "Раз мы отвергли эту гипотезу, проверим гипотезу о том, что (как видно из двух расчетов средних выше) средняя выручка пользователя ultra превышает среднюю выручку пользователя smart"
   ]
  },
  {
   "cell_type": "markdown",
   "id": "18993ffd",
   "metadata": {},
   "source": [
    "Нулевая гипотеза: среднее smart равно среднему ultra, альтернативная гипотеза:  среднее smart меньше среднего ultra"
   ]
  },
  {
   "cell_type": "code",
   "execution_count": 170,
   "id": "edb0aef2",
   "metadata": {},
   "outputs": [
    {
     "name": "stdout",
     "output_type": "stream",
     "text": [
      "p-значение:  0.0\n",
      "Отвергаем нулевую гипотезу\n"
     ]
    }
   ],
   "source": [
    "ultra_bill =  merged_total_ultra.bill_per_month\n",
    "smart_bill_mean = merged_total_smart.bill_per_month.mean()\n",
    "alpha = 0.05 \n",
    "results_compare = st.ttest_1samp(ultra_bill, smart_bill_mean)\n",
    "\n",
    "print('p-значение: ', results_compare.pvalue / 2)\n",
    "\n",
    "# тест односторонний влево:\n",
    "# отвергаем гипотезу только если выборочное среднее значимо меньше предполагаемого значения\n",
    "if (results_compare.pvalue / 2 < alpha) and (ultra_bill.mean() > smart_bill_mean):\n",
    "    print(\"Отвергаем нулевую гипотезу\")\n",
    "else:\n",
    "    print(\"Не получилось отвергнуть нулевую гипотезу\") "
   ]
  },
  {
   "cell_type": "markdown",
   "id": "09dea0af",
   "metadata": {},
   "source": [
    "_Принимаем в этом контексте альтернативную гипотезу: среднее smart меньше среднего ultra._"
   ]
  },
  {
   "cell_type": "markdown",
   "id": "a7128d44",
   "metadata": {},
   "source": [
    "#### Гипотеза о том, что средняя выручка пользователей из Москвы отличается от выручки пользователей из других регионов"
   ]
  },
  {
   "cell_type": "code",
   "execution_count": 171,
   "id": "b32c5d42",
   "metadata": {
    "scrolled": false
   },
   "outputs": [
    {
     "data": {
      "text/html": [
       "<div>\n",
       "<style scoped>\n",
       "    .dataframe tbody tr th:only-of-type {\n",
       "        vertical-align: middle;\n",
       "    }\n",
       "\n",
       "    .dataframe tbody tr th {\n",
       "        vertical-align: top;\n",
       "    }\n",
       "\n",
       "    .dataframe thead th {\n",
       "        text-align: right;\n",
       "    }\n",
       "</style>\n",
       "<table border=\"1\" class=\"dataframe\">\n",
       "  <thead>\n",
       "    <tr style=\"text-align: right;\">\n",
       "      <th></th>\n",
       "      <th>user_id</th>\n",
       "      <th>month</th>\n",
       "      <th>city</th>\n",
       "      <th>tariff</th>\n",
       "      <th>rub_monthly_fee</th>\n",
       "      <th>duration_rounded_up</th>\n",
       "      <th>pay_for_call_extra</th>\n",
       "      <th>messages_qty</th>\n",
       "      <th>pmnt_for_extra_messages</th>\n",
       "      <th>mb_used_sum</th>\n",
       "      <th>pmnt_for_internet</th>\n",
       "      <th>bill_per_month</th>\n",
       "    </tr>\n",
       "  </thead>\n",
       "  <tbody>\n",
       "    <tr>\n",
       "      <th>0</th>\n",
       "      <td>1000</td>\n",
       "      <td>5</td>\n",
       "      <td>Краснодар</td>\n",
       "      <td>ultra</td>\n",
       "      <td>1950</td>\n",
       "      <td>159.00</td>\n",
       "      <td>0.00</td>\n",
       "      <td>22.00</td>\n",
       "      <td>0.00</td>\n",
       "      <td>2253.49</td>\n",
       "      <td>4350</td>\n",
       "      <td>6300.00</td>\n",
       "    </tr>\n",
       "    <tr>\n",
       "      <th>1</th>\n",
       "      <td>1000</td>\n",
       "      <td>6</td>\n",
       "      <td>Краснодар</td>\n",
       "      <td>ultra</td>\n",
       "      <td>1950</td>\n",
       "      <td>172.00</td>\n",
       "      <td>0.00</td>\n",
       "      <td>60.00</td>\n",
       "      <td>0.00</td>\n",
       "      <td>23233.77</td>\n",
       "      <td>1200</td>\n",
       "      <td>3150.00</td>\n",
       "    </tr>\n",
       "    <tr>\n",
       "      <th>2</th>\n",
       "      <td>1000</td>\n",
       "      <td>7</td>\n",
       "      <td>Краснодар</td>\n",
       "      <td>ultra</td>\n",
       "      <td>1950</td>\n",
       "      <td>340.00</td>\n",
       "      <td>0.00</td>\n",
       "      <td>75.00</td>\n",
       "      <td>0.00</td>\n",
       "      <td>14003.64</td>\n",
       "      <td>2550</td>\n",
       "      <td>4500.00</td>\n",
       "    </tr>\n",
       "    <tr>\n",
       "      <th>3</th>\n",
       "      <td>1000</td>\n",
       "      <td>8</td>\n",
       "      <td>Краснодар</td>\n",
       "      <td>ultra</td>\n",
       "      <td>1950</td>\n",
       "      <td>408.00</td>\n",
       "      <td>0.00</td>\n",
       "      <td>81.00</td>\n",
       "      <td>0.00</td>\n",
       "      <td>14055.93</td>\n",
       "      <td>2550</td>\n",
       "      <td>4500.00</td>\n",
       "    </tr>\n",
       "    <tr>\n",
       "      <th>4</th>\n",
       "      <td>1000</td>\n",
       "      <td>9</td>\n",
       "      <td>Краснодар</td>\n",
       "      <td>ultra</td>\n",
       "      <td>1950</td>\n",
       "      <td>466.00</td>\n",
       "      <td>0.00</td>\n",
       "      <td>57.00</td>\n",
       "      <td>0.00</td>\n",
       "      <td>14568.91</td>\n",
       "      <td>2550</td>\n",
       "      <td>4500.00</td>\n",
       "    </tr>\n",
       "  </tbody>\n",
       "</table>\n",
       "</div>"
      ],
      "text/plain": [
       "   user_id  month       city tariff  rub_monthly_fee  duration_rounded_up  \\\n",
       "0     1000      5  Краснодар  ultra             1950               159.00   \n",
       "1     1000      6  Краснодар  ultra             1950               172.00   \n",
       "2     1000      7  Краснодар  ultra             1950               340.00   \n",
       "3     1000      8  Краснодар  ultra             1950               408.00   \n",
       "4     1000      9  Краснодар  ultra             1950               466.00   \n",
       "\n",
       "   pay_for_call_extra  messages_qty  pmnt_for_extra_messages  mb_used_sum  \\\n",
       "0                0.00         22.00                     0.00      2253.49   \n",
       "1                0.00         60.00                     0.00     23233.77   \n",
       "2                0.00         75.00                     0.00     14003.64   \n",
       "3                0.00         81.00                     0.00     14055.93   \n",
       "4                0.00         57.00                     0.00     14568.91   \n",
       "\n",
       "   pmnt_for_internet  bill_per_month  \n",
       "0               4350         6300.00  \n",
       "1               1200         3150.00  \n",
       "2               2550         4500.00  \n",
       "3               2550         4500.00  \n",
       "4               2550         4500.00  "
      ]
     },
     "execution_count": 171,
     "metadata": {},
     "output_type": "execute_result"
    }
   ],
   "source": [
    "df_general.head()"
   ]
  },
  {
   "cell_type": "code",
   "execution_count": 172,
   "id": "d387246f",
   "metadata": {},
   "outputs": [
    {
     "data": {
      "text/plain": [
       "False    3216\n",
       "Name: city, dtype: int64"
      ]
     },
     "execution_count": 172,
     "metadata": {},
     "output_type": "execute_result"
    }
   ],
   "source": [
    "df_general.city.isnull().value_counts()"
   ]
  },
  {
   "cell_type": "markdown",
   "id": "4ee177fd",
   "metadata": {},
   "source": [
    "Данные о городе заполнены у всех пользователей. "
   ]
  },
  {
   "cell_type": "markdown",
   "id": "ae39ef9d",
   "metadata": {},
   "source": [
    "Проверим наличие опечаток в названиях городов"
   ]
  },
  {
   "cell_type": "code",
   "execution_count": 173,
   "id": "098eef0e",
   "metadata": {},
   "outputs": [
    {
     "data": {
      "text/plain": [
       "array(['Краснодар', 'Москва', 'Стерлитамак', 'Новокузнецк',\n",
       "       'Набережные Челны', 'Ульяновск', 'Челябинск', 'Пермь', 'Тюмень',\n",
       "       'Самара', 'Санкт-Петербург', 'Иваново', 'Чебоксары', 'Омск', 'Уфа',\n",
       "       'Томск', 'Чита', 'Мурманск', 'Петрозаводск', 'Тверь',\n",
       "       'Екатеринбург', 'Махачкала', 'Вологда', 'Череповец', 'Ярославль',\n",
       "       'Сочи', 'Хабаровск', 'Ставрополь', 'Рязань', 'Улан-Удэ', 'Тула',\n",
       "       'Саратов', 'Ростов-на-Дону', 'Казань', 'Иркутск', 'Курск',\n",
       "       'Калуга', 'Якутск', 'Астрахань', 'Химки', 'Владикавказ',\n",
       "       'Волгоград', 'Саранск', 'Ижевск', 'Новосибирск', 'Брянск',\n",
       "       'Тольятти', 'Нижний Тагил', 'Орёл', 'Белгород', 'Воронеж',\n",
       "       'Волжский', 'Курган', 'Барнаул', 'Красноярск', 'Архангельск',\n",
       "       'Липецк', 'Кемерово', 'Киров', 'Сургут', 'Пенза', 'Магнитогорск',\n",
       "       'Нижний Новгород', 'Кострома', 'Владивосток', 'Тамбов', 'Балашиха',\n",
       "       'Севастополь', 'Калининград', 'Оренбург', 'Смоленск',\n",
       "       'Нижневартовск', 'Владимир', 'Новороссийск', 'Грозный', 'Подольск'],\n",
       "      dtype=object)"
      ]
     },
     "execution_count": 173,
     "metadata": {},
     "output_type": "execute_result"
    }
   ],
   "source": [
    "df_general.city.unique()"
   ]
  },
  {
   "cell_type": "markdown",
   "id": "2d7a353a",
   "metadata": {},
   "source": [
    "Опечаток нет. \n"
   ]
  },
  {
   "cell_type": "markdown",
   "id": "66124f62",
   "metadata": {},
   "source": [
    "Отделим Москву от регионов. "
   ]
  },
  {
   "cell_type": "markdown",
   "id": "85415604",
   "metadata": {},
   "source": [
    "_Пользователи в Москве_"
   ]
  },
  {
   "cell_type": "code",
   "execution_count": 174,
   "id": "e3e5ecf4",
   "metadata": {
    "scrolled": true
   },
   "outputs": [
    {
     "data": {
      "text/html": [
       "<div>\n",
       "<style scoped>\n",
       "    .dataframe tbody tr th:only-of-type {\n",
       "        vertical-align: middle;\n",
       "    }\n",
       "\n",
       "    .dataframe tbody tr th {\n",
       "        vertical-align: top;\n",
       "    }\n",
       "\n",
       "    .dataframe thead th {\n",
       "        text-align: right;\n",
       "    }\n",
       "</style>\n",
       "<table border=\"1\" class=\"dataframe\">\n",
       "  <thead>\n",
       "    <tr style=\"text-align: right;\">\n",
       "      <th></th>\n",
       "      <th>user_id</th>\n",
       "      <th>month</th>\n",
       "      <th>city</th>\n",
       "      <th>tariff</th>\n",
       "      <th>rub_monthly_fee</th>\n",
       "      <th>duration_rounded_up</th>\n",
       "      <th>pay_for_call_extra</th>\n",
       "      <th>messages_qty</th>\n",
       "      <th>pmnt_for_extra_messages</th>\n",
       "      <th>mb_used_sum</th>\n",
       "      <th>pmnt_for_internet</th>\n",
       "      <th>bill_per_month</th>\n",
       "    </tr>\n",
       "  </thead>\n",
       "  <tbody>\n",
       "    <tr>\n",
       "      <th>8</th>\n",
       "      <td>1001</td>\n",
       "      <td>11</td>\n",
       "      <td>Москва</td>\n",
       "      <td>smart</td>\n",
       "      <td>550</td>\n",
       "      <td>430.00</td>\n",
       "      <td>0.00</td>\n",
       "      <td>0.00</td>\n",
       "      <td>0.00</td>\n",
       "      <td>18429.34</td>\n",
       "      <td>0</td>\n",
       "      <td>550.00</td>\n",
       "    </tr>\n",
       "    <tr>\n",
       "      <th>9</th>\n",
       "      <td>1001</td>\n",
       "      <td>12</td>\n",
       "      <td>Москва</td>\n",
       "      <td>smart</td>\n",
       "      <td>550</td>\n",
       "      <td>414.00</td>\n",
       "      <td>0.00</td>\n",
       "      <td>0.00</td>\n",
       "      <td>0.00</td>\n",
       "      <td>14036.66</td>\n",
       "      <td>400</td>\n",
       "      <td>950.00</td>\n",
       "    </tr>\n",
       "    <tr>\n",
       "      <th>17</th>\n",
       "      <td>1003</td>\n",
       "      <td>8</td>\n",
       "      <td>Москва</td>\n",
       "      <td>ultra</td>\n",
       "      <td>1950</td>\n",
       "      <td>380.00</td>\n",
       "      <td>0.00</td>\n",
       "      <td>37.00</td>\n",
       "      <td>0.00</td>\n",
       "      <td>8565.21</td>\n",
       "      <td>3450</td>\n",
       "      <td>5400.00</td>\n",
       "    </tr>\n",
       "    <tr>\n",
       "      <th>18</th>\n",
       "      <td>1003</td>\n",
       "      <td>9</td>\n",
       "      <td>Москва</td>\n",
       "      <td>ultra</td>\n",
       "      <td>1950</td>\n",
       "      <td>961.00</td>\n",
       "      <td>0.00</td>\n",
       "      <td>91.00</td>\n",
       "      <td>0.00</td>\n",
       "      <td>12468.87</td>\n",
       "      <td>2850</td>\n",
       "      <td>4800.00</td>\n",
       "    </tr>\n",
       "    <tr>\n",
       "      <th>19</th>\n",
       "      <td>1003</td>\n",
       "      <td>10</td>\n",
       "      <td>Москва</td>\n",
       "      <td>ultra</td>\n",
       "      <td>1950</td>\n",
       "      <td>855.00</td>\n",
       "      <td>0.00</td>\n",
       "      <td>83.00</td>\n",
       "      <td>0.00</td>\n",
       "      <td>14768.14</td>\n",
       "      <td>2400</td>\n",
       "      <td>4350.00</td>\n",
       "    </tr>\n",
       "  </tbody>\n",
       "</table>\n",
       "</div>"
      ],
      "text/plain": [
       "    user_id  month    city tariff  rub_monthly_fee  duration_rounded_up  \\\n",
       "8      1001     11  Москва  smart              550               430.00   \n",
       "9      1001     12  Москва  smart              550               414.00   \n",
       "17     1003      8  Москва  ultra             1950               380.00   \n",
       "18     1003      9  Москва  ultra             1950               961.00   \n",
       "19     1003     10  Москва  ultra             1950               855.00   \n",
       "\n",
       "    pay_for_call_extra  messages_qty  pmnt_for_extra_messages  mb_used_sum  \\\n",
       "8                 0.00          0.00                     0.00     18429.34   \n",
       "9                 0.00          0.00                     0.00     14036.66   \n",
       "17                0.00         37.00                     0.00      8565.21   \n",
       "18                0.00         91.00                     0.00     12468.87   \n",
       "19                0.00         83.00                     0.00     14768.14   \n",
       "\n",
       "    pmnt_for_internet  bill_per_month  \n",
       "8                   0          550.00  \n",
       "9                 400          950.00  \n",
       "17               3450         5400.00  \n",
       "18               2850         4800.00  \n",
       "19               2400         4350.00  "
      ]
     },
     "execution_count": 174,
     "metadata": {},
     "output_type": "execute_result"
    }
   ],
   "source": [
    "merged_total_moscow=df_general.query('city == \"Москва\"')\n",
    "merged_total_moscow.head()"
   ]
  },
  {
   "cell_type": "code",
   "execution_count": 175,
   "id": "144d9cf8",
   "metadata": {},
   "outputs": [
    {
     "name": "stdout",
     "output_type": "stream",
     "text": [
      "Количество пользователей в Москве: 99\n"
     ]
    }
   ],
   "source": [
    "print ('Количество пользователей в Москве:', (merged_total_moscow.user_id.nunique()))"
   ]
  },
  {
   "cell_type": "code",
   "execution_count": 176,
   "id": "706ace64",
   "metadata": {},
   "outputs": [
    {
     "data": {
      "text/plain": [
       "count    611.00\n",
       "mean     469.15\n",
       "std      241.54\n",
       "min        0.00\n",
       "25%      304.00\n",
       "50%      453.00\n",
       "75%      620.50\n",
       "max     1321.00\n",
       "Name: duration_rounded_up, dtype: float64"
      ]
     },
     "execution_count": 176,
     "metadata": {},
     "output_type": "execute_result"
    }
   ],
   "source": [
    "merged_total_moscow.duration_rounded_up.describe()"
   ]
  },
  {
   "cell_type": "code",
   "execution_count": 177,
   "id": "5497796b",
   "metadata": {},
   "outputs": [
    {
     "data": {
      "text/plain": [
       "count   611.00\n",
       "mean     37.88\n",
       "std      37.16\n",
       "min       0.00\n",
       "25%       6.50\n",
       "50%      29.00\n",
       "75%      57.00\n",
       "max     191.00\n",
       "Name: messages_qty, dtype: float64"
      ]
     },
     "execution_count": 177,
     "metadata": {},
     "output_type": "execute_result"
    }
   ],
   "source": [
    "merged_total_moscow.messages_qty.describe()"
   ]
  },
  {
   "cell_type": "code",
   "execution_count": 178,
   "id": "6e7d3f36",
   "metadata": {},
   "outputs": [
    {
     "data": {
      "text/plain": [
       "count     611.00\n",
       "mean    17963.87\n",
       "std      7844.97\n",
       "min       365.09\n",
       "25%     12612.29\n",
       "50%     17537.95\n",
       "75%     22114.81\n",
       "max     44296.86\n",
       "Name: mb_used_sum, dtype: float64"
      ]
     },
     "execution_count": 178,
     "metadata": {},
     "output_type": "execute_result"
    }
   ],
   "source": [
    "merged_total_moscow.mb_used_sum.describe()"
   ]
  },
  {
   "cell_type": "code",
   "execution_count": 179,
   "id": "937a654e",
   "metadata": {},
   "outputs": [
    {
     "data": {
      "text/plain": [
       "count    611.00\n",
       "mean    2001.05\n",
       "std     1524.62\n",
       "min      550.00\n",
       "25%      677.50\n",
       "50%     1554.00\n",
       "75%     2850.00\n",
       "max     6600.00\n",
       "Name: bill_per_month, dtype: float64"
      ]
     },
     "execution_count": 179,
     "metadata": {},
     "output_type": "execute_result"
    }
   ],
   "source": [
    "merged_total_moscow.bill_per_month.describe()"
   ]
  },
  {
   "cell_type": "code",
   "execution_count": 180,
   "id": "da2ff0da",
   "metadata": {},
   "outputs": [
    {
     "data": {
      "text/plain": [
       "<AxesSubplot:>"
      ]
     },
     "execution_count": 180,
     "metadata": {},
     "output_type": "execute_result"
    },
    {
     "data": {
      "image/png": "[encoded data removed]",
      "text/plain": [
       "<Figure size 432x288 with 1 Axes>"
      ]
     },
     "metadata": {
      "needs_background": "light"
     },
     "output_type": "display_data"
    }
   ],
   "source": [
    "merged_total_moscow.bill_per_month.hist(bins=10)"
   ]
  },
  {
   "cell_type": "markdown",
   "id": "8aa6db1d",
   "metadata": {},
   "source": [
    "Пользователи в Москве потратили на услуги связи от 550 до 6300 р. в среднем ежемесячно в течение этого года, в среднем 2001 р., в среднем в месяц истратив 469 минуты, 37 смс, 19 Гб интернета. "
   ]
  },
  {
   "cell_type": "code",
   "execution_count": 181,
   "id": "f60d6a02",
   "metadata": {},
   "outputs": [
    {
     "data": {
      "text/html": [
       "<div>\n",
       "<style scoped>\n",
       "    .dataframe tbody tr th:only-of-type {\n",
       "        vertical-align: middle;\n",
       "    }\n",
       "\n",
       "    .dataframe tbody tr th {\n",
       "        vertical-align: top;\n",
       "    }\n",
       "\n",
       "    .dataframe thead th {\n",
       "        text-align: right;\n",
       "    }\n",
       "</style>\n",
       "<table border=\"1\" class=\"dataframe\">\n",
       "  <thead>\n",
       "    <tr style=\"text-align: right;\">\n",
       "      <th></th>\n",
       "      <th>month</th>\n",
       "      <th>bill_per_month</th>\n",
       "    </tr>\n",
       "  </thead>\n",
       "  <tbody>\n",
       "    <tr>\n",
       "      <th>0</th>\n",
       "      <td>1</td>\n",
       "      <td>2600.00</td>\n",
       "    </tr>\n",
       "    <tr>\n",
       "      <th>1</th>\n",
       "      <td>2</td>\n",
       "      <td>2171.57</td>\n",
       "    </tr>\n",
       "    <tr>\n",
       "      <th>2</th>\n",
       "      <td>3</td>\n",
       "      <td>2179.60</td>\n",
       "    </tr>\n",
       "    <tr>\n",
       "      <th>3</th>\n",
       "      <td>4</td>\n",
       "      <td>2336.07</td>\n",
       "    </tr>\n",
       "    <tr>\n",
       "      <th>4</th>\n",
       "      <td>5</td>\n",
       "      <td>2039.49</td>\n",
       "    </tr>\n",
       "    <tr>\n",
       "      <th>5</th>\n",
       "      <td>6</td>\n",
       "      <td>2176.26</td>\n",
       "    </tr>\n",
       "    <tr>\n",
       "      <th>6</th>\n",
       "      <td>7</td>\n",
       "      <td>2037.86</td>\n",
       "    </tr>\n",
       "    <tr>\n",
       "      <th>7</th>\n",
       "      <td>8</td>\n",
       "      <td>1903.94</td>\n",
       "    </tr>\n",
       "    <tr>\n",
       "      <th>8</th>\n",
       "      <td>9</td>\n",
       "      <td>2038.99</td>\n",
       "    </tr>\n",
       "    <tr>\n",
       "      <th>9</th>\n",
       "      <td>10</td>\n",
       "      <td>1939.77</td>\n",
       "    </tr>\n",
       "    <tr>\n",
       "      <th>10</th>\n",
       "      <td>11</td>\n",
       "      <td>1918.03</td>\n",
       "    </tr>\n",
       "    <tr>\n",
       "      <th>11</th>\n",
       "      <td>12</td>\n",
       "      <td>1831.26</td>\n",
       "    </tr>\n",
       "  </tbody>\n",
       "</table>\n",
       "</div>"
      ],
      "text/plain": [
       "    month  bill_per_month\n",
       "0       1         2600.00\n",
       "1       2         2171.57\n",
       "2       3         2179.60\n",
       "3       4         2336.07\n",
       "4       5         2039.49\n",
       "5       6         2176.26\n",
       "6       7         2037.86\n",
       "7       8         1903.94\n",
       "8       9         2038.99\n",
       "9      10         1939.77\n",
       "10     11         1918.03\n",
       "11     12         1831.26"
      ]
     },
     "execution_count": 181,
     "metadata": {},
     "output_type": "execute_result"
    }
   ],
   "source": [
    "merged_total_moscow_pivot=merged_total_moscow.pivot_table(index='month', values='bill_per_month', aggfunc='mean').reset_index()\n",
    "merged_total_moscow_pivot"
   ]
  },
  {
   "cell_type": "code",
   "execution_count": 182,
   "id": "7437c412",
   "metadata": {},
   "outputs": [
    {
     "data": {
      "text/plain": [
       "<AxesSubplot:>"
      ]
     },
     "execution_count": 182,
     "metadata": {},
     "output_type": "execute_result"
    },
    {
     "data": {
      "image/png": "[encoded data removed]",
      "text/plain": [
       "<Figure size 432x288 with 1 Axes>"
      ]
     },
     "metadata": {
      "needs_background": "light"
     },
     "output_type": "display_data"
    }
   ],
   "source": [
    "merged_total_moscow_pivot.bill_per_month.plot()"
   ]
  },
  {
   "cell_type": "markdown",
   "id": "f1ca3aa9",
   "metadata": {},
   "source": [
    "Средний чек пользователей в Москве падает, а количество пользователей растет. "
   ]
  },
  {
   "cell_type": "markdown",
   "id": "dfb54b7e",
   "metadata": {},
   "source": [
    "_Пользователи в регионах_"
   ]
  },
  {
   "cell_type": "code",
   "execution_count": 183,
   "id": "217777df",
   "metadata": {},
   "outputs": [
    {
     "data": {
      "text/html": [
       "<div>\n",
       "<style scoped>\n",
       "    .dataframe tbody tr th:only-of-type {\n",
       "        vertical-align: middle;\n",
       "    }\n",
       "\n",
       "    .dataframe tbody tr th {\n",
       "        vertical-align: top;\n",
       "    }\n",
       "\n",
       "    .dataframe thead th {\n",
       "        text-align: right;\n",
       "    }\n",
       "</style>\n",
       "<table border=\"1\" class=\"dataframe\">\n",
       "  <thead>\n",
       "    <tr style=\"text-align: right;\">\n",
       "      <th></th>\n",
       "      <th>user_id</th>\n",
       "      <th>month</th>\n",
       "      <th>city</th>\n",
       "      <th>tariff</th>\n",
       "      <th>rub_monthly_fee</th>\n",
       "      <th>duration_rounded_up</th>\n",
       "      <th>pay_for_call_extra</th>\n",
       "      <th>messages_qty</th>\n",
       "      <th>pmnt_for_extra_messages</th>\n",
       "      <th>mb_used_sum</th>\n",
       "      <th>pmnt_for_internet</th>\n",
       "      <th>bill_per_month</th>\n",
       "    </tr>\n",
       "  </thead>\n",
       "  <tbody>\n",
       "    <tr>\n",
       "      <th>0</th>\n",
       "      <td>1000</td>\n",
       "      <td>5</td>\n",
       "      <td>Краснодар</td>\n",
       "      <td>ultra</td>\n",
       "      <td>1950</td>\n",
       "      <td>159.00</td>\n",
       "      <td>0.00</td>\n",
       "      <td>22.00</td>\n",
       "      <td>0.00</td>\n",
       "      <td>2253.49</td>\n",
       "      <td>4350</td>\n",
       "      <td>6300.00</td>\n",
       "    </tr>\n",
       "    <tr>\n",
       "      <th>1</th>\n",
       "      <td>1000</td>\n",
       "      <td>6</td>\n",
       "      <td>Краснодар</td>\n",
       "      <td>ultra</td>\n",
       "      <td>1950</td>\n",
       "      <td>172.00</td>\n",
       "      <td>0.00</td>\n",
       "      <td>60.00</td>\n",
       "      <td>0.00</td>\n",
       "      <td>23233.77</td>\n",
       "      <td>1200</td>\n",
       "      <td>3150.00</td>\n",
       "    </tr>\n",
       "    <tr>\n",
       "      <th>2</th>\n",
       "      <td>1000</td>\n",
       "      <td>7</td>\n",
       "      <td>Краснодар</td>\n",
       "      <td>ultra</td>\n",
       "      <td>1950</td>\n",
       "      <td>340.00</td>\n",
       "      <td>0.00</td>\n",
       "      <td>75.00</td>\n",
       "      <td>0.00</td>\n",
       "      <td>14003.64</td>\n",
       "      <td>2550</td>\n",
       "      <td>4500.00</td>\n",
       "    </tr>\n",
       "    <tr>\n",
       "      <th>3</th>\n",
       "      <td>1000</td>\n",
       "      <td>8</td>\n",
       "      <td>Краснодар</td>\n",
       "      <td>ultra</td>\n",
       "      <td>1950</td>\n",
       "      <td>408.00</td>\n",
       "      <td>0.00</td>\n",
       "      <td>81.00</td>\n",
       "      <td>0.00</td>\n",
       "      <td>14055.93</td>\n",
       "      <td>2550</td>\n",
       "      <td>4500.00</td>\n",
       "    </tr>\n",
       "    <tr>\n",
       "      <th>4</th>\n",
       "      <td>1000</td>\n",
       "      <td>9</td>\n",
       "      <td>Краснодар</td>\n",
       "      <td>ultra</td>\n",
       "      <td>1950</td>\n",
       "      <td>466.00</td>\n",
       "      <td>0.00</td>\n",
       "      <td>57.00</td>\n",
       "      <td>0.00</td>\n",
       "      <td>14568.91</td>\n",
       "      <td>2550</td>\n",
       "      <td>4500.00</td>\n",
       "    </tr>\n",
       "  </tbody>\n",
       "</table>\n",
       "</div>"
      ],
      "text/plain": [
       "   user_id  month       city tariff  rub_monthly_fee  duration_rounded_up  \\\n",
       "0     1000      5  Краснодар  ultra             1950               159.00   \n",
       "1     1000      6  Краснодар  ultra             1950               172.00   \n",
       "2     1000      7  Краснодар  ultra             1950               340.00   \n",
       "3     1000      8  Краснодар  ultra             1950               408.00   \n",
       "4     1000      9  Краснодар  ultra             1950               466.00   \n",
       "\n",
       "   pay_for_call_extra  messages_qty  pmnt_for_extra_messages  mb_used_sum  \\\n",
       "0                0.00         22.00                     0.00      2253.49   \n",
       "1                0.00         60.00                     0.00     23233.77   \n",
       "2                0.00         75.00                     0.00     14003.64   \n",
       "3                0.00         81.00                     0.00     14055.93   \n",
       "4                0.00         57.00                     0.00     14568.91   \n",
       "\n",
       "   pmnt_for_internet  bill_per_month  \n",
       "0               4350         6300.00  \n",
       "1               1200         3150.00  \n",
       "2               2550         4500.00  \n",
       "3               2550         4500.00  \n",
       "4               2550         4500.00  "
      ]
     },
     "execution_count": 183,
     "metadata": {},
     "output_type": "execute_result"
    }
   ],
   "source": [
    "merged_total_region=df_general.query('city != \"Москва\"')\n",
    "merged_total_region.head()"
   ]
  },
  {
   "cell_type": "code",
   "execution_count": 184,
   "id": "db4b851a",
   "metadata": {},
   "outputs": [
    {
     "data": {
      "text/plain": [
       "401"
      ]
     },
     "execution_count": 184,
     "metadata": {},
     "output_type": "execute_result"
    }
   ],
   "source": [
    "merged_total_region.user_id.nunique()"
   ]
  },
  {
   "cell_type": "markdown",
   "id": "95916b0b",
   "metadata": {},
   "source": [
    "401 пользователь из регионов"
   ]
  },
  {
   "cell_type": "code",
   "execution_count": 185,
   "id": "7294eb24",
   "metadata": {},
   "outputs": [
    {
     "data": {
      "text/plain": [
       "count   2605.00\n",
       "mean     446.70\n",
       "std      242.08\n",
       "min        0.00\n",
       "25%      280.00\n",
       "50%      440.00\n",
       "75%      584.00\n",
       "max     1673.00\n",
       "Name: duration_rounded_up, dtype: float64"
      ]
     },
     "execution_count": 185,
     "metadata": {},
     "output_type": "execute_result"
    }
   ],
   "source": [
    "merged_total_region.duration_rounded_up.describe()"
   ]
  },
  {
   "cell_type": "code",
   "execution_count": 186,
   "id": "f0a329d7",
   "metadata": {},
   "outputs": [
    {
     "data": {
      "text/plain": [
       "count   2605.00\n",
       "mean      38.35\n",
       "std       35.92\n",
       "min        0.00\n",
       "25%        9.00\n",
       "50%       30.00\n",
       "75%       57.00\n",
       "max      224.00\n",
       "Name: messages_qty, dtype: float64"
      ]
     },
     "execution_count": 186,
     "metadata": {},
     "output_type": "execute_result"
    }
   ],
   "source": [
    "merged_total_region.messages_qty.describe()"
   ]
  },
  {
   "cell_type": "code",
   "execution_count": 187,
   "id": "7c037a6e",
   "metadata": {},
   "outputs": [
    {
     "data": {
      "text/plain": [
       "count    2605.00\n",
       "mean    17017.02\n",
       "std      7507.65\n",
       "min         0.00\n",
       "25%     12450.19\n",
       "50%     16848.90\n",
       "75%     21231.85\n",
       "max     49745.69\n",
       "Name: mb_used_sum, dtype: float64"
      ]
     },
     "execution_count": 187,
     "metadata": {},
     "output_type": "execute_result"
    }
   ],
   "source": [
    "merged_total_region.mb_used_sum.describe()"
   ]
  },
  {
   "cell_type": "code",
   "execution_count": 188,
   "id": "421d1d6f",
   "metadata": {},
   "outputs": [
    {
     "data": {
      "text/plain": [
       "count   2605.00\n",
       "mean    1932.63\n",
       "std     1575.04\n",
       "min      550.00\n",
       "25%      637.00\n",
       "50%     1294.00\n",
       "75%     2750.00\n",
       "max     6600.00\n",
       "Name: bill_per_month, dtype: float64"
      ]
     },
     "execution_count": 188,
     "metadata": {},
     "output_type": "execute_result"
    }
   ],
   "source": [
    "merged_total_region.bill_per_month.describe()"
   ]
  },
  {
   "cell_type": "markdown",
   "id": "bccc2bdc",
   "metadata": {},
   "source": [
    "В регионах тратили на оплату мобильной связи от 550 до 6600 руб. ежемесячно, в среднем 1932,63 р. в месяц, и использовали в среднем 469 минут, 37 смс и 17 Гб интернета."
   ]
  },
  {
   "cell_type": "code",
   "execution_count": 189,
   "id": "09b2c9b4",
   "metadata": {},
   "outputs": [
    {
     "data": {
      "text/html": [
       "<div>\n",
       "<style scoped>\n",
       "    .dataframe tbody tr th:only-of-type {\n",
       "        vertical-align: middle;\n",
       "    }\n",
       "\n",
       "    .dataframe tbody tr th {\n",
       "        vertical-align: top;\n",
       "    }\n",
       "\n",
       "    .dataframe thead th {\n",
       "        text-align: right;\n",
       "    }\n",
       "</style>\n",
       "<table border=\"1\" class=\"dataframe\">\n",
       "  <thead>\n",
       "    <tr style=\"text-align: right;\">\n",
       "      <th></th>\n",
       "      <th>month</th>\n",
       "      <th>bill_per_month</th>\n",
       "    </tr>\n",
       "  </thead>\n",
       "  <tbody>\n",
       "    <tr>\n",
       "      <th>0</th>\n",
       "      <td>1</td>\n",
       "      <td>2710.71</td>\n",
       "    </tr>\n",
       "    <tr>\n",
       "      <th>1</th>\n",
       "      <td>2</td>\n",
       "      <td>2661.75</td>\n",
       "    </tr>\n",
       "    <tr>\n",
       "      <th>2</th>\n",
       "      <td>3</td>\n",
       "      <td>2133.87</td>\n",
       "    </tr>\n",
       "    <tr>\n",
       "      <th>3</th>\n",
       "      <td>4</td>\n",
       "      <td>2278.04</td>\n",
       "    </tr>\n",
       "    <tr>\n",
       "      <th>4</th>\n",
       "      <td>5</td>\n",
       "      <td>1977.27</td>\n",
       "    </tr>\n",
       "    <tr>\n",
       "      <th>5</th>\n",
       "      <td>6</td>\n",
       "      <td>2018.03</td>\n",
       "    </tr>\n",
       "    <tr>\n",
       "      <th>6</th>\n",
       "      <td>7</td>\n",
       "      <td>1923.92</td>\n",
       "    </tr>\n",
       "    <tr>\n",
       "      <th>7</th>\n",
       "      <td>8</td>\n",
       "      <td>1921.24</td>\n",
       "    </tr>\n",
       "    <tr>\n",
       "      <th>8</th>\n",
       "      <td>9</td>\n",
       "      <td>1876.99</td>\n",
       "    </tr>\n",
       "    <tr>\n",
       "      <th>9</th>\n",
       "      <td>10</td>\n",
       "      <td>1838.38</td>\n",
       "    </tr>\n",
       "    <tr>\n",
       "      <th>10</th>\n",
       "      <td>11</td>\n",
       "      <td>1826.08</td>\n",
       "    </tr>\n",
       "    <tr>\n",
       "      <th>11</th>\n",
       "      <td>12</td>\n",
       "      <td>1734.07</td>\n",
       "    </tr>\n",
       "  </tbody>\n",
       "</table>\n",
       "</div>"
      ],
      "text/plain": [
       "    month  bill_per_month\n",
       "0       1         2710.71\n",
       "1       2         2661.75\n",
       "2       3         2133.87\n",
       "3       4         2278.04\n",
       "4       5         1977.27\n",
       "5       6         2018.03\n",
       "6       7         1923.92\n",
       "7       8         1921.24\n",
       "8       9         1876.99\n",
       "9      10         1838.38\n",
       "10     11         1826.08\n",
       "11     12         1734.07"
      ]
     },
     "execution_count": 189,
     "metadata": {},
     "output_type": "execute_result"
    }
   ],
   "source": [
    "merged_total_region_pivot=merged_total_region.pivot_table(index='month', values='bill_per_month', aggfunc='mean').reset_index()\n",
    "merged_total_region_pivot"
   ]
  },
  {
   "cell_type": "code",
   "execution_count": 190,
   "id": "4dd17142",
   "metadata": {},
   "outputs": [
    {
     "data": {
      "text/plain": [
       "<AxesSubplot:>"
      ]
     },
     "execution_count": 190,
     "metadata": {},
     "output_type": "execute_result"
    },
    {
     "data": {
      "image/png": "[encoded data removed]",
      "text/plain": [
       "<Figure size 432x288 with 1 Axes>"
      ]
     },
     "metadata": {
      "needs_background": "light"
     },
     "output_type": "display_data"
    }
   ],
   "source": [
    "merged_total_region_pivot.bill_per_month.plot()"
   ]
  },
  {
   "cell_type": "markdown",
   "id": "c3aa0652",
   "metadata": {},
   "source": [
    "Средний чек пользователей в регионах также падает от начала года к концу. "
   ]
  },
  {
   "cell_type": "markdown",
   "id": "e4ca984c",
   "metadata": {},
   "source": [
    "Теперь проверим гипотезу о том, что средняя выручка, полученная от пользователей из Москвы отличается о региональных. Сформулируем нулевую гипотезу как \"средняя выручка, полученная от пользователей из Москвы равняется средней выручки, полученной от пользователей в регионах\". Альтернативная гипотеза: \"не равна\". Будем считать, что та выборка из 500 пользователей, которая у нас есть, отражает пропорции распределения тарифов по количеству пользователей и по количеству пользователей из Москвы и регионов. По среднему, рассчитанному из наших выборок, будем судить о среднем генеральных совокупностей пользователей оператора в столице и регионах. "
   ]
  },
  {
   "cell_type": "code",
   "execution_count": 191,
   "id": "52fc2581",
   "metadata": {},
   "outputs": [
    {
     "data": {
      "text/plain": [
       "2001.050736497545"
      ]
     },
     "execution_count": 191,
     "metadata": {},
     "output_type": "execute_result"
    }
   ],
   "source": [
    "merged_total_moscow.bill_per_month.mean()"
   ]
  },
  {
   "cell_type": "code",
   "execution_count": 192,
   "id": "d509f4a1",
   "metadata": {},
   "outputs": [
    {
     "data": {
      "text/plain": [
       "1932.6330134357006"
      ]
     },
     "execution_count": 192,
     "metadata": {},
     "output_type": "execute_result"
    }
   ],
   "source": [
    "merged_total_region.bill_per_month.mean()"
   ]
  },
  {
   "cell_type": "code",
   "execution_count": 193,
   "id": "83736b39",
   "metadata": {},
   "outputs": [
    {
     "name": "stdout",
     "output_type": "stream",
     "text": [
      "p-значение: 0.3310245929943547\n",
      "У нас не получилось отвергнуть нулевую гипотезу\n"
     ]
    }
   ],
   "source": [
    "alpha = 0.05\n",
    "results = st.ttest_ind (merged_total_moscow.bill_per_month, merged_total_region.bill_per_month, equal_var=True)\n",
    "print('p-значение:', results.pvalue)\n",
    "if results.pvalue < alpha:\n",
    "    print('Мы отвергаем гипотезу \"средняя выручка, полученная от пользователей из Москвы равняется средней выручке, полученной от пользователей в регионах\"')\n",
    "else:\n",
    "    print('У нас не получилось отвергнуть нулевую гипотезу') "
   ]
  },
  {
   "cell_type": "markdown",
   "id": "d1cf822c",
   "metadata": {},
   "source": [
    "Проверим еще одну гипотезу. Нулевая гипотеза: среднее регионов равно среднему Москвы, альтернативная гипотеза:  среднее регионов меньше среднего Москвы. "
   ]
  },
  {
   "cell_type": "code",
   "execution_count": 194,
   "id": "e2fe8d00",
   "metadata": {},
   "outputs": [
    {
     "data": {
      "text/plain": [
       "2001.050736497545"
      ]
     },
     "execution_count": 194,
     "metadata": {},
     "output_type": "execute_result"
    }
   ],
   "source": [
    "merged_total_moscow.bill_per_month.mean()"
   ]
  },
  {
   "cell_type": "code",
   "execution_count": 195,
   "id": "3abb9a16",
   "metadata": {},
   "outputs": [
    {
     "data": {
      "text/plain": [
       "1932.6330134357006"
      ]
     },
     "execution_count": 195,
     "metadata": {},
     "output_type": "execute_result"
    }
   ],
   "source": [
    "merged_total_region.bill_per_month.mean()"
   ]
  },
  {
   "cell_type": "code",
   "execution_count": 196,
   "id": "807450d1",
   "metadata": {},
   "outputs": [
    {
     "name": "stdout",
     "output_type": "stream",
     "text": [
      "p-значение:  0.1338811690436945\n",
      "Не получилось отвергнуть нулевую гипотезу\n"
     ]
    }
   ],
   "source": [
    "moscow_bill =  merged_total_moscow.bill_per_month\n",
    "region_bill_mean = merged_total_region.bill_per_month.mean()\n",
    "alpha = .05 \n",
    "results_compare_2 = st.ttest_1samp(moscow_bill, region_bill_mean)\n",
    "\n",
    "print('p-значение: ', results_compare_2.pvalue / 2)\n",
    "\n",
    "if (results_compare_2.pvalue / 2 < alpha) and (moscow_bill.mean() > region_bill_mean):\n",
    "    print(\"Отвергаем нулевую гипотезу\")\n",
    "else:\n",
    "    print(\"Не получилось отвергнуть нулевую гипотезу\") "
   ]
  },
  {
   "cell_type": "markdown",
   "id": "47cbb28a",
   "metadata": {},
   "source": [
    "Ни в каком случае мы не можем отвергнуть нулевую гипотезу. Вероятность получить различное среднее случайно равно 33%, что очень много. "
   ]
  },
  {
   "cell_type": "markdown",
   "id": "82abd3bd",
   "metadata": {},
   "source": [
    "# 5. Общий вывод"
   ]
  },
  {
   "cell_type": "markdown",
   "id": "a1f1d418",
   "metadata": {},
   "source": [
    "Мы проанализировали данные 500 пользователей: кто они, откуда, каким тарифом пользуются, сколько звонков и сообщений каждый отправил за 2018 год и получили информацию для того, чтобы сделать вывод — какой тариф лучше для нас, как для оператора. Это тариф ultra, т.к. средний чек по нему больше среднего чека пользователей smart, даже с учетом доплат за услуги, которые те и другие пользователи делают сверх включенного в их тарифы лимита. При этом пользователи в регионах с точки зрения среднего чека для нас также интересны, как пользователи из Москвы. "
   ]
  },
  {
   "cell_type": "code",
   "execution_count": null,
   "id": "9f8bc65f",
   "metadata": {},
   "outputs": [],
   "source": []
  }
 ],
 "metadata": {
  "ExecuteTimeLog": [
   {
    "duration": 1693,
    "start_time": "2021-09-02T14:09:14.500Z"
   },
   {
    "duration": 6911,
    "start_time": "2021-09-02T14:09:16.195Z"
   },
   {
    "duration": 37,
    "start_time": "2021-09-02T14:09:23.084Z"
   },
   {
    "duration": 32,
    "start_time": "2021-09-02T14:09:23.090Z"
   },
   {
    "duration": 23,
    "start_time": "2021-09-02T14:09:23.101Z"
   },
   {
    "duration": 19,
    "start_time": "2021-09-02T14:09:23.107Z"
   },
   {
    "duration": 14,
    "start_time": "2021-09-02T14:09:23.114Z"
   },
   {
    "duration": 10,
    "start_time": "2021-09-02T14:09:23.120Z"
   },
   {
    "duration": 6,
    "start_time": "2021-09-02T14:09:23.126Z"
   },
   {
    "duration": 2,
    "start_time": "2021-09-02T14:09:23.132Z"
   },
   {
    "duration": -2,
    "start_time": "2021-09-02T14:09:23.138Z"
   },
   {
    "duration": -6,
    "start_time": "2021-09-02T14:09:23.144Z"
   },
   {
    "duration": -10,
    "start_time": "2021-09-02T14:09:23.150Z"
   },
   {
    "duration": -14,
    "start_time": "2021-09-02T14:09:23.156Z"
   },
   {
    "duration": -18,
    "start_time": "2021-09-02T14:09:23.162Z"
   },
   {
    "duration": -21,
    "start_time": "2021-09-02T14:09:23.167Z"
   },
   {
    "duration": -25,
    "start_time": "2021-09-02T14:09:23.173Z"
   },
   {
    "duration": -27,
    "start_time": "2021-09-02T14:09:23.177Z"
   },
   {
    "duration": -31,
    "start_time": "2021-09-02T14:09:23.183Z"
   },
   {
    "duration": -34,
    "start_time": "2021-09-02T14:09:23.188Z"
   },
   {
    "duration": -37,
    "start_time": "2021-09-02T14:09:23.193Z"
   },
   {
    "duration": -40,
    "start_time": "2021-09-02T14:09:23.198Z"
   },
   {
    "duration": -43,
    "start_time": "2021-09-02T14:09:23.203Z"
   },
   {
    "duration": -46,
    "start_time": "2021-09-02T14:09:23.208Z"
   },
   {
    "duration": -49,
    "start_time": "2021-09-02T14:09:23.213Z"
   },
   {
    "duration": -52,
    "start_time": "2021-09-02T14:09:23.218Z"
   },
   {
    "duration": -56,
    "start_time": "2021-09-02T14:09:23.224Z"
   },
   {
    "duration": -59,
    "start_time": "2021-09-02T14:09:23.229Z"
   },
   {
    "duration": -61,
    "start_time": "2021-09-02T14:09:23.234Z"
   },
   {
    "duration": -66,
    "start_time": "2021-09-02T14:09:23.240Z"
   },
   {
    "duration": -70,
    "start_time": "2021-09-02T14:09:23.247Z"
   },
   {
    "duration": -73,
    "start_time": "2021-09-02T14:09:23.252Z"
   },
   {
    "duration": -79,
    "start_time": "2021-09-02T14:09:23.259Z"
   },
   {
    "duration": -83,
    "start_time": "2021-09-02T14:09:23.265Z"
   },
   {
    "duration": -86,
    "start_time": "2021-09-02T14:09:23.271Z"
   },
   {
    "duration": -91,
    "start_time": "2021-09-02T14:09:23.278Z"
   },
   {
    "duration": -95,
    "start_time": "2021-09-02T14:09:23.284Z"
   },
   {
    "duration": -99,
    "start_time": "2021-09-02T14:09:23.290Z"
   },
   {
    "duration": -103,
    "start_time": "2021-09-02T14:09:23.296Z"
   },
   {
    "duration": -107,
    "start_time": "2021-09-02T14:09:23.302Z"
   },
   {
    "duration": -112,
    "start_time": "2021-09-02T14:09:23.309Z"
   },
   {
    "duration": -60,
    "start_time": "2021-09-02T14:09:23.315Z"
   },
   {
    "duration": -63,
    "start_time": "2021-09-02T14:09:23.321Z"
   },
   {
    "duration": -68,
    "start_time": "2021-09-02T14:09:23.328Z"
   },
   {
    "duration": -72,
    "start_time": "2021-09-02T14:09:23.334Z"
   },
   {
    "duration": -76,
    "start_time": "2021-09-02T14:09:23.340Z"
   },
   {
    "duration": -81,
    "start_time": "2021-09-02T14:09:23.347Z"
   },
   {
    "duration": -83,
    "start_time": "2021-09-02T14:09:23.352Z"
   },
   {
    "duration": -88,
    "start_time": "2021-09-02T14:09:23.359Z"
   },
   {
    "duration": -93,
    "start_time": "2021-09-02T14:09:23.366Z"
   },
   {
    "duration": -99,
    "start_time": "2021-09-02T14:09:23.374Z"
   },
   {
    "duration": -104,
    "start_time": "2021-09-02T14:09:23.381Z"
   },
   {
    "duration": -108,
    "start_time": "2021-09-02T14:09:23.387Z"
   },
   {
    "duration": -112,
    "start_time": "2021-09-02T14:09:23.393Z"
   },
   {
    "duration": -116,
    "start_time": "2021-09-02T14:09:23.399Z"
   },
   {
    "duration": -120,
    "start_time": "2021-09-02T14:09:23.405Z"
   },
   {
    "duration": -126,
    "start_time": "2021-09-02T14:09:23.413Z"
   },
   {
    "duration": -130,
    "start_time": "2021-09-02T14:09:23.419Z"
   },
   {
    "duration": -136,
    "start_time": "2021-09-02T14:09:23.427Z"
   },
   {
    "duration": -77,
    "start_time": "2021-09-02T14:09:23.433Z"
   },
   {
    "duration": -81,
    "start_time": "2021-09-02T14:09:23.440Z"
   },
   {
    "duration": -85,
    "start_time": "2021-09-02T14:09:23.446Z"
   },
   {
    "duration": -90,
    "start_time": "2021-09-02T14:09:23.453Z"
   },
   {
    "duration": -94,
    "start_time": "2021-09-02T14:09:23.459Z"
   },
   {
    "duration": -100,
    "start_time": "2021-09-02T14:09:23.467Z"
   },
   {
    "duration": -103,
    "start_time": "2021-09-02T14:09:23.473Z"
   },
   {
    "duration": -108,
    "start_time": "2021-09-02T14:09:23.480Z"
   },
   {
    "duration": -111,
    "start_time": "2021-09-02T14:09:23.485Z"
   },
   {
    "duration": -116,
    "start_time": "2021-09-02T14:09:23.492Z"
   },
   {
    "duration": -119,
    "start_time": "2021-09-02T14:09:23.498Z"
   },
   {
    "duration": -124,
    "start_time": "2021-09-02T14:09:23.505Z"
   },
   {
    "duration": -129,
    "start_time": "2021-09-02T14:09:23.512Z"
   },
   {
    "duration": -134,
    "start_time": "2021-09-02T14:09:23.519Z"
   },
   {
    "duration": -138,
    "start_time": "2021-09-02T14:09:23.525Z"
   },
   {
    "duration": -142,
    "start_time": "2021-09-02T14:09:23.531Z"
   },
   {
    "duration": -146,
    "start_time": "2021-09-02T14:09:23.537Z"
   },
   {
    "duration": -89,
    "start_time": "2021-09-02T14:09:23.544Z"
   },
   {
    "duration": -92,
    "start_time": "2021-09-02T14:09:23.549Z"
   },
   {
    "duration": -96,
    "start_time": "2021-09-02T14:09:23.556Z"
   },
   {
    "duration": -99,
    "start_time": "2021-09-02T14:09:23.561Z"
   },
   {
    "duration": -103,
    "start_time": "2021-09-02T14:09:23.567Z"
   },
   {
    "duration": -107,
    "start_time": "2021-09-02T14:09:23.573Z"
   },
   {
    "duration": -110,
    "start_time": "2021-09-02T14:09:23.578Z"
   },
   {
    "duration": -113,
    "start_time": "2021-09-02T14:09:23.583Z"
   },
   {
    "duration": -117,
    "start_time": "2021-09-02T14:09:23.589Z"
   },
   {
    "duration": -121,
    "start_time": "2021-09-02T14:09:23.595Z"
   },
   {
    "duration": -124,
    "start_time": "2021-09-02T14:09:23.601Z"
   },
   {
    "duration": -127,
    "start_time": "2021-09-02T14:09:23.606Z"
   },
   {
    "duration": -131,
    "start_time": "2021-09-02T14:09:23.612Z"
   },
   {
    "duration": -134,
    "start_time": "2021-09-02T14:09:23.617Z"
   },
   {
    "duration": -139,
    "start_time": "2021-09-02T14:09:23.624Z"
   },
   {
    "duration": -142,
    "start_time": "2021-09-02T14:09:23.629Z"
   },
   {
    "duration": -146,
    "start_time": "2021-09-02T14:09:23.635Z"
   },
   {
    "duration": -147,
    "start_time": "2021-09-02T14:09:23.639Z"
   },
   {
    "duration": -150,
    "start_time": "2021-09-02T14:09:23.644Z"
   },
   {
    "duration": -93,
    "start_time": "2021-09-02T14:09:23.649Z"
   },
   {
    "duration": -96,
    "start_time": "2021-09-02T14:09:23.654Z"
   },
   {
    "duration": -98,
    "start_time": "2021-09-02T14:09:23.658Z"
   },
   {
    "duration": -99,
    "start_time": "2021-09-02T14:09:23.662Z"
   },
   {
    "duration": -102,
    "start_time": "2021-09-02T14:09:23.667Z"
   },
   {
    "duration": -104,
    "start_time": "2021-09-02T14:09:23.672Z"
   },
   {
    "duration": -106,
    "start_time": "2021-09-02T14:09:23.676Z"
   },
   {
    "duration": -107,
    "start_time": "2021-09-02T14:09:23.680Z"
   },
   {
    "duration": -110,
    "start_time": "2021-09-02T14:09:23.685Z"
   },
   {
    "duration": -112,
    "start_time": "2021-09-02T14:09:23.689Z"
   },
   {
    "duration": -113,
    "start_time": "2021-09-02T14:09:23.693Z"
   },
   {
    "duration": -116,
    "start_time": "2021-09-02T14:09:23.698Z"
   },
   {
    "duration": -118,
    "start_time": "2021-09-02T14:09:23.702Z"
   },
   {
    "duration": -121,
    "start_time": "2021-09-02T14:09:23.707Z"
   },
   {
    "duration": -122,
    "start_time": "2021-09-02T14:09:23.711Z"
   },
   {
    "duration": -125,
    "start_time": "2021-09-02T14:09:23.716Z"
   },
   {
    "duration": -127,
    "start_time": "2021-09-02T14:09:23.720Z"
   },
   {
    "duration": -70,
    "start_time": "2021-09-02T14:09:23.725Z"
   },
   {
    "duration": -72,
    "start_time": "2021-09-02T14:09:23.730Z"
   },
   {
    "duration": -75,
    "start_time": "2021-09-02T14:09:23.735Z"
   },
   {
    "duration": -76,
    "start_time": "2021-09-02T14:09:23.739Z"
   },
   {
    "duration": -78,
    "start_time": "2021-09-02T14:09:23.743Z"
   },
   {
    "duration": -81,
    "start_time": "2021-09-02T14:09:23.748Z"
   },
   {
    "duration": -83,
    "start_time": "2021-09-02T14:09:23.752Z"
   },
   {
    "duration": -85,
    "start_time": "2021-09-02T14:09:23.756Z"
   },
   {
    "duration": -88,
    "start_time": "2021-09-02T14:09:23.761Z"
   },
   {
    "duration": -89,
    "start_time": "2021-09-02T14:09:23.765Z"
   },
   {
    "duration": -91,
    "start_time": "2021-09-02T14:09:23.769Z"
   },
   {
    "duration": -94,
    "start_time": "2021-09-02T14:09:23.774Z"
   },
   {
    "duration": -96,
    "start_time": "2021-09-02T14:09:23.778Z"
   },
   {
    "duration": -97,
    "start_time": "2021-09-02T14:09:23.782Z"
   },
   {
    "duration": -100,
    "start_time": "2021-09-02T14:09:23.787Z"
   },
   {
    "duration": -102,
    "start_time": "2021-09-02T14:09:23.791Z"
   },
   {
    "duration": -104,
    "start_time": "2021-09-02T14:09:23.796Z"
   },
   {
    "duration": -107,
    "start_time": "2021-09-02T14:09:23.801Z"
   },
   {
    "duration": -51,
    "start_time": "2021-09-02T14:09:23.806Z"
   },
   {
    "duration": -53,
    "start_time": "2021-09-02T14:09:23.811Z"
   },
   {
    "duration": -56,
    "start_time": "2021-09-02T14:09:23.816Z"
   },
   {
    "duration": -58,
    "start_time": "2021-09-02T14:09:23.820Z"
   },
   {
    "duration": -61,
    "start_time": "2021-09-02T14:09:23.826Z"
   },
   {
    "duration": -64,
    "start_time": "2021-09-02T14:09:23.831Z"
   },
   {
    "duration": -65,
    "start_time": "2021-09-02T14:09:23.835Z"
   },
   {
    "duration": -68,
    "start_time": "2021-09-02T14:09:23.840Z"
   },
   {
    "duration": -71,
    "start_time": "2021-09-02T14:09:23.845Z"
   },
   {
    "duration": -72,
    "start_time": "2021-09-02T14:09:23.849Z"
   },
   {
    "duration": -74,
    "start_time": "2021-09-02T14:09:23.853Z"
   },
   {
    "duration": -77,
    "start_time": "2021-09-02T14:09:23.858Z"
   },
   {
    "duration": -80,
    "start_time": "2021-09-02T14:09:23.863Z"
   },
   {
    "duration": -81,
    "start_time": "2021-09-02T14:09:23.867Z"
   },
   {
    "duration": -84,
    "start_time": "2021-09-02T14:09:23.872Z"
   },
   {
    "duration": -86,
    "start_time": "2021-09-02T14:09:23.876Z"
   },
   {
    "duration": -89,
    "start_time": "2021-09-02T14:09:23.881Z"
   },
   {
    "duration": -30,
    "start_time": "2021-09-02T14:09:23.885Z"
   },
   {
    "duration": -33,
    "start_time": "2021-09-02T14:09:23.890Z"
   },
   {
    "duration": -34,
    "start_time": "2021-09-02T14:09:23.894Z"
   },
   {
    "duration": -36,
    "start_time": "2021-09-02T14:09:23.898Z"
   },
   {
    "duration": -39,
    "start_time": "2021-09-02T14:09:23.903Z"
   },
   {
    "duration": -41,
    "start_time": "2021-09-02T14:09:23.907Z"
   },
   {
    "duration": -43,
    "start_time": "2021-09-02T14:09:23.912Z"
   },
   {
    "duration": -45,
    "start_time": "2021-09-02T14:09:23.916Z"
   },
   {
    "duration": -47,
    "start_time": "2021-09-02T14:09:23.921Z"
   },
   {
    "duration": -49,
    "start_time": "2021-09-02T14:09:23.925Z"
   },
   {
    "duration": -51,
    "start_time": "2021-09-02T14:09:23.929Z"
   },
   {
    "duration": -54,
    "start_time": "2021-09-02T14:09:23.934Z"
   },
   {
    "duration": -57,
    "start_time": "2021-09-02T14:09:23.939Z"
   },
   {
    "duration": -61,
    "start_time": "2021-09-02T14:09:23.946Z"
   },
   {
    "duration": -63,
    "start_time": "2021-09-02T14:09:23.950Z"
   },
   {
    "duration": -67,
    "start_time": "2021-09-02T14:09:23.956Z"
   },
   {
    "duration": -70,
    "start_time": "2021-09-02T14:09:23.961Z"
   },
   {
    "duration": -72,
    "start_time": "2021-09-02T14:09:23.965Z"
   },
   {
    "duration": -15,
    "start_time": "2021-09-02T14:09:23.970Z"
   },
   {
    "duration": -17,
    "start_time": "2021-09-02T14:09:23.974Z"
   },
   {
    "duration": -19,
    "start_time": "2021-09-02T14:09:23.979Z"
   },
   {
    "duration": -21,
    "start_time": "2021-09-02T14:09:23.983Z"
   },
   {
    "duration": -24,
    "start_time": "2021-09-02T14:09:23.988Z"
   },
   {
    "duration": -25,
    "start_time": "2021-09-02T14:09:23.992Z"
   },
   {
    "duration": -28,
    "start_time": "2021-09-02T14:09:23.997Z"
   },
   {
    "duration": -30,
    "start_time": "2021-09-02T14:09:24.001Z"
   },
   {
    "duration": -33,
    "start_time": "2021-09-02T14:09:24.006Z"
   },
   {
    "duration": -36,
    "start_time": "2021-09-02T14:09:24.012Z"
   },
   {
    "duration": -39,
    "start_time": "2021-09-02T14:09:24.017Z"
   },
   {
    "duration": -42,
    "start_time": "2021-09-02T14:09:24.022Z"
   },
   {
    "duration": -44,
    "start_time": "2021-09-02T14:09:24.027Z"
   },
   {
    "duration": -47,
    "start_time": "2021-09-02T14:09:24.032Z"
   },
   {
    "duration": -49,
    "start_time": "2021-09-02T14:09:24.036Z"
   },
   {
    "duration": -52,
    "start_time": "2021-09-02T14:09:24.041Z"
   },
   {
    "duration": -54,
    "start_time": "2021-09-02T14:09:24.045Z"
   },
   {
    "duration": -57,
    "start_time": "2021-09-02T14:09:24.050Z"
   },
   {
    "duration": 86,
    "start_time": "2021-09-02T16:56:38.978Z"
   },
   {
    "duration": 1428,
    "start_time": "2021-09-02T16:57:42.302Z"
   },
   {
    "duration": 3134,
    "start_time": "2021-09-02T16:57:44.629Z"
   },
   {
    "duration": 471,
    "start_time": "2021-09-02T17:02:34.699Z"
   },
   {
    "duration": 189,
    "start_time": "2021-09-02T17:02:41.385Z"
   },
   {
    "duration": 189,
    "start_time": "2021-09-02T17:03:02.464Z"
   },
   {
    "duration": 26,
    "start_time": "2021-09-02T17:03:04.443Z"
   },
   {
    "duration": 14,
    "start_time": "2021-09-02T17:03:05.403Z"
   },
   {
    "duration": 28,
    "start_time": "2021-09-02T17:03:06.098Z"
   },
   {
    "duration": 60,
    "start_time": "2021-09-02T17:03:08.392Z"
   },
   {
    "duration": 14,
    "start_time": "2021-09-02T17:03:09.168Z"
   },
   {
    "duration": 38,
    "start_time": "2021-09-02T17:03:10.503Z"
   },
   {
    "duration": 22,
    "start_time": "2021-09-02T17:03:11.017Z"
   },
   {
    "duration": 214,
    "start_time": "2021-09-02T17:03:16.714Z"
   },
   {
    "duration": 25,
    "start_time": "2021-09-02T17:03:17.500Z"
   },
   {
    "duration": 12,
    "start_time": "2021-09-02T17:03:18.504Z"
   },
   {
    "duration": 21,
    "start_time": "2021-09-02T17:03:19.017Z"
   },
   {
    "duration": 36,
    "start_time": "2021-09-02T17:03:20.610Z"
   },
   {
    "duration": 11,
    "start_time": "2021-09-02T17:03:21.687Z"
   },
   {
    "duration": 12,
    "start_time": "2021-09-02T17:03:39.655Z"
   },
   {
    "duration": 33,
    "start_time": "2021-09-02T17:03:40.882Z"
   },
   {
    "duration": 20,
    "start_time": "2021-09-02T17:03:42.212Z"
   },
   {
    "duration": 2419,
    "start_time": "2021-09-02T17:04:00.501Z"
   },
   {
    "duration": 352,
    "start_time": "2021-09-02T17:04:05.694Z"
   },
   {
    "duration": 19,
    "start_time": "2021-09-02T17:04:09.727Z"
   },
   {
    "duration": 10,
    "start_time": "2021-09-02T17:04:11.047Z"
   },
   {
    "duration": 17,
    "start_time": "2021-09-02T17:04:11.524Z"
   },
   {
    "duration": 46,
    "start_time": "2021-09-02T17:04:13.398Z"
   },
   {
    "duration": 17,
    "start_time": "2021-09-02T17:04:19.079Z"
   },
   {
    "duration": 31,
    "start_time": "2021-09-02T17:04:29.948Z"
   },
   {
    "duration": 9,
    "start_time": "2021-09-02T17:04:33.751Z"
   },
   {
    "duration": 16,
    "start_time": "2021-09-02T17:04:34.464Z"
   },
   {
    "duration": 7,
    "start_time": "2021-09-02T17:04:35.410Z"
   },
   {
    "duration": 26,
    "start_time": "2021-09-02T17:04:37.702Z"
   },
   {
    "duration": 6,
    "start_time": "2021-09-02T17:04:38.456Z"
   },
   {
    "duration": 11,
    "start_time": "2021-09-02T17:04:43.347Z"
   },
   {
    "duration": 17,
    "start_time": "2021-09-02T17:05:03.562Z"
   },
   {
    "duration": 33,
    "start_time": "2021-09-02T17:05:09.289Z"
   },
   {
    "duration": 8,
    "start_time": "2021-09-02T17:05:10.387Z"
   },
   {
    "duration": 12,
    "start_time": "2021-09-02T17:05:11.390Z"
   },
   {
    "duration": 12,
    "start_time": "2021-09-02T17:05:13.143Z"
   },
   {
    "duration": 20,
    "start_time": "2021-09-02T17:05:15.538Z"
   },
   {
    "duration": 11,
    "start_time": "2021-09-02T17:05:16.346Z"
   },
   {
    "duration": 10,
    "start_time": "2021-09-02T17:05:16.779Z"
   },
   {
    "duration": 16,
    "start_time": "2021-09-02T17:05:17.583Z"
   },
   {
    "duration": 16,
    "start_time": "2021-09-02T17:05:18.569Z"
   },
   {
    "duration": 17,
    "start_time": "2021-09-02T17:05:18.950Z"
   },
   {
    "duration": 24,
    "start_time": "2021-09-02T17:05:19.407Z"
   },
   {
    "duration": 14,
    "start_time": "2021-09-02T17:05:19.889Z"
   },
   {
    "duration": 15,
    "start_time": "2021-09-02T17:05:20.274Z"
   },
   {
    "duration": 12,
    "start_time": "2021-09-02T17:05:20.782Z"
   },
   {
    "duration": 16,
    "start_time": "2021-09-02T17:05:22.463Z"
   },
   {
    "duration": 12,
    "start_time": "2021-09-02T17:05:38.049Z"
   },
   {
    "duration": 19,
    "start_time": "2021-09-02T17:05:38.586Z"
   },
   {
    "duration": 25,
    "start_time": "2021-09-02T17:05:39.589Z"
   },
   {
    "duration": 4,
    "start_time": "2021-09-02T17:05:41.520Z"
   },
   {
    "duration": 103,
    "start_time": "2021-09-02T17:05:41.931Z"
   },
   {
    "duration": 42,
    "start_time": "2021-09-02T17:05:43.268Z"
   },
   {
    "duration": 10,
    "start_time": "2021-09-02T17:05:43.386Z"
   },
   {
    "duration": 28,
    "start_time": "2021-09-02T17:05:43.898Z"
   },
   {
    "duration": 13,
    "start_time": "2021-09-02T17:05:44.788Z"
   },
   {
    "duration": 17,
    "start_time": "2021-09-02T17:05:45.778Z"
   },
   {
    "duration": 4,
    "start_time": "2021-09-02T17:05:46.193Z"
   },
   {
    "duration": 25,
    "start_time": "2021-09-02T17:05:46.578Z"
   },
   {
    "duration": 12,
    "start_time": "2021-09-02T17:05:47.092Z"
   },
   {
    "duration": 19,
    "start_time": "2021-09-02T17:05:47.904Z"
   },
   {
    "duration": 32,
    "start_time": "2021-09-02T17:05:48.343Z"
   },
   {
    "duration": 28,
    "start_time": "2021-09-02T17:05:49.700Z"
   },
   {
    "duration": 10,
    "start_time": "2021-09-02T17:05:50.122Z"
   },
   {
    "duration": 33,
    "start_time": "2021-09-02T17:05:50.556Z"
   },
   {
    "duration": 12,
    "start_time": "2021-09-02T17:05:51.061Z"
   },
   {
    "duration": 20,
    "start_time": "2021-09-02T17:05:51.968Z"
   },
   {
    "duration": 23,
    "start_time": "2021-09-02T17:05:52.517Z"
   },
   {
    "duration": 20,
    "start_time": "2021-09-02T17:05:52.987Z"
   },
   {
    "duration": 31,
    "start_time": "2021-09-02T17:05:53.476Z"
   },
   {
    "duration": 26,
    "start_time": "2021-09-02T17:05:56.484Z"
   },
   {
    "duration": 18,
    "start_time": "2021-09-02T17:05:56.513Z"
   },
   {
    "duration": 11,
    "start_time": "2021-09-02T17:05:56.738Z"
   },
   {
    "duration": 35,
    "start_time": "2021-09-02T17:05:57.355Z"
   },
   {
    "duration": 13,
    "start_time": "2021-09-02T17:05:57.940Z"
   },
   {
    "duration": 22,
    "start_time": "2021-09-02T17:05:58.980Z"
   },
   {
    "duration": 22,
    "start_time": "2021-09-02T17:05:59.504Z"
   },
   {
    "duration": 11,
    "start_time": "2021-09-02T17:06:00.137Z"
   },
   {
    "duration": 25,
    "start_time": "2021-09-02T17:06:00.617Z"
   },
   {
    "duration": 25,
    "start_time": "2021-09-02T17:06:01.099Z"
   },
   {
    "duration": 41,
    "start_time": "2021-09-02T17:06:01.584Z"
   },
   {
    "duration": 31,
    "start_time": "2021-09-02T17:06:03.630Z"
   },
   {
    "duration": 26,
    "start_time": "2021-09-02T17:06:04.220Z"
   },
   {
    "duration": 32,
    "start_time": "2021-09-02T17:06:05.283Z"
   },
   {
    "duration": 19,
    "start_time": "2021-09-02T17:06:10.642Z"
   },
   {
    "duration": 20,
    "start_time": "2021-09-02T17:06:11.229Z"
   },
   {
    "duration": 15,
    "start_time": "2021-09-02T17:06:12.457Z"
   },
   {
    "duration": 11,
    "start_time": "2021-09-02T17:06:12.994Z"
   },
   {
    "duration": 311,
    "start_time": "2021-09-02T17:06:13.534Z"
   },
   {
    "duration": 20,
    "start_time": "2021-09-02T17:06:15.220Z"
   },
   {
    "duration": 249,
    "start_time": "2021-09-02T17:06:15.780Z"
   },
   {
    "duration": 22,
    "start_time": "2021-09-02T17:06:17.382Z"
   },
   {
    "duration": 10,
    "start_time": "2021-09-02T17:06:17.979Z"
   },
   {
    "duration": 287,
    "start_time": "2021-09-02T17:06:19.140Z"
   },
   {
    "duration": 10,
    "start_time": "2021-09-02T17:06:20.336Z"
   },
   {
    "duration": 15,
    "start_time": "2021-09-02T17:06:22.058Z"
   },
   {
    "duration": 12,
    "start_time": "2021-09-02T17:06:22.821Z"
   },
   {
    "duration": 295,
    "start_time": "2021-09-02T17:06:23.340Z"
   },
   {
    "duration": 21,
    "start_time": "2021-09-02T17:06:25.057Z"
   },
   {
    "duration": 243,
    "start_time": "2021-09-02T17:06:25.581Z"
   },
   {
    "duration": 23,
    "start_time": "2021-09-02T17:06:27.265Z"
   },
   {
    "duration": 11,
    "start_time": "2021-09-02T17:06:27.752Z"
   },
   {
    "duration": 268,
    "start_time": "2021-09-02T17:06:28.316Z"
   },
   {
    "duration": 10,
    "start_time": "2021-09-02T17:06:29.852Z"
   },
   {
    "duration": 16,
    "start_time": "2021-09-02T17:06:32.341Z"
   },
   {
    "duration": 12,
    "start_time": "2021-09-02T17:06:33.103Z"
   },
   {
    "duration": 11,
    "start_time": "2021-09-02T17:06:34.392Z"
   },
   {
    "duration": 326,
    "start_time": "2021-09-02T17:06:35.382Z"
   },
   {
    "duration": 22,
    "start_time": "2021-09-02T17:06:36.657Z"
   },
   {
    "duration": 275,
    "start_time": "2021-09-02T17:06:36.981Z"
   },
   {
    "duration": 25,
    "start_time": "2021-09-02T17:06:38.480Z"
   },
   {
    "duration": 343,
    "start_time": "2021-09-02T17:06:38.961Z"
   },
   {
    "duration": 15,
    "start_time": "2021-09-02T17:06:40.536Z"
   },
   {
    "duration": 12,
    "start_time": "2021-09-02T17:06:41.118Z"
   },
   {
    "duration": 8,
    "start_time": "2021-09-02T17:06:41.619Z"
   },
   {
    "duration": 298,
    "start_time": "2021-09-02T17:06:42.078Z"
   },
   {
    "duration": 19,
    "start_time": "2021-09-02T17:06:43.162Z"
   },
   {
    "duration": 241,
    "start_time": "2021-09-02T17:06:43.723Z"
   },
   {
    "duration": 21,
    "start_time": "2021-09-02T17:06:44.730Z"
   },
   {
    "duration": 322,
    "start_time": "2021-09-02T17:06:45.266Z"
   },
   {
    "duration": 15,
    "start_time": "2021-09-02T17:06:47.940Z"
   },
   {
    "duration": 10,
    "start_time": "2021-09-02T17:06:48.573Z"
   },
   {
    "duration": 9,
    "start_time": "2021-09-02T17:06:49.042Z"
   },
   {
    "duration": 333,
    "start_time": "2021-09-02T17:06:49.918Z"
   },
   {
    "duration": 20,
    "start_time": "2021-09-02T17:06:50.741Z"
   },
   {
    "duration": 234,
    "start_time": "2021-09-02T17:06:51.223Z"
   },
   {
    "duration": 23,
    "start_time": "2021-09-02T17:06:52.463Z"
   },
   {
    "duration": 291,
    "start_time": "2021-09-02T17:06:52.915Z"
   },
   {
    "duration": 15,
    "start_time": "2021-09-02T17:06:54.265Z"
   },
   {
    "duration": 11,
    "start_time": "2021-09-02T17:06:54.709Z"
   },
   {
    "duration": 330,
    "start_time": "2021-09-02T17:06:55.188Z"
   },
   {
    "duration": 9,
    "start_time": "2021-09-02T17:06:55.671Z"
   },
   {
    "duration": 19,
    "start_time": "2021-09-02T17:06:56.618Z"
   },
   {
    "duration": 240,
    "start_time": "2021-09-02T17:06:57.028Z"
   },
   {
    "duration": 23,
    "start_time": "2021-09-02T17:06:58.263Z"
   },
   {
    "duration": 323,
    "start_time": "2021-09-02T17:06:58.747Z"
   },
   {
    "duration": 50,
    "start_time": "2021-09-02T17:06:59.971Z"
   },
   {
    "duration": 18,
    "start_time": "2021-09-02T17:07:00.416Z"
   },
   {
    "duration": 273,
    "start_time": "2021-09-02T17:07:00.872Z"
   },
   {
    "duration": 19,
    "start_time": "2021-09-02T17:07:01.280Z"
   },
   {
    "duration": 360,
    "start_time": "2021-09-02T17:07:01.712Z"
   },
   {
    "duration": 10,
    "start_time": "2021-09-02T17:07:03.536Z"
   },
   {
    "duration": 370,
    "start_time": "2021-09-02T17:07:03.989Z"
   },
   {
    "duration": 20,
    "start_time": "2021-09-02T17:07:05.390Z"
   },
   {
    "duration": 246,
    "start_time": "2021-09-02T17:07:05.839Z"
   },
   {
    "duration": 9,
    "start_time": "2021-09-02T17:07:06.720Z"
   },
   {
    "duration": 10,
    "start_time": "2021-09-02T17:07:08.061Z"
   },
   {
    "duration": 263,
    "start_time": "2021-09-02T17:07:08.526Z"
   },
   {
    "duration": 20,
    "start_time": "2021-09-02T17:07:09.457Z"
   },
   {
    "duration": 248,
    "start_time": "2021-09-02T17:07:09.934Z"
   },
   {
    "duration": 15,
    "start_time": "2021-09-02T17:07:10.378Z"
   },
   {
    "duration": 25,
    "start_time": "2021-09-02T17:07:11.320Z"
   },
   {
    "duration": 9,
    "start_time": "2021-09-02T17:07:11.832Z"
   },
   {
    "duration": 6,
    "start_time": "2021-09-02T17:07:15.040Z"
   },
   {
    "duration": 6,
    "start_time": "2021-09-02T17:07:16.736Z"
   },
   {
    "duration": 7,
    "start_time": "2021-09-02T17:07:17.304Z"
   },
   {
    "duration": 8,
    "start_time": "2021-09-02T17:07:19.136Z"
   },
   {
    "duration": 16,
    "start_time": "2021-09-02T17:07:21.942Z"
   },
   {
    "duration": 8,
    "start_time": "2021-09-02T17:07:22.851Z"
   },
   {
    "duration": 7,
    "start_time": "2021-09-02T17:07:24.296Z"
   },
   {
    "duration": 20,
    "start_time": "2021-09-02T17:07:26.698Z"
   },
   {
    "duration": 5,
    "start_time": "2021-09-02T17:07:27.221Z"
   },
   {
    "duration": 11,
    "start_time": "2021-09-02T17:07:27.783Z"
   },
   {
    "duration": 10,
    "start_time": "2021-09-02T17:07:28.367Z"
   },
   {
    "duration": 11,
    "start_time": "2021-09-02T17:07:28.902Z"
   },
   {
    "duration": 11,
    "start_time": "2021-09-02T17:07:29.420Z"
   },
   {
    "duration": 296,
    "start_time": "2021-09-02T17:07:29.955Z"
   },
   {
    "duration": 19,
    "start_time": "2021-09-02T17:07:31.068Z"
   },
   {
    "duration": 266,
    "start_time": "2021-09-02T17:07:31.664Z"
   },
   {
    "duration": 20,
    "start_time": "2021-09-02T17:07:33.522Z"
   },
   {
    "duration": 6,
    "start_time": "2021-09-02T17:07:34.058Z"
   },
   {
    "duration": 11,
    "start_time": "2021-09-02T17:07:35.300Z"
   },
   {
    "duration": 11,
    "start_time": "2021-09-02T17:07:35.875Z"
   },
   {
    "duration": 11,
    "start_time": "2021-09-02T17:07:36.383Z"
   },
   {
    "duration": 10,
    "start_time": "2021-09-02T17:07:36.932Z"
   },
   {
    "duration": 19,
    "start_time": "2021-09-02T17:07:38.372Z"
   },
   {
    "duration": 235,
    "start_time": "2021-09-02T17:07:38.902Z"
   },
   {
    "duration": 1502,
    "start_time": "2021-09-03T08:30:41.946Z"
   },
   {
    "duration": 218,
    "start_time": "2021-09-03T08:30:43.451Z"
   },
   {
    "duration": 30,
    "start_time": "2021-09-03T08:30:43.672Z"
   },
   {
    "duration": 16,
    "start_time": "2021-09-03T08:30:43.705Z"
   },
   {
    "duration": 58,
    "start_time": "2021-09-03T08:30:43.724Z"
   },
   {
    "duration": 51,
    "start_time": "2021-09-03T08:30:43.784Z"
   },
   {
    "duration": 40,
    "start_time": "2021-09-03T08:30:43.837Z"
   },
   {
    "duration": 41,
    "start_time": "2021-09-03T08:30:43.881Z"
   },
   {
    "duration": 42,
    "start_time": "2021-09-03T08:30:43.925Z"
   },
   {
    "duration": 181,
    "start_time": "2021-09-03T08:30:43.969Z"
   },
   {
    "duration": 27,
    "start_time": "2021-09-03T08:30:44.152Z"
   },
   {
    "duration": 11,
    "start_time": "2021-09-03T08:30:44.182Z"
   },
   {
    "duration": 28,
    "start_time": "2021-09-03T08:30:44.196Z"
   },
   {
    "duration": 61,
    "start_time": "2021-09-03T08:30:44.227Z"
   },
   {
    "duration": 11,
    "start_time": "2021-09-03T08:30:44.291Z"
   },
   {
    "duration": 40,
    "start_time": "2021-09-03T08:30:44.305Z"
   },
   {
    "duration": 22,
    "start_time": "2021-09-03T08:30:44.367Z"
   },
   {
    "duration": 132,
    "start_time": "2021-09-03T08:30:44.392Z"
   },
   {
    "duration": 21,
    "start_time": "2021-09-03T08:30:44.527Z"
   },
   {
    "duration": 28,
    "start_time": "2021-09-03T08:30:44.551Z"
   },
   {
    "duration": 23,
    "start_time": "2021-09-03T08:30:44.582Z"
   },
   {
    "duration": 89,
    "start_time": "2021-09-03T08:30:44.608Z"
   },
   {
    "duration": 19,
    "start_time": "2021-09-03T08:30:44.705Z"
   },
   {
    "duration": 44,
    "start_time": "2021-09-03T08:30:44.729Z"
   },
   {
    "duration": 9,
    "start_time": "2021-09-03T08:30:44.775Z"
   },
   {
    "duration": 15,
    "start_time": "2021-09-03T08:30:44.787Z"
   },
   {
    "duration": 8,
    "start_time": "2021-09-03T08:30:44.804Z"
   },
   {
    "duration": 63,
    "start_time": "2021-09-03T08:30:44.815Z"
   },
   {
    "duration": 6,
    "start_time": "2021-09-03T08:30:44.881Z"
   },
   {
    "duration": 13,
    "start_time": "2021-09-03T08:30:44.889Z"
   },
   {
    "duration": 19,
    "start_time": "2021-09-03T08:30:44.905Z"
   },
   {
    "duration": 18,
    "start_time": "2021-09-03T08:30:44.926Z"
   },
   {
    "duration": 10,
    "start_time": "2021-09-03T08:30:44.967Z"
   },
   {
    "duration": 16,
    "start_time": "2021-09-03T08:30:44.980Z"
   },
   {
    "duration": 19,
    "start_time": "2021-09-03T08:30:44.998Z"
   },
   {
    "duration": 50,
    "start_time": "2021-09-03T08:30:45.020Z"
   },
   {
    "duration": 15,
    "start_time": "2021-09-03T08:30:45.073Z"
   },
   {
    "duration": 15,
    "start_time": "2021-09-03T08:30:45.091Z"
   },
   {
    "duration": 20,
    "start_time": "2021-09-03T08:30:45.109Z"
   },
   {
    "duration": 48,
    "start_time": "2021-09-03T08:30:45.132Z"
   },
   {
    "duration": 15,
    "start_time": "2021-09-03T08:30:45.183Z"
   },
   {
    "duration": 24,
    "start_time": "2021-09-03T08:30:45.201Z"
   },
   {
    "duration": 46,
    "start_time": "2021-09-03T08:30:45.228Z"
   },
   {
    "duration": 15,
    "start_time": "2021-09-03T08:30:45.277Z"
   },
   {
    "duration": 16,
    "start_time": "2021-09-03T08:30:45.295Z"
   },
   {
    "duration": 20,
    "start_time": "2021-09-03T08:30:45.313Z"
   },
   {
    "duration": 12,
    "start_time": "2021-09-03T08:30:45.367Z"
   },
   {
    "duration": 25,
    "start_time": "2021-09-03T08:30:45.382Z"
   },
   {
    "duration": 27,
    "start_time": "2021-09-03T08:30:45.409Z"
   },
   {
    "duration": 30,
    "start_time": "2021-09-03T08:30:45.438Z"
   },
   {
    "duration": 119,
    "start_time": "2021-09-03T08:30:45.471Z"
   },
   {
    "duration": 53,
    "start_time": "2021-09-03T08:30:45.593Z"
   },
   {
    "duration": 26,
    "start_time": "2021-09-03T08:30:45.648Z"
   },
   {
    "duration": 33,
    "start_time": "2021-09-03T08:30:45.677Z"
   },
   {
    "duration": 13,
    "start_time": "2021-09-03T08:30:45.712Z"
   },
   {
    "duration": 47,
    "start_time": "2021-09-03T08:30:45.728Z"
   },
   {
    "duration": 4,
    "start_time": "2021-09-03T08:30:45.778Z"
   },
   {
    "duration": 26,
    "start_time": "2021-09-03T08:30:45.784Z"
   },
   {
    "duration": 11,
    "start_time": "2021-09-03T08:30:45.812Z"
   },
   {
    "duration": 50,
    "start_time": "2021-09-03T08:30:45.826Z"
   },
   {
    "duration": 37,
    "start_time": "2021-09-03T08:30:45.879Z"
   },
   {
    "duration": 56,
    "start_time": "2021-09-03T08:30:45.919Z"
   },
   {
    "duration": 10,
    "start_time": "2021-09-03T08:30:45.978Z"
   },
   {
    "duration": 35,
    "start_time": "2021-09-03T08:30:45.991Z"
   },
   {
    "duration": 38,
    "start_time": "2021-09-03T08:30:46.028Z"
   },
   {
    "duration": 21,
    "start_time": "2021-09-03T08:30:46.069Z"
   },
   {
    "duration": 23,
    "start_time": "2021-09-03T08:30:46.093Z"
   },
   {
    "duration": 51,
    "start_time": "2021-09-03T08:30:46.129Z"
   },
   {
    "duration": 36,
    "start_time": "2021-09-03T08:30:46.185Z"
   },
   {
    "duration": 60,
    "start_time": "2021-09-03T08:30:46.224Z"
   },
   {
    "duration": 22,
    "start_time": "2021-09-03T08:30:46.286Z"
   },
   {
    "duration": 11,
    "start_time": "2021-09-03T08:30:46.311Z"
   },
   {
    "duration": 66,
    "start_time": "2021-09-03T08:30:46.325Z"
   },
   {
    "duration": 13,
    "start_time": "2021-09-03T08:30:46.393Z"
   },
   {
    "duration": 23,
    "start_time": "2021-09-03T08:30:46.409Z"
   },
   {
    "duration": 54,
    "start_time": "2021-09-03T08:30:46.434Z"
   },
   {
    "duration": 16,
    "start_time": "2021-09-03T08:30:46.490Z"
   },
   {
    "duration": 26,
    "start_time": "2021-09-03T08:30:46.508Z"
   },
   {
    "duration": 51,
    "start_time": "2021-09-03T08:30:46.537Z"
   },
   {
    "duration": 45,
    "start_time": "2021-09-03T08:30:46.591Z"
   },
   {
    "duration": 72,
    "start_time": "2021-09-03T08:30:46.639Z"
   },
   {
    "duration": 57,
    "start_time": "2021-09-03T08:30:46.715Z"
   },
   {
    "duration": 40,
    "start_time": "2021-09-03T08:30:46.775Z"
   },
   {
    "duration": 21,
    "start_time": "2021-09-03T08:30:46.818Z"
   },
   {
    "duration": 21,
    "start_time": "2021-09-03T08:30:46.868Z"
   },
   {
    "duration": 27,
    "start_time": "2021-09-03T08:30:46.892Z"
   },
   {
    "duration": 22,
    "start_time": "2021-09-03T08:30:46.921Z"
   },
   {
    "duration": 376,
    "start_time": "2021-09-03T08:30:46.946Z"
   },
   {
    "duration": 19,
    "start_time": "2021-09-03T08:30:47.325Z"
   },
   {
    "duration": 276,
    "start_time": "2021-09-03T08:30:47.346Z"
   },
   {
    "duration": 22,
    "start_time": "2021-09-03T08:30:47.625Z"
   },
   {
    "duration": 27,
    "start_time": "2021-09-03T08:30:47.649Z"
   },
   {
    "duration": 319,
    "start_time": "2021-09-03T08:30:47.679Z"
   },
   {
    "duration": 12,
    "start_time": "2021-09-03T08:30:48.001Z"
   },
   {
    "duration": 20,
    "start_time": "2021-09-03T08:30:48.016Z"
   },
   {
    "duration": 35,
    "start_time": "2021-09-03T08:30:48.038Z"
   },
   {
    "duration": 350,
    "start_time": "2021-09-03T08:30:48.075Z"
   },
   {
    "duration": 22,
    "start_time": "2021-09-03T08:30:48.427Z"
   },
   {
    "duration": 269,
    "start_time": "2021-09-03T08:30:48.467Z"
   },
   {
    "duration": 35,
    "start_time": "2021-09-03T08:30:48.738Z"
   },
   {
    "duration": 10,
    "start_time": "2021-09-03T08:30:48.776Z"
   },
   {
    "duration": 312,
    "start_time": "2021-09-03T08:30:48.788Z"
   },
   {
    "duration": 10,
    "start_time": "2021-09-03T08:30:49.103Z"
   },
   {
    "duration": 31,
    "start_time": "2021-09-03T08:30:49.115Z"
   },
   {
    "duration": 26,
    "start_time": "2021-09-03T08:30:49.148Z"
   },
   {
    "duration": 16,
    "start_time": "2021-09-03T08:30:49.176Z"
   },
   {
    "duration": 342,
    "start_time": "2021-09-03T08:30:49.194Z"
   },
   {
    "duration": 31,
    "start_time": "2021-09-03T08:30:49.538Z"
   },
   {
    "duration": 364,
    "start_time": "2021-09-03T08:30:49.571Z"
   },
   {
    "duration": 35,
    "start_time": "2021-09-03T08:30:49.938Z"
   },
   {
    "duration": 306,
    "start_time": "2021-09-03T08:30:49.976Z"
   },
   {
    "duration": 16,
    "start_time": "2021-09-03T08:30:50.285Z"
   },
   {
    "duration": 23,
    "start_time": "2021-09-03T08:30:50.303Z"
   },
   {
    "duration": 36,
    "start_time": "2021-09-03T08:30:50.330Z"
   },
   {
    "duration": 338,
    "start_time": "2021-09-03T08:30:50.370Z"
   },
   {
    "duration": 20,
    "start_time": "2021-09-03T08:30:50.711Z"
   },
   {
    "duration": 287,
    "start_time": "2021-09-03T08:30:50.734Z"
   },
   {
    "duration": 24,
    "start_time": "2021-09-03T08:30:51.024Z"
   },
   {
    "duration": 358,
    "start_time": "2021-09-03T08:30:51.067Z"
   },
   {
    "duration": 16,
    "start_time": "2021-09-03T08:30:51.427Z"
   },
   {
    "duration": 33,
    "start_time": "2021-09-03T08:30:51.445Z"
   },
   {
    "duration": 12,
    "start_time": "2021-09-03T08:30:51.482Z"
   },
   {
    "duration": 393,
    "start_time": "2021-09-03T08:30:51.497Z"
   },
   {
    "duration": 22,
    "start_time": "2021-09-03T08:30:51.893Z"
   },
   {
    "duration": 280,
    "start_time": "2021-09-03T08:30:51.919Z"
   },
   {
    "duration": 23,
    "start_time": "2021-09-03T08:30:52.201Z"
   },
   {
    "duration": 357,
    "start_time": "2021-09-03T08:30:52.227Z"
   },
   {
    "duration": 15,
    "start_time": "2021-09-03T08:30:52.586Z"
   },
   {
    "duration": 12,
    "start_time": "2021-09-03T08:30:52.604Z"
   },
   {
    "duration": 386,
    "start_time": "2021-09-03T08:30:52.618Z"
   },
   {
    "duration": 10,
    "start_time": "2021-09-03T08:30:53.006Z"
   },
   {
    "duration": 21,
    "start_time": "2021-09-03T08:30:53.018Z"
   },
   {
    "duration": 312,
    "start_time": "2021-09-03T08:30:53.041Z"
   },
   {
    "duration": 30,
    "start_time": "2021-09-03T08:30:53.355Z"
   },
   {
    "duration": 382,
    "start_time": "2021-09-03T08:30:53.387Z"
   },
   {
    "duration": 26,
    "start_time": "2021-09-03T08:30:53.772Z"
   },
   {
    "duration": 24,
    "start_time": "2021-09-03T08:30:53.801Z"
   },
   {
    "duration": 389,
    "start_time": "2021-09-03T08:30:53.828Z"
   },
   {
    "duration": 20,
    "start_time": "2021-09-03T08:30:54.219Z"
   },
   {
    "duration": 302,
    "start_time": "2021-09-03T08:30:54.242Z"
   },
   {
    "duration": 23,
    "start_time": "2021-09-03T08:30:54.547Z"
   },
   {
    "duration": 413,
    "start_time": "2021-09-03T08:30:54.572Z"
   },
   {
    "duration": 21,
    "start_time": "2021-09-03T08:30:54.989Z"
   },
   {
    "duration": 293,
    "start_time": "2021-09-03T08:30:55.013Z"
   },
   {
    "duration": 10,
    "start_time": "2021-09-03T08:30:55.309Z"
   },
   {
    "duration": 12,
    "start_time": "2021-09-03T08:30:55.323Z"
   },
   {
    "duration": 297,
    "start_time": "2021-09-03T08:30:55.369Z"
   },
   {
    "duration": 21,
    "start_time": "2021-09-03T08:30:55.669Z"
   },
   {
    "duration": 287,
    "start_time": "2021-09-03T08:30:55.693Z"
   },
   {
    "duration": 16,
    "start_time": "2021-09-03T08:30:55.982Z"
   },
   {
    "duration": 27,
    "start_time": "2021-09-03T08:30:56.001Z"
   },
   {
    "duration": 36,
    "start_time": "2021-09-03T08:30:56.030Z"
   },
   {
    "duration": 6,
    "start_time": "2021-09-03T08:30:56.069Z"
   },
   {
    "duration": 7,
    "start_time": "2021-09-03T08:30:56.077Z"
   },
   {
    "duration": 9,
    "start_time": "2021-09-03T08:30:56.087Z"
   },
   {
    "duration": 20,
    "start_time": "2021-09-03T08:30:56.098Z"
   },
   {
    "duration": 49,
    "start_time": "2021-09-03T08:30:56.120Z"
   },
   {
    "duration": 9,
    "start_time": "2021-09-03T08:30:56.172Z"
   },
   {
    "duration": 11,
    "start_time": "2021-09-03T08:30:56.183Z"
   },
   {
    "duration": 24,
    "start_time": "2021-09-03T08:30:56.197Z"
   },
   {
    "duration": 5,
    "start_time": "2021-09-03T08:30:56.223Z"
   },
   {
    "duration": 46,
    "start_time": "2021-09-03T08:30:56.231Z"
   },
   {
    "duration": 14,
    "start_time": "2021-09-03T08:30:56.279Z"
   },
   {
    "duration": 17,
    "start_time": "2021-09-03T08:30:56.295Z"
   },
   {
    "duration": 27,
    "start_time": "2021-09-03T08:30:56.314Z"
   },
   {
    "duration": 329,
    "start_time": "2021-09-03T08:30:56.344Z"
   },
   {
    "duration": 20,
    "start_time": "2021-09-03T08:30:56.675Z"
   },
   {
    "duration": 302,
    "start_time": "2021-09-03T08:30:56.698Z"
   },
   {
    "duration": 20,
    "start_time": "2021-09-03T08:30:57.003Z"
   },
   {
    "duration": 15,
    "start_time": "2021-09-03T08:30:57.026Z"
   },
   {
    "duration": 12,
    "start_time": "2021-09-03T08:30:57.068Z"
   },
   {
    "duration": 11,
    "start_time": "2021-09-03T08:30:57.082Z"
   },
   {
    "duration": 11,
    "start_time": "2021-09-03T08:30:57.095Z"
   },
   {
    "duration": 11,
    "start_time": "2021-09-03T08:30:57.109Z"
   },
   {
    "duration": 22,
    "start_time": "2021-09-03T08:30:57.167Z"
   },
   {
    "duration": 287,
    "start_time": "2021-09-03T08:30:57.192Z"
   },
   {
    "duration": 3,
    "start_time": "2021-09-03T08:30:57.482Z"
   },
   {
    "duration": 14,
    "start_time": "2021-09-03T08:30:57.487Z"
   },
   {
    "duration": 12,
    "start_time": "2021-09-03T08:30:57.504Z"
   },
   {
    "duration": 10,
    "start_time": "2021-09-03T08:30:57.518Z"
   },
   {
    "duration": 38,
    "start_time": "2021-09-03T08:30:57.531Z"
   },
   {
    "duration": 9,
    "start_time": "2021-09-03T08:30:57.572Z"
   },
   {
    "duration": 9,
    "start_time": "2021-09-03T08:30:57.584Z"
   },
   {
    "duration": 36,
    "start_time": "2021-09-03T08:52:32.876Z"
   },
   {
    "duration": 5,
    "start_time": "2021-09-03T08:53:12.602Z"
   },
   {
    "duration": 533,
    "start_time": "2021-09-03T08:54:11.364Z"
   },
   {
    "duration": 13,
    "start_time": "2021-09-03T08:54:15.661Z"
   },
   {
    "duration": 27,
    "start_time": "2021-09-03T08:57:53.773Z"
   },
   {
    "duration": 1477,
    "start_time": "2021-09-03T11:59:43.756Z"
   },
   {
    "duration": 213,
    "start_time": "2021-09-03T11:59:45.236Z"
   },
   {
    "duration": 27,
    "start_time": "2021-09-03T11:59:45.451Z"
   },
   {
    "duration": 15,
    "start_time": "2021-09-03T11:59:45.481Z"
   },
   {
    "duration": 26,
    "start_time": "2021-09-03T11:59:45.499Z"
   },
   {
    "duration": 78,
    "start_time": "2021-09-03T11:59:45.527Z"
   },
   {
    "duration": 14,
    "start_time": "2021-09-03T11:59:45.607Z"
   },
   {
    "duration": 67,
    "start_time": "2021-09-03T11:59:45.624Z"
   },
   {
    "duration": 25,
    "start_time": "2021-09-03T11:59:45.694Z"
   },
   {
    "duration": 173,
    "start_time": "2021-09-03T11:59:45.721Z"
   },
   {
    "duration": 23,
    "start_time": "2021-09-03T11:59:45.896Z"
   },
   {
    "duration": 11,
    "start_time": "2021-09-03T11:59:45.921Z"
   },
   {
    "duration": 21,
    "start_time": "2021-09-03T11:59:45.961Z"
   },
   {
    "duration": 37,
    "start_time": "2021-09-03T11:59:45.985Z"
   },
   {
    "duration": 12,
    "start_time": "2021-09-03T11:59:46.024Z"
   },
   {
    "duration": 35,
    "start_time": "2021-09-03T11:59:46.062Z"
   },
   {
    "duration": 21,
    "start_time": "2021-09-03T11:59:46.099Z"
   },
   {
    "duration": 139,
    "start_time": "2021-09-03T11:59:46.122Z"
   },
   {
    "duration": 18,
    "start_time": "2021-09-03T11:59:46.264Z"
   },
   {
    "duration": 10,
    "start_time": "2021-09-03T11:59:46.285Z"
   },
   {
    "duration": 19,
    "start_time": "2021-09-03T11:59:46.297Z"
   },
   {
    "duration": 84,
    "start_time": "2021-09-03T11:59:46.320Z"
   },
   {
    "duration": 18,
    "start_time": "2021-09-03T11:59:46.410Z"
   },
   {
    "duration": 62,
    "start_time": "2021-09-03T11:59:46.432Z"
   },
   {
    "duration": 9,
    "start_time": "2021-09-03T11:59:46.496Z"
   },
   {
    "duration": 15,
    "start_time": "2021-09-03T11:59:46.507Z"
   },
   {
    "duration": 6,
    "start_time": "2021-09-03T11:59:46.525Z"
   },
   {
    "duration": 35,
    "start_time": "2021-09-03T11:59:46.534Z"
   },
   {
    "duration": 10,
    "start_time": "2021-09-03T11:59:46.571Z"
   },
   {
    "duration": 10,
    "start_time": "2021-09-03T11:59:46.583Z"
   },
   {
    "duration": 18,
    "start_time": "2021-09-03T11:59:46.595Z"
   },
   {
    "duration": 16,
    "start_time": "2021-09-03T11:59:46.616Z"
   },
   {
    "duration": 34,
    "start_time": "2021-09-03T11:59:46.635Z"
   },
   {
    "duration": 13,
    "start_time": "2021-09-03T11:59:46.672Z"
   },
   {
    "duration": 14,
    "start_time": "2021-09-03T11:59:46.687Z"
   },
   {
    "duration": 17,
    "start_time": "2021-09-03T11:59:46.704Z"
   },
   {
    "duration": 39,
    "start_time": "2021-09-03T11:59:46.724Z"
   },
   {
    "duration": 8,
    "start_time": "2021-09-03T11:59:46.766Z"
   },
   {
    "duration": 19,
    "start_time": "2021-09-03T11:59:46.776Z"
   },
   {
    "duration": 18,
    "start_time": "2021-09-03T11:59:46.797Z"
   },
   {
    "duration": 46,
    "start_time": "2021-09-03T11:59:46.817Z"
   },
   {
    "duration": 22,
    "start_time": "2021-09-03T11:59:46.865Z"
   },
   {
    "duration": 12,
    "start_time": "2021-09-03T11:59:46.889Z"
   },
   {
    "duration": 13,
    "start_time": "2021-09-03T11:59:46.903Z"
   },
   {
    "duration": 49,
    "start_time": "2021-09-03T11:59:46.919Z"
   },
   {
    "duration": 18,
    "start_time": "2021-09-03T11:59:46.971Z"
   },
   {
    "duration": 13,
    "start_time": "2021-09-03T11:59:46.992Z"
   },
   {
    "duration": 55,
    "start_time": "2021-09-03T11:59:47.008Z"
   },
   {
    "duration": 28,
    "start_time": "2021-09-03T11:59:47.065Z"
   },
   {
    "duration": 3,
    "start_time": "2021-09-03T11:59:47.095Z"
   },
   {
    "duration": 134,
    "start_time": "2021-09-03T11:59:47.101Z"
   },
   {
    "duration": 58,
    "start_time": "2021-09-03T11:59:47.237Z"
   },
   {
    "duration": 9,
    "start_time": "2021-09-03T11:59:47.298Z"
   },
   {
    "duration": 53,
    "start_time": "2021-09-03T11:59:47.309Z"
   },
   {
    "duration": 14,
    "start_time": "2021-09-03T11:59:47.364Z"
   },
   {
    "duration": 19,
    "start_time": "2021-09-03T11:59:47.380Z"
   },
   {
    "duration": 10,
    "start_time": "2021-09-03T11:59:47.401Z"
   },
   {
    "duration": 51,
    "start_time": "2021-09-03T11:59:47.413Z"
   },
   {
    "duration": 11,
    "start_time": "2021-09-03T11:59:47.467Z"
   },
   {
    "duration": 19,
    "start_time": "2021-09-03T11:59:47.480Z"
   },
   {
    "duration": 61,
    "start_time": "2021-09-03T11:59:47.502Z"
   },
   {
    "duration": 31,
    "start_time": "2021-09-03T11:59:47.566Z"
   },
   {
    "duration": 10,
    "start_time": "2021-09-03T11:59:47.599Z"
   },
   {
    "duration": 63,
    "start_time": "2021-09-03T11:59:47.612Z"
   },
   {
    "duration": 12,
    "start_time": "2021-09-03T11:59:47.678Z"
   },
   {
    "duration": 19,
    "start_time": "2021-09-03T11:59:47.693Z"
   },
   {
    "duration": 52,
    "start_time": "2021-09-03T11:59:47.714Z"
   },
   {
    "duration": 21,
    "start_time": "2021-09-03T11:59:47.777Z"
   },
   {
    "duration": 60,
    "start_time": "2021-09-03T11:59:47.802Z"
   },
   {
    "duration": 31,
    "start_time": "2021-09-03T11:59:47.865Z"
   },
   {
    "duration": 18,
    "start_time": "2021-09-03T11:59:47.899Z"
   },
   {
    "duration": 41,
    "start_time": "2021-09-03T11:59:47.920Z"
   },
   {
    "duration": 38,
    "start_time": "2021-09-03T11:59:47.964Z"
   },
   {
    "duration": 13,
    "start_time": "2021-09-03T11:59:48.005Z"
   },
   {
    "duration": 53,
    "start_time": "2021-09-03T11:59:48.021Z"
   },
   {
    "duration": 22,
    "start_time": "2021-09-03T11:59:48.077Z"
   },
   {
    "duration": 17,
    "start_time": "2021-09-03T11:59:48.101Z"
   },
   {
    "duration": 48,
    "start_time": "2021-09-03T11:59:48.120Z"
   },
   {
    "duration": 22,
    "start_time": "2021-09-03T11:59:48.171Z"
   },
   {
    "duration": 45,
    "start_time": "2021-09-03T11:59:48.195Z"
   },
   {
    "duration": 48,
    "start_time": "2021-09-03T11:59:48.242Z"
   },
   {
    "duration": 33,
    "start_time": "2021-09-03T11:59:48.293Z"
   },
   {
    "duration": 54,
    "start_time": "2021-09-03T11:59:48.330Z"
   },
   {
    "duration": 8,
    "start_time": "2021-09-03T11:59:48.387Z"
   },
   {
    "duration": 21,
    "start_time": "2021-09-03T11:59:48.398Z"
   },
   {
    "duration": 47,
    "start_time": "2021-09-03T11:59:48.422Z"
   },
   {
    "duration": 21,
    "start_time": "2021-09-03T11:59:48.472Z"
   },
   {
    "duration": 16,
    "start_time": "2021-09-03T11:59:48.496Z"
   },
   {
    "duration": 49,
    "start_time": "2021-09-03T11:59:48.514Z"
   },
   {
    "duration": 353,
    "start_time": "2021-09-03T11:59:48.565Z"
   },
   {
    "duration": 21,
    "start_time": "2021-09-03T11:59:48.921Z"
   },
   {
    "duration": 271,
    "start_time": "2021-09-03T11:59:48.944Z"
   },
   {
    "duration": 22,
    "start_time": "2021-09-03T11:59:49.217Z"
   },
   {
    "duration": 27,
    "start_time": "2021-09-03T11:59:49.242Z"
   },
   {
    "duration": 300,
    "start_time": "2021-09-03T11:59:49.271Z"
   },
   {
    "duration": 11,
    "start_time": "2021-09-03T11:59:49.574Z"
   },
   {
    "duration": 23,
    "start_time": "2021-09-03T11:59:49.588Z"
   },
   {
    "duration": 10,
    "start_time": "2021-09-03T11:59:49.613Z"
   },
   {
    "duration": 359,
    "start_time": "2021-09-03T11:59:49.626Z"
   },
   {
    "duration": 21,
    "start_time": "2021-09-03T11:59:49.988Z"
   },
   {
    "duration": 289,
    "start_time": "2021-09-03T11:59:50.012Z"
   },
   {
    "duration": 23,
    "start_time": "2021-09-03T11:59:50.303Z"
   },
   {
    "duration": 37,
    "start_time": "2021-09-03T11:59:50.328Z"
   },
   {
    "duration": 280,
    "start_time": "2021-09-03T11:59:50.368Z"
   },
   {
    "duration": 15,
    "start_time": "2021-09-03T11:59:50.650Z"
   },
   {
    "duration": 20,
    "start_time": "2021-09-03T11:59:50.667Z"
   },
   {
    "duration": 10,
    "start_time": "2021-09-03T11:59:50.689Z"
   },
   {
    "duration": 13,
    "start_time": "2021-09-03T11:59:50.701Z"
   },
   {
    "duration": 341,
    "start_time": "2021-09-03T11:59:50.716Z"
   },
   {
    "duration": 20,
    "start_time": "2021-09-03T11:59:51.062Z"
   },
   {
    "duration": 352,
    "start_time": "2021-09-03T11:59:51.085Z"
   },
   {
    "duration": 32,
    "start_time": "2021-09-03T11:59:51.439Z"
   },
   {
    "duration": 288,
    "start_time": "2021-09-03T11:59:51.474Z"
   },
   {
    "duration": 15,
    "start_time": "2021-09-03T11:59:51.764Z"
   },
   {
    "duration": 21,
    "start_time": "2021-09-03T11:59:51.781Z"
   },
   {
    "duration": 16,
    "start_time": "2021-09-03T11:59:51.804Z"
   },
   {
    "duration": 319,
    "start_time": "2021-09-03T11:59:51.823Z"
   },
   {
    "duration": 25,
    "start_time": "2021-09-03T11:59:52.144Z"
   },
   {
    "duration": 269,
    "start_time": "2021-09-03T11:59:52.171Z"
   },
   {
    "duration": 30,
    "start_time": "2021-09-03T11:59:52.443Z"
   },
   {
    "duration": 343,
    "start_time": "2021-09-03T11:59:52.476Z"
   },
   {
    "duration": 15,
    "start_time": "2021-09-03T11:59:52.822Z"
   },
   {
    "duration": 28,
    "start_time": "2021-09-03T11:59:52.839Z"
   },
   {
    "duration": 9,
    "start_time": "2021-09-03T11:59:52.869Z"
   },
   {
    "duration": 369,
    "start_time": "2021-09-03T11:59:52.880Z"
   },
   {
    "duration": 25,
    "start_time": "2021-09-03T11:59:53.251Z"
   },
   {
    "duration": 266,
    "start_time": "2021-09-03T11:59:53.278Z"
   },
   {
    "duration": 38,
    "start_time": "2021-09-03T11:59:53.547Z"
   },
   {
    "duration": 337,
    "start_time": "2021-09-03T11:59:53.587Z"
   },
   {
    "duration": 15,
    "start_time": "2021-09-03T11:59:53.927Z"
   },
   {
    "duration": 12,
    "start_time": "2021-09-03T11:59:53.961Z"
   },
   {
    "duration": 359,
    "start_time": "2021-09-03T11:59:53.975Z"
   },
   {
    "duration": 9,
    "start_time": "2021-09-03T11:59:54.336Z"
   },
   {
    "duration": 20,
    "start_time": "2021-09-03T11:59:54.361Z"
   },
   {
    "duration": 263,
    "start_time": "2021-09-03T11:59:54.383Z"
   },
   {
    "duration": 26,
    "start_time": "2021-09-03T11:59:54.649Z"
   },
   {
    "duration": 367,
    "start_time": "2021-09-03T11:59:54.678Z"
   },
   {
    "duration": 35,
    "start_time": "2021-09-03T11:59:55.048Z"
   },
   {
    "duration": 20,
    "start_time": "2021-09-03T11:59:55.085Z"
   },
   {
    "duration": 378,
    "start_time": "2021-09-03T11:59:55.108Z"
   },
   {
    "duration": 20,
    "start_time": "2021-09-03T11:59:55.489Z"
   },
   {
    "duration": 283,
    "start_time": "2021-09-03T11:59:55.512Z"
   },
   {
    "duration": 11,
    "start_time": "2021-09-03T11:59:55.798Z"
   },
   {
    "duration": 412,
    "start_time": "2021-09-03T11:59:55.811Z"
   },
   {
    "duration": 19,
    "start_time": "2021-09-03T11:59:56.226Z"
   },
   {
    "duration": 263,
    "start_time": "2021-09-03T11:59:56.262Z"
   },
   {
    "duration": 9,
    "start_time": "2021-09-03T11:59:56.527Z"
   },
   {
    "duration": 30,
    "start_time": "2021-09-03T11:59:56.538Z"
   },
   {
    "duration": 292,
    "start_time": "2021-09-03T11:59:56.570Z"
   },
   {
    "duration": 20,
    "start_time": "2021-09-03T11:59:56.864Z"
   },
   {
    "duration": 287,
    "start_time": "2021-09-03T11:59:56.887Z"
   },
   {
    "duration": 15,
    "start_time": "2021-09-03T11:59:57.177Z"
   },
   {
    "duration": 28,
    "start_time": "2021-09-03T11:59:57.194Z"
   },
   {
    "duration": 9,
    "start_time": "2021-09-03T11:59:57.224Z"
   },
   {
    "duration": 17,
    "start_time": "2021-09-03T12:00:09.632Z"
   },
   {
    "duration": 15,
    "start_time": "2021-09-03T12:01:51.590Z"
   },
   {
    "duration": 15,
    "start_time": "2021-09-03T12:05:07.874Z"
   },
   {
    "duration": 88,
    "start_time": "2021-09-03T12:11:27.612Z"
   },
   {
    "duration": 105,
    "start_time": "2021-09-03T12:12:19.945Z"
   },
   {
    "duration": 379,
    "start_time": "2021-09-03T12:12:26.959Z"
   },
   {
    "duration": 278,
    "start_time": "2021-09-03T12:12:57.864Z"
   },
   {
    "duration": 6,
    "start_time": "2021-09-03T12:13:30.305Z"
   },
   {
    "duration": 7,
    "start_time": "2021-09-03T12:13:41.006Z"
   },
   {
    "duration": 8,
    "start_time": "2021-09-03T12:18:08.292Z"
   },
   {
    "duration": 5,
    "start_time": "2021-09-03T12:21:29.735Z"
   },
   {
    "duration": 7,
    "start_time": "2021-09-03T12:21:37.828Z"
   },
   {
    "duration": 7,
    "start_time": "2021-09-03T12:22:43.055Z"
   },
   {
    "duration": 7,
    "start_time": "2021-09-03T12:23:19.711Z"
   },
   {
    "duration": 7,
    "start_time": "2021-09-03T12:24:31.672Z"
   },
   {
    "duration": 7,
    "start_time": "2021-09-03T12:24:51.360Z"
   },
   {
    "duration": 6,
    "start_time": "2021-09-03T12:26:03.459Z"
   },
   {
    "duration": 9,
    "start_time": "2021-09-03T12:30:42.799Z"
   },
   {
    "duration": 11,
    "start_time": "2021-09-03T12:32:32.578Z"
   },
   {
    "duration": 13,
    "start_time": "2021-09-03T12:33:16.899Z"
   },
   {
    "duration": 12,
    "start_time": "2021-09-03T12:33:31.930Z"
   },
   {
    "duration": 10,
    "start_time": "2021-09-03T12:33:59.570Z"
   },
   {
    "duration": 10,
    "start_time": "2021-09-03T12:34:26.876Z"
   },
   {
    "duration": 95,
    "start_time": "2021-09-03T12:38:02.307Z"
   },
   {
    "duration": 6,
    "start_time": "2021-09-03T12:38:13.775Z"
   },
   {
    "duration": 7,
    "start_time": "2021-09-03T12:38:32.450Z"
   },
   {
    "duration": 6,
    "start_time": "2021-09-03T12:39:27.160Z"
   },
   {
    "duration": 7,
    "start_time": "2021-09-03T12:40:23.977Z"
   },
   {
    "duration": 8,
    "start_time": "2021-09-03T12:56:04.667Z"
   },
   {
    "duration": 10,
    "start_time": "2021-09-03T12:57:12.778Z"
   },
   {
    "duration": 8,
    "start_time": "2021-09-03T12:57:13.626Z"
   },
   {
    "duration": 10,
    "start_time": "2021-09-03T12:57:14.374Z"
   },
   {
    "duration": 8,
    "start_time": "2021-09-03T12:57:15.148Z"
   },
   {
    "duration": 276,
    "start_time": "2021-09-03T12:57:52.166Z"
   },
   {
    "duration": 7,
    "start_time": "2021-09-03T12:58:28.905Z"
   },
   {
    "duration": 16,
    "start_time": "2021-09-03T13:02:26.385Z"
   },
   {
    "duration": 10,
    "start_time": "2021-09-03T13:03:14.057Z"
   },
   {
    "duration": 9,
    "start_time": "2021-09-03T13:03:14.611Z"
   },
   {
    "duration": 9,
    "start_time": "2021-09-03T13:03:15.237Z"
   },
   {
    "duration": 8,
    "start_time": "2021-09-03T13:03:15.865Z"
   },
   {
    "duration": 288,
    "start_time": "2021-09-03T13:03:44.904Z"
   },
   {
    "duration": 7,
    "start_time": "2021-09-03T13:07:53.021Z"
   },
   {
    "duration": 15,
    "start_time": "2021-09-03T13:07:54.529Z"
   },
   {
    "duration": 8,
    "start_time": "2021-09-03T13:07:56.971Z"
   },
   {
    "duration": 7,
    "start_time": "2021-09-03T13:07:58.316Z"
   },
   {
    "duration": 7,
    "start_time": "2021-09-03T13:08:00.061Z"
   },
   {
    "duration": 7,
    "start_time": "2021-09-03T13:08:01.906Z"
   },
   {
    "duration": 16,
    "start_time": "2021-09-03T13:08:03.731Z"
   },
   {
    "duration": 8,
    "start_time": "2021-09-03T13:08:05.545Z"
   },
   {
    "duration": 10,
    "start_time": "2021-09-03T13:08:09.541Z"
   },
   {
    "duration": 10,
    "start_time": "2021-09-03T13:08:11.775Z"
   },
   {
    "duration": 9,
    "start_time": "2021-09-03T13:08:13.932Z"
   },
   {
    "duration": 9,
    "start_time": "2021-09-03T13:08:42.757Z"
   },
   {
    "duration": 28,
    "start_time": "2021-09-03T13:08:42.770Z"
   },
   {
    "duration": 8,
    "start_time": "2021-09-03T13:08:43.290Z"
   },
   {
    "duration": 7,
    "start_time": "2021-09-03T13:08:44.101Z"
   },
   {
    "duration": 7,
    "start_time": "2021-09-03T13:08:44.894Z"
   },
   {
    "duration": 7,
    "start_time": "2021-09-03T13:08:45.780Z"
   },
   {
    "duration": 16,
    "start_time": "2021-09-03T13:08:46.914Z"
   },
   {
    "duration": 6,
    "start_time": "2021-09-03T13:08:47.905Z"
   },
   {
    "duration": 7,
    "start_time": "2021-09-03T13:08:49.249Z"
   },
   {
    "duration": 7,
    "start_time": "2021-09-03T13:08:52.850Z"
   },
   {
    "duration": 6,
    "start_time": "2021-09-03T13:08:54.167Z"
   },
   {
    "duration": 246,
    "start_time": "2021-09-03T13:10:39.993Z"
   },
   {
    "duration": 259,
    "start_time": "2021-09-03T13:10:50.857Z"
   },
   {
    "duration": 201,
    "start_time": "2021-09-03T13:11:30.504Z"
   },
   {
    "duration": 225,
    "start_time": "2021-09-03T13:12:01.330Z"
   },
   {
    "duration": 1380,
    "start_time": "2021-09-04T06:17:24.224Z"
   },
   {
    "duration": 276,
    "start_time": "2021-09-04T06:17:25.607Z"
   },
   {
    "duration": 29,
    "start_time": "2021-09-04T06:17:25.886Z"
   },
   {
    "duration": 38,
    "start_time": "2021-09-04T06:17:25.918Z"
   },
   {
    "duration": 39,
    "start_time": "2021-09-04T06:17:25.958Z"
   },
   {
    "duration": 77,
    "start_time": "2021-09-04T06:17:26.000Z"
   },
   {
    "duration": 14,
    "start_time": "2021-09-04T06:17:26.080Z"
   },
   {
    "duration": 71,
    "start_time": "2021-09-04T06:17:26.098Z"
   },
   {
    "duration": 25,
    "start_time": "2021-09-04T06:17:26.172Z"
   },
   {
    "duration": 188,
    "start_time": "2021-09-04T06:17:26.200Z"
   },
   {
    "duration": 23,
    "start_time": "2021-09-04T06:17:26.391Z"
   },
   {
    "duration": 11,
    "start_time": "2021-09-04T06:17:26.416Z"
   },
   {
    "duration": 43,
    "start_time": "2021-09-04T06:17:26.429Z"
   },
   {
    "duration": 34,
    "start_time": "2021-09-04T06:17:26.475Z"
   },
   {
    "duration": 12,
    "start_time": "2021-09-04T06:17:26.512Z"
   },
   {
    "duration": 63,
    "start_time": "2021-09-04T06:17:26.526Z"
   },
   {
    "duration": 21,
    "start_time": "2021-09-04T06:17:26.592Z"
   },
   {
    "duration": 148,
    "start_time": "2021-09-04T06:17:26.616Z"
   },
   {
    "duration": 20,
    "start_time": "2021-09-04T06:17:26.766Z"
   },
   {
    "duration": 11,
    "start_time": "2021-09-04T06:17:26.789Z"
   },
   {
    "duration": 53,
    "start_time": "2021-09-04T06:17:26.803Z"
   },
   {
    "duration": 50,
    "start_time": "2021-09-04T06:17:26.859Z"
   },
   {
    "duration": 42,
    "start_time": "2021-09-04T06:17:26.916Z"
   },
   {
    "duration": 32,
    "start_time": "2021-09-04T06:17:26.963Z"
   },
   {
    "duration": 26,
    "start_time": "2021-09-04T06:17:26.998Z"
   },
   {
    "duration": 27,
    "start_time": "2021-09-04T06:17:27.027Z"
   },
   {
    "duration": 8,
    "start_time": "2021-09-04T06:17:27.057Z"
   },
   {
    "duration": 31,
    "start_time": "2021-09-04T06:17:27.067Z"
   },
   {
    "duration": 5,
    "start_time": "2021-09-04T06:17:27.101Z"
   },
   {
    "duration": 23,
    "start_time": "2021-09-04T06:17:27.108Z"
   },
   {
    "duration": 35,
    "start_time": "2021-09-04T06:17:27.133Z"
   },
   {
    "duration": 27,
    "start_time": "2021-09-04T06:17:27.170Z"
   },
   {
    "duration": 21,
    "start_time": "2021-09-04T06:17:27.200Z"
   },
   {
    "duration": 24,
    "start_time": "2021-09-04T06:17:27.223Z"
   },
   {
    "duration": 21,
    "start_time": "2021-09-04T06:17:27.250Z"
   },
   {
    "duration": 28,
    "start_time": "2021-09-04T06:17:27.273Z"
   },
   {
    "duration": 18,
    "start_time": "2021-09-04T06:17:27.303Z"
   },
   {
    "duration": 16,
    "start_time": "2021-09-04T06:17:27.323Z"
   },
   {
    "duration": 23,
    "start_time": "2021-09-04T06:17:27.341Z"
   },
   {
    "duration": 21,
    "start_time": "2021-09-04T06:17:27.367Z"
   },
   {
    "duration": 15,
    "start_time": "2021-09-04T06:17:27.390Z"
   },
   {
    "duration": 49,
    "start_time": "2021-09-04T06:17:27.407Z"
   },
   {
    "duration": 14,
    "start_time": "2021-09-04T06:17:27.458Z"
   },
   {
    "duration": 24,
    "start_time": "2021-09-04T06:17:27.474Z"
   },
   {
    "duration": 17,
    "start_time": "2021-09-04T06:17:27.500Z"
   },
   {
    "duration": 42,
    "start_time": "2021-09-04T06:17:27.520Z"
   },
   {
    "duration": 15,
    "start_time": "2021-09-04T06:17:27.565Z"
   },
   {
    "duration": 26,
    "start_time": "2021-09-04T06:17:27.582Z"
   },
   {
    "duration": 47,
    "start_time": "2021-09-04T06:17:27.610Z"
   },
   {
    "duration": 3,
    "start_time": "2021-09-04T06:17:27.660Z"
   },
   {
    "duration": 118,
    "start_time": "2021-09-04T06:17:27.666Z"
   },
   {
    "duration": 45,
    "start_time": "2021-09-04T06:17:27.786Z"
   },
   {
    "duration": 27,
    "start_time": "2021-09-04T06:17:27.833Z"
   },
   {
    "duration": 54,
    "start_time": "2021-09-04T06:17:27.863Z"
   },
   {
    "duration": 13,
    "start_time": "2021-09-04T06:17:27.919Z"
   },
   {
    "duration": 27,
    "start_time": "2021-09-04T06:17:27.934Z"
   },
   {
    "duration": 11,
    "start_time": "2021-09-04T06:17:27.963Z"
   },
   {
    "duration": 24,
    "start_time": "2021-09-04T06:17:27.976Z"
   },
   {
    "duration": 17,
    "start_time": "2021-09-04T06:17:28.003Z"
   },
   {
    "duration": 39,
    "start_time": "2021-09-04T06:17:28.023Z"
   },
   {
    "duration": 40,
    "start_time": "2021-09-04T06:17:28.065Z"
   },
   {
    "duration": 32,
    "start_time": "2021-09-04T06:17:28.108Z"
   },
   {
    "duration": 10,
    "start_time": "2021-09-04T06:17:28.155Z"
   },
   {
    "duration": 40,
    "start_time": "2021-09-04T06:17:28.167Z"
   },
   {
    "duration": 11,
    "start_time": "2021-09-04T06:17:28.210Z"
   },
   {
    "duration": 43,
    "start_time": "2021-09-04T06:17:28.224Z"
   },
   {
    "duration": 22,
    "start_time": "2021-09-04T06:17:28.269Z"
   },
   {
    "duration": 21,
    "start_time": "2021-09-04T06:17:28.304Z"
   },
   {
    "duration": 33,
    "start_time": "2021-09-04T06:17:28.357Z"
   },
   {
    "duration": 32,
    "start_time": "2021-09-04T06:17:28.393Z"
   },
   {
    "duration": 20,
    "start_time": "2021-09-04T06:17:28.454Z"
   },
   {
    "duration": 27,
    "start_time": "2021-09-04T06:17:28.476Z"
   },
   {
    "duration": 54,
    "start_time": "2021-09-04T06:17:28.505Z"
   },
   {
    "duration": 14,
    "start_time": "2021-09-04T06:17:28.562Z"
   },
   {
    "duration": 25,
    "start_time": "2021-09-04T06:17:28.578Z"
   },
   {
    "duration": 52,
    "start_time": "2021-09-04T06:17:28.606Z"
   },
   {
    "duration": 12,
    "start_time": "2021-09-04T06:17:28.661Z"
   },
   {
    "duration": 28,
    "start_time": "2021-09-04T06:17:28.675Z"
   },
   {
    "duration": 54,
    "start_time": "2021-09-04T06:17:28.706Z"
   },
   {
    "duration": 48,
    "start_time": "2021-09-04T06:17:28.763Z"
   },
   {
    "duration": 43,
    "start_time": "2021-09-04T06:17:28.813Z"
   },
   {
    "duration": 35,
    "start_time": "2021-09-04T06:17:28.858Z"
   },
   {
    "duration": 59,
    "start_time": "2021-09-04T06:17:28.895Z"
   },
   {
    "duration": 6,
    "start_time": "2021-09-04T06:17:28.957Z"
   },
   {
    "duration": 30,
    "start_time": "2021-09-04T06:17:28.965Z"
   },
   {
    "duration": 26,
    "start_time": "2021-09-04T06:17:28.997Z"
   },
   {
    "duration": 36,
    "start_time": "2021-09-04T06:17:29.026Z"
   },
   {
    "duration": 23,
    "start_time": "2021-09-04T06:17:29.065Z"
   },
   {
    "duration": 14,
    "start_time": "2021-09-04T06:17:29.090Z"
   },
   {
    "duration": 351,
    "start_time": "2021-09-04T06:17:29.106Z"
   },
   {
    "duration": 20,
    "start_time": "2021-09-04T06:17:29.460Z"
   },
   {
    "duration": 293,
    "start_time": "2021-09-04T06:17:29.483Z"
   },
   {
    "duration": 25,
    "start_time": "2021-09-04T06:17:29.778Z"
   },
   {
    "duration": 21,
    "start_time": "2021-09-04T06:17:29.806Z"
   },
   {
    "duration": 333,
    "start_time": "2021-09-04T06:17:29.830Z"
   },
   {
    "duration": 10,
    "start_time": "2021-09-04T06:17:30.165Z"
   },
   {
    "duration": 35,
    "start_time": "2021-09-04T06:17:30.177Z"
   },
   {
    "duration": 36,
    "start_time": "2021-09-04T06:17:30.215Z"
   },
   {
    "duration": 339,
    "start_time": "2021-09-04T06:17:30.253Z"
   },
   {
    "duration": 19,
    "start_time": "2021-09-04T06:17:30.594Z"
   },
   {
    "duration": 283,
    "start_time": "2021-09-04T06:17:30.615Z"
   },
   {
    "duration": 24,
    "start_time": "2021-09-04T06:17:30.900Z"
   },
   {
    "duration": 36,
    "start_time": "2021-09-04T06:17:30.926Z"
   },
   {
    "duration": 315,
    "start_time": "2021-09-04T06:17:30.965Z"
   },
   {
    "duration": 9,
    "start_time": "2021-09-04T06:17:31.283Z"
   },
   {
    "duration": 67,
    "start_time": "2021-09-04T06:17:31.294Z"
   },
   {
    "duration": 78,
    "start_time": "2021-09-04T06:17:31.363Z"
   },
   {
    "duration": 44,
    "start_time": "2021-09-04T06:17:31.443Z"
   },
   {
    "duration": 365,
    "start_time": "2021-09-04T06:17:31.489Z"
   },
   {
    "duration": 22,
    "start_time": "2021-09-04T06:17:31.856Z"
   },
   {
    "duration": 343,
    "start_time": "2021-09-04T06:17:31.881Z"
   },
   {
    "duration": 41,
    "start_time": "2021-09-04T06:17:32.227Z"
   },
   {
    "duration": 299,
    "start_time": "2021-09-04T06:17:32.271Z"
   },
   {
    "duration": 15,
    "start_time": "2021-09-04T06:17:32.572Z"
   },
   {
    "duration": 21,
    "start_time": "2021-09-04T06:17:32.589Z"
   },
   {
    "duration": 29,
    "start_time": "2021-09-04T06:17:32.612Z"
   },
   {
    "duration": 314,
    "start_time": "2021-09-04T06:17:32.643Z"
   },
   {
    "duration": 20,
    "start_time": "2021-09-04T06:17:32.959Z"
   },
   {
    "duration": 290,
    "start_time": "2021-09-04T06:17:32.982Z"
   },
   {
    "duration": 25,
    "start_time": "2021-09-04T06:17:33.275Z"
   },
   {
    "duration": 351,
    "start_time": "2021-09-04T06:17:33.303Z"
   },
   {
    "duration": 16,
    "start_time": "2021-09-04T06:17:33.657Z"
   },
   {
    "duration": 23,
    "start_time": "2021-09-04T06:17:33.677Z"
   },
   {
    "duration": 20,
    "start_time": "2021-09-04T06:17:33.703Z"
   },
   {
    "duration": 377,
    "start_time": "2021-09-04T06:17:33.726Z"
   },
   {
    "duration": 22,
    "start_time": "2021-09-04T06:17:34.106Z"
   },
   {
    "duration": 264,
    "start_time": "2021-09-04T06:17:34.154Z"
   },
   {
    "duration": 35,
    "start_time": "2021-09-04T06:17:34.420Z"
   },
   {
    "duration": 418,
    "start_time": "2021-09-04T06:17:34.457Z"
   },
   {
    "duration": 15,
    "start_time": "2021-09-04T06:17:34.877Z"
   },
   {
    "duration": 32,
    "start_time": "2021-09-04T06:17:34.894Z"
   },
   {
    "duration": 348,
    "start_time": "2021-09-04T06:17:34.929Z"
   },
   {
    "duration": 9,
    "start_time": "2021-09-04T06:17:35.280Z"
   },
   {
    "duration": 43,
    "start_time": "2021-09-04T06:17:35.291Z"
   },
   {
    "duration": 278,
    "start_time": "2021-09-04T06:17:35.337Z"
   },
   {
    "duration": 39,
    "start_time": "2021-09-04T06:17:35.618Z"
   },
   {
    "duration": 368,
    "start_time": "2021-09-04T06:17:35.660Z"
   },
   {
    "duration": 38,
    "start_time": "2021-09-04T06:17:36.031Z"
   },
   {
    "duration": 36,
    "start_time": "2021-09-04T06:17:36.072Z"
   },
   {
    "duration": 378,
    "start_time": "2021-09-04T06:17:36.110Z"
   },
   {
    "duration": 19,
    "start_time": "2021-09-04T06:17:36.491Z"
   },
   {
    "duration": 298,
    "start_time": "2021-09-04T06:17:36.512Z"
   },
   {
    "duration": 11,
    "start_time": "2021-09-04T06:17:36.813Z"
   },
   {
    "duration": 407,
    "start_time": "2021-09-04T06:17:36.826Z"
   },
   {
    "duration": 29,
    "start_time": "2021-09-04T06:17:37.236Z"
   },
   {
    "duration": 273,
    "start_time": "2021-09-04T06:17:37.267Z"
   },
   {
    "duration": 16,
    "start_time": "2021-09-04T06:17:37.543Z"
   },
   {
    "duration": 38,
    "start_time": "2021-09-04T06:17:37.561Z"
   },
   {
    "duration": 291,
    "start_time": "2021-09-04T06:17:37.601Z"
   },
   {
    "duration": 20,
    "start_time": "2021-09-04T06:17:37.894Z"
   },
   {
    "duration": 272,
    "start_time": "2021-09-04T06:17:37.917Z"
   },
   {
    "duration": 15,
    "start_time": "2021-09-04T06:17:38.192Z"
   },
   {
    "duration": 60,
    "start_time": "2021-09-04T06:17:38.209Z"
   },
   {
    "duration": 31,
    "start_time": "2021-09-04T06:17:38.271Z"
   },
   {
    "duration": 40,
    "start_time": "2021-09-04T06:17:38.304Z"
   },
   {
    "duration": 38,
    "start_time": "2021-09-04T06:17:38.346Z"
   },
   {
    "duration": 35,
    "start_time": "2021-09-04T06:17:38.386Z"
   },
   {
    "duration": 33,
    "start_time": "2021-09-04T06:17:38.423Z"
   },
   {
    "duration": 28,
    "start_time": "2021-09-04T06:17:38.458Z"
   },
   {
    "duration": 21,
    "start_time": "2021-09-04T06:17:38.488Z"
   },
   {
    "duration": 38,
    "start_time": "2021-09-04T06:17:38.511Z"
   },
   {
    "duration": 23,
    "start_time": "2021-09-04T06:17:38.551Z"
   },
   {
    "duration": 32,
    "start_time": "2021-09-04T06:17:38.576Z"
   },
   {
    "duration": 36,
    "start_time": "2021-09-04T06:17:38.611Z"
   },
   {
    "duration": 34,
    "start_time": "2021-09-04T06:17:38.650Z"
   },
   {
    "duration": 239,
    "start_time": "2021-09-04T06:17:38.687Z"
   },
   {
    "duration": 227,
    "start_time": "2021-09-04T06:17:38.929Z"
   },
   {
    "duration": 6,
    "start_time": "2021-09-04T06:17:39.159Z"
   },
   {
    "duration": 16,
    "start_time": "2021-09-04T06:17:39.168Z"
   },
   {
    "duration": 18,
    "start_time": "2021-09-04T06:17:39.187Z"
   },
   {
    "duration": 17,
    "start_time": "2021-09-04T06:17:39.208Z"
   },
   {
    "duration": 38,
    "start_time": "2021-09-04T06:17:39.227Z"
   },
   {
    "duration": 35,
    "start_time": "2021-09-04T06:17:39.267Z"
   },
   {
    "duration": 18,
    "start_time": "2021-09-04T06:17:39.304Z"
   },
   {
    "duration": 42,
    "start_time": "2021-09-04T06:17:39.324Z"
   },
   {
    "duration": 15,
    "start_time": "2021-09-04T06:17:39.369Z"
   },
   {
    "duration": 31,
    "start_time": "2021-09-04T06:17:39.386Z"
   },
   {
    "duration": 35,
    "start_time": "2021-09-04T06:17:39.420Z"
   },
   {
    "duration": 27,
    "start_time": "2021-09-04T06:17:39.458Z"
   },
   {
    "duration": 28,
    "start_time": "2021-09-04T06:17:39.488Z"
   },
   {
    "duration": 291,
    "start_time": "2021-09-04T06:17:39.518Z"
   },
   {
    "duration": 21,
    "start_time": "2021-09-04T06:17:39.811Z"
   },
   {
    "duration": 292,
    "start_time": "2021-09-04T06:17:39.834Z"
   },
   {
    "duration": 32,
    "start_time": "2021-09-04T06:17:40.128Z"
   },
   {
    "duration": 27,
    "start_time": "2021-09-04T06:17:40.162Z"
   },
   {
    "duration": 39,
    "start_time": "2021-09-04T06:17:40.192Z"
   },
   {
    "duration": 26,
    "start_time": "2021-09-04T06:17:40.233Z"
   },
   {
    "duration": 18,
    "start_time": "2021-09-04T06:17:40.261Z"
   },
   {
    "duration": 40,
    "start_time": "2021-09-04T06:17:40.282Z"
   },
   {
    "duration": 38,
    "start_time": "2021-09-04T06:17:40.325Z"
   },
   {
    "duration": 243,
    "start_time": "2021-09-04T06:17:40.366Z"
   },
   {
    "duration": 5,
    "start_time": "2021-09-04T06:17:40.612Z"
   },
   {
    "duration": 23,
    "start_time": "2021-09-04T06:17:40.620Z"
   },
   {
    "duration": 9,
    "start_time": "2021-09-04T06:17:40.655Z"
   },
   {
    "duration": 12,
    "start_time": "2021-09-04T06:17:40.666Z"
   },
   {
    "duration": 21,
    "start_time": "2021-09-04T06:17:40.681Z"
   },
   {
    "duration": 7,
    "start_time": "2021-09-04T06:17:40.704Z"
   },
   {
    "duration": 15,
    "start_time": "2021-09-04T06:17:40.713Z"
   }
  ],
  "kernelspec": {
   "display_name": "Python 3 (ipykernel)",
   "language": "python",
   "name": "python3"
  },
  "language_info": {
   "codemirror_mode": {
    "name": "ipython",
    "version": 3
   },
   "file_extension": ".py",
   "mimetype": "text/x-python",
   "name": "python",
   "nbconvert_exporter": "python",
   "pygments_lexer": "ipython3",
   "version": "3.9.7"
  },
  "toc": {
   "base_numbering": 1,
   "nav_menu": {
    "height": "108px",
    "width": "192px"
   },
   "number_sections": true,
   "sideBar": true,
   "skip_h1_title": true,
   "title_cell": "Table of Contents",
   "title_sidebar": "Contents",
   "toc_cell": false,
   "toc_position": {
    "height": "calc(100% - 180px)",
    "left": "10px",
    "top": "150px",
    "width": "199px"
   },
   "toc_section_display": true,
   "toc_window_display": true
  }
 },
 "nbformat": 4,
 "nbformat_minor": 5
}
